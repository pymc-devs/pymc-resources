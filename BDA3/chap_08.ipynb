{
 "cells": [
  {
   "cell_type": "markdown",
   "metadata": {},
   "source": [
    "## **Example. Stratified sampling in pre-election polling**"
   ]
  },
  {
   "cell_type": "code",
   "execution_count": 2,
   "metadata": {},
   "outputs": [],
   "source": [
    "%matplotlib inline\n",
    "\n",
    "import numpy as np\n",
    "import matplotlib.pyplot as plt\n",
    "import pymc3 as pm\n",
    "import pandas as pd\n",
    "import scipy.stats as stats\n",
    "import theano.tensor as tt\n",
    "import arviz\n",
    "import seaborn\n",
    "import time\n",
    "\n",
    "import warnings\n",
    "warnings.simplefilter(action='ignore', category=FutureWarning)\n",
    "\n",
    "plt.style.use('seaborn-darkgrid')\n",
    "plt.rc('font', size=12)\n",
    "\n",
    "%config Inline.figure_formats = ['retina']"
   ]
  },
  {
   "cell_type": "markdown",
   "metadata": {},
   "source": [
    "A survey of 1447 adults."
   ]
  },
  {
   "cell_type": "code",
   "execution_count": 7,
   "metadata": {},
   "outputs": [],
   "source": [
    "participants = 1447"
   ]
  },
  {
   "cell_type": "markdown",
   "metadata": {},
   "source": [
    "This is the Table 8.2"
   ]
  },
  {
   "cell_type": "code",
   "execution_count": 8,
   "metadata": {},
   "outputs": [
    {
     "data": {
      "text/html": [
       "<div>\n",
       "<style scoped>\n",
       "    .dataframe tbody tr th:only-of-type {\n",
       "        vertical-align: middle;\n",
       "    }\n",
       "\n",
       "    .dataframe tbody tr th {\n",
       "        vertical-align: top;\n",
       "    }\n",
       "\n",
       "    .dataframe thead th {\n",
       "        text-align: right;\n",
       "    }\n",
       "</style>\n",
       "<table border=\"1\" class=\"dataframe\">\n",
       "  <thead>\n",
       "    <tr style=\"text-align: right;\">\n",
       "      <th></th>\n",
       "      <th>region</th>\n",
       "      <th>density</th>\n",
       "      <th>bush</th>\n",
       "      <th>dukakis</th>\n",
       "      <th>other</th>\n",
       "      <th>proportion</th>\n",
       "    </tr>\n",
       "  </thead>\n",
       "  <tbody>\n",
       "    <tr>\n",
       "      <th>0</th>\n",
       "      <td>Northeast</td>\n",
       "      <td>I</td>\n",
       "      <td>0.298</td>\n",
       "      <td>0.617</td>\n",
       "      <td>0.085</td>\n",
       "      <td>0.032</td>\n",
       "    </tr>\n",
       "    <tr>\n",
       "      <th>1</th>\n",
       "      <td>Northeast</td>\n",
       "      <td>II</td>\n",
       "      <td>0.500</td>\n",
       "      <td>0.478</td>\n",
       "      <td>0.022</td>\n",
       "      <td>0.032</td>\n",
       "    </tr>\n",
       "    <tr>\n",
       "      <th>2</th>\n",
       "      <td>Northeast</td>\n",
       "      <td>III</td>\n",
       "      <td>0.467</td>\n",
       "      <td>0.413</td>\n",
       "      <td>0.120</td>\n",
       "      <td>0.115</td>\n",
       "    </tr>\n",
       "    <tr>\n",
       "      <th>3</th>\n",
       "      <td>Northeast</td>\n",
       "      <td>IV</td>\n",
       "      <td>0.464</td>\n",
       "      <td>0.522</td>\n",
       "      <td>0.014</td>\n",
       "      <td>0.048</td>\n",
       "    </tr>\n",
       "    <tr>\n",
       "      <th>4</th>\n",
       "      <td>Midwest</td>\n",
       "      <td>I</td>\n",
       "      <td>0.404</td>\n",
       "      <td>0.489</td>\n",
       "      <td>0.106</td>\n",
       "      <td>0.032</td>\n",
       "    </tr>\n",
       "    <tr>\n",
       "      <th>5</th>\n",
       "      <td>Midwest</td>\n",
       "      <td>II</td>\n",
       "      <td>0.447</td>\n",
       "      <td>0.447</td>\n",
       "      <td>0.106</td>\n",
       "      <td>0.065</td>\n",
       "    </tr>\n",
       "    <tr>\n",
       "      <th>6</th>\n",
       "      <td>Midwest</td>\n",
       "      <td>III</td>\n",
       "      <td>0.509</td>\n",
       "      <td>0.388</td>\n",
       "      <td>0.103</td>\n",
       "      <td>0.080</td>\n",
       "    </tr>\n",
       "    <tr>\n",
       "      <th>7</th>\n",
       "      <td>Midwest</td>\n",
       "      <td>IV</td>\n",
       "      <td>0.552</td>\n",
       "      <td>0.338</td>\n",
       "      <td>0.110</td>\n",
       "      <td>0.100</td>\n",
       "    </tr>\n",
       "    <tr>\n",
       "      <th>8</th>\n",
       "      <td>South</td>\n",
       "      <td>I</td>\n",
       "      <td>0.571</td>\n",
       "      <td>0.286</td>\n",
       "      <td>0.143</td>\n",
       "      <td>0.015</td>\n",
       "    </tr>\n",
       "    <tr>\n",
       "      <th>9</th>\n",
       "      <td>South</td>\n",
       "      <td>II</td>\n",
       "      <td>0.469</td>\n",
       "      <td>0.406</td>\n",
       "      <td>0.125</td>\n",
       "      <td>0.066</td>\n",
       "    </tr>\n",
       "    <tr>\n",
       "      <th>10</th>\n",
       "      <td>South</td>\n",
       "      <td>III</td>\n",
       "      <td>0.515</td>\n",
       "      <td>0.404</td>\n",
       "      <td>0.081</td>\n",
       "      <td>0.068</td>\n",
       "    </tr>\n",
       "    <tr>\n",
       "      <th>11</th>\n",
       "      <td>South</td>\n",
       "      <td>IV</td>\n",
       "      <td>0.555</td>\n",
       "      <td>0.352</td>\n",
       "      <td>0.093</td>\n",
       "      <td>0.126</td>\n",
       "    </tr>\n",
       "    <tr>\n",
       "      <th>12</th>\n",
       "      <td>West</td>\n",
       "      <td>I</td>\n",
       "      <td>0.500</td>\n",
       "      <td>0.471</td>\n",
       "      <td>0.029</td>\n",
       "      <td>0.023</td>\n",
       "    </tr>\n",
       "    <tr>\n",
       "      <th>13</th>\n",
       "      <td>West</td>\n",
       "      <td>II</td>\n",
       "      <td>0.532</td>\n",
       "      <td>0.351</td>\n",
       "      <td>0.117</td>\n",
       "      <td>0.053</td>\n",
       "    </tr>\n",
       "    <tr>\n",
       "      <th>14</th>\n",
       "      <td>West</td>\n",
       "      <td>III</td>\n",
       "      <td>0.540</td>\n",
       "      <td>0.371</td>\n",
       "      <td>0.089</td>\n",
       "      <td>0.086</td>\n",
       "    </tr>\n",
       "    <tr>\n",
       "      <th>15</th>\n",
       "      <td>West</td>\n",
       "      <td>IV</td>\n",
       "      <td>0.554</td>\n",
       "      <td>0.361</td>\n",
       "      <td>0.084</td>\n",
       "      <td>0.057</td>\n",
       "    </tr>\n",
       "  </tbody>\n",
       "</table>\n",
       "</div>"
      ],
      "text/plain": [
       "       region density   bush  dukakis  other  proportion\n",
       "0   Northeast       I  0.298    0.617  0.085       0.032\n",
       "1   Northeast      II  0.500    0.478  0.022       0.032\n",
       "2   Northeast     III  0.467    0.413  0.120       0.115\n",
       "3   Northeast      IV  0.464    0.522  0.014       0.048\n",
       "4     Midwest       I  0.404    0.489  0.106       0.032\n",
       "5     Midwest      II  0.447    0.447  0.106       0.065\n",
       "6     Midwest     III  0.509    0.388  0.103       0.080\n",
       "7     Midwest      IV  0.552    0.338  0.110       0.100\n",
       "8       South       I  0.571    0.286  0.143       0.015\n",
       "9       South      II  0.469    0.406  0.125       0.066\n",
       "10      South     III  0.515    0.404  0.081       0.068\n",
       "11      South      IV  0.555    0.352  0.093       0.126\n",
       "12       West       I  0.500    0.471  0.029       0.023\n",
       "13       West      II  0.532    0.351  0.117       0.053\n",
       "14       West     III  0.540    0.371  0.089       0.086\n",
       "15       West      IV  0.554    0.361  0.084       0.057"
      ]
     },
     "execution_count": 8,
     "metadata": {},
     "output_type": "execute_result"
    }
   ],
   "source": [
    "data = pd.read_csv('data/cbs_survey.txt', sep=' ', skiprows=2, skipinitialspace=True, index_col=False)\n",
    "data"
   ]
  },
  {
   "cell_type": "markdown",
   "metadata": {},
   "source": [
    "We need the number of people of each region and each candidate."
   ]
  },
  {
   "cell_type": "code",
   "execution_count": 9,
   "metadata": {},
   "outputs": [
    {
     "name": "stdout",
     "output_type": "stream",
     "text": [
      "[[0.298 0.617 0.085]\n",
      " [0.5   0.478 0.022]\n",
      " [0.467 0.413 0.12 ]\n",
      " [0.464 0.522 0.014]\n",
      " [0.404 0.489 0.106]\n",
      " [0.447 0.447 0.106]\n",
      " [0.509 0.388 0.103]\n",
      " [0.552 0.338 0.11 ]\n",
      " [0.571 0.286 0.143]\n",
      " [0.469 0.406 0.125]\n",
      " [0.515 0.404 0.081]\n",
      " [0.555 0.352 0.093]\n",
      " [0.5   0.471 0.029]\n",
      " [0.532 0.351 0.117]\n",
      " [0.54  0.371 0.089]\n",
      " [0.554 0.361 0.084]]\n"
     ]
    }
   ],
   "source": [
    "data_obs = data[['bush', 'dukakis', 'other']].to_numpy()\n",
    "print(data_obs)"
   ]
  },
  {
   "cell_type": "code",
   "execution_count": 10,
   "metadata": {},
   "outputs": [
    {
     "name": "stdout",
     "output_type": "stream",
     "text": [
      "[ 46.304  46.304 166.405  69.456  46.304  94.055 115.76  144.7    21.705\n",
      "  95.502  98.396 182.322  33.281  76.691 124.442  82.479]\n"
     ]
    }
   ],
   "source": [
    "proportion = data['proportion'].to_numpy() * participants\n",
    "print(proportion)"
   ]
  },
  {
   "cell_type": "code",
   "execution_count": 11,
   "metadata": {},
   "outputs": [
    {
     "data": {
      "text/plain": [
       "1444.106"
      ]
     },
     "execution_count": 11,
     "metadata": {},
     "output_type": "execute_result"
    }
   ],
   "source": [
    "np.sum(proportion)"
   ]
  },
  {
   "cell_type": "code",
   "execution_count": 12,
   "metadata": {},
   "outputs": [
    {
     "name": "stdout",
     "output_type": "stream",
     "text": [
      "(16, 3)\n",
      "(16,)\n"
     ]
    }
   ],
   "source": [
    "print(data_obs.shape)\n",
    "print(proportion.shape)"
   ]
  },
  {
   "cell_type": "code",
   "execution_count": 14,
   "metadata": {},
   "outputs": [
    {
     "data": {
      "text/plain": [
       "1447.0"
      ]
     },
     "execution_count": 14,
     "metadata": {},
     "output_type": "execute_result"
    }
   ],
   "source": [
    "values = data_obs[:, :] * proportion.reshape(16, -1)\n",
    "values = np.round(values)\n",
    "np.sum(values)   # Check if the sum is equal to 1447"
   ]
  },
  {
   "cell_type": "markdown",
   "metadata": {},
   "source": [
    "### **Nonhierarchical model**"
   ]
  },
  {
   "cell_type": "code",
   "execution_count": 144,
   "metadata": {},
   "outputs": [],
   "source": [
    "with pm.Model() as model_non_hiera:\n",
    "    \n",
    "    thetas = pm.Dirichlet('thetas', a=np.ones_like(data_obs), shape=(16, 3))\n",
    "    post = pm.Multinomial('post', n=np.sum(values, axis=1), p=thetas, observed=values)"
   ]
  },
  {
   "cell_type": "code",
   "execution_count": 11,
   "metadata": {},
   "outputs": [
    {
     "data": {
      "text/plain": [
       "thetas_stickbreaking__    -41.64\n",
       "post                     -322.85\n",
       "Name: Log-probability of test_point, dtype: float64"
      ]
     },
     "execution_count": 11,
     "metadata": {},
     "output_type": "execute_result"
    }
   ],
   "source": [
    "model_non_hiera.check_test_point()"
   ]
  },
  {
   "cell_type": "code",
   "execution_count": 12,
   "metadata": {},
   "outputs": [
    {
     "data": {
      "image/svg+xml": [
       "<?xml version=\"1.0\" encoding=\"UTF-8\" standalone=\"no\"?>\n",
       "<!DOCTYPE svg PUBLIC \"-//W3C//DTD SVG 1.1//EN\"\n",
       " \"http://www.w3.org/Graphics/SVG/1.1/DTD/svg11.dtd\">\n",
       "<!-- Generated by graphviz version 2.40.1 (20161225.0304)\n",
       " -->\n",
       "<!-- Title: %3 Pages: 1 -->\n",
       "<svg width=\"200pt\" height=\"171pt\"\n",
       " viewBox=\"0.00 0.00 200.00 171.00\" xmlns=\"http://www.w3.org/2000/svg\" xmlns:xlink=\"http://www.w3.org/1999/xlink\">\n",
       "<g id=\"graph0\" class=\"graph\" transform=\"scale(1 1) rotate(0) translate(4 167)\">\n",
       "<title>%3</title>\n",
       "<polygon fill=\"#ffffff\" stroke=\"transparent\" points=\"-4,4 -4,-167 196,-167 196,4 -4,4\"/>\n",
       "<g id=\"clust1\" class=\"cluster\">\n",
       "<title>cluster16 x 3</title>\n",
       "<path fill=\"none\" stroke=\"#000000\" d=\"M20,-8C20,-8 172,-8 172,-8 178,-8 184,-14 184,-20 184,-20 184,-143 184,-143 184,-149 178,-155 172,-155 172,-155 20,-155 20,-155 14,-155 8,-149 8,-143 8,-143 8,-20 8,-20 8,-14 14,-8 20,-8\"/>\n",
       "<text text-anchor=\"middle\" x=\"158.5\" y=\"-15.8\" font-family=\"Times,serif\" font-size=\"14.00\" fill=\"#000000\">16 x 3</text>\n",
       "</g>\n",
       "<!-- thetas -->\n",
       "<g id=\"node1\" class=\"node\">\n",
       "<title>thetas</title>\n",
       "<ellipse fill=\"none\" stroke=\"#000000\" cx=\"96\" cy=\"-129\" rx=\"72.2875\" ry=\"18\"/>\n",
       "<text text-anchor=\"middle\" x=\"96\" y=\"-125.3\" font-family=\"Times,serif\" font-size=\"14.00\" fill=\"#000000\">thetas ~ Dirichlet</text>\n",
       "</g>\n",
       "<!-- post -->\n",
       "<g id=\"node2\" class=\"node\">\n",
       "<title>post</title>\n",
       "<ellipse fill=\"#d3d3d3\" stroke=\"#000000\" cx=\"96\" cy=\"-57\" rx=\"79.8859\" ry=\"18\"/>\n",
       "<text text-anchor=\"middle\" x=\"96\" y=\"-53.3\" font-family=\"Times,serif\" font-size=\"14.00\" fill=\"#000000\">post ~ Multinomial</text>\n",
       "</g>\n",
       "<!-- thetas&#45;&gt;post -->\n",
       "<g id=\"edge1\" class=\"edge\">\n",
       "<title>thetas&#45;&gt;post</title>\n",
       "<path fill=\"none\" stroke=\"#000000\" d=\"M96,-110.8314C96,-103.131 96,-93.9743 96,-85.4166\"/>\n",
       "<polygon fill=\"#000000\" stroke=\"#000000\" points=\"99.5001,-85.4132 96,-75.4133 92.5001,-85.4133 99.5001,-85.4132\"/>\n",
       "</g>\n",
       "</g>\n",
       "</svg>\n"
      ],
      "text/plain": [
       "<graphviz.dot.Digraph at 0x7f39402fa9e8>"
      ]
     },
     "execution_count": 12,
     "metadata": {},
     "output_type": "execute_result"
    }
   ],
   "source": [
    "pm.model_to_graphviz(model_non_hiera)"
   ]
  },
  {
   "cell_type": "code",
   "execution_count": 13,
   "metadata": {},
   "outputs": [
    {
     "name": "stderr",
     "output_type": "stream",
     "text": [
      "Auto-assigning NUTS sampler...\n",
      "Initializing NUTS using jitter+adapt_diag...\n",
      "Multiprocess sampling (4 chains in 4 jobs)\n",
      "NUTS: [thetas]\n",
      "Sampling 4 chains, 0 divergences: 100%|██████████| 16000/16000 [00:13<00:00, 1209.89draws/s]\n"
     ]
    }
   ],
   "source": [
    "with model_non_hiera:\n",
    "    trace_1 = pm.sample(draws=2000, tune=2000)"
   ]
  },
  {
   "cell_type": "code",
   "execution_count": 16,
   "metadata": {},
   "outputs": [
    {
     "data": {
      "image/png": "[encoded data removed]",
      "text/plain": [
       "<Figure size 864x144 with 2 Axes>"
      ]
     },
     "metadata": {},
     "output_type": "display_data"
    }
   ],
   "source": [
    "pm.traceplot(trace_1, var_names=['thetas']);"
   ]
  },
  {
   "cell_type": "code",
   "execution_count": 14,
   "metadata": {
    "scrolled": true
   },
   "outputs": [
    {
     "data": {
      "text/html": [
       "<div>\n",
       "<style scoped>\n",
       "    .dataframe tbody tr th:only-of-type {\n",
       "        vertical-align: middle;\n",
       "    }\n",
       "\n",
       "    .dataframe tbody tr th {\n",
       "        vertical-align: top;\n",
       "    }\n",
       "\n",
       "    .dataframe thead th {\n",
       "        text-align: right;\n",
       "    }\n",
       "</style>\n",
       "<table border=\"1\" class=\"dataframe\">\n",
       "  <thead>\n",
       "    <tr style=\"text-align: right;\">\n",
       "      <th></th>\n",
       "      <th>mean</th>\n",
       "      <th>sd</th>\n",
       "      <th>hpd_3%</th>\n",
       "      <th>hpd_97%</th>\n",
       "      <th>mcse_mean</th>\n",
       "      <th>mcse_sd</th>\n",
       "      <th>ess_mean</th>\n",
       "      <th>ess_sd</th>\n",
       "      <th>ess_bulk</th>\n",
       "      <th>ess_tail</th>\n",
       "      <th>r_hat</th>\n",
       "    </tr>\n",
       "  </thead>\n",
       "  <tbody>\n",
       "    <tr>\n",
       "      <th>thetas[0,0]</th>\n",
       "      <td>0.300</td>\n",
       "      <td>0.064</td>\n",
       "      <td>0.184</td>\n",
       "      <td>0.421</td>\n",
       "      <td>0.000</td>\n",
       "      <td>0.000</td>\n",
       "      <td>19180.0</td>\n",
       "      <td>16774.0</td>\n",
       "      <td>19307.0</td>\n",
       "      <td>6091.0</td>\n",
       "      <td>1.0</td>\n",
       "    </tr>\n",
       "    <tr>\n",
       "      <th>thetas[0,1]</th>\n",
       "      <td>0.600</td>\n",
       "      <td>0.068</td>\n",
       "      <td>0.476</td>\n",
       "      <td>0.731</td>\n",
       "      <td>0.000</td>\n",
       "      <td>0.000</td>\n",
       "      <td>20053.0</td>\n",
       "      <td>19440.0</td>\n",
       "      <td>20049.0</td>\n",
       "      <td>5982.0</td>\n",
       "      <td>1.0</td>\n",
       "    </tr>\n",
       "    <tr>\n",
       "      <th>thetas[0,2]</th>\n",
       "      <td>0.100</td>\n",
       "      <td>0.042</td>\n",
       "      <td>0.030</td>\n",
       "      <td>0.177</td>\n",
       "      <td>0.000</td>\n",
       "      <td>0.000</td>\n",
       "      <td>17561.0</td>\n",
       "      <td>12188.0</td>\n",
       "      <td>18066.0</td>\n",
       "      <td>6011.0</td>\n",
       "      <td>1.0</td>\n",
       "    </tr>\n",
       "    <tr>\n",
       "      <th>thetas[1,0]</th>\n",
       "      <td>0.489</td>\n",
       "      <td>0.072</td>\n",
       "      <td>0.354</td>\n",
       "      <td>0.623</td>\n",
       "      <td>0.000</td>\n",
       "      <td>0.000</td>\n",
       "      <td>23445.0</td>\n",
       "      <td>22381.0</td>\n",
       "      <td>23545.0</td>\n",
       "      <td>5592.0</td>\n",
       "      <td>1.0</td>\n",
       "    </tr>\n",
       "    <tr>\n",
       "      <th>thetas[1,1]</th>\n",
       "      <td>0.470</td>\n",
       "      <td>0.072</td>\n",
       "      <td>0.338</td>\n",
       "      <td>0.606</td>\n",
       "      <td>0.000</td>\n",
       "      <td>0.000</td>\n",
       "      <td>21942.0</td>\n",
       "      <td>20049.0</td>\n",
       "      <td>22004.0</td>\n",
       "      <td>6000.0</td>\n",
       "      <td>1.0</td>\n",
       "    </tr>\n",
       "    <tr>\n",
       "      <th>thetas[1,2]</th>\n",
       "      <td>0.041</td>\n",
       "      <td>0.028</td>\n",
       "      <td>0.001</td>\n",
       "      <td>0.091</td>\n",
       "      <td>0.000</td>\n",
       "      <td>0.000</td>\n",
       "      <td>16066.0</td>\n",
       "      <td>9055.0</td>\n",
       "      <td>16361.0</td>\n",
       "      <td>5270.0</td>\n",
       "      <td>1.0</td>\n",
       "    </tr>\n",
       "    <tr>\n",
       "      <th>thetas[2,0]</th>\n",
       "      <td>0.465</td>\n",
       "      <td>0.039</td>\n",
       "      <td>0.390</td>\n",
       "      <td>0.537</td>\n",
       "      <td>0.000</td>\n",
       "      <td>0.000</td>\n",
       "      <td>17977.0</td>\n",
       "      <td>17356.0</td>\n",
       "      <td>17922.0</td>\n",
       "      <td>6509.0</td>\n",
       "      <td>1.0</td>\n",
       "    </tr>\n",
       "    <tr>\n",
       "      <th>thetas[2,1]</th>\n",
       "      <td>0.412</td>\n",
       "      <td>0.038</td>\n",
       "      <td>0.339</td>\n",
       "      <td>0.483</td>\n",
       "      <td>0.000</td>\n",
       "      <td>0.000</td>\n",
       "      <td>19789.0</td>\n",
       "      <td>19706.0</td>\n",
       "      <td>19714.0</td>\n",
       "      <td>6207.0</td>\n",
       "      <td>1.0</td>\n",
       "    </tr>\n",
       "    <tr>\n",
       "      <th>thetas[2,2]</th>\n",
       "      <td>0.124</td>\n",
       "      <td>0.025</td>\n",
       "      <td>0.077</td>\n",
       "      <td>0.170</td>\n",
       "      <td>0.000</td>\n",
       "      <td>0.000</td>\n",
       "      <td>18393.0</td>\n",
       "      <td>15598.0</td>\n",
       "      <td>18954.0</td>\n",
       "      <td>6378.0</td>\n",
       "      <td>1.0</td>\n",
       "    </tr>\n",
       "    <tr>\n",
       "      <th>thetas[3,0]</th>\n",
       "      <td>0.458</td>\n",
       "      <td>0.058</td>\n",
       "      <td>0.351</td>\n",
       "      <td>0.564</td>\n",
       "      <td>0.000</td>\n",
       "      <td>0.000</td>\n",
       "      <td>18586.0</td>\n",
       "      <td>18308.0</td>\n",
       "      <td>18494.0</td>\n",
       "      <td>6064.0</td>\n",
       "      <td>1.0</td>\n",
       "    </tr>\n",
       "    <tr>\n",
       "      <th>thetas[3,1]</th>\n",
       "      <td>0.514</td>\n",
       "      <td>0.058</td>\n",
       "      <td>0.404</td>\n",
       "      <td>0.618</td>\n",
       "      <td>0.000</td>\n",
       "      <td>0.000</td>\n",
       "      <td>17792.0</td>\n",
       "      <td>17346.0</td>\n",
       "      <td>17741.0</td>\n",
       "      <td>6274.0</td>\n",
       "      <td>1.0</td>\n",
       "    </tr>\n",
       "    <tr>\n",
       "      <th>thetas[3,2]</th>\n",
       "      <td>0.028</td>\n",
       "      <td>0.019</td>\n",
       "      <td>0.001</td>\n",
       "      <td>0.063</td>\n",
       "      <td>0.000</td>\n",
       "      <td>0.000</td>\n",
       "      <td>15207.0</td>\n",
       "      <td>8697.0</td>\n",
       "      <td>14342.0</td>\n",
       "      <td>4827.0</td>\n",
       "      <td>1.0</td>\n",
       "    </tr>\n",
       "    <tr>\n",
       "      <th>thetas[4,0]</th>\n",
       "      <td>0.400</td>\n",
       "      <td>0.069</td>\n",
       "      <td>0.273</td>\n",
       "      <td>0.526</td>\n",
       "      <td>0.001</td>\n",
       "      <td>0.000</td>\n",
       "      <td>17587.0</td>\n",
       "      <td>16104.0</td>\n",
       "      <td>17596.0</td>\n",
       "      <td>5743.0</td>\n",
       "      <td>1.0</td>\n",
       "    </tr>\n",
       "    <tr>\n",
       "      <th>thetas[4,1]</th>\n",
       "      <td>0.479</td>\n",
       "      <td>0.070</td>\n",
       "      <td>0.343</td>\n",
       "      <td>0.605</td>\n",
       "      <td>0.001</td>\n",
       "      <td>0.000</td>\n",
       "      <td>17138.0</td>\n",
       "      <td>16507.0</td>\n",
       "      <td>16999.0</td>\n",
       "      <td>5744.0</td>\n",
       "      <td>1.0</td>\n",
       "    </tr>\n",
       "    <tr>\n",
       "      <th>thetas[4,2]</th>\n",
       "      <td>0.121</td>\n",
       "      <td>0.046</td>\n",
       "      <td>0.042</td>\n",
       "      <td>0.207</td>\n",
       "      <td>0.000</td>\n",
       "      <td>0.000</td>\n",
       "      <td>16258.0</td>\n",
       "      <td>10874.0</td>\n",
       "      <td>17055.0</td>\n",
       "      <td>5202.0</td>\n",
       "      <td>1.0</td>\n",
       "    </tr>\n",
       "    <tr>\n",
       "      <th>thetas[5,0]</th>\n",
       "      <td>0.444</td>\n",
       "      <td>0.049</td>\n",
       "      <td>0.357</td>\n",
       "      <td>0.538</td>\n",
       "      <td>0.000</td>\n",
       "      <td>0.000</td>\n",
       "      <td>19997.0</td>\n",
       "      <td>19373.0</td>\n",
       "      <td>20145.0</td>\n",
       "      <td>6618.0</td>\n",
       "      <td>1.0</td>\n",
       "    </tr>\n",
       "    <tr>\n",
       "      <th>thetas[5,1]</th>\n",
       "      <td>0.443</td>\n",
       "      <td>0.050</td>\n",
       "      <td>0.353</td>\n",
       "      <td>0.535</td>\n",
       "      <td>0.000</td>\n",
       "      <td>0.000</td>\n",
       "      <td>19661.0</td>\n",
       "      <td>18811.0</td>\n",
       "      <td>19757.0</td>\n",
       "      <td>5753.0</td>\n",
       "      <td>1.0</td>\n",
       "    </tr>\n",
       "    <tr>\n",
       "      <th>thetas[5,2]</th>\n",
       "      <td>0.113</td>\n",
       "      <td>0.032</td>\n",
       "      <td>0.056</td>\n",
       "      <td>0.172</td>\n",
       "      <td>0.000</td>\n",
       "      <td>0.000</td>\n",
       "      <td>17878.0</td>\n",
       "      <td>13674.0</td>\n",
       "      <td>18556.0</td>\n",
       "      <td>6129.0</td>\n",
       "      <td>1.0</td>\n",
       "    </tr>\n",
       "    <tr>\n",
       "      <th>thetas[6,0]</th>\n",
       "      <td>0.504</td>\n",
       "      <td>0.046</td>\n",
       "      <td>0.417</td>\n",
       "      <td>0.588</td>\n",
       "      <td>0.000</td>\n",
       "      <td>0.000</td>\n",
       "      <td>18608.0</td>\n",
       "      <td>18161.0</td>\n",
       "      <td>18563.0</td>\n",
       "      <td>5560.0</td>\n",
       "      <td>1.0</td>\n",
       "    </tr>\n",
       "    <tr>\n",
       "      <th>thetas[6,1]</th>\n",
       "      <td>0.386</td>\n",
       "      <td>0.044</td>\n",
       "      <td>0.303</td>\n",
       "      <td>0.470</td>\n",
       "      <td>0.000</td>\n",
       "      <td>0.000</td>\n",
       "      <td>18768.0</td>\n",
       "      <td>17850.0</td>\n",
       "      <td>18836.0</td>\n",
       "      <td>6087.0</td>\n",
       "      <td>1.0</td>\n",
       "    </tr>\n",
       "    <tr>\n",
       "      <th>thetas[6,2]</th>\n",
       "      <td>0.109</td>\n",
       "      <td>0.029</td>\n",
       "      <td>0.059</td>\n",
       "      <td>0.164</td>\n",
       "      <td>0.000</td>\n",
       "      <td>0.000</td>\n",
       "      <td>17497.0</td>\n",
       "      <td>14364.0</td>\n",
       "      <td>17453.0</td>\n",
       "      <td>6184.0</td>\n",
       "      <td>1.0</td>\n",
       "    </tr>\n",
       "    <tr>\n",
       "      <th>thetas[7,0]</th>\n",
       "      <td>0.547</td>\n",
       "      <td>0.040</td>\n",
       "      <td>0.474</td>\n",
       "      <td>0.622</td>\n",
       "      <td>0.000</td>\n",
       "      <td>0.000</td>\n",
       "      <td>21412.0</td>\n",
       "      <td>21150.0</td>\n",
       "      <td>21496.0</td>\n",
       "      <td>6089.0</td>\n",
       "      <td>1.0</td>\n",
       "    </tr>\n",
       "    <tr>\n",
       "      <th>thetas[7,1]</th>\n",
       "      <td>0.338</td>\n",
       "      <td>0.037</td>\n",
       "      <td>0.272</td>\n",
       "      <td>0.411</td>\n",
       "      <td>0.000</td>\n",
       "      <td>0.000</td>\n",
       "      <td>20017.0</td>\n",
       "      <td>19100.0</td>\n",
       "      <td>20019.0</td>\n",
       "      <td>6150.0</td>\n",
       "      <td>1.0</td>\n",
       "    </tr>\n",
       "    <tr>\n",
       "      <th>thetas[7,2]</th>\n",
       "      <td>0.115</td>\n",
       "      <td>0.026</td>\n",
       "      <td>0.066</td>\n",
       "      <td>0.162</td>\n",
       "      <td>0.000</td>\n",
       "      <td>0.000</td>\n",
       "      <td>18083.0</td>\n",
       "      <td>13995.0</td>\n",
       "      <td>19176.0</td>\n",
       "      <td>5880.0</td>\n",
       "      <td>1.0</td>\n",
       "    </tr>\n",
       "    <tr>\n",
       "      <th>thetas[8,0]</th>\n",
       "      <td>0.541</td>\n",
       "      <td>0.099</td>\n",
       "      <td>0.354</td>\n",
       "      <td>0.721</td>\n",
       "      <td>0.001</td>\n",
       "      <td>0.001</td>\n",
       "      <td>18432.0</td>\n",
       "      <td>17240.0</td>\n",
       "      <td>18477.0</td>\n",
       "      <td>5688.0</td>\n",
       "      <td>1.0</td>\n",
       "    </tr>\n",
       "    <tr>\n",
       "      <th>thetas[8,1]</th>\n",
       "      <td>0.292</td>\n",
       "      <td>0.091</td>\n",
       "      <td>0.124</td>\n",
       "      <td>0.459</td>\n",
       "      <td>0.001</td>\n",
       "      <td>0.001</td>\n",
       "      <td>15864.0</td>\n",
       "      <td>12321.0</td>\n",
       "      <td>16280.0</td>\n",
       "      <td>6097.0</td>\n",
       "      <td>1.0</td>\n",
       "    </tr>\n",
       "    <tr>\n",
       "      <th>thetas[8,2]</th>\n",
       "      <td>0.166</td>\n",
       "      <td>0.075</td>\n",
       "      <td>0.038</td>\n",
       "      <td>0.303</td>\n",
       "      <td>0.001</td>\n",
       "      <td>0.000</td>\n",
       "      <td>17670.0</td>\n",
       "      <td>11698.0</td>\n",
       "      <td>18854.0</td>\n",
       "      <td>6062.0</td>\n",
       "      <td>1.0</td>\n",
       "    </tr>\n",
       "    <tr>\n",
       "      <th>thetas[9,0]</th>\n",
       "      <td>0.465</td>\n",
       "      <td>0.051</td>\n",
       "      <td>0.368</td>\n",
       "      <td>0.559</td>\n",
       "      <td>0.000</td>\n",
       "      <td>0.000</td>\n",
       "      <td>20497.0</td>\n",
       "      <td>19551.0</td>\n",
       "      <td>20480.0</td>\n",
       "      <td>6329.0</td>\n",
       "      <td>1.0</td>\n",
       "    </tr>\n",
       "    <tr>\n",
       "      <th>thetas[9,1]</th>\n",
       "      <td>0.404</td>\n",
       "      <td>0.050</td>\n",
       "      <td>0.312</td>\n",
       "      <td>0.498</td>\n",
       "      <td>0.000</td>\n",
       "      <td>0.000</td>\n",
       "      <td>19111.0</td>\n",
       "      <td>18156.0</td>\n",
       "      <td>19119.0</td>\n",
       "      <td>6302.0</td>\n",
       "      <td>1.0</td>\n",
       "    </tr>\n",
       "    <tr>\n",
       "      <th>thetas[9,2]</th>\n",
       "      <td>0.131</td>\n",
       "      <td>0.034</td>\n",
       "      <td>0.070</td>\n",
       "      <td>0.193</td>\n",
       "      <td>0.000</td>\n",
       "      <td>0.000</td>\n",
       "      <td>19145.0</td>\n",
       "      <td>15501.0</td>\n",
       "      <td>19268.0</td>\n",
       "      <td>6074.0</td>\n",
       "      <td>1.0</td>\n",
       "    </tr>\n",
       "    <tr>\n",
       "      <th>thetas[10,0]</th>\n",
       "      <td>0.510</td>\n",
       "      <td>0.049</td>\n",
       "      <td>0.418</td>\n",
       "      <td>0.602</td>\n",
       "      <td>0.000</td>\n",
       "      <td>0.000</td>\n",
       "      <td>20163.0</td>\n",
       "      <td>20075.0</td>\n",
       "      <td>20236.0</td>\n",
       "      <td>6517.0</td>\n",
       "      <td>1.0</td>\n",
       "    </tr>\n",
       "    <tr>\n",
       "      <th>thetas[10,1]</th>\n",
       "      <td>0.402</td>\n",
       "      <td>0.048</td>\n",
       "      <td>0.312</td>\n",
       "      <td>0.493</td>\n",
       "      <td>0.000</td>\n",
       "      <td>0.000</td>\n",
       "      <td>19256.0</td>\n",
       "      <td>18108.0</td>\n",
       "      <td>19475.0</td>\n",
       "      <td>5811.0</td>\n",
       "      <td>1.0</td>\n",
       "    </tr>\n",
       "    <tr>\n",
       "      <th>thetas[10,2]</th>\n",
       "      <td>0.088</td>\n",
       "      <td>0.028</td>\n",
       "      <td>0.039</td>\n",
       "      <td>0.139</td>\n",
       "      <td>0.000</td>\n",
       "      <td>0.000</td>\n",
       "      <td>18553.0</td>\n",
       "      <td>13591.0</td>\n",
       "      <td>18557.0</td>\n",
       "      <td>5653.0</td>\n",
       "      <td>1.0</td>\n",
       "    </tr>\n",
       "    <tr>\n",
       "      <th>thetas[11,0]</th>\n",
       "      <td>0.551</td>\n",
       "      <td>0.036</td>\n",
       "      <td>0.485</td>\n",
       "      <td>0.622</td>\n",
       "      <td>0.000</td>\n",
       "      <td>0.000</td>\n",
       "      <td>21649.0</td>\n",
       "      <td>21249.0</td>\n",
       "      <td>21682.0</td>\n",
       "      <td>4983.0</td>\n",
       "      <td>1.0</td>\n",
       "    </tr>\n",
       "    <tr>\n",
       "      <th>thetas[11,1]</th>\n",
       "      <td>0.352</td>\n",
       "      <td>0.035</td>\n",
       "      <td>0.286</td>\n",
       "      <td>0.416</td>\n",
       "      <td>0.000</td>\n",
       "      <td>0.000</td>\n",
       "      <td>21122.0</td>\n",
       "      <td>20302.0</td>\n",
       "      <td>21213.0</td>\n",
       "      <td>5661.0</td>\n",
       "      <td>1.0</td>\n",
       "    </tr>\n",
       "    <tr>\n",
       "      <th>thetas[11,2]</th>\n",
       "      <td>0.097</td>\n",
       "      <td>0.021</td>\n",
       "      <td>0.059</td>\n",
       "      <td>0.137</td>\n",
       "      <td>0.000</td>\n",
       "      <td>0.000</td>\n",
       "      <td>19694.0</td>\n",
       "      <td>16202.0</td>\n",
       "      <td>19883.0</td>\n",
       "      <td>5604.0</td>\n",
       "      <td>1.0</td>\n",
       "    </tr>\n",
       "    <tr>\n",
       "      <th>thetas[12,0]</th>\n",
       "      <td>0.487</td>\n",
       "      <td>0.081</td>\n",
       "      <td>0.339</td>\n",
       "      <td>0.641</td>\n",
       "      <td>0.001</td>\n",
       "      <td>0.000</td>\n",
       "      <td>23686.0</td>\n",
       "      <td>20712.0</td>\n",
       "      <td>23796.0</td>\n",
       "      <td>5543.0</td>\n",
       "      <td>1.0</td>\n",
       "    </tr>\n",
       "    <tr>\n",
       "      <th>thetas[12,1]</th>\n",
       "      <td>0.458</td>\n",
       "      <td>0.082</td>\n",
       "      <td>0.309</td>\n",
       "      <td>0.613</td>\n",
       "      <td>0.001</td>\n",
       "      <td>0.000</td>\n",
       "      <td>21239.0</td>\n",
       "      <td>19865.0</td>\n",
       "      <td>21176.0</td>\n",
       "      <td>5179.0</td>\n",
       "      <td>1.0</td>\n",
       "    </tr>\n",
       "    <tr>\n",
       "      <th>thetas[12,2]</th>\n",
       "      <td>0.054</td>\n",
       "      <td>0.038</td>\n",
       "      <td>0.001</td>\n",
       "      <td>0.123</td>\n",
       "      <td>0.000</td>\n",
       "      <td>0.000</td>\n",
       "      <td>14476.0</td>\n",
       "      <td>7769.0</td>\n",
       "      <td>15893.0</td>\n",
       "      <td>4800.0</td>\n",
       "      <td>1.0</td>\n",
       "    </tr>\n",
       "    <tr>\n",
       "      <th>thetas[13,0]</th>\n",
       "      <td>0.525</td>\n",
       "      <td>0.055</td>\n",
       "      <td>0.421</td>\n",
       "      <td>0.628</td>\n",
       "      <td>0.000</td>\n",
       "      <td>0.000</td>\n",
       "      <td>20132.0</td>\n",
       "      <td>19957.0</td>\n",
       "      <td>20205.0</td>\n",
       "      <td>5866.0</td>\n",
       "      <td>1.0</td>\n",
       "    </tr>\n",
       "    <tr>\n",
       "      <th>thetas[13,1]</th>\n",
       "      <td>0.350</td>\n",
       "      <td>0.054</td>\n",
       "      <td>0.251</td>\n",
       "      <td>0.451</td>\n",
       "      <td>0.000</td>\n",
       "      <td>0.000</td>\n",
       "      <td>19828.0</td>\n",
       "      <td>18962.0</td>\n",
       "      <td>19560.0</td>\n",
       "      <td>5958.0</td>\n",
       "      <td>1.0</td>\n",
       "    </tr>\n",
       "    <tr>\n",
       "      <th>thetas[13,2]</th>\n",
       "      <td>0.125</td>\n",
       "      <td>0.037</td>\n",
       "      <td>0.053</td>\n",
       "      <td>0.190</td>\n",
       "      <td>0.000</td>\n",
       "      <td>0.000</td>\n",
       "      <td>17053.0</td>\n",
       "      <td>13104.0</td>\n",
       "      <td>17165.0</td>\n",
       "      <td>5432.0</td>\n",
       "      <td>1.0</td>\n",
       "    </tr>\n",
       "    <tr>\n",
       "      <th>thetas[14,0]</th>\n",
       "      <td>0.535</td>\n",
       "      <td>0.045</td>\n",
       "      <td>0.449</td>\n",
       "      <td>0.616</td>\n",
       "      <td>0.000</td>\n",
       "      <td>0.000</td>\n",
       "      <td>24100.0</td>\n",
       "      <td>23358.0</td>\n",
       "      <td>24144.0</td>\n",
       "      <td>5356.0</td>\n",
       "      <td>1.0</td>\n",
       "    </tr>\n",
       "    <tr>\n",
       "      <th>thetas[14,1]</th>\n",
       "      <td>0.370</td>\n",
       "      <td>0.043</td>\n",
       "      <td>0.289</td>\n",
       "      <td>0.451</td>\n",
       "      <td>0.000</td>\n",
       "      <td>0.000</td>\n",
       "      <td>20433.0</td>\n",
       "      <td>19480.0</td>\n",
       "      <td>20438.0</td>\n",
       "      <td>5930.0</td>\n",
       "      <td>1.0</td>\n",
       "    </tr>\n",
       "    <tr>\n",
       "      <th>thetas[14,2]</th>\n",
       "      <td>0.095</td>\n",
       "      <td>0.026</td>\n",
       "      <td>0.049</td>\n",
       "      <td>0.145</td>\n",
       "      <td>0.000</td>\n",
       "      <td>0.000</td>\n",
       "      <td>20369.0</td>\n",
       "      <td>15173.0</td>\n",
       "      <td>20674.0</td>\n",
       "      <td>5779.0</td>\n",
       "      <td>1.0</td>\n",
       "    </tr>\n",
       "    <tr>\n",
       "      <th>thetas[15,0]</th>\n",
       "      <td>0.546</td>\n",
       "      <td>0.053</td>\n",
       "      <td>0.444</td>\n",
       "      <td>0.643</td>\n",
       "      <td>0.000</td>\n",
       "      <td>0.000</td>\n",
       "      <td>18238.0</td>\n",
       "      <td>17553.0</td>\n",
       "      <td>18133.0</td>\n",
       "      <td>6414.0</td>\n",
       "      <td>1.0</td>\n",
       "    </tr>\n",
       "    <tr>\n",
       "      <th>thetas[15,1]</th>\n",
       "      <td>0.360</td>\n",
       "      <td>0.050</td>\n",
       "      <td>0.271</td>\n",
       "      <td>0.456</td>\n",
       "      <td>0.000</td>\n",
       "      <td>0.000</td>\n",
       "      <td>19066.0</td>\n",
       "      <td>18464.0</td>\n",
       "      <td>18837.0</td>\n",
       "      <td>6181.0</td>\n",
       "      <td>1.0</td>\n",
       "    </tr>\n",
       "    <tr>\n",
       "      <th>thetas[15,2]</th>\n",
       "      <td>0.093</td>\n",
       "      <td>0.031</td>\n",
       "      <td>0.038</td>\n",
       "      <td>0.150</td>\n",
       "      <td>0.000</td>\n",
       "      <td>0.000</td>\n",
       "      <td>18422.0</td>\n",
       "      <td>13482.0</td>\n",
       "      <td>18941.0</td>\n",
       "      <td>5777.0</td>\n",
       "      <td>1.0</td>\n",
       "    </tr>\n",
       "  </tbody>\n",
       "</table>\n",
       "</div>"
      ],
      "text/plain": [
       "               mean     sd  hpd_3%  hpd_97%  mcse_mean  mcse_sd  ess_mean  \\\n",
       "thetas[0,0]   0.300  0.064   0.184    0.421      0.000    0.000   19180.0   \n",
       "thetas[0,1]   0.600  0.068   0.476    0.731      0.000    0.000   20053.0   \n",
       "thetas[0,2]   0.100  0.042   0.030    0.177      0.000    0.000   17561.0   \n",
       "thetas[1,0]   0.489  0.072   0.354    0.623      0.000    0.000   23445.0   \n",
       "thetas[1,1]   0.470  0.072   0.338    0.606      0.000    0.000   21942.0   \n",
       "thetas[1,2]   0.041  0.028   0.001    0.091      0.000    0.000   16066.0   \n",
       "thetas[2,0]   0.465  0.039   0.390    0.537      0.000    0.000   17977.0   \n",
       "thetas[2,1]   0.412  0.038   0.339    0.483      0.000    0.000   19789.0   \n",
       "thetas[2,2]   0.124  0.025   0.077    0.170      0.000    0.000   18393.0   \n",
       "thetas[3,0]   0.458  0.058   0.351    0.564      0.000    0.000   18586.0   \n",
       "thetas[3,1]   0.514  0.058   0.404    0.618      0.000    0.000   17792.0   \n",
       "thetas[3,2]   0.028  0.019   0.001    0.063      0.000    0.000   15207.0   \n",
       "thetas[4,0]   0.400  0.069   0.273    0.526      0.001    0.000   17587.0   \n",
       "thetas[4,1]   0.479  0.070   0.343    0.605      0.001    0.000   17138.0   \n",
       "thetas[4,2]   0.121  0.046   0.042    0.207      0.000    0.000   16258.0   \n",
       "thetas[5,0]   0.444  0.049   0.357    0.538      0.000    0.000   19997.0   \n",
       "thetas[5,1]   0.443  0.050   0.353    0.535      0.000    0.000   19661.0   \n",
       "thetas[5,2]   0.113  0.032   0.056    0.172      0.000    0.000   17878.0   \n",
       "thetas[6,0]   0.504  0.046   0.417    0.588      0.000    0.000   18608.0   \n",
       "thetas[6,1]   0.386  0.044   0.303    0.470      0.000    0.000   18768.0   \n",
       "thetas[6,2]   0.109  0.029   0.059    0.164      0.000    0.000   17497.0   \n",
       "thetas[7,0]   0.547  0.040   0.474    0.622      0.000    0.000   21412.0   \n",
       "thetas[7,1]   0.338  0.037   0.272    0.411      0.000    0.000   20017.0   \n",
       "thetas[7,2]   0.115  0.026   0.066    0.162      0.000    0.000   18083.0   \n",
       "thetas[8,0]   0.541  0.099   0.354    0.721      0.001    0.001   18432.0   \n",
       "thetas[8,1]   0.292  0.091   0.124    0.459      0.001    0.001   15864.0   \n",
       "thetas[8,2]   0.166  0.075   0.038    0.303      0.001    0.000   17670.0   \n",
       "thetas[9,0]   0.465  0.051   0.368    0.559      0.000    0.000   20497.0   \n",
       "thetas[9,1]   0.404  0.050   0.312    0.498      0.000    0.000   19111.0   \n",
       "thetas[9,2]   0.131  0.034   0.070    0.193      0.000    0.000   19145.0   \n",
       "thetas[10,0]  0.510  0.049   0.418    0.602      0.000    0.000   20163.0   \n",
       "thetas[10,1]  0.402  0.048   0.312    0.493      0.000    0.000   19256.0   \n",
       "thetas[10,2]  0.088  0.028   0.039    0.139      0.000    0.000   18553.0   \n",
       "thetas[11,0]  0.551  0.036   0.485    0.622      0.000    0.000   21649.0   \n",
       "thetas[11,1]  0.352  0.035   0.286    0.416      0.000    0.000   21122.0   \n",
       "thetas[11,2]  0.097  0.021   0.059    0.137      0.000    0.000   19694.0   \n",
       "thetas[12,0]  0.487  0.081   0.339    0.641      0.001    0.000   23686.0   \n",
       "thetas[12,1]  0.458  0.082   0.309    0.613      0.001    0.000   21239.0   \n",
       "thetas[12,2]  0.054  0.038   0.001    0.123      0.000    0.000   14476.0   \n",
       "thetas[13,0]  0.525  0.055   0.421    0.628      0.000    0.000   20132.0   \n",
       "thetas[13,1]  0.350  0.054   0.251    0.451      0.000    0.000   19828.0   \n",
       "thetas[13,2]  0.125  0.037   0.053    0.190      0.000    0.000   17053.0   \n",
       "thetas[14,0]  0.535  0.045   0.449    0.616      0.000    0.000   24100.0   \n",
       "thetas[14,1]  0.370  0.043   0.289    0.451      0.000    0.000   20433.0   \n",
       "thetas[14,2]  0.095  0.026   0.049    0.145      0.000    0.000   20369.0   \n",
       "thetas[15,0]  0.546  0.053   0.444    0.643      0.000    0.000   18238.0   \n",
       "thetas[15,1]  0.360  0.050   0.271    0.456      0.000    0.000   19066.0   \n",
       "thetas[15,2]  0.093  0.031   0.038    0.150      0.000    0.000   18422.0   \n",
       "\n",
       "               ess_sd  ess_bulk  ess_tail  r_hat  \n",
       "thetas[0,0]   16774.0   19307.0    6091.0    1.0  \n",
       "thetas[0,1]   19440.0   20049.0    5982.0    1.0  \n",
       "thetas[0,2]   12188.0   18066.0    6011.0    1.0  \n",
       "thetas[1,0]   22381.0   23545.0    5592.0    1.0  \n",
       "thetas[1,1]   20049.0   22004.0    6000.0    1.0  \n",
       "thetas[1,2]    9055.0   16361.0    5270.0    1.0  \n",
       "thetas[2,0]   17356.0   17922.0    6509.0    1.0  \n",
       "thetas[2,1]   19706.0   19714.0    6207.0    1.0  \n",
       "thetas[2,2]   15598.0   18954.0    6378.0    1.0  \n",
       "thetas[3,0]   18308.0   18494.0    6064.0    1.0  \n",
       "thetas[3,1]   17346.0   17741.0    6274.0    1.0  \n",
       "thetas[3,2]    8697.0   14342.0    4827.0    1.0  \n",
       "thetas[4,0]   16104.0   17596.0    5743.0    1.0  \n",
       "thetas[4,1]   16507.0   16999.0    5744.0    1.0  \n",
       "thetas[4,2]   10874.0   17055.0    5202.0    1.0  \n",
       "thetas[5,0]   19373.0   20145.0    6618.0    1.0  \n",
       "thetas[5,1]   18811.0   19757.0    5753.0    1.0  \n",
       "thetas[5,2]   13674.0   18556.0    6129.0    1.0  \n",
       "thetas[6,0]   18161.0   18563.0    5560.0    1.0  \n",
       "thetas[6,1]   17850.0   18836.0    6087.0    1.0  \n",
       "thetas[6,2]   14364.0   17453.0    6184.0    1.0  \n",
       "thetas[7,0]   21150.0   21496.0    6089.0    1.0  \n",
       "thetas[7,1]   19100.0   20019.0    6150.0    1.0  \n",
       "thetas[7,2]   13995.0   19176.0    5880.0    1.0  \n",
       "thetas[8,0]   17240.0   18477.0    5688.0    1.0  \n",
       "thetas[8,1]   12321.0   16280.0    6097.0    1.0  \n",
       "thetas[8,2]   11698.0   18854.0    6062.0    1.0  \n",
       "thetas[9,0]   19551.0   20480.0    6329.0    1.0  \n",
       "thetas[9,1]   18156.0   19119.0    6302.0    1.0  \n",
       "thetas[9,2]   15501.0   19268.0    6074.0    1.0  \n",
       "thetas[10,0]  20075.0   20236.0    6517.0    1.0  \n",
       "thetas[10,1]  18108.0   19475.0    5811.0    1.0  \n",
       "thetas[10,2]  13591.0   18557.0    5653.0    1.0  \n",
       "thetas[11,0]  21249.0   21682.0    4983.0    1.0  \n",
       "thetas[11,1]  20302.0   21213.0    5661.0    1.0  \n",
       "thetas[11,2]  16202.0   19883.0    5604.0    1.0  \n",
       "thetas[12,0]  20712.0   23796.0    5543.0    1.0  \n",
       "thetas[12,1]  19865.0   21176.0    5179.0    1.0  \n",
       "thetas[12,2]   7769.0   15893.0    4800.0    1.0  \n",
       "thetas[13,0]  19957.0   20205.0    5866.0    1.0  \n",
       "thetas[13,1]  18962.0   19560.0    5958.0    1.0  \n",
       "thetas[13,2]  13104.0   17165.0    5432.0    1.0  \n",
       "thetas[14,0]  23358.0   24144.0    5356.0    1.0  \n",
       "thetas[14,1]  19480.0   20438.0    5930.0    1.0  \n",
       "thetas[14,2]  15173.0   20674.0    5779.0    1.0  \n",
       "thetas[15,0]  17553.0   18133.0    6414.0    1.0  \n",
       "thetas[15,1]  18464.0   18837.0    6181.0    1.0  \n",
       "thetas[15,2]  13482.0   18941.0    5777.0    1.0  "
      ]
     },
     "execution_count": 14,
     "metadata": {},
     "output_type": "execute_result"
    }
   ],
   "source": [
    "arviz.summary(trace_1)"
   ]
  },
  {
   "cell_type": "markdown",
   "metadata": {},
   "source": [
    "Now, the goal is to reproduce the figure 8.1 (a)."
   ]
  },
  {
   "cell_type": "code",
   "execution_count": 25,
   "metadata": {},
   "outputs": [
    {
     "name": "stderr",
     "output_type": "stream",
     "text": [
      "100%|██████████| 10000/10000 [00:15<00:00, 666.41it/s]\n"
     ]
    }
   ],
   "source": [
    "with model_non_hiera:\n",
    "    ppc_non_hiera = pm.sample_posterior_predictive(trace_1, samples=10_000, vars=[thetas, post])"
   ]
  },
  {
   "cell_type": "code",
   "execution_count": 26,
   "metadata": {},
   "outputs": [
    {
     "data": {
      "text/plain": [
       "(10000, 16, 3)"
      ]
     },
     "execution_count": 26,
     "metadata": {},
     "output_type": "execute_result"
    }
   ],
   "source": [
    "ppc_non_hiera['thetas'].shape"
   ]
  },
  {
   "cell_type": "markdown",
   "metadata": {},
   "source": [
    "Just check if the column **proportion** (look at the data frame) is equal to what we got."
   ]
  },
  {
   "cell_type": "code",
   "execution_count": 27,
   "metadata": {},
   "outputs": [
    {
     "data": {
      "text/plain": [
       "array([0.03206413, 0.03206413, 0.11523046, 0.04809619, 0.03206413,\n",
       "       0.06513026, 0.08016032, 0.1002004 , 0.01503006, 0.06613226,\n",
       "       0.06813627, 0.12625251, 0.02304609, 0.05310621, 0.08617234,\n",
       "       0.05711423])"
      ]
     },
     "execution_count": 27,
     "metadata": {},
     "output_type": "execute_result"
    }
   ],
   "source": [
    "proportion / np.sum(proportion)"
   ]
  },
  {
   "cell_type": "code",
   "execution_count": 28,
   "metadata": {},
   "outputs": [],
   "source": [
    "diff = []\n",
    "\n",
    "for i in range(16):\n",
    "    result = ppc_non_hiera['thetas'][:, i, 0] - ppc_non_hiera['thetas'][:, i, 1]\n",
    "    diff.append(list(result))"
   ]
  },
  {
   "cell_type": "code",
   "execution_count": 29,
   "metadata": {},
   "outputs": [
    {
     "data": {
      "text/plain": [
       "array([[-0.38269827, -0.2111439 , -0.03313074, ..., -0.40320236,\n",
       "        -0.28429534, -0.29398797],\n",
       "       [-0.16225691,  0.10415002, -0.00290161, ..., -0.05570792,\n",
       "         0.08606434, -0.09591687],\n",
       "       [-0.05859063,  0.1490945 ,  0.07752748, ...,  0.03058629,\n",
       "         0.08686482,  0.02734735],\n",
       "       ...,\n",
       "       [ 0.23776605,  0.17184184,  0.15313478, ...,  0.3966856 ,\n",
       "         0.12764284,  0.20320234],\n",
       "       [ 0.18947771,  0.05270173,  0.1134665 , ...,  0.08172745,\n",
       "         0.18431356,  0.15733717],\n",
       "       [ 0.30797976,  0.04437883,  0.06218116, ...,  0.1295049 ,\n",
       "         0.21549409,  0.14776103]])"
      ]
     },
     "execution_count": 29,
     "metadata": {},
     "output_type": "execute_result"
    }
   ],
   "source": [
    "diff = np.asarray(diff)\n",
    "diff"
   ]
  },
  {
   "cell_type": "code",
   "execution_count": 30,
   "metadata": {},
   "outputs": [],
   "source": [
    "result = np.sum(diff.T * proportion / np.sum(proportion), axis=1)"
   ]
  },
  {
   "cell_type": "code",
   "execution_count": 31,
   "metadata": {},
   "outputs": [
    {
     "data": {
      "image/png": "[encoded data removed]",
      "text/plain": [
       "<Figure size 720x432 with 1 Axes>"
      ]
     },
     "metadata": {},
     "output_type": "display_data"
    }
   ],
   "source": [
    "plt.figure(figsize=(10, 6))\n",
    "_, _, _ = plt.hist(result, bins=18, edgecolor='w', density=True)\n",
    "plt.yticks([]);"
   ]
  },
  {
   "cell_type": "markdown",
   "metadata": {},
   "source": [
    "The figure is almost the same!"
   ]
  },
  {
   "cell_type": "markdown",
   "metadata": {},
   "source": [
    "### **Hierarchichal model**"
   ]
  },
  {
   "cell_type": "markdown",
   "metadata": {},
   "source": [
    "The authors are using other parameters, so we need to find the number of people for $\\alpha_{1j}$ and $\\alpha_{2j}$."
   ]
  },
  {
   "cell_type": "code",
   "execution_count": 15,
   "metadata": {},
   "outputs": [
    {
     "name": "stdout",
     "output_type": "stream",
     "text": [
      "[ 42.  45. 146.  68.  41.  84. 104. 129.  19.  84.  90. 165.  32.  68.\n",
      " 113.  76.]\n"
     ]
    }
   ],
   "source": [
    "alpha_2j = np.round((1 - data['other'].to_numpy()) * data.proportion.to_numpy() * participants) #Not a probability as you may see\n",
    "print(alpha_2j)"
   ]
  },
  {
   "cell_type": "code",
   "execution_count": 16,
   "metadata": {},
   "outputs": [
    {
     "name": "stdout",
     "output_type": "stream",
     "text": [
      "[ 15.07572093  23.66648889  88.29653061  32.68517647  20.94704762\n",
      "  47.0275      65.67153846  89.73643411  14.47        51.16178571\n",
      "  55.14501099 111.60316364  17.14475758  46.24016176  73.78419469\n",
      "  49.9215    ]\n"
     ]
    }
   ],
   "source": [
    "alpha_1j = values[:, 0] / (values[:, 0] + values[:, 1]) * data.proportion.to_numpy() * participants #Not a probability as you may see\n",
    "print(alpha_1j)"
   ]
  },
  {
   "cell_type": "code",
   "execution_count": 17,
   "metadata": {},
   "outputs": [
    {
     "name": "stdout",
     "output_type": "stream",
     "text": [
      "[[ 15.  42.]\n",
      " [ 24.  45.]\n",
      " [ 88. 146.]\n",
      " [ 33.  68.]\n",
      " [ 21.  41.]\n",
      " [ 47.  84.]\n",
      " [ 66. 104.]\n",
      " [ 90. 129.]\n",
      " [ 14.  19.]\n",
      " [ 51.  84.]\n",
      " [ 55.  90.]\n",
      " [112. 165.]\n",
      " [ 17.  32.]\n",
      " [ 46.  68.]\n",
      " [ 74. 113.]\n",
      " [ 50.  76.]]\n"
     ]
    }
   ],
   "source": [
    "new_values = np.round(np.stack([alpha_1j, alpha_2j], axis=1))\n",
    "print(new_values)"
   ]
  },
  {
   "cell_type": "code",
   "execution_count": 121,
   "metadata": {},
   "outputs": [],
   "source": [
    "with pm.Model() as model_hier:\n",
    "    \n",
    "    packed_L = pm.LKJCholeskyCov('packed_L', n=2, eta=2., sd_dist=pm.HalfCauchy.dist(10))\n",
    "\n",
    "    L = pm.expand_packed_triangular(2, packed_L)\n",
    "    Sigma = pm.Deterministic('Sigma', L.dot(L.T))\n",
    "\n",
    "    mu = pm.Normal('mu', 0, 20, shape=2)\n",
    "#     mu = pm.Normal('mu', 0., 10., shape=2, testval=new_values.mean(axis=0))\n",
    "    beta = pm.MvNormal('beta', mu=mu, chol=L, shape=(16, 2))\n",
    "    \n",
    "    alpha = pm.invlogit(beta)\n",
    "    \n",
    "    alphas = pm.Dirichlet('alphas', a=alpha, shape=(16, 2))\n",
    "\n",
    "    post = pm.Multinomial('post', n=np.sum(new_values, axis=1), p=alphas, observed=new_values)"
   ]
  },
  {
   "cell_type": "code",
   "execution_count": 122,
   "metadata": {},
   "outputs": [
    {
     "data": {
      "text/plain": [
       "packed_L_cholesky-cov-packed__     -5.24\n",
       "mu                                 -7.83\n",
       "beta                              -29.41\n",
       "alphas_stickbreaking__            -29.41\n",
       "post                             -105.64\n",
       "Name: Log-probability of test_point, dtype: float64"
      ]
     },
     "execution_count": 122,
     "metadata": {},
     "output_type": "execute_result"
    }
   ],
   "source": [
    "model_hier.check_test_point()"
   ]
  },
  {
   "cell_type": "code",
   "execution_count": 123,
   "metadata": {},
   "outputs": [
    {
     "data": {
      "image/svg+xml": [
       "<?xml version=\"1.0\" encoding=\"UTF-8\" standalone=\"no\"?>\n",
       "<!DOCTYPE svg PUBLIC \"-//W3C//DTD SVG 1.1//EN\"\n",
       " \"http://www.w3.org/Graphics/SVG/1.1/DTD/svg11.dtd\">\n",
       "<!-- Generated by graphviz version 2.40.1 (20161225.0304)\n",
       " -->\n",
       "<!-- Title: %3 Pages: 1 -->\n",
       "<svg width=\"420pt\" height=\"329pt\"\n",
       " viewBox=\"0.00 0.00 420.00 329.00\" xmlns=\"http://www.w3.org/2000/svg\" xmlns:xlink=\"http://www.w3.org/1999/xlink\">\n",
       "<g id=\"graph0\" class=\"graph\" transform=\"scale(1 1) rotate(0) translate(4 325)\">\n",
       "<title>%3</title>\n",
       "<polygon fill=\"#ffffff\" stroke=\"transparent\" points=\"-4,4 -4,-325 416,-325 416,4 -4,4\"/>\n",
       "<g id=\"clust1\" class=\"cluster\">\n",
       "<title>cluster3</title>\n",
       "<path fill=\"none\" stroke=\"#000000\" d=\"M20,-238C20,-238 248,-238 248,-238 254,-238 260,-244 260,-250 260,-250 260,-301 260,-301 260,-307 254,-313 248,-313 248,-313 20,-313 20,-313 14,-313 8,-307 8,-301 8,-301 8,-250 8,-250 8,-244 14,-238 20,-238\"/>\n",
       "<text text-anchor=\"middle\" x=\"248.5\" y=\"-245.8\" font-family=\"Times,serif\" font-size=\"14.00\" fill=\"#000000\">3</text>\n",
       "</g>\n",
       "<g id=\"clust2\" class=\"cluster\">\n",
       "<title>cluster2 x 2</title>\n",
       "<path fill=\"none\" stroke=\"#000000\" d=\"M67,-155C67,-155 201,-155 201,-155 207,-155 213,-161 213,-167 213,-167 213,-218 213,-218 213,-224 207,-230 201,-230 201,-230 67,-230 67,-230 61,-230 55,-224 55,-218 55,-218 55,-167 55,-167 55,-161 61,-155 67,-155\"/>\n",
       "<text text-anchor=\"middle\" x=\"191\" y=\"-162.8\" font-family=\"Times,serif\" font-size=\"14.00\" fill=\"#000000\">2 x 2</text>\n",
       "</g>\n",
       "<g id=\"clust3\" class=\"cluster\">\n",
       "<title>cluster2</title>\n",
       "<path fill=\"none\" stroke=\"#000000\" d=\"M280,-238C280,-238 392,-238 392,-238 398,-238 404,-244 404,-250 404,-250 404,-301 404,-301 404,-307 398,-313 392,-313 392,-313 280,-313 280,-313 274,-313 268,-307 268,-301 268,-301 268,-250 268,-250 268,-244 274,-238 280,-238\"/>\n",
       "<text text-anchor=\"middle\" x=\"392.5\" y=\"-245.8\" font-family=\"Times,serif\" font-size=\"14.00\" fill=\"#000000\">2</text>\n",
       "</g>\n",
       "<g id=\"clust4\" class=\"cluster\">\n",
       "<title>cluster16 x 2</title>\n",
       "<path fill=\"none\" stroke=\"#000000\" d=\"M236,-8C236,-8 388,-8 388,-8 394,-8 400,-14 400,-20 400,-20 400,-218 400,-218 400,-224 394,-230 388,-230 388,-230 236,-230 236,-230 230,-230 224,-224 224,-218 224,-218 224,-20 224,-20 224,-14 230,-8 236,-8\"/>\n",
       "<text text-anchor=\"middle\" x=\"374.5\" y=\"-15.8\" font-family=\"Times,serif\" font-size=\"14.00\" fill=\"#000000\">16 x 2</text>\n",
       "</g>\n",
       "<!-- packed_L -->\n",
       "<g id=\"node1\" class=\"node\">\n",
       "<title>packed_L</title>\n",
       "<ellipse fill=\"none\" stroke=\"#000000\" cx=\"134\" cy=\"-287\" rx=\"118.0794\" ry=\"18\"/>\n",
       "<text text-anchor=\"middle\" x=\"134\" y=\"-283.3\" font-family=\"Times,serif\" font-size=\"14.00\" fill=\"#000000\">packed_L ~ LKJCholeskyCov</text>\n",
       "</g>\n",
       "<!-- Sigma -->\n",
       "<g id=\"node2\" class=\"node\">\n",
       "<title>Sigma</title>\n",
       "<polygon fill=\"none\" stroke=\"#000000\" points=\"204.5,-222 63.5,-222 63.5,-186 204.5,-186 204.5,-222\"/>\n",
       "<text text-anchor=\"middle\" x=\"134\" y=\"-200.3\" font-family=\"Times,serif\" font-size=\"14.00\" fill=\"#000000\">Sigma ~ Deterministic</text>\n",
       "</g>\n",
       "<!-- packed_L&#45;&gt;Sigma -->\n",
       "<g id=\"edge1\" class=\"edge\">\n",
       "<title>packed_L&#45;&gt;Sigma</title>\n",
       "<path fill=\"none\" stroke=\"#000000\" d=\"M134,-268.9902C134,-258.2963 134,-244.4994 134,-232.3706\"/>\n",
       "<polygon fill=\"#000000\" stroke=\"#000000\" points=\"137.5001,-232.2612 134,-222.2612 130.5001,-232.2613 137.5001,-232.2612\"/>\n",
       "</g>\n",
       "<!-- beta -->\n",
       "<g id=\"node5\" class=\"node\">\n",
       "<title>beta</title>\n",
       "<ellipse fill=\"none\" stroke=\"#000000\" cx=\"312\" cy=\"-204\" rx=\"75.2868\" ry=\"18\"/>\n",
       "<text text-anchor=\"middle\" x=\"312\" y=\"-200.3\" font-family=\"Times,serif\" font-size=\"14.00\" fill=\"#000000\">beta ~ MvNormal</text>\n",
       "</g>\n",
       "<!-- packed_L&#45;&gt;beta -->\n",
       "<g id=\"edge3\" class=\"edge\">\n",
       "<title>packed_L&#45;&gt;beta</title>\n",
       "<path fill=\"none\" stroke=\"#000000\" d=\"M170.8817,-269.8023C199.1827,-256.6058 238.3396,-238.3473 268.2281,-224.4105\"/>\n",
       "<polygon fill=\"#000000\" stroke=\"#000000\" points=\"269.9969,-227.4476 277.5809,-220.0493 267.0386,-221.1034 269.9969,-227.4476\"/>\n",
       "</g>\n",
       "<!-- mu -->\n",
       "<g id=\"node3\" class=\"node\">\n",
       "<title>mu</title>\n",
       "<ellipse fill=\"none\" stroke=\"#000000\" cx=\"336\" cy=\"-287\" rx=\"59.5901\" ry=\"18\"/>\n",
       "<text text-anchor=\"middle\" x=\"336\" y=\"-283.3\" font-family=\"Times,serif\" font-size=\"14.00\" fill=\"#000000\">mu ~ Normal</text>\n",
       "</g>\n",
       "<!-- mu&#45;&gt;beta -->\n",
       "<g id=\"edge2\" class=\"edge\">\n",
       "<title>mu&#45;&gt;beta</title>\n",
       "<path fill=\"none\" stroke=\"#000000\" d=\"M330.7924,-268.9902C327.6474,-258.1138 323.5742,-244.0276 320.0244,-231.7511\"/>\n",
       "<polygon fill=\"#000000\" stroke=\"#000000\" points=\"323.3376,-230.6088 317.1975,-221.9746 316.6131,-232.5533 323.3376,-230.6088\"/>\n",
       "</g>\n",
       "<!-- alphas -->\n",
       "<g id=\"node4\" class=\"node\">\n",
       "<title>alphas</title>\n",
       "<ellipse fill=\"none\" stroke=\"#000000\" cx=\"312\" cy=\"-129\" rx=\"74.187\" ry=\"18\"/>\n",
       "<text text-anchor=\"middle\" x=\"312\" y=\"-125.3\" font-family=\"Times,serif\" font-size=\"14.00\" fill=\"#000000\">alphas ~ Dirichlet</text>\n",
       "</g>\n",
       "<!-- post -->\n",
       "<g id=\"node6\" class=\"node\">\n",
       "<title>post</title>\n",
       "<ellipse fill=\"#d3d3d3\" stroke=\"#000000\" cx=\"312\" cy=\"-57\" rx=\"79.8859\" ry=\"18\"/>\n",
       "<text text-anchor=\"middle\" x=\"312\" y=\"-53.3\" font-family=\"Times,serif\" font-size=\"14.00\" fill=\"#000000\">post ~ Multinomial</text>\n",
       "</g>\n",
       "<!-- alphas&#45;&gt;post -->\n",
       "<g id=\"edge5\" class=\"edge\">\n",
       "<title>alphas&#45;&gt;post</title>\n",
       "<path fill=\"none\" stroke=\"#000000\" d=\"M312,-110.8314C312,-103.131 312,-93.9743 312,-85.4166\"/>\n",
       "<polygon fill=\"#000000\" stroke=\"#000000\" points=\"315.5001,-85.4132 312,-75.4133 308.5001,-85.4133 315.5001,-85.4132\"/>\n",
       "</g>\n",
       "<!-- beta&#45;&gt;alphas -->\n",
       "<g id=\"edge4\" class=\"edge\">\n",
       "<title>beta&#45;&gt;alphas</title>\n",
       "<path fill=\"none\" stroke=\"#000000\" d=\"M312,-185.8446C312,-177.3401 312,-167.0076 312,-157.4964\"/>\n",
       "<polygon fill=\"#000000\" stroke=\"#000000\" points=\"315.5001,-157.2481 312,-147.2482 308.5001,-157.2482 315.5001,-157.2481\"/>\n",
       "</g>\n",
       "</g>\n",
       "</svg>\n"
      ],
      "text/plain": [
       "<graphviz.dot.Digraph at 0x7f38cd4722b0>"
      ]
     },
     "execution_count": 123,
     "metadata": {},
     "output_type": "execute_result"
    }
   ],
   "source": [
    "pm.model_to_graphviz(model_hier)"
   ]
  },
  {
   "cell_type": "code",
   "execution_count": 124,
   "metadata": {},
   "outputs": [
    {
     "name": "stderr",
     "output_type": "stream",
     "text": [
      "Auto-assigning NUTS sampler...\n",
      "INFO:pymc3:Auto-assigning NUTS sampler...\n",
      "Initializing NUTS using jitter+adapt_diag...\n",
      "INFO:pymc3:Initializing NUTS using jitter+adapt_diag...\n",
      "Multiprocess sampling (4 chains in 4 jobs)\n",
      "INFO:pymc3:Multiprocess sampling (4 chains in 4 jobs)\n",
      "NUTS: [alphas, beta, mu, packed_L]\n",
      "INFO:pymc3:NUTS: [alphas, beta, mu, packed_L]\n",
      "Sampling 4 chains, 1,506 divergences: 100%|██████████| 28000/28000 [12:42<00:00, 15.20draws/s] \n",
      "There were 145 divergences after tuning. Increase `target_accept` or reparameterize.\n",
      "ERROR:pymc3:There were 145 divergences after tuning. Increase `target_accept` or reparameterize.\n",
      "There were 440 divergences after tuning. Increase `target_accept` or reparameterize.\n",
      "ERROR:pymc3:There were 440 divergences after tuning. Increase `target_accept` or reparameterize.\n",
      "The acceptance probability does not match the target. It is 0.600283428310378, but should be close to 0.8. Try to increase the number of tuning steps.\n",
      "WARNING:pymc3:The acceptance probability does not match the target. It is 0.600283428310378, but should be close to 0.8. Try to increase the number of tuning steps.\n",
      "There were 183 divergences after tuning. Increase `target_accept` or reparameterize.\n",
      "ERROR:pymc3:There were 183 divergences after tuning. Increase `target_accept` or reparameterize.\n",
      "There were 738 divergences after tuning. Increase `target_accept` or reparameterize.\n",
      "ERROR:pymc3:There were 738 divergences after tuning. Increase `target_accept` or reparameterize.\n",
      "The acceptance probability does not match the target. It is 0.5630559896817272, but should be close to 0.8. Try to increase the number of tuning steps.\n",
      "WARNING:pymc3:The acceptance probability does not match the target. It is 0.5630559896817272, but should be close to 0.8. Try to increase the number of tuning steps.\n",
      "The rhat statistic is larger than 1.05 for some parameters. This indicates slight problems during sampling.\n",
      "INFO:pymc3:The rhat statistic is larger than 1.05 for some parameters. This indicates slight problems during sampling.\n",
      "The estimated number of effective samples is smaller than 200 for some parameters.\n",
      "ERROR:pymc3:The estimated number of effective samples is smaller than 200 for some parameters.\n"
     ]
    }
   ],
   "source": [
    "with model_hier:\n",
    "    trace_2 = pm.sample(draws=2_000, tune=5_000)"
   ]
  },
  {
   "cell_type": "code",
   "execution_count": 126,
   "metadata": {},
   "outputs": [
    {
     "data": {
      "image/png": "[encoded data removed]",
      "text/plain": [
       "<Figure size 864x288 with 4 Axes>"
      ]
     },
     "metadata": {},
     "output_type": "display_data"
    }
   ],
   "source": [
    "pm.traceplot(trace_2, var_names=['alphas', 'mu']);"
   ]
  },
  {
   "cell_type": "code",
   "execution_count": 127,
   "metadata": {
    "scrolled": true
   },
   "outputs": [
    {
     "data": {
      "text/html": [
       "<div>\n",
       "<style scoped>\n",
       "    .dataframe tbody tr th:only-of-type {\n",
       "        vertical-align: middle;\n",
       "    }\n",
       "\n",
       "    .dataframe tbody tr th {\n",
       "        vertical-align: top;\n",
       "    }\n",
       "\n",
       "    .dataframe thead th {\n",
       "        text-align: right;\n",
       "    }\n",
       "</style>\n",
       "<table border=\"1\" class=\"dataframe\">\n",
       "  <thead>\n",
       "    <tr style=\"text-align: right;\">\n",
       "      <th></th>\n",
       "      <th>mean</th>\n",
       "      <th>sd</th>\n",
       "      <th>hpd_3%</th>\n",
       "      <th>hpd_97%</th>\n",
       "      <th>mcse_mean</th>\n",
       "      <th>mcse_sd</th>\n",
       "      <th>ess_mean</th>\n",
       "      <th>ess_sd</th>\n",
       "      <th>ess_bulk</th>\n",
       "      <th>ess_tail</th>\n",
       "      <th>r_hat</th>\n",
       "    </tr>\n",
       "  </thead>\n",
       "  <tbody>\n",
       "    <tr>\n",
       "      <th>alphas[0,0]</th>\n",
       "      <td>0.271</td>\n",
       "      <td>0.056</td>\n",
       "      <td>0.168</td>\n",
       "      <td>0.381</td>\n",
       "      <td>0.002</td>\n",
       "      <td>0.001</td>\n",
       "      <td>1023.0</td>\n",
       "      <td>917.0</td>\n",
       "      <td>1048.0</td>\n",
       "      <td>706.0</td>\n",
       "      <td>1.02</td>\n",
       "    </tr>\n",
       "    <tr>\n",
       "      <th>alphas[0,1]</th>\n",
       "      <td>0.729</td>\n",
       "      <td>0.056</td>\n",
       "      <td>0.619</td>\n",
       "      <td>0.832</td>\n",
       "      <td>0.002</td>\n",
       "      <td>0.001</td>\n",
       "      <td>1023.0</td>\n",
       "      <td>1023.0</td>\n",
       "      <td>1048.0</td>\n",
       "      <td>706.0</td>\n",
       "      <td>1.02</td>\n",
       "    </tr>\n",
       "    <tr>\n",
       "      <th>alphas[1,0]</th>\n",
       "      <td>0.358</td>\n",
       "      <td>0.057</td>\n",
       "      <td>0.254</td>\n",
       "      <td>0.460</td>\n",
       "      <td>0.004</td>\n",
       "      <td>0.003</td>\n",
       "      <td>235.0</td>\n",
       "      <td>235.0</td>\n",
       "      <td>258.0</td>\n",
       "      <td>2014.0</td>\n",
       "      <td>1.02</td>\n",
       "    </tr>\n",
       "    <tr>\n",
       "      <th>alphas[1,1]</th>\n",
       "      <td>0.642</td>\n",
       "      <td>0.057</td>\n",
       "      <td>0.540</td>\n",
       "      <td>0.746</td>\n",
       "      <td>0.004</td>\n",
       "      <td>0.003</td>\n",
       "      <td>235.0</td>\n",
       "      <td>234.0</td>\n",
       "      <td>258.0</td>\n",
       "      <td>2014.0</td>\n",
       "      <td>1.02</td>\n",
       "    </tr>\n",
       "    <tr>\n",
       "      <th>alphas[2,0]</th>\n",
       "      <td>0.377</td>\n",
       "      <td>0.030</td>\n",
       "      <td>0.319</td>\n",
       "      <td>0.433</td>\n",
       "      <td>0.002</td>\n",
       "      <td>0.001</td>\n",
       "      <td>279.0</td>\n",
       "      <td>279.0</td>\n",
       "      <td>321.0</td>\n",
       "      <td>2005.0</td>\n",
       "      <td>1.02</td>\n",
       "    </tr>\n",
       "    <tr>\n",
       "      <th>alphas[2,1]</th>\n",
       "      <td>0.623</td>\n",
       "      <td>0.030</td>\n",
       "      <td>0.567</td>\n",
       "      <td>0.681</td>\n",
       "      <td>0.002</td>\n",
       "      <td>0.001</td>\n",
       "      <td>279.0</td>\n",
       "      <td>269.0</td>\n",
       "      <td>321.0</td>\n",
       "      <td>2005.0</td>\n",
       "      <td>1.02</td>\n",
       "    </tr>\n",
       "    <tr>\n",
       "      <th>alphas[3,0]</th>\n",
       "      <td>0.324</td>\n",
       "      <td>0.049</td>\n",
       "      <td>0.219</td>\n",
       "      <td>0.405</td>\n",
       "      <td>0.005</td>\n",
       "      <td>0.003</td>\n",
       "      <td>110.0</td>\n",
       "      <td>110.0</td>\n",
       "      <td>122.0</td>\n",
       "      <td>50.0</td>\n",
       "      <td>1.03</td>\n",
       "    </tr>\n",
       "    <tr>\n",
       "      <th>alphas[3,1]</th>\n",
       "      <td>0.676</td>\n",
       "      <td>0.049</td>\n",
       "      <td>0.595</td>\n",
       "      <td>0.781</td>\n",
       "      <td>0.005</td>\n",
       "      <td>0.003</td>\n",
       "      <td>110.0</td>\n",
       "      <td>101.0</td>\n",
       "      <td>122.0</td>\n",
       "      <td>54.0</td>\n",
       "      <td>1.03</td>\n",
       "    </tr>\n",
       "    <tr>\n",
       "      <th>alphas[4,0]</th>\n",
       "      <td>0.341</td>\n",
       "      <td>0.058</td>\n",
       "      <td>0.222</td>\n",
       "      <td>0.443</td>\n",
       "      <td>0.003</td>\n",
       "      <td>0.002</td>\n",
       "      <td>330.0</td>\n",
       "      <td>330.0</td>\n",
       "      <td>311.0</td>\n",
       "      <td>211.0</td>\n",
       "      <td>1.02</td>\n",
       "    </tr>\n",
       "    <tr>\n",
       "      <th>alphas[4,1]</th>\n",
       "      <td>0.659</td>\n",
       "      <td>0.058</td>\n",
       "      <td>0.557</td>\n",
       "      <td>0.778</td>\n",
       "      <td>0.003</td>\n",
       "      <td>0.002</td>\n",
       "      <td>330.0</td>\n",
       "      <td>301.0</td>\n",
       "      <td>311.0</td>\n",
       "      <td>211.0</td>\n",
       "      <td>1.02</td>\n",
       "    </tr>\n",
       "    <tr>\n",
       "      <th>alphas[5,0]</th>\n",
       "      <td>0.362</td>\n",
       "      <td>0.041</td>\n",
       "      <td>0.283</td>\n",
       "      <td>0.435</td>\n",
       "      <td>0.002</td>\n",
       "      <td>0.002</td>\n",
       "      <td>329.0</td>\n",
       "      <td>311.0</td>\n",
       "      <td>346.0</td>\n",
       "      <td>775.0</td>\n",
       "      <td>1.02</td>\n",
       "    </tr>\n",
       "    <tr>\n",
       "      <th>alphas[5,1]</th>\n",
       "      <td>0.638</td>\n",
       "      <td>0.041</td>\n",
       "      <td>0.565</td>\n",
       "      <td>0.717</td>\n",
       "      <td>0.002</td>\n",
       "      <td>0.002</td>\n",
       "      <td>329.0</td>\n",
       "      <td>329.0</td>\n",
       "      <td>346.0</td>\n",
       "      <td>775.0</td>\n",
       "      <td>1.02</td>\n",
       "    </tr>\n",
       "    <tr>\n",
       "      <th>alphas[6,0]</th>\n",
       "      <td>0.390</td>\n",
       "      <td>0.034</td>\n",
       "      <td>0.326</td>\n",
       "      <td>0.454</td>\n",
       "      <td>0.001</td>\n",
       "      <td>0.001</td>\n",
       "      <td>856.0</td>\n",
       "      <td>856.0</td>\n",
       "      <td>836.0</td>\n",
       "      <td>1408.0</td>\n",
       "      <td>1.02</td>\n",
       "    </tr>\n",
       "    <tr>\n",
       "      <th>alphas[6,1]</th>\n",
       "      <td>0.610</td>\n",
       "      <td>0.034</td>\n",
       "      <td>0.546</td>\n",
       "      <td>0.674</td>\n",
       "      <td>0.001</td>\n",
       "      <td>0.001</td>\n",
       "      <td>856.0</td>\n",
       "      <td>814.0</td>\n",
       "      <td>836.0</td>\n",
       "      <td>1706.0</td>\n",
       "      <td>1.02</td>\n",
       "    </tr>\n",
       "    <tr>\n",
       "      <th>alphas[7,0]</th>\n",
       "      <td>0.415</td>\n",
       "      <td>0.034</td>\n",
       "      <td>0.349</td>\n",
       "      <td>0.470</td>\n",
       "      <td>0.002</td>\n",
       "      <td>0.002</td>\n",
       "      <td>203.0</td>\n",
       "      <td>198.0</td>\n",
       "      <td>211.0</td>\n",
       "      <td>2492.0</td>\n",
       "      <td>1.02</td>\n",
       "    </tr>\n",
       "    <tr>\n",
       "      <th>alphas[7,1]</th>\n",
       "      <td>0.585</td>\n",
       "      <td>0.034</td>\n",
       "      <td>0.530</td>\n",
       "      <td>0.651</td>\n",
       "      <td>0.002</td>\n",
       "      <td>0.002</td>\n",
       "      <td>203.0</td>\n",
       "      <td>203.0</td>\n",
       "      <td>211.0</td>\n",
       "      <td>2492.0</td>\n",
       "      <td>1.02</td>\n",
       "    </tr>\n",
       "    <tr>\n",
       "      <th>alphas[8,0]</th>\n",
       "      <td>0.428</td>\n",
       "      <td>0.079</td>\n",
       "      <td>0.268</td>\n",
       "      <td>0.576</td>\n",
       "      <td>0.003</td>\n",
       "      <td>0.002</td>\n",
       "      <td>825.0</td>\n",
       "      <td>825.0</td>\n",
       "      <td>783.0</td>\n",
       "      <td>1792.0</td>\n",
       "      <td>1.02</td>\n",
       "    </tr>\n",
       "    <tr>\n",
       "      <th>alphas[8,1]</th>\n",
       "      <td>0.572</td>\n",
       "      <td>0.079</td>\n",
       "      <td>0.424</td>\n",
       "      <td>0.732</td>\n",
       "      <td>0.003</td>\n",
       "      <td>0.002</td>\n",
       "      <td>825.0</td>\n",
       "      <td>743.0</td>\n",
       "      <td>783.0</td>\n",
       "      <td>1792.0</td>\n",
       "      <td>1.02</td>\n",
       "    </tr>\n",
       "    <tr>\n",
       "      <th>alphas[9,0]</th>\n",
       "      <td>0.383</td>\n",
       "      <td>0.043</td>\n",
       "      <td>0.307</td>\n",
       "      <td>0.463</td>\n",
       "      <td>0.004</td>\n",
       "      <td>0.003</td>\n",
       "      <td>119.0</td>\n",
       "      <td>115.0</td>\n",
       "      <td>123.0</td>\n",
       "      <td>210.0</td>\n",
       "      <td>1.03</td>\n",
       "    </tr>\n",
       "    <tr>\n",
       "      <th>alphas[9,1]</th>\n",
       "      <td>0.617</td>\n",
       "      <td>0.043</td>\n",
       "      <td>0.537</td>\n",
       "      <td>0.693</td>\n",
       "      <td>0.004</td>\n",
       "      <td>0.003</td>\n",
       "      <td>119.0</td>\n",
       "      <td>119.0</td>\n",
       "      <td>123.0</td>\n",
       "      <td>210.0</td>\n",
       "      <td>1.03</td>\n",
       "    </tr>\n",
       "    <tr>\n",
       "      <th>alphas[10,0]</th>\n",
       "      <td>0.383</td>\n",
       "      <td>0.042</td>\n",
       "      <td>0.301</td>\n",
       "      <td>0.457</td>\n",
       "      <td>0.004</td>\n",
       "      <td>0.003</td>\n",
       "      <td>109.0</td>\n",
       "      <td>105.0</td>\n",
       "      <td>107.0</td>\n",
       "      <td>133.0</td>\n",
       "      <td>1.04</td>\n",
       "    </tr>\n",
       "    <tr>\n",
       "      <th>alphas[10,1]</th>\n",
       "      <td>0.617</td>\n",
       "      <td>0.042</td>\n",
       "      <td>0.543</td>\n",
       "      <td>0.699</td>\n",
       "      <td>0.004</td>\n",
       "      <td>0.003</td>\n",
       "      <td>109.0</td>\n",
       "      <td>109.0</td>\n",
       "      <td>107.0</td>\n",
       "      <td>133.0</td>\n",
       "      <td>1.04</td>\n",
       "    </tr>\n",
       "    <tr>\n",
       "      <th>alphas[11,0]</th>\n",
       "      <td>0.404</td>\n",
       "      <td>0.029</td>\n",
       "      <td>0.357</td>\n",
       "      <td>0.469</td>\n",
       "      <td>0.001</td>\n",
       "      <td>0.001</td>\n",
       "      <td>398.0</td>\n",
       "      <td>370.0</td>\n",
       "      <td>429.0</td>\n",
       "      <td>187.0</td>\n",
       "      <td>1.02</td>\n",
       "    </tr>\n",
       "    <tr>\n",
       "      <th>alphas[11,1]</th>\n",
       "      <td>0.596</td>\n",
       "      <td>0.029</td>\n",
       "      <td>0.531</td>\n",
       "      <td>0.643</td>\n",
       "      <td>0.001</td>\n",
       "      <td>0.001</td>\n",
       "      <td>398.0</td>\n",
       "      <td>398.0</td>\n",
       "      <td>429.0</td>\n",
       "      <td>187.0</td>\n",
       "      <td>1.02</td>\n",
       "    </tr>\n",
       "    <tr>\n",
       "      <th>alphas[12,0]</th>\n",
       "      <td>0.347</td>\n",
       "      <td>0.068</td>\n",
       "      <td>0.233</td>\n",
       "      <td>0.489</td>\n",
       "      <td>0.004</td>\n",
       "      <td>0.003</td>\n",
       "      <td>288.0</td>\n",
       "      <td>288.0</td>\n",
       "      <td>280.0</td>\n",
       "      <td>230.0</td>\n",
       "      <td>1.02</td>\n",
       "    </tr>\n",
       "    <tr>\n",
       "      <th>alphas[12,1]</th>\n",
       "      <td>0.653</td>\n",
       "      <td>0.068</td>\n",
       "      <td>0.511</td>\n",
       "      <td>0.767</td>\n",
       "      <td>0.004</td>\n",
       "      <td>0.003</td>\n",
       "      <td>288.0</td>\n",
       "      <td>274.0</td>\n",
       "      <td>280.0</td>\n",
       "      <td>230.0</td>\n",
       "      <td>1.02</td>\n",
       "    </tr>\n",
       "    <tr>\n",
       "      <th>alphas[13,0]</th>\n",
       "      <td>0.405</td>\n",
       "      <td>0.047</td>\n",
       "      <td>0.319</td>\n",
       "      <td>0.494</td>\n",
       "      <td>0.005</td>\n",
       "      <td>0.003</td>\n",
       "      <td>101.0</td>\n",
       "      <td>98.0</td>\n",
       "      <td>106.0</td>\n",
       "      <td>173.0</td>\n",
       "      <td>1.03</td>\n",
       "    </tr>\n",
       "    <tr>\n",
       "      <th>alphas[13,1]</th>\n",
       "      <td>0.595</td>\n",
       "      <td>0.047</td>\n",
       "      <td>0.506</td>\n",
       "      <td>0.681</td>\n",
       "      <td>0.005</td>\n",
       "      <td>0.003</td>\n",
       "      <td>101.0</td>\n",
       "      <td>101.0</td>\n",
       "      <td>106.0</td>\n",
       "      <td>173.0</td>\n",
       "      <td>1.03</td>\n",
       "    </tr>\n",
       "    <tr>\n",
       "      <th>alphas[14,0]</th>\n",
       "      <td>0.403</td>\n",
       "      <td>0.037</td>\n",
       "      <td>0.329</td>\n",
       "      <td>0.463</td>\n",
       "      <td>0.003</td>\n",
       "      <td>0.002</td>\n",
       "      <td>129.0</td>\n",
       "      <td>124.0</td>\n",
       "      <td>129.0</td>\n",
       "      <td>224.0</td>\n",
       "      <td>1.02</td>\n",
       "    </tr>\n",
       "    <tr>\n",
       "      <th>alphas[14,1]</th>\n",
       "      <td>0.597</td>\n",
       "      <td>0.037</td>\n",
       "      <td>0.537</td>\n",
       "      <td>0.671</td>\n",
       "      <td>0.003</td>\n",
       "      <td>0.002</td>\n",
       "      <td>129.0</td>\n",
       "      <td>129.0</td>\n",
       "      <td>129.0</td>\n",
       "      <td>224.0</td>\n",
       "      <td>1.02</td>\n",
       "    </tr>\n",
       "    <tr>\n",
       "      <th>alphas[15,0]</th>\n",
       "      <td>0.398</td>\n",
       "      <td>0.041</td>\n",
       "      <td>0.324</td>\n",
       "      <td>0.477</td>\n",
       "      <td>0.001</td>\n",
       "      <td>0.001</td>\n",
       "      <td>1076.0</td>\n",
       "      <td>1076.0</td>\n",
       "      <td>1099.0</td>\n",
       "      <td>2714.0</td>\n",
       "      <td>1.00</td>\n",
       "    </tr>\n",
       "    <tr>\n",
       "      <th>alphas[15,1]</th>\n",
       "      <td>0.602</td>\n",
       "      <td>0.041</td>\n",
       "      <td>0.523</td>\n",
       "      <td>0.676</td>\n",
       "      <td>0.001</td>\n",
       "      <td>0.001</td>\n",
       "      <td>1076.0</td>\n",
       "      <td>1072.0</td>\n",
       "      <td>1099.0</td>\n",
       "      <td>2714.0</td>\n",
       "      <td>1.00</td>\n",
       "    </tr>\n",
       "    <tr>\n",
       "      <th>mu[0]</th>\n",
       "      <td>22.106</td>\n",
       "      <td>12.381</td>\n",
       "      <td>1.756</td>\n",
       "      <td>44.145</td>\n",
       "      <td>1.179</td>\n",
       "      <td>0.836</td>\n",
       "      <td>110.0</td>\n",
       "      <td>110.0</td>\n",
       "      <td>64.0</td>\n",
       "      <td>12.0</td>\n",
       "      <td>1.05</td>\n",
       "    </tr>\n",
       "    <tr>\n",
       "      <th>mu[1]</th>\n",
       "      <td>23.335</td>\n",
       "      <td>12.095</td>\n",
       "      <td>4.227</td>\n",
       "      <td>46.619</td>\n",
       "      <td>0.863</td>\n",
       "      <td>0.611</td>\n",
       "      <td>196.0</td>\n",
       "      <td>196.0</td>\n",
       "      <td>208.0</td>\n",
       "      <td>308.0</td>\n",
       "      <td>1.02</td>\n",
       "    </tr>\n",
       "  </tbody>\n",
       "</table>\n",
       "</div>"
      ],
      "text/plain": [
       "                mean      sd  hpd_3%  hpd_97%  mcse_mean  mcse_sd  ess_mean  \\\n",
       "alphas[0,0]    0.271   0.056   0.168    0.381      0.002    0.001    1023.0   \n",
       "alphas[0,1]    0.729   0.056   0.619    0.832      0.002    0.001    1023.0   \n",
       "alphas[1,0]    0.358   0.057   0.254    0.460      0.004    0.003     235.0   \n",
       "alphas[1,1]    0.642   0.057   0.540    0.746      0.004    0.003     235.0   \n",
       "alphas[2,0]    0.377   0.030   0.319    0.433      0.002    0.001     279.0   \n",
       "alphas[2,1]    0.623   0.030   0.567    0.681      0.002    0.001     279.0   \n",
       "alphas[3,0]    0.324   0.049   0.219    0.405      0.005    0.003     110.0   \n",
       "alphas[3,1]    0.676   0.049   0.595    0.781      0.005    0.003     110.0   \n",
       "alphas[4,0]    0.341   0.058   0.222    0.443      0.003    0.002     330.0   \n",
       "alphas[4,1]    0.659   0.058   0.557    0.778      0.003    0.002     330.0   \n",
       "alphas[5,0]    0.362   0.041   0.283    0.435      0.002    0.002     329.0   \n",
       "alphas[5,1]    0.638   0.041   0.565    0.717      0.002    0.002     329.0   \n",
       "alphas[6,0]    0.390   0.034   0.326    0.454      0.001    0.001     856.0   \n",
       "alphas[6,1]    0.610   0.034   0.546    0.674      0.001    0.001     856.0   \n",
       "alphas[7,0]    0.415   0.034   0.349    0.470      0.002    0.002     203.0   \n",
       "alphas[7,1]    0.585   0.034   0.530    0.651      0.002    0.002     203.0   \n",
       "alphas[8,0]    0.428   0.079   0.268    0.576      0.003    0.002     825.0   \n",
       "alphas[8,1]    0.572   0.079   0.424    0.732      0.003    0.002     825.0   \n",
       "alphas[9,0]    0.383   0.043   0.307    0.463      0.004    0.003     119.0   \n",
       "alphas[9,1]    0.617   0.043   0.537    0.693      0.004    0.003     119.0   \n",
       "alphas[10,0]   0.383   0.042   0.301    0.457      0.004    0.003     109.0   \n",
       "alphas[10,1]   0.617   0.042   0.543    0.699      0.004    0.003     109.0   \n",
       "alphas[11,0]   0.404   0.029   0.357    0.469      0.001    0.001     398.0   \n",
       "alphas[11,1]   0.596   0.029   0.531    0.643      0.001    0.001     398.0   \n",
       "alphas[12,0]   0.347   0.068   0.233    0.489      0.004    0.003     288.0   \n",
       "alphas[12,1]   0.653   0.068   0.511    0.767      0.004    0.003     288.0   \n",
       "alphas[13,0]   0.405   0.047   0.319    0.494      0.005    0.003     101.0   \n",
       "alphas[13,1]   0.595   0.047   0.506    0.681      0.005    0.003     101.0   \n",
       "alphas[14,0]   0.403   0.037   0.329    0.463      0.003    0.002     129.0   \n",
       "alphas[14,1]   0.597   0.037   0.537    0.671      0.003    0.002     129.0   \n",
       "alphas[15,0]   0.398   0.041   0.324    0.477      0.001    0.001    1076.0   \n",
       "alphas[15,1]   0.602   0.041   0.523    0.676      0.001    0.001    1076.0   \n",
       "mu[0]         22.106  12.381   1.756   44.145      1.179    0.836     110.0   \n",
       "mu[1]         23.335  12.095   4.227   46.619      0.863    0.611     196.0   \n",
       "\n",
       "              ess_sd  ess_bulk  ess_tail  r_hat  \n",
       "alphas[0,0]    917.0    1048.0     706.0   1.02  \n",
       "alphas[0,1]   1023.0    1048.0     706.0   1.02  \n",
       "alphas[1,0]    235.0     258.0    2014.0   1.02  \n",
       "alphas[1,1]    234.0     258.0    2014.0   1.02  \n",
       "alphas[2,0]    279.0     321.0    2005.0   1.02  \n",
       "alphas[2,1]    269.0     321.0    2005.0   1.02  \n",
       "alphas[3,0]    110.0     122.0      50.0   1.03  \n",
       "alphas[3,1]    101.0     122.0      54.0   1.03  \n",
       "alphas[4,0]    330.0     311.0     211.0   1.02  \n",
       "alphas[4,1]    301.0     311.0     211.0   1.02  \n",
       "alphas[5,0]    311.0     346.0     775.0   1.02  \n",
       "alphas[5,1]    329.0     346.0     775.0   1.02  \n",
       "alphas[6,0]    856.0     836.0    1408.0   1.02  \n",
       "alphas[6,1]    814.0     836.0    1706.0   1.02  \n",
       "alphas[7,0]    198.0     211.0    2492.0   1.02  \n",
       "alphas[7,1]    203.0     211.0    2492.0   1.02  \n",
       "alphas[8,0]    825.0     783.0    1792.0   1.02  \n",
       "alphas[8,1]    743.0     783.0    1792.0   1.02  \n",
       "alphas[9,0]    115.0     123.0     210.0   1.03  \n",
       "alphas[9,1]    119.0     123.0     210.0   1.03  \n",
       "alphas[10,0]   105.0     107.0     133.0   1.04  \n",
       "alphas[10,1]   109.0     107.0     133.0   1.04  \n",
       "alphas[11,0]   370.0     429.0     187.0   1.02  \n",
       "alphas[11,1]   398.0     429.0     187.0   1.02  \n",
       "alphas[12,0]   288.0     280.0     230.0   1.02  \n",
       "alphas[12,1]   274.0     280.0     230.0   1.02  \n",
       "alphas[13,0]    98.0     106.0     173.0   1.03  \n",
       "alphas[13,1]   101.0     106.0     173.0   1.03  \n",
       "alphas[14,0]   124.0     129.0     224.0   1.02  \n",
       "alphas[14,1]   129.0     129.0     224.0   1.02  \n",
       "alphas[15,0]  1076.0    1099.0    2714.0   1.00  \n",
       "alphas[15,1]  1072.0    1099.0    2714.0   1.00  \n",
       "mu[0]          110.0      64.0      12.0   1.05  \n",
       "mu[1]          196.0     208.0     308.0   1.02  "
      ]
     },
     "execution_count": 127,
     "metadata": {},
     "output_type": "execute_result"
    }
   ],
   "source": [
    "arviz.summary(trace_2, var_names=['alphas', 'mu'])"
   ]
  },
  {
   "cell_type": "markdown",
   "metadata": {},
   "source": [
    "If you want to check the covariance matrix"
   ]
  },
  {
   "cell_type": "code",
   "execution_count": 128,
   "metadata": {},
   "outputs": [],
   "source": [
    "matrix_s = trace_2['Sigma'].mean(axis=0)"
   ]
  },
  {
   "cell_type": "code",
   "execution_count": 129,
   "metadata": {},
   "outputs": [
    {
     "data": {
      "text/plain": [
       "array([[74.97363898,  1.08725705],\n",
       "       [ 1.08725705, 73.79522574]])"
      ]
     },
     "execution_count": 129,
     "metadata": {},
     "output_type": "execute_result"
    }
   ],
   "source": [
    "matrix_s"
   ]
  },
  {
   "cell_type": "markdown",
   "metadata": {},
   "source": [
    "From that, you get $\\tau_1$ and $\\tau_2$"
   ]
  },
  {
   "cell_type": "code",
   "execution_count": 130,
   "metadata": {},
   "outputs": [
    {
     "name": "stdout",
     "output_type": "stream",
     "text": [
      "8.658731949850676 8.590414759458374\n"
     ]
    }
   ],
   "source": [
    "tau1, tau2 = np.sqrt(matrix_s[0, 0]), np.sqrt(matrix_s[1, 1])\n",
    "print(tau1, tau2)"
   ]
  },
  {
   "cell_type": "markdown",
   "metadata": {},
   "source": [
    "And then $\\rho$"
   ]
  },
  {
   "cell_type": "code",
   "execution_count": 142,
   "metadata": {},
   "outputs": [],
   "source": [
    "rho = matrix_s[1, 0] / (tau1 * tau2)"
   ]
  },
  {
   "cell_type": "code",
   "execution_count": 143,
   "metadata": {},
   "outputs": [
    {
     "data": {
      "text/plain": [
       "0.014617187099617469"
      ]
     },
     "execution_count": 143,
     "metadata": {},
     "output_type": "execute_result"
    }
   ],
   "source": [
    "rho"
   ]
  },
  {
   "cell_type": "markdown",
   "metadata": {},
   "source": [
    "Now, the goal is to reproduce the figure 8.1 (b)."
   ]
  },
  {
   "cell_type": "code",
   "execution_count": 157,
   "metadata": {},
   "outputs": [
    {
     "name": "stderr",
     "output_type": "stream",
     "text": [
      "/home/rosgori/anaconda3/lib/python3.6/site-packages/pymc3/sampling.py:1247: UserWarning: samples parameter is smaller than nchains times ndraws, some draws and/or chains may not be represented in the returned posterior predictive sample\n",
      "  \"samples parameter is smaller than nchains times ndraws, some draws \"\n",
      "100%|██████████| 1000/1000 [00:00<00:00, 13577.93it/s]\n"
     ]
    }
   ],
   "source": [
    "with model_hier:\n",
    "    ppc_hier = pm.sample_posterior_predictive(trace_2, samples=1_000, vars=[alphas])"
   ]
  },
  {
   "cell_type": "code",
   "execution_count": 158,
   "metadata": {},
   "outputs": [
    {
     "data": {
      "text/plain": [
       "(1000, 16, 2)"
      ]
     },
     "execution_count": 158,
     "metadata": {},
     "output_type": "execute_result"
    }
   ],
   "source": [
    "ppc_hier['alphas'].shape"
   ]
  },
  {
   "cell_type": "code",
   "execution_count": 159,
   "metadata": {},
   "outputs": [
    {
     "data": {
      "text/plain": [
       "array([0.3255814 , 0.51111111, 0.53061224, 0.47058824, 0.45238095,\n",
       "       0.5       , 0.56730769, 0.62015504, 0.66666667, 0.53571429,\n",
       "       0.56043956, 0.61212121, 0.51515152, 0.60294118, 0.59292035,\n",
       "       0.60526316])"
      ]
     },
     "execution_count": 159,
     "metadata": {},
     "output_type": "execute_result"
    }
   ],
   "source": [
    "values[:, 0] / (values[:, 0] + values[:, 1])"
   ]
  },
  {
   "cell_type": "code",
   "execution_count": 170,
   "metadata": {},
   "outputs": [
    {
     "data": {
      "text/plain": [
       "array([[0.24697548, 0.75302452],\n",
       "       [0.42467736, 0.57532264],\n",
       "       [0.42166306, 0.57833694],\n",
       "       [0.44448191, 0.55551809],\n",
       "       [0.42100179, 0.57899821],\n",
       "       [0.37360006, 0.62639994],\n",
       "       [0.37927549, 0.62072451],\n",
       "       [0.44419996, 0.55580004],\n",
       "       [0.36517739, 0.63482261],\n",
       "       [0.44141308, 0.55858692],\n",
       "       [0.394294  , 0.605706  ],\n",
       "       [0.3967169 , 0.6032831 ],\n",
       "       [0.40965493, 0.59034507],\n",
       "       [0.38298484, 0.61701516],\n",
       "       [0.44275081, 0.55724919],\n",
       "       [0.38240091, 0.61759909]])"
      ]
     },
     "execution_count": 170,
     "metadata": {},
     "output_type": "execute_result"
    }
   ],
   "source": [
    "ppc_hier['alphas'][10, :, :]"
   ]
  },
  {
   "cell_type": "markdown",
   "metadata": {},
   "source": [
    "Remember that from \n",
    "\n",
    "\\begin{align}\n",
    "    \\alpha_{1j} &= \\dfrac{\\theta_{1j}}{\\theta_{1j} + \\theta_{2j}} \\\\\n",
    "    \\alpha_{2j} &= 1 - \\theta_{3j}\n",
    "\\end{align}\n",
    "\n",
    "you can get $\\theta_{1j}$ and $\\theta_{2j}$"
   ]
  },
  {
   "cell_type": "code",
   "execution_count": 171,
   "metadata": {},
   "outputs": [],
   "source": [
    "th1 = []\n",
    "\n",
    "for i in range(16):\n",
    "    result1 =  2 * ppc_hier['alphas'][:, i, 0] * ppc_hier['alphas'][:, i, 1] - ppc_hier['alphas'][:, i, 1] \n",
    "#     result1 = - 2 * ppc_hier['alphas'][:, i, 0] * ppc_hier['alphas'][:, i, 1] + ppc_hier['alphas'][:, i, 1] \n",
    "    th1.append(list(result1))"
   ]
  },
  {
   "cell_type": "code",
   "execution_count": 172,
   "metadata": {},
   "outputs": [
    {
     "data": {
      "text/plain": [
       "(16, 1000)"
      ]
     },
     "execution_count": 172,
     "metadata": {},
     "output_type": "execute_result"
    }
   ],
   "source": [
    "th1 = np.asarray(th1)\n",
    "th1.shape"
   ]
  },
  {
   "cell_type": "code",
   "execution_count": 173,
   "metadata": {},
   "outputs": [
    {
     "data": {
      "text/plain": [
       "array([-0.14882845, -0.16713849, -0.12572338, -0.16234816, -0.15933411,\n",
       "       -0.15933411, -0.14183207, -0.15078374, -0.11327207, -0.12033916,\n",
       "       -0.11516225, -0.18994582, -0.15237905, -0.16838453, -0.13914512])"
      ]
     },
     "execution_count": 173,
     "metadata": {},
     "output_type": "execute_result"
    }
   ],
   "source": [
    "result2 = np.sum(th1.T * proportion / np.sum(proportion), axis=1)\n",
    "result2[:15]"
   ]
  },
  {
   "cell_type": "code",
   "execution_count": 174,
   "metadata": {},
   "outputs": [
    {
     "data": {
      "image/png": "[encoded data removed]",
      "text/plain": [
       "<Figure size 720x432 with 1 Axes>"
      ]
     },
     "metadata": {},
     "output_type": "display_data"
    }
   ],
   "source": [
    "plt.figure(figsize=(10, 6))\n",
    "_, _, _ = plt.hist(result2 , bins=20, edgecolor='w', density=True)\n",
    "plt.yticks([]);"
   ]
  },
  {
   "cell_type": "markdown",
   "metadata": {},
   "source": [
    "As you can see, the figure is quite similar, except that there is a minus sing. The next step would be the model checking, but it would be pointless (you could do it) and the results would not be right."
   ]
  },
  {
   "cell_type": "code",
   "execution_count": 181,
   "metadata": {},
   "outputs": [
    {
     "data": {
      "image/png": "[encoded data removed]",
      "text/plain": [
       "<Figure size 720x432 with 1 Axes>"
      ]
     },
     "metadata": {},
     "output_type": "display_data"
    }
   ],
   "source": [
    "plt.figure(figsize=(10, 6))\n",
    "_, _, _ = plt.hist(-result2 , bins=20, edgecolor='w', density=True) # With a minus\n",
    "plt.yticks([]);"
   ]
  },
  {
   "cell_type": "markdown",
   "metadata": {},
   "source": [
    "Why? I don't know, nevertheless, it is really weird."
   ]
  },
  {
   "cell_type": "code",
   "execution_count": 117,
   "metadata": {},
   "outputs": [
    {
     "name": "stdout",
     "output_type": "stream",
     "text": [
      "The watermark extension is already loaded. To reload it, use:\n",
      "  %reload_ext watermark\n"
     ]
    }
   ],
   "source": [
    "%load_ext watermark"
   ]
  },
  {
   "cell_type": "code",
   "execution_count": 118,
   "metadata": {},
   "outputs": [
    {
     "name": "stdout",
     "output_type": "stream",
     "text": [
      "numpy       1.17.4\n",
      "pymc3       3.8\n",
      "pandas      0.25.3\n",
      "arviz       0.5.1\n",
      "seaborn     0.9.0\n",
      "pystan      2.19.0.0\n",
      "CPython 3.6.9\n",
      "IPython 7.6.1\n",
      "\n",
      "theano 1.0.4\n",
      "scipy 1.3.1\n",
      "matplotlib 3.1.1\n",
      "\n",
      "compiler   : GCC 7.3.0\n",
      "system     : Linux\n",
      "release    : 4.15.0-72-generic\n",
      "machine    : x86_64\n",
      "processor  : x86_64\n",
      "CPU cores  : 8\n",
      "interpreter: 64bit\n"
     ]
    }
   ],
   "source": [
    "%watermark -iv -v -p theano,scipy,matplotlib -m"
   ]
  },
  {
   "cell_type": "markdown",
   "metadata": {},
   "source": [
    "## **With pystan**"
   ]
  },
  {
   "cell_type": "markdown",
   "metadata": {},
   "source": [
    "This section is to reproduce the figure 8.1 (a) and the figure 8.1 (b) with Stan."
   ]
  },
  {
   "cell_type": "code",
   "execution_count": 3,
   "metadata": {},
   "outputs": [
    {
     "name": "stdout",
     "output_type": "stream",
     "text": [
      "2.19.0.0\n"
     ]
    }
   ],
   "source": [
    "import pystan\n",
    "print(pystan.__version__)"
   ]
  },
  {
   "cell_type": "code",
   "execution_count": 64,
   "metadata": {},
   "outputs": [],
   "source": [
    "modelo=\"\"\"\n",
    "data {\n",
    "  int<lower=0> N;\n",
    "  int<lower=0> n;\n",
    "  int y_obs[N, n];\n",
    "  vector[n] alpha;\n",
    "}\n",
    "\n",
    "parameters {\n",
    "  \n",
    "  simplex[n] theta[N];\n",
    "}\n",
    "\n",
    "model {\n",
    "  \n",
    "  for (i in 1:N)\n",
    "    theta[i] ~ dirichlet(alpha);\n",
    "  \n",
    "  for (i in 1:N)\n",
    "    y_obs[i] ~ multinomial(theta[i]);\n",
    "}\n",
    "\n",
    "\"\"\""
   ]
  },
  {
   "cell_type": "code",
   "execution_count": 66,
   "metadata": {},
   "outputs": [
    {
     "name": "stderr",
     "output_type": "stream",
     "text": [
      "INFO:pystan:COMPILING THE C++ CODE FOR MODEL anon_model_2a28c5090c429737936718a5aee45413 NOW.\n"
     ]
    }
   ],
   "source": [
    "stan_modelo = pystan.StanModel(model_code=modelo)"
   ]
  },
  {
   "cell_type": "code",
   "execution_count": 176,
   "metadata": {},
   "outputs": [],
   "source": [
    "data2 = {'N': 16,\n",
    "       'n': 3,\n",
    "       'alpha': [1,1,1],\n",
    "       'y_obs': valores.astype(int)}"
   ]
  },
  {
   "cell_type": "code",
   "execution_count": 177,
   "metadata": {},
   "outputs": [],
   "source": [
    "fit = stan_modelo.sampling(data=data2)"
   ]
  },
  {
   "cell_type": "code",
   "execution_count": 178,
   "metadata": {
    "scrolled": true
   },
   "outputs": [
    {
     "name": "stdout",
     "output_type": "stream",
     "text": [
      "Inference for Stan model: anon_model_2a28c5090c429737936718a5aee45413.\n",
      "4 chains, each with iter=2000; warmup=1000; thin=1; \n",
      "post-warmup draws per chain=1000, total post-warmup draws=4000.\n",
      "\n",
      "              mean se_mean     sd   2.5%    25%    50%    75%  97.5%  n_eff   Rhat\n",
      "theta[1,1]  0.2991  0.0006 0.0648 0.1829 0.2522 0.2966 0.3427 0.4330   9140 0.9992\n",
      "theta[2,1]  0.4897  0.0009 0.0695 0.3542  0.442 0.4900 0.5370 0.6221   5691 0.9992\n",
      "theta[3,1]  0.4648  0.0004 0.0381 0.3924 0.4391 0.4640 0.4908 0.5395   8183 0.9991\n",
      "theta[4,1]  0.4578  0.0006 0.0575 0.3446 0.4187 0.4574 0.4980 0.5702   7824 0.9995\n",
      "theta[5,1]  0.4008  0.0008 0.0673 0.2730 0.3544 0.3998 0.4459 0.5341   7071 0.9996\n",
      "theta[6,1]  0.4436  0.0006 0.0506 0.3463 0.4091 0.4438 0.4779 0.5423   6712 0.9992\n",
      "theta[7,1]  0.5051  0.0005 0.0445 0.4156 0.4745 0.5061 0.5356 0.5891   7149 0.9995\n",
      "theta[8,1]  0.5469  0.0004 0.0410 0.4673 0.5185 0.5464 0.5753 0.6270   7593 0.9993\n",
      "theta[9,1]  0.5398  0.0011 0.0966 0.3465 0.4742 0.5425 0.6061 0.7266   7080 0.9997\n",
      "theta[10,1] 0.4642  0.0005 0.0487 0.3709 0.4305 0.4641 0.4968 0.5605   6911 0.9994\n",
      "theta[11,1] 0.5105  0.0005 0.0494 0.4135 0.4764 0.5113 0.5440 0.6046   7443 0.9994\n",
      "theta[12,1] 0.5517  0.0004 0.0369 0.4764 0.5279 0.5525 0.5760 0.6232   7365 0.9990\n",
      "theta[13,1] 0.4875  0.0009 0.0820 0.3276 0.4314 0.4880 0.5431 0.6477   8165 0.9997\n",
      "theta[14,1] 0.5253  0.0006 0.0555 0.4165 0.4872 0.5252 0.5632 0.6319   7278 1.0000\n",
      "theta[15,1] 0.5356  0.0005 0.0447 0.4460 0.5057 0.5359 0.5664 0.6221   7475 0.9997\n",
      "theta[16,1] 0.5472  0.0005 0.0527 0.4434 0.5116 0.5479 0.5826 0.6524   9245 0.9991\n",
      "theta[1,2]  0.6003  0.0007 0.0677 0.4625 0.5548 0.6006 0.6473 0.7276   8988 0.9991\n",
      "theta[2,2]  0.4699  0.0008 0.0696 0.3344 0.4218 0.4686 0.5177 0.6061   6244 0.9992\n",
      "theta[3,2]  0.4111  0.0004 0.0377 0.3392 0.3850 0.4113  0.437 0.4855   7224 0.9992\n",
      "theta[4,2]  0.5139  0.0006 0.0578 0.4025 0.4736 0.5128 0.5536 0.6274   8235 0.9994\n",
      "theta[5,2]  0.4792  0.0008 0.0690 0.3463 0.4324 0.4779 0.5249 0.6140   7355 0.9994\n",
      "theta[6,2]  0.4425  0.0006 0.0502 0.3478  0.408 0.4416 0.4764 0.5423   7003 0.9993\n",
      "theta[7,2]  0.3858  0.0005 0.0438 0.3022 0.3561 0.3844 0.4139 0.4761   7283 0.9998\n",
      "theta[8,2]  0.3381  0.0004 0.0391 0.2630 0.3110 0.3374 0.3644 0.4151   8666 0.9995\n",
      "theta[9,2]  0.2926  0.0011 0.0915 0.1321 0.2252 0.2855 0.3532 0.4864   6311 0.9998\n",
      "theta[10,2] 0.4041  0.0005 0.0488 0.3073 0.3699 0.4037 0.4367 0.5015   7187 0.9994\n",
      "theta[11,2] 0.4016  0.0005 0.0493 0.3088 0.3678 0.4007 0.4342 0.5031   7216 0.9997\n",
      "theta[12,2]  0.351  0.0003 0.0353 0.2844 0.3272 0.3504 0.3745 0.4219   8114 0.9991\n",
      "theta[13,2]  0.458  0.0009 0.0828 0.3007 0.4000 0.4561 0.5148 0.6215   7876 1.0002\n",
      "theta[14,2] 0.3491  0.0006 0.0538 0.2496 0.3107 0.3481 0.3852 0.4595   6858 0.9994\n",
      "theta[15,2] 0.3694  0.0005 0.0434 0.2889 0.3377 0.3688 0.3998 0.4543   6889 0.9997\n",
      "theta[16,2] 0.3602  0.0005 0.0507 0.2640 0.3246 0.3592 0.3942 0.4628   9029 0.9994\n",
      "theta[1,3]  0.1004  0.0004 0.0426 0.0338 0.0690 0.0951 0.1263 0.1986   7610 0.9992\n",
      "theta[2,3]  0.0403  0.0003 0.0277 0.0051 0.0193 0.0339 0.0546 0.1108   6664 0.9992\n",
      "theta[3,3]  0.1239  0.0003 0.0258 0.0775 0.1048 0.1224 0.1415 0.1778   7460 0.9995\n",
      "theta[4,3]  0.0282  0.0002 0.0201 0.0035 0.0130 0.0237 0.0385 0.0795   7269 1.0001\n",
      "theta[5,3]  0.1199  0.0005 0.0453 0.0476 0.0873 0.1146 0.1463 0.2256   7672 0.9995\n",
      "theta[6,3]  0.1138  0.0003 0.0323 0.0577 0.0909 0.1107 0.1340 0.1851   7348 0.9997\n",
      "theta[7,3]  0.1090  0.0003 0.0286 0.0597 0.0889 0.1066 0.1263 0.1730   8172    1.0\n",
      "theta[8,3]  0.1149  0.0003 0.0265 0.0676 0.0962 0.1129 0.1318 0.1723   7691 0.9993\n",
      "theta[9,3]  0.1674  0.0009 0.0753 0.0476 0.1101 0.1594 0.2143 0.3385   6826 1.0004\n",
      "theta[10,3] 0.1316  0.0003 0.0327 0.0747 0.1082 0.1290 0.1530 0.2004   7045 0.9994\n",
      "theta[11,3] 0.0878  0.0003 0.0268 0.0426 0.0684 0.0851 0.1043 0.1490   8129 0.9994\n",
      "theta[12,3] 0.0972  0.0002 0.0219 0.0581 0.0817 0.0958 0.1109 0.1449   8508 0.9996\n",
      "theta[13,3] 0.0544  0.0004 0.0363 0.0071 0.0273 0.0475 0.0724 0.1435   6322 0.9996\n",
      "theta[14,3] 0.1254  0.0004 0.0363 0.0615 0.0999 0.1225 0.1478 0.2084   8258 0.9998\n",
      "theta[15,3] 0.0948  0.0003  0.026 0.0506 0.0763 0.0926 0.1110 0.1524   6993 0.9995\n",
      "theta[16,3] 0.0924  0.0003 0.0305 0.0424 0.0706 0.0890 0.1112 0.1597   6543 0.9993\n",
      "lp__       -1.4147e3  0.1016 4.1023-1.4236e3-1.4173e3-1.4143e3-1.4117e3-1.4076e3   1628 1.0021\n",
      "\n",
      "Samples were drawn using NUTS at Mon Dec  9 22:34:31 2019.\n",
      "For each parameter, n_eff is a crude measure of effective sample size,\n",
      "and Rhat is the potential scale reduction factor on split chains (at \n",
      "convergence, Rhat=1).\n"
     ]
    }
   ],
   "source": [
    "print(fit.stansummary(digits_summary=5))"
   ]
  },
  {
   "cell_type": "code",
   "execution_count": 179,
   "metadata": {},
   "outputs": [],
   "source": [
    "samples = fit.extract(permuted=True)['theta']"
   ]
  },
  {
   "cell_type": "code",
   "execution_count": 183,
   "metadata": {},
   "outputs": [
    {
     "data": {
      "text/plain": [
       "0.10047556624303831"
      ]
     },
     "execution_count": 183,
     "metadata": {},
     "output_type": "execute_result"
    }
   ],
   "source": [
    "np.mean(samples[:, 0, 2])"
   ]
  },
  {
   "cell_type": "code",
   "execution_count": 184,
   "metadata": {},
   "outputs": [],
   "source": [
    "diff3 = []\n",
    "\n",
    "for i in range(16):\n",
    "    result3 = samples[:, i, 0] - samples[:, i, 1]\n",
    "    diff3.append(list(result3))"
   ]
  },
  {
   "cell_type": "code",
   "execution_count": 185,
   "metadata": {},
   "outputs": [
    {
     "data": {
      "text/plain": [
       "array([[-0.26316683, -0.46907552, -0.18810958, ...,  0.01134663,\n",
       "        -0.02195103, -0.4870123 ],\n",
       "       [ 0.04889463,  0.39351895, -0.1193489 , ..., -0.08524156,\n",
       "         0.11291295, -0.03893748],\n",
       "       [-0.10991316,  0.13760039,  0.14554263, ...,  0.10282834,\n",
       "         0.02578634,  0.01062272],\n",
       "       ...,\n",
       "       [ 0.09066012,  0.06472593,  0.07636403, ...,  0.19946736,\n",
       "         0.07081995,  0.20796647],\n",
       "       [ 0.23329006,  0.29721636,  0.13941577, ...,  0.20717848,\n",
       "         0.12005161,  0.24211568],\n",
       "       [ 0.09777631,  0.23095916,  0.05175801, ...,  0.30393431,\n",
       "         0.07606157,  0.15274686]])"
      ]
     },
     "execution_count": 185,
     "metadata": {},
     "output_type": "execute_result"
    }
   ],
   "source": [
    "diff3 = np.asarray(diff3)\n",
    "diff3"
   ]
  },
  {
   "cell_type": "code",
   "execution_count": 186,
   "metadata": {},
   "outputs": [],
   "source": [
    "res2 = np.sum(diff3.T * proportion / np.sum(proportion), axis=1)"
   ]
  },
  {
   "cell_type": "code",
   "execution_count": 187,
   "metadata": {},
   "outputs": [
    {
     "data": {
      "image/png": "[encoded data removed]",
      "text/plain": [
       "<Figure size 720x432 with 1 Axes>"
      ]
     },
     "metadata": {},
     "output_type": "display_data"
    }
   ],
   "source": [
    "plt.figure(figsize=(10, 6))\n",
    "_, _, _ = plt.hist(res2, bins=20, edgecolor='w', density=True)\n",
    "plt.yticks([]);\n",
    "# plt.savefig('model_non_hier.png', dpi=120)"
   ]
  },
  {
   "cell_type": "markdown",
   "metadata": {},
   "source": [
    "With this, the figure 8.1 (a) is very similiar to this one."
   ]
  },
  {
   "cell_type": "markdown",
   "metadata": {},
   "source": [
    "### **Pystan with the hierarchical model**"
   ]
  },
  {
   "cell_type": "code",
   "execution_count": 4,
   "metadata": {},
   "outputs": [],
   "source": [
    "modelo2=\"\"\"\n",
    "data {\n",
    "  int<lower=0> N;\n",
    "  int<lower=0> n;\n",
    "  int post[N, n];\n",
    "}\n",
    "\n",
    "parameters {\n",
    "  vector[n] mu;\n",
    "  cholesky_factor_corr[n] L;\n",
    "  simplex[n] alphas[N];\n",
    "  vector[n] beta[N];\n",
    "  \n",
    "}\n",
    "\n",
    "transformed parameters{\n",
    "  \n",
    "  vector[n] theta[N];\n",
    "  \n",
    "  for (i in 1:N)\n",
    "    theta[i] = inv_logit(beta[i]);\n",
    "    \n",
    "   \n",
    "}\n",
    "\n",
    "model {\n",
    "\n",
    "  L ~ lkj_corr_cholesky(3.0);\n",
    " \n",
    "  mu ~ uniform(-5, 5);\n",
    "  \n",
    "  beta ~ multi_normal_cholesky(mu, L);\n",
    "  \n",
    "  \n",
    "  for (i in 1:N)\n",
    "    alphas[i] ~ dirichlet(theta[i]);\n",
    "    \n",
    "  for (i in 1:N)\n",
    "    post[i] ~ multinomial(alphas[i]);\n",
    "  \n",
    "}\n",
    "\n",
    "generated quantities {\n",
    "\n",
    "  corr_matrix[n] Sigma;\n",
    "  Sigma = multiply_lower_tri_self_transpose(L);\n",
    "  \n",
    "}\n",
    "\n",
    "\n",
    "\"\"\""
   ]
  },
  {
   "cell_type": "code",
   "execution_count": 5,
   "metadata": {},
   "outputs": [
    {
     "name": "stderr",
     "output_type": "stream",
     "text": [
      "INFO:pystan:COMPILING THE C++ CODE FOR MODEL anon_model_ffbf49915be317bed47428f1a01cfff8 NOW.\n"
     ]
    }
   ],
   "source": [
    "stan_modelo2 = pystan.StanModel(model_code=modelo2)"
   ]
  },
  {
   "cell_type": "code",
   "execution_count": 18,
   "metadata": {},
   "outputs": [],
   "source": [
    "data3 = {'N': 16,\n",
    "         'n': 2,\n",
    "         'post': new_values.astype(int)}"
   ]
  },
  {
   "cell_type": "code",
   "execution_count": 96,
   "metadata": {},
   "outputs": [
    {
     "name": "stderr",
     "output_type": "stream",
     "text": [
      "WARNING:pystan:n_eff / iter below 0.001 indicates that the effective sample size has likely been overestimated\n",
      "WARNING:pystan:Rhat above 1.1 or below 0.9 indicates that the chains very likely have not mixed\n",
      "WARNING:pystan:4639 of 10000 iterations ended with a divergence (46.4 %).\n",
      "WARNING:pystan:Try running with adapt_delta larger than 0.9 to remove the divergences.\n"
     ]
    }
   ],
   "source": [
    "fit2 = stan_modelo2.sampling(data=data3, iter=5000, verbose=True, control={'adapt_delta':0.90})"
   ]
  },
  {
   "cell_type": "code",
   "execution_count": 97,
   "metadata": {
    "scrolled": true
   },
   "outputs": [
    {
     "name": "stdout",
     "output_type": "stream",
     "text": [
      "Inference for Stan model: anon_model_ffbf49915be317bed47428f1a01cfff8.\n",
      "4 chains, each with iter=5000; warmup=2500; thin=1; \n",
      "post-warmup draws per chain=2500, total post-warmup draws=10000.\n",
      "\n",
      "               mean se_mean     sd   2.5%    25%    50%    75%  97.5%  n_eff   Rhat\n",
      "mu[1]        3.2259  0.0658 1.1490 0.8594 2.3988 3.3432 4.1962 4.9292    304 1.0180\n",
      "mu[2]        3.6858  0.0391 0.9187 1.6463 3.0634 3.8291 4.4515 4.9458    550 1.0108\n",
      "L[1,1]          1.0     nan    0.0    1.0    1.0    1.0    1.0    1.0    nan    nan\n",
      "L[2,1]       0.0011  0.0131 0.3742 -0.695 -0.276-7.2306e-7 0.2743 0.7092    811 1.0027\n",
      "L[1,2]          0.0     nan    0.0    0.0    0.0    0.0    0.0    0.0    nan    nan\n",
      "L[2,2]       0.9223  0.0023 0.0961 0.6484 0.8880 0.9611 0.9906 0.9999   1734 1.0008\n",
      "alphas[1,1]  0.2702  0.0010 0.0557 0.1717 0.2288 0.2675 0.3085 0.3838   2606 1.0017\n",
      "alphas[2,1]  0.3501  0.0015 0.0570 0.2415 0.3110 0.3493 0.3885 0.4636   1332 1.0010\n",
      "alphas[3,1]  0.3774  0.0008 0.0319 0.3161 0.3555 0.3767 0.3986 0.4413   1418 1.0060\n",
      "alphas[4,1]  0.3287  0.0011 0.0473 0.2418 0.2961 0.3278 0.3599 0.4240   1720 1.0005\n",
      "alphas[5,1]  0.3426  0.0013 0.0602 0.2302 0.3009 0.3404 0.3820 0.4663   2047 1.0003\n",
      "alphas[6,1]  0.3608  0.0011 0.0417 0.2815 0.3327 0.3607 0.3890 0.4432   1447  1.004\n",
      "alphas[7,1]  0.3901  0.0008 0.0359 0.3204 0.3662 0.3893 0.4141  0.462   1862 1.0014\n",
      "alphas[8,1]  0.4125  0.0007 0.0326 0.3497 0.3903 0.4119 0.4347 0.4776   1798 1.0003\n",
      "alphas[9,1]  0.4255  0.0020 0.0828 0.2732 0.3661 0.4238 0.4810 0.5925   1693 1.0040\n",
      "alphas[10,1] 0.3788  0.0010 0.0420 0.2972 0.3500 0.3787 0.4072 0.4618   1569 1.0028\n",
      "alphas[11,1] 0.3816  0.0008 0.0396 0.3068 0.3545 0.3807 0.4073 0.4633   2058 1.0024\n",
      "alphas[12,1] 0.4040  0.0007 0.0298 0.3475 0.3831 0.4042 0.4246 0.4623   1447 1.0021\n",
      "alphas[13,1] 0.3545  0.0017 0.0667 0.2266 0.3082 0.3537    0.4 0.4828   1515 1.0009\n",
      "alphas[14,1] 0.4046  0.0012 0.0455 0.3184 0.3735 0.4043 0.4344 0.4956   1420 1.0020\n",
      "alphas[15,1] 0.3975  0.0008 0.0354 0.3276 0.3730 0.3978 0.4217 0.4675   1929 1.0013\n",
      "alphas[16,1] 0.3981  0.0009 0.0428 0.3169 0.3681 0.3981 0.4267 0.4834   2284 1.0009\n",
      "alphas[1,2]  0.7297  0.0010 0.0557 0.6161 0.6914 0.7324 0.7711 0.8282   2606 1.0017\n",
      "alphas[2,2]  0.6498  0.0015 0.0570 0.5363 0.6114 0.6506 0.6889 0.7584   1332 1.0010\n",
      "alphas[3,2]  0.6225  0.0008 0.0319 0.5586 0.6013 0.6232 0.6444 0.6838   1418 1.0060\n",
      "alphas[4,2]  0.6712  0.0011 0.0473 0.5759 0.6400 0.6721 0.7038 0.7581   1720 1.0005\n",
      "alphas[5,2]  0.6573  0.0013 0.0602 0.5336 0.6179 0.6595 0.6990 0.7697   2047 1.0003\n",
      "alphas[6,2]  0.6391  0.0011 0.0417 0.5567 0.6109 0.6392 0.6672 0.7184   1447  1.004\n",
      "alphas[7,2]  0.6098  0.0008 0.0359  0.538 0.5858 0.6106 0.6337 0.6795   1862 1.0014\n",
      "alphas[8,2]  0.5874  0.0007 0.0326 0.5223 0.5652 0.5880 0.6096 0.6502   1798 1.0003\n",
      "alphas[9,2]  0.5744  0.0020 0.0828 0.4074 0.5189 0.5761 0.6338 0.7267   1693 1.0040\n",
      "alphas[10,2] 0.6211  0.0010 0.0420 0.5381 0.5927 0.6212 0.6499 0.7027   1569 1.0028\n",
      "alphas[11,2] 0.6183  0.0008 0.0396 0.5366 0.5926 0.6192 0.6454 0.6931   2058 1.0024\n",
      "alphas[12,2] 0.5959  0.0007 0.0298 0.5376 0.5753 0.5957 0.6168 0.6524   1447 1.0021\n",
      "alphas[13,2] 0.6454  0.0017 0.0667 0.5171    0.6 0.6462 0.6917 0.7733   1515 1.0009\n",
      "alphas[14,2] 0.5953  0.0012 0.0455 0.5043 0.5655 0.5956 0.6264 0.6815   1420 1.0020\n",
      "alphas[15,2] 0.6025  0.0008 0.0354 0.5324 0.5782 0.6022 0.6269 0.6723   1929 1.0013\n",
      "alphas[16,2] 0.6018  0.0009 0.0428 0.5165 0.5732 0.6018 0.6318 0.6830   2284 1.0009\n",
      "beta[1,1]    3.2385  0.0748 1.5245 0.1976 2.1875 3.2682 4.3030 6.0969    415 1.0106\n",
      "beta[2,1]    3.2424  0.0671 1.4828 0.2796 2.2277 3.3400 4.2798 6.0665    488 1.0081\n",
      "beta[3,1]    3.2193  0.0715 1.5054 0.3086 2.1666 3.2379 4.3053 6.0204    442 1.0121\n",
      "beta[4,1]    3.2158  0.0741 1.4952 0.2303 2.1715 3.2817 4.3043 5.8683    407 1.0165\n",
      "beta[5,1]    3.2630  0.0736 1.5009 0.2441 2.2089 3.3462 4.3340 5.9145    415 1.0104\n",
      "beta[6,1]    3.2364  0.0742 1.4918 0.2866 2.1650 3.3170 4.3175 6.0066    404 1.0133\n",
      "beta[7,1]    3.2557  0.0758 1.5133 0.1784 2.2249 3.2905 4.3612 5.9828    398 1.0165\n",
      "beta[8,1]    3.2259  0.0653 1.4759 0.2202 2.2272 3.3057 4.2915 5.8631    510 1.0079\n",
      "beta[9,1]    3.2515  0.0725 1.4962 0.3307 2.1790 3.2903 4.3106 6.1601    426 1.0151\n",
      "beta[10,1]   3.2630  0.0714 1.4988 0.2828 2.2214 3.3281 4.3479 6.0415    440 1.0109\n",
      "beta[11,1]   3.2481  0.0788 1.5204 0.2189 2.1967 3.2726 4.2991 6.2250    372 1.0116\n",
      "beta[12,1]   3.2038  0.0631 1.4347 0.3324 2.2056 3.2803 4.2518 5.7939    517 1.0095\n",
      "beta[13,1]   3.2848  0.0773 1.5243 0.2597 2.2250 3.3338 4.3469 6.1231    388 1.0127\n",
      "beta[14,1]   3.2543  0.0719 1.5079 0.2189 2.2136 3.3343 4.3590 5.9097    439 1.0108\n",
      "beta[15,1]   3.2748  0.0724 1.4954 0.2882 2.2349 3.3356 4.3488 6.0593    426 1.0126\n",
      "beta[16,1]   3.2567  0.0709 1.4820   0.29 2.2149 3.3237 4.3454 5.9015    437 1.0117\n",
      "beta[1,2]    3.6959  0.0496 1.3556 0.9896 2.7872 3.7237 4.6293 6.2557    745 1.0091\n",
      "beta[2,2]    3.7305  0.0503 1.3469 1.0297 2.8071 3.7577 4.6702 6.3048    715 1.0071\n",
      "beta[3,2]    3.7056  0.0469 1.3463 0.9312 2.8040 3.7658 4.6293 6.1879    823 1.0064\n",
      "beta[4,2]    3.7454  0.0486 1.3594 0.9555 2.8574 3.7743 4.6674 6.3774    782 1.0077\n",
      "beta[5,2]    3.7376  0.0440 1.2952 1.1086 2.8742 3.7829 4.6209 6.2013    866 1.0044\n",
      "beta[6,2]    3.6970  0.0411 1.2830 1.0644 2.8460 3.7418 4.6000 6.0731    971 1.0036\n",
      "beta[7,2]    3.6969  0.0449 1.3325 1.0120 2.7962 3.7554 4.6147 6.2151    877 1.0066\n",
      "beta[8,2]    3.7044  0.0550 1.3353 1.0408 2.8144 3.7322 4.6363 6.2081    589 1.0109\n",
      "beta[9,2]    3.7076  0.0451 1.3320 0.9188 2.8136 3.7422 4.6428 6.2170    870 1.0032\n",
      "beta[10,2]   3.7225  0.0435 1.3169 1.0416 2.8177 3.7791 4.6516 6.1815    915 1.0072\n",
      "beta[11,2]   3.7049  0.0435 1.3081 1.0128 2.8256 3.7525 4.6298 6.0571    904 1.0077\n",
      "beta[12,2]   3.7134  0.0562 1.3591 1.0266 2.7855 3.7597 4.6871 6.1724    583 1.0095\n",
      "beta[13,2]   3.7047  0.0434 1.3035 1.0626 2.8680 3.7051 4.6143 6.1418    900 1.0116\n",
      "beta[14,2]   3.7283  0.0473 1.3262 1.0170 2.8390 3.7899 4.6422 6.1933    786 1.0061\n",
      "beta[15,2]   3.7097  0.0444 1.3188 1.0377 2.8356 3.7572 4.6128 6.1742    879 1.0065\n",
      "beta[16,2]   3.7203  0.0474 1.3363 1.0278 2.8194 3.7491 4.6733 6.1851    792 1.0057\n",
      "theta[1,1]   0.9162  0.0042 0.1169 0.5492 0.8991 0.9633 0.9866 0.9977    762 1.0038\n",
      "theta[2,1]   0.9186  0.0041 0.1143 0.5694 0.9027 0.9657 0.9863 0.9976    746 1.0033\n",
      "theta[3,1]   0.9164  0.0040  0.115 0.5765 0.8972 0.9622 0.9866 0.9975    815 1.0055\n",
      "theta[4,1]   0.9158  0.0043 0.1177 0.5573 0.8976 0.9638 0.9866 0.9971    720 1.0061\n",
      "theta[5,1]   0.9183  0.0042 0.1158 0.5607 0.9010 0.9659 0.9870 0.9973    738 1.0048\n",
      "theta[6,1]   0.9175  0.0041 0.1137 0.5711 0.8970 0.9650 0.9868 0.9975    736 1.0058\n",
      "theta[7,1]   0.9178  0.0043 0.1168 0.5444 0.9024 0.9641 0.9874 0.9974    729 1.0062\n",
      "theta[8,1]   0.9176  0.0044 0.1182 0.5548 0.9026 0.9646 0.9865 0.9971    701 1.0047\n",
      "theta[9,1]   0.9193  0.0037 0.1098 0.5819 0.8983 0.9641 0.9867 0.9978    860 1.0037\n",
      "theta[10,1]  0.9188  0.0043 0.1144 0.5702 0.9021 0.9653 0.9872 0.9976    704 1.0047\n",
      "theta[11,1]  0.9177  0.0043 0.1145 0.5545 0.8999 0.9634 0.9866 0.9980    711 1.0053\n",
      "theta[12,1]  0.9186  0.0039 0.1116 0.5823 0.9007 0.9637 0.9859 0.9969    791 1.0039\n",
      "theta[13,1]  0.9193  0.0043 0.1153 0.5645 0.9024 0.9655 0.9872 0.9978    694 1.0049\n",
      "theta[14,1]  0.9173  0.0044 0.1187 0.5545 0.9014 0.9655 0.9873 0.9972    707 1.0038\n",
      "theta[15,1]  0.9197  0.0041 0.1130 0.5715 0.9033 0.9656 0.9872 0.9976    729 1.0058\n",
      "theta[16,1]  0.9194  0.0041 0.1131  0.572 0.9015 0.9652 0.9872 0.9972    733 1.0038\n",
      "theta[1,2]   0.9494  0.0020 0.0740 0.7290 0.9419 0.9764 0.9903 0.9980   1261 1.0046\n",
      "theta[2,2]   0.9510  0.0019 0.0723 0.7368 0.9430 0.9772 0.9907 0.9981   1391 1.0027\n",
      "theta[3,2]   0.9494  0.0022 0.0761 0.7173 0.9428 0.9773 0.9903 0.9979   1174 1.0039\n",
      "theta[4,2]   0.9510  0.0020 0.0742 0.7222 0.9457 0.9775 0.9906 0.9983   1364 1.0029\n",
      "theta[5,2]   0.9532  0.0018 0.0687 0.7518 0.9465 0.9777 0.9902 0.9979   1421 1.0031\n",
      "theta[6,2]   0.9516  0.0018 0.0710 0.7435 0.9451 0.9768 0.9900 0.9977   1522 1.0015\n",
      "theta[7,2]   0.9499  0.0020 0.0735 0.7334 0.9424 0.9771 0.9901  0.998   1342 1.0035\n",
      "theta[8,2]   0.9502  0.0022 0.0731 0.7390 0.9434 0.9766 0.9904 0.9979   1093 1.0041\n",
      "theta[9,2]   0.9502  0.0018 0.0744 0.7148 0.9434 0.9768 0.9904 0.9980   1552 1.0018\n",
      "theta[10,2]  0.9516  0.0019 0.0717 0.7391 0.9436 0.9776 0.9905 0.9979   1414 1.0040\n",
      "theta[11,2]  0.9510  0.0020 0.0733 0.7335 0.9440 0.9770 0.9903 0.9976   1334 1.0039\n",
      "theta[12,2]  0.9496  0.0021 0.0732 0.7362 0.9418 0.9772 0.9908 0.9979   1184 1.0033\n",
      "theta[13,2]  0.9515  0.0018 0.0708 0.7431 0.9462 0.9759 0.9901 0.9978   1404 1.0037\n",
      "theta[14,2]  0.9513  0.0019 0.0727 0.7344 0.9447 0.9779 0.9904 0.9979   1446 1.0012\n",
      "theta[15,2]  0.9510  0.0020 0.0728 0.7384 0.9445 0.9771 0.9901 0.9979   1302 1.0027\n",
      "theta[16,2]   0.951  0.0019 0.0708 0.7364 0.9437  0.977 0.9907 0.9979   1396 1.0032\n",
      "Sigma[1,1]      1.0     nan    0.0    1.0    1.0    1.0    1.0    1.0    nan    nan\n",
      "Sigma[2,1]   0.0011  0.0131 0.3742 -0.695 -0.276-7.2306e-7 0.2743 0.7092    811 1.0027\n",
      "Sigma[1,2]   0.0011  0.0131 0.3742 -0.695 -0.276-7.2306e-7 0.2743 0.7092    811 1.0027\n",
      "Sigma[2,2]      1.09.8562e-198.8112e-17    1.0    1.0    1.0    1.0    1.0   7992 0.9996\n",
      "lp__        -1.4439e3  0.1163 4.9815-1.4544e3-1.4472e3-1.4436e3-1.4404e3-1.435e3   1832 1.0022\n",
      "\n",
      "Samples were drawn using NUTS at Tue Dec 10 16:22:40 2019.\n",
      "For each parameter, n_eff is a crude measure of effective sample size,\n",
      "and Rhat is the potential scale reduction factor on split chains (at \n",
      "convergence, Rhat=1).\n"
     ]
    }
   ],
   "source": [
    "print(fit2.stansummary(digits_summary=5))"
   ]
  },
  {
   "cell_type": "code",
   "execution_count": 98,
   "metadata": {},
   "outputs": [],
   "source": [
    "samples2 = fit2.extract(permuted=True)['alphas']"
   ]
  },
  {
   "cell_type": "code",
   "execution_count": 99,
   "metadata": {},
   "outputs": [],
   "source": [
    "th5 = []\n",
    "\n",
    "for i in range(16):\n",
    "    res5 =  2 * samples2[:, i, 0] * samples2[:, i, 1] - samples2[:, i, 1] \n",
    "#     result1 = - 2 * ppc_hier['alphas'][:, i, 0] * ppc_hier['alphas'][:, i, 1] + ppc_hier['alphas'][:, i, 1] \n",
    "    th5.append(list(result5))"
   ]
  },
  {
   "cell_type": "code",
   "execution_count": 100,
   "metadata": {},
   "outputs": [
    {
     "data": {
      "text/plain": [
       "(16, 8000)"
      ]
     },
     "execution_count": 100,
     "metadata": {},
     "output_type": "execute_result"
    }
   ],
   "source": [
    "th5 = np.asarray(th5)\n",
    "th5.shape"
   ]
  },
  {
   "cell_type": "code",
   "execution_count": 101,
   "metadata": {},
   "outputs": [
    {
     "name": "stdout",
     "output_type": "stream",
     "text": [
      "(8000,)\n"
     ]
    },
    {
     "data": {
      "text/plain": [
       "array([-0.11965072, -0.11812914, -0.164097  , -0.16740873, -0.18001722,\n",
       "       -0.16055835, -0.07397384, -0.12309058, -0.06696517, -0.18929071,\n",
       "       -0.11754521, -0.09852861, -0.20565993, -0.10907691, -0.16215137])"
      ]
     },
     "execution_count": 101,
     "metadata": {},
     "output_type": "execute_result"
    }
   ],
   "source": [
    "result5 = np.sum(th5.T * proportion / np.sum(proportion), axis=1)\n",
    "print(result5.shape)\n",
    "result5[:15]"
   ]
  },
  {
   "cell_type": "code",
   "execution_count": 102,
   "metadata": {},
   "outputs": [
    {
     "data": {
      "image/png": "[encoded data removed]",
      "text/plain": [
       "<Figure size 720x432 with 1 Axes>"
      ]
     },
     "metadata": {},
     "output_type": "display_data"
    }
   ],
   "source": [
    "plt.figure(figsize=(10, 6))\n",
    "_, _, _ = plt.hist(result5 , bins=20, edgecolor='w', density=True)\n",
    "plt.yticks([]);\n",
    "# plt.savefig('model_hier.png', dpi=120)"
   ]
  },
  {
   "cell_type": "markdown",
   "metadata": {},
   "source": [
    "Again, very similar to the figure 8.1 (b), except for a minus sign. Why? It is not clear at the moment."
   ]
  }
 ],
 "metadata": {
  "kernelspec": {
   "display_name": "Python 3",
   "language": "python",
   "name": "python3"
  },
  "language_info": {
   "codemirror_mode": {
    "name": "ipython",
    "version": 3
   },
   "file_extension": ".py",
   "mimetype": "text/x-python",
   "name": "python",
   "nbconvert_exporter": "python",
   "pygments_lexer": "ipython3",
   "version": "3.6.9"
  }
 },
 "nbformat": 4,
 "nbformat_minor": 4
}

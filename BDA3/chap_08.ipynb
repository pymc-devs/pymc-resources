{
 "cells": [
  {
   "cell_type": "markdown",
   "metadata": {},
   "source": [
    "## **Example. Stratified sampling in pre-election polling**"
   ]
  },
  {
   "cell_type": "code",
   "execution_count": 29,
   "metadata": {},
   "outputs": [],
   "source": [
    "%matplotlib inline\n",
    "\n",
    "import numpy as np\n",
    "import matplotlib.pyplot as plt\n",
    "import pymc3 as pm\n",
    "import pandas as pd\n",
    "import scipy.stats as stats\n",
    "import theano.tensor as tt\n",
    "import arviz\n",
    "import seaborn\n",
    "\n",
    "import warnings\n",
    "warnings.simplefilter(action='ignore', category=FutureWarning)\n",
    "\n",
    "plt.style.use('seaborn-darkgrid')\n",
    "plt.rc('font', size=12)\n",
    "\n",
    "%config Inline.figure_formats = ['retina']"
   ]
  },
  {
   "cell_type": "markdown",
   "metadata": {},
   "source": [
    "A survey of 1447 adults."
   ]
  },
  {
   "cell_type": "code",
   "execution_count": 2,
   "metadata": {},
   "outputs": [],
   "source": [
    "participants = 1447"
   ]
  },
  {
   "cell_type": "markdown",
   "metadata": {},
   "source": [
    "This is the Table 8.2"
   ]
  },
  {
   "cell_type": "code",
   "execution_count": 3,
   "metadata": {},
   "outputs": [
    {
     "data": {
      "text/html": [
       "<div>\n",
       "<style scoped>\n",
       "    .dataframe tbody tr th:only-of-type {\n",
       "        vertical-align: middle;\n",
       "    }\n",
       "\n",
       "    .dataframe tbody tr th {\n",
       "        vertical-align: top;\n",
       "    }\n",
       "\n",
       "    .dataframe thead th {\n",
       "        text-align: right;\n",
       "    }\n",
       "</style>\n",
       "<table border=\"1\" class=\"dataframe\">\n",
       "  <thead>\n",
       "    <tr style=\"text-align: right;\">\n",
       "      <th></th>\n",
       "      <th>region</th>\n",
       "      <th>density</th>\n",
       "      <th>bush</th>\n",
       "      <th>dukakis</th>\n",
       "      <th>other</th>\n",
       "      <th>proportion</th>\n",
       "    </tr>\n",
       "  </thead>\n",
       "  <tbody>\n",
       "    <tr>\n",
       "      <th>0</th>\n",
       "      <td>Northeast</td>\n",
       "      <td>I</td>\n",
       "      <td>0.298</td>\n",
       "      <td>0.617</td>\n",
       "      <td>0.085</td>\n",
       "      <td>0.032</td>\n",
       "    </tr>\n",
       "    <tr>\n",
       "      <th>1</th>\n",
       "      <td>Northeast</td>\n",
       "      <td>II</td>\n",
       "      <td>0.500</td>\n",
       "      <td>0.478</td>\n",
       "      <td>0.022</td>\n",
       "      <td>0.032</td>\n",
       "    </tr>\n",
       "    <tr>\n",
       "      <th>2</th>\n",
       "      <td>Northeast</td>\n",
       "      <td>III</td>\n",
       "      <td>0.467</td>\n",
       "      <td>0.413</td>\n",
       "      <td>0.120</td>\n",
       "      <td>0.115</td>\n",
       "    </tr>\n",
       "    <tr>\n",
       "      <th>3</th>\n",
       "      <td>Northeast</td>\n",
       "      <td>IV</td>\n",
       "      <td>0.464</td>\n",
       "      <td>0.522</td>\n",
       "      <td>0.014</td>\n",
       "      <td>0.048</td>\n",
       "    </tr>\n",
       "    <tr>\n",
       "      <th>4</th>\n",
       "      <td>Midwest</td>\n",
       "      <td>I</td>\n",
       "      <td>0.404</td>\n",
       "      <td>0.489</td>\n",
       "      <td>0.106</td>\n",
       "      <td>0.032</td>\n",
       "    </tr>\n",
       "    <tr>\n",
       "      <th>5</th>\n",
       "      <td>Midwest</td>\n",
       "      <td>II</td>\n",
       "      <td>0.447</td>\n",
       "      <td>0.447</td>\n",
       "      <td>0.106</td>\n",
       "      <td>0.065</td>\n",
       "    </tr>\n",
       "    <tr>\n",
       "      <th>6</th>\n",
       "      <td>Midwest</td>\n",
       "      <td>III</td>\n",
       "      <td>0.509</td>\n",
       "      <td>0.388</td>\n",
       "      <td>0.103</td>\n",
       "      <td>0.080</td>\n",
       "    </tr>\n",
       "    <tr>\n",
       "      <th>7</th>\n",
       "      <td>Midwest</td>\n",
       "      <td>IV</td>\n",
       "      <td>0.552</td>\n",
       "      <td>0.338</td>\n",
       "      <td>0.110</td>\n",
       "      <td>0.100</td>\n",
       "    </tr>\n",
       "    <tr>\n",
       "      <th>8</th>\n",
       "      <td>South</td>\n",
       "      <td>I</td>\n",
       "      <td>0.571</td>\n",
       "      <td>0.286</td>\n",
       "      <td>0.143</td>\n",
       "      <td>0.015</td>\n",
       "    </tr>\n",
       "    <tr>\n",
       "      <th>9</th>\n",
       "      <td>South</td>\n",
       "      <td>II</td>\n",
       "      <td>0.469</td>\n",
       "      <td>0.406</td>\n",
       "      <td>0.125</td>\n",
       "      <td>0.066</td>\n",
       "    </tr>\n",
       "    <tr>\n",
       "      <th>10</th>\n",
       "      <td>South</td>\n",
       "      <td>III</td>\n",
       "      <td>0.515</td>\n",
       "      <td>0.404</td>\n",
       "      <td>0.081</td>\n",
       "      <td>0.068</td>\n",
       "    </tr>\n",
       "    <tr>\n",
       "      <th>11</th>\n",
       "      <td>South</td>\n",
       "      <td>IV</td>\n",
       "      <td>0.555</td>\n",
       "      <td>0.352</td>\n",
       "      <td>0.093</td>\n",
       "      <td>0.126</td>\n",
       "    </tr>\n",
       "    <tr>\n",
       "      <th>12</th>\n",
       "      <td>West</td>\n",
       "      <td>I</td>\n",
       "      <td>0.500</td>\n",
       "      <td>0.471</td>\n",
       "      <td>0.029</td>\n",
       "      <td>0.023</td>\n",
       "    </tr>\n",
       "    <tr>\n",
       "      <th>13</th>\n",
       "      <td>West</td>\n",
       "      <td>II</td>\n",
       "      <td>0.532</td>\n",
       "      <td>0.351</td>\n",
       "      <td>0.117</td>\n",
       "      <td>0.053</td>\n",
       "    </tr>\n",
       "    <tr>\n",
       "      <th>14</th>\n",
       "      <td>West</td>\n",
       "      <td>III</td>\n",
       "      <td>0.540</td>\n",
       "      <td>0.371</td>\n",
       "      <td>0.089</td>\n",
       "      <td>0.086</td>\n",
       "    </tr>\n",
       "    <tr>\n",
       "      <th>15</th>\n",
       "      <td>West</td>\n",
       "      <td>IV</td>\n",
       "      <td>0.554</td>\n",
       "      <td>0.361</td>\n",
       "      <td>0.084</td>\n",
       "      <td>0.057</td>\n",
       "    </tr>\n",
       "  </tbody>\n",
       "</table>\n",
       "</div>"
      ],
      "text/plain": [
       "       region density   bush  dukakis  other  proportion\n",
       "0   Northeast       I  0.298    0.617  0.085       0.032\n",
       "1   Northeast      II  0.500    0.478  0.022       0.032\n",
       "2   Northeast     III  0.467    0.413  0.120       0.115\n",
       "3   Northeast      IV  0.464    0.522  0.014       0.048\n",
       "4     Midwest       I  0.404    0.489  0.106       0.032\n",
       "5     Midwest      II  0.447    0.447  0.106       0.065\n",
       "6     Midwest     III  0.509    0.388  0.103       0.080\n",
       "7     Midwest      IV  0.552    0.338  0.110       0.100\n",
       "8       South       I  0.571    0.286  0.143       0.015\n",
       "9       South      II  0.469    0.406  0.125       0.066\n",
       "10      South     III  0.515    0.404  0.081       0.068\n",
       "11      South      IV  0.555    0.352  0.093       0.126\n",
       "12       West       I  0.500    0.471  0.029       0.023\n",
       "13       West      II  0.532    0.351  0.117       0.053\n",
       "14       West     III  0.540    0.371  0.089       0.086\n",
       "15       West      IV  0.554    0.361  0.084       0.057"
      ]
     },
     "execution_count": 3,
     "metadata": {},
     "output_type": "execute_result"
    }
   ],
   "source": [
    "data = pd.read_csv('data/cbs_survey.txt', sep=' ', skiprows=2, skipinitialspace=True, index_col=False)\n",
    "data"
   ]
  },
  {
   "cell_type": "markdown",
   "metadata": {},
   "source": [
    "We need the number of people of each region and each candidate."
   ]
  },
  {
   "cell_type": "code",
   "execution_count": 4,
   "metadata": {},
   "outputs": [
    {
     "name": "stdout",
     "output_type": "stream",
     "text": [
      "[[0.298 0.617 0.085]\n",
      " [0.5   0.478 0.022]\n",
      " [0.467 0.413 0.12 ]\n",
      " [0.464 0.522 0.014]\n",
      " [0.404 0.489 0.106]\n",
      " [0.447 0.447 0.106]\n",
      " [0.509 0.388 0.103]\n",
      " [0.552 0.338 0.11 ]\n",
      " [0.571 0.286 0.143]\n",
      " [0.469 0.406 0.125]\n",
      " [0.515 0.404 0.081]\n",
      " [0.555 0.352 0.093]\n",
      " [0.5   0.471 0.029]\n",
      " [0.532 0.351 0.117]\n",
      " [0.54  0.371 0.089]\n",
      " [0.554 0.361 0.084]]\n"
     ]
    }
   ],
   "source": [
    "data_obs = data[['bush', 'dukakis', 'other']].to_numpy()\n",
    "print(data_obs)"
   ]
  },
  {
   "cell_type": "code",
   "execution_count": 5,
   "metadata": {},
   "outputs": [
    {
     "name": "stdout",
     "output_type": "stream",
     "text": [
      "[ 46.304  46.304 166.405  69.456  46.304  94.055 115.76  144.7    21.705\n",
      "  95.502  98.396 182.322  33.281  76.691 124.442  82.479]\n"
     ]
    }
   ],
   "source": [
    "proportion = data['proportion'].to_numpy() * participants\n",
    "print(proportion)"
   ]
  },
  {
   "cell_type": "code",
   "execution_count": 6,
   "metadata": {},
   "outputs": [
    {
     "name": "stdout",
     "output_type": "stream",
     "text": [
      "(16, 3)\n",
      "(16,)\n"
     ]
    }
   ],
   "source": [
    "print(data_obs.shape)\n",
    "print(proportion.shape)"
   ]
  },
  {
   "cell_type": "code",
   "execution_count": 7,
   "metadata": {},
   "outputs": [
    {
     "data": {
      "text/plain": [
       "1447.0"
      ]
     },
     "execution_count": 7,
     "metadata": {},
     "output_type": "execute_result"
    }
   ],
   "source": [
    "valores = data_obs[:, :] * proportion.reshape(16, -1)\n",
    "valores = np.round(valores)\n",
    "np.sum(valores)   # Check if the sum is equal to 1447"
   ]
  },
  {
   "cell_type": "markdown",
   "metadata": {},
   "source": [
    "### **Nonhierarchical model**"
   ]
  },
  {
   "cell_type": "code",
   "execution_count": 8,
   "metadata": {},
   "outputs": [],
   "source": [
    "with pm.Model() as model_non_hiera:\n",
    "    \n",
    "    thetas = pm.Dirichlet('thetas', a=np.ones_like(data_obs), shape=(16, 3))\n",
    "    post = pm.Multinomial('post', n=np.sum(valores, axis=1), p=thetas, observed=valores)"
   ]
  },
  {
   "cell_type": "code",
   "execution_count": 9,
   "metadata": {},
   "outputs": [
    {
     "data": {
      "text/plain": [
       "thetas_stickbreaking__    -41.64\n",
       "post                     -322.85\n",
       "Name: Log-probability of test_point, dtype: float64"
      ]
     },
     "execution_count": 9,
     "metadata": {},
     "output_type": "execute_result"
    }
   ],
   "source": [
    "model_non_hiera.check_test_point()"
   ]
  },
  {
   "cell_type": "code",
   "execution_count": 10,
   "metadata": {},
   "outputs": [
    {
     "data": {
      "image/svg+xml": [
       "<?xml version=\"1.0\" encoding=\"UTF-8\" standalone=\"no\"?>\n",
       "<!DOCTYPE svg PUBLIC \"-//W3C//DTD SVG 1.1//EN\"\n",
       " \"http://www.w3.org/Graphics/SVG/1.1/DTD/svg11.dtd\">\n",
       "<!-- Generated by graphviz version 2.40.1 (20161225.0304)\n",
       " -->\n",
       "<!-- Title: %3 Pages: 1 -->\n",
       "<svg width=\"200pt\" height=\"171pt\"\n",
       " viewBox=\"0.00 0.00 200.00 171.00\" xmlns=\"http://www.w3.org/2000/svg\" xmlns:xlink=\"http://www.w3.org/1999/xlink\">\n",
       "<g id=\"graph0\" class=\"graph\" transform=\"scale(1 1) rotate(0) translate(4 167)\">\n",
       "<title>%3</title>\n",
       "<polygon fill=\"#ffffff\" stroke=\"transparent\" points=\"-4,4 -4,-167 196,-167 196,4 -4,4\"/>\n",
       "<g id=\"clust1\" class=\"cluster\">\n",
       "<title>cluster16 x 3</title>\n",
       "<path fill=\"none\" stroke=\"#000000\" d=\"M20,-8C20,-8 172,-8 172,-8 178,-8 184,-14 184,-20 184,-20 184,-143 184,-143 184,-149 178,-155 172,-155 172,-155 20,-155 20,-155 14,-155 8,-149 8,-143 8,-143 8,-20 8,-20 8,-14 14,-8 20,-8\"/>\n",
       "<text text-anchor=\"middle\" x=\"158.5\" y=\"-15.8\" font-family=\"Times,serif\" font-size=\"14.00\" fill=\"#000000\">16 x 3</text>\n",
       "</g>\n",
       "<!-- thetas -->\n",
       "<g id=\"node1\" class=\"node\">\n",
       "<title>thetas</title>\n",
       "<ellipse fill=\"none\" stroke=\"#000000\" cx=\"96\" cy=\"-129\" rx=\"72.2875\" ry=\"18\"/>\n",
       "<text text-anchor=\"middle\" x=\"96\" y=\"-125.3\" font-family=\"Times,serif\" font-size=\"14.00\" fill=\"#000000\">thetas ~ Dirichlet</text>\n",
       "</g>\n",
       "<!-- post -->\n",
       "<g id=\"node2\" class=\"node\">\n",
       "<title>post</title>\n",
       "<ellipse fill=\"#d3d3d3\" stroke=\"#000000\" cx=\"96\" cy=\"-57\" rx=\"79.8859\" ry=\"18\"/>\n",
       "<text text-anchor=\"middle\" x=\"96\" y=\"-53.3\" font-family=\"Times,serif\" font-size=\"14.00\" fill=\"#000000\">post ~ Multinomial</text>\n",
       "</g>\n",
       "<!-- thetas&#45;&gt;post -->\n",
       "<g id=\"edge1\" class=\"edge\">\n",
       "<title>thetas&#45;&gt;post</title>\n",
       "<path fill=\"none\" stroke=\"#000000\" d=\"M96,-110.8314C96,-103.131 96,-93.9743 96,-85.4166\"/>\n",
       "<polygon fill=\"#000000\" stroke=\"#000000\" points=\"99.5001,-85.4132 96,-75.4133 92.5001,-85.4133 99.5001,-85.4132\"/>\n",
       "</g>\n",
       "</g>\n",
       "</svg>\n"
      ],
      "text/plain": [
       "<graphviz.dot.Digraph at 0x7f4b3ef01400>"
      ]
     },
     "execution_count": 10,
     "metadata": {},
     "output_type": "execute_result"
    }
   ],
   "source": [
    "pm.model_to_graphviz(model_non_hiera)"
   ]
  },
  {
   "cell_type": "code",
   "execution_count": 11,
   "metadata": {},
   "outputs": [
    {
     "name": "stderr",
     "output_type": "stream",
     "text": [
      "Auto-assigning NUTS sampler...\n",
      "Initializing NUTS using jitter+adapt_diag...\n",
      "Multiprocess sampling (4 chains in 4 jobs)\n",
      "NUTS: [thetas]\n",
      "Sampling 4 chains: 100%|██████████| 16000/16000 [00:13<00:00, 1165.84draws/s]\n"
     ]
    }
   ],
   "source": [
    "with model_non_hiera:\n",
    "    trace_1 = pm.sample(draws=2000, tune=2000)"
   ]
  },
  {
   "cell_type": "code",
   "execution_count": 12,
   "metadata": {},
   "outputs": [
    {
     "data": {
      "image/png": "[encoded data removed]",
      "text/plain": [
       "<Figure size 864x144 with 2 Axes>"
      ]
     },
     "metadata": {
      "needs_background": "light"
     },
     "output_type": "display_data"
    }
   ],
   "source": [
    "pm.traceplot(trace_1, varnames=['thetas']);"
   ]
  },
  {
   "cell_type": "code",
   "execution_count": 32,
   "metadata": {},
   "outputs": [
    {
     "data": {
      "image/png": "[encoded data removed]",
      "text/plain": [
       "<Figure size 432x288 with 1 Axes>"
      ]
     },
     "metadata": {},
     "output_type": "display_data"
    }
   ],
   "source": [
    "seaborn.distplot(trace_1['thetas'][:, 15, 0]);"
   ]
  },
  {
   "cell_type": "code",
   "execution_count": 33,
   "metadata": {
    "scrolled": false
   },
   "outputs": [
    {
     "data": {
      "text/html": [
       "<div>\n",
       "<style scoped>\n",
       "    .dataframe tbody tr th:only-of-type {\n",
       "        vertical-align: middle;\n",
       "    }\n",
       "\n",
       "    .dataframe tbody tr th {\n",
       "        vertical-align: top;\n",
       "    }\n",
       "\n",
       "    .dataframe thead th {\n",
       "        text-align: right;\n",
       "    }\n",
       "</style>\n",
       "<table border=\"1\" class=\"dataframe\">\n",
       "  <thead>\n",
       "    <tr style=\"text-align: right;\">\n",
       "      <th></th>\n",
       "      <th>mean</th>\n",
       "      <th>sd</th>\n",
       "      <th>mc_error</th>\n",
       "      <th>hpd_2.5</th>\n",
       "      <th>hpd_97.5</th>\n",
       "      <th>n_eff</th>\n",
       "      <th>Rhat</th>\n",
       "    </tr>\n",
       "  </thead>\n",
       "  <tbody>\n",
       "    <tr>\n",
       "      <th>thetas__0_0</th>\n",
       "      <td>0.300100</td>\n",
       "      <td>0.065270</td>\n",
       "      <td>0.000467</td>\n",
       "      <td>0.180909</td>\n",
       "      <td>0.433704</td>\n",
       "      <td>19108.941028</td>\n",
       "      <td>0.999785</td>\n",
       "    </tr>\n",
       "    <tr>\n",
       "      <th>thetas__0_1</th>\n",
       "      <td>0.599518</td>\n",
       "      <td>0.068916</td>\n",
       "      <td>0.000470</td>\n",
       "      <td>0.467480</td>\n",
       "      <td>0.734045</td>\n",
       "      <td>19312.240459</td>\n",
       "      <td>0.999780</td>\n",
       "    </tr>\n",
       "    <tr>\n",
       "      <th>thetas__0_2</th>\n",
       "      <td>0.100383</td>\n",
       "      <td>0.041548</td>\n",
       "      <td>0.000308</td>\n",
       "      <td>0.030861</td>\n",
       "      <td>0.185469</td>\n",
       "      <td>16352.092254</td>\n",
       "      <td>0.999790</td>\n",
       "    </tr>\n",
       "    <tr>\n",
       "      <th>thetas__1_0</th>\n",
       "      <td>0.489750</td>\n",
       "      <td>0.070271</td>\n",
       "      <td>0.000530</td>\n",
       "      <td>0.355435</td>\n",
       "      <td>0.627806</td>\n",
       "      <td>20015.427544</td>\n",
       "      <td>0.999771</td>\n",
       "    </tr>\n",
       "    <tr>\n",
       "      <th>thetas__1_1</th>\n",
       "      <td>0.469661</td>\n",
       "      <td>0.070734</td>\n",
       "      <td>0.000520</td>\n",
       "      <td>0.329808</td>\n",
       "      <td>0.602264</td>\n",
       "      <td>18718.555274</td>\n",
       "      <td>0.999752</td>\n",
       "    </tr>\n",
       "    <tr>\n",
       "      <th>thetas__1_2</th>\n",
       "      <td>0.040589</td>\n",
       "      <td>0.027460</td>\n",
       "      <td>0.000211</td>\n",
       "      <td>0.001529</td>\n",
       "      <td>0.094604</td>\n",
       "      <td>15234.164792</td>\n",
       "      <td>0.999876</td>\n",
       "    </tr>\n",
       "    <tr>\n",
       "      <th>thetas__2_0</th>\n",
       "      <td>0.464979</td>\n",
       "      <td>0.037716</td>\n",
       "      <td>0.000300</td>\n",
       "      <td>0.395304</td>\n",
       "      <td>0.542023</td>\n",
       "      <td>17496.987976</td>\n",
       "      <td>0.999860</td>\n",
       "    </tr>\n",
       "    <tr>\n",
       "      <th>thetas__2_1</th>\n",
       "      <td>0.411825</td>\n",
       "      <td>0.037102</td>\n",
       "      <td>0.000292</td>\n",
       "      <td>0.340670</td>\n",
       "      <td>0.488188</td>\n",
       "      <td>18113.640211</td>\n",
       "      <td>0.999755</td>\n",
       "    </tr>\n",
       "    <tr>\n",
       "      <th>thetas__2_2</th>\n",
       "      <td>0.123196</td>\n",
       "      <td>0.024986</td>\n",
       "      <td>0.000189</td>\n",
       "      <td>0.075837</td>\n",
       "      <td>0.172040</td>\n",
       "      <td>17262.749166</td>\n",
       "      <td>0.999939</td>\n",
       "    </tr>\n",
       "    <tr>\n",
       "      <th>thetas__3_0</th>\n",
       "      <td>0.457686</td>\n",
       "      <td>0.057135</td>\n",
       "      <td>0.000413</td>\n",
       "      <td>0.344913</td>\n",
       "      <td>0.568706</td>\n",
       "      <td>18097.163950</td>\n",
       "      <td>1.000033</td>\n",
       "    </tr>\n",
       "    <tr>\n",
       "      <th>thetas__3_1</th>\n",
       "      <td>0.514615</td>\n",
       "      <td>0.057036</td>\n",
       "      <td>0.000400</td>\n",
       "      <td>0.405542</td>\n",
       "      <td>0.630074</td>\n",
       "      <td>17674.600231</td>\n",
       "      <td>0.999944</td>\n",
       "    </tr>\n",
       "    <tr>\n",
       "      <th>thetas__3_2</th>\n",
       "      <td>0.027699</td>\n",
       "      <td>0.018819</td>\n",
       "      <td>0.000145</td>\n",
       "      <td>0.000691</td>\n",
       "      <td>0.063681</td>\n",
       "      <td>16384.522445</td>\n",
       "      <td>0.999892</td>\n",
       "    </tr>\n",
       "    <tr>\n",
       "      <th>thetas__4_0</th>\n",
       "      <td>0.399978</td>\n",
       "      <td>0.070044</td>\n",
       "      <td>0.000498</td>\n",
       "      <td>0.260178</td>\n",
       "      <td>0.530546</td>\n",
       "      <td>18361.096943</td>\n",
       "      <td>0.999810</td>\n",
       "    </tr>\n",
       "    <tr>\n",
       "      <th>thetas__4_1</th>\n",
       "      <td>0.479881</td>\n",
       "      <td>0.071956</td>\n",
       "      <td>0.000532</td>\n",
       "      <td>0.339022</td>\n",
       "      <td>0.620830</td>\n",
       "      <td>17177.579093</td>\n",
       "      <td>0.999862</td>\n",
       "    </tr>\n",
       "    <tr>\n",
       "      <th>thetas__4_2</th>\n",
       "      <td>0.120141</td>\n",
       "      <td>0.045967</td>\n",
       "      <td>0.000360</td>\n",
       "      <td>0.037832</td>\n",
       "      <td>0.209425</td>\n",
       "      <td>17640.165756</td>\n",
       "      <td>0.999860</td>\n",
       "    </tr>\n",
       "    <tr>\n",
       "      <th>thetas__5_0</th>\n",
       "      <td>0.443571</td>\n",
       "      <td>0.049668</td>\n",
       "      <td>0.000334</td>\n",
       "      <td>0.346751</td>\n",
       "      <td>0.541180</td>\n",
       "      <td>19588.905466</td>\n",
       "      <td>0.999940</td>\n",
       "    </tr>\n",
       "    <tr>\n",
       "      <th>thetas__5_1</th>\n",
       "      <td>0.442821</td>\n",
       "      <td>0.050492</td>\n",
       "      <td>0.000326</td>\n",
       "      <td>0.344704</td>\n",
       "      <td>0.540792</td>\n",
       "      <td>18748.573671</td>\n",
       "      <td>1.000005</td>\n",
       "    </tr>\n",
       "    <tr>\n",
       "      <th>thetas__5_2</th>\n",
       "      <td>0.113607</td>\n",
       "      <td>0.031311</td>\n",
       "      <td>0.000226</td>\n",
       "      <td>0.056660</td>\n",
       "      <td>0.176451</td>\n",
       "      <td>20231.072088</td>\n",
       "      <td>1.000100</td>\n",
       "    </tr>\n",
       "    <tr>\n",
       "      <th>thetas__6_0</th>\n",
       "      <td>0.504368</td>\n",
       "      <td>0.045328</td>\n",
       "      <td>0.000343</td>\n",
       "      <td>0.420441</td>\n",
       "      <td>0.596358</td>\n",
       "      <td>18659.532260</td>\n",
       "      <td>0.999806</td>\n",
       "    </tr>\n",
       "    <tr>\n",
       "      <th>thetas__6_1</th>\n",
       "      <td>0.386565</td>\n",
       "      <td>0.043753</td>\n",
       "      <td>0.000340</td>\n",
       "      <td>0.301637</td>\n",
       "      <td>0.472456</td>\n",
       "      <td>18711.068931</td>\n",
       "      <td>0.999879</td>\n",
       "    </tr>\n",
       "    <tr>\n",
       "      <th>thetas__6_2</th>\n",
       "      <td>0.109067</td>\n",
       "      <td>0.028275</td>\n",
       "      <td>0.000216</td>\n",
       "      <td>0.057203</td>\n",
       "      <td>0.166673</td>\n",
       "      <td>17080.909989</td>\n",
       "      <td>0.999959</td>\n",
       "    </tr>\n",
       "    <tr>\n",
       "      <th>thetas__7_0</th>\n",
       "      <td>0.547484</td>\n",
       "      <td>0.040931</td>\n",
       "      <td>0.000299</td>\n",
       "      <td>0.467123</td>\n",
       "      <td>0.625951</td>\n",
       "      <td>23763.418744</td>\n",
       "      <td>0.999896</td>\n",
       "    </tr>\n",
       "    <tr>\n",
       "      <th>thetas__7_1</th>\n",
       "      <td>0.337931</td>\n",
       "      <td>0.039366</td>\n",
       "      <td>0.000307</td>\n",
       "      <td>0.263022</td>\n",
       "      <td>0.415220</td>\n",
       "      <td>20377.827972</td>\n",
       "      <td>0.999904</td>\n",
       "    </tr>\n",
       "    <tr>\n",
       "      <th>thetas__7_2</th>\n",
       "      <td>0.114585</td>\n",
       "      <td>0.026082</td>\n",
       "      <td>0.000183</td>\n",
       "      <td>0.064167</td>\n",
       "      <td>0.165460</td>\n",
       "      <td>20377.368364</td>\n",
       "      <td>0.999852</td>\n",
       "    </tr>\n",
       "    <tr>\n",
       "      <th>thetas__8_0</th>\n",
       "      <td>0.541493</td>\n",
       "      <td>0.099973</td>\n",
       "      <td>0.000732</td>\n",
       "      <td>0.337111</td>\n",
       "      <td>0.724980</td>\n",
       "      <td>21445.157893</td>\n",
       "      <td>0.999806</td>\n",
       "    </tr>\n",
       "    <tr>\n",
       "      <th>thetas__8_1</th>\n",
       "      <td>0.291853</td>\n",
       "      <td>0.091661</td>\n",
       "      <td>0.000722</td>\n",
       "      <td>0.125231</td>\n",
       "      <td>0.478377</td>\n",
       "      <td>20336.085923</td>\n",
       "      <td>0.999860</td>\n",
       "    </tr>\n",
       "    <tr>\n",
       "      <th>thetas__8_2</th>\n",
       "      <td>0.166654</td>\n",
       "      <td>0.075137</td>\n",
       "      <td>0.000549</td>\n",
       "      <td>0.037254</td>\n",
       "      <td>0.315616</td>\n",
       "      <td>17029.352945</td>\n",
       "      <td>1.000004</td>\n",
       "    </tr>\n",
       "    <tr>\n",
       "      <th>thetas__9_0</th>\n",
       "      <td>0.464073</td>\n",
       "      <td>0.050759</td>\n",
       "      <td>0.000396</td>\n",
       "      <td>0.365872</td>\n",
       "      <td>0.561156</td>\n",
       "      <td>18145.928015</td>\n",
       "      <td>0.999815</td>\n",
       "    </tr>\n",
       "    <tr>\n",
       "      <th>thetas__9_1</th>\n",
       "      <td>0.404242</td>\n",
       "      <td>0.049435</td>\n",
       "      <td>0.000400</td>\n",
       "      <td>0.312622</td>\n",
       "      <td>0.504816</td>\n",
       "      <td>17237.193074</td>\n",
       "      <td>0.999826</td>\n",
       "    </tr>\n",
       "    <tr>\n",
       "      <th>thetas__9_2</th>\n",
       "      <td>0.131685</td>\n",
       "      <td>0.034063</td>\n",
       "      <td>0.000244</td>\n",
       "      <td>0.067031</td>\n",
       "      <td>0.196808</td>\n",
       "      <td>20803.257440</td>\n",
       "      <td>0.999992</td>\n",
       "    </tr>\n",
       "    <tr>\n",
       "      <th>thetas__10_0</th>\n",
       "      <td>0.509601</td>\n",
       "      <td>0.051747</td>\n",
       "      <td>0.000386</td>\n",
       "      <td>0.407762</td>\n",
       "      <td>0.610490</td>\n",
       "      <td>18969.744012</td>\n",
       "      <td>0.999860</td>\n",
       "    </tr>\n",
       "    <tr>\n",
       "      <th>thetas__10_1</th>\n",
       "      <td>0.402177</td>\n",
       "      <td>0.050463</td>\n",
       "      <td>0.000381</td>\n",
       "      <td>0.304228</td>\n",
       "      <td>0.500716</td>\n",
       "      <td>18673.382910</td>\n",
       "      <td>0.999780</td>\n",
       "    </tr>\n",
       "    <tr>\n",
       "      <th>thetas__10_2</th>\n",
       "      <td>0.088222</td>\n",
       "      <td>0.028247</td>\n",
       "      <td>0.000218</td>\n",
       "      <td>0.038102</td>\n",
       "      <td>0.144032</td>\n",
       "      <td>17422.572626</td>\n",
       "      <td>0.999855</td>\n",
       "    </tr>\n",
       "    <tr>\n",
       "      <th>thetas__11_0</th>\n",
       "      <td>0.550716</td>\n",
       "      <td>0.035650</td>\n",
       "      <td>0.000258</td>\n",
       "      <td>0.482424</td>\n",
       "      <td>0.621472</td>\n",
       "      <td>21810.593623</td>\n",
       "      <td>0.999791</td>\n",
       "    </tr>\n",
       "    <tr>\n",
       "      <th>thetas__11_1</th>\n",
       "      <td>0.351901</td>\n",
       "      <td>0.034792</td>\n",
       "      <td>0.000261</td>\n",
       "      <td>0.280873</td>\n",
       "      <td>0.418119</td>\n",
       "      <td>19956.584699</td>\n",
       "      <td>0.999789</td>\n",
       "    </tr>\n",
       "    <tr>\n",
       "      <th>thetas__11_2</th>\n",
       "      <td>0.097383</td>\n",
       "      <td>0.021453</td>\n",
       "      <td>0.000172</td>\n",
       "      <td>0.057790</td>\n",
       "      <td>0.139950</td>\n",
       "      <td>15238.961040</td>\n",
       "      <td>0.999847</td>\n",
       "    </tr>\n",
       "    <tr>\n",
       "      <th>thetas__12_0</th>\n",
       "      <td>0.486099</td>\n",
       "      <td>0.079911</td>\n",
       "      <td>0.000524</td>\n",
       "      <td>0.334129</td>\n",
       "      <td>0.644608</td>\n",
       "      <td>18561.446431</td>\n",
       "      <td>0.999863</td>\n",
       "    </tr>\n",
       "    <tr>\n",
       "      <th>thetas__12_1</th>\n",
       "      <td>0.460108</td>\n",
       "      <td>0.080625</td>\n",
       "      <td>0.000605</td>\n",
       "      <td>0.300507</td>\n",
       "      <td>0.610745</td>\n",
       "      <td>17272.738333</td>\n",
       "      <td>1.000018</td>\n",
       "    </tr>\n",
       "    <tr>\n",
       "      <th>thetas__12_2</th>\n",
       "      <td>0.053793</td>\n",
       "      <td>0.036679</td>\n",
       "      <td>0.000296</td>\n",
       "      <td>0.001877</td>\n",
       "      <td>0.125960</td>\n",
       "      <td>14230.586334</td>\n",
       "      <td>0.999914</td>\n",
       "    </tr>\n",
       "    <tr>\n",
       "      <th>thetas__13_0</th>\n",
       "      <td>0.525405</td>\n",
       "      <td>0.056555</td>\n",
       "      <td>0.000460</td>\n",
       "      <td>0.421515</td>\n",
       "      <td>0.641929</td>\n",
       "      <td>21817.783278</td>\n",
       "      <td>0.999824</td>\n",
       "    </tr>\n",
       "    <tr>\n",
       "      <th>thetas__13_1</th>\n",
       "      <td>0.349772</td>\n",
       "      <td>0.053224</td>\n",
       "      <td>0.000421</td>\n",
       "      <td>0.241324</td>\n",
       "      <td>0.451273</td>\n",
       "      <td>18814.558488</td>\n",
       "      <td>0.999777</td>\n",
       "    </tr>\n",
       "    <tr>\n",
       "      <th>thetas__13_2</th>\n",
       "      <td>0.124823</td>\n",
       "      <td>0.036787</td>\n",
       "      <td>0.000313</td>\n",
       "      <td>0.057240</td>\n",
       "      <td>0.198229</td>\n",
       "      <td>17761.975836</td>\n",
       "      <td>0.999855</td>\n",
       "    </tr>\n",
       "    <tr>\n",
       "      <th>thetas__14_0</th>\n",
       "      <td>0.535744</td>\n",
       "      <td>0.045304</td>\n",
       "      <td>0.000360</td>\n",
       "      <td>0.445791</td>\n",
       "      <td>0.622883</td>\n",
       "      <td>19896.439516</td>\n",
       "      <td>0.999857</td>\n",
       "    </tr>\n",
       "    <tr>\n",
       "      <th>thetas__14_1</th>\n",
       "      <td>0.369577</td>\n",
       "      <td>0.043753</td>\n",
       "      <td>0.000306</td>\n",
       "      <td>0.287700</td>\n",
       "      <td>0.456371</td>\n",
       "      <td>18576.380121</td>\n",
       "      <td>0.999857</td>\n",
       "    </tr>\n",
       "    <tr>\n",
       "      <th>thetas__14_2</th>\n",
       "      <td>0.094679</td>\n",
       "      <td>0.026122</td>\n",
       "      <td>0.000167</td>\n",
       "      <td>0.045188</td>\n",
       "      <td>0.145160</td>\n",
       "      <td>19327.473357</td>\n",
       "      <td>0.999832</td>\n",
       "    </tr>\n",
       "    <tr>\n",
       "      <th>thetas__15_0</th>\n",
       "      <td>0.547136</td>\n",
       "      <td>0.053493</td>\n",
       "      <td>0.000374</td>\n",
       "      <td>0.437479</td>\n",
       "      <td>0.646866</td>\n",
       "      <td>17525.614741</td>\n",
       "      <td>0.999807</td>\n",
       "    </tr>\n",
       "    <tr>\n",
       "      <th>thetas__15_1</th>\n",
       "      <td>0.360090</td>\n",
       "      <td>0.051293</td>\n",
       "      <td>0.000391</td>\n",
       "      <td>0.266768</td>\n",
       "      <td>0.465088</td>\n",
       "      <td>16133.206175</td>\n",
       "      <td>0.999847</td>\n",
       "    </tr>\n",
       "    <tr>\n",
       "      <th>thetas__15_2</th>\n",
       "      <td>0.092774</td>\n",
       "      <td>0.030986</td>\n",
       "      <td>0.000256</td>\n",
       "      <td>0.037164</td>\n",
       "      <td>0.154385</td>\n",
       "      <td>16927.317956</td>\n",
       "      <td>1.000053</td>\n",
       "    </tr>\n",
       "  </tbody>\n",
       "</table>\n",
       "</div>"
      ],
      "text/plain": [
       "                  mean        sd  mc_error   hpd_2.5  hpd_97.5         n_eff  \\\n",
       "thetas__0_0   0.300100  0.065270  0.000467  0.180909  0.433704  19108.941028   \n",
       "thetas__0_1   0.599518  0.068916  0.000470  0.467480  0.734045  19312.240459   \n",
       "thetas__0_2   0.100383  0.041548  0.000308  0.030861  0.185469  16352.092254   \n",
       "thetas__1_0   0.489750  0.070271  0.000530  0.355435  0.627806  20015.427544   \n",
       "thetas__1_1   0.469661  0.070734  0.000520  0.329808  0.602264  18718.555274   \n",
       "thetas__1_2   0.040589  0.027460  0.000211  0.001529  0.094604  15234.164792   \n",
       "thetas__2_0   0.464979  0.037716  0.000300  0.395304  0.542023  17496.987976   \n",
       "thetas__2_1   0.411825  0.037102  0.000292  0.340670  0.488188  18113.640211   \n",
       "thetas__2_2   0.123196  0.024986  0.000189  0.075837  0.172040  17262.749166   \n",
       "thetas__3_0   0.457686  0.057135  0.000413  0.344913  0.568706  18097.163950   \n",
       "thetas__3_1   0.514615  0.057036  0.000400  0.405542  0.630074  17674.600231   \n",
       "thetas__3_2   0.027699  0.018819  0.000145  0.000691  0.063681  16384.522445   \n",
       "thetas__4_0   0.399978  0.070044  0.000498  0.260178  0.530546  18361.096943   \n",
       "thetas__4_1   0.479881  0.071956  0.000532  0.339022  0.620830  17177.579093   \n",
       "thetas__4_2   0.120141  0.045967  0.000360  0.037832  0.209425  17640.165756   \n",
       "thetas__5_0   0.443571  0.049668  0.000334  0.346751  0.541180  19588.905466   \n",
       "thetas__5_1   0.442821  0.050492  0.000326  0.344704  0.540792  18748.573671   \n",
       "thetas__5_2   0.113607  0.031311  0.000226  0.056660  0.176451  20231.072088   \n",
       "thetas__6_0   0.504368  0.045328  0.000343  0.420441  0.596358  18659.532260   \n",
       "thetas__6_1   0.386565  0.043753  0.000340  0.301637  0.472456  18711.068931   \n",
       "thetas__6_2   0.109067  0.028275  0.000216  0.057203  0.166673  17080.909989   \n",
       "thetas__7_0   0.547484  0.040931  0.000299  0.467123  0.625951  23763.418744   \n",
       "thetas__7_1   0.337931  0.039366  0.000307  0.263022  0.415220  20377.827972   \n",
       "thetas__7_2   0.114585  0.026082  0.000183  0.064167  0.165460  20377.368364   \n",
       "thetas__8_0   0.541493  0.099973  0.000732  0.337111  0.724980  21445.157893   \n",
       "thetas__8_1   0.291853  0.091661  0.000722  0.125231  0.478377  20336.085923   \n",
       "thetas__8_2   0.166654  0.075137  0.000549  0.037254  0.315616  17029.352945   \n",
       "thetas__9_0   0.464073  0.050759  0.000396  0.365872  0.561156  18145.928015   \n",
       "thetas__9_1   0.404242  0.049435  0.000400  0.312622  0.504816  17237.193074   \n",
       "thetas__9_2   0.131685  0.034063  0.000244  0.067031  0.196808  20803.257440   \n",
       "thetas__10_0  0.509601  0.051747  0.000386  0.407762  0.610490  18969.744012   \n",
       "thetas__10_1  0.402177  0.050463  0.000381  0.304228  0.500716  18673.382910   \n",
       "thetas__10_2  0.088222  0.028247  0.000218  0.038102  0.144032  17422.572626   \n",
       "thetas__11_0  0.550716  0.035650  0.000258  0.482424  0.621472  21810.593623   \n",
       "thetas__11_1  0.351901  0.034792  0.000261  0.280873  0.418119  19956.584699   \n",
       "thetas__11_2  0.097383  0.021453  0.000172  0.057790  0.139950  15238.961040   \n",
       "thetas__12_0  0.486099  0.079911  0.000524  0.334129  0.644608  18561.446431   \n",
       "thetas__12_1  0.460108  0.080625  0.000605  0.300507  0.610745  17272.738333   \n",
       "thetas__12_2  0.053793  0.036679  0.000296  0.001877  0.125960  14230.586334   \n",
       "thetas__13_0  0.525405  0.056555  0.000460  0.421515  0.641929  21817.783278   \n",
       "thetas__13_1  0.349772  0.053224  0.000421  0.241324  0.451273  18814.558488   \n",
       "thetas__13_2  0.124823  0.036787  0.000313  0.057240  0.198229  17761.975836   \n",
       "thetas__14_0  0.535744  0.045304  0.000360  0.445791  0.622883  19896.439516   \n",
       "thetas__14_1  0.369577  0.043753  0.000306  0.287700  0.456371  18576.380121   \n",
       "thetas__14_2  0.094679  0.026122  0.000167  0.045188  0.145160  19327.473357   \n",
       "thetas__15_0  0.547136  0.053493  0.000374  0.437479  0.646866  17525.614741   \n",
       "thetas__15_1  0.360090  0.051293  0.000391  0.266768  0.465088  16133.206175   \n",
       "thetas__15_2  0.092774  0.030986  0.000256  0.037164  0.154385  16927.317956   \n",
       "\n",
       "                  Rhat  \n",
       "thetas__0_0   0.999785  \n",
       "thetas__0_1   0.999780  \n",
       "thetas__0_2   0.999790  \n",
       "thetas__1_0   0.999771  \n",
       "thetas__1_1   0.999752  \n",
       "thetas__1_2   0.999876  \n",
       "thetas__2_0   0.999860  \n",
       "thetas__2_1   0.999755  \n",
       "thetas__2_2   0.999939  \n",
       "thetas__3_0   1.000033  \n",
       "thetas__3_1   0.999944  \n",
       "thetas__3_2   0.999892  \n",
       "thetas__4_0   0.999810  \n",
       "thetas__4_1   0.999862  \n",
       "thetas__4_2   0.999860  \n",
       "thetas__5_0   0.999940  \n",
       "thetas__5_1   1.000005  \n",
       "thetas__5_2   1.000100  \n",
       "thetas__6_0   0.999806  \n",
       "thetas__6_1   0.999879  \n",
       "thetas__6_2   0.999959  \n",
       "thetas__7_0   0.999896  \n",
       "thetas__7_1   0.999904  \n",
       "thetas__7_2   0.999852  \n",
       "thetas__8_0   0.999806  \n",
       "thetas__8_1   0.999860  \n",
       "thetas__8_2   1.000004  \n",
       "thetas__9_0   0.999815  \n",
       "thetas__9_1   0.999826  \n",
       "thetas__9_2   0.999992  \n",
       "thetas__10_0  0.999860  \n",
       "thetas__10_1  0.999780  \n",
       "thetas__10_2  0.999855  \n",
       "thetas__11_0  0.999791  \n",
       "thetas__11_1  0.999789  \n",
       "thetas__11_2  0.999847  \n",
       "thetas__12_0  0.999863  \n",
       "thetas__12_1  1.000018  \n",
       "thetas__12_2  0.999914  \n",
       "thetas__13_0  0.999824  \n",
       "thetas__13_1  0.999777  \n",
       "thetas__13_2  0.999855  \n",
       "thetas__14_0  0.999857  \n",
       "thetas__14_1  0.999857  \n",
       "thetas__14_2  0.999832  \n",
       "thetas__15_0  0.999807  \n",
       "thetas__15_1  0.999847  \n",
       "thetas__15_2  1.000053  "
      ]
     },
     "execution_count": 33,
     "metadata": {},
     "output_type": "execute_result"
    }
   ],
   "source": [
    "pm.summary(trace_1)"
   ]
  },
  {
   "cell_type": "markdown",
   "metadata": {},
   "source": [
    "Now, the goal is to reproduce the figure 8.1 (a)."
   ]
  },
  {
   "cell_type": "code",
   "execution_count": 36,
   "metadata": {},
   "outputs": [
    {
     "name": "stderr",
     "output_type": "stream",
     "text": [
      "  0%|          | 0/1000 [00:00<?, ?it/s]\n"
     ]
    },
    {
     "ename": "KeyError",
     "evalue": "packed_L",
     "output_type": "error",
     "traceback": [
      "\u001b[0;31m---------------------------------------------------------------------------\u001b[0m",
      "\u001b[0;31mMissingInputError\u001b[0m                         Traceback (most recent call last)",
      "\u001b[0;32m~/anaconda3/lib/python3.6/site-packages/pymc3/distributions/distribution.py\u001b[0m in \u001b[0;36mdraw_values\u001b[0;34m(params, point, size)\u001b[0m\n\u001b[1;32m    368\u001b[0m                                         \u001b[0mgivens\u001b[0m\u001b[0;34m=\u001b[0m\u001b[0mtemp_givens\u001b[0m\u001b[0;34m,\u001b[0m\u001b[0;34m\u001b[0m\u001b[0;34m\u001b[0m\u001b[0m\n\u001b[0;32m--> 369\u001b[0;31m                                         size=size)\n\u001b[0m\u001b[1;32m    370\u001b[0m                     \u001b[0mgivens\u001b[0m\u001b[0;34m[\u001b[0m\u001b[0mnext_\u001b[0m\u001b[0;34m.\u001b[0m\u001b[0mname\u001b[0m\u001b[0;34m]\u001b[0m \u001b[0;34m=\u001b[0m \u001b[0;34m(\u001b[0m\u001b[0mnext_\u001b[0m\u001b[0;34m,\u001b[0m \u001b[0mvalue\u001b[0m\u001b[0;34m)\u001b[0m\u001b[0;34m\u001b[0m\u001b[0;34m\u001b[0m\u001b[0m\n",
      "\u001b[0;32m~/anaconda3/lib/python3.6/site-packages/pymc3/distributions/distribution.py\u001b[0m in \u001b[0;36m_draw_value\u001b[0;34m(param, point, givens, size)\u001b[0m\n\u001b[1;32m    499\u001b[0m                 \u001b[0mvariables\u001b[0m \u001b[0;34m=\u001b[0m \u001b[0mvalues\u001b[0m \u001b[0;34m=\u001b[0m \u001b[0;34m[\u001b[0m\u001b[0;34m]\u001b[0m\u001b[0;34m\u001b[0m\u001b[0;34m\u001b[0m\u001b[0m\n\u001b[0;32m--> 500\u001b[0;31m             \u001b[0mfunc\u001b[0m \u001b[0;34m=\u001b[0m \u001b[0m_compile_theano_function\u001b[0m\u001b[0;34m(\u001b[0m\u001b[0mparam\u001b[0m\u001b[0;34m,\u001b[0m \u001b[0mvariables\u001b[0m\u001b[0;34m)\u001b[0m\u001b[0;34m\u001b[0m\u001b[0;34m\u001b[0m\u001b[0m\n\u001b[0m\u001b[1;32m    501\u001b[0m             \u001b[0;32mif\u001b[0m \u001b[0msize\u001b[0m \u001b[0;32mis\u001b[0m \u001b[0;32mnot\u001b[0m \u001b[0;32mNone\u001b[0m\u001b[0;34m:\u001b[0m\u001b[0;34m\u001b[0m\u001b[0;34m\u001b[0m\u001b[0m\n",
      "\u001b[0;32m~/anaconda3/lib/python3.6/site-packages/pymc3/memoize.py\u001b[0m in \u001b[0;36mmemoizer\u001b[0;34m(*args, **kwargs)\u001b[0m\n\u001b[1;32m     30\u001b[0m         \u001b[0;32mif\u001b[0m \u001b[0mkey\u001b[0m \u001b[0;32mnot\u001b[0m \u001b[0;32min\u001b[0m \u001b[0mcache\u001b[0m\u001b[0;34m:\u001b[0m\u001b[0;34m\u001b[0m\u001b[0;34m\u001b[0m\u001b[0m\n\u001b[0;32m---> 31\u001b[0;31m             \u001b[0mcache\u001b[0m\u001b[0;34m[\u001b[0m\u001b[0mkey\u001b[0m\u001b[0;34m]\u001b[0m \u001b[0;34m=\u001b[0m \u001b[0mobj\u001b[0m\u001b[0;34m(\u001b[0m\u001b[0;34m*\u001b[0m\u001b[0margs\u001b[0m\u001b[0;34m,\u001b[0m \u001b[0;34m**\u001b[0m\u001b[0mkwargs\u001b[0m\u001b[0;34m)\u001b[0m\u001b[0;34m\u001b[0m\u001b[0;34m\u001b[0m\u001b[0m\n\u001b[0m\u001b[1;32m     32\u001b[0m \u001b[0;34m\u001b[0m\u001b[0m\n",
      "\u001b[0;32m~/anaconda3/lib/python3.6/site-packages/pymc3/distributions/distribution.py\u001b[0m in \u001b[0;36m_compile_theano_function\u001b[0;34m(param, vars, givens)\u001b[0m\n\u001b[1;32m    430\u001b[0m                     \u001b[0mon_unused_input\u001b[0m\u001b[0;34m=\u001b[0m\u001b[0;34m'ignore'\u001b[0m\u001b[0;34m,\u001b[0m\u001b[0;34m\u001b[0m\u001b[0;34m\u001b[0m\u001b[0m\n\u001b[0;32m--> 431\u001b[0;31m                     allow_input_downcast=True)\n\u001b[0m\u001b[1;32m    432\u001b[0m \u001b[0;34m\u001b[0m\u001b[0m\n",
      "\u001b[0;32m~/anaconda3/lib/python3.6/site-packages/theano/compile/function.py\u001b[0m in \u001b[0;36mfunction\u001b[0;34m(inputs, outputs, mode, updates, givens, no_default_updates, accept_inplace, name, rebuild_strict, allow_input_downcast, profile, on_unused_input)\u001b[0m\n\u001b[1;32m    316\u001b[0m                    \u001b[0mprofile\u001b[0m\u001b[0;34m=\u001b[0m\u001b[0mprofile\u001b[0m\u001b[0;34m,\u001b[0m\u001b[0;34m\u001b[0m\u001b[0;34m\u001b[0m\u001b[0m\n\u001b[0;32m--> 317\u001b[0;31m                    output_keys=output_keys)\n\u001b[0m\u001b[1;32m    318\u001b[0m     \u001b[0;32mreturn\u001b[0m \u001b[0mfn\u001b[0m\u001b[0;34m\u001b[0m\u001b[0;34m\u001b[0m\u001b[0m\n",
      "\u001b[0;32m~/anaconda3/lib/python3.6/site-packages/theano/compile/pfunc.py\u001b[0m in \u001b[0;36mpfunc\u001b[0;34m(params, outputs, mode, updates, givens, no_default_updates, accept_inplace, name, rebuild_strict, allow_input_downcast, profile, on_unused_input, output_keys)\u001b[0m\n\u001b[1;32m    485\u001b[0m                          \u001b[0mprofile\u001b[0m\u001b[0;34m=\u001b[0m\u001b[0mprofile\u001b[0m\u001b[0;34m,\u001b[0m \u001b[0mon_unused_input\u001b[0m\u001b[0;34m=\u001b[0m\u001b[0mon_unused_input\u001b[0m\u001b[0;34m,\u001b[0m\u001b[0;34m\u001b[0m\u001b[0;34m\u001b[0m\u001b[0m\n\u001b[0;32m--> 486\u001b[0;31m                          output_keys=output_keys)\n\u001b[0m\u001b[1;32m    487\u001b[0m \u001b[0;34m\u001b[0m\u001b[0m\n",
      "\u001b[0;32m~/anaconda3/lib/python3.6/site-packages/theano/compile/function_module.py\u001b[0m in \u001b[0;36morig_function\u001b[0;34m(inputs, outputs, mode, accept_inplace, name, profile, on_unused_input, output_keys)\u001b[0m\n\u001b[1;32m   1838\u001b[0m                   \u001b[0moutput_keys\u001b[0m\u001b[0;34m=\u001b[0m\u001b[0moutput_keys\u001b[0m\u001b[0;34m,\u001b[0m\u001b[0;34m\u001b[0m\u001b[0;34m\u001b[0m\u001b[0m\n\u001b[0;32m-> 1839\u001b[0;31m                   name=name)\n\u001b[0m\u001b[1;32m   1840\u001b[0m         \u001b[0;32mwith\u001b[0m \u001b[0mtheano\u001b[0m\u001b[0;34m.\u001b[0m\u001b[0mchange_flags\u001b[0m\u001b[0;34m(\u001b[0m\u001b[0mcompute_test_value\u001b[0m\u001b[0;34m=\u001b[0m\u001b[0;34m\"off\"\u001b[0m\u001b[0;34m)\u001b[0m\u001b[0;34m:\u001b[0m\u001b[0;34m\u001b[0m\u001b[0;34m\u001b[0m\u001b[0m\n",
      "\u001b[0;32m~/anaconda3/lib/python3.6/site-packages/theano/compile/function_module.py\u001b[0m in \u001b[0;36m__init__\u001b[0;34m(self, inputs, outputs, mode, accept_inplace, function_builder, profile, on_unused_input, fgraph, output_keys, name)\u001b[0m\n\u001b[1;32m   1486\u001b[0m             fgraph, additional_outputs = std_fgraph(inputs, outputs,\n\u001b[0;32m-> 1487\u001b[0;31m                                                     accept_inplace)\n\u001b[0m\u001b[1;32m   1488\u001b[0m             \u001b[0mfgraph\u001b[0m\u001b[0;34m.\u001b[0m\u001b[0mprofile\u001b[0m \u001b[0;34m=\u001b[0m \u001b[0mprofile\u001b[0m\u001b[0;34m\u001b[0m\u001b[0;34m\u001b[0m\u001b[0m\n",
      "\u001b[0;32m~/anaconda3/lib/python3.6/site-packages/theano/compile/function_module.py\u001b[0m in \u001b[0;36mstd_fgraph\u001b[0;34m(input_specs, output_specs, accept_inplace)\u001b[0m\n\u001b[1;32m    180\u001b[0m     fgraph = gof.fg.FunctionGraph(orig_inputs, orig_outputs,\n\u001b[0;32m--> 181\u001b[0;31m                                   update_mapping=update_mapping)\n\u001b[0m\u001b[1;32m    182\u001b[0m \u001b[0;34m\u001b[0m\u001b[0m\n",
      "\u001b[0;32m~/anaconda3/lib/python3.6/site-packages/theano/gof/fg.py\u001b[0m in \u001b[0;36m__init__\u001b[0;34m(self, inputs, outputs, features, clone, update_mapping)\u001b[0m\n\u001b[1;32m    174\u001b[0m         \u001b[0;32mfor\u001b[0m \u001b[0moutput\u001b[0m \u001b[0;32min\u001b[0m \u001b[0moutputs\u001b[0m\u001b[0;34m:\u001b[0m\u001b[0;34m\u001b[0m\u001b[0;34m\u001b[0m\u001b[0m\n\u001b[0;32m--> 175\u001b[0;31m             \u001b[0mself\u001b[0m\u001b[0;34m.\u001b[0m\u001b[0m__import_r__\u001b[0m\u001b[0;34m(\u001b[0m\u001b[0moutput\u001b[0m\u001b[0;34m,\u001b[0m \u001b[0mreason\u001b[0m\u001b[0;34m=\u001b[0m\u001b[0;34m\"init\"\u001b[0m\u001b[0;34m)\u001b[0m\u001b[0;34m\u001b[0m\u001b[0;34m\u001b[0m\u001b[0m\n\u001b[0m\u001b[1;32m    176\u001b[0m         \u001b[0;32mfor\u001b[0m \u001b[0mi\u001b[0m\u001b[0;34m,\u001b[0m \u001b[0moutput\u001b[0m \u001b[0;32min\u001b[0m \u001b[0menumerate\u001b[0m\u001b[0;34m(\u001b[0m\u001b[0moutputs\u001b[0m\u001b[0;34m)\u001b[0m\u001b[0;34m:\u001b[0m\u001b[0;34m\u001b[0m\u001b[0;34m\u001b[0m\u001b[0m\n",
      "\u001b[0;32m~/anaconda3/lib/python3.6/site-packages/theano/gof/fg.py\u001b[0m in \u001b[0;36m__import_r__\u001b[0;34m(self, variable, reason)\u001b[0m\n\u001b[1;32m    345\u001b[0m         \u001b[0;32mif\u001b[0m \u001b[0mvariable\u001b[0m\u001b[0;34m.\u001b[0m\u001b[0mowner\u001b[0m \u001b[0;32mand\u001b[0m \u001b[0mvariable\u001b[0m\u001b[0;34m.\u001b[0m\u001b[0mowner\u001b[0m \u001b[0;32mnot\u001b[0m \u001b[0;32min\u001b[0m \u001b[0mself\u001b[0m\u001b[0;34m.\u001b[0m\u001b[0mapply_nodes\u001b[0m\u001b[0;34m:\u001b[0m\u001b[0;34m\u001b[0m\u001b[0;34m\u001b[0m\u001b[0m\n\u001b[0;32m--> 346\u001b[0;31m                 \u001b[0mself\u001b[0m\u001b[0;34m.\u001b[0m\u001b[0m__import__\u001b[0m\u001b[0;34m(\u001b[0m\u001b[0mvariable\u001b[0m\u001b[0;34m.\u001b[0m\u001b[0mowner\u001b[0m\u001b[0;34m,\u001b[0m \u001b[0mreason\u001b[0m\u001b[0;34m=\u001b[0m\u001b[0mreason\u001b[0m\u001b[0;34m)\u001b[0m\u001b[0;34m\u001b[0m\u001b[0;34m\u001b[0m\u001b[0m\n\u001b[0m\u001b[1;32m    347\u001b[0m         elif (variable.owner is None and\n",
      "\u001b[0;32m~/anaconda3/lib/python3.6/site-packages/theano/gof/fg.py\u001b[0m in \u001b[0;36m__import__\u001b[0;34m(self, apply_node, check, reason)\u001b[0m\n\u001b[1;32m    390\u001b[0m                                      % (node.inputs.index(r), str(node)))\n\u001b[0;32m--> 391\u001b[0;31m                         \u001b[0;32mraise\u001b[0m \u001b[0mMissingInputError\u001b[0m\u001b[0;34m(\u001b[0m\u001b[0merror_msg\u001b[0m\u001b[0;34m,\u001b[0m \u001b[0mvariable\u001b[0m\u001b[0;34m=\u001b[0m\u001b[0mr\u001b[0m\u001b[0;34m)\u001b[0m\u001b[0;34m\u001b[0m\u001b[0;34m\u001b[0m\u001b[0m\n\u001b[0m\u001b[1;32m    392\u001b[0m \u001b[0;34m\u001b[0m\u001b[0m\n",
      "\u001b[0;31mMissingInputError\u001b[0m: Input 0 of the graph (indices start from 0), used to compute AdvancedSubtensor1(packed_L_cholesky-cov-packed__, TensorConstant{[0 2]}), was not provided and not given a value. Use the Theano flag exception_verbosity='high', for more information on this error.",
      "\nDuring handling of the above exception, another exception occurred:\n",
      "\u001b[0;31mKeyError\u001b[0m                                  Traceback (most recent call last)",
      "\u001b[0;32m<ipython-input-36-650c7ab3fe84>\u001b[0m in \u001b[0;36m<module>\u001b[0;34m\u001b[0m\n\u001b[1;32m      1\u001b[0m \u001b[0;32mwith\u001b[0m \u001b[0mmodel_non_hiera\u001b[0m\u001b[0;34m:\u001b[0m\u001b[0;34m\u001b[0m\u001b[0;34m\u001b[0m\u001b[0m\n\u001b[0;32m----> 2\u001b[0;31m     \u001b[0mppc_non_hiera\u001b[0m \u001b[0;34m=\u001b[0m \u001b[0mpm\u001b[0m\u001b[0;34m.\u001b[0m\u001b[0msample_posterior_predictive\u001b[0m\u001b[0;34m(\u001b[0m\u001b[0mtrace_1\u001b[0m\u001b[0;34m,\u001b[0m \u001b[0msamples\u001b[0m\u001b[0;34m=\u001b[0m\u001b[0;36m1000\u001b[0m\u001b[0;34m,\u001b[0m \u001b[0mvars\u001b[0m\u001b[0;34m=\u001b[0m\u001b[0;34m[\u001b[0m\u001b[0mthetas\u001b[0m\u001b[0;34m,\u001b[0m \u001b[0mpost\u001b[0m\u001b[0;34m]\u001b[0m\u001b[0;34m)\u001b[0m\u001b[0;34m\u001b[0m\u001b[0;34m\u001b[0m\u001b[0m\n\u001b[0m",
      "\u001b[0;32m~/anaconda3/lib/python3.6/site-packages/pymc3/sampling.py\u001b[0m in \u001b[0;36msample_posterior_predictive\u001b[0;34m(trace, samples, model, vars, size, random_seed, progressbar)\u001b[0m\n\u001b[1;32m   1133\u001b[0m                 \u001b[0mparam\u001b[0m \u001b[0;34m=\u001b[0m \u001b[0mtrace\u001b[0m\u001b[0;34m[\u001b[0m\u001b[0midx\u001b[0m \u001b[0;34m%\u001b[0m \u001b[0mlen_trace\u001b[0m\u001b[0;34m]\u001b[0m\u001b[0;34m\u001b[0m\u001b[0;34m\u001b[0m\u001b[0m\n\u001b[1;32m   1134\u001b[0m \u001b[0;34m\u001b[0m\u001b[0m\n\u001b[0;32m-> 1135\u001b[0;31m             \u001b[0mvalues\u001b[0m \u001b[0;34m=\u001b[0m \u001b[0mdraw_values\u001b[0m\u001b[0;34m(\u001b[0m\u001b[0mvars\u001b[0m\u001b[0;34m,\u001b[0m \u001b[0mpoint\u001b[0m\u001b[0;34m=\u001b[0m\u001b[0mparam\u001b[0m\u001b[0;34m,\u001b[0m \u001b[0msize\u001b[0m\u001b[0;34m=\u001b[0m\u001b[0msize\u001b[0m\u001b[0;34m)\u001b[0m\u001b[0;34m\u001b[0m\u001b[0;34m\u001b[0m\u001b[0m\n\u001b[0m\u001b[1;32m   1136\u001b[0m             \u001b[0;32mfor\u001b[0m \u001b[0mk\u001b[0m\u001b[0;34m,\u001b[0m \u001b[0mv\u001b[0m \u001b[0;32min\u001b[0m \u001b[0mzip\u001b[0m\u001b[0;34m(\u001b[0m\u001b[0mvars\u001b[0m\u001b[0;34m,\u001b[0m \u001b[0mvalues\u001b[0m\u001b[0;34m)\u001b[0m\u001b[0;34m:\u001b[0m\u001b[0;34m\u001b[0m\u001b[0;34m\u001b[0m\u001b[0m\n\u001b[1;32m   1137\u001b[0m                 \u001b[0mppc_trace\u001b[0m\u001b[0;34m[\u001b[0m\u001b[0mk\u001b[0m\u001b[0;34m.\u001b[0m\u001b[0mname\u001b[0m\u001b[0;34m]\u001b[0m\u001b[0;34m.\u001b[0m\u001b[0mappend\u001b[0m\u001b[0;34m(\u001b[0m\u001b[0mv\u001b[0m\u001b[0;34m)\u001b[0m\u001b[0;34m\u001b[0m\u001b[0;34m\u001b[0m\u001b[0m\n",
      "\u001b[0;32m~/anaconda3/lib/python3.6/site-packages/pymc3/distributions/distribution.py\u001b[0m in \u001b[0;36mdraw_values\u001b[0;34m(params, point, size)\u001b[0m\n\u001b[1;32m    398\u001b[0m                                             \u001b[0mpoint\u001b[0m\u001b[0;34m=\u001b[0m\u001b[0mpoint\u001b[0m\u001b[0;34m,\u001b[0m\u001b[0;34m\u001b[0m\u001b[0;34m\u001b[0m\u001b[0m\n\u001b[1;32m    399\u001b[0m                                             \u001b[0mgivens\u001b[0m\u001b[0;34m=\u001b[0m\u001b[0mgivens\u001b[0m\u001b[0;34m.\u001b[0m\u001b[0mvalues\u001b[0m\u001b[0;34m(\u001b[0m\u001b[0;34m)\u001b[0m\u001b[0;34m,\u001b[0m\u001b[0;34m\u001b[0m\u001b[0;34m\u001b[0m\u001b[0m\n\u001b[0;32m--> 400\u001b[0;31m                                             size=size)\n\u001b[0m\u001b[1;32m    401\u001b[0m                         \u001b[0mevaluated\u001b[0m\u001b[0;34m[\u001b[0m\u001b[0mparam_idx\u001b[0m\u001b[0;34m]\u001b[0m \u001b[0;34m=\u001b[0m \u001b[0mdrawn\u001b[0m\u001b[0;34m[\u001b[0m\u001b[0mparam\u001b[0m\u001b[0;34m]\u001b[0m \u001b[0;34m=\u001b[0m \u001b[0mvalue\u001b[0m\u001b[0;34m\u001b[0m\u001b[0;34m\u001b[0m\u001b[0m\n\u001b[1;32m    402\u001b[0m                         \u001b[0mgivens\u001b[0m\u001b[0;34m[\u001b[0m\u001b[0mparam\u001b[0m\u001b[0;34m.\u001b[0m\u001b[0mname\u001b[0m\u001b[0;34m]\u001b[0m \u001b[0;34m=\u001b[0m \u001b[0;34m(\u001b[0m\u001b[0mparam\u001b[0m\u001b[0;34m,\u001b[0m \u001b[0mvalue\u001b[0m\u001b[0;34m)\u001b[0m\u001b[0;34m\u001b[0m\u001b[0;34m\u001b[0m\u001b[0m\n",
      "\u001b[0;32m~/anaconda3/lib/python3.6/site-packages/pymc3/distributions/distribution.py\u001b[0m in \u001b[0;36m_draw_value\u001b[0;34m(param, point, givens, size)\u001b[0m\n\u001b[1;32m    475\u001b[0m                 \u001b[0mdist_tmp\u001b[0m\u001b[0;34m.\u001b[0m\u001b[0mshape\u001b[0m \u001b[0;34m=\u001b[0m \u001b[0mdistshape\u001b[0m\u001b[0;34m\u001b[0m\u001b[0;34m\u001b[0m\u001b[0m\n\u001b[1;32m    476\u001b[0m                 \u001b[0;32mtry\u001b[0m\u001b[0;34m:\u001b[0m\u001b[0;34m\u001b[0m\u001b[0;34m\u001b[0m\u001b[0m\n\u001b[0;32m--> 477\u001b[0;31m                     \u001b[0mdist_tmp\u001b[0m\u001b[0;34m.\u001b[0m\u001b[0mrandom\u001b[0m\u001b[0;34m(\u001b[0m\u001b[0mpoint\u001b[0m\u001b[0;34m=\u001b[0m\u001b[0mpoint\u001b[0m\u001b[0;34m,\u001b[0m \u001b[0msize\u001b[0m\u001b[0;34m=\u001b[0m\u001b[0msize\u001b[0m\u001b[0;34m)\u001b[0m\u001b[0;34m\u001b[0m\u001b[0;34m\u001b[0m\u001b[0m\n\u001b[0m\u001b[1;32m    478\u001b[0m                 \u001b[0;32mexcept\u001b[0m \u001b[0;34m(\u001b[0m\u001b[0mValueError\u001b[0m\u001b[0;34m,\u001b[0m \u001b[0mTypeError\u001b[0m\u001b[0;34m)\u001b[0m\u001b[0;34m:\u001b[0m\u001b[0;34m\u001b[0m\u001b[0;34m\u001b[0m\u001b[0m\n\u001b[1;32m    479\u001b[0m                     \u001b[0;31m# reset shape to account for shape changes\u001b[0m\u001b[0;34m\u001b[0m\u001b[0;34m\u001b[0m\u001b[0;34m\u001b[0m\u001b[0m\n",
      "\u001b[0;32m~/anaconda3/lib/python3.6/site-packages/pymc3/distributions/multivariate.py\u001b[0m in \u001b[0;36mrandom\u001b[0;34m(self, point, size)\u001b[0m\n\u001b[1;32m    626\u001b[0m \u001b[0;34m\u001b[0m\u001b[0m\n\u001b[1;32m    627\u001b[0m     \u001b[0;32mdef\u001b[0m \u001b[0mrandom\u001b[0m\u001b[0;34m(\u001b[0m\u001b[0mself\u001b[0m\u001b[0;34m,\u001b[0m \u001b[0mpoint\u001b[0m\u001b[0;34m=\u001b[0m\u001b[0;32mNone\u001b[0m\u001b[0;34m,\u001b[0m \u001b[0msize\u001b[0m\u001b[0;34m=\u001b[0m\u001b[0;32mNone\u001b[0m\u001b[0;34m)\u001b[0m\u001b[0;34m:\u001b[0m\u001b[0;34m\u001b[0m\u001b[0;34m\u001b[0m\u001b[0m\n\u001b[0;32m--> 628\u001b[0;31m         \u001b[0mn\u001b[0m\u001b[0;34m,\u001b[0m \u001b[0mp\u001b[0m \u001b[0;34m=\u001b[0m \u001b[0mdraw_values\u001b[0m\u001b[0;34m(\u001b[0m\u001b[0;34m[\u001b[0m\u001b[0mself\u001b[0m\u001b[0;34m.\u001b[0m\u001b[0mn\u001b[0m\u001b[0;34m,\u001b[0m \u001b[0mself\u001b[0m\u001b[0;34m.\u001b[0m\u001b[0mp\u001b[0m\u001b[0;34m]\u001b[0m\u001b[0;34m,\u001b[0m \u001b[0mpoint\u001b[0m\u001b[0;34m=\u001b[0m\u001b[0mpoint\u001b[0m\u001b[0;34m,\u001b[0m \u001b[0msize\u001b[0m\u001b[0;34m=\u001b[0m\u001b[0msize\u001b[0m\u001b[0;34m)\u001b[0m\u001b[0;34m\u001b[0m\u001b[0;34m\u001b[0m\u001b[0m\n\u001b[0m\u001b[1;32m    629\u001b[0m         samples = generate_samples(self._random, n, p,\n\u001b[1;32m    630\u001b[0m                                    \u001b[0mdist_shape\u001b[0m\u001b[0;34m=\u001b[0m\u001b[0mself\u001b[0m\u001b[0;34m.\u001b[0m\u001b[0mshape\u001b[0m\u001b[0;34m,\u001b[0m\u001b[0;34m\u001b[0m\u001b[0;34m\u001b[0m\u001b[0m\n",
      "\u001b[0;32m~/anaconda3/lib/python3.6/site-packages/pymc3/distributions/distribution.py\u001b[0m in \u001b[0;36mdraw_values\u001b[0;34m(params, point, size)\u001b[0m\n\u001b[1;32m    367\u001b[0m                                         \u001b[0mpoint\u001b[0m\u001b[0;34m=\u001b[0m\u001b[0mpoint\u001b[0m\u001b[0;34m,\u001b[0m\u001b[0;34m\u001b[0m\u001b[0;34m\u001b[0m\u001b[0m\n\u001b[1;32m    368\u001b[0m                                         \u001b[0mgivens\u001b[0m\u001b[0;34m=\u001b[0m\u001b[0mtemp_givens\u001b[0m\u001b[0;34m,\u001b[0m\u001b[0;34m\u001b[0m\u001b[0;34m\u001b[0m\u001b[0m\n\u001b[0;32m--> 369\u001b[0;31m                                         size=size)\n\u001b[0m\u001b[1;32m    370\u001b[0m                     \u001b[0mgivens\u001b[0m\u001b[0;34m[\u001b[0m\u001b[0mnext_\u001b[0m\u001b[0;34m.\u001b[0m\u001b[0mname\u001b[0m\u001b[0;34m]\u001b[0m \u001b[0;34m=\u001b[0m \u001b[0;34m(\u001b[0m\u001b[0mnext_\u001b[0m\u001b[0;34m,\u001b[0m \u001b[0mvalue\u001b[0m\u001b[0;34m)\u001b[0m\u001b[0;34m\u001b[0m\u001b[0;34m\u001b[0m\u001b[0m\n\u001b[1;32m    371\u001b[0m                     \u001b[0mdrawn\u001b[0m\u001b[0;34m[\u001b[0m\u001b[0mnext_\u001b[0m\u001b[0;34m]\u001b[0m \u001b[0;34m=\u001b[0m \u001b[0mvalue\u001b[0m\u001b[0;34m\u001b[0m\u001b[0;34m\u001b[0m\u001b[0m\n",
      "\u001b[0;32m~/anaconda3/lib/python3.6/site-packages/pymc3/distributions/distribution.py\u001b[0m in \u001b[0;36m_draw_value\u001b[0;34m(param, point, givens, size)\u001b[0m\n\u001b[1;32m    461\u001b[0m             \u001b[0;32mreturn\u001b[0m \u001b[0mpoint\u001b[0m\u001b[0;34m[\u001b[0m\u001b[0mparam\u001b[0m\u001b[0;34m.\u001b[0m\u001b[0mname\u001b[0m\u001b[0;34m]\u001b[0m\u001b[0;34m\u001b[0m\u001b[0;34m\u001b[0m\u001b[0m\n\u001b[1;32m    462\u001b[0m         \u001b[0;32melif\u001b[0m \u001b[0mhasattr\u001b[0m\u001b[0;34m(\u001b[0m\u001b[0mparam\u001b[0m\u001b[0;34m,\u001b[0m \u001b[0;34m'random'\u001b[0m\u001b[0;34m)\u001b[0m \u001b[0;32mand\u001b[0m \u001b[0mparam\u001b[0m\u001b[0;34m.\u001b[0m\u001b[0mrandom\u001b[0m \u001b[0;32mis\u001b[0m \u001b[0;32mnot\u001b[0m \u001b[0;32mNone\u001b[0m\u001b[0;34m:\u001b[0m\u001b[0;34m\u001b[0m\u001b[0;34m\u001b[0m\u001b[0m\n\u001b[0;32m--> 463\u001b[0;31m             \u001b[0;32mreturn\u001b[0m \u001b[0mparam\u001b[0m\u001b[0;34m.\u001b[0m\u001b[0mrandom\u001b[0m\u001b[0;34m(\u001b[0m\u001b[0mpoint\u001b[0m\u001b[0;34m=\u001b[0m\u001b[0mpoint\u001b[0m\u001b[0;34m,\u001b[0m \u001b[0msize\u001b[0m\u001b[0;34m=\u001b[0m\u001b[0msize\u001b[0m\u001b[0;34m)\u001b[0m\u001b[0;34m\u001b[0m\u001b[0;34m\u001b[0m\u001b[0m\n\u001b[0m\u001b[1;32m    464\u001b[0m         elif (hasattr(param, 'distribution') and\n\u001b[1;32m    465\u001b[0m                 \u001b[0mhasattr\u001b[0m\u001b[0;34m(\u001b[0m\u001b[0mparam\u001b[0m\u001b[0;34m.\u001b[0m\u001b[0mdistribution\u001b[0m\u001b[0;34m,\u001b[0m \u001b[0;34m'random'\u001b[0m\u001b[0;34m)\u001b[0m \u001b[0;32mand\u001b[0m\u001b[0;34m\u001b[0m\u001b[0;34m\u001b[0m\u001b[0m\n",
      "\u001b[0;32m~/anaconda3/lib/python3.6/site-packages/pymc3/model.py\u001b[0m in \u001b[0;36m__call__\u001b[0;34m(self, *args, **kwargs)\u001b[0m\n\u001b[1;32m     41\u001b[0m \u001b[0;34m\u001b[0m\u001b[0m\n\u001b[1;32m     42\u001b[0m     \u001b[0;32mdef\u001b[0m \u001b[0m__call__\u001b[0m\u001b[0;34m(\u001b[0m\u001b[0mself\u001b[0m\u001b[0;34m,\u001b[0m \u001b[0;34m*\u001b[0m\u001b[0margs\u001b[0m\u001b[0;34m,\u001b[0m \u001b[0;34m**\u001b[0m\u001b[0mkwargs\u001b[0m\u001b[0;34m)\u001b[0m\u001b[0;34m:\u001b[0m\u001b[0;34m\u001b[0m\u001b[0;34m\u001b[0m\u001b[0m\n\u001b[0;32m---> 43\u001b[0;31m         \u001b[0;32mreturn\u001b[0m \u001b[0mgetattr\u001b[0m\u001b[0;34m(\u001b[0m\u001b[0mself\u001b[0m\u001b[0;34m.\u001b[0m\u001b[0mobj\u001b[0m\u001b[0;34m,\u001b[0m \u001b[0mself\u001b[0m\u001b[0;34m.\u001b[0m\u001b[0mmethod_name\u001b[0m\u001b[0;34m)\u001b[0m\u001b[0;34m(\u001b[0m\u001b[0;34m*\u001b[0m\u001b[0margs\u001b[0m\u001b[0;34m,\u001b[0m \u001b[0;34m**\u001b[0m\u001b[0mkwargs\u001b[0m\u001b[0;34m)\u001b[0m\u001b[0;34m\u001b[0m\u001b[0;34m\u001b[0m\u001b[0m\n\u001b[0m\u001b[1;32m     44\u001b[0m \u001b[0;34m\u001b[0m\u001b[0m\n\u001b[1;32m     45\u001b[0m \u001b[0;34m\u001b[0m\u001b[0m\n",
      "\u001b[0;32m~/anaconda3/lib/python3.6/site-packages/pymc3/distributions/multivariate.py\u001b[0m in \u001b[0;36mrandom\u001b[0;34m(self, point, size)\u001b[0m\n\u001b[1;32m    442\u001b[0m \u001b[0;34m\u001b[0m\u001b[0m\n\u001b[1;32m    443\u001b[0m     \u001b[0;32mdef\u001b[0m \u001b[0mrandom\u001b[0m\u001b[0;34m(\u001b[0m\u001b[0mself\u001b[0m\u001b[0;34m,\u001b[0m \u001b[0mpoint\u001b[0m\u001b[0;34m=\u001b[0m\u001b[0;32mNone\u001b[0m\u001b[0;34m,\u001b[0m \u001b[0msize\u001b[0m\u001b[0;34m=\u001b[0m\u001b[0;32mNone\u001b[0m\u001b[0;34m)\u001b[0m\u001b[0;34m:\u001b[0m\u001b[0;34m\u001b[0m\u001b[0;34m\u001b[0m\u001b[0m\n\u001b[0;32m--> 444\u001b[0;31m         \u001b[0ma\u001b[0m \u001b[0;34m=\u001b[0m \u001b[0mdraw_values\u001b[0m\u001b[0;34m(\u001b[0m\u001b[0;34m[\u001b[0m\u001b[0mself\u001b[0m\u001b[0;34m.\u001b[0m\u001b[0ma\u001b[0m\u001b[0;34m]\u001b[0m\u001b[0;34m,\u001b[0m \u001b[0mpoint\u001b[0m\u001b[0;34m=\u001b[0m\u001b[0mpoint\u001b[0m\u001b[0;34m,\u001b[0m \u001b[0msize\u001b[0m\u001b[0;34m=\u001b[0m\u001b[0msize\u001b[0m\u001b[0;34m)\u001b[0m\u001b[0;34m[\u001b[0m\u001b[0;36m0\u001b[0m\u001b[0;34m]\u001b[0m\u001b[0;34m\u001b[0m\u001b[0;34m\u001b[0m\u001b[0m\n\u001b[0m\u001b[1;32m    445\u001b[0m         samples = generate_samples(self._random,\n\u001b[1;32m    446\u001b[0m                                    \u001b[0ma\u001b[0m\u001b[0;34m=\u001b[0m\u001b[0ma\u001b[0m\u001b[0;34m,\u001b[0m\u001b[0;34m\u001b[0m\u001b[0;34m\u001b[0m\u001b[0m\n",
      "\u001b[0;32m~/anaconda3/lib/python3.6/site-packages/pymc3/distributions/distribution.py\u001b[0m in \u001b[0;36mdraw_values\u001b[0;34m(params, point, size)\u001b[0m\n\u001b[1;32m    367\u001b[0m                                         \u001b[0mpoint\u001b[0m\u001b[0;34m=\u001b[0m\u001b[0mpoint\u001b[0m\u001b[0;34m,\u001b[0m\u001b[0;34m\u001b[0m\u001b[0;34m\u001b[0m\u001b[0m\n\u001b[1;32m    368\u001b[0m                                         \u001b[0mgivens\u001b[0m\u001b[0;34m=\u001b[0m\u001b[0mtemp_givens\u001b[0m\u001b[0;34m,\u001b[0m\u001b[0;34m\u001b[0m\u001b[0;34m\u001b[0m\u001b[0m\n\u001b[0;32m--> 369\u001b[0;31m                                         size=size)\n\u001b[0m\u001b[1;32m    370\u001b[0m                     \u001b[0mgivens\u001b[0m\u001b[0;34m[\u001b[0m\u001b[0mnext_\u001b[0m\u001b[0;34m.\u001b[0m\u001b[0mname\u001b[0m\u001b[0;34m]\u001b[0m \u001b[0;34m=\u001b[0m \u001b[0;34m(\u001b[0m\u001b[0mnext_\u001b[0m\u001b[0;34m,\u001b[0m \u001b[0mvalue\u001b[0m\u001b[0;34m)\u001b[0m\u001b[0;34m\u001b[0m\u001b[0;34m\u001b[0m\u001b[0m\n\u001b[1;32m    371\u001b[0m                     \u001b[0mdrawn\u001b[0m\u001b[0;34m[\u001b[0m\u001b[0mnext_\u001b[0m\u001b[0;34m]\u001b[0m \u001b[0;34m=\u001b[0m \u001b[0mvalue\u001b[0m\u001b[0;34m\u001b[0m\u001b[0;34m\u001b[0m\u001b[0m\n",
      "\u001b[0;32m~/anaconda3/lib/python3.6/site-packages/pymc3/distributions/distribution.py\u001b[0m in \u001b[0;36m_draw_value\u001b[0;34m(param, point, givens, size)\u001b[0m\n\u001b[1;32m    461\u001b[0m             \u001b[0;32mreturn\u001b[0m \u001b[0mpoint\u001b[0m\u001b[0;34m[\u001b[0m\u001b[0mparam\u001b[0m\u001b[0;34m.\u001b[0m\u001b[0mname\u001b[0m\u001b[0;34m]\u001b[0m\u001b[0;34m\u001b[0m\u001b[0;34m\u001b[0m\u001b[0m\n\u001b[1;32m    462\u001b[0m         \u001b[0;32melif\u001b[0m \u001b[0mhasattr\u001b[0m\u001b[0;34m(\u001b[0m\u001b[0mparam\u001b[0m\u001b[0;34m,\u001b[0m \u001b[0;34m'random'\u001b[0m\u001b[0;34m)\u001b[0m \u001b[0;32mand\u001b[0m \u001b[0mparam\u001b[0m\u001b[0;34m.\u001b[0m\u001b[0mrandom\u001b[0m \u001b[0;32mis\u001b[0m \u001b[0;32mnot\u001b[0m \u001b[0;32mNone\u001b[0m\u001b[0;34m:\u001b[0m\u001b[0;34m\u001b[0m\u001b[0;34m\u001b[0m\u001b[0m\n\u001b[0;32m--> 463\u001b[0;31m             \u001b[0;32mreturn\u001b[0m \u001b[0mparam\u001b[0m\u001b[0;34m.\u001b[0m\u001b[0mrandom\u001b[0m\u001b[0;34m(\u001b[0m\u001b[0mpoint\u001b[0m\u001b[0;34m=\u001b[0m\u001b[0mpoint\u001b[0m\u001b[0;34m,\u001b[0m \u001b[0msize\u001b[0m\u001b[0;34m=\u001b[0m\u001b[0msize\u001b[0m\u001b[0;34m)\u001b[0m\u001b[0;34m\u001b[0m\u001b[0;34m\u001b[0m\u001b[0m\n\u001b[0m\u001b[1;32m    464\u001b[0m         elif (hasattr(param, 'distribution') and\n\u001b[1;32m    465\u001b[0m                 \u001b[0mhasattr\u001b[0m\u001b[0;34m(\u001b[0m\u001b[0mparam\u001b[0m\u001b[0;34m.\u001b[0m\u001b[0mdistribution\u001b[0m\u001b[0;34m,\u001b[0m \u001b[0;34m'random'\u001b[0m\u001b[0;34m)\u001b[0m \u001b[0;32mand\u001b[0m\u001b[0;34m\u001b[0m\u001b[0;34m\u001b[0m\u001b[0m\n",
      "\u001b[0;32m~/anaconda3/lib/python3.6/site-packages/pymc3/model.py\u001b[0m in \u001b[0;36m__call__\u001b[0;34m(self, *args, **kwargs)\u001b[0m\n\u001b[1;32m     41\u001b[0m \u001b[0;34m\u001b[0m\u001b[0m\n\u001b[1;32m     42\u001b[0m     \u001b[0;32mdef\u001b[0m \u001b[0m__call__\u001b[0m\u001b[0;34m(\u001b[0m\u001b[0mself\u001b[0m\u001b[0;34m,\u001b[0m \u001b[0;34m*\u001b[0m\u001b[0margs\u001b[0m\u001b[0;34m,\u001b[0m \u001b[0;34m**\u001b[0m\u001b[0mkwargs\u001b[0m\u001b[0;34m)\u001b[0m\u001b[0;34m:\u001b[0m\u001b[0;34m\u001b[0m\u001b[0;34m\u001b[0m\u001b[0m\n\u001b[0;32m---> 43\u001b[0;31m         \u001b[0;32mreturn\u001b[0m \u001b[0mgetattr\u001b[0m\u001b[0;34m(\u001b[0m\u001b[0mself\u001b[0m\u001b[0;34m.\u001b[0m\u001b[0mobj\u001b[0m\u001b[0;34m,\u001b[0m \u001b[0mself\u001b[0m\u001b[0;34m.\u001b[0m\u001b[0mmethod_name\u001b[0m\u001b[0;34m)\u001b[0m\u001b[0;34m(\u001b[0m\u001b[0;34m*\u001b[0m\u001b[0margs\u001b[0m\u001b[0;34m,\u001b[0m \u001b[0;34m**\u001b[0m\u001b[0mkwargs\u001b[0m\u001b[0;34m)\u001b[0m\u001b[0;34m\u001b[0m\u001b[0;34m\u001b[0m\u001b[0m\n\u001b[0m\u001b[1;32m     44\u001b[0m \u001b[0;34m\u001b[0m\u001b[0m\n\u001b[1;32m     45\u001b[0m \u001b[0;34m\u001b[0m\u001b[0m\n",
      "\u001b[0;32m~/anaconda3/lib/python3.6/site-packages/pymc3/distributions/multivariate.py\u001b[0m in \u001b[0;36mrandom\u001b[0;34m(self, point, size)\u001b[0m\n\u001b[1;32m    248\u001b[0m             \u001b[0;32mreturn\u001b[0m \u001b[0mdist\u001b[0m\u001b[0;34m.\u001b[0m\u001b[0mrvs\u001b[0m\u001b[0;34m(\u001b[0m\u001b[0msize\u001b[0m\u001b[0;34m)\u001b[0m\u001b[0;34m\u001b[0m\u001b[0;34m\u001b[0m\u001b[0m\n\u001b[1;32m    249\u001b[0m         \u001b[0;32melif\u001b[0m \u001b[0mself\u001b[0m\u001b[0;34m.\u001b[0m\u001b[0m_cov_type\u001b[0m \u001b[0;34m==\u001b[0m \u001b[0;34m'chol'\u001b[0m\u001b[0;34m:\u001b[0m\u001b[0;34m\u001b[0m\u001b[0;34m\u001b[0m\u001b[0m\n\u001b[0;32m--> 250\u001b[0;31m             \u001b[0mmu\u001b[0m\u001b[0;34m,\u001b[0m \u001b[0mchol\u001b[0m \u001b[0;34m=\u001b[0m \u001b[0mdraw_values\u001b[0m\u001b[0;34m(\u001b[0m\u001b[0;34m[\u001b[0m\u001b[0mself\u001b[0m\u001b[0;34m.\u001b[0m\u001b[0mmu\u001b[0m\u001b[0;34m,\u001b[0m \u001b[0mself\u001b[0m\u001b[0;34m.\u001b[0m\u001b[0mchol_cov\u001b[0m\u001b[0;34m]\u001b[0m\u001b[0;34m,\u001b[0m \u001b[0mpoint\u001b[0m\u001b[0;34m=\u001b[0m\u001b[0mpoint\u001b[0m\u001b[0;34m,\u001b[0m \u001b[0msize\u001b[0m\u001b[0;34m=\u001b[0m\u001b[0msize\u001b[0m\u001b[0;34m)\u001b[0m\u001b[0;34m\u001b[0m\u001b[0;34m\u001b[0m\u001b[0m\n\u001b[0m\u001b[1;32m    251\u001b[0m             \u001b[0;32mif\u001b[0m \u001b[0mmu\u001b[0m\u001b[0;34m.\u001b[0m\u001b[0mshape\u001b[0m\u001b[0;34m[\u001b[0m\u001b[0;34m-\u001b[0m\u001b[0;36m1\u001b[0m\u001b[0;34m]\u001b[0m \u001b[0;34m!=\u001b[0m \u001b[0mchol\u001b[0m\u001b[0;34m[\u001b[0m\u001b[0;36m0\u001b[0m\u001b[0;34m]\u001b[0m\u001b[0;34m.\u001b[0m\u001b[0mshape\u001b[0m\u001b[0;34m[\u001b[0m\u001b[0;34m-\u001b[0m\u001b[0;36m1\u001b[0m\u001b[0;34m]\u001b[0m\u001b[0;34m:\u001b[0m\u001b[0;34m\u001b[0m\u001b[0;34m\u001b[0m\u001b[0m\n\u001b[1;32m    252\u001b[0m                 \u001b[0;32mraise\u001b[0m \u001b[0mValueError\u001b[0m\u001b[0;34m(\u001b[0m\u001b[0;34m\"Shapes for mu and chol don't match\"\u001b[0m\u001b[0;34m)\u001b[0m\u001b[0;34m\u001b[0m\u001b[0;34m\u001b[0m\u001b[0m\n",
      "\u001b[0;32m~/anaconda3/lib/python3.6/site-packages/pymc3/distributions/distribution.py\u001b[0m in \u001b[0;36mdraw_values\u001b[0;34m(params, point, size)\u001b[0m\n\u001b[1;32m    374\u001b[0m                     \u001b[0;31m# the stack of nodes to try to draw from. We exclude the\u001b[0m\u001b[0;34m\u001b[0m\u001b[0;34m\u001b[0m\u001b[0;34m\u001b[0m\u001b[0m\n\u001b[1;32m    375\u001b[0m                     \u001b[0;31m# nodes in the `params` list.\u001b[0m\u001b[0;34m\u001b[0m\u001b[0;34m\u001b[0m\u001b[0;34m\u001b[0m\u001b[0m\n\u001b[0;32m--> 376\u001b[0;31m                     stack.extend([node for node in named_nodes_parents[next_]\n\u001b[0m\u001b[1;32m    377\u001b[0m                                   \u001b[0;32mif\u001b[0m \u001b[0mnode\u001b[0m \u001b[0;32mis\u001b[0m \u001b[0;32mnot\u001b[0m \u001b[0;32mNone\u001b[0m \u001b[0;32mand\u001b[0m\u001b[0;34m\u001b[0m\u001b[0;34m\u001b[0m\u001b[0m\n\u001b[1;32m    378\u001b[0m                                   \u001b[0mnode\u001b[0m\u001b[0;34m.\u001b[0m\u001b[0mname\u001b[0m \u001b[0;32mnot\u001b[0m \u001b[0;32min\u001b[0m \u001b[0mdrawn\u001b[0m \u001b[0;32mand\u001b[0m\u001b[0;34m\u001b[0m\u001b[0;34m\u001b[0m\u001b[0m\n",
      "\u001b[0;31mKeyError\u001b[0m: packed_L"
     ]
    }
   ],
   "source": [
    "with model_non_hiera:\n",
    "    ppc_non_hiera = pm.sample_posterior_predictive(trace_1, samples=1000, vars=[thetas, post])"
   ]
  },
  {
   "cell_type": "code",
   "execution_count": 37,
   "metadata": {},
   "outputs": [
    {
     "data": {
      "text/plain": [
       "(1000, 16, 3)"
      ]
     },
     "execution_count": 37,
     "metadata": {},
     "output_type": "execute_result"
    }
   ],
   "source": [
    "ppc_non_hiera['thetas'].shape"
   ]
  },
  {
   "cell_type": "markdown",
   "metadata": {},
   "source": [
    "Just check if the column **proportion** (look at the data frame) is equal to what we got."
   ]
  },
  {
   "cell_type": "code",
   "execution_count": 38,
   "metadata": {},
   "outputs": [
    {
     "data": {
      "text/plain": [
       "array([0.03206413, 0.03206413, 0.11523046, 0.04809619, 0.03206413,\n",
       "       0.06513026, 0.08016032, 0.1002004 , 0.01503006, 0.06613226,\n",
       "       0.06813627, 0.12625251, 0.02304609, 0.05310621, 0.08617234,\n",
       "       0.05711423])"
      ]
     },
     "execution_count": 38,
     "metadata": {},
     "output_type": "execute_result"
    }
   ],
   "source": [
    "proportion / np.sum(proportion)"
   ]
  },
  {
   "cell_type": "code",
   "execution_count": 39,
   "metadata": {},
   "outputs": [],
   "source": [
    "diff = []\n",
    "\n",
    "for i in range(16):\n",
    "    result = ppc_non_hiera['thetas'][:, i, 0] - ppc_non_hiera['thetas'][:, i, 1]\n",
    "    diff.append(list(result))"
   ]
  },
  {
   "cell_type": "code",
   "execution_count": 40,
   "metadata": {},
   "outputs": [
    {
     "data": {
      "text/plain": [
       "array([[-0.33787199, -0.37379882, -0.25882127, ..., -0.24333032,\n",
       "        -0.34828809, -0.2890644 ],\n",
       "       [ 0.10464792, -0.0332341 ,  0.04314238, ..., -0.02677397,\n",
       "         0.06811687, -0.02878468],\n",
       "       [ 0.14668186, -0.09759919,  0.24836487, ..., -0.05777017,\n",
       "         0.13984376, -0.02823006],\n",
       "       ...,\n",
       "       [ 0.17630032,  0.2639916 ,  0.08281504, ...,  0.12927367,\n",
       "         0.12421466,  0.23584101],\n",
       "       [ 0.10903527,  0.16980981,  0.1529897 , ...,  0.24074752,\n",
       "         0.14888268,  0.18884677],\n",
       "       [ 0.29177155,  0.00912029,  0.31554402, ...,  0.41702492,\n",
       "         0.07311343,  0.33643738]])"
      ]
     },
     "execution_count": 40,
     "metadata": {},
     "output_type": "execute_result"
    }
   ],
   "source": [
    "diff = np.asarray(diff)\n",
    "diff"
   ]
  },
  {
   "cell_type": "code",
   "execution_count": 41,
   "metadata": {},
   "outputs": [],
   "source": [
    "res = np.sum(diff.T * proportion / np.sum(proportion), axis=1)"
   ]
  },
  {
   "cell_type": "code",
   "execution_count": 42,
   "metadata": {},
   "outputs": [
    {
     "data": {
      "image/png": "[encoded data removed]",
      "text/plain": [
       "<Figure size 720x432 with 1 Axes>"
      ]
     },
     "metadata": {},
     "output_type": "display_data"
    }
   ],
   "source": [
    "plt.figure(figsize=(10, 6))\n",
    "_, _, _ = plt.hist(res, bins=18, edgecolor='w', density=True)"
   ]
  },
  {
   "cell_type": "markdown",
   "metadata": {},
   "source": [
    "**¡Se pudo reproducir la figura!**"
   ]
  },
  {
   "cell_type": "markdown",
   "metadata": {},
   "source": [
    "### **Hierarchichal model**"
   ]
  },
  {
   "cell_type": "markdown",
   "metadata": {},
   "source": [
    "The authors are using other parameters, so we need to find the number of people for $\\alpha_{1j}$ and $\\alpha_{2j}$."
   ]
  },
  {
   "cell_type": "code",
   "execution_count": 43,
   "metadata": {},
   "outputs": [
    {
     "name": "stdout",
     "output_type": "stream",
     "text": [
      "[ 42.  45. 146.  68.  41.  84. 104. 129.  19.  84.  90. 165.  32.  68.\n",
      " 113.  76.]\n"
     ]
    }
   ],
   "source": [
    "alpha_2j = np.round((1 - data['other'].to_numpy()) * data.proportion.to_numpy() * participants)\n",
    "print(alpha_2j)"
   ]
  },
  {
   "cell_type": "code",
   "execution_count": 44,
   "metadata": {},
   "outputs": [
    {
     "name": "stdout",
     "output_type": "stream",
     "text": [
      "[ 15.07572093  23.66648889  88.29653061  32.68517647  20.94704762\n",
      "  47.0275      65.67153846  89.73643411  14.47        51.16178571\n",
      "  55.14501099 111.60316364  17.14475758  46.24016176  73.78419469\n",
      "  49.9215    ]\n"
     ]
    }
   ],
   "source": [
    "alpha_1j = valores[:, 0] / (valores[:, 0] + valores[:, 1]) * data.proportion.to_numpy() * participants\n",
    "print(alpha_1j)"
   ]
  },
  {
   "cell_type": "code",
   "execution_count": 45,
   "metadata": {},
   "outputs": [
    {
     "name": "stdout",
     "output_type": "stream",
     "text": [
      "[[ 15.  42.]\n",
      " [ 24.  45.]\n",
      " [ 88. 146.]\n",
      " [ 33.  68.]\n",
      " [ 21.  41.]\n",
      " [ 47.  84.]\n",
      " [ 66. 104.]\n",
      " [ 90. 129.]\n",
      " [ 14.  19.]\n",
      " [ 51.  84.]\n",
      " [ 55.  90.]\n",
      " [112. 165.]\n",
      " [ 17.  32.]\n",
      " [ 46.  68.]\n",
      " [ 74. 113.]\n",
      " [ 50.  76.]]\n"
     ]
    }
   ],
   "source": [
    "new_values = np.round(np.stack([alpha_1j, alpha_2j], axis=1))\n",
    "print(new_values)"
   ]
  },
  {
   "cell_type": "code",
   "execution_count": 46,
   "metadata": {},
   "outputs": [],
   "source": [
    "with pm.Model() as model_hier:\n",
    "    \n",
    "# #     rho = pm.Uniform('rho', lower=0, upper=1)\n",
    "#     rho = pm.Normal('rho', mu=-0.5, sd=.2)\n",
    "# #     mu = pm.Uniform('mu', lower=0, upper=50, shape=(2,))\n",
    "#     mu = pm.HalfNormal('mu', sd=4, shape=(2,))\n",
    "# #     mu2 = pm.HalfNormal('mu2', sd=1.4)\n",
    "# #     tau = pm.Uniform('tau', lower=-2, upper=3, shape=(2,))\n",
    "#     tau = pm.Beta('tau', alpha=2, beta=2, shape=(2,))\n",
    "    \n",
    "#     covariance = tt.stack([[tau[0]**2, rho * tau[0] * tau[1]], [rho * tau[0] * tau[1], tau[1]**2]], axis=1)\n",
    "# #     print(covariance)\n",
    "    packed_L = pm.LKJCholeskyCov('packed_L', n=2, eta=2., sd_dist=pm.HalfCauchy.dist(5))\n",
    "\n",
    "    L = pm.expand_packed_triangular(2, packed_L)\n",
    "    Sigma = pm.Deterministic('Sigma', L.dot(L.T))\n",
    "\n",
    "    mu = pm.Normal('mu', 0., 10., shape=2, testval=new_values.mean(axis=0))\n",
    "    beta = pm.MvNormal('beta', mu=mu, chol=L, shape=(16, 2))\n",
    "    \n",
    "#     beta = pm.MvNormal('beta', mu=mu, cov=covariance, shape=2)\n",
    "    \n",
    "    alpha = pm.invlogit(beta)\n",
    "#     alpha2 = pm.invlogit(beta[1])\n",
    "    \n",
    "    alphas = pm.Dirichlet('alphas', a=alpha, shape=(16, 2))\n",
    "#     alphas = pm.Dirichlet('alphas', a=np.array([alpha1, alpha2]), shape=(16, 2))\n",
    "\n",
    "    post = pm.Multinomial('post', n=np.sum(new_values, axis=1), p=alphas, observed=new_values)"
   ]
  },
  {
   "cell_type": "code",
   "execution_count": 47,
   "metadata": {},
   "outputs": [
    {
     "data": {
      "text/plain": [
       "packed_L_cholesky-cov-packed__     -3.91\n",
       "mu                                -52.35\n",
       "beta                              -29.41\n",
       "alphas_stickbreaking__            -22.18\n",
       "post                             -105.64\n",
       "Name: Log-probability of test_point, dtype: float64"
      ]
     },
     "execution_count": 47,
     "metadata": {},
     "output_type": "execute_result"
    }
   ],
   "source": [
    "model_hier.check_test_point()"
   ]
  },
  {
   "cell_type": "code",
   "execution_count": 48,
   "metadata": {},
   "outputs": [
    {
     "data": {
      "image/svg+xml": [
       "<?xml version=\"1.0\" encoding=\"UTF-8\" standalone=\"no\"?>\n",
       "<!DOCTYPE svg PUBLIC \"-//W3C//DTD SVG 1.1//EN\"\n",
       " \"http://www.w3.org/Graphics/SVG/1.1/DTD/svg11.dtd\">\n",
       "<!-- Generated by graphviz version 2.40.1 (20161225.0304)\n",
       " -->\n",
       "<!-- Title: %3 Pages: 1 -->\n",
       "<svg width=\"420pt\" height=\"329pt\"\n",
       " viewBox=\"0.00 0.00 420.00 329.00\" xmlns=\"http://www.w3.org/2000/svg\" xmlns:xlink=\"http://www.w3.org/1999/xlink\">\n",
       "<g id=\"graph0\" class=\"graph\" transform=\"scale(1 1) rotate(0) translate(4 325)\">\n",
       "<title>%3</title>\n",
       "<polygon fill=\"#ffffff\" stroke=\"transparent\" points=\"-4,4 -4,-325 416,-325 416,4 -4,4\"/>\n",
       "<g id=\"clust1\" class=\"cluster\">\n",
       "<title>cluster3</title>\n",
       "<path fill=\"none\" stroke=\"#000000\" d=\"M20,-238C20,-238 248,-238 248,-238 254,-238 260,-244 260,-250 260,-250 260,-301 260,-301 260,-307 254,-313 248,-313 248,-313 20,-313 20,-313 14,-313 8,-307 8,-301 8,-301 8,-250 8,-250 8,-244 14,-238 20,-238\"/>\n",
       "<text text-anchor=\"middle\" x=\"248.5\" y=\"-245.8\" font-family=\"Times,serif\" font-size=\"14.00\" fill=\"#000000\">3</text>\n",
       "</g>\n",
       "<g id=\"clust2\" class=\"cluster\">\n",
       "<title>cluster2 x 2</title>\n",
       "<path fill=\"none\" stroke=\"#000000\" d=\"M67,-155C67,-155 201,-155 201,-155 207,-155 213,-161 213,-167 213,-167 213,-218 213,-218 213,-224 207,-230 201,-230 201,-230 67,-230 67,-230 61,-230 55,-224 55,-218 55,-218 55,-167 55,-167 55,-161 61,-155 67,-155\"/>\n",
       "<text text-anchor=\"middle\" x=\"191\" y=\"-162.8\" font-family=\"Times,serif\" font-size=\"14.00\" fill=\"#000000\">2 x 2</text>\n",
       "</g>\n",
       "<g id=\"clust3\" class=\"cluster\">\n",
       "<title>cluster2</title>\n",
       "<path fill=\"none\" stroke=\"#000000\" d=\"M280,-238C280,-238 392,-238 392,-238 398,-238 404,-244 404,-250 404,-250 404,-301 404,-301 404,-307 398,-313 392,-313 392,-313 280,-313 280,-313 274,-313 268,-307 268,-301 268,-301 268,-250 268,-250 268,-244 274,-238 280,-238\"/>\n",
       "<text text-anchor=\"middle\" x=\"392.5\" y=\"-245.8\" font-family=\"Times,serif\" font-size=\"14.00\" fill=\"#000000\">2</text>\n",
       "</g>\n",
       "<g id=\"clust4\" class=\"cluster\">\n",
       "<title>cluster16 x 2</title>\n",
       "<path fill=\"none\" stroke=\"#000000\" d=\"M236,-8C236,-8 388,-8 388,-8 394,-8 400,-14 400,-20 400,-20 400,-218 400,-218 400,-224 394,-230 388,-230 388,-230 236,-230 236,-230 230,-230 224,-224 224,-218 224,-218 224,-20 224,-20 224,-14 230,-8 236,-8\"/>\n",
       "<text text-anchor=\"middle\" x=\"374.5\" y=\"-15.8\" font-family=\"Times,serif\" font-size=\"14.00\" fill=\"#000000\">16 x 2</text>\n",
       "</g>\n",
       "<!-- packed_L -->\n",
       "<g id=\"node1\" class=\"node\">\n",
       "<title>packed_L</title>\n",
       "<ellipse fill=\"none\" stroke=\"#000000\" cx=\"134\" cy=\"-287\" rx=\"118.0794\" ry=\"18\"/>\n",
       "<text text-anchor=\"middle\" x=\"134\" y=\"-283.3\" font-family=\"Times,serif\" font-size=\"14.00\" fill=\"#000000\">packed_L ~ LKJCholeskyCov</text>\n",
       "</g>\n",
       "<!-- Sigma -->\n",
       "<g id=\"node2\" class=\"node\">\n",
       "<title>Sigma</title>\n",
       "<polygon fill=\"none\" stroke=\"#000000\" points=\"204.5,-222 63.5,-222 63.5,-186 204.5,-186 204.5,-222\"/>\n",
       "<text text-anchor=\"middle\" x=\"134\" y=\"-200.3\" font-family=\"Times,serif\" font-size=\"14.00\" fill=\"#000000\">Sigma ~ Deterministic</text>\n",
       "</g>\n",
       "<!-- packed_L&#45;&gt;Sigma -->\n",
       "<g id=\"edge1\" class=\"edge\">\n",
       "<title>packed_L&#45;&gt;Sigma</title>\n",
       "<path fill=\"none\" stroke=\"#000000\" d=\"M134,-268.9902C134,-258.2963 134,-244.4994 134,-232.3706\"/>\n",
       "<polygon fill=\"#000000\" stroke=\"#000000\" points=\"137.5001,-232.2612 134,-222.2612 130.5001,-232.2613 137.5001,-232.2612\"/>\n",
       "</g>\n",
       "<!-- beta -->\n",
       "<g id=\"node4\" class=\"node\">\n",
       "<title>beta</title>\n",
       "<ellipse fill=\"none\" stroke=\"#000000\" cx=\"312\" cy=\"-204\" rx=\"75.2868\" ry=\"18\"/>\n",
       "<text text-anchor=\"middle\" x=\"312\" y=\"-200.3\" font-family=\"Times,serif\" font-size=\"14.00\" fill=\"#000000\">beta ~ MvNormal</text>\n",
       "</g>\n",
       "<!-- packed_L&#45;&gt;beta -->\n",
       "<g id=\"edge2\" class=\"edge\">\n",
       "<title>packed_L&#45;&gt;beta</title>\n",
       "<path fill=\"none\" stroke=\"#000000\" d=\"M170.8817,-269.8023C199.1827,-256.6058 238.3396,-238.3473 268.2281,-224.4105\"/>\n",
       "<polygon fill=\"#000000\" stroke=\"#000000\" points=\"269.9969,-227.4476 277.5809,-220.0493 267.0386,-221.1034 269.9969,-227.4476\"/>\n",
       "</g>\n",
       "<!-- mu -->\n",
       "<g id=\"node3\" class=\"node\">\n",
       "<title>mu</title>\n",
       "<ellipse fill=\"none\" stroke=\"#000000\" cx=\"336\" cy=\"-287\" rx=\"59.5901\" ry=\"18\"/>\n",
       "<text text-anchor=\"middle\" x=\"336\" y=\"-283.3\" font-family=\"Times,serif\" font-size=\"14.00\" fill=\"#000000\">mu ~ Normal</text>\n",
       "</g>\n",
       "<!-- mu&#45;&gt;beta -->\n",
       "<g id=\"edge3\" class=\"edge\">\n",
       "<title>mu&#45;&gt;beta</title>\n",
       "<path fill=\"none\" stroke=\"#000000\" d=\"M330.7924,-268.9902C327.6474,-258.1138 323.5742,-244.0276 320.0244,-231.7511\"/>\n",
       "<polygon fill=\"#000000\" stroke=\"#000000\" points=\"323.3376,-230.6088 317.1975,-221.9746 316.6131,-232.5533 323.3376,-230.6088\"/>\n",
       "</g>\n",
       "<!-- alphas -->\n",
       "<g id=\"node6\" class=\"node\">\n",
       "<title>alphas</title>\n",
       "<ellipse fill=\"none\" stroke=\"#000000\" cx=\"312\" cy=\"-129\" rx=\"74.187\" ry=\"18\"/>\n",
       "<text text-anchor=\"middle\" x=\"312\" y=\"-125.3\" font-family=\"Times,serif\" font-size=\"14.00\" fill=\"#000000\">alphas ~ Dirichlet</text>\n",
       "</g>\n",
       "<!-- beta&#45;&gt;alphas -->\n",
       "<g id=\"edge4\" class=\"edge\">\n",
       "<title>beta&#45;&gt;alphas</title>\n",
       "<path fill=\"none\" stroke=\"#000000\" d=\"M312,-185.8446C312,-177.3401 312,-167.0076 312,-157.4964\"/>\n",
       "<polygon fill=\"#000000\" stroke=\"#000000\" points=\"315.5001,-157.2481 312,-147.2482 308.5001,-157.2482 315.5001,-157.2481\"/>\n",
       "</g>\n",
       "<!-- post -->\n",
       "<g id=\"node5\" class=\"node\">\n",
       "<title>post</title>\n",
       "<ellipse fill=\"#d3d3d3\" stroke=\"#000000\" cx=\"312\" cy=\"-57\" rx=\"79.8859\" ry=\"18\"/>\n",
       "<text text-anchor=\"middle\" x=\"312\" y=\"-53.3\" font-family=\"Times,serif\" font-size=\"14.00\" fill=\"#000000\">post ~ Multinomial</text>\n",
       "</g>\n",
       "<!-- alphas&#45;&gt;post -->\n",
       "<g id=\"edge5\" class=\"edge\">\n",
       "<title>alphas&#45;&gt;post</title>\n",
       "<path fill=\"none\" stroke=\"#000000\" d=\"M312,-110.8314C312,-103.131 312,-93.9743 312,-85.4166\"/>\n",
       "<polygon fill=\"#000000\" stroke=\"#000000\" points=\"315.5001,-85.4132 312,-75.4133 308.5001,-85.4133 315.5001,-85.4132\"/>\n",
       "</g>\n",
       "</g>\n",
       "</svg>\n"
      ],
      "text/plain": [
       "<graphviz.dot.Digraph at 0x7f4b3fd880b8>"
      ]
     },
     "execution_count": 48,
     "metadata": {},
     "output_type": "execute_result"
    }
   ],
   "source": [
    "pm.model_to_graphviz(model_hier)"
   ]
  },
  {
   "cell_type": "code",
   "execution_count": 28,
   "metadata": {},
   "outputs": [
    {
     "name": "stderr",
     "output_type": "stream",
     "text": [
      "Auto-assigning NUTS sampler...\n",
      "Initializing NUTS using adapt_diag...\n"
     ]
    },
    {
     "ename": "KeyboardInterrupt",
     "evalue": "",
     "output_type": "error",
     "traceback": [
      "\u001b[0;31m---------------------------------------------------------------------------\u001b[0m",
      "\u001b[0;31mKeyboardInterrupt\u001b[0m                         Traceback (most recent call last)",
      "\u001b[0;32m<ipython-input-28-2e999f2d95d9>\u001b[0m in \u001b[0;36m<module>\u001b[0;34m\u001b[0m\n\u001b[1;32m      1\u001b[0m \u001b[0;32mwith\u001b[0m \u001b[0mmodel_hier\u001b[0m\u001b[0;34m:\u001b[0m\u001b[0;34m\u001b[0m\u001b[0;34m\u001b[0m\u001b[0m\n\u001b[0;32m----> 2\u001b[0;31m     \u001b[0mtrace_2\u001b[0m \u001b[0;34m=\u001b[0m \u001b[0mpm\u001b[0m\u001b[0;34m.\u001b[0m\u001b[0msample\u001b[0m\u001b[0;34m(\u001b[0m\u001b[0mdraws\u001b[0m\u001b[0;34m=\u001b[0m\u001b[0;36m2_000\u001b[0m\u001b[0;34m,\u001b[0m \u001b[0mtune\u001b[0m\u001b[0;34m=\u001b[0m\u001b[0;36m5_000\u001b[0m\u001b[0;34m,\u001b[0m \u001b[0mtarget_accept\u001b[0m\u001b[0;34m=\u001b[0m\u001b[0;36m0.90\u001b[0m\u001b[0;34m,\u001b[0m \u001b[0minit\u001b[0m\u001b[0;34m=\u001b[0m\u001b[0;34m'adapt_diag'\u001b[0m\u001b[0;34m)\u001b[0m\u001b[0;34m\u001b[0m\u001b[0;34m\u001b[0m\u001b[0m\n\u001b[0m",
      "\u001b[0;32m~/anaconda3/lib/python3.6/site-packages/pymc3/sampling.py\u001b[0m in \u001b[0;36msample\u001b[0;34m(draws, step, init, n_init, start, trace, chain_idx, chains, cores, tune, nuts_kwargs, step_kwargs, progressbar, model, random_seed, live_plot, discard_tuned_samples, live_plot_kwargs, compute_convergence_checks, use_mmap, **kwargs)\u001b[0m\n\u001b[1;32m    393\u001b[0m                 start_, step = init_nuts(init=init, chains=chains, n_init=n_init,\n\u001b[1;32m    394\u001b[0m                                          \u001b[0mmodel\u001b[0m\u001b[0;34m=\u001b[0m\u001b[0mmodel\u001b[0m\u001b[0;34m,\u001b[0m \u001b[0mrandom_seed\u001b[0m\u001b[0;34m=\u001b[0m\u001b[0mrandom_seed\u001b[0m\u001b[0;34m,\u001b[0m\u001b[0;34m\u001b[0m\u001b[0;34m\u001b[0m\u001b[0m\n\u001b[0;32m--> 395\u001b[0;31m                                          progressbar=progressbar, **args)\n\u001b[0m\u001b[1;32m    396\u001b[0m                 \u001b[0;32mif\u001b[0m \u001b[0mstart\u001b[0m \u001b[0;32mis\u001b[0m \u001b[0;32mNone\u001b[0m\u001b[0;34m:\u001b[0m\u001b[0;34m\u001b[0m\u001b[0;34m\u001b[0m\u001b[0m\n\u001b[1;32m    397\u001b[0m                     \u001b[0mstart\u001b[0m \u001b[0;34m=\u001b[0m \u001b[0mstart_\u001b[0m\u001b[0;34m\u001b[0m\u001b[0;34m\u001b[0m\u001b[0m\n",
      "\u001b[0;32m~/anaconda3/lib/python3.6/site-packages/pymc3/sampling.py\u001b[0m in \u001b[0;36minit_nuts\u001b[0;34m(init, chains, n_init, model, random_seed, progressbar, **kwargs)\u001b[0m\n\u001b[1;32m   1513\u001b[0m             'Unknown initializer: {}.'.format(init))\n\u001b[1;32m   1514\u001b[0m \u001b[0;34m\u001b[0m\u001b[0m\n\u001b[0;32m-> 1515\u001b[0;31m     \u001b[0mstep\u001b[0m \u001b[0;34m=\u001b[0m \u001b[0mpm\u001b[0m\u001b[0;34m.\u001b[0m\u001b[0mNUTS\u001b[0m\u001b[0;34m(\u001b[0m\u001b[0mpotential\u001b[0m\u001b[0;34m=\u001b[0m\u001b[0mpotential\u001b[0m\u001b[0;34m,\u001b[0m \u001b[0mmodel\u001b[0m\u001b[0;34m=\u001b[0m\u001b[0mmodel\u001b[0m\u001b[0;34m,\u001b[0m \u001b[0;34m**\u001b[0m\u001b[0mkwargs\u001b[0m\u001b[0;34m)\u001b[0m\u001b[0;34m\u001b[0m\u001b[0;34m\u001b[0m\u001b[0m\n\u001b[0m\u001b[1;32m   1516\u001b[0m \u001b[0;34m\u001b[0m\u001b[0m\n\u001b[1;32m   1517\u001b[0m     \u001b[0;32mreturn\u001b[0m \u001b[0mstart\u001b[0m\u001b[0;34m,\u001b[0m \u001b[0mstep\u001b[0m\u001b[0;34m\u001b[0m\u001b[0;34m\u001b[0m\u001b[0m\n",
      "\u001b[0;32m~/anaconda3/lib/python3.6/site-packages/pymc3/step_methods/hmc/nuts.py\u001b[0m in \u001b[0;36m__init__\u001b[0;34m(self, vars, max_treedepth, early_max_treedepth, **kwargs)\u001b[0m\n\u001b[1;32m    152\u001b[0m         \u001b[0;31m`\u001b[0m\u001b[0mpm\u001b[0m\u001b[0;34m.\u001b[0m\u001b[0msample\u001b[0m\u001b[0;31m`\u001b[0m \u001b[0mto\u001b[0m \u001b[0mthe\u001b[0m \u001b[0mdesired\u001b[0m \u001b[0mnumber\u001b[0m \u001b[0mof\u001b[0m \u001b[0mtuning\u001b[0m \u001b[0msteps\u001b[0m\u001b[0;34m.\u001b[0m\u001b[0;34m\u001b[0m\u001b[0;34m\u001b[0m\u001b[0m\n\u001b[1;32m    153\u001b[0m         \"\"\"\n\u001b[0;32m--> 154\u001b[0;31m         \u001b[0msuper\u001b[0m\u001b[0;34m(\u001b[0m\u001b[0mNUTS\u001b[0m\u001b[0;34m,\u001b[0m \u001b[0mself\u001b[0m\u001b[0;34m)\u001b[0m\u001b[0;34m.\u001b[0m\u001b[0m__init__\u001b[0m\u001b[0;34m(\u001b[0m\u001b[0mvars\u001b[0m\u001b[0;34m,\u001b[0m \u001b[0;34m**\u001b[0m\u001b[0mkwargs\u001b[0m\u001b[0;34m)\u001b[0m\u001b[0;34m\u001b[0m\u001b[0;34m\u001b[0m\u001b[0m\n\u001b[0m\u001b[1;32m    155\u001b[0m \u001b[0;34m\u001b[0m\u001b[0m\n\u001b[1;32m    156\u001b[0m         \u001b[0mself\u001b[0m\u001b[0;34m.\u001b[0m\u001b[0mmax_treedepth\u001b[0m \u001b[0;34m=\u001b[0m \u001b[0mmax_treedepth\u001b[0m\u001b[0;34m\u001b[0m\u001b[0;34m\u001b[0m\u001b[0m\n",
      "\u001b[0;32m~/anaconda3/lib/python3.6/site-packages/pymc3/step_methods/hmc/base_hmc.py\u001b[0m in \u001b[0;36m__init__\u001b[0;34m(self, vars, scaling, step_scale, is_cov, model, blocked, potential, integrator, dtype, Emax, target_accept, gamma, k, t0, adapt_step_size, step_rand, **theano_kwargs)\u001b[0m\n\u001b[1;32m     73\u001b[0m \u001b[0;34m\u001b[0m\u001b[0m\n\u001b[1;32m     74\u001b[0m         super(BaseHMC, self).__init__(\n\u001b[0;32m---> 75\u001b[0;31m             \u001b[0mvars\u001b[0m\u001b[0;34m,\u001b[0m \u001b[0mblocked\u001b[0m\u001b[0;34m=\u001b[0m\u001b[0mblocked\u001b[0m\u001b[0;34m,\u001b[0m \u001b[0mmodel\u001b[0m\u001b[0;34m=\u001b[0m\u001b[0mmodel\u001b[0m\u001b[0;34m,\u001b[0m \u001b[0mdtype\u001b[0m\u001b[0;34m=\u001b[0m\u001b[0mdtype\u001b[0m\u001b[0;34m,\u001b[0m \u001b[0;34m**\u001b[0m\u001b[0mtheano_kwargs\u001b[0m\u001b[0;34m\u001b[0m\u001b[0;34m\u001b[0m\u001b[0m\n\u001b[0m\u001b[1;32m     76\u001b[0m         )\n\u001b[1;32m     77\u001b[0m \u001b[0;34m\u001b[0m\u001b[0m\n",
      "\u001b[0;32m~/anaconda3/lib/python3.6/site-packages/pymc3/step_methods/arraystep.py\u001b[0m in \u001b[0;36m__init__\u001b[0;34m(self, vars, model, blocked, dtype, **theano_kwargs)\u001b[0m\n\u001b[1;32m    226\u001b[0m \u001b[0;34m\u001b[0m\u001b[0m\n\u001b[1;32m    227\u001b[0m         func = model.logp_dlogp_function(\n\u001b[0;32m--> 228\u001b[0;31m             vars, dtype=dtype, **theano_kwargs)\n\u001b[0m\u001b[1;32m    229\u001b[0m \u001b[0;34m\u001b[0m\u001b[0m\n\u001b[1;32m    230\u001b[0m         \u001b[0;31m# handle edge case discovered in #2948\u001b[0m\u001b[0;34m\u001b[0m\u001b[0;34m\u001b[0m\u001b[0;34m\u001b[0m\u001b[0m\n",
      "\u001b[0;32m~/anaconda3/lib/python3.6/site-packages/pymc3/model.py\u001b[0m in \u001b[0;36mlogp_dlogp_function\u001b[0;34m(self, grad_vars, **kwargs)\u001b[0m\n\u001b[1;32m    708\u001b[0m         \u001b[0mvarnames\u001b[0m \u001b[0;34m=\u001b[0m \u001b[0;34m[\u001b[0m\u001b[0mvar\u001b[0m\u001b[0;34m.\u001b[0m\u001b[0mname\u001b[0m \u001b[0;32mfor\u001b[0m \u001b[0mvar\u001b[0m \u001b[0;32min\u001b[0m \u001b[0mgrad_vars\u001b[0m\u001b[0;34m]\u001b[0m\u001b[0;34m\u001b[0m\u001b[0;34m\u001b[0m\u001b[0m\n\u001b[1;32m    709\u001b[0m         \u001b[0mextra_vars\u001b[0m \u001b[0;34m=\u001b[0m \u001b[0;34m[\u001b[0m\u001b[0mvar\u001b[0m \u001b[0;32mfor\u001b[0m \u001b[0mvar\u001b[0m \u001b[0;32min\u001b[0m \u001b[0mself\u001b[0m\u001b[0;34m.\u001b[0m\u001b[0mfree_RVs\u001b[0m \u001b[0;32mif\u001b[0m \u001b[0mvar\u001b[0m\u001b[0;34m.\u001b[0m\u001b[0mname\u001b[0m \u001b[0;32mnot\u001b[0m \u001b[0;32min\u001b[0m \u001b[0mvarnames\u001b[0m\u001b[0;34m]\u001b[0m\u001b[0;34m\u001b[0m\u001b[0;34m\u001b[0m\u001b[0m\n\u001b[0;32m--> 710\u001b[0;31m         \u001b[0;32mreturn\u001b[0m \u001b[0mValueGradFunction\u001b[0m\u001b[0;34m(\u001b[0m\u001b[0mself\u001b[0m\u001b[0;34m.\u001b[0m\u001b[0mlogpt\u001b[0m\u001b[0;34m,\u001b[0m \u001b[0mgrad_vars\u001b[0m\u001b[0;34m,\u001b[0m \u001b[0mextra_vars\u001b[0m\u001b[0;34m,\u001b[0m \u001b[0;34m**\u001b[0m\u001b[0mkwargs\u001b[0m\u001b[0;34m)\u001b[0m\u001b[0;34m\u001b[0m\u001b[0;34m\u001b[0m\u001b[0m\n\u001b[0m\u001b[1;32m    711\u001b[0m \u001b[0;34m\u001b[0m\u001b[0m\n\u001b[1;32m    712\u001b[0m     \u001b[0;34m@\u001b[0m\u001b[0mproperty\u001b[0m\u001b[0;34m\u001b[0m\u001b[0;34m\u001b[0m\u001b[0m\n",
      "\u001b[0;32m~/anaconda3/lib/python3.6/site-packages/pymc3/model.py\u001b[0m in \u001b[0;36m__init__\u001b[0;34m(self, cost, grad_vars, extra_vars, dtype, casting, **kwargs)\u001b[0m\n\u001b[1;32m    447\u001b[0m \u001b[0;34m\u001b[0m\u001b[0m\n\u001b[1;32m    448\u001b[0m         self._theano_function = theano.function(\n\u001b[0;32m--> 449\u001b[0;31m             inputs, [self._cost_joined, grad], givens=givens, **kwargs)\n\u001b[0m\u001b[1;32m    450\u001b[0m \u001b[0;34m\u001b[0m\u001b[0m\n\u001b[1;32m    451\u001b[0m     \u001b[0;32mdef\u001b[0m \u001b[0mset_extra_values\u001b[0m\u001b[0;34m(\u001b[0m\u001b[0mself\u001b[0m\u001b[0;34m,\u001b[0m \u001b[0mextra_vars\u001b[0m\u001b[0;34m)\u001b[0m\u001b[0;34m:\u001b[0m\u001b[0;34m\u001b[0m\u001b[0;34m\u001b[0m\u001b[0m\n",
      "\u001b[0;32m~/anaconda3/lib/python3.6/site-packages/theano/compile/function.py\u001b[0m in \u001b[0;36mfunction\u001b[0;34m(inputs, outputs, mode, updates, givens, no_default_updates, accept_inplace, name, rebuild_strict, allow_input_downcast, profile, on_unused_input)\u001b[0m\n\u001b[1;32m    315\u001b[0m                    \u001b[0mon_unused_input\u001b[0m\u001b[0;34m=\u001b[0m\u001b[0mon_unused_input\u001b[0m\u001b[0;34m,\u001b[0m\u001b[0;34m\u001b[0m\u001b[0;34m\u001b[0m\u001b[0m\n\u001b[1;32m    316\u001b[0m                    \u001b[0mprofile\u001b[0m\u001b[0;34m=\u001b[0m\u001b[0mprofile\u001b[0m\u001b[0;34m,\u001b[0m\u001b[0;34m\u001b[0m\u001b[0;34m\u001b[0m\u001b[0m\n\u001b[0;32m--> 317\u001b[0;31m                    output_keys=output_keys)\n\u001b[0m\u001b[1;32m    318\u001b[0m     \u001b[0;32mreturn\u001b[0m \u001b[0mfn\u001b[0m\u001b[0;34m\u001b[0m\u001b[0;34m\u001b[0m\u001b[0m\n",
      "\u001b[0;32m~/anaconda3/lib/python3.6/site-packages/theano/compile/pfunc.py\u001b[0m in \u001b[0;36mpfunc\u001b[0;34m(params, outputs, mode, updates, givens, no_default_updates, accept_inplace, name, rebuild_strict, allow_input_downcast, profile, on_unused_input, output_keys)\u001b[0m\n\u001b[1;32m    484\u001b[0m                          \u001b[0maccept_inplace\u001b[0m\u001b[0;34m=\u001b[0m\u001b[0maccept_inplace\u001b[0m\u001b[0;34m,\u001b[0m \u001b[0mname\u001b[0m\u001b[0;34m=\u001b[0m\u001b[0mname\u001b[0m\u001b[0;34m,\u001b[0m\u001b[0;34m\u001b[0m\u001b[0;34m\u001b[0m\u001b[0m\n\u001b[1;32m    485\u001b[0m                          \u001b[0mprofile\u001b[0m\u001b[0;34m=\u001b[0m\u001b[0mprofile\u001b[0m\u001b[0;34m,\u001b[0m \u001b[0mon_unused_input\u001b[0m\u001b[0;34m=\u001b[0m\u001b[0mon_unused_input\u001b[0m\u001b[0;34m,\u001b[0m\u001b[0;34m\u001b[0m\u001b[0;34m\u001b[0m\u001b[0m\n\u001b[0;32m--> 486\u001b[0;31m                          output_keys=output_keys)\n\u001b[0m\u001b[1;32m    487\u001b[0m \u001b[0;34m\u001b[0m\u001b[0m\n\u001b[1;32m    488\u001b[0m \u001b[0;34m\u001b[0m\u001b[0m\n",
      "\u001b[0;32m~/anaconda3/lib/python3.6/site-packages/theano/compile/function_module.py\u001b[0m in \u001b[0;36morig_function\u001b[0;34m(inputs, outputs, mode, accept_inplace, name, profile, on_unused_input, output_keys)\u001b[0m\n\u001b[1;32m   1839\u001b[0m                   name=name)\n\u001b[1;32m   1840\u001b[0m         \u001b[0;32mwith\u001b[0m \u001b[0mtheano\u001b[0m\u001b[0;34m.\u001b[0m\u001b[0mchange_flags\u001b[0m\u001b[0;34m(\u001b[0m\u001b[0mcompute_test_value\u001b[0m\u001b[0;34m=\u001b[0m\u001b[0;34m\"off\"\u001b[0m\u001b[0;34m)\u001b[0m\u001b[0;34m:\u001b[0m\u001b[0;34m\u001b[0m\u001b[0;34m\u001b[0m\u001b[0m\n\u001b[0;32m-> 1841\u001b[0;31m             \u001b[0mfn\u001b[0m \u001b[0;34m=\u001b[0m \u001b[0mm\u001b[0m\u001b[0;34m.\u001b[0m\u001b[0mcreate\u001b[0m\u001b[0;34m(\u001b[0m\u001b[0mdefaults\u001b[0m\u001b[0;34m)\u001b[0m\u001b[0;34m\u001b[0m\u001b[0;34m\u001b[0m\u001b[0m\n\u001b[0m\u001b[1;32m   1842\u001b[0m     \u001b[0;32mfinally\u001b[0m\u001b[0;34m:\u001b[0m\u001b[0;34m\u001b[0m\u001b[0;34m\u001b[0m\u001b[0m\n\u001b[1;32m   1843\u001b[0m         \u001b[0mt2\u001b[0m \u001b[0;34m=\u001b[0m \u001b[0mtime\u001b[0m\u001b[0;34m.\u001b[0m\u001b[0mtime\u001b[0m\u001b[0;34m(\u001b[0m\u001b[0;34m)\u001b[0m\u001b[0;34m\u001b[0m\u001b[0;34m\u001b[0m\u001b[0m\n",
      "\u001b[0;32m~/anaconda3/lib/python3.6/site-packages/theano/compile/function_module.py\u001b[0m in \u001b[0;36mcreate\u001b[0;34m(self, input_storage, trustme, storage_map)\u001b[0m\n\u001b[1;32m   1713\u001b[0m             \u001b[0mtheano\u001b[0m\u001b[0;34m.\u001b[0m\u001b[0mconfig\u001b[0m\u001b[0;34m.\u001b[0m\u001b[0mtraceback\u001b[0m\u001b[0;34m.\u001b[0m\u001b[0mlimit\u001b[0m \u001b[0;34m=\u001b[0m \u001b[0mtheano\u001b[0m\u001b[0;34m.\u001b[0m\u001b[0mconfig\u001b[0m\u001b[0;34m.\u001b[0m\u001b[0mtraceback\u001b[0m\u001b[0;34m.\u001b[0m\u001b[0mcompile_limit\u001b[0m\u001b[0;34m\u001b[0m\u001b[0;34m\u001b[0m\u001b[0m\n\u001b[1;32m   1714\u001b[0m             _fn, _i, _o = self.linker.make_thunk(\n\u001b[0;32m-> 1715\u001b[0;31m                 input_storage=input_storage_lists, storage_map=storage_map)\n\u001b[0m\u001b[1;32m   1716\u001b[0m         \u001b[0;32mfinally\u001b[0m\u001b[0;34m:\u001b[0m\u001b[0;34m\u001b[0m\u001b[0;34m\u001b[0m\u001b[0m\n\u001b[1;32m   1717\u001b[0m             \u001b[0mtheano\u001b[0m\u001b[0;34m.\u001b[0m\u001b[0mconfig\u001b[0m\u001b[0;34m.\u001b[0m\u001b[0mtraceback\u001b[0m\u001b[0;34m.\u001b[0m\u001b[0mlimit\u001b[0m \u001b[0;34m=\u001b[0m \u001b[0mlimit_orig\u001b[0m\u001b[0;34m\u001b[0m\u001b[0;34m\u001b[0m\u001b[0m\n",
      "\u001b[0;32m~/anaconda3/lib/python3.6/site-packages/theano/gof/link.py\u001b[0m in \u001b[0;36mmake_thunk\u001b[0;34m(self, input_storage, output_storage, storage_map)\u001b[0m\n\u001b[1;32m    697\u001b[0m         return self.make_all(input_storage=input_storage,\n\u001b[1;32m    698\u001b[0m                              \u001b[0moutput_storage\u001b[0m\u001b[0;34m=\u001b[0m\u001b[0moutput_storage\u001b[0m\u001b[0;34m,\u001b[0m\u001b[0;34m\u001b[0m\u001b[0;34m\u001b[0m\u001b[0m\n\u001b[0;32m--> 699\u001b[0;31m                              storage_map=storage_map)[:3]\n\u001b[0m\u001b[1;32m    700\u001b[0m \u001b[0;34m\u001b[0m\u001b[0m\n\u001b[1;32m    701\u001b[0m     \u001b[0;32mdef\u001b[0m \u001b[0mmake_all\u001b[0m\u001b[0;34m(\u001b[0m\u001b[0mself\u001b[0m\u001b[0;34m,\u001b[0m \u001b[0minput_storage\u001b[0m\u001b[0;34m,\u001b[0m \u001b[0moutput_storage\u001b[0m\u001b[0;34m)\u001b[0m\u001b[0;34m:\u001b[0m\u001b[0;34m\u001b[0m\u001b[0;34m\u001b[0m\u001b[0m\n",
      "\u001b[0;32m~/anaconda3/lib/python3.6/site-packages/theano/gof/vm.py\u001b[0m in \u001b[0;36mmake_all\u001b[0;34m(self, profiler, input_storage, output_storage, storage_map)\u001b[0m\n\u001b[1;32m   1089\u001b[0m                                                  \u001b[0mcompute_map\u001b[0m\u001b[0;34m,\u001b[0m\u001b[0;34m\u001b[0m\u001b[0;34m\u001b[0m\u001b[0m\n\u001b[1;32m   1090\u001b[0m                                                  \u001b[0;34m[\u001b[0m\u001b[0;34m]\u001b[0m\u001b[0;34m,\u001b[0m\u001b[0;34m\u001b[0m\u001b[0;34m\u001b[0m\u001b[0m\n\u001b[0;32m-> 1091\u001b[0;31m                                                  impl=impl))\n\u001b[0m\u001b[1;32m   1092\u001b[0m                 \u001b[0mlinker_make_thunk_time\u001b[0m\u001b[0;34m[\u001b[0m\u001b[0mnode\u001b[0m\u001b[0;34m]\u001b[0m \u001b[0;34m=\u001b[0m \u001b[0mtime\u001b[0m\u001b[0;34m.\u001b[0m\u001b[0mtime\u001b[0m\u001b[0;34m(\u001b[0m\u001b[0;34m)\u001b[0m \u001b[0;34m-\u001b[0m \u001b[0mthunk_start\u001b[0m\u001b[0;34m\u001b[0m\u001b[0;34m\u001b[0m\u001b[0m\n\u001b[1;32m   1093\u001b[0m                 \u001b[0;32mif\u001b[0m \u001b[0;32mnot\u001b[0m \u001b[0mhasattr\u001b[0m\u001b[0;34m(\u001b[0m\u001b[0mthunks\u001b[0m\u001b[0;34m[\u001b[0m\u001b[0;34m-\u001b[0m\u001b[0;36m1\u001b[0m\u001b[0;34m]\u001b[0m\u001b[0;34m,\u001b[0m \u001b[0;34m'lazy'\u001b[0m\u001b[0;34m)\u001b[0m\u001b[0;34m:\u001b[0m\u001b[0;34m\u001b[0m\u001b[0;34m\u001b[0m\u001b[0m\n",
      "\u001b[0;32m~/anaconda3/lib/python3.6/site-packages/theano/gof/op.py\u001b[0m in \u001b[0;36mmake_thunk\u001b[0;34m(self, node, storage_map, compute_map, no_recycling, impl)\u001b[0m\n\u001b[1;32m    953\u001b[0m             \u001b[0;32mtry\u001b[0m\u001b[0;34m:\u001b[0m\u001b[0;34m\u001b[0m\u001b[0;34m\u001b[0m\u001b[0m\n\u001b[1;32m    954\u001b[0m                 return self.make_c_thunk(node, storage_map, compute_map,\n\u001b[0;32m--> 955\u001b[0;31m                                          no_recycling)\n\u001b[0m\u001b[1;32m    956\u001b[0m             \u001b[0;32mexcept\u001b[0m \u001b[0;34m(\u001b[0m\u001b[0mNotImplementedError\u001b[0m\u001b[0;34m,\u001b[0m \u001b[0mutils\u001b[0m\u001b[0;34m.\u001b[0m\u001b[0mMethodNotDefined\u001b[0m\u001b[0;34m)\u001b[0m\u001b[0;34m:\u001b[0m\u001b[0;34m\u001b[0m\u001b[0;34m\u001b[0m\u001b[0m\n\u001b[1;32m    957\u001b[0m                 \u001b[0;31m# We requested the c code, so don't catch the error.\u001b[0m\u001b[0;34m\u001b[0m\u001b[0;34m\u001b[0m\u001b[0;34m\u001b[0m\u001b[0m\n",
      "\u001b[0;32m~/anaconda3/lib/python3.6/site-packages/theano/gof/op.py\u001b[0m in \u001b[0;36mmake_c_thunk\u001b[0;34m(self, node, storage_map, compute_map, no_recycling)\u001b[0m\n\u001b[1;32m    856\u001b[0m         \u001b[0m_logger\u001b[0m\u001b[0;34m.\u001b[0m\u001b[0mdebug\u001b[0m\u001b[0;34m(\u001b[0m\u001b[0;34m'Trying CLinker.make_thunk'\u001b[0m\u001b[0;34m)\u001b[0m\u001b[0;34m\u001b[0m\u001b[0;34m\u001b[0m\u001b[0m\n\u001b[1;32m    857\u001b[0m         outputs = cl.make_thunk(input_storage=node_input_storage,\n\u001b[0;32m--> 858\u001b[0;31m                                 output_storage=node_output_storage)\n\u001b[0m\u001b[1;32m    859\u001b[0m         \u001b[0mthunk\u001b[0m\u001b[0;34m,\u001b[0m \u001b[0mnode_input_filters\u001b[0m\u001b[0;34m,\u001b[0m \u001b[0mnode_output_filters\u001b[0m \u001b[0;34m=\u001b[0m \u001b[0moutputs\u001b[0m\u001b[0;34m\u001b[0m\u001b[0;34m\u001b[0m\u001b[0m\n\u001b[1;32m    860\u001b[0m \u001b[0;34m\u001b[0m\u001b[0m\n",
      "\u001b[0;32m~/anaconda3/lib/python3.6/site-packages/theano/gof/cc.py\u001b[0m in \u001b[0;36mmake_thunk\u001b[0;34m(self, input_storage, output_storage, storage_map, keep_lock)\u001b[0m\n\u001b[1;32m   1215\u001b[0m         cthunk, module, in_storage, out_storage, error_storage = self.__compile__(\n\u001b[1;32m   1216\u001b[0m             \u001b[0minput_storage\u001b[0m\u001b[0;34m,\u001b[0m \u001b[0moutput_storage\u001b[0m\u001b[0;34m,\u001b[0m \u001b[0mstorage_map\u001b[0m\u001b[0;34m,\u001b[0m\u001b[0;34m\u001b[0m\u001b[0;34m\u001b[0m\u001b[0m\n\u001b[0;32m-> 1217\u001b[0;31m             keep_lock=keep_lock)\n\u001b[0m\u001b[1;32m   1218\u001b[0m \u001b[0;34m\u001b[0m\u001b[0m\n\u001b[1;32m   1219\u001b[0m         \u001b[0mres\u001b[0m \u001b[0;34m=\u001b[0m \u001b[0m_CThunk\u001b[0m\u001b[0;34m(\u001b[0m\u001b[0mcthunk\u001b[0m\u001b[0;34m,\u001b[0m \u001b[0minit_tasks\u001b[0m\u001b[0;34m,\u001b[0m \u001b[0mtasks\u001b[0m\u001b[0;34m,\u001b[0m \u001b[0merror_storage\u001b[0m\u001b[0;34m,\u001b[0m \u001b[0mmodule\u001b[0m\u001b[0;34m)\u001b[0m\u001b[0;34m\u001b[0m\u001b[0;34m\u001b[0m\u001b[0m\n",
      "\u001b[0;32m~/anaconda3/lib/python3.6/site-packages/theano/gof/cc.py\u001b[0m in \u001b[0;36m__compile__\u001b[0;34m(self, input_storage, output_storage, storage_map, keep_lock)\u001b[0m\n\u001b[1;32m   1155\u001b[0m                                             \u001b[0moutput_storage\u001b[0m\u001b[0;34m,\u001b[0m\u001b[0;34m\u001b[0m\u001b[0;34m\u001b[0m\u001b[0m\n\u001b[1;32m   1156\u001b[0m                                             \u001b[0mstorage_map\u001b[0m\u001b[0;34m,\u001b[0m\u001b[0;34m\u001b[0m\u001b[0;34m\u001b[0m\u001b[0m\n\u001b[0;32m-> 1157\u001b[0;31m                                             keep_lock=keep_lock)\n\u001b[0m\u001b[1;32m   1158\u001b[0m         return (thunk,\n\u001b[1;32m   1159\u001b[0m                 \u001b[0mmodule\u001b[0m\u001b[0;34m,\u001b[0m\u001b[0;34m\u001b[0m\u001b[0;34m\u001b[0m\u001b[0m\n",
      "\u001b[0;32m~/anaconda3/lib/python3.6/site-packages/theano/gof/cc.py\u001b[0m in \u001b[0;36mcthunk_factory\u001b[0;34m(self, error_storage, in_storage, out_storage, storage_map, keep_lock)\u001b[0m\n\u001b[1;32m   1622\u001b[0m                 \u001b[0mnode\u001b[0m\u001b[0;34m.\u001b[0m\u001b[0mop\u001b[0m\u001b[0;34m.\u001b[0m\u001b[0mprepare_node\u001b[0m\u001b[0;34m(\u001b[0m\u001b[0mnode\u001b[0m\u001b[0;34m,\u001b[0m \u001b[0mstorage_map\u001b[0m\u001b[0;34m,\u001b[0m \u001b[0;32mNone\u001b[0m\u001b[0;34m,\u001b[0m \u001b[0;34m'c'\u001b[0m\u001b[0;34m)\u001b[0m\u001b[0;34m\u001b[0m\u001b[0;34m\u001b[0m\u001b[0m\n\u001b[1;32m   1623\u001b[0m             module = get_module_cache().module_from_key(\n\u001b[0;32m-> 1624\u001b[0;31m                 key=key, lnk=self, keep_lock=keep_lock)\n\u001b[0m\u001b[1;32m   1625\u001b[0m \u001b[0;34m\u001b[0m\u001b[0m\n\u001b[1;32m   1626\u001b[0m         \u001b[0mvars\u001b[0m \u001b[0;34m=\u001b[0m \u001b[0mself\u001b[0m\u001b[0;34m.\u001b[0m\u001b[0minputs\u001b[0m \u001b[0;34m+\u001b[0m \u001b[0mself\u001b[0m\u001b[0;34m.\u001b[0m\u001b[0moutputs\u001b[0m \u001b[0;34m+\u001b[0m \u001b[0mself\u001b[0m\u001b[0;34m.\u001b[0m\u001b[0morphans\u001b[0m\u001b[0;34m\u001b[0m\u001b[0;34m\u001b[0m\u001b[0m\n",
      "\u001b[0;32m~/anaconda3/lib/python3.6/site-packages/theano/gof/cmodule.py\u001b[0m in \u001b[0;36mmodule_from_key\u001b[0;34m(self, key, lnk, keep_lock)\u001b[0m\n\u001b[1;32m   1187\u001b[0m             \u001b[0;32mtry\u001b[0m\u001b[0;34m:\u001b[0m\u001b[0;34m\u001b[0m\u001b[0;34m\u001b[0m\u001b[0m\n\u001b[1;32m   1188\u001b[0m                 \u001b[0mlocation\u001b[0m \u001b[0;34m=\u001b[0m \u001b[0mdlimport_workdir\u001b[0m\u001b[0;34m(\u001b[0m\u001b[0mself\u001b[0m\u001b[0;34m.\u001b[0m\u001b[0mdirname\u001b[0m\u001b[0;34m)\u001b[0m\u001b[0;34m\u001b[0m\u001b[0;34m\u001b[0m\u001b[0m\n\u001b[0;32m-> 1189\u001b[0;31m                 \u001b[0mmodule\u001b[0m \u001b[0;34m=\u001b[0m \u001b[0mlnk\u001b[0m\u001b[0;34m.\u001b[0m\u001b[0mcompile_cmodule\u001b[0m\u001b[0;34m(\u001b[0m\u001b[0mlocation\u001b[0m\u001b[0;34m)\u001b[0m\u001b[0;34m\u001b[0m\u001b[0;34m\u001b[0m\u001b[0m\n\u001b[0m\u001b[1;32m   1190\u001b[0m                 \u001b[0mname\u001b[0m \u001b[0;34m=\u001b[0m \u001b[0mmodule\u001b[0m\u001b[0;34m.\u001b[0m\u001b[0m__file__\u001b[0m\u001b[0;34m\u001b[0m\u001b[0;34m\u001b[0m\u001b[0m\n\u001b[1;32m   1191\u001b[0m                 \u001b[0;32massert\u001b[0m \u001b[0mname\u001b[0m\u001b[0;34m.\u001b[0m\u001b[0mstartswith\u001b[0m\u001b[0;34m(\u001b[0m\u001b[0mlocation\u001b[0m\u001b[0;34m)\u001b[0m\u001b[0;34m\u001b[0m\u001b[0;34m\u001b[0m\u001b[0m\n",
      "\u001b[0;32m~/anaconda3/lib/python3.6/site-packages/theano/gof/cc.py\u001b[0m in \u001b[0;36mcompile_cmodule\u001b[0;34m(self, location)\u001b[0m\n\u001b[1;32m   1525\u001b[0m                 \u001b[0mlib_dirs\u001b[0m\u001b[0;34m=\u001b[0m\u001b[0mself\u001b[0m\u001b[0;34m.\u001b[0m\u001b[0mlib_dirs\u001b[0m\u001b[0;34m(\u001b[0m\u001b[0;34m)\u001b[0m\u001b[0;34m,\u001b[0m\u001b[0;34m\u001b[0m\u001b[0;34m\u001b[0m\u001b[0m\n\u001b[1;32m   1526\u001b[0m                 \u001b[0mlibs\u001b[0m\u001b[0;34m=\u001b[0m\u001b[0mlibs\u001b[0m\u001b[0;34m,\u001b[0m\u001b[0;34m\u001b[0m\u001b[0;34m\u001b[0m\u001b[0m\n\u001b[0;32m-> 1527\u001b[0;31m                 preargs=preargs)\n\u001b[0m\u001b[1;32m   1528\u001b[0m         \u001b[0;32mexcept\u001b[0m \u001b[0mException\u001b[0m \u001b[0;32mas\u001b[0m \u001b[0me\u001b[0m\u001b[0;34m:\u001b[0m\u001b[0;34m\u001b[0m\u001b[0;34m\u001b[0m\u001b[0m\n\u001b[1;32m   1529\u001b[0m             \u001b[0me\u001b[0m\u001b[0;34m.\u001b[0m\u001b[0margs\u001b[0m \u001b[0;34m+=\u001b[0m \u001b[0;34m(\u001b[0m\u001b[0mstr\u001b[0m\u001b[0;34m(\u001b[0m\u001b[0mself\u001b[0m\u001b[0;34m.\u001b[0m\u001b[0mfgraph\u001b[0m\u001b[0;34m)\u001b[0m\u001b[0;34m,\u001b[0m\u001b[0;34m)\u001b[0m\u001b[0;34m\u001b[0m\u001b[0;34m\u001b[0m\u001b[0m\n",
      "\u001b[0;32m~/anaconda3/lib/python3.6/site-packages/theano/gof/cmodule.py\u001b[0m in \u001b[0;36mcompile_str\u001b[0;34m(module_name, src_code, location, include_dirs, lib_dirs, libs, preargs, py_module, hide_symbols)\u001b[0m\n\u001b[1;32m   2349\u001b[0m \u001b[0;34m\u001b[0m\u001b[0m\n\u001b[1;32m   2350\u001b[0m         \u001b[0;32mtry\u001b[0m\u001b[0;34m:\u001b[0m\u001b[0;34m\u001b[0m\u001b[0;34m\u001b[0m\u001b[0m\n\u001b[0;32m-> 2351\u001b[0;31m             \u001b[0mp_out\u001b[0m \u001b[0;34m=\u001b[0m \u001b[0moutput_subprocess_Popen\u001b[0m\u001b[0;34m(\u001b[0m\u001b[0mcmd\u001b[0m\u001b[0;34m)\u001b[0m\u001b[0;34m\u001b[0m\u001b[0;34m\u001b[0m\u001b[0m\n\u001b[0m\u001b[1;32m   2352\u001b[0m             \u001b[0mcompile_stderr\u001b[0m \u001b[0;34m=\u001b[0m \u001b[0mdecode\u001b[0m\u001b[0;34m(\u001b[0m\u001b[0mp_out\u001b[0m\u001b[0;34m[\u001b[0m\u001b[0;36m1\u001b[0m\u001b[0;34m]\u001b[0m\u001b[0;34m)\u001b[0m\u001b[0;34m\u001b[0m\u001b[0;34m\u001b[0m\u001b[0m\n\u001b[1;32m   2353\u001b[0m         \u001b[0;32mexcept\u001b[0m \u001b[0mException\u001b[0m\u001b[0;34m:\u001b[0m\u001b[0;34m\u001b[0m\u001b[0;34m\u001b[0m\u001b[0m\n",
      "\u001b[0;32m~/anaconda3/lib/python3.6/site-packages/theano/misc/windows.py\u001b[0m in \u001b[0;36moutput_subprocess_Popen\u001b[0;34m(command, **params)\u001b[0m\n\u001b[1;32m     78\u001b[0m     \u001b[0;31m# we need to use communicate to make sure we don't deadlock around\u001b[0m\u001b[0;34m\u001b[0m\u001b[0;34m\u001b[0m\u001b[0;34m\u001b[0m\u001b[0m\n\u001b[1;32m     79\u001b[0m     \u001b[0;31m# the stdout/stderr pipe.\u001b[0m\u001b[0;34m\u001b[0m\u001b[0;34m\u001b[0m\u001b[0;34m\u001b[0m\u001b[0m\n\u001b[0;32m---> 80\u001b[0;31m     \u001b[0mout\u001b[0m \u001b[0;34m=\u001b[0m \u001b[0mp\u001b[0m\u001b[0;34m.\u001b[0m\u001b[0mcommunicate\u001b[0m\u001b[0;34m(\u001b[0m\u001b[0;34m)\u001b[0m\u001b[0;34m\u001b[0m\u001b[0;34m\u001b[0m\u001b[0m\n\u001b[0m\u001b[1;32m     81\u001b[0m     \u001b[0;32mreturn\u001b[0m \u001b[0mout\u001b[0m \u001b[0;34m+\u001b[0m \u001b[0;34m(\u001b[0m\u001b[0mp\u001b[0m\u001b[0;34m.\u001b[0m\u001b[0mreturncode\u001b[0m\u001b[0;34m,\u001b[0m\u001b[0;34m)\u001b[0m\u001b[0;34m\u001b[0m\u001b[0;34m\u001b[0m\u001b[0m\n",
      "\u001b[0;32m~/anaconda3/lib/python3.6/subprocess.py\u001b[0m in \u001b[0;36mcommunicate\u001b[0;34m(self, input, timeout)\u001b[0m\n\u001b[1;32m    861\u001b[0m \u001b[0;34m\u001b[0m\u001b[0m\n\u001b[1;32m    862\u001b[0m             \u001b[0;32mtry\u001b[0m\u001b[0;34m:\u001b[0m\u001b[0;34m\u001b[0m\u001b[0;34m\u001b[0m\u001b[0m\n\u001b[0;32m--> 863\u001b[0;31m                 \u001b[0mstdout\u001b[0m\u001b[0;34m,\u001b[0m \u001b[0mstderr\u001b[0m \u001b[0;34m=\u001b[0m \u001b[0mself\u001b[0m\u001b[0;34m.\u001b[0m\u001b[0m_communicate\u001b[0m\u001b[0;34m(\u001b[0m\u001b[0minput\u001b[0m\u001b[0;34m,\u001b[0m \u001b[0mendtime\u001b[0m\u001b[0;34m,\u001b[0m \u001b[0mtimeout\u001b[0m\u001b[0;34m)\u001b[0m\u001b[0;34m\u001b[0m\u001b[0;34m\u001b[0m\u001b[0m\n\u001b[0m\u001b[1;32m    864\u001b[0m             \u001b[0;32mfinally\u001b[0m\u001b[0;34m:\u001b[0m\u001b[0;34m\u001b[0m\u001b[0;34m\u001b[0m\u001b[0m\n\u001b[1;32m    865\u001b[0m                 \u001b[0mself\u001b[0m\u001b[0;34m.\u001b[0m\u001b[0m_communication_started\u001b[0m \u001b[0;34m=\u001b[0m \u001b[0;32mTrue\u001b[0m\u001b[0;34m\u001b[0m\u001b[0;34m\u001b[0m\u001b[0m\n",
      "\u001b[0;32m~/anaconda3/lib/python3.6/subprocess.py\u001b[0m in \u001b[0;36m_communicate\u001b[0;34m(self, input, endtime, orig_timeout)\u001b[0m\n\u001b[1;32m   1532\u001b[0m                         \u001b[0;32mraise\u001b[0m \u001b[0mTimeoutExpired\u001b[0m\u001b[0;34m(\u001b[0m\u001b[0mself\u001b[0m\u001b[0;34m.\u001b[0m\u001b[0margs\u001b[0m\u001b[0;34m,\u001b[0m \u001b[0morig_timeout\u001b[0m\u001b[0;34m)\u001b[0m\u001b[0;34m\u001b[0m\u001b[0;34m\u001b[0m\u001b[0m\n\u001b[1;32m   1533\u001b[0m \u001b[0;34m\u001b[0m\u001b[0m\n\u001b[0;32m-> 1534\u001b[0;31m                     \u001b[0mready\u001b[0m \u001b[0;34m=\u001b[0m \u001b[0mselector\u001b[0m\u001b[0;34m.\u001b[0m\u001b[0mselect\u001b[0m\u001b[0;34m(\u001b[0m\u001b[0mtimeout\u001b[0m\u001b[0;34m)\u001b[0m\u001b[0;34m\u001b[0m\u001b[0;34m\u001b[0m\u001b[0m\n\u001b[0m\u001b[1;32m   1535\u001b[0m                     \u001b[0mself\u001b[0m\u001b[0;34m.\u001b[0m\u001b[0m_check_timeout\u001b[0m\u001b[0;34m(\u001b[0m\u001b[0mendtime\u001b[0m\u001b[0;34m,\u001b[0m \u001b[0morig_timeout\u001b[0m\u001b[0;34m)\u001b[0m\u001b[0;34m\u001b[0m\u001b[0;34m\u001b[0m\u001b[0m\n\u001b[1;32m   1536\u001b[0m \u001b[0;34m\u001b[0m\u001b[0m\n",
      "\u001b[0;32m~/anaconda3/lib/python3.6/selectors.py\u001b[0m in \u001b[0;36mselect\u001b[0;34m(self, timeout)\u001b[0m\n\u001b[1;32m    374\u001b[0m             \u001b[0mready\u001b[0m \u001b[0;34m=\u001b[0m \u001b[0;34m[\u001b[0m\u001b[0;34m]\u001b[0m\u001b[0;34m\u001b[0m\u001b[0;34m\u001b[0m\u001b[0m\n\u001b[1;32m    375\u001b[0m             \u001b[0;32mtry\u001b[0m\u001b[0;34m:\u001b[0m\u001b[0;34m\u001b[0m\u001b[0;34m\u001b[0m\u001b[0m\n\u001b[0;32m--> 376\u001b[0;31m                 \u001b[0mfd_event_list\u001b[0m \u001b[0;34m=\u001b[0m \u001b[0mself\u001b[0m\u001b[0;34m.\u001b[0m\u001b[0m_poll\u001b[0m\u001b[0;34m.\u001b[0m\u001b[0mpoll\u001b[0m\u001b[0;34m(\u001b[0m\u001b[0mtimeout\u001b[0m\u001b[0;34m)\u001b[0m\u001b[0;34m\u001b[0m\u001b[0;34m\u001b[0m\u001b[0m\n\u001b[0m\u001b[1;32m    377\u001b[0m             \u001b[0;32mexcept\u001b[0m \u001b[0mInterruptedError\u001b[0m\u001b[0;34m:\u001b[0m\u001b[0;34m\u001b[0m\u001b[0;34m\u001b[0m\u001b[0m\n\u001b[1;32m    378\u001b[0m                 \u001b[0;32mreturn\u001b[0m \u001b[0mready\u001b[0m\u001b[0;34m\u001b[0m\u001b[0;34m\u001b[0m\u001b[0m\n",
      "\u001b[0;31mKeyboardInterrupt\u001b[0m: "
     ]
    }
   ],
   "source": [
    "with model_hier:\n",
    "    trace_2 = pm.sample(draws=2_000, tune=5_000, target_accept=0.90, init='adapt_diag')"
   ]
  },
  {
   "cell_type": "code",
   "execution_count": null,
   "metadata": {},
   "outputs": [],
   "source": [
    "pm.traceplot(trace_2, varnames=['beta']);"
   ]
  },
  {
   "cell_type": "code",
   "execution_count": null,
   "metadata": {
    "scrolled": false
   },
   "outputs": [],
   "source": [
    "pm.summary(trace_2, varnames=['alphas', 'mu'])"
   ]
  },
  {
   "cell_type": "code",
   "execution_count": null,
   "metadata": {},
   "outputs": [],
   "source": [
    "matrix_s = trace_2['Sigma'].mean(axis=0)"
   ]
  },
  {
   "cell_type": "code",
   "execution_count": null,
   "metadata": {},
   "outputs": [],
   "source": [
    "matrix_s"
   ]
  },
  {
   "cell_type": "code",
   "execution_count": null,
   "metadata": {},
   "outputs": [],
   "source": [
    "tau1, tau2 = np.sqrt(matrix_s[0, 0]), np.sqrt(matrix_s[1, 1])\n",
    "print(tau1, tau2)"
   ]
  },
  {
   "cell_type": "code",
   "execution_count": null,
   "metadata": {},
   "outputs": [],
   "source": [
    "rho = matrix_s[1, 0] / (tau1 * tau2)"
   ]
  },
  {
   "cell_type": "code",
   "execution_count": null,
   "metadata": {},
   "outputs": [],
   "source": [
    "rho"
   ]
  },
  {
   "cell_type": "code",
   "execution_count": null,
   "metadata": {},
   "outputs": [],
   "source": [
    "with model_hier:\n",
    "    ppc_hier = pm.sample_posterior_predictive(trace_2, samples=1000, vars=[alphas])"
   ]
  },
  {
   "cell_type": "code",
   "execution_count": null,
   "metadata": {},
   "outputs": [],
   "source": [
    "ppc_hier['alphas'].shape"
   ]
  },
  {
   "cell_type": "code",
   "execution_count": null,
   "metadata": {},
   "outputs": [],
   "source": [
    "valores[:, 0] / (valores[:, 0] + valores[:, 1])"
   ]
  },
  {
   "cell_type": "code",
   "execution_count": null,
   "metadata": {},
   "outputs": [],
   "source": [
    "ppc_hier['alphas'][250, :, :]"
   ]
  },
  {
   "cell_type": "code",
   "execution_count": null,
   "metadata": {},
   "outputs": [],
   "source": [
    "th1 = []\n",
    "\n",
    "for i in range(16):\n",
    "    result1 =  2 * ppc_hier['alphas'][:, i, 0] * ppc_hier['alphas'][:, i, 1] - ppc_hier['alphas'][:, i, 1] \n",
    "#     result1 = - 2 * ppc_hier['alphas'][:, i, 0] * ppc_hier['alphas'][:, i, 1] + ppc_hier['alphas'][:, i, 1] \n",
    "    th1.append(list(result1))"
   ]
  },
  {
   "cell_type": "code",
   "execution_count": null,
   "metadata": {},
   "outputs": [],
   "source": [
    "# print(th1"
   ]
  },
  {
   "cell_type": "code",
   "execution_count": null,
   "metadata": {},
   "outputs": [],
   "source": [
    "th1 = np.asarray(th1)\n",
    "th1.shape"
   ]
  },
  {
   "cell_type": "code",
   "execution_count": null,
   "metadata": {},
   "outputs": [],
   "source": [
    "res2 = np.sum(th1.T * proportion / np.sum(proportion), axis=1)\n",
    "res2[:15]"
   ]
  },
  {
   "cell_type": "code",
   "execution_count": null,
   "metadata": {},
   "outputs": [],
   "source": [
    "plt.figure(figsize=(10, 6))\n",
    "_, _, _ = plt.hist(res2 , bins=20, edgecolor='w', density=True)"
   ]
  },
  {
   "cell_type": "code",
   "execution_count": null,
   "metadata": {},
   "outputs": [],
   "source": []
  },
  {
   "cell_type": "code",
   "execution_count": 49,
   "metadata": {},
   "outputs": [],
   "source": [
    "%load_ext watermark"
   ]
  },
  {
   "cell_type": "code",
   "execution_count": 50,
   "metadata": {},
   "outputs": [
    {
     "name": "stdout",
     "output_type": "stream",
     "text": [
      "numpy       1.16.4\n",
      "pymc3       3.6\n",
      "pandas      0.24.2\n",
      "arviz       0.4.1\n",
      "seaborn     0.9.0\n",
      "CPython 3.6.8\n",
      "IPython 7.6.1\n",
      "\n",
      "theano 1.0.4\n",
      "scipy 1.3.0\n",
      "matplotlib 3.1.0\n",
      "\n",
      "compiler   : GCC 7.3.0\n",
      "system     : Linux\n",
      "release    : 4.15.0-55-generic\n",
      "machine    : x86_64\n",
      "processor  : x86_64\n",
      "CPU cores  : 8\n",
      "interpreter: 64bit\n"
     ]
    }
   ],
   "source": [
    "%watermark -iv -v -p theano,scipy,matplotlib -m"
   ]
  },
  {
   "cell_type": "markdown",
   "metadata": {},
   "source": [
    "# Intento con pystan"
   ]
  },
  {
   "cell_type": "code",
   "execution_count": 51,
   "metadata": {},
   "outputs": [],
   "source": [
    "import pystan"
   ]
  },
  {
   "cell_type": "code",
   "execution_count": 52,
   "metadata": {},
   "outputs": [],
   "source": [
    "modelo=\"\"\"\n",
    "data {\n",
    "  int<lower=0> N;\n",
    "  int<lower=0> n;\n",
    "  int y_obs[N, n];\n",
    "  vector[n] alpha;\n",
    "}\n",
    "\n",
    "parameters {\n",
    "  \n",
    "  simplex[n] theta[N];\n",
    "}\n",
    "\n",
    "model {\n",
    "  \n",
    "  for (i in 1:N)\n",
    "    theta[i] ~ dirichlet(alpha);\n",
    "  \n",
    "  for (i in 1:N)\n",
    "    y_obs[i] ~ multinomial(theta[i]);\n",
    "}\n",
    "\n",
    "\"\"\""
   ]
  },
  {
   "cell_type": "code",
   "execution_count": 53,
   "metadata": {},
   "outputs": [
    {
     "name": "stderr",
     "output_type": "stream",
     "text": [
      "INFO:pystan:COMPILING THE C++ CODE FOR MODEL anon_model_2a28c5090c429737936718a5aee45413 NOW.\n"
     ]
    }
   ],
   "source": [
    "stan_modelo = pystan.StanModel(model_code=modelo)"
   ]
  },
  {
   "cell_type": "code",
   "execution_count": 54,
   "metadata": {},
   "outputs": [],
   "source": [
    "data = {'N': 16,\n",
    "       'n': 3,\n",
    "       'alpha': [1,1,1],\n",
    "       'y_obs': valores.astype(int)}"
   ]
  },
  {
   "cell_type": "code",
   "execution_count": 55,
   "metadata": {},
   "outputs": [],
   "source": [
    "fit = stan_modelo.sampling(data=data)"
   ]
  },
  {
   "cell_type": "code",
   "execution_count": 56,
   "metadata": {
    "scrolled": true
   },
   "outputs": [
    {
     "name": "stdout",
     "output_type": "stream",
     "text": [
      "Inference for Stan model: anon_model_2a28c5090c429737936718a5aee45413.\n",
      "4 chains, each with iter=2000; warmup=1000; thin=1; \n",
      "post-warmup draws per chain=1000, total post-warmup draws=4000.\n",
      "\n",
      "              mean se_mean     sd   2.5%    25%    50%    75%  97.5%  n_eff   Rhat\n",
      "theta[1,1]  0.3007  0.0006 0.0643 0.1805 0.2566 0.2987 0.3413 0.4357   8933 0.9995\n",
      "theta[2,1]  0.4902  0.0008 0.0726 0.3454 0.4426 0.4907 0.5382 0.6296   7457 0.9997\n",
      "theta[3,1]  0.4648  0.0003 0.0379 0.3918 0.4387 0.4640 0.4902 0.5415   9417 0.9995\n",
      "theta[4,1]  0.4587  0.0006 0.0566 0.3484 0.4198 0.4589 0.4974 0.5708   7798 0.9993\n",
      "theta[5,1]  0.4011  0.0007 0.0690 0.2691 0.3541 0.3999 0.4479 0.5394   9671 0.9993\n",
      "theta[6,1]  0.4424  0.0005 0.0510 0.3418 0.4083 0.4422 0.4758 0.5441   8823 0.9992\n",
      "theta[7,1]  0.5041  0.0005 0.0467 0.4125 0.4723 0.5041 0.5361 0.5958   8730 0.9993\n",
      "theta[8,1]  0.5474  0.0004 0.0412 0.4684 0.5191 0.5470 0.5772 0.6272   7904 0.9992\n",
      "theta[9,1]  0.5420  0.0011 0.0984 0.3488  0.474 0.5443 0.6117 0.7277   7048 0.9994\n",
      "theta[10,1] 0.4640  0.0005 0.0495 0.3675 0.4304 0.4641 0.4974 0.5617   8140 0.9994\n",
      "theta[11,1] 0.5103  0.0006 0.0491 0.4110 0.4786 0.5098 0.5430 0.6038   6471 1.0000\n",
      "theta[12,1] 0.5513  0.0004 0.0357 0.4815 0.5270 0.5506 0.5749 0.6215   7018 0.9993\n",
      "theta[13,1] 0.4868  0.0008 0.0796 0.3304 0.4328 0.4865 0.5421 0.6381   8040 0.9992\n",
      "theta[14,1] 0.5245  0.0006 0.0550 0.4146 0.4872 0.5255 0.5615 0.6307   7609 0.9998\n",
      "theta[15,1] 0.5362  0.0004 0.0438 0.4496 0.5067 0.5373 0.5662 0.6197   9523 0.9996\n",
      "theta[16,1] 0.5467  0.0005 0.0553 0.4364 0.5082 0.5471 0.5851 0.6519   8899 0.9997\n",
      "theta[1,2]  0.5990  0.0008 0.0698 0.4569 0.5527 0.6008 0.6479 0.7298   7472 0.9993\n",
      "theta[2,2]  0.4687  0.0008 0.0729 0.3284 0.4189 0.4679 0.5171 0.6174   7076 0.9997\n",
      "theta[3,2]  0.4118  0.0004 0.0377 0.3386 0.3867 0.4115 0.4376 0.4858   8076 0.9997\n",
      "theta[4,2]  0.5137  0.0006 0.0574 0.4014 0.4739 0.5140 0.5538 0.6282   7946 0.9994\n",
      "theta[5,2]  0.4793  0.0007 0.0693 0.3462 0.4325 0.4794 0.5265 0.6144   8717 0.9993\n",
      "theta[6,2]  0.4439  0.0005 0.0504 0.3453 0.4107 0.4431 0.4768 0.5447   8078 0.9993\n",
      "theta[7,2]  0.3863  0.0004 0.0447 0.2973 0.3561 0.3854 0.4156 0.4760   8224 0.9993\n",
      "theta[8,2]  0.3377  0.0004 0.0393 0.2636 0.3094 0.3373 0.3652 0.4153   7598 0.9993\n",
      "theta[9,2]  0.2921  0.0010 0.0896 0.1357 0.2273 0.2865 0.3510 0.4831   7374 0.9993\n",
      "theta[10,2] 0.4042  0.0005 0.0490 0.3086 0.3713 0.4038 0.4377 0.4997   7401 0.9997\n",
      "theta[11,2] 0.4014  0.0006 0.0489 0.3059 0.3680 0.4007 0.4339 0.5005   6078 0.9996\n",
      "theta[12,2] 0.3511  0.0004 0.0350 0.2808 0.3278 0.3510 0.3736 0.4225   7039 0.9996\n",
      "theta[13,2] 0.4595  0.0009 0.0794 0.3089 0.4043 0.4587 0.5137 0.6184   7402 0.9993\n",
      "theta[14,2] 0.3507  0.0006 0.0542 0.2478 0.3126 0.3489 0.3875 0.4623   8022 0.9994\n",
      "theta[15,2] 0.3691  0.0004 0.0427 0.2854 0.3405 0.3685 0.3975 0.4549   7822 0.9995\n",
      "theta[16,2] 0.3600  0.0005 0.0532 0.2594 0.3234 0.3589 0.3969 0.4663   8431 0.9996\n",
      "theta[1,3]  0.1002  0.0004 0.0423 0.0333 0.0692 0.0952 0.1255 0.1975   7723 0.9993\n",
      "theta[2,3]  0.0410  0.0003 0.0285 0.0051 0.0201 0.0347 0.0552 0.1128   6573 0.9999\n",
      "theta[3,3]  0.1233  0.0002 0.0246 0.0793 0.1056 0.1223 0.1395 0.1750   8132 0.9999\n",
      "theta[4,3]  0.0275  0.0002 0.0188 0.0032 0.0135 0.0236 0.0370 0.0749   6783 0.9997\n",
      "theta[5,3]  0.1195  0.0005 0.0449 0.0459 0.0864 0.1152 0.1466 0.2226   8130 0.9995\n",
      "theta[6,3]  0.1135  0.0003 0.0321 0.0577 0.0904 0.1112 0.1334 0.1824   7675 0.9992\n",
      "theta[7,3]  0.1095  0.0003 0.0292 0.0603 0.0880 0.1073 0.1281 0.1701   7200 0.9994\n",
      "theta[8,3]  0.1147  0.0003 0.0256 0.0689 0.0966 0.1132 0.1315 0.1691   7493 0.9994\n",
      "theta[9,3]  0.1658  0.0009 0.0735 0.0503 0.1113 0.1582 0.2113 0.3322   6146 0.9995\n",
      "theta[10,3] 0.1317  0.0004 0.0340 0.0724 0.1076 0.1297 0.1528 0.2042   7260 0.9997\n",
      "theta[11,3] 0.0881  0.0003 0.0282 0.0409 0.0676 0.0855 0.1058 0.1517   7555 0.9993\n",
      "theta[12,3] 0.0975  0.0002 0.0226 0.0583 0.0815 0.0959 0.1120 0.1456   6503 0.9997\n",
      "theta[13,3] 0.0535  0.0004 0.0371 0.0060 0.0262 0.0458 0.0723 0.1464   6138 0.9994\n",
      "theta[14,3] 0.1247  0.0004 0.0364 0.0619 0.0987 0.1217  0.148 0.2014   6789 0.9994\n",
      "theta[15,3] 0.0946  0.0003 0.0266 0.0490 0.0754 0.0919 0.1113 0.1525   7251 0.9991\n",
      "theta[16,3] 0.0932  0.0003 0.0315 0.0409 0.0706 0.0900 0.1123 0.1651   7889 0.9993\n",
      "lp__       -1.4149e3  0.1127 4.2446-1.4241e3-1.4175e3-1.4145e3-1.4118e3-1.4076e3   1418 1.0038\n",
      "\n",
      "Samples were drawn using NUTS at Tue Jul 30 17:33:35 2019.\n",
      "For each parameter, n_eff is a crude measure of effective sample size,\n",
      "and Rhat is the potential scale reduction factor on split chains (at \n",
      "convergence, Rhat=1).\n"
     ]
    }
   ],
   "source": [
    "print(fit.stansummary(digits_summary=5))"
   ]
  },
  {
   "cell_type": "code",
   "execution_count": 57,
   "metadata": {},
   "outputs": [],
   "source": [
    "samples = fit.extract(permuted=True)['theta']"
   ]
  },
  {
   "cell_type": "code",
   "execution_count": 58,
   "metadata": {},
   "outputs": [
    {
     "data": {
      "text/plain": [
       "0.10019681127543548"
      ]
     },
     "execution_count": 58,
     "metadata": {},
     "output_type": "execute_result"
    }
   ],
   "source": [
    "np.mean(samples[:, 0, 2])"
   ]
  },
  {
   "cell_type": "code",
   "execution_count": 59,
   "metadata": {},
   "outputs": [],
   "source": [
    "diff3 = []\n",
    "\n",
    "for i in range(16):\n",
    "    result3 = samples[:, i, 0] - samples[:, i, 1]\n",
    "    diff3.append(list(result3))"
   ]
  },
  {
   "cell_type": "code",
   "execution_count": 60,
   "metadata": {},
   "outputs": [
    {
     "data": {
      "text/plain": [
       "array([[-0.23383337, -0.37255542, -0.49125213, ..., -0.212366  ,\n",
       "        -0.14557615, -0.33563944],\n",
       "       [-0.17927392,  0.08572703, -0.10061323, ...,  0.1241279 ,\n",
       "        -0.20666601,  0.17206214],\n",
       "       [ 0.14737479,  0.02937957,  0.17731195, ...,  0.16176922,\n",
       "         0.12154819,  0.06636315],\n",
       "       ...,\n",
       "       [ 0.27727583,  0.20092786,  0.15775507, ...,  0.13165871,\n",
       "         0.06343824, -0.05371965],\n",
       "       [ 0.03499515,  0.14597643,  0.33526159, ...,  0.07464869,\n",
       "         0.16823083,  0.21117046],\n",
       "       [ 0.26470757,  0.37250208,  0.15273906, ...,  0.21898664,\n",
       "         0.14903927,  0.1957518 ]])"
      ]
     },
     "execution_count": 60,
     "metadata": {},
     "output_type": "execute_result"
    }
   ],
   "source": [
    "diff3 = np.asarray(diff3)\n",
    "diff3"
   ]
  },
  {
   "cell_type": "code",
   "execution_count": 61,
   "metadata": {},
   "outputs": [],
   "source": [
    "res2 = np.sum(diff3.T * proportion / np.sum(proportion), axis=1)"
   ]
  },
  {
   "cell_type": "code",
   "execution_count": 155,
   "metadata": {},
   "outputs": [
    {
     "data": {
      "image/png": "[encoded data removed]",
      "text/plain": [
       "<Figure size 720x432 with 1 Axes>"
      ]
     },
     "metadata": {},
     "output_type": "display_data"
    }
   ],
   "source": [
    "plt.figure(figsize=(10, 6))\n",
    "_, _, _ = plt.hist(res2, bins=20, edgecolor='w', density=True)"
   ]
  },
  {
   "cell_type": "markdown",
   "metadata": {},
   "source": [
    "## Ahora pystan con el modelo jerárquico"
   ]
  },
  {
   "cell_type": "code",
   "execution_count": 204,
   "metadata": {},
   "outputs": [],
   "source": [
    "modelo2=\"\"\"\n",
    "data {\n",
    "  int<lower=0> N;\n",
    "  int<lower=0> n;\n",
    "  int post[N, n];\n",
    "}\n",
    "\n",
    "parameters {\n",
    "  vector[n] mu;\n",
    "  cholesky_factor_corr[n] L;\n",
    "  simplex[n] alphas[N];\n",
    "  vector[n] beta[N];\n",
    "  \n",
    "}\n",
    "\n",
    "transformed parameters{\n",
    "  \n",
    "  vector[n] theta[N];\n",
    "  \n",
    "  for (i in 1:N)\n",
    "    theta[i] = inv_logit(beta[i]);\n",
    "    \n",
    "   \n",
    "}\n",
    "\n",
    "model {\n",
    "\n",
    "  L ~ lkj_corr_cholesky(3.0);\n",
    " \n",
    "  mu ~ cauchy(0, 5);\n",
    "  \n",
    "  beta ~ multi_normal_cholesky(mu, L);\n",
    "  \n",
    "  \n",
    "  for (i in 1:N)\n",
    "    alphas[i] ~ dirichlet(theta[i]);\n",
    "    \n",
    "  for (i in 1:N)\n",
    "    post[i] ~ multinomial(alphas[i]);\n",
    "  \n",
    "}\n",
    "\n",
    "generated quantities {\n",
    "\n",
    "  corr_matrix[n] Sigma;\n",
    "  Sigma = multiply_lower_tri_self_transpose(L);\n",
    "  \n",
    "}\n",
    "\n",
    "\n",
    "\"\"\""
   ]
  },
  {
   "cell_type": "code",
   "execution_count": 205,
   "metadata": {},
   "outputs": [
    {
     "name": "stderr",
     "output_type": "stream",
     "text": [
      "INFO:pystan:COMPILING THE C++ CODE FOR MODEL anon_model_958bb8552d6652a8814e6044bd42f4a8 NOW.\n"
     ]
    }
   ],
   "source": [
    "stan_modelo2 = pystan.StanModel(model_code=modelo2)"
   ]
  },
  {
   "cell_type": "code",
   "execution_count": 206,
   "metadata": {},
   "outputs": [],
   "source": [
    "data2 = {'N': 16,\n",
    "         'n': 2,\n",
    "         'post': new_values.astype(int)}"
   ]
  },
  {
   "cell_type": "code",
   "execution_count": 207,
   "metadata": {},
   "outputs": [
    {
     "name": "stderr",
     "output_type": "stream",
     "text": [
      "WARNING:pystan:n_eff / iter below 0.001 indicates that the effective sample size has likely been overestimated\n",
      "WARNING:pystan:Rhat above 1.1 or below 0.9 indicates that the chains very likely have not mixed\n",
      "WARNING:pystan:Skipping check of divergent transitions (divergence)\n",
      "WARNING:pystan:Skipping check of transitions ending prematurely due to maximum tree depth limit (treedepth)\n"
     ]
    }
   ],
   "source": [
    "fit2 = stan_modelo2.sampling(data=data2, algorithm='HMC', iter=4000, verbose=True)"
   ]
  },
  {
   "cell_type": "code",
   "execution_count": 210,
   "metadata": {
    "scrolled": true
   },
   "outputs": [
    {
     "name": "stdout",
     "output_type": "stream",
     "text": [
      "Inference for Stan model: anon_model_958bb8552d6652a8814e6044bd42f4a8.\n",
      "4 chains, each with iter=4000; warmup=2000; thin=1; \n",
      "post-warmup draws per chain=2000, total post-warmup draws=8000.\n",
      "\n",
      "               mean se_mean     sd   2.5%    25%    50%    75%  97.5%  n_eff   Rhat\n",
      "mu[1]       2.2705e1  8.01884.6381e1 1.1962 3.6407 7.20241.7178e11.7396e2     33 1.1352\n",
      "mu[2]       2.0993e1  4.87353.433e1 2.2160 4.9229 8.72791.931e11.4692e2     50 1.0651\n",
      "L[1,1]          1.0     nan    0.0    1.0    1.0    1.0    1.0    1.0    nan    nan\n",
      "L[2,1]       -0.000  0.0056 0.3769 -0.709 -0.275 0.0006 0.2848 0.7012   4423 0.9999\n",
      "L[1,2]          0.0     nan    0.0    0.0    0.0    0.0    0.0    0.0    nan    nan\n",
      "L[2,2]       0.9210  0.0023 0.0976 0.6453 0.8878 0.9600 0.9904 0.9999   1741 1.0020\n",
      "alphas[1,1]  0.2707  0.0002 0.0572 0.1649 0.2311 0.2686 0.3065 0.3915  39793 0.9996\n",
      "alphas[2,1]   0.352  0.0006 0.0556 0.2468 0.3122 0.3519 0.3904 0.4620   8197 0.9998\n",
      "alphas[3,1]  0.3770  0.0001 0.0308 0.3166 0.3565 0.3769 0.3975 0.4385  34281 0.9995\n",
      "alphas[4,1]  0.3306  0.0005 0.0456 0.2474 0.2974 0.3295 0.3627 0.4174   7888 1.0011\n",
      "alphas[5,1]  0.3426  0.0010 0.0577 0.2351 0.3024 0.3405 0.3821 0.4602   2831 1.0003\n",
      "alphas[6,1]  0.3604  0.0002 0.0361 0.2878 0.3384 0.3600 0.3816 0.4350  19799 0.9995\n",
      "alphas[7,1]  0.3890  0.0003 0.0362 0.3204 0.3638 0.3891 0.4134 0.4601  13714 0.9997\n",
      "alphas[8,1]  0.4110  0.0005 0.0340 0.3451 0.3896 0.4106 0.4324   0.48   4225 1.0001\n",
      "alphas[9,1]  0.4282  0.0004 0.0822 0.2730 0.3697 0.4263 0.4849 0.5934  33091 0.9995\n",
      "alphas[10,1] 0.3791  0.0009 0.0393 0.3048 0.3516 0.3782 0.4053 0.4580   1595 1.0016\n",
      "alphas[11,1] 0.3804  0.0003 0.0379 0.3069 0.3543 0.3802 0.4063 0.4566   9941 0.9996\n",
      "alphas[12,1] 0.4053  0.0002 0.0291 0.3484 0.3852 0.4051  0.425 0.4637  22000 0.9997\n",
      "alphas[13,1] 0.3529  0.0004 0.0701 0.2175 0.3060 0.3507 0.3983 0.4993  28748 0.9996\n",
      "alphas[14,1] 0.4052  0.0002 0.0456 0.3173 0.3727 0.4055 0.4370 0.4955  33739 0.9995\n",
      "alphas[15,1] 0.3970  0.0001 0.0325 0.3342 0.3747 0.3964 0.4189 0.4611  49240 0.9996\n",
      "alphas[16,1] 0.3979  0.0004 0.0453 0.3108 0.3667 0.3974 0.4286 0.4883  11043 0.9997\n",
      "alphas[1,2]  0.7292  0.0002 0.0572 0.6084 0.6934 0.7313 0.7688 0.8350  39793 0.9996\n",
      "alphas[2,2]   0.648  0.0006 0.0556 0.5379 0.6095 0.6480 0.6877 0.7531   8197 0.9998\n",
      "alphas[3,2]  0.6229  0.0001 0.0308 0.5614 0.6024 0.6230 0.6434 0.6833  34281 0.9995\n",
      "alphas[4,2]  0.6693  0.0005 0.0456 0.5825 0.6372 0.6704 0.7025 0.7525   7888 1.0011\n",
      "alphas[5,2]  0.6573  0.0010 0.0577 0.5397 0.6179 0.6594 0.6975 0.7648   2831 1.0003\n",
      "alphas[6,2]  0.6395  0.0002 0.0361 0.5649 0.6183 0.6399 0.6615 0.7121  19799 0.9995\n",
      "alphas[7,2]  0.6109  0.0003 0.0362 0.5398 0.5865 0.6108 0.6362 0.6796  13714 0.9997\n",
      "alphas[8,2]  0.5889  0.0005 0.0340   0.52 0.5675 0.5893 0.6104 0.6548   4225 1.0001\n",
      "alphas[9,2]  0.5717  0.0004 0.0822 0.4065 0.5150 0.5736 0.6302 0.7269  33091 0.9995\n",
      "alphas[10,2] 0.6208  0.0009 0.0393 0.5419 0.5946 0.6217 0.6483 0.6951   1595 1.0016\n",
      "alphas[11,2] 0.6195  0.0003 0.0379 0.5433 0.5937 0.6197 0.6456 0.6930   9941 0.9996\n",
      "alphas[12,2] 0.5947  0.0002 0.0291 0.5362  0.575 0.5948 0.6147 0.6515  22000 0.9997\n",
      "alphas[13,2] 0.6470  0.0004 0.0701 0.5006 0.6016 0.6493 0.6939 0.7824  28748 0.9996\n",
      "alphas[14,2] 0.5948  0.0002 0.0456 0.5044 0.5629 0.5944 0.6272 0.6827  33739 0.9995\n",
      "alphas[15,2] 0.6029  0.0001 0.0325 0.5388 0.5810 0.6035 0.6253 0.6657  49240 0.9996\n",
      "alphas[16,2] 0.6020  0.0004 0.0453 0.5116 0.5713 0.6025 0.6333 0.6891  11043 0.9997\n",
      "beta[1,1]   2.2713e1  8.01864.6367e1 0.7253 3.7020 7.29131.7041e11.7394e2     33 1.1354\n",
      "beta[2,1]   2.2719e1  8.01924.6396e1 0.7869 3.6451 7.28721.7319e11.7264e2     33 1.1352\n",
      "beta[3,1]   2.2694e1  8.02054.6386e1 0.7152 3.6263 7.24291.7117e11.7349e2     33 1.1352\n",
      "beta[4,1]   2.2711e1  8.01274.6375e1 0.7990 3.7203 7.2744 1.72e11.7371e2     33 1.1350\n",
      "beta[5,1]   2.2706e1  8.01994.6389e1 0.6911 3.6927 7.28541.7143e11.7308e2     33 1.1352\n",
      "beta[6,1]   2.2696e1  8.01374.6386e1 0.7916 3.6592 7.29001.7171e11.7384e2     34 1.1350\n",
      "beta[7,1]   2.2715e1  8.02274.6393e1 0.7666 3.7174 7.29451.7197e11.7365e2     33 1.1354\n",
      "beta[8,1]   2.2714e1  8.01464.6374e1 0.7420 3.7158 7.28731.7187e11.7354e2     33 1.1352\n",
      "beta[9,1]   2.2729e1  8.01774.6387e1 0.8191 3.6922 7.16941.7145e11.7301e2     33 1.1352\n",
      "beta[10,1]  2.2718e1  8.01684.6386e1 0.8272 3.7168 7.22621.7146e11.744e2     33 1.1351\n",
      "beta[11,1]  2.2725e1  8.01984.6402e1 0.8458 3.6746  7.2161.7197e11.7302e2     33 1.1351\n",
      "beta[12,1]  2.2711e1  8.01864.638e1 0.6594 3.6695 7.27421.7207e11.7349e2     33 1.1352\n",
      "beta[13,1]  2.2708e1  8.01604.637e1 0.6844 3.7449 7.25291.7199e11.7331e2     33 1.1352\n",
      "beta[14,1]  2.2719e1  8.01824.6392e1 0.7666 3.6791 7.27351.7018e11.735e2     33 1.1352\n",
      "beta[15,1]  2.2716e1  8.01634.6394e1 0.8257 3.6758 7.26291.7119e11.7331e2     33 1.1351\n",
      "beta[16,1]  2.2715e1  8.01634.6387e1 0.7689 3.6845 7.22611.7126e11.731e2     33 1.1350\n",
      "beta[1,2]   2.101e1  4.87323.4339e1 1.8136 4.9731 8.79371.943e11.4617e2     50 1.0649\n",
      "beta[2,2]   2.1011e1  4.87093.4341e1 1.7563 5.0524 8.80251.9373e11.4657e2     50 1.0651\n",
      "beta[3,2]   2.0995e1  4.87163.4329e1 1.6634 5.0308  8.7981.9455e11.4667e2     50 1.0649\n",
      "beta[4,2]   2.1008e1  4.87323.4328e1 1.8091 5.0136 8.75131.9424e11.4693e2     50 1.0652\n",
      "beta[5,2]   2.1034e1  4.86883.4318e1 1.8465 5.0907 8.73281.9448e11.4711e2     50 1.0650\n",
      "beta[6,2]   2.1014e1  4.87743.4345e1 1.7678 5.0475 8.74091.9357e11.4671e2     50 1.0652\n",
      "beta[7,2]   2.1019e1  4.87293.4342e1 1.8202 5.0471 8.77261.9426e11.4751e2     50 1.0650\n",
      "beta[8,2]     2.1e1  4.87203.4343e1 1.7964 4.9918 8.78851.937e11.4724e2     50 1.0648\n",
      "beta[9,2]   2.1003e1  4.87543.434e1 1.7889 4.9947 8.77091.9506e11.467e2     50 1.0651\n",
      "beta[10,2]  2.1019e1  4.87453.4355e1 1.7801 5.0105 8.83531.9436e11.4755e2     50 1.0651\n",
      "beta[11,2]  2.1011e1  4.88323.436e1 1.7745 4.9971 8.81831.9411e11.4697e2     50 1.0652\n",
      "beta[12,2]    2.1e1  4.86893.4323e1 1.7969 5.0186 8.76581.9163e11.4668e2     50 1.0650\n",
      "beta[13,2]  2.1024e1  4.86963.4322e1 1.7591 5.0657 8.77951.9546e11.4676e2     50 1.0645\n",
      "beta[14,2]  2.1002e1  4.87323.4324e1 1.8039 4.9603 8.76831.9452e11.4686e2     50 1.0652\n",
      "beta[15,2]  2.1013e1  4.87403.434e1 1.8079 4.9877 8.83411.9378e11.466e2     50 1.0654\n",
      "beta[16,2]  2.1012e1  4.87293.4341e1 1.7040 5.0002 8.79891.9428e11.4713e2     50 1.0648\n",
      "theta[1,1]   0.9628  0.0015 0.0904 0.6737 0.9759 0.9993    1.0    1.0   3549 1.0039\n",
      "theta[2,1]   0.9627  0.0016 0.0897 0.6871 0.9745 0.9993    1.0    1.0   3053 1.0045\n",
      "theta[3,1]   0.9631  0.0016 0.0900 0.6715 0.9740 0.9992    1.0    1.0   2994 1.0047\n",
      "theta[4,1]   0.9642  0.0013 0.0869 0.6897 0.9763 0.9993    1.0    1.0   4015 1.0027\n",
      "theta[5,1]   0.9629  0.0016 0.0884 0.6662 0.9757 0.9993    1.0    1.0   2989 1.0044\n",
      "theta[6,1]   0.9628  0.0013 0.0896 0.6881 0.9749 0.9993    1.0    1.0   4184 1.0038\n",
      "theta[7,1]   0.9633  0.0014 0.0885 0.6827 0.9762 0.9993    1.0    1.0   3702 1.0046\n",
      "theta[8,1]   0.9629  0.0013 0.0904 0.6774 0.9762 0.9993    1.0    1.0   4262 1.0028\n",
      "theta[9,1]   0.9652  0.0013 0.0832 0.6940 0.9756 0.9992    1.0    1.0   3682 1.0043\n",
      "theta[10,1]  0.9645  0.0014 0.0858 0.6957 0.9762 0.9992    1.0    1.0   3582 1.0043\n",
      "theta[11,1]  0.9650  0.0012 0.0827 0.6997 0.9752 0.9992    1.0    1.0   4558 1.0042\n",
      "theta[12,1]  0.9627  0.0015 0.0897 0.6591 0.9751 0.9993    1.0    1.0   3395 1.0047\n",
      "theta[13,1]  0.9627  0.0014 0.0899 0.6647 0.9769 0.9992    1.0    1.0   3858 1.0052\n",
      "theta[14,1]  0.9632  0.0013 0.0893 0.6827 0.9753 0.9993    1.0    1.0   4132 1.0028\n",
      "theta[15,1]  0.9643  0.0013 0.0858 0.6954 0.9753 0.9993    1.0    1.0   3811 1.0041\n",
      "theta[16,1]  0.9638  0.0015 0.0868 0.6833 0.9755 0.9992    1.0    1.0   3231 1.0035\n",
      "theta[1,2]   0.9855  0.0006 0.0429 0.8598 0.9931 0.9998    1.0    1.0   4995 1.0018\n",
      "theta[2,2]   0.9848  0.0007 0.0458 0.8527 0.9936 0.9998    1.0    1.0   4314 1.0017\n",
      "theta[3,2]   0.9846  0.0007 0.0454 0.8407 0.9935 0.9998    1.0    1.0   3969 1.0011\n",
      "theta[4,2]    0.985  0.0006 0.0472 0.8592 0.9934 0.9998    1.0    1.0   5750 1.0013\n",
      "theta[5,2]   0.9852  0.0007 0.0464 0.8637 0.9938 0.9998    1.0    1.0   4179 1.0008\n",
      "theta[6,2]   0.9850  0.0006 0.0466 0.8541 0.9936 0.9998    1.0    1.0   5104 1.0019\n",
      "theta[7,2]   0.9856  0.0006 0.0434 0.8606 0.9936 0.9998    1.0    1.0   4667 1.0007\n",
      "theta[8,2]   0.9851  0.0006 0.0454 0.8577 0.9932 0.9998    1.0    1.0   4716 1.0008\n",
      "theta[9,2]   0.9848  0.0006 0.0482 0.8567 0.9932 0.9998    1.0    1.0   5013 1.0013\n",
      "theta[10,2]  0.9848  0.0006 0.0474 0.8557 0.9933 0.9998    1.0    1.0   5051 1.0013\n",
      "theta[11,2]  0.9853  0.0006 0.0439 0.8550 0.9932 0.9998    1.0    1.0   4887 1.0009\n",
      "theta[12,2]  0.9851  0.0006 0.0463 0.8577 0.9934 0.9998    1.0    1.0   5339 1.0006\n",
      "theta[13,2]  0.9851  0.0006 0.0453 0.8531 0.9937 0.9998    1.0    1.0   5175 1.0003\n",
      "theta[14,2]  0.9855  0.0006 0.0441 0.8586 0.9930 0.9998    1.0    1.0   4960 1.0016\n",
      "theta[15,2]  0.9851  0.0006 0.0450 0.8591 0.9932 0.9998    1.0    1.0   4773 1.0011\n",
      "theta[16,2]  0.9848  0.0007 0.0466 0.8460 0.9933 0.9998    1.0    1.0   4484 1.0013\n",
      "Sigma[1,1]      1.0     nan    0.0    1.0    1.0    1.0    1.0    1.0    nan    nan\n",
      "Sigma[2,1]   -0.000  0.0056 0.3769 -0.709 -0.275 0.0006 0.2848 0.7012   4423 0.9999\n",
      "Sigma[1,2]   -0.000  0.0056 0.3769 -0.709 -0.275 0.0006 0.2848 0.7012   4423 0.9999\n",
      "Sigma[2,2]      1.01.0388e-188.708e-17    1.0    1.0    1.0    1.0    1.0   7027 0.9995\n",
      "lp__        -1.4472e3  0.2517 5.6630-1.4594e3-1.4508e3-1.4469e3-1.4434e3-1.437e3    506 1.0095\n",
      "\n",
      "Samples were drawn using HMC at Tue Jul 30 20:01:26 2019.\n",
      "For each parameter, n_eff is a crude measure of effective sample size,\n",
      "and Rhat is the potential scale reduction factor on split chains (at \n",
      "convergence, Rhat=1).\n"
     ]
    }
   ],
   "source": [
    "print(fit2.stansummary(digits_summary=5))"
   ]
  },
  {
   "cell_type": "code",
   "execution_count": 211,
   "metadata": {},
   "outputs": [],
   "source": [
    "samples2 = fit2.extract(permuted=True)['alphas']"
   ]
  },
  {
   "cell_type": "code",
   "execution_count": 217,
   "metadata": {},
   "outputs": [
    {
     "data": {
      "text/plain": [
       "0.6020207893922684"
      ]
     },
     "execution_count": 217,
     "metadata": {},
     "output_type": "execute_result"
    }
   ],
   "source": [
    "np.mean(samples2[:, 15, 1])"
   ]
  },
  {
   "cell_type": "code",
   "execution_count": null,
   "metadata": {},
   "outputs": [],
   "source": []
  },
  {
   "cell_type": "code",
   "execution_count": 218,
   "metadata": {},
   "outputs": [],
   "source": [
    "th5 = []\n",
    "\n",
    "for i in range(16):\n",
    "    result5 =  2 * samples2[:, i, 0] * samples2[:, i, 1] - samples2[:, i, 1] \n",
    "#     result1 = - 2 * ppc_hier['alphas'][:, i, 0] * ppc_hier['alphas'][:, i, 1] + ppc_hier['alphas'][:, i, 1] \n",
    "    th5.append(list(result5))"
   ]
  },
  {
   "cell_type": "code",
   "execution_count": 220,
   "metadata": {},
   "outputs": [
    {
     "data": {
      "text/plain": [
       "(16, 8000)"
      ]
     },
     "execution_count": 220,
     "metadata": {},
     "output_type": "execute_result"
    }
   ],
   "source": [
    "th5 = np.asarray(th5)\n",
    "th5.shape"
   ]
  },
  {
   "cell_type": "code",
   "execution_count": 221,
   "metadata": {},
   "outputs": [
    {
     "data": {
      "text/plain": [
       "array([-0.15178621, -0.15164549, -0.11995138, -0.1770054 , -0.14536233,\n",
       "       -0.13756777, -0.14771482, -0.15834537, -0.15584203, -0.13804698,\n",
       "       -0.14927179, -0.12890647, -0.15400477, -0.12556515, -0.13719998])"
      ]
     },
     "execution_count": 221,
     "metadata": {},
     "output_type": "execute_result"
    }
   ],
   "source": [
    "res5 = np.sum(th5.T * proportion / np.sum(proportion), axis=1)\n",
    "res5[:15]"
   ]
  },
  {
   "cell_type": "code",
   "execution_count": 224,
   "metadata": {},
   "outputs": [
    {
     "data": {
      "image/png": "[encoded data removed]",
      "text/plain": [
       "<Figure size 720x432 with 1 Axes>"
      ]
     },
     "metadata": {},
     "output_type": "display_data"
    }
   ],
   "source": [
    "plt.figure(figsize=(10, 6))\n",
    "_, _, _ = plt.hist(res5 , bins=20, edgecolor='w', density=True)"
   ]
  },
  {
   "cell_type": "code",
   "execution_count": null,
   "metadata": {},
   "outputs": [],
   "source": []
  },
  {
   "cell_type": "code",
   "execution_count": null,
   "metadata": {},
   "outputs": [],
   "source": []
  },
  {
   "cell_type": "code",
   "execution_count": null,
   "metadata": {},
   "outputs": [],
   "source": []
  },
  {
   "cell_type": "code",
   "execution_count": null,
   "metadata": {},
   "outputs": [],
   "source": []
  },
  {
   "cell_type": "code",
   "execution_count": null,
   "metadata": {},
   "outputs": [],
   "source": []
  },
  {
   "cell_type": "code",
   "execution_count": null,
   "metadata": {},
   "outputs": [],
   "source": []
  },
  {
   "cell_type": "code",
   "execution_count": 168,
   "metadata": {},
   "outputs": [
    {
     "data": {
      "text/plain": [
       "array([[ 15.,  42.],\n",
       "       [ 24.,  45.],\n",
       "       [ 88., 146.],\n",
       "       [ 33.,  68.],\n",
       "       [ 21.,  41.],\n",
       "       [ 47.,  84.],\n",
       "       [ 66., 104.]])"
      ]
     },
     "execution_count": 168,
     "metadata": {},
     "output_type": "execute_result"
    }
   ],
   "source": [
    "new_values[:7,]"
   ]
  },
  {
   "cell_type": "code",
   "execution_count": null,
   "metadata": {},
   "outputs": [],
   "source": []
  },
  {
   "cell_type": "code",
   "execution_count": null,
   "metadata": {},
   "outputs": [],
   "source": []
  },
  {
   "cell_type": "code",
   "execution_count": null,
   "metadata": {},
   "outputs": [],
   "source": []
  }
 ],
 "metadata": {
  "kernelspec": {
   "display_name": "Python 3",
   "language": "python",
   "name": "python3"
  },
  "language_info": {
   "codemirror_mode": {
    "name": "ipython",
    "version": 3
   },
   "file_extension": ".py",
   "mimetype": "text/x-python",
   "name": "python",
   "nbconvert_exporter": "python",
   "pygments_lexer": "ipython3",
   "version": "3.6.8"
  }
 },
 "nbformat": 4,
 "nbformat_minor": 2
}

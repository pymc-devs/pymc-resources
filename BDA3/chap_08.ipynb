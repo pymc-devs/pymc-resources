{
 "cells": [
  {
   "cell_type": "markdown",
   "metadata": {},
   "source": [
    "## **Example. Stratified sampling in pre-election polling**"
   ]
  },
  {
   "cell_type": "code",
   "execution_count": 5,
   "metadata": {},
   "outputs": [],
   "source": [
    "%matplotlib inline\n",
    "\n",
    "import numpy as np\n",
    "import matplotlib.pyplot as plt\n",
    "import pymc3 as pm\n",
    "import pandas as pd\n",
    "import scipy.stats as stats\n",
    "import theano.tensor as tt\n",
    "import arviz\n",
    "import seaborn\n",
    "import time\n",
    "from scipy.special import expit as logistic\n",
    "from scipy.special import logit\n",
    "from scipy.special import softmax\n",
    "\n",
    "import warnings\n",
    "warnings.simplefilter(action='ignore', category=FutureWarning)\n",
    "\n",
    "plt.style.use('seaborn-darkgrid')\n",
    "plt.rc('font', size=12)\n",
    "\n",
    "%config Inline.figure_formats = ['retina']"
   ]
  },
  {
   "cell_type": "markdown",
   "metadata": {},
   "source": [
    "A survey of 1447 adults."
   ]
  },
  {
   "cell_type": "code",
   "execution_count": 6,
   "metadata": {},
   "outputs": [],
   "source": [
    "participants = 1447"
   ]
  },
  {
   "cell_type": "markdown",
   "metadata": {},
   "source": [
    "This is the Table 8.2"
   ]
  },
  {
   "cell_type": "code",
   "execution_count": 7,
   "metadata": {},
   "outputs": [
    {
     "data": {
      "text/html": [
       "<div>\n",
       "<style scoped>\n",
       "    .dataframe tbody tr th:only-of-type {\n",
       "        vertical-align: middle;\n",
       "    }\n",
       "\n",
       "    .dataframe tbody tr th {\n",
       "        vertical-align: top;\n",
       "    }\n",
       "\n",
       "    .dataframe thead th {\n",
       "        text-align: right;\n",
       "    }\n",
       "</style>\n",
       "<table border=\"1\" class=\"dataframe\">\n",
       "  <thead>\n",
       "    <tr style=\"text-align: right;\">\n",
       "      <th></th>\n",
       "      <th>region</th>\n",
       "      <th>density</th>\n",
       "      <th>bush</th>\n",
       "      <th>dukakis</th>\n",
       "      <th>other</th>\n",
       "      <th>proportion</th>\n",
       "    </tr>\n",
       "  </thead>\n",
       "  <tbody>\n",
       "    <tr>\n",
       "      <th>0</th>\n",
       "      <td>Northeast</td>\n",
       "      <td>I</td>\n",
       "      <td>0.298</td>\n",
       "      <td>0.617</td>\n",
       "      <td>0.085</td>\n",
       "      <td>0.032</td>\n",
       "    </tr>\n",
       "    <tr>\n",
       "      <th>1</th>\n",
       "      <td>Northeast</td>\n",
       "      <td>II</td>\n",
       "      <td>0.500</td>\n",
       "      <td>0.478</td>\n",
       "      <td>0.022</td>\n",
       "      <td>0.032</td>\n",
       "    </tr>\n",
       "    <tr>\n",
       "      <th>2</th>\n",
       "      <td>Northeast</td>\n",
       "      <td>III</td>\n",
       "      <td>0.467</td>\n",
       "      <td>0.413</td>\n",
       "      <td>0.120</td>\n",
       "      <td>0.115</td>\n",
       "    </tr>\n",
       "    <tr>\n",
       "      <th>3</th>\n",
       "      <td>Northeast</td>\n",
       "      <td>IV</td>\n",
       "      <td>0.464</td>\n",
       "      <td>0.522</td>\n",
       "      <td>0.014</td>\n",
       "      <td>0.048</td>\n",
       "    </tr>\n",
       "    <tr>\n",
       "      <th>4</th>\n",
       "      <td>Midwest</td>\n",
       "      <td>I</td>\n",
       "      <td>0.404</td>\n",
       "      <td>0.489</td>\n",
       "      <td>0.106</td>\n",
       "      <td>0.032</td>\n",
       "    </tr>\n",
       "    <tr>\n",
       "      <th>5</th>\n",
       "      <td>Midwest</td>\n",
       "      <td>II</td>\n",
       "      <td>0.447</td>\n",
       "      <td>0.447</td>\n",
       "      <td>0.106</td>\n",
       "      <td>0.065</td>\n",
       "    </tr>\n",
       "    <tr>\n",
       "      <th>6</th>\n",
       "      <td>Midwest</td>\n",
       "      <td>III</td>\n",
       "      <td>0.509</td>\n",
       "      <td>0.388</td>\n",
       "      <td>0.103</td>\n",
       "      <td>0.080</td>\n",
       "    </tr>\n",
       "    <tr>\n",
       "      <th>7</th>\n",
       "      <td>Midwest</td>\n",
       "      <td>IV</td>\n",
       "      <td>0.552</td>\n",
       "      <td>0.338</td>\n",
       "      <td>0.110</td>\n",
       "      <td>0.100</td>\n",
       "    </tr>\n",
       "    <tr>\n",
       "      <th>8</th>\n",
       "      <td>South</td>\n",
       "      <td>I</td>\n",
       "      <td>0.571</td>\n",
       "      <td>0.286</td>\n",
       "      <td>0.143</td>\n",
       "      <td>0.015</td>\n",
       "    </tr>\n",
       "    <tr>\n",
       "      <th>9</th>\n",
       "      <td>South</td>\n",
       "      <td>II</td>\n",
       "      <td>0.469</td>\n",
       "      <td>0.406</td>\n",
       "      <td>0.125</td>\n",
       "      <td>0.066</td>\n",
       "    </tr>\n",
       "    <tr>\n",
       "      <th>10</th>\n",
       "      <td>South</td>\n",
       "      <td>III</td>\n",
       "      <td>0.515</td>\n",
       "      <td>0.404</td>\n",
       "      <td>0.081</td>\n",
       "      <td>0.068</td>\n",
       "    </tr>\n",
       "    <tr>\n",
       "      <th>11</th>\n",
       "      <td>South</td>\n",
       "      <td>IV</td>\n",
       "      <td>0.555</td>\n",
       "      <td>0.352</td>\n",
       "      <td>0.093</td>\n",
       "      <td>0.126</td>\n",
       "    </tr>\n",
       "    <tr>\n",
       "      <th>12</th>\n",
       "      <td>West</td>\n",
       "      <td>I</td>\n",
       "      <td>0.500</td>\n",
       "      <td>0.471</td>\n",
       "      <td>0.029</td>\n",
       "      <td>0.023</td>\n",
       "    </tr>\n",
       "    <tr>\n",
       "      <th>13</th>\n",
       "      <td>West</td>\n",
       "      <td>II</td>\n",
       "      <td>0.532</td>\n",
       "      <td>0.351</td>\n",
       "      <td>0.117</td>\n",
       "      <td>0.053</td>\n",
       "    </tr>\n",
       "    <tr>\n",
       "      <th>14</th>\n",
       "      <td>West</td>\n",
       "      <td>III</td>\n",
       "      <td>0.540</td>\n",
       "      <td>0.371</td>\n",
       "      <td>0.089</td>\n",
       "      <td>0.086</td>\n",
       "    </tr>\n",
       "    <tr>\n",
       "      <th>15</th>\n",
       "      <td>West</td>\n",
       "      <td>IV</td>\n",
       "      <td>0.554</td>\n",
       "      <td>0.361</td>\n",
       "      <td>0.084</td>\n",
       "      <td>0.057</td>\n",
       "    </tr>\n",
       "  </tbody>\n",
       "</table>\n",
       "</div>"
      ],
      "text/plain": [
       "       region density   bush  dukakis  other  proportion\n",
       "0   Northeast       I  0.298    0.617  0.085       0.032\n",
       "1   Northeast      II  0.500    0.478  0.022       0.032\n",
       "2   Northeast     III  0.467    0.413  0.120       0.115\n",
       "3   Northeast      IV  0.464    0.522  0.014       0.048\n",
       "4     Midwest       I  0.404    0.489  0.106       0.032\n",
       "5     Midwest      II  0.447    0.447  0.106       0.065\n",
       "6     Midwest     III  0.509    0.388  0.103       0.080\n",
       "7     Midwest      IV  0.552    0.338  0.110       0.100\n",
       "8       South       I  0.571    0.286  0.143       0.015\n",
       "9       South      II  0.469    0.406  0.125       0.066\n",
       "10      South     III  0.515    0.404  0.081       0.068\n",
       "11      South      IV  0.555    0.352  0.093       0.126\n",
       "12       West       I  0.500    0.471  0.029       0.023\n",
       "13       West      II  0.532    0.351  0.117       0.053\n",
       "14       West     III  0.540    0.371  0.089       0.086\n",
       "15       West      IV  0.554    0.361  0.084       0.057"
      ]
     },
     "execution_count": 7,
     "metadata": {},
     "output_type": "execute_result"
    }
   ],
   "source": [
    "data = pd.read_csv('data/cbs_survey.txt', sep=' ', skiprows=2, skipinitialspace=True, index_col=False)\n",
    "data"
   ]
  },
  {
   "cell_type": "markdown",
   "metadata": {},
   "source": [
    "We need the number of people of each region and each candidate."
   ]
  },
  {
   "cell_type": "code",
   "execution_count": 8,
   "metadata": {},
   "outputs": [
    {
     "name": "stdout",
     "output_type": "stream",
     "text": [
      "[[0.298 0.617 0.085]\n",
      " [0.5   0.478 0.022]\n",
      " [0.467 0.413 0.12 ]\n",
      " [0.464 0.522 0.014]\n",
      " [0.404 0.489 0.106]\n",
      " [0.447 0.447 0.106]\n",
      " [0.509 0.388 0.103]\n",
      " [0.552 0.338 0.11 ]\n",
      " [0.571 0.286 0.143]\n",
      " [0.469 0.406 0.125]\n",
      " [0.515 0.404 0.081]\n",
      " [0.555 0.352 0.093]\n",
      " [0.5   0.471 0.029]\n",
      " [0.532 0.351 0.117]\n",
      " [0.54  0.371 0.089]\n",
      " [0.554 0.361 0.084]]\n"
     ]
    }
   ],
   "source": [
    "data_obs = data[['bush', 'dukakis', 'other']].to_numpy()\n",
    "print(data_obs)"
   ]
  },
  {
   "cell_type": "code",
   "execution_count": 9,
   "metadata": {},
   "outputs": [
    {
     "name": "stdout",
     "output_type": "stream",
     "text": [
      "[0.32568306 0.51124744 0.53068182 0.47058824 0.45240761 0.5\n",
      " 0.56744705 0.62022472 0.66627771 0.536      0.56039173 0.61190739\n",
      " 0.51493306 0.60249151 0.59275521 0.60546448] \n",
      "\n",
      "[0.915 0.978 0.88  0.986 0.894 0.894 0.897 0.89  0.857 0.875 0.919 0.907\n",
      " 0.971 0.883 0.911 0.916]\n"
     ]
    }
   ],
   "source": [
    "print(data_obs[:, 0] / (data_obs[:, 0] + data_obs[:, 1]), '\\n')\n",
    "print(1 - data_obs[:, 2])"
   ]
  },
  {
   "cell_type": "code",
   "execution_count": 10,
   "metadata": {},
   "outputs": [
    {
     "name": "stdout",
     "output_type": "stream",
     "text": [
      "[ 46.304  46.304 166.405  69.456  46.304  94.055 115.76  144.7    21.705\n",
      "  95.502  98.396 182.322  33.281  76.691 124.442  82.479]\n"
     ]
    }
   ],
   "source": [
    "proportion = data['proportion'].to_numpy() * participants\n",
    "print(proportion)"
   ]
  },
  {
   "cell_type": "code",
   "execution_count": 11,
   "metadata": {},
   "outputs": [
    {
     "data": {
      "text/plain": [
       "1444.106"
      ]
     },
     "execution_count": 11,
     "metadata": {},
     "output_type": "execute_result"
    }
   ],
   "source": [
    "np.sum(proportion)"
   ]
  },
  {
   "cell_type": "code",
   "execution_count": 12,
   "metadata": {},
   "outputs": [
    {
     "name": "stdout",
     "output_type": "stream",
     "text": [
      "(16, 3)\n",
      "(16,)\n"
     ]
    }
   ],
   "source": [
    "print(data_obs.shape)\n",
    "print(proportion.shape)"
   ]
  },
  {
   "cell_type": "code",
   "execution_count": 13,
   "metadata": {},
   "outputs": [
    {
     "data": {
      "text/plain": [
       "1447.0"
      ]
     },
     "execution_count": 13,
     "metadata": {},
     "output_type": "execute_result"
    }
   ],
   "source": [
    "values = data_obs[:, :] * proportion.reshape(16, -1)\n",
    "values = np.round(values)\n",
    "np.sum(values)   # Check if the sum is equal to 1447"
   ]
  },
  {
   "cell_type": "markdown",
   "metadata": {},
   "source": [
    "### **Nonhierarchical model**"
   ]
  },
  {
   "cell_type": "code",
   "execution_count": 14,
   "metadata": {},
   "outputs": [],
   "source": [
    "with pm.Model() as model_non_hiera:\n",
    "    \n",
    "    thetas = pm.Dirichlet('thetas', a=np.ones_like(data_obs), shape=(16, 3))\n",
    "    post = pm.Multinomial('post', n=np.sum(values, axis=1), p=thetas, observed=values)"
   ]
  },
  {
   "cell_type": "code",
   "execution_count": 15,
   "metadata": {},
   "outputs": [
    {
     "data": {
      "text/plain": [
       "thetas_stickbreaking__    -41.64\n",
       "post                     -322.85\n",
       "Name: Log-probability of test_point, dtype: float64"
      ]
     },
     "execution_count": 15,
     "metadata": {},
     "output_type": "execute_result"
    }
   ],
   "source": [
    "model_non_hiera.check_test_point()"
   ]
  },
  {
   "cell_type": "code",
   "execution_count": 16,
   "metadata": {},
   "outputs": [
    {
     "data": {
      "image/svg+xml": [
       "<?xml version=\"1.0\" encoding=\"UTF-8\" standalone=\"no\"?>\n",
       "<!DOCTYPE svg PUBLIC \"-//W3C//DTD SVG 1.1//EN\"\n",
       " \"http://www.w3.org/Graphics/SVG/1.1/DTD/svg11.dtd\">\n",
       "<!-- Generated by graphviz version 2.40.1 (20161225.0304)\n",
       " -->\n",
       "<!-- Title: %3 Pages: 1 -->\n",
       "<svg width=\"200pt\" height=\"171pt\"\n",
       " viewBox=\"0.00 0.00 200.00 171.00\" xmlns=\"http://www.w3.org/2000/svg\" xmlns:xlink=\"http://www.w3.org/1999/xlink\">\n",
       "<g id=\"graph0\" class=\"graph\" transform=\"scale(1 1) rotate(0) translate(4 167)\">\n",
       "<title>%3</title>\n",
       "<polygon fill=\"#ffffff\" stroke=\"transparent\" points=\"-4,4 -4,-167 196,-167 196,4 -4,4\"/>\n",
       "<g id=\"clust1\" class=\"cluster\">\n",
       "<title>cluster16 x 3</title>\n",
       "<path fill=\"none\" stroke=\"#000000\" d=\"M20,-8C20,-8 172,-8 172,-8 178,-8 184,-14 184,-20 184,-20 184,-143 184,-143 184,-149 178,-155 172,-155 172,-155 20,-155 20,-155 14,-155 8,-149 8,-143 8,-143 8,-20 8,-20 8,-14 14,-8 20,-8\"/>\n",
       "<text text-anchor=\"middle\" x=\"158.5\" y=\"-15.8\" font-family=\"Times,serif\" font-size=\"14.00\" fill=\"#000000\">16 x 3</text>\n",
       "</g>\n",
       "<!-- thetas -->\n",
       "<g id=\"node1\" class=\"node\">\n",
       "<title>thetas</title>\n",
       "<ellipse fill=\"none\" stroke=\"#000000\" cx=\"96\" cy=\"-129\" rx=\"72.2875\" ry=\"18\"/>\n",
       "<text text-anchor=\"middle\" x=\"96\" y=\"-125.3\" font-family=\"Times,serif\" font-size=\"14.00\" fill=\"#000000\">thetas ~ Dirichlet</text>\n",
       "</g>\n",
       "<!-- post -->\n",
       "<g id=\"node2\" class=\"node\">\n",
       "<title>post</title>\n",
       "<ellipse fill=\"#d3d3d3\" stroke=\"#000000\" cx=\"96\" cy=\"-57\" rx=\"79.8859\" ry=\"18\"/>\n",
       "<text text-anchor=\"middle\" x=\"96\" y=\"-53.3\" font-family=\"Times,serif\" font-size=\"14.00\" fill=\"#000000\">post ~ Multinomial</text>\n",
       "</g>\n",
       "<!-- thetas&#45;&gt;post -->\n",
       "<g id=\"edge1\" class=\"edge\">\n",
       "<title>thetas&#45;&gt;post</title>\n",
       "<path fill=\"none\" stroke=\"#000000\" d=\"M96,-110.8314C96,-103.131 96,-93.9743 96,-85.4166\"/>\n",
       "<polygon fill=\"#000000\" stroke=\"#000000\" points=\"99.5001,-85.4132 96,-75.4133 92.5001,-85.4133 99.5001,-85.4132\"/>\n",
       "</g>\n",
       "</g>\n",
       "</svg>\n"
      ],
      "text/plain": [
       "<graphviz.dot.Digraph at 0x7f21fb22a650>"
      ]
     },
     "execution_count": 16,
     "metadata": {},
     "output_type": "execute_result"
    }
   ],
   "source": [
    "pm.model_to_graphviz(model_non_hiera)"
   ]
  },
  {
   "cell_type": "code",
   "execution_count": 17,
   "metadata": {},
   "outputs": [
    {
     "name": "stderr",
     "output_type": "stream",
     "text": [
      "Auto-assigning NUTS sampler...\n",
      "Initializing NUTS using jitter+adapt_diag...\n",
      "Multiprocess sampling (4 chains in 4 jobs)\n",
      "NUTS: [thetas]\n",
      "Sampling 4 chains, 0 divergences: 100%|██████████| 16000/16000 [00:13<00:00, 1194.54draws/s]\n"
     ]
    }
   ],
   "source": [
    "with model_non_hiera:\n",
    "    trace_1 = pm.sample(draws=2000, tune=2000)"
   ]
  },
  {
   "cell_type": "code",
   "execution_count": 18,
   "metadata": {},
   "outputs": [
    {
     "data": {
      "image/png": "[encoded data removed]",
      "text/plain": [
       "<Figure size 864x144 with 2 Axes>"
      ]
     },
     "metadata": {},
     "output_type": "display_data"
    }
   ],
   "source": [
    "pm.traceplot(trace_1, var_names=['thetas']);"
   ]
  },
  {
   "cell_type": "code",
   "execution_count": 19,
   "metadata": {
    "scrolled": true
   },
   "outputs": [
    {
     "data": {
      "text/html": [
       "<div>\n",
       "<style scoped>\n",
       "    .dataframe tbody tr th:only-of-type {\n",
       "        vertical-align: middle;\n",
       "    }\n",
       "\n",
       "    .dataframe tbody tr th {\n",
       "        vertical-align: top;\n",
       "    }\n",
       "\n",
       "    .dataframe thead th {\n",
       "        text-align: right;\n",
       "    }\n",
       "</style>\n",
       "<table border=\"1\" class=\"dataframe\">\n",
       "  <thead>\n",
       "    <tr style=\"text-align: right;\">\n",
       "      <th></th>\n",
       "      <th>mean</th>\n",
       "      <th>sd</th>\n",
       "      <th>hpd_3%</th>\n",
       "      <th>hpd_97%</th>\n",
       "      <th>mcse_mean</th>\n",
       "      <th>mcse_sd</th>\n",
       "      <th>ess_mean</th>\n",
       "      <th>ess_sd</th>\n",
       "      <th>ess_bulk</th>\n",
       "      <th>ess_tail</th>\n",
       "      <th>r_hat</th>\n",
       "    </tr>\n",
       "  </thead>\n",
       "  <tbody>\n",
       "    <tr>\n",
       "      <th>thetas[0,0]</th>\n",
       "      <td>0.300</td>\n",
       "      <td>0.064</td>\n",
       "      <td>0.183</td>\n",
       "      <td>0.424</td>\n",
       "      <td>0.000</td>\n",
       "      <td>0.000</td>\n",
       "      <td>20497.0</td>\n",
       "      <td>18033.0</td>\n",
       "      <td>20306.0</td>\n",
       "      <td>5485.0</td>\n",
       "      <td>1.0</td>\n",
       "    </tr>\n",
       "    <tr>\n",
       "      <th>thetas[0,1]</th>\n",
       "      <td>0.600</td>\n",
       "      <td>0.068</td>\n",
       "      <td>0.469</td>\n",
       "      <td>0.724</td>\n",
       "      <td>0.000</td>\n",
       "      <td>0.000</td>\n",
       "      <td>18636.0</td>\n",
       "      <td>17860.0</td>\n",
       "      <td>18527.0</td>\n",
       "      <td>5570.0</td>\n",
       "      <td>1.0</td>\n",
       "    </tr>\n",
       "    <tr>\n",
       "      <th>thetas[0,2]</th>\n",
       "      <td>0.100</td>\n",
       "      <td>0.042</td>\n",
       "      <td>0.029</td>\n",
       "      <td>0.178</td>\n",
       "      <td>0.000</td>\n",
       "      <td>0.000</td>\n",
       "      <td>16683.0</td>\n",
       "      <td>10963.0</td>\n",
       "      <td>17565.0</td>\n",
       "      <td>5671.0</td>\n",
       "      <td>1.0</td>\n",
       "    </tr>\n",
       "    <tr>\n",
       "      <th>thetas[1,0]</th>\n",
       "      <td>0.490</td>\n",
       "      <td>0.071</td>\n",
       "      <td>0.357</td>\n",
       "      <td>0.621</td>\n",
       "      <td>0.000</td>\n",
       "      <td>0.000</td>\n",
       "      <td>22720.0</td>\n",
       "      <td>20814.0</td>\n",
       "      <td>22669.0</td>\n",
       "      <td>5743.0</td>\n",
       "      <td>1.0</td>\n",
       "    </tr>\n",
       "    <tr>\n",
       "      <th>thetas[1,1]</th>\n",
       "      <td>0.470</td>\n",
       "      <td>0.071</td>\n",
       "      <td>0.342</td>\n",
       "      <td>0.604</td>\n",
       "      <td>0.000</td>\n",
       "      <td>0.000</td>\n",
       "      <td>20246.0</td>\n",
       "      <td>19174.0</td>\n",
       "      <td>20256.0</td>\n",
       "      <td>5921.0</td>\n",
       "      <td>1.0</td>\n",
       "    </tr>\n",
       "    <tr>\n",
       "      <th>thetas[1,2]</th>\n",
       "      <td>0.041</td>\n",
       "      <td>0.028</td>\n",
       "      <td>0.001</td>\n",
       "      <td>0.091</td>\n",
       "      <td>0.000</td>\n",
       "      <td>0.000</td>\n",
       "      <td>14038.0</td>\n",
       "      <td>8686.0</td>\n",
       "      <td>13641.0</td>\n",
       "      <td>5593.0</td>\n",
       "      <td>1.0</td>\n",
       "    </tr>\n",
       "    <tr>\n",
       "      <th>thetas[2,0]</th>\n",
       "      <td>0.465</td>\n",
       "      <td>0.038</td>\n",
       "      <td>0.392</td>\n",
       "      <td>0.533</td>\n",
       "      <td>0.000</td>\n",
       "      <td>0.000</td>\n",
       "      <td>19496.0</td>\n",
       "      <td>19331.0</td>\n",
       "      <td>19518.0</td>\n",
       "      <td>5376.0</td>\n",
       "      <td>1.0</td>\n",
       "    </tr>\n",
       "    <tr>\n",
       "      <th>thetas[2,1]</th>\n",
       "      <td>0.412</td>\n",
       "      <td>0.037</td>\n",
       "      <td>0.344</td>\n",
       "      <td>0.484</td>\n",
       "      <td>0.000</td>\n",
       "      <td>0.000</td>\n",
       "      <td>17488.0</td>\n",
       "      <td>17011.0</td>\n",
       "      <td>17509.0</td>\n",
       "      <td>5936.0</td>\n",
       "      <td>1.0</td>\n",
       "    </tr>\n",
       "    <tr>\n",
       "      <th>thetas[2,2]</th>\n",
       "      <td>0.124</td>\n",
       "      <td>0.025</td>\n",
       "      <td>0.078</td>\n",
       "      <td>0.171</td>\n",
       "      <td>0.000</td>\n",
       "      <td>0.000</td>\n",
       "      <td>17151.0</td>\n",
       "      <td>15063.0</td>\n",
       "      <td>17280.0</td>\n",
       "      <td>6015.0</td>\n",
       "      <td>1.0</td>\n",
       "    </tr>\n",
       "    <tr>\n",
       "      <th>thetas[3,0]</th>\n",
       "      <td>0.459</td>\n",
       "      <td>0.058</td>\n",
       "      <td>0.352</td>\n",
       "      <td>0.567</td>\n",
       "      <td>0.000</td>\n",
       "      <td>0.000</td>\n",
       "      <td>18130.0</td>\n",
       "      <td>17764.0</td>\n",
       "      <td>18085.0</td>\n",
       "      <td>5195.0</td>\n",
       "      <td>1.0</td>\n",
       "    </tr>\n",
       "    <tr>\n",
       "      <th>thetas[3,1]</th>\n",
       "      <td>0.513</td>\n",
       "      <td>0.058</td>\n",
       "      <td>0.407</td>\n",
       "      <td>0.623</td>\n",
       "      <td>0.000</td>\n",
       "      <td>0.000</td>\n",
       "      <td>17777.0</td>\n",
       "      <td>17374.0</td>\n",
       "      <td>17775.0</td>\n",
       "      <td>6078.0</td>\n",
       "      <td>1.0</td>\n",
       "    </tr>\n",
       "    <tr>\n",
       "      <th>thetas[3,2]</th>\n",
       "      <td>0.028</td>\n",
       "      <td>0.019</td>\n",
       "      <td>0.001</td>\n",
       "      <td>0.063</td>\n",
       "      <td>0.000</td>\n",
       "      <td>0.000</td>\n",
       "      <td>14917.0</td>\n",
       "      <td>8734.0</td>\n",
       "      <td>16011.0</td>\n",
       "      <td>5999.0</td>\n",
       "      <td>1.0</td>\n",
       "    </tr>\n",
       "    <tr>\n",
       "      <th>thetas[4,0]</th>\n",
       "      <td>0.400</td>\n",
       "      <td>0.069</td>\n",
       "      <td>0.265</td>\n",
       "      <td>0.525</td>\n",
       "      <td>0.001</td>\n",
       "      <td>0.000</td>\n",
       "      <td>16837.0</td>\n",
       "      <td>15776.0</td>\n",
       "      <td>16676.0</td>\n",
       "      <td>5651.0</td>\n",
       "      <td>1.0</td>\n",
       "    </tr>\n",
       "    <tr>\n",
       "      <th>thetas[4,1]</th>\n",
       "      <td>0.480</td>\n",
       "      <td>0.070</td>\n",
       "      <td>0.345</td>\n",
       "      <td>0.604</td>\n",
       "      <td>0.001</td>\n",
       "      <td>0.000</td>\n",
       "      <td>16149.0</td>\n",
       "      <td>15519.0</td>\n",
       "      <td>16101.0</td>\n",
       "      <td>5845.0</td>\n",
       "      <td>1.0</td>\n",
       "    </tr>\n",
       "    <tr>\n",
       "      <th>thetas[4,2]</th>\n",
       "      <td>0.120</td>\n",
       "      <td>0.045</td>\n",
       "      <td>0.045</td>\n",
       "      <td>0.209</td>\n",
       "      <td>0.000</td>\n",
       "      <td>0.000</td>\n",
       "      <td>18531.0</td>\n",
       "      <td>13203.0</td>\n",
       "      <td>18693.0</td>\n",
       "      <td>5873.0</td>\n",
       "      <td>1.0</td>\n",
       "    </tr>\n",
       "    <tr>\n",
       "      <th>thetas[5,0]</th>\n",
       "      <td>0.443</td>\n",
       "      <td>0.050</td>\n",
       "      <td>0.353</td>\n",
       "      <td>0.541</td>\n",
       "      <td>0.000</td>\n",
       "      <td>0.000</td>\n",
       "      <td>17396.0</td>\n",
       "      <td>16985.0</td>\n",
       "      <td>17402.0</td>\n",
       "      <td>6050.0</td>\n",
       "      <td>1.0</td>\n",
       "    </tr>\n",
       "    <tr>\n",
       "      <th>thetas[5,1]</th>\n",
       "      <td>0.443</td>\n",
       "      <td>0.050</td>\n",
       "      <td>0.353</td>\n",
       "      <td>0.539</td>\n",
       "      <td>0.000</td>\n",
       "      <td>0.000</td>\n",
       "      <td>15522.0</td>\n",
       "      <td>15188.0</td>\n",
       "      <td>15594.0</td>\n",
       "      <td>5973.0</td>\n",
       "      <td>1.0</td>\n",
       "    </tr>\n",
       "    <tr>\n",
       "      <th>thetas[5,2]</th>\n",
       "      <td>0.113</td>\n",
       "      <td>0.032</td>\n",
       "      <td>0.054</td>\n",
       "      <td>0.173</td>\n",
       "      <td>0.000</td>\n",
       "      <td>0.000</td>\n",
       "      <td>16770.0</td>\n",
       "      <td>13482.0</td>\n",
       "      <td>16690.0</td>\n",
       "      <td>6164.0</td>\n",
       "      <td>1.0</td>\n",
       "    </tr>\n",
       "    <tr>\n",
       "      <th>thetas[6,0]</th>\n",
       "      <td>0.504</td>\n",
       "      <td>0.046</td>\n",
       "      <td>0.420</td>\n",
       "      <td>0.588</td>\n",
       "      <td>0.000</td>\n",
       "      <td>0.000</td>\n",
       "      <td>18929.0</td>\n",
       "      <td>18929.0</td>\n",
       "      <td>18917.0</td>\n",
       "      <td>6351.0</td>\n",
       "      <td>1.0</td>\n",
       "    </tr>\n",
       "    <tr>\n",
       "      <th>thetas[6,1]</th>\n",
       "      <td>0.387</td>\n",
       "      <td>0.045</td>\n",
       "      <td>0.307</td>\n",
       "      <td>0.475</td>\n",
       "      <td>0.000</td>\n",
       "      <td>0.000</td>\n",
       "      <td>18815.0</td>\n",
       "      <td>17320.0</td>\n",
       "      <td>19015.0</td>\n",
       "      <td>5639.0</td>\n",
       "      <td>1.0</td>\n",
       "    </tr>\n",
       "    <tr>\n",
       "      <th>thetas[6,2]</th>\n",
       "      <td>0.109</td>\n",
       "      <td>0.029</td>\n",
       "      <td>0.058</td>\n",
       "      <td>0.163</td>\n",
       "      <td>0.000</td>\n",
       "      <td>0.000</td>\n",
       "      <td>18174.0</td>\n",
       "      <td>14221.0</td>\n",
       "      <td>18255.0</td>\n",
       "      <td>5475.0</td>\n",
       "      <td>1.0</td>\n",
       "    </tr>\n",
       "    <tr>\n",
       "      <th>thetas[7,0]</th>\n",
       "      <td>0.547</td>\n",
       "      <td>0.040</td>\n",
       "      <td>0.474</td>\n",
       "      <td>0.622</td>\n",
       "      <td>0.000</td>\n",
       "      <td>0.000</td>\n",
       "      <td>17203.0</td>\n",
       "      <td>16668.0</td>\n",
       "      <td>17181.0</td>\n",
       "      <td>5828.0</td>\n",
       "      <td>1.0</td>\n",
       "    </tr>\n",
       "    <tr>\n",
       "      <th>thetas[7,1]</th>\n",
       "      <td>0.338</td>\n",
       "      <td>0.038</td>\n",
       "      <td>0.267</td>\n",
       "      <td>0.409</td>\n",
       "      <td>0.000</td>\n",
       "      <td>0.000</td>\n",
       "      <td>18076.0</td>\n",
       "      <td>17371.0</td>\n",
       "      <td>18045.0</td>\n",
       "      <td>5747.0</td>\n",
       "      <td>1.0</td>\n",
       "    </tr>\n",
       "    <tr>\n",
       "      <th>thetas[7,2]</th>\n",
       "      <td>0.115</td>\n",
       "      <td>0.025</td>\n",
       "      <td>0.067</td>\n",
       "      <td>0.162</td>\n",
       "      <td>0.000</td>\n",
       "      <td>0.000</td>\n",
       "      <td>19176.0</td>\n",
       "      <td>16501.0</td>\n",
       "      <td>19653.0</td>\n",
       "      <td>5909.0</td>\n",
       "      <td>1.0</td>\n",
       "    </tr>\n",
       "    <tr>\n",
       "      <th>thetas[8,0]</th>\n",
       "      <td>0.542</td>\n",
       "      <td>0.101</td>\n",
       "      <td>0.352</td>\n",
       "      <td>0.728</td>\n",
       "      <td>0.001</td>\n",
       "      <td>0.001</td>\n",
       "      <td>16573.0</td>\n",
       "      <td>15569.0</td>\n",
       "      <td>16523.0</td>\n",
       "      <td>5957.0</td>\n",
       "      <td>1.0</td>\n",
       "    </tr>\n",
       "    <tr>\n",
       "      <th>thetas[8,1]</th>\n",
       "      <td>0.292</td>\n",
       "      <td>0.090</td>\n",
       "      <td>0.140</td>\n",
       "      <td>0.472</td>\n",
       "      <td>0.001</td>\n",
       "      <td>0.001</td>\n",
       "      <td>15467.0</td>\n",
       "      <td>12739.0</td>\n",
       "      <td>15805.0</td>\n",
       "      <td>6123.0</td>\n",
       "      <td>1.0</td>\n",
       "    </tr>\n",
       "    <tr>\n",
       "      <th>thetas[8,2]</th>\n",
       "      <td>0.166</td>\n",
       "      <td>0.075</td>\n",
       "      <td>0.040</td>\n",
       "      <td>0.305</td>\n",
       "      <td>0.001</td>\n",
       "      <td>0.000</td>\n",
       "      <td>16759.0</td>\n",
       "      <td>11344.0</td>\n",
       "      <td>17757.0</td>\n",
       "      <td>6350.0</td>\n",
       "      <td>1.0</td>\n",
       "    </tr>\n",
       "    <tr>\n",
       "      <th>thetas[9,0]</th>\n",
       "      <td>0.465</td>\n",
       "      <td>0.049</td>\n",
       "      <td>0.373</td>\n",
       "      <td>0.555</td>\n",
       "      <td>0.000</td>\n",
       "      <td>0.000</td>\n",
       "      <td>18998.0</td>\n",
       "      <td>18577.0</td>\n",
       "      <td>19001.0</td>\n",
       "      <td>5476.0</td>\n",
       "      <td>1.0</td>\n",
       "    </tr>\n",
       "    <tr>\n",
       "      <th>thetas[9,1]</th>\n",
       "      <td>0.404</td>\n",
       "      <td>0.048</td>\n",
       "      <td>0.318</td>\n",
       "      <td>0.497</td>\n",
       "      <td>0.000</td>\n",
       "      <td>0.000</td>\n",
       "      <td>17674.0</td>\n",
       "      <td>16791.0</td>\n",
       "      <td>17727.0</td>\n",
       "      <td>5982.0</td>\n",
       "      <td>1.0</td>\n",
       "    </tr>\n",
       "    <tr>\n",
       "      <th>thetas[9,2]</th>\n",
       "      <td>0.131</td>\n",
       "      <td>0.034</td>\n",
       "      <td>0.070</td>\n",
       "      <td>0.195</td>\n",
       "      <td>0.000</td>\n",
       "      <td>0.000</td>\n",
       "      <td>17445.0</td>\n",
       "      <td>13987.0</td>\n",
       "      <td>17525.0</td>\n",
       "      <td>5756.0</td>\n",
       "      <td>1.0</td>\n",
       "    </tr>\n",
       "    <tr>\n",
       "      <th>thetas[10,0]</th>\n",
       "      <td>0.510</td>\n",
       "      <td>0.050</td>\n",
       "      <td>0.415</td>\n",
       "      <td>0.604</td>\n",
       "      <td>0.000</td>\n",
       "      <td>0.000</td>\n",
       "      <td>20122.0</td>\n",
       "      <td>19961.0</td>\n",
       "      <td>20138.0</td>\n",
       "      <td>5408.0</td>\n",
       "      <td>1.0</td>\n",
       "    </tr>\n",
       "    <tr>\n",
       "      <th>thetas[10,1]</th>\n",
       "      <td>0.402</td>\n",
       "      <td>0.049</td>\n",
       "      <td>0.312</td>\n",
       "      <td>0.495</td>\n",
       "      <td>0.000</td>\n",
       "      <td>0.000</td>\n",
       "      <td>20196.0</td>\n",
       "      <td>18632.0</td>\n",
       "      <td>20400.0</td>\n",
       "      <td>6184.0</td>\n",
       "      <td>1.0</td>\n",
       "    </tr>\n",
       "    <tr>\n",
       "      <th>thetas[10,2]</th>\n",
       "      <td>0.088</td>\n",
       "      <td>0.028</td>\n",
       "      <td>0.039</td>\n",
       "      <td>0.141</td>\n",
       "      <td>0.000</td>\n",
       "      <td>0.000</td>\n",
       "      <td>20677.0</td>\n",
       "      <td>14266.0</td>\n",
       "      <td>21582.0</td>\n",
       "      <td>5756.0</td>\n",
       "      <td>1.0</td>\n",
       "    </tr>\n",
       "    <tr>\n",
       "      <th>thetas[11,0]</th>\n",
       "      <td>0.552</td>\n",
       "      <td>0.036</td>\n",
       "      <td>0.483</td>\n",
       "      <td>0.618</td>\n",
       "      <td>0.000</td>\n",
       "      <td>0.000</td>\n",
       "      <td>20510.0</td>\n",
       "      <td>20477.0</td>\n",
       "      <td>20558.0</td>\n",
       "      <td>5590.0</td>\n",
       "      <td>1.0</td>\n",
       "    </tr>\n",
       "    <tr>\n",
       "      <th>thetas[11,1]</th>\n",
       "      <td>0.351</td>\n",
       "      <td>0.035</td>\n",
       "      <td>0.282</td>\n",
       "      <td>0.412</td>\n",
       "      <td>0.000</td>\n",
       "      <td>0.000</td>\n",
       "      <td>21991.0</td>\n",
       "      <td>21991.0</td>\n",
       "      <td>22090.0</td>\n",
       "      <td>5983.0</td>\n",
       "      <td>1.0</td>\n",
       "    </tr>\n",
       "    <tr>\n",
       "      <th>thetas[11,2]</th>\n",
       "      <td>0.097</td>\n",
       "      <td>0.022</td>\n",
       "      <td>0.057</td>\n",
       "      <td>0.137</td>\n",
       "      <td>0.000</td>\n",
       "      <td>0.000</td>\n",
       "      <td>20308.0</td>\n",
       "      <td>15929.0</td>\n",
       "      <td>20981.0</td>\n",
       "      <td>5392.0</td>\n",
       "      <td>1.0</td>\n",
       "    </tr>\n",
       "    <tr>\n",
       "      <th>thetas[12,0]</th>\n",
       "      <td>0.488</td>\n",
       "      <td>0.082</td>\n",
       "      <td>0.345</td>\n",
       "      <td>0.652</td>\n",
       "      <td>0.001</td>\n",
       "      <td>0.000</td>\n",
       "      <td>19112.0</td>\n",
       "      <td>17279.0</td>\n",
       "      <td>19025.0</td>\n",
       "      <td>5319.0</td>\n",
       "      <td>1.0</td>\n",
       "    </tr>\n",
       "    <tr>\n",
       "      <th>thetas[12,1]</th>\n",
       "      <td>0.459</td>\n",
       "      <td>0.083</td>\n",
       "      <td>0.300</td>\n",
       "      <td>0.608</td>\n",
       "      <td>0.001</td>\n",
       "      <td>0.000</td>\n",
       "      <td>20378.0</td>\n",
       "      <td>19943.0</td>\n",
       "      <td>20114.0</td>\n",
       "      <td>5941.0</td>\n",
       "      <td>1.0</td>\n",
       "    </tr>\n",
       "    <tr>\n",
       "      <th>thetas[12,2]</th>\n",
       "      <td>0.054</td>\n",
       "      <td>0.037</td>\n",
       "      <td>0.002</td>\n",
       "      <td>0.119</td>\n",
       "      <td>0.000</td>\n",
       "      <td>0.000</td>\n",
       "      <td>15024.0</td>\n",
       "      <td>8410.0</td>\n",
       "      <td>16509.0</td>\n",
       "      <td>5094.0</td>\n",
       "      <td>1.0</td>\n",
       "    </tr>\n",
       "    <tr>\n",
       "      <th>thetas[13,0]</th>\n",
       "      <td>0.524</td>\n",
       "      <td>0.055</td>\n",
       "      <td>0.419</td>\n",
       "      <td>0.624</td>\n",
       "      <td>0.000</td>\n",
       "      <td>0.000</td>\n",
       "      <td>22690.0</td>\n",
       "      <td>22545.0</td>\n",
       "      <td>22757.0</td>\n",
       "      <td>6179.0</td>\n",
       "      <td>1.0</td>\n",
       "    </tr>\n",
       "    <tr>\n",
       "      <th>thetas[13,1]</th>\n",
       "      <td>0.350</td>\n",
       "      <td>0.053</td>\n",
       "      <td>0.248</td>\n",
       "      <td>0.448</td>\n",
       "      <td>0.000</td>\n",
       "      <td>0.000</td>\n",
       "      <td>23034.0</td>\n",
       "      <td>20606.0</td>\n",
       "      <td>23233.0</td>\n",
       "      <td>5930.0</td>\n",
       "      <td>1.0</td>\n",
       "    </tr>\n",
       "    <tr>\n",
       "      <th>thetas[13,2]</th>\n",
       "      <td>0.125</td>\n",
       "      <td>0.037</td>\n",
       "      <td>0.056</td>\n",
       "      <td>0.194</td>\n",
       "      <td>0.000</td>\n",
       "      <td>0.000</td>\n",
       "      <td>18983.0</td>\n",
       "      <td>13364.0</td>\n",
       "      <td>20271.0</td>\n",
       "      <td>5904.0</td>\n",
       "      <td>1.0</td>\n",
       "    </tr>\n",
       "    <tr>\n",
       "      <th>thetas[14,0]</th>\n",
       "      <td>0.535</td>\n",
       "      <td>0.044</td>\n",
       "      <td>0.448</td>\n",
       "      <td>0.614</td>\n",
       "      <td>0.000</td>\n",
       "      <td>0.000</td>\n",
       "      <td>17242.0</td>\n",
       "      <td>17242.0</td>\n",
       "      <td>17152.0</td>\n",
       "      <td>5962.0</td>\n",
       "      <td>1.0</td>\n",
       "    </tr>\n",
       "    <tr>\n",
       "      <th>thetas[14,1]</th>\n",
       "      <td>0.371</td>\n",
       "      <td>0.043</td>\n",
       "      <td>0.297</td>\n",
       "      <td>0.458</td>\n",
       "      <td>0.000</td>\n",
       "      <td>0.000</td>\n",
       "      <td>17314.0</td>\n",
       "      <td>15825.0</td>\n",
       "      <td>17537.0</td>\n",
       "      <td>5855.0</td>\n",
       "      <td>1.0</td>\n",
       "    </tr>\n",
       "    <tr>\n",
       "      <th>thetas[14,2]</th>\n",
       "      <td>0.095</td>\n",
       "      <td>0.026</td>\n",
       "      <td>0.049</td>\n",
       "      <td>0.143</td>\n",
       "      <td>0.000</td>\n",
       "      <td>0.000</td>\n",
       "      <td>17752.0</td>\n",
       "      <td>14755.0</td>\n",
       "      <td>17697.0</td>\n",
       "      <td>5668.0</td>\n",
       "      <td>1.0</td>\n",
       "    </tr>\n",
       "    <tr>\n",
       "      <th>thetas[15,0]</th>\n",
       "      <td>0.547</td>\n",
       "      <td>0.053</td>\n",
       "      <td>0.454</td>\n",
       "      <td>0.650</td>\n",
       "      <td>0.000</td>\n",
       "      <td>0.000</td>\n",
       "      <td>18991.0</td>\n",
       "      <td>18230.0</td>\n",
       "      <td>18964.0</td>\n",
       "      <td>5824.0</td>\n",
       "      <td>1.0</td>\n",
       "    </tr>\n",
       "    <tr>\n",
       "      <th>thetas[15,1]</th>\n",
       "      <td>0.360</td>\n",
       "      <td>0.051</td>\n",
       "      <td>0.265</td>\n",
       "      <td>0.455</td>\n",
       "      <td>0.000</td>\n",
       "      <td>0.000</td>\n",
       "      <td>18835.0</td>\n",
       "      <td>18220.0</td>\n",
       "      <td>18752.0</td>\n",
       "      <td>6254.0</td>\n",
       "      <td>1.0</td>\n",
       "    </tr>\n",
       "    <tr>\n",
       "      <th>thetas[15,2]</th>\n",
       "      <td>0.093</td>\n",
       "      <td>0.031</td>\n",
       "      <td>0.039</td>\n",
       "      <td>0.153</td>\n",
       "      <td>0.000</td>\n",
       "      <td>0.000</td>\n",
       "      <td>17650.0</td>\n",
       "      <td>11649.0</td>\n",
       "      <td>18822.0</td>\n",
       "      <td>5791.0</td>\n",
       "      <td>1.0</td>\n",
       "    </tr>\n",
       "  </tbody>\n",
       "</table>\n",
       "</div>"
      ],
      "text/plain": [
       "               mean     sd  hpd_3%  hpd_97%  mcse_mean  mcse_sd  ess_mean  \\\n",
       "thetas[0,0]   0.300  0.064   0.183    0.424      0.000    0.000   20497.0   \n",
       "thetas[0,1]   0.600  0.068   0.469    0.724      0.000    0.000   18636.0   \n",
       "thetas[0,2]   0.100  0.042   0.029    0.178      0.000    0.000   16683.0   \n",
       "thetas[1,0]   0.490  0.071   0.357    0.621      0.000    0.000   22720.0   \n",
       "thetas[1,1]   0.470  0.071   0.342    0.604      0.000    0.000   20246.0   \n",
       "thetas[1,2]   0.041  0.028   0.001    0.091      0.000    0.000   14038.0   \n",
       "thetas[2,0]   0.465  0.038   0.392    0.533      0.000    0.000   19496.0   \n",
       "thetas[2,1]   0.412  0.037   0.344    0.484      0.000    0.000   17488.0   \n",
       "thetas[2,2]   0.124  0.025   0.078    0.171      0.000    0.000   17151.0   \n",
       "thetas[3,0]   0.459  0.058   0.352    0.567      0.000    0.000   18130.0   \n",
       "thetas[3,1]   0.513  0.058   0.407    0.623      0.000    0.000   17777.0   \n",
       "thetas[3,2]   0.028  0.019   0.001    0.063      0.000    0.000   14917.0   \n",
       "thetas[4,0]   0.400  0.069   0.265    0.525      0.001    0.000   16837.0   \n",
       "thetas[4,1]   0.480  0.070   0.345    0.604      0.001    0.000   16149.0   \n",
       "thetas[4,2]   0.120  0.045   0.045    0.209      0.000    0.000   18531.0   \n",
       "thetas[5,0]   0.443  0.050   0.353    0.541      0.000    0.000   17396.0   \n",
       "thetas[5,1]   0.443  0.050   0.353    0.539      0.000    0.000   15522.0   \n",
       "thetas[5,2]   0.113  0.032   0.054    0.173      0.000    0.000   16770.0   \n",
       "thetas[6,0]   0.504  0.046   0.420    0.588      0.000    0.000   18929.0   \n",
       "thetas[6,1]   0.387  0.045   0.307    0.475      0.000    0.000   18815.0   \n",
       "thetas[6,2]   0.109  0.029   0.058    0.163      0.000    0.000   18174.0   \n",
       "thetas[7,0]   0.547  0.040   0.474    0.622      0.000    0.000   17203.0   \n",
       "thetas[7,1]   0.338  0.038   0.267    0.409      0.000    0.000   18076.0   \n",
       "thetas[7,2]   0.115  0.025   0.067    0.162      0.000    0.000   19176.0   \n",
       "thetas[8,0]   0.542  0.101   0.352    0.728      0.001    0.001   16573.0   \n",
       "thetas[8,1]   0.292  0.090   0.140    0.472      0.001    0.001   15467.0   \n",
       "thetas[8,2]   0.166  0.075   0.040    0.305      0.001    0.000   16759.0   \n",
       "thetas[9,0]   0.465  0.049   0.373    0.555      0.000    0.000   18998.0   \n",
       "thetas[9,1]   0.404  0.048   0.318    0.497      0.000    0.000   17674.0   \n",
       "thetas[9,2]   0.131  0.034   0.070    0.195      0.000    0.000   17445.0   \n",
       "thetas[10,0]  0.510  0.050   0.415    0.604      0.000    0.000   20122.0   \n",
       "thetas[10,1]  0.402  0.049   0.312    0.495      0.000    0.000   20196.0   \n",
       "thetas[10,2]  0.088  0.028   0.039    0.141      0.000    0.000   20677.0   \n",
       "thetas[11,0]  0.552  0.036   0.483    0.618      0.000    0.000   20510.0   \n",
       "thetas[11,1]  0.351  0.035   0.282    0.412      0.000    0.000   21991.0   \n",
       "thetas[11,2]  0.097  0.022   0.057    0.137      0.000    0.000   20308.0   \n",
       "thetas[12,0]  0.488  0.082   0.345    0.652      0.001    0.000   19112.0   \n",
       "thetas[12,1]  0.459  0.083   0.300    0.608      0.001    0.000   20378.0   \n",
       "thetas[12,2]  0.054  0.037   0.002    0.119      0.000    0.000   15024.0   \n",
       "thetas[13,0]  0.524  0.055   0.419    0.624      0.000    0.000   22690.0   \n",
       "thetas[13,1]  0.350  0.053   0.248    0.448      0.000    0.000   23034.0   \n",
       "thetas[13,2]  0.125  0.037   0.056    0.194      0.000    0.000   18983.0   \n",
       "thetas[14,0]  0.535  0.044   0.448    0.614      0.000    0.000   17242.0   \n",
       "thetas[14,1]  0.371  0.043   0.297    0.458      0.000    0.000   17314.0   \n",
       "thetas[14,2]  0.095  0.026   0.049    0.143      0.000    0.000   17752.0   \n",
       "thetas[15,0]  0.547  0.053   0.454    0.650      0.000    0.000   18991.0   \n",
       "thetas[15,1]  0.360  0.051   0.265    0.455      0.000    0.000   18835.0   \n",
       "thetas[15,2]  0.093  0.031   0.039    0.153      0.000    0.000   17650.0   \n",
       "\n",
       "               ess_sd  ess_bulk  ess_tail  r_hat  \n",
       "thetas[0,0]   18033.0   20306.0    5485.0    1.0  \n",
       "thetas[0,1]   17860.0   18527.0    5570.0    1.0  \n",
       "thetas[0,2]   10963.0   17565.0    5671.0    1.0  \n",
       "thetas[1,0]   20814.0   22669.0    5743.0    1.0  \n",
       "thetas[1,1]   19174.0   20256.0    5921.0    1.0  \n",
       "thetas[1,2]    8686.0   13641.0    5593.0    1.0  \n",
       "thetas[2,0]   19331.0   19518.0    5376.0    1.0  \n",
       "thetas[2,1]   17011.0   17509.0    5936.0    1.0  \n",
       "thetas[2,2]   15063.0   17280.0    6015.0    1.0  \n",
       "thetas[3,0]   17764.0   18085.0    5195.0    1.0  \n",
       "thetas[3,1]   17374.0   17775.0    6078.0    1.0  \n",
       "thetas[3,2]    8734.0   16011.0    5999.0    1.0  \n",
       "thetas[4,0]   15776.0   16676.0    5651.0    1.0  \n",
       "thetas[4,1]   15519.0   16101.0    5845.0    1.0  \n",
       "thetas[4,2]   13203.0   18693.0    5873.0    1.0  \n",
       "thetas[5,0]   16985.0   17402.0    6050.0    1.0  \n",
       "thetas[5,1]   15188.0   15594.0    5973.0    1.0  \n",
       "thetas[5,2]   13482.0   16690.0    6164.0    1.0  \n",
       "thetas[6,0]   18929.0   18917.0    6351.0    1.0  \n",
       "thetas[6,1]   17320.0   19015.0    5639.0    1.0  \n",
       "thetas[6,2]   14221.0   18255.0    5475.0    1.0  \n",
       "thetas[7,0]   16668.0   17181.0    5828.0    1.0  \n",
       "thetas[7,1]   17371.0   18045.0    5747.0    1.0  \n",
       "thetas[7,2]   16501.0   19653.0    5909.0    1.0  \n",
       "thetas[8,0]   15569.0   16523.0    5957.0    1.0  \n",
       "thetas[8,1]   12739.0   15805.0    6123.0    1.0  \n",
       "thetas[8,2]   11344.0   17757.0    6350.0    1.0  \n",
       "thetas[9,0]   18577.0   19001.0    5476.0    1.0  \n",
       "thetas[9,1]   16791.0   17727.0    5982.0    1.0  \n",
       "thetas[9,2]   13987.0   17525.0    5756.0    1.0  \n",
       "thetas[10,0]  19961.0   20138.0    5408.0    1.0  \n",
       "thetas[10,1]  18632.0   20400.0    6184.0    1.0  \n",
       "thetas[10,2]  14266.0   21582.0    5756.0    1.0  \n",
       "thetas[11,0]  20477.0   20558.0    5590.0    1.0  \n",
       "thetas[11,1]  21991.0   22090.0    5983.0    1.0  \n",
       "thetas[11,2]  15929.0   20981.0    5392.0    1.0  \n",
       "thetas[12,0]  17279.0   19025.0    5319.0    1.0  \n",
       "thetas[12,1]  19943.0   20114.0    5941.0    1.0  \n",
       "thetas[12,2]   8410.0   16509.0    5094.0    1.0  \n",
       "thetas[13,0]  22545.0   22757.0    6179.0    1.0  \n",
       "thetas[13,1]  20606.0   23233.0    5930.0    1.0  \n",
       "thetas[13,2]  13364.0   20271.0    5904.0    1.0  \n",
       "thetas[14,0]  17242.0   17152.0    5962.0    1.0  \n",
       "thetas[14,1]  15825.0   17537.0    5855.0    1.0  \n",
       "thetas[14,2]  14755.0   17697.0    5668.0    1.0  \n",
       "thetas[15,0]  18230.0   18964.0    5824.0    1.0  \n",
       "thetas[15,1]  18220.0   18752.0    6254.0    1.0  \n",
       "thetas[15,2]  11649.0   18822.0    5791.0    1.0  "
      ]
     },
     "execution_count": 19,
     "metadata": {},
     "output_type": "execute_result"
    }
   ],
   "source": [
    "arviz.summary(trace_1)"
   ]
  },
  {
   "cell_type": "markdown",
   "metadata": {},
   "source": [
    "Now, the goal is to reproduce the figure 8.1 (a)."
   ]
  },
  {
   "cell_type": "code",
   "execution_count": 20,
   "metadata": {},
   "outputs": [
    {
     "name": "stderr",
     "output_type": "stream",
     "text": [
      "100%|██████████| 8000/8000 [00:13<00:00, 587.66it/s]\n"
     ]
    }
   ],
   "source": [
    "with model_non_hiera:\n",
    "    ppc_non_hiera = pm.sample_posterior_predictive(trace_1, var_names=['thetas', 'post'])"
   ]
  },
  {
   "cell_type": "code",
   "execution_count": 21,
   "metadata": {},
   "outputs": [
    {
     "data": {
      "text/plain": [
       "(8000, 16, 3)"
      ]
     },
     "execution_count": 21,
     "metadata": {},
     "output_type": "execute_result"
    }
   ],
   "source": [
    "ppc_non_hiera['thetas'].shape"
   ]
  },
  {
   "cell_type": "markdown",
   "metadata": {},
   "source": [
    "Just check if the column **proportion** (look at the data frame) is equal to what we got."
   ]
  },
  {
   "cell_type": "code",
   "execution_count": 22,
   "metadata": {},
   "outputs": [
    {
     "data": {
      "text/plain": [
       "array([0.03206413, 0.03206413, 0.11523046, 0.04809619, 0.03206413,\n",
       "       0.06513026, 0.08016032, 0.1002004 , 0.01503006, 0.06613226,\n",
       "       0.06813627, 0.12625251, 0.02304609, 0.05310621, 0.08617234,\n",
       "       0.05711423])"
      ]
     },
     "execution_count": 22,
     "metadata": {},
     "output_type": "execute_result"
    }
   ],
   "source": [
    "proportion / np.sum(proportion)"
   ]
  },
  {
   "cell_type": "code",
   "execution_count": 23,
   "metadata": {},
   "outputs": [],
   "source": [
    "diff = []\n",
    "\n",
    "for i in range(16):\n",
    "    result = ppc_non_hiera['thetas'][:, i, 0] - ppc_non_hiera['thetas'][:, i, 1]\n",
    "    diff.append(list(result))"
   ]
  },
  {
   "cell_type": "code",
   "execution_count": 24,
   "metadata": {},
   "outputs": [
    {
     "data": {
      "text/plain": [
       "array([[-0.15934847, -0.3558678 , -0.36340106, ..., -0.40914886,\n",
       "        -0.13256056, -0.18882421],\n",
       "       [ 0.04619461, -0.01816537, -0.09714105, ...,  0.30711543,\n",
       "        -0.24122136, -0.22424189],\n",
       "       [ 0.0744588 , -0.0131596 , -0.00063706, ...,  0.16045235,\n",
       "        -0.05271542,  0.08162244],\n",
       "       ...,\n",
       "       [ 0.21968616,  0.20546796,  0.01871482, ...,  0.24882987,\n",
       "         0.10857277,  0.16821664],\n",
       "       [ 0.16953651,  0.16044884,  0.28627215, ...,  0.19292837,\n",
       "         0.09478497,  0.04568657],\n",
       "       [ 0.17530829,  0.20666844,  0.11741038, ...,  0.22721735,\n",
       "         0.26367063,  0.18835987]])"
      ]
     },
     "execution_count": 24,
     "metadata": {},
     "output_type": "execute_result"
    }
   ],
   "source": [
    "diff = np.asarray(diff)\n",
    "diff"
   ]
  },
  {
   "cell_type": "code",
   "execution_count": 25,
   "metadata": {},
   "outputs": [],
   "source": [
    "result = np.sum(diff.T * proportion / np.sum(proportion), axis=1)"
   ]
  },
  {
   "cell_type": "code",
   "execution_count": 26,
   "metadata": {},
   "outputs": [
    {
     "data": {
      "image/png": "[encoded data removed]",
      "text/plain": [
       "<Figure size 720x432 with 1 Axes>"
      ]
     },
     "metadata": {},
     "output_type": "display_data"
    }
   ],
   "source": [
    "plt.figure(figsize=(10, 6))\n",
    "_, _, _ = plt.hist(result, bins=18, edgecolor='w', density=True)\n",
    "plt.yticks([]);"
   ]
  },
  {
   "cell_type": "markdown",
   "metadata": {},
   "source": [
    "The figure is almost the same!"
   ]
  },
  {
   "cell_type": "markdown",
   "metadata": {},
   "source": [
    "### **Hierarchichal model**"
   ]
  },
  {
   "cell_type": "markdown",
   "metadata": {},
   "source": [
    "The authors are using other parameters, so we need to find the number of people for $\\alpha_{1j}$ and $\\alpha_{2j}$."
   ]
  },
  {
   "cell_type": "code",
   "execution_count": 27,
   "metadata": {},
   "outputs": [
    {
     "name": "stdout",
     "output_type": "stream",
     "text": [
      "[ 42.  45. 146.  68.  41.  84. 104. 129.  19.  84.  90. 165.  32.  68.\n",
      " 113.  76.]\n"
     ]
    }
   ],
   "source": [
    "alpha_2j = np.round((1 - data['other'].to_numpy()) * proportion) #Not a probability as you may see\n",
    "print(alpha_2j)"
   ]
  },
  {
   "cell_type": "code",
   "execution_count": 28,
   "metadata": {},
   "outputs": [
    {
     "name": "stdout",
     "output_type": "stream",
     "text": [
      "[ 15.07572093  23.66648889  88.29653061  32.68517647  20.94704762\n",
      "  47.0275      65.67153846  89.73643411  14.47        51.16178571\n",
      "  55.14501099 111.60316364  17.14475758  46.24016176  73.78419469\n",
      "  49.9215    ]\n"
     ]
    }
   ],
   "source": [
    "alpha_1j = values[:, 0] / (values[:, 0] + values[:, 1]) * proportion #Not a probability as you may see\n",
    "print(alpha_1j)"
   ]
  },
  {
   "cell_type": "code",
   "execution_count": 29,
   "metadata": {},
   "outputs": [
    {
     "name": "stdout",
     "output_type": "stream",
     "text": [
      "[[ 15.  42.]\n",
      " [ 24.  45.]\n",
      " [ 88. 146.]\n",
      " [ 33.  68.]\n",
      " [ 21.  41.]\n",
      " [ 47.  84.]\n",
      " [ 66. 104.]\n",
      " [ 90. 129.]\n",
      " [ 14.  19.]\n",
      " [ 51.  84.]\n",
      " [ 55.  90.]\n",
      " [112. 165.]\n",
      " [ 17.  32.]\n",
      " [ 46.  68.]\n",
      " [ 74. 113.]\n",
      " [ 50.  76.]]\n"
     ]
    }
   ],
   "source": [
    "new_values = np.round(np.stack([alpha_1j, alpha_2j], axis=1))\n",
    "print(new_values)"
   ]
  },
  {
   "cell_type": "code",
   "execution_count": 30,
   "metadata": {},
   "outputs": [],
   "source": [
    "with pm.Model() as model_hier:\n",
    "    \n",
    "    packed_L = pm.LKJCholeskyCov('packed_L', n=2, eta=2., sd_dist=pm.Exponential.dist(1))\n",
    "    L = pm.expand_packed_triangular(2, packed_L)\n",
    "    Sigma = pm.Deterministic('Sigma', L.dot(L.T))\n",
    "\n",
    "    mu = pm.Normal('mu', 0, 0.01, shape=2)\n",
    "#     mu = pm.Uniform('mu', -0.5, 0.5, shape=2)\n",
    "#     mu = pm.Normal('mu', 0., 0.01, shape=2, testval=new_values.mean(axis=0))\n",
    "    beta = pm.MvNormal('beta', mu=mu, chol=L, shape=(16, 2))\n",
    "    \n",
    "    alpha = tt.nnet.softmax(beta)\n",
    "    \n",
    "#     alphas = pm.Dirichlet('alphas', a=alpha, shape=(16, 2))\n",
    "\n",
    "    post = pm.Multinomial('post', n=np.sum(new_values, axis=1), p=alpha, observed=new_values)"
   ]
  },
  {
   "cell_type": "code",
   "execution_count": 31,
   "metadata": {},
   "outputs": [
    {
     "data": {
      "text/plain": [
       "packed_L_cholesky-cov-packed__     -1.71\n",
       "mu                                  7.37\n",
       "beta                              -29.41\n",
       "post                             -105.64\n",
       "Name: Log-probability of test_point, dtype: float64"
      ]
     },
     "execution_count": 31,
     "metadata": {},
     "output_type": "execute_result"
    }
   ],
   "source": [
    "model_hier.check_test_point()"
   ]
  },
  {
   "cell_type": "code",
   "execution_count": 32,
   "metadata": {},
   "outputs": [
    {
     "data": {
      "image/svg+xml": [
       "<?xml version=\"1.0\" encoding=\"UTF-8\" standalone=\"no\"?>\n",
       "<!DOCTYPE svg PUBLIC \"-//W3C//DTD SVG 1.1//EN\"\n",
       " \"http://www.w3.org/Graphics/SVG/1.1/DTD/svg11.dtd\">\n",
       "<!-- Generated by graphviz version 2.40.1 (20161225.0304)\n",
       " -->\n",
       "<!-- Title: %3 Pages: 1 -->\n",
       "<svg width=\"420pt\" height=\"257pt\"\n",
       " viewBox=\"0.00 0.00 420.00 257.00\" xmlns=\"http://www.w3.org/2000/svg\" xmlns:xlink=\"http://www.w3.org/1999/xlink\">\n",
       "<g id=\"graph0\" class=\"graph\" transform=\"scale(1 1) rotate(0) translate(4 253)\">\n",
       "<title>%3</title>\n",
       "<polygon fill=\"#ffffff\" stroke=\"transparent\" points=\"-4,4 -4,-253 416,-253 416,4 -4,4\"/>\n",
       "<g id=\"clust1\" class=\"cluster\">\n",
       "<title>cluster3</title>\n",
       "<path fill=\"none\" stroke=\"#000000\" d=\"M20,-166C20,-166 248,-166 248,-166 254,-166 260,-172 260,-178 260,-178 260,-229 260,-229 260,-235 254,-241 248,-241 248,-241 20,-241 20,-241 14,-241 8,-235 8,-229 8,-229 8,-178 8,-178 8,-172 14,-166 20,-166\"/>\n",
       "<text text-anchor=\"middle\" x=\"248.5\" y=\"-173.8\" font-family=\"Times,serif\" font-size=\"14.00\" fill=\"#000000\">3</text>\n",
       "</g>\n",
       "<g id=\"clust2\" class=\"cluster\">\n",
       "<title>cluster2 x 2</title>\n",
       "<path fill=\"none\" stroke=\"#000000\" d=\"M67,-83C67,-83 201,-83 201,-83 207,-83 213,-89 213,-95 213,-95 213,-146 213,-146 213,-152 207,-158 201,-158 201,-158 67,-158 67,-158 61,-158 55,-152 55,-146 55,-146 55,-95 55,-95 55,-89 61,-83 67,-83\"/>\n",
       "<text text-anchor=\"middle\" x=\"191\" y=\"-90.8\" font-family=\"Times,serif\" font-size=\"14.00\" fill=\"#000000\">2 x 2</text>\n",
       "</g>\n",
       "<g id=\"clust3\" class=\"cluster\">\n",
       "<title>cluster2</title>\n",
       "<path fill=\"none\" stroke=\"#000000\" d=\"M280,-166C280,-166 392,-166 392,-166 398,-166 404,-172 404,-178 404,-178 404,-229 404,-229 404,-235 398,-241 392,-241 392,-241 280,-241 280,-241 274,-241 268,-235 268,-229 268,-229 268,-178 268,-178 268,-172 274,-166 280,-166\"/>\n",
       "<text text-anchor=\"middle\" x=\"392.5\" y=\"-173.8\" font-family=\"Times,serif\" font-size=\"14.00\" fill=\"#000000\">2</text>\n",
       "</g>\n",
       "<g id=\"clust4\" class=\"cluster\">\n",
       "<title>cluster16 x 2</title>\n",
       "<path fill=\"none\" stroke=\"#000000\" d=\"M236,-8C236,-8 388,-8 388,-8 394,-8 400,-14 400,-20 400,-20 400,-146 400,-146 400,-152 394,-158 388,-158 388,-158 236,-158 236,-158 230,-158 224,-152 224,-146 224,-146 224,-20 224,-20 224,-14 230,-8 236,-8\"/>\n",
       "<text text-anchor=\"middle\" x=\"374.5\" y=\"-15.8\" font-family=\"Times,serif\" font-size=\"14.00\" fill=\"#000000\">16 x 2</text>\n",
       "</g>\n",
       "<!-- packed_L -->\n",
       "<g id=\"node1\" class=\"node\">\n",
       "<title>packed_L</title>\n",
       "<ellipse fill=\"none\" stroke=\"#000000\" cx=\"134\" cy=\"-215\" rx=\"118.0794\" ry=\"18\"/>\n",
       "<text text-anchor=\"middle\" x=\"134\" y=\"-211.3\" font-family=\"Times,serif\" font-size=\"14.00\" fill=\"#000000\">packed_L ~ LKJCholeskyCov</text>\n",
       "</g>\n",
       "<!-- Sigma -->\n",
       "<g id=\"node2\" class=\"node\">\n",
       "<title>Sigma</title>\n",
       "<polygon fill=\"none\" stroke=\"#000000\" points=\"204.5,-150 63.5,-150 63.5,-114 204.5,-114 204.5,-150\"/>\n",
       "<text text-anchor=\"middle\" x=\"134\" y=\"-128.3\" font-family=\"Times,serif\" font-size=\"14.00\" fill=\"#000000\">Sigma ~ Deterministic</text>\n",
       "</g>\n",
       "<!-- packed_L&#45;&gt;Sigma -->\n",
       "<g id=\"edge1\" class=\"edge\">\n",
       "<title>packed_L&#45;&gt;Sigma</title>\n",
       "<path fill=\"none\" stroke=\"#000000\" d=\"M134,-196.9902C134,-186.2963 134,-172.4994 134,-160.3706\"/>\n",
       "<polygon fill=\"#000000\" stroke=\"#000000\" points=\"137.5001,-160.2612 134,-150.2612 130.5001,-160.2613 137.5001,-160.2612\"/>\n",
       "</g>\n",
       "<!-- beta -->\n",
       "<g id=\"node5\" class=\"node\">\n",
       "<title>beta</title>\n",
       "<ellipse fill=\"none\" stroke=\"#000000\" cx=\"312\" cy=\"-132\" rx=\"75.2868\" ry=\"18\"/>\n",
       "<text text-anchor=\"middle\" x=\"312\" y=\"-128.3\" font-family=\"Times,serif\" font-size=\"14.00\" fill=\"#000000\">beta ~ MvNormal</text>\n",
       "</g>\n",
       "<!-- packed_L&#45;&gt;beta -->\n",
       "<g id=\"edge3\" class=\"edge\">\n",
       "<title>packed_L&#45;&gt;beta</title>\n",
       "<path fill=\"none\" stroke=\"#000000\" d=\"M170.8817,-197.8023C199.1827,-184.6058 238.3396,-166.3473 268.2281,-152.4105\"/>\n",
       "<polygon fill=\"#000000\" stroke=\"#000000\" points=\"269.9969,-155.4476 277.5809,-148.0493 267.0386,-149.1034 269.9969,-155.4476\"/>\n",
       "</g>\n",
       "<!-- mu -->\n",
       "<g id=\"node3\" class=\"node\">\n",
       "<title>mu</title>\n",
       "<ellipse fill=\"none\" stroke=\"#000000\" cx=\"336\" cy=\"-215\" rx=\"59.5901\" ry=\"18\"/>\n",
       "<text text-anchor=\"middle\" x=\"336\" y=\"-211.3\" font-family=\"Times,serif\" font-size=\"14.00\" fill=\"#000000\">mu ~ Normal</text>\n",
       "</g>\n",
       "<!-- mu&#45;&gt;beta -->\n",
       "<g id=\"edge2\" class=\"edge\">\n",
       "<title>mu&#45;&gt;beta</title>\n",
       "<path fill=\"none\" stroke=\"#000000\" d=\"M330.7924,-196.9902C327.6474,-186.1138 323.5742,-172.0276 320.0244,-159.7511\"/>\n",
       "<polygon fill=\"#000000\" stroke=\"#000000\" points=\"323.3376,-158.6088 317.1975,-149.9746 316.6131,-160.5533 323.3376,-158.6088\"/>\n",
       "</g>\n",
       "<!-- post -->\n",
       "<g id=\"node4\" class=\"node\">\n",
       "<title>post</title>\n",
       "<ellipse fill=\"#d3d3d3\" stroke=\"#000000\" cx=\"312\" cy=\"-57\" rx=\"79.8859\" ry=\"18\"/>\n",
       "<text text-anchor=\"middle\" x=\"312\" y=\"-53.3\" font-family=\"Times,serif\" font-size=\"14.00\" fill=\"#000000\">post ~ Multinomial</text>\n",
       "</g>\n",
       "<!-- beta&#45;&gt;post -->\n",
       "<g id=\"edge4\" class=\"edge\">\n",
       "<title>beta&#45;&gt;post</title>\n",
       "<path fill=\"none\" stroke=\"#000000\" d=\"M312,-113.8446C312,-105.3401 312,-95.0076 312,-85.4964\"/>\n",
       "<polygon fill=\"#000000\" stroke=\"#000000\" points=\"315.5001,-85.2481 312,-75.2482 308.5001,-85.2482 315.5001,-85.2481\"/>\n",
       "</g>\n",
       "</g>\n",
       "</svg>\n"
      ],
      "text/plain": [
       "<graphviz.dot.Digraph at 0x7f21fa7053d0>"
      ]
     },
     "execution_count": 32,
     "metadata": {},
     "output_type": "execute_result"
    }
   ],
   "source": [
    "pm.model_to_graphviz(model_hier)"
   ]
  },
  {
   "cell_type": "code",
   "execution_count": 33,
   "metadata": {},
   "outputs": [],
   "source": [
    "with model_hier:\n",
    "    prior_sample = pm.sample_prior_predictive(samples=5_000)"
   ]
  },
  {
   "cell_type": "code",
   "execution_count": 34,
   "metadata": {},
   "outputs": [
    {
     "data": {
      "image/png": "[encoded data removed]",
      "text/plain": [
       "<Figure size 576x432 with 1 Axes>"
      ]
     },
     "metadata": {},
     "output_type": "display_data"
    }
   ],
   "source": [
    "plt.figure(figsize=(8, 6))\n",
    "plt.plot(\n",
    "    prior_sample['mu'][:, 0], \n",
    "    prior_sample['mu'][:, 1], 'o', color='C7', alpha=0.8);"
   ]
  },
  {
   "cell_type": "code",
   "execution_count": 35,
   "metadata": {},
   "outputs": [
    {
     "data": {
      "image/png": "[encoded data removed]",
      "text/plain": [
       "<Figure size 576x432 with 1 Axes>"
      ]
     },
     "metadata": {},
     "output_type": "display_data"
    }
   ],
   "source": [
    "plt.figure(figsize=(8, 6))\n",
    "plt.plot(\n",
    "    prior_sample['beta'][:, 0], \n",
    "    prior_sample['beta'][:, 1], 'o', alpha=0.4);"
   ]
  },
  {
   "cell_type": "code",
   "execution_count": 36,
   "metadata": {},
   "outputs": [
    {
     "data": {
      "text/plain": [
       "array([0.04234814, 0.42735343, 0.71620506, ..., 0.77613368, 0.98830831,\n",
       "       0.56861496])"
      ]
     },
     "execution_count": 36,
     "metadata": {},
     "output_type": "execute_result"
    }
   ],
   "source": [
    "softmax(prior_sample['beta'], axis=1)[:, 0]"
   ]
  },
  {
   "cell_type": "code",
   "execution_count": 37,
   "metadata": {},
   "outputs": [
    {
     "data": {
      "image/png": "[encoded data removed]",
      "text/plain": [
       "<Figure size 576x432 with 1 Axes>"
      ]
     },
     "metadata": {},
     "output_type": "display_data"
    }
   ],
   "source": [
    "plt.figure(figsize=(8, 6))\n",
    "plt.plot(\n",
    "    softmax(prior_sample['beta'], axis=1)[:, 0],\n",
    "    softmax(prior_sample['beta'], axis=1)[:, 1], 'o', color='xkcd:bluey purple', alpha=0.4);"
   ]
  },
  {
   "cell_type": "code",
   "execution_count": 39,
   "metadata": {},
   "outputs": [
    {
     "name": "stderr",
     "output_type": "stream",
     "text": [
      "Auto-assigning NUTS sampler...\n",
      "Initializing NUTS using jitter+adapt_diag...\n",
      "Multiprocess sampling (4 chains in 4 jobs)\n",
      "NUTS: [beta, mu, packed_L]\n",
      "Sampling 4 chains, 25 divergences: 100%|██████████| 16000/16000 [02:22<00:00, 112.56draws/s]\n",
      "There were 10 divergences after tuning. Increase `target_accept` or reparameterize.\n",
      "There were 3 divergences after tuning. Increase `target_accept` or reparameterize.\n",
      "There was 1 divergence after tuning. Increase `target_accept` or reparameterize.\n",
      "There were 11 divergences after tuning. Increase `target_accept` or reparameterize.\n",
      "The number of effective samples is smaller than 10% for some parameters.\n"
     ]
    }
   ],
   "source": [
    "with model_hier:\n",
    "    trace_2 = pm.sample(draws=1_000, tune=3_000, target_accept=0.9)"
   ]
  },
  {
   "cell_type": "code",
   "execution_count": 40,
   "metadata": {},
   "outputs": [
    {
     "data": {
      "text/html": [
       "<div>\n",
       "<style scoped>\n",
       "    .dataframe tbody tr th:only-of-type {\n",
       "        vertical-align: middle;\n",
       "    }\n",
       "\n",
       "    .dataframe tbody tr th {\n",
       "        vertical-align: top;\n",
       "    }\n",
       "\n",
       "    .dataframe thead th {\n",
       "        text-align: right;\n",
       "    }\n",
       "</style>\n",
       "<table border=\"1\" class=\"dataframe\">\n",
       "  <thead>\n",
       "    <tr style=\"text-align: right;\">\n",
       "      <th></th>\n",
       "      <th>mean</th>\n",
       "      <th>sd</th>\n",
       "      <th>hpd_3%</th>\n",
       "      <th>hpd_97%</th>\n",
       "      <th>mcse_mean</th>\n",
       "      <th>mcse_sd</th>\n",
       "      <th>ess_mean</th>\n",
       "      <th>ess_sd</th>\n",
       "      <th>ess_bulk</th>\n",
       "      <th>ess_tail</th>\n",
       "      <th>r_hat</th>\n",
       "    </tr>\n",
       "  </thead>\n",
       "  <tbody>\n",
       "    <tr>\n",
       "      <th>mu[0]</th>\n",
       "      <td>-0.003</td>\n",
       "      <td>0.010</td>\n",
       "      <td>-0.021</td>\n",
       "      <td>0.017</td>\n",
       "      <td>0.000</td>\n",
       "      <td>0.000</td>\n",
       "      <td>3533.0</td>\n",
       "      <td>1681.0</td>\n",
       "      <td>3543.0</td>\n",
       "      <td>2350.0</td>\n",
       "      <td>1.00</td>\n",
       "    </tr>\n",
       "    <tr>\n",
       "      <th>mu[1]</th>\n",
       "      <td>0.003</td>\n",
       "      <td>0.010</td>\n",
       "      <td>-0.016</td>\n",
       "      <td>0.020</td>\n",
       "      <td>0.000</td>\n",
       "      <td>0.000</td>\n",
       "      <td>3294.0</td>\n",
       "      <td>1741.0</td>\n",
       "      <td>3281.0</td>\n",
       "      <td>2303.0</td>\n",
       "      <td>1.00</td>\n",
       "    </tr>\n",
       "    <tr>\n",
       "      <th>beta[0,0]</th>\n",
       "      <td>-0.372</td>\n",
       "      <td>0.480</td>\n",
       "      <td>-1.270</td>\n",
       "      <td>0.452</td>\n",
       "      <td>0.020</td>\n",
       "      <td>0.014</td>\n",
       "      <td>565.0</td>\n",
       "      <td>565.0</td>\n",
       "      <td>523.0</td>\n",
       "      <td>1525.0</td>\n",
       "      <td>1.00</td>\n",
       "    </tr>\n",
       "    <tr>\n",
       "      <th>beta[0,1]</th>\n",
       "      <td>0.433</td>\n",
       "      <td>0.483</td>\n",
       "      <td>-0.306</td>\n",
       "      <td>1.390</td>\n",
       "      <td>0.020</td>\n",
       "      <td>0.014</td>\n",
       "      <td>589.0</td>\n",
       "      <td>589.0</td>\n",
       "      <td>530.0</td>\n",
       "      <td>1442.0</td>\n",
       "      <td>1.00</td>\n",
       "    </tr>\n",
       "    <tr>\n",
       "      <th>beta[1,0]</th>\n",
       "      <td>-0.236</td>\n",
       "      <td>0.379</td>\n",
       "      <td>-0.968</td>\n",
       "      <td>0.397</td>\n",
       "      <td>0.012</td>\n",
       "      <td>0.009</td>\n",
       "      <td>957.0</td>\n",
       "      <td>957.0</td>\n",
       "      <td>806.0</td>\n",
       "      <td>1425.0</td>\n",
       "      <td>1.00</td>\n",
       "    </tr>\n",
       "    <tr>\n",
       "      <th>beta[1,1]</th>\n",
       "      <td>0.288</td>\n",
       "      <td>0.390</td>\n",
       "      <td>-0.347</td>\n",
       "      <td>1.037</td>\n",
       "      <td>0.012</td>\n",
       "      <td>0.009</td>\n",
       "      <td>986.0</td>\n",
       "      <td>913.0</td>\n",
       "      <td>824.0</td>\n",
       "      <td>1919.0</td>\n",
       "      <td>1.00</td>\n",
       "    </tr>\n",
       "    <tr>\n",
       "      <th>beta[2,0]</th>\n",
       "      <td>-0.221</td>\n",
       "      <td>0.361</td>\n",
       "      <td>-0.945</td>\n",
       "      <td>0.406</td>\n",
       "      <td>0.012</td>\n",
       "      <td>0.009</td>\n",
       "      <td>945.0</td>\n",
       "      <td>816.0</td>\n",
       "      <td>774.0</td>\n",
       "      <td>1455.0</td>\n",
       "      <td>1.00</td>\n",
       "    </tr>\n",
       "    <tr>\n",
       "      <th>beta[2,1]</th>\n",
       "      <td>0.257</td>\n",
       "      <td>0.364</td>\n",
       "      <td>-0.421</td>\n",
       "      <td>0.924</td>\n",
       "      <td>0.011</td>\n",
       "      <td>0.008</td>\n",
       "      <td>1009.0</td>\n",
       "      <td>1009.0</td>\n",
       "      <td>808.0</td>\n",
       "      <td>1342.0</td>\n",
       "      <td>1.00</td>\n",
       "    </tr>\n",
       "    <tr>\n",
       "      <th>beta[3,0]</th>\n",
       "      <td>-0.292</td>\n",
       "      <td>0.409</td>\n",
       "      <td>-1.082</td>\n",
       "      <td>0.383</td>\n",
       "      <td>0.016</td>\n",
       "      <td>0.012</td>\n",
       "      <td>631.0</td>\n",
       "      <td>631.0</td>\n",
       "      <td>547.0</td>\n",
       "      <td>1321.0</td>\n",
       "      <td>1.00</td>\n",
       "    </tr>\n",
       "    <tr>\n",
       "      <th>beta[3,1]</th>\n",
       "      <td>0.334</td>\n",
       "      <td>0.413</td>\n",
       "      <td>-0.392</td>\n",
       "      <td>1.090</td>\n",
       "      <td>0.016</td>\n",
       "      <td>0.012</td>\n",
       "      <td>632.0</td>\n",
       "      <td>632.0</td>\n",
       "      <td>542.0</td>\n",
       "      <td>1000.0</td>\n",
       "      <td>1.00</td>\n",
       "    </tr>\n",
       "    <tr>\n",
       "      <th>beta[4,0]</th>\n",
       "      <td>-0.252</td>\n",
       "      <td>0.411</td>\n",
       "      <td>-1.120</td>\n",
       "      <td>0.399</td>\n",
       "      <td>0.013</td>\n",
       "      <td>0.010</td>\n",
       "      <td>941.0</td>\n",
       "      <td>803.0</td>\n",
       "      <td>791.0</td>\n",
       "      <td>1507.0</td>\n",
       "      <td>1.00</td>\n",
       "    </tr>\n",
       "    <tr>\n",
       "      <th>beta[4,1]</th>\n",
       "      <td>0.293</td>\n",
       "      <td>0.417</td>\n",
       "      <td>-0.469</td>\n",
       "      <td>1.056</td>\n",
       "      <td>0.014</td>\n",
       "      <td>0.010</td>\n",
       "      <td>924.0</td>\n",
       "      <td>841.0</td>\n",
       "      <td>759.0</td>\n",
       "      <td>1306.0</td>\n",
       "      <td>1.00</td>\n",
       "    </tr>\n",
       "    <tr>\n",
       "      <th>beta[5,0]</th>\n",
       "      <td>-0.236</td>\n",
       "      <td>0.376</td>\n",
       "      <td>-0.941</td>\n",
       "      <td>0.425</td>\n",
       "      <td>0.013</td>\n",
       "      <td>0.010</td>\n",
       "      <td>839.0</td>\n",
       "      <td>770.0</td>\n",
       "      <td>711.0</td>\n",
       "      <td>1720.0</td>\n",
       "      <td>1.00</td>\n",
       "    </tr>\n",
       "    <tr>\n",
       "      <th>beta[5,1]</th>\n",
       "      <td>0.286</td>\n",
       "      <td>0.382</td>\n",
       "      <td>-0.394</td>\n",
       "      <td>1.001</td>\n",
       "      <td>0.012</td>\n",
       "      <td>0.009</td>\n",
       "      <td>944.0</td>\n",
       "      <td>944.0</td>\n",
       "      <td>770.0</td>\n",
       "      <td>1433.0</td>\n",
       "      <td>1.00</td>\n",
       "    </tr>\n",
       "    <tr>\n",
       "      <th>beta[6,0]</th>\n",
       "      <td>-0.188</td>\n",
       "      <td>0.374</td>\n",
       "      <td>-0.919</td>\n",
       "      <td>0.435</td>\n",
       "      <td>0.011</td>\n",
       "      <td>0.009</td>\n",
       "      <td>1252.0</td>\n",
       "      <td>937.0</td>\n",
       "      <td>841.0</td>\n",
       "      <td>1179.0</td>\n",
       "      <td>1.00</td>\n",
       "    </tr>\n",
       "    <tr>\n",
       "      <th>beta[6,1]</th>\n",
       "      <td>0.232</td>\n",
       "      <td>0.373</td>\n",
       "      <td>-0.428</td>\n",
       "      <td>0.884</td>\n",
       "      <td>0.010</td>\n",
       "      <td>0.008</td>\n",
       "      <td>1340.0</td>\n",
       "      <td>1058.0</td>\n",
       "      <td>911.0</td>\n",
       "      <td>1067.0</td>\n",
       "      <td>1.01</td>\n",
       "    </tr>\n",
       "    <tr>\n",
       "      <th>beta[7,0]</th>\n",
       "      <td>-0.158</td>\n",
       "      <td>0.323</td>\n",
       "      <td>-0.828</td>\n",
       "      <td>0.421</td>\n",
       "      <td>0.009</td>\n",
       "      <td>0.009</td>\n",
       "      <td>1254.0</td>\n",
       "      <td>627.0</td>\n",
       "      <td>977.0</td>\n",
       "      <td>1360.0</td>\n",
       "      <td>1.01</td>\n",
       "    </tr>\n",
       "    <tr>\n",
       "      <th>beta[7,1]</th>\n",
       "      <td>0.178</td>\n",
       "      <td>0.328</td>\n",
       "      <td>-0.407</td>\n",
       "      <td>0.827</td>\n",
       "      <td>0.009</td>\n",
       "      <td>0.008</td>\n",
       "      <td>1196.0</td>\n",
       "      <td>772.0</td>\n",
       "      <td>959.0</td>\n",
       "      <td>1040.0</td>\n",
       "      <td>1.01</td>\n",
       "    </tr>\n",
       "    <tr>\n",
       "      <th>beta[8,0]</th>\n",
       "      <td>-0.098</td>\n",
       "      <td>0.349</td>\n",
       "      <td>-0.839</td>\n",
       "      <td>0.533</td>\n",
       "      <td>0.007</td>\n",
       "      <td>0.008</td>\n",
       "      <td>2800.0</td>\n",
       "      <td>867.0</td>\n",
       "      <td>2561.0</td>\n",
       "      <td>1591.0</td>\n",
       "      <td>1.01</td>\n",
       "    </tr>\n",
       "    <tr>\n",
       "      <th>beta[8,1]</th>\n",
       "      <td>0.114</td>\n",
       "      <td>0.359</td>\n",
       "      <td>-0.592</td>\n",
       "      <td>0.803</td>\n",
       "      <td>0.006</td>\n",
       "      <td>0.008</td>\n",
       "      <td>3135.0</td>\n",
       "      <td>905.0</td>\n",
       "      <td>2767.0</td>\n",
       "      <td>1468.0</td>\n",
       "      <td>1.01</td>\n",
       "    </tr>\n",
       "    <tr>\n",
       "      <th>beta[9,0]</th>\n",
       "      <td>-0.202</td>\n",
       "      <td>0.375</td>\n",
       "      <td>-0.926</td>\n",
       "      <td>0.443</td>\n",
       "      <td>0.011</td>\n",
       "      <td>0.009</td>\n",
       "      <td>1069.0</td>\n",
       "      <td>905.0</td>\n",
       "      <td>800.0</td>\n",
       "      <td>1129.0</td>\n",
       "      <td>1.00</td>\n",
       "    </tr>\n",
       "    <tr>\n",
       "      <th>beta[9,1]</th>\n",
       "      <td>0.249</td>\n",
       "      <td>0.379</td>\n",
       "      <td>-0.493</td>\n",
       "      <td>0.901</td>\n",
       "      <td>0.011</td>\n",
       "      <td>0.008</td>\n",
       "      <td>1172.0</td>\n",
       "      <td>1025.0</td>\n",
       "      <td>889.0</td>\n",
       "      <td>1666.0</td>\n",
       "      <td>1.01</td>\n",
       "    </tr>\n",
       "    <tr>\n",
       "      <th>beta[10,0]</th>\n",
       "      <td>-0.200</td>\n",
       "      <td>0.365</td>\n",
       "      <td>-0.939</td>\n",
       "      <td>0.405</td>\n",
       "      <td>0.011</td>\n",
       "      <td>0.008</td>\n",
       "      <td>1099.0</td>\n",
       "      <td>1099.0</td>\n",
       "      <td>800.0</td>\n",
       "      <td>1393.0</td>\n",
       "      <td>1.00</td>\n",
       "    </tr>\n",
       "    <tr>\n",
       "      <th>beta[10,1]</th>\n",
       "      <td>0.247</td>\n",
       "      <td>0.367</td>\n",
       "      <td>-0.438</td>\n",
       "      <td>0.927</td>\n",
       "      <td>0.011</td>\n",
       "      <td>0.008</td>\n",
       "      <td>1151.0</td>\n",
       "      <td>1151.0</td>\n",
       "      <td>812.0</td>\n",
       "      <td>1470.0</td>\n",
       "      <td>1.00</td>\n",
       "    </tr>\n",
       "    <tr>\n",
       "      <th>beta[11,0]</th>\n",
       "      <td>-0.167</td>\n",
       "      <td>0.324</td>\n",
       "      <td>-0.821</td>\n",
       "      <td>0.389</td>\n",
       "      <td>0.010</td>\n",
       "      <td>0.008</td>\n",
       "      <td>1155.0</td>\n",
       "      <td>790.0</td>\n",
       "      <td>893.0</td>\n",
       "      <td>1059.0</td>\n",
       "      <td>1.00</td>\n",
       "    </tr>\n",
       "    <tr>\n",
       "      <th>beta[11,1]</th>\n",
       "      <td>0.201</td>\n",
       "      <td>0.328</td>\n",
       "      <td>-0.459</td>\n",
       "      <td>0.796</td>\n",
       "      <td>0.010</td>\n",
       "      <td>0.008</td>\n",
       "      <td>1101.0</td>\n",
       "      <td>865.0</td>\n",
       "      <td>869.0</td>\n",
       "      <td>982.0</td>\n",
       "      <td>1.01</td>\n",
       "    </tr>\n",
       "    <tr>\n",
       "      <th>beta[12,0]</th>\n",
       "      <td>-0.216</td>\n",
       "      <td>0.386</td>\n",
       "      <td>-0.987</td>\n",
       "      <td>0.492</td>\n",
       "      <td>0.012</td>\n",
       "      <td>0.009</td>\n",
       "      <td>1073.0</td>\n",
       "      <td>944.0</td>\n",
       "      <td>894.0</td>\n",
       "      <td>1619.0</td>\n",
       "      <td>1.00</td>\n",
       "    </tr>\n",
       "    <tr>\n",
       "      <th>beta[12,1]</th>\n",
       "      <td>0.266</td>\n",
       "      <td>0.392</td>\n",
       "      <td>-0.474</td>\n",
       "      <td>1.015</td>\n",
       "      <td>0.012</td>\n",
       "      <td>0.009</td>\n",
       "      <td>1024.0</td>\n",
       "      <td>1024.0</td>\n",
       "      <td>856.0</td>\n",
       "      <td>1663.0</td>\n",
       "      <td>1.00</td>\n",
       "    </tr>\n",
       "    <tr>\n",
       "      <th>beta[13,0]</th>\n",
       "      <td>-0.158</td>\n",
       "      <td>0.338</td>\n",
       "      <td>-0.838</td>\n",
       "      <td>0.449</td>\n",
       "      <td>0.009</td>\n",
       "      <td>0.007</td>\n",
       "      <td>1427.0</td>\n",
       "      <td>1034.0</td>\n",
       "      <td>1024.0</td>\n",
       "      <td>1504.0</td>\n",
       "      <td>1.00</td>\n",
       "    </tr>\n",
       "    <tr>\n",
       "      <th>beta[13,1]</th>\n",
       "      <td>0.193</td>\n",
       "      <td>0.343</td>\n",
       "      <td>-0.471</td>\n",
       "      <td>0.817</td>\n",
       "      <td>0.009</td>\n",
       "      <td>0.008</td>\n",
       "      <td>1458.0</td>\n",
       "      <td>1001.0</td>\n",
       "      <td>1175.0</td>\n",
       "      <td>1462.0</td>\n",
       "      <td>1.00</td>\n",
       "    </tr>\n",
       "    <tr>\n",
       "      <th>beta[14,0]</th>\n",
       "      <td>-0.172</td>\n",
       "      <td>0.341</td>\n",
       "      <td>-0.829</td>\n",
       "      <td>0.450</td>\n",
       "      <td>0.009</td>\n",
       "      <td>0.009</td>\n",
       "      <td>1339.0</td>\n",
       "      <td>786.0</td>\n",
       "      <td>956.0</td>\n",
       "      <td>1704.0</td>\n",
       "      <td>1.00</td>\n",
       "    </tr>\n",
       "    <tr>\n",
       "      <th>beta[14,1]</th>\n",
       "      <td>0.219</td>\n",
       "      <td>0.342</td>\n",
       "      <td>-0.390</td>\n",
       "      <td>0.870</td>\n",
       "      <td>0.009</td>\n",
       "      <td>0.009</td>\n",
       "      <td>1316.0</td>\n",
       "      <td>763.0</td>\n",
       "      <td>997.0</td>\n",
       "      <td>1565.0</td>\n",
       "      <td>1.00</td>\n",
       "    </tr>\n",
       "    <tr>\n",
       "      <th>beta[15,0]</th>\n",
       "      <td>-0.169</td>\n",
       "      <td>0.338</td>\n",
       "      <td>-0.858</td>\n",
       "      <td>0.407</td>\n",
       "      <td>0.010</td>\n",
       "      <td>0.008</td>\n",
       "      <td>1157.0</td>\n",
       "      <td>872.0</td>\n",
       "      <td>936.0</td>\n",
       "      <td>1369.0</td>\n",
       "      <td>1.01</td>\n",
       "    </tr>\n",
       "    <tr>\n",
       "      <th>beta[15,1]</th>\n",
       "      <td>0.209</td>\n",
       "      <td>0.342</td>\n",
       "      <td>-0.372</td>\n",
       "      <td>0.876</td>\n",
       "      <td>0.010</td>\n",
       "      <td>0.008</td>\n",
       "      <td>1155.0</td>\n",
       "      <td>860.0</td>\n",
       "      <td>938.0</td>\n",
       "      <td>1515.0</td>\n",
       "      <td>1.01</td>\n",
       "    </tr>\n",
       "  </tbody>\n",
       "</table>\n",
       "</div>"
      ],
      "text/plain": [
       "             mean     sd  hpd_3%  hpd_97%  mcse_mean  mcse_sd  ess_mean  \\\n",
       "mu[0]      -0.003  0.010  -0.021    0.017      0.000    0.000    3533.0   \n",
       "mu[1]       0.003  0.010  -0.016    0.020      0.000    0.000    3294.0   \n",
       "beta[0,0]  -0.372  0.480  -1.270    0.452      0.020    0.014     565.0   \n",
       "beta[0,1]   0.433  0.483  -0.306    1.390      0.020    0.014     589.0   \n",
       "beta[1,0]  -0.236  0.379  -0.968    0.397      0.012    0.009     957.0   \n",
       "beta[1,1]   0.288  0.390  -0.347    1.037      0.012    0.009     986.0   \n",
       "beta[2,0]  -0.221  0.361  -0.945    0.406      0.012    0.009     945.0   \n",
       "beta[2,1]   0.257  0.364  -0.421    0.924      0.011    0.008    1009.0   \n",
       "beta[3,0]  -0.292  0.409  -1.082    0.383      0.016    0.012     631.0   \n",
       "beta[3,1]   0.334  0.413  -0.392    1.090      0.016    0.012     632.0   \n",
       "beta[4,0]  -0.252  0.411  -1.120    0.399      0.013    0.010     941.0   \n",
       "beta[4,1]   0.293  0.417  -0.469    1.056      0.014    0.010     924.0   \n",
       "beta[5,0]  -0.236  0.376  -0.941    0.425      0.013    0.010     839.0   \n",
       "beta[5,1]   0.286  0.382  -0.394    1.001      0.012    0.009     944.0   \n",
       "beta[6,0]  -0.188  0.374  -0.919    0.435      0.011    0.009    1252.0   \n",
       "beta[6,1]   0.232  0.373  -0.428    0.884      0.010    0.008    1340.0   \n",
       "beta[7,0]  -0.158  0.323  -0.828    0.421      0.009    0.009    1254.0   \n",
       "beta[7,1]   0.178  0.328  -0.407    0.827      0.009    0.008    1196.0   \n",
       "beta[8,0]  -0.098  0.349  -0.839    0.533      0.007    0.008    2800.0   \n",
       "beta[8,1]   0.114  0.359  -0.592    0.803      0.006    0.008    3135.0   \n",
       "beta[9,0]  -0.202  0.375  -0.926    0.443      0.011    0.009    1069.0   \n",
       "beta[9,1]   0.249  0.379  -0.493    0.901      0.011    0.008    1172.0   \n",
       "beta[10,0] -0.200  0.365  -0.939    0.405      0.011    0.008    1099.0   \n",
       "beta[10,1]  0.247  0.367  -0.438    0.927      0.011    0.008    1151.0   \n",
       "beta[11,0] -0.167  0.324  -0.821    0.389      0.010    0.008    1155.0   \n",
       "beta[11,1]  0.201  0.328  -0.459    0.796      0.010    0.008    1101.0   \n",
       "beta[12,0] -0.216  0.386  -0.987    0.492      0.012    0.009    1073.0   \n",
       "beta[12,1]  0.266  0.392  -0.474    1.015      0.012    0.009    1024.0   \n",
       "beta[13,0] -0.158  0.338  -0.838    0.449      0.009    0.007    1427.0   \n",
       "beta[13,1]  0.193  0.343  -0.471    0.817      0.009    0.008    1458.0   \n",
       "beta[14,0] -0.172  0.341  -0.829    0.450      0.009    0.009    1339.0   \n",
       "beta[14,1]  0.219  0.342  -0.390    0.870      0.009    0.009    1316.0   \n",
       "beta[15,0] -0.169  0.338  -0.858    0.407      0.010    0.008    1157.0   \n",
       "beta[15,1]  0.209  0.342  -0.372    0.876      0.010    0.008    1155.0   \n",
       "\n",
       "            ess_sd  ess_bulk  ess_tail  r_hat  \n",
       "mu[0]       1681.0    3543.0    2350.0   1.00  \n",
       "mu[1]       1741.0    3281.0    2303.0   1.00  \n",
       "beta[0,0]    565.0     523.0    1525.0   1.00  \n",
       "beta[0,1]    589.0     530.0    1442.0   1.00  \n",
       "beta[1,0]    957.0     806.0    1425.0   1.00  \n",
       "beta[1,1]    913.0     824.0    1919.0   1.00  \n",
       "beta[2,0]    816.0     774.0    1455.0   1.00  \n",
       "beta[2,1]   1009.0     808.0    1342.0   1.00  \n",
       "beta[3,0]    631.0     547.0    1321.0   1.00  \n",
       "beta[3,1]    632.0     542.0    1000.0   1.00  \n",
       "beta[4,0]    803.0     791.0    1507.0   1.00  \n",
       "beta[4,1]    841.0     759.0    1306.0   1.00  \n",
       "beta[5,0]    770.0     711.0    1720.0   1.00  \n",
       "beta[5,1]    944.0     770.0    1433.0   1.00  \n",
       "beta[6,0]    937.0     841.0    1179.0   1.00  \n",
       "beta[6,1]   1058.0     911.0    1067.0   1.01  \n",
       "beta[7,0]    627.0     977.0    1360.0   1.01  \n",
       "beta[7,1]    772.0     959.0    1040.0   1.01  \n",
       "beta[8,0]    867.0    2561.0    1591.0   1.01  \n",
       "beta[8,1]    905.0    2767.0    1468.0   1.01  \n",
       "beta[9,0]    905.0     800.0    1129.0   1.00  \n",
       "beta[9,1]   1025.0     889.0    1666.0   1.01  \n",
       "beta[10,0]  1099.0     800.0    1393.0   1.00  \n",
       "beta[10,1]  1151.0     812.0    1470.0   1.00  \n",
       "beta[11,0]   790.0     893.0    1059.0   1.00  \n",
       "beta[11,1]   865.0     869.0     982.0   1.01  \n",
       "beta[12,0]   944.0     894.0    1619.0   1.00  \n",
       "beta[12,1]  1024.0     856.0    1663.0   1.00  \n",
       "beta[13,0]  1034.0    1024.0    1504.0   1.00  \n",
       "beta[13,1]  1001.0    1175.0    1462.0   1.00  \n",
       "beta[14,0]   786.0     956.0    1704.0   1.00  \n",
       "beta[14,1]   763.0     997.0    1565.0   1.00  \n",
       "beta[15,0]   872.0     936.0    1369.0   1.01  \n",
       "beta[15,1]   860.0     938.0    1515.0   1.01  "
      ]
     },
     "execution_count": 40,
     "metadata": {},
     "output_type": "execute_result"
    }
   ],
   "source": [
    "arviz.summary(trace_2, var_names=['mu', 'beta'])"
   ]
  },
  {
   "cell_type": "code",
   "execution_count": 41,
   "metadata": {},
   "outputs": [
    {
     "data": {
      "image/png": "[encoded data removed]",
      "text/plain": [
       "<Figure size 864x144 with 2 Axes>"
      ]
     },
     "metadata": {},
     "output_type": "display_data"
    }
   ],
   "source": [
    "pm.traceplot(trace_2, var_names=['mu']);\n",
    "# arviz.plot_trace(trace_2, var_names=['mu']);"
   ]
  },
  {
   "cell_type": "markdown",
   "metadata": {},
   "source": [
    "If you want to check the covariance matrix"
   ]
  },
  {
   "cell_type": "code",
   "execution_count": 42,
   "metadata": {},
   "outputs": [],
   "source": [
    "matrix_s = trace_2['Sigma'].mean(axis=0)"
   ]
  },
  {
   "cell_type": "code",
   "execution_count": 43,
   "metadata": {},
   "outputs": [
    {
     "data": {
      "text/plain": [
       "array([[0.20725225, 0.05865998],\n",
       "       [0.05865998, 0.23874154]])"
      ]
     },
     "execution_count": 43,
     "metadata": {},
     "output_type": "execute_result"
    }
   ],
   "source": [
    "matrix_s"
   ]
  },
  {
   "cell_type": "markdown",
   "metadata": {},
   "source": [
    "From that, you get $\\tau_1$ and $\\tau_2$"
   ]
  },
  {
   "cell_type": "code",
   "execution_count": 44,
   "metadata": {},
   "outputs": [
    {
     "name": "stdout",
     "output_type": "stream",
     "text": [
      "0.4552496557178931 0.48861184784694617\n"
     ]
    }
   ],
   "source": [
    "tau1, tau2 = np.sqrt(matrix_s[0, 0]), np.sqrt(matrix_s[1, 1])\n",
    "print(tau1, tau2)"
   ]
  },
  {
   "cell_type": "markdown",
   "metadata": {},
   "source": [
    "And then $\\rho$"
   ]
  },
  {
   "cell_type": "code",
   "execution_count": 45,
   "metadata": {},
   "outputs": [],
   "source": [
    "rho = matrix_s[1, 0] / (tau1 * tau2)"
   ]
  },
  {
   "cell_type": "code",
   "execution_count": 46,
   "metadata": {},
   "outputs": [
    {
     "data": {
      "text/plain": [
       "0.2637110379347952"
      ]
     },
     "execution_count": 46,
     "metadata": {},
     "output_type": "execute_result"
    }
   ],
   "source": [
    "rho"
   ]
  },
  {
   "cell_type": "markdown",
   "metadata": {},
   "source": [
    "Now, the goal is to reproduce the figure 8.1 (b)."
   ]
  },
  {
   "cell_type": "code",
   "execution_count": 47,
   "metadata": {},
   "outputs": [
    {
     "name": "stderr",
     "output_type": "stream",
     "text": [
      "100%|██████████| 4000/4000 [00:00<00:00, 17718.83it/s]\n"
     ]
    }
   ],
   "source": [
    "with model_hier:\n",
    "    ppc_hier = pm.sample_posterior_predictive(trace_2, var_names=['beta'])\n",
    "    \n",
    "ppc_hier['beta'] = softmax(ppc_hier['beta'], axis=2)"
   ]
  },
  {
   "cell_type": "code",
   "execution_count": 48,
   "metadata": {},
   "outputs": [
    {
     "name": "stdout",
     "output_type": "stream",
     "text": [
      "[[0.31347249 0.68652751]\n",
      " [0.31347249 0.68652751]\n",
      " [0.31202501 0.68797499]\n",
      " [0.25271686 0.74728314]\n",
      " [0.25271686 0.74728314]\n",
      " [0.25271686 0.74728314]\n",
      " [0.25271686 0.74728314]\n",
      " [0.25271686 0.74728314]\n",
      " [0.23952949 0.76047051]\n",
      " [0.23952949 0.76047051]\n",
      " [0.23952949 0.76047051]\n",
      " [0.23952949 0.76047051]\n",
      " [0.23952949 0.76047051]\n",
      " [0.23952949 0.76047051]\n",
      " [0.38658591 0.61341409]]\n"
     ]
    }
   ],
   "source": [
    "print(ppc_hier['beta'][:15, 0, :])"
   ]
  },
  {
   "cell_type": "code",
   "execution_count": 49,
   "metadata": {},
   "outputs": [
    {
     "data": {
      "text/plain": [
       "(4000, 16, 2)"
      ]
     },
     "execution_count": 49,
     "metadata": {},
     "output_type": "execute_result"
    }
   ],
   "source": [
    "ppc_hier['beta'].shape"
   ]
  },
  {
   "cell_type": "markdown",
   "metadata": {},
   "source": [
    "Remember that from \n",
    "\n",
    "\\begin{align}\n",
    "    \\alpha_{1j} &= \\dfrac{\\theta_{1j}}{\\theta_{1j} + \\theta_{2j}} \\\\\n",
    "    \\alpha_{2j} &= 1 - \\theta_{3j}\n",
    "\\end{align}\n",
    "\n",
    "you can get $\\theta_{1j}$ and $\\theta_{2j}$"
   ]
  },
  {
   "cell_type": "code",
   "execution_count": 50,
   "metadata": {},
   "outputs": [],
   "source": [
    "th1 = []\n",
    "\n",
    "for i in range(16):\n",
    "    result1 =  2 * ppc_hier['beta'][:, i, 0] * ppc_hier['beta'][:, i, 1] - ppc_hier['beta'][:, i, 1] \n",
    "#     result1 = - 2 * ppc_hier['alphas'][:, i, 0] * ppc_hier['alphas'][:, i, 1] + ppc_hier['alphas'][:, i, 1] \n",
    "    th1.append(list(result1))"
   ]
  },
  {
   "cell_type": "code",
   "execution_count": 51,
   "metadata": {},
   "outputs": [],
   "source": [
    "th1 = np.asarray(th1)\n",
    "th1.shape\n",
    "th1 = th1.T"
   ]
  },
  {
   "cell_type": "code",
   "execution_count": 52,
   "metadata": {},
   "outputs": [
    {
     "data": {
      "text/plain": [
       "array([[-0.25611253, -0.04580321, -0.10527817, ..., -0.11496639,\n",
       "        -0.17975151, -0.04963993],\n",
       "       [-0.25611253, -0.04580321, -0.10527817, ..., -0.11496639,\n",
       "        -0.17975151, -0.04963993],\n",
       "       [-0.25864418, -0.0405677 , -0.10747083, ..., -0.09382378,\n",
       "        -0.19880038, -0.02752137],\n",
       "       ...,\n",
       "       [-0.3690686 , -0.01904772, -0.10363507, ..., -0.06335896,\n",
       "        -0.09953807, -0.18144236],\n",
       "       [-0.14514282, -0.27759565, -0.197737  , ..., -0.11084416,\n",
       "        -0.14028941, -0.03039312],\n",
       "       [-0.26916063, -0.15018802, -0.07902464, ..., -0.10092275,\n",
       "        -0.0680946 , -0.11604869]])"
      ]
     },
     "execution_count": 52,
     "metadata": {},
     "output_type": "execute_result"
    }
   ],
   "source": [
    "th1"
   ]
  },
  {
   "cell_type": "code",
   "execution_count": 53,
   "metadata": {},
   "outputs": [
    {
     "data": {
      "text/plain": [
       "array([-0.11283603, -0.11283603, -0.10969546, -0.1168538 , -0.1168538 ,\n",
       "       -0.1168538 , -0.1168538 , -0.1168538 , -0.12290433, -0.12290433,\n",
       "       -0.12290433, -0.12290433, -0.12290433, -0.12290433, -0.14458708])"
      ]
     },
     "execution_count": 53,
     "metadata": {},
     "output_type": "execute_result"
    }
   ],
   "source": [
    "result2 = np.sum(th1 * proportion / np.sum(proportion), axis=1)\n",
    "result2[:15]"
   ]
  },
  {
   "cell_type": "code",
   "execution_count": 54,
   "metadata": {},
   "outputs": [
    {
     "data": {
      "image/png": "[encoded data removed]",
      "text/plain": [
       "<Figure size 720x432 with 1 Axes>"
      ]
     },
     "metadata": {},
     "output_type": "display_data"
    }
   ],
   "source": [
    "plt.figure(figsize=(10, 6))\n",
    "_, _, _ = plt.hist(result2 , bins=18, edgecolor='w', density=True)\n",
    "#plt.xlim(0.09, .16)\n",
    "plt.yticks([]);"
   ]
  },
  {
   "cell_type": "markdown",
   "metadata": {},
   "source": [
    "As you can see, the figure is quite similar, except that there is a minus sing. The next step would be the model checking, but it would be pointless (you could do it) and the results would not be right."
   ]
  },
  {
   "cell_type": "code",
   "execution_count": 55,
   "metadata": {},
   "outputs": [
    {
     "data": {
      "image/png": "[encoded data removed]",
      "text/plain": [
       "<Figure size 720x432 with 1 Axes>"
      ]
     },
     "metadata": {},
     "output_type": "display_data"
    }
   ],
   "source": [
    "plt.figure(figsize=(10, 6))\n",
    "_, _, _ = plt.hist(-result2 , bins=20, edgecolor='w', density=True) # With a minus\n",
    "plt.yticks([]);"
   ]
  },
  {
   "cell_type": "markdown",
   "metadata": {},
   "source": [
    "Why? I don't know, nevertheless, it is really weird."
   ]
  },
  {
   "cell_type": "code",
   "execution_count": 56,
   "metadata": {},
   "outputs": [],
   "source": [
    "%load_ext watermark"
   ]
  },
  {
   "cell_type": "code",
   "execution_count": 57,
   "metadata": {},
   "outputs": [
    {
     "name": "stdout",
     "output_type": "stream",
     "text": [
      "numpy   1.18.1\n",
      "pymc3   3.8\n",
      "arviz   0.7.0\n",
      "pandas  1.0.1\n",
      "seaborn 0.10.0\n",
      "CPython 3.7.6\n",
      "IPython 7.12.0\n",
      "\n",
      "theano 1.0.4\n",
      "scipy 1.4.1\n",
      "matplotlib 3.1.3\n",
      "\n",
      "compiler   : GCC 7.3.0\n",
      "system     : Linux\n",
      "release    : 4.15.0-91-generic\n",
      "machine    : x86_64\n",
      "processor  : x86_64\n",
      "CPU cores  : 8\n",
      "interpreter: 64bit\n"
     ]
    }
   ],
   "source": [
    "%watermark -iv -v -p theano,scipy,matplotlib -m"
   ]
  },
  {
   "cell_type": "markdown",
   "metadata": {},
   "source": [
    "## **With pystan**"
   ]
  },
  {
   "cell_type": "markdown",
   "metadata": {},
   "source": [
    "This section is to reproduce the figure 8.1 (a) and the figure 8.1 (b) with Stan."
   ]
  },
  {
   "cell_type": "code",
   "execution_count": 58,
   "metadata": {},
   "outputs": [
    {
     "name": "stdout",
     "output_type": "stream",
     "text": [
      "2.19.1.1\n"
     ]
    }
   ],
   "source": [
    "import pystan\n",
    "print(pystan.__version__)"
   ]
  },
  {
   "cell_type": "code",
   "execution_count": 59,
   "metadata": {},
   "outputs": [],
   "source": [
    "modelo=\"\"\"\n",
    "data {\n",
    "  int<lower=0> N;\n",
    "  int<lower=0> n;\n",
    "  int y_obs[N, n];\n",
    "  vector[n] alpha;\n",
    "}\n",
    "\n",
    "parameters {\n",
    "  \n",
    "  simplex[n] theta[N];\n",
    "}\n",
    "\n",
    "model {\n",
    "  \n",
    "  for (i in 1:N)\n",
    "    theta[i] ~ dirichlet(alpha);\n",
    "  \n",
    "  for (i in 1:N)\n",
    "    y_obs[i] ~ multinomial(theta[i]);\n",
    "}\n",
    "\n",
    "\"\"\""
   ]
  },
  {
   "cell_type": "code",
   "execution_count": 60,
   "metadata": {},
   "outputs": [
    {
     "name": "stderr",
     "output_type": "stream",
     "text": [
      "INFO:pystan:COMPILING THE C++ CODE FOR MODEL anon_model_2a28c5090c429737936718a5aee45413 NOW.\n"
     ]
    }
   ],
   "source": [
    "stan_modelo = pystan.StanModel(model_code=modelo)"
   ]
  },
  {
   "cell_type": "code",
   "execution_count": 61,
   "metadata": {},
   "outputs": [
    {
     "name": "stdout",
     "output_type": "stream",
     "text": [
      "[[ 14.  29.   4.]\n",
      " [ 23.  22.   1.]\n",
      " [ 78.  69.  20.]\n",
      " [ 32.  36.   1.]\n",
      " [ 19.  23.   5.]\n",
      " [ 42.  42.  10.]\n",
      " [ 59.  45.  12.]\n",
      " [ 80.  49.  16.]\n",
      " [ 12.   6.   3.]\n",
      " [ 45.  39.  12.]\n",
      " [ 51.  40.   8.]\n",
      " [101.  64.  17.]\n",
      " [ 17.  16.   1.]\n",
      " [ 41.  27.   9.]\n",
      " [ 67.  46.  11.]\n",
      " [ 46.  30.   7.]]\n"
     ]
    }
   ],
   "source": [
    "print(values)"
   ]
  },
  {
   "cell_type": "code",
   "execution_count": 62,
   "metadata": {},
   "outputs": [],
   "source": [
    "data2 = {'N': 16,\n",
    "       'n': 3,\n",
    "       'alpha': [1,1,1],\n",
    "       'y_obs': values.astype(int)}"
   ]
  },
  {
   "cell_type": "code",
   "execution_count": 63,
   "metadata": {},
   "outputs": [],
   "source": [
    "fit = stan_modelo.sampling(data=data2)"
   ]
  },
  {
   "cell_type": "code",
   "execution_count": 64,
   "metadata": {},
   "outputs": [
    {
     "name": "stdout",
     "output_type": "stream",
     "text": [
      "Inference for Stan model: anon_model_2a28c5090c429737936718a5aee45413.\n",
      "4 chains, each with iter=2000; warmup=1000; thin=1; \n",
      "post-warmup draws per chain=1000, total post-warmup draws=4000.\n",
      "\n",
      "               mean se_mean     sd    2.5%     25%     50%     75%   97.5%  n_eff   Rhat\n",
      "theta[1,1]    0.299 7.12e-4  0.063   0.185   0.255   0.297    0.34    0.43   7942  0.999\n",
      "theta[2,1]    0.491 7.32e-4   0.07    0.35   0.444   0.491   0.538    0.63   9194    1.0\n",
      "theta[3,1]    0.464 4.45e-4  0.038   0.388   0.438   0.464   0.489   0.539   7417  0.999\n",
      "theta[4,1]    0.459 6.45e-4  0.058   0.346   0.421   0.459   0.498   0.573   7993    1.0\n",
      "theta[5,1]      0.4 7.38e-4  0.069   0.268   0.352   0.398   0.446   0.539   8744  0.999\n",
      "theta[6,1]    0.443 5.41e-4  0.049   0.351   0.408   0.442   0.476    0.54   8199  0.999\n",
      "theta[7,1]    0.505  5.0e-4  0.046   0.416   0.474   0.505   0.536   0.595   8475  0.999\n",
      "theta[8,1]    0.547 4.57e-4  0.041   0.467   0.519   0.547   0.575   0.627   8122    1.0\n",
      "theta[9,1]    0.542   0.001  0.102   0.345   0.472   0.543   0.614   0.735   7025  0.999\n",
      "theta[10,1]   0.464 5.67e-4  0.049   0.369   0.431   0.464   0.496   0.561   7407    1.0\n",
      "theta[11,1]   0.511 5.83e-4   0.05   0.413   0.477   0.511   0.544   0.605   7229  0.999\n",
      "theta[12,1]   0.551 4.02e-4  0.037   0.478   0.527   0.551   0.577   0.623   8384  0.999\n",
      "theta[13,1]   0.488 9.31e-4  0.081   0.329   0.431   0.487   0.542   0.648   7612  0.999\n",
      "theta[14,1]   0.525 5.25e-4  0.055   0.412   0.489   0.526   0.561   0.633  11028  0.999\n",
      "theta[15,1]   0.536 5.01e-4  0.044   0.447   0.506   0.536   0.566   0.623   7880  0.999\n",
      "theta[16,1]   0.547 5.36e-4  0.053   0.442   0.511   0.549   0.584   0.647   9702  0.999\n",
      "theta[1,2]      0.6 7.54e-4  0.067   0.466   0.556   0.602   0.648   0.726   7995  0.999\n",
      "theta[2,2]    0.469 7.51e-4   0.07   0.332   0.422   0.469   0.517   0.608   8661    1.0\n",
      "theta[3,2]    0.412 4.48e-4  0.038   0.339   0.386   0.411   0.438   0.485   7136    1.0\n",
      "theta[4,2]    0.513 6.26e-4  0.058   0.403   0.474   0.513   0.551   0.624   8474    1.0\n",
      "theta[5,2]    0.481 7.22e-4   0.07   0.344   0.434   0.481   0.529    0.62   9468  0.999\n",
      "theta[6,2]    0.444 5.34e-4   0.05   0.347    0.41   0.443   0.478   0.541   8597    1.0\n",
      "theta[7,2]    0.385 5.02e-4  0.044     0.3   0.357   0.384   0.413   0.475   7676  0.999\n",
      "theta[8,2]    0.338 4.47e-4  0.038   0.262   0.313   0.338   0.363   0.417   7379  0.999\n",
      "theta[9,2]    0.292   0.001  0.092    0.13   0.226   0.285   0.349   0.489   6593  0.999\n",
      "theta[10,2]   0.405 5.26e-4  0.049   0.311    0.37   0.404   0.438   0.504   8713    1.0\n",
      "theta[11,2]   0.401 5.63e-4  0.049   0.308   0.368     0.4   0.434   0.498   7566  0.999\n",
      "theta[12,2]   0.351 3.84e-4  0.035   0.283   0.329   0.351   0.375   0.421   8153  0.999\n",
      "theta[13,2]   0.459 9.39e-4  0.081   0.303   0.403   0.457   0.513   0.619   7392  0.999\n",
      "theta[14,2]    0.35 5.32e-4  0.053    0.25   0.314   0.348   0.384   0.459   9800  0.999\n",
      "theta[15,2]    0.37 4.98e-4  0.043   0.289    0.34    0.37   0.399   0.458   7535  0.999\n",
      "theta[16,2]   0.359 5.56e-4  0.051   0.264   0.323   0.358   0.395   0.462   8400  0.999\n",
      "theta[1,3]      0.1 4.86e-4  0.042   0.033   0.069   0.095   0.127   0.194   7558    1.0\n",
      "theta[2,3]     0.04  3.3e-4  0.027   0.006    0.02   0.034   0.053   0.107   6645    1.0\n",
      "theta[3,3]    0.124 2.86e-4  0.026   0.079   0.105   0.122    0.14   0.179   8023    1.0\n",
      "theta[4,3]    0.028 2.24e-4  0.019   0.004   0.014   0.024   0.037   0.075   7067  0.999\n",
      "theta[5,3]    0.119 5.71e-4  0.046   0.046   0.085   0.114   0.148   0.222   6417  0.999\n",
      "theta[6,3]    0.113 3.75e-4  0.032   0.059   0.091   0.111   0.134   0.182   7201    1.0\n",
      "theta[7,3]     0.11 3.28e-4  0.028   0.061    0.09   0.108   0.127   0.169   7301  0.999\n",
      "theta[8,3]    0.115 2.98e-4  0.027   0.068   0.096   0.113   0.131    0.17   7954    1.0\n",
      "theta[9,3]    0.166 8.73e-4  0.075   0.049   0.111   0.157    0.21   0.345   7341    1.0\n",
      "theta[10,3]   0.131 3.95e-4  0.033   0.073   0.108   0.129   0.152   0.202   6986  0.999\n",
      "theta[11,3]   0.088 3.16e-4  0.028   0.041   0.069   0.085   0.105   0.151   7727  0.999\n",
      "theta[12,3]   0.097 2.53e-4  0.021    0.06   0.082   0.096   0.111   0.144   7207    1.0\n",
      "theta[13,3]   0.054 4.18e-4  0.037   0.006   0.027   0.046   0.073   0.147   7813  0.999\n",
      "theta[14,3]   0.125  3.9e-4  0.037   0.063   0.098   0.121   0.148   0.205   8882  0.999\n",
      "theta[15,3]   0.094 2.62e-4  0.025    0.05   0.076   0.093    0.11   0.149   9362  0.999\n",
      "theta[16,3]   0.093 3.54e-4  0.031   0.043    0.07    0.09   0.113   0.162   7719  0.999\n",
      "lp__        -1.41e3   0.111  4.124 -1.42e3 -1.42e3 -1.41e3 -1.41e3 -1.41e3   1371  1.001\n",
      "\n",
      "Samples were drawn using NUTS at Wed Apr  1 13:58:31 2020.\n",
      "For each parameter, n_eff is a crude measure of effective sample size,\n",
      "and Rhat is the potential scale reduction factor on split chains (at \n",
      "convergence, Rhat=1).\n"
     ]
    }
   ],
   "source": [
    "print(fit.stansummary(digits_summary=3))"
   ]
  },
  {
   "cell_type": "code",
   "execution_count": 65,
   "metadata": {},
   "outputs": [],
   "source": [
    "samples = fit.extract(permuted=True)['theta']"
   ]
  },
  {
   "cell_type": "code",
   "execution_count": 66,
   "metadata": {},
   "outputs": [
    {
     "data": {
      "text/plain": [
       "(4000, 16, 3)"
      ]
     },
     "execution_count": 66,
     "metadata": {},
     "output_type": "execute_result"
    }
   ],
   "source": [
    "samples.shape"
   ]
  },
  {
   "cell_type": "code",
   "execution_count": 67,
   "metadata": {},
   "outputs": [
    {
     "data": {
      "text/plain": [
       "array([[0.29572325, 0.65129841, 0.05297834],\n",
       "       [0.54051595, 0.432803  , 0.02668105],\n",
       "       [0.47824452, 0.35413056, 0.16762492],\n",
       "       [0.51957493, 0.47637818, 0.0040469 ],\n",
       "       [0.40854686, 0.41944028, 0.17201286],\n",
       "       [0.38775786, 0.48608583, 0.1261563 ],\n",
       "       [0.52421906, 0.36840217, 0.10737878],\n",
       "       [0.51847677, 0.337041  , 0.14448223],\n",
       "       [0.40462137, 0.5052229 , 0.09015573],\n",
       "       [0.51062115, 0.35267396, 0.13670489],\n",
       "       [0.59024591, 0.35611482, 0.05363928],\n",
       "       [0.61836461, 0.29295664, 0.08867874],\n",
       "       [0.36347457, 0.59558058, 0.04094485],\n",
       "       [0.55051669, 0.3298886 , 0.11959471],\n",
       "       [0.49178011, 0.40013566, 0.10808424],\n",
       "       [0.56625645, 0.3640529 , 0.06969065]])"
      ]
     },
     "execution_count": 67,
     "metadata": {},
     "output_type": "execute_result"
    }
   ],
   "source": [
    "samples[999, :, :]"
   ]
  },
  {
   "cell_type": "code",
   "execution_count": 68,
   "metadata": {},
   "outputs": [
    {
     "data": {
      "text/plain": [
       "0.10019345338843164"
      ]
     },
     "execution_count": 68,
     "metadata": {},
     "output_type": "execute_result"
    }
   ],
   "source": [
    "np.mean(samples[:, 0, 2])"
   ]
  },
  {
   "cell_type": "code",
   "execution_count": 69,
   "metadata": {},
   "outputs": [],
   "source": [
    "diff3 = []\n",
    "\n",
    "for i in range(16):\n",
    "    result3 = samples[:, i, 0] - samples[:, i, 1]\n",
    "    diff3.append(list(result3))"
   ]
  },
  {
   "cell_type": "code",
   "execution_count": 70,
   "metadata": {},
   "outputs": [
    {
     "data": {
      "text/plain": [
       "array([[-0.37379623, -0.40020554, -0.35526723, ..., -0.45095156,\n",
       "        -0.14461942, -0.40179938],\n",
       "       [ 0.04206939, -0.09303923, -0.09644825, ...,  0.18600798,\n",
       "         0.15895143,  0.112105  ],\n",
       "       [-0.08043822,  0.05722378, -0.04404239, ...,  0.0013293 ,\n",
       "         0.02855459,  0.13559384],\n",
       "       ...,\n",
       "       [-0.01346588,  0.12558811,  0.0464158 , ...,  0.0514563 ,\n",
       "         0.14019075,  0.22758187],\n",
       "       [ 0.25544295,  0.18122796,  0.21108366, ...,  0.06446671,\n",
       "         0.34555547,  0.11465078],\n",
       "       [ 0.14040905,  0.15922342,  0.09676584, ...,  0.05328776,\n",
       "        -0.05423725,  0.3145302 ]])"
      ]
     },
     "execution_count": 70,
     "metadata": {},
     "output_type": "execute_result"
    }
   ],
   "source": [
    "diff3 = np.asarray(diff3)\n",
    "diff3"
   ]
  },
  {
   "cell_type": "code",
   "execution_count": 71,
   "metadata": {},
   "outputs": [
    {
     "data": {
      "text/plain": [
       "array([-0.40828455,  0.22569834,  0.0602826 ,  0.07930029,  0.00955351,\n",
       "       -0.04819828,  0.00276351,  0.21396297,  0.23868738,  0.03966128,\n",
       "        0.29747492,  0.17296242, -0.09768944,  0.13778526,  0.13535163,\n",
       "        0.39908791])"
      ]
     },
     "execution_count": 71,
     "metadata": {},
     "output_type": "execute_result"
    }
   ],
   "source": [
    "diff3.T[300, :]"
   ]
  },
  {
   "cell_type": "code",
   "execution_count": 72,
   "metadata": {},
   "outputs": [
    {
     "data": {
      "text/plain": [
       "array([0.03206413, 0.03206413, 0.11523046, 0.04809619, 0.03206413,\n",
       "       0.06513026, 0.08016032, 0.1002004 , 0.01503006, 0.06613226,\n",
       "       0.06813627, 0.12625251, 0.02304609, 0.05310621, 0.08617234,\n",
       "       0.05711423])"
      ]
     },
     "execution_count": 72,
     "metadata": {},
     "output_type": "execute_result"
    }
   ],
   "source": [
    "proportion / np.sum(proportion)"
   ]
  },
  {
   "cell_type": "code",
   "execution_count": 73,
   "metadata": {},
   "outputs": [
    {
     "name": "stdout",
     "output_type": "stream",
     "text": [
      "[-0.00903626  0.00915508  0.00813136  0.00217919 -0.0036359   0.00712706\n",
      " -0.00098481  0.01602406 -0.00069021  0.01149549 -0.00577915  0.0293123\n",
      "  0.00473389 -0.00404456  0.00639422  0.01363429]\n"
     ]
    },
    {
     "data": {
      "text/plain": [
       "0.0840160462208799"
      ]
     },
     "execution_count": 73,
     "metadata": {},
     "output_type": "execute_result"
    }
   ],
   "source": [
    "ii = 3989\n",
    "print(diff3.T[ii, :] * proportion / np.sum(proportion))\n",
    "np.sum(diff3.T[ii, :] * proportion / np.sum(proportion))"
   ]
  },
  {
   "cell_type": "code",
   "execution_count": 74,
   "metadata": {},
   "outputs": [],
   "source": [
    "res2 = np.sum(diff3.T * proportion / np.sum(proportion), axis=1)"
   ]
  },
  {
   "cell_type": "code",
   "execution_count": 75,
   "metadata": {},
   "outputs": [
    {
     "data": {
      "text/plain": [
       "(4000,)"
      ]
     },
     "execution_count": 75,
     "metadata": {},
     "output_type": "execute_result"
    }
   ],
   "source": [
    "res2.shape"
   ]
  },
  {
   "cell_type": "code",
   "execution_count": 76,
   "metadata": {},
   "outputs": [
    {
     "data": {
      "image/png": "[encoded data removed]",
      "text/plain": [
       "<Figure size 720x432 with 1 Axes>"
      ]
     },
     "metadata": {},
     "output_type": "display_data"
    }
   ],
   "source": [
    "plt.figure(figsize=(10, 6))\n",
    "_, _, _ = plt.hist(res2, bins=20, edgecolor='w', density=True)\n",
    "plt.yticks([]);\n",
    "# plt.savefig('model_non_hier.png', dpi=120)"
   ]
  },
  {
   "cell_type": "markdown",
   "metadata": {},
   "source": [
    "With this, the figure 8.1 (a) is very similiar to this one."
   ]
  },
  {
   "cell_type": "markdown",
   "metadata": {},
   "source": [
    "### **Pystan with the hierarchical model**"
   ]
  },
  {
   "cell_type": "code",
   "execution_count": 78,
   "metadata": {},
   "outputs": [],
   "source": [
    "modelo2 = \"\"\"\n",
    "data {\n",
    "  int<lower=0> N;\n",
    "  int<lower=0> n;\n",
    "  int post[N, n];\n",
    "}\n",
    "\n",
    "parameters {\n",
    "  vector[n] mu;\n",
    "  cholesky_factor_corr[n] L;\n",
    "  vector[n] beta[N];\n",
    "    \n",
    "}\n",
    "\n",
    "transformed parameters{\n",
    "  vector[n] theta[N] ;\n",
    "  \n",
    "  for (i in 1:N)\n",
    "    theta[i] = inv_logit(beta[i]);\n",
    "     \n",
    "}\n",
    "\n",
    "model {\n",
    "\n",
    "  L ~ lkj_corr_cholesky(3.0);\n",
    " \n",
    "  mu ~ exponential(0.01);\n",
    "  \n",
    "  beta ~ multi_normal_cholesky(mu, L);\n",
    "  \n",
    "    \n",
    "  for (i in 1:N)\n",
    "    post[i] ~ multinomial(theta[i]);\n",
    "  \n",
    "}\n",
    "\n",
    "generated quantities {\n",
    "\n",
    "  corr_matrix[n] Sigma;\n",
    "  Sigma = multiply_lower_tri_self_transpose(L);\n",
    "  \n",
    "}\n",
    "\n",
    "\n",
    "\"\"\"\n",
    "\n",
    "modelo3 = \"\"\"\n",
    "data {\n",
    "  int<lower=0> N;\n",
    "  int<lower=0> n;\n",
    "  int post[N, n];\n",
    "}\n",
    "\n",
    "parameters {\n",
    "  vector[n] mu;\n",
    "  cholesky_factor_corr[n] L;\n",
    "  vector[n] beta[N];\n",
    "  \n",
    "}\n",
    "\n",
    "transformed parameters{\n",
    "  \n",
    "  vector<lower=0, upper=1>[n] alphas[N];\n",
    "  \n",
    "  \n",
    "  for (i in 1:N)\n",
    "    alphas[i] = softmax(beta[i]);\n",
    "   \n",
    "}\n",
    "\n",
    "model {\n",
    "\n",
    "  L ~ lkj_corr_cholesky(3.0);\n",
    " \n",
    "  mu ~ normal(0, 0.01);\n",
    "  \n",
    "  beta ~ multi_normal_cholesky(mu, L);\n",
    "    \n",
    "  for (i in 1:N)\n",
    "    post[i] ~ multinomial(alphas[i]);\n",
    "  \n",
    "}\n",
    "\n",
    "generated quantities {\n",
    "\n",
    "  corr_matrix[n] Sigma;\n",
    "  Sigma = multiply_lower_tri_self_transpose(L);\n",
    "  \n",
    "}\n",
    "\n",
    " \n",
    "\"\"\""
   ]
  },
  {
   "cell_type": "code",
   "execution_count": 79,
   "metadata": {},
   "outputs": [
    {
     "name": "stderr",
     "output_type": "stream",
     "text": [
      "INFO:pystan:COMPILING THE C++ CODE FOR MODEL anon_model_484b7371ef716b8699f231237da781fc NOW.\n"
     ]
    }
   ],
   "source": [
    "stan_modelo2 = pystan.StanModel(model_code=modelo2)"
   ]
  },
  {
   "cell_type": "code",
   "execution_count": 80,
   "metadata": {},
   "outputs": [
    {
     "data": {
      "text/plain": [
       "array([[ 15.,  42.],\n",
       "       [ 24.,  45.],\n",
       "       [ 88., 146.],\n",
       "       [ 33.,  68.],\n",
       "       [ 21.,  41.],\n",
       "       [ 47.,  84.],\n",
       "       [ 66., 104.],\n",
       "       [ 90., 129.],\n",
       "       [ 14.,  19.],\n",
       "       [ 51.,  84.],\n",
       "       [ 55.,  90.],\n",
       "       [112., 165.],\n",
       "       [ 17.,  32.],\n",
       "       [ 46.,  68.],\n",
       "       [ 74., 113.],\n",
       "       [ 50.,  76.]])"
      ]
     },
     "execution_count": 80,
     "metadata": {},
     "output_type": "execute_result"
    }
   ],
   "source": [
    "new_values"
   ]
  },
  {
   "cell_type": "code",
   "execution_count": 81,
   "metadata": {},
   "outputs": [],
   "source": [
    "data3 = {'N': 16,\n",
    "         'n': 2,\n",
    "         'post': new_values.astype(int)}"
   ]
  },
  {
   "cell_type": "code",
   "execution_count": 82,
   "metadata": {},
   "outputs": [
    {
     "name": "stderr",
     "output_type": "stream",
     "text": [
      "WARNING:pystan:n_eff / iter below 0.001 indicates that the effective sample size has likely been overestimated\n",
      "WARNING:pystan:Rhat above 1.1 or below 0.9 indicates that the chains very likely have not mixed\n",
      "WARNING:pystan:10000 of 10000 iterations ended with a divergence (100 %).\n",
      "WARNING:pystan:Try running with adapt_delta larger than 0.9 to remove the divergences.\n"
     ]
    }
   ],
   "source": [
    "fit2 = stan_modelo2.sampling(data=data3, iter=5000, verbose=True, control={'adapt_delta':0.90}, init=0)"
   ]
  },
  {
   "cell_type": "code",
   "execution_count": 83,
   "metadata": {},
   "outputs": [
    {
     "name": "stdout",
     "output_type": "stream",
     "text": [
      "Inference for Stan model: anon_model_484b7371ef716b8699f231237da781fc.\n",
      "4 chains, each with iter=5000; warmup=2500; thin=1; \n",
      "post-warmup draws per chain=2500, total post-warmup draws=10000.\n",
      "\n",
      "                 mean  se_mean       sd     2.5%      25%      50%      75%   97.5%  n_eff   Rhat\n",
      "mu[1]         1.48e-7   5.6e-8  8.74e-8  2.09e-9   7.3e-8   1.6e-7   2.1e-7 2.96e-7      2  3.366\n",
      "mu[2]         1.08e-7  2.67e-8  6.65e-8  1.62e-8  6.79e-8  9.65e-8  1.37e-7 3.05e-7      6  2.052\n",
      "L[1,1]            1.0      nan      0.0      1.0      1.0      1.0      1.0     1.0    nan    nan\n",
      "L[2,1]       -7.12e-9  6.09e-8  9.36e-8 -1.67e-7 -7.13e-8 -9.13e-9  6.09e-8  1.6e-7      2  4.265\n",
      "L[1,2]            0.0      nan      0.0      0.0      0.0      0.0      0.0     0.0    nan    nan\n",
      "L[2,2]            1.0  2.5e-15 4.65e-15      1.0      1.0      1.0      1.0     1.0      3    1.3\n",
      "beta[1,1]     3.65e-8  4.45e-8  7.19e-8 -9.88e-8  -2.4e-8  4.06e-8  8.73e-8 1.81e-7      3  2.902\n",
      "beta[2,1]     9.35e-9  4.89e-8  7.72e-8 -1.09e-7 -5.45e-8 -5.39e-9  7.71e-8 1.43e-7      2  3.395\n",
      "beta[3,1]     -4.6e-9  9.64e-8   1.4e-7 -2.62e-7 -1.07e-7  2.12e-8   1.2e-7 1.62e-7      2    6.2\n",
      "beta[4,1]    -3.19e-8  4.24e-8  8.49e-8 -2.04e-7 -9.25e-8 -2.13e-8  3.59e-8 9.26e-8      4  2.764\n",
      "beta[5,1]    -7.43e-8  1.16e-7  1.66e-7 -3.91e-7 -2.12e-7 -2.23e-8  5.96e-8 1.06e-7      2  6.923\n",
      "beta[6,1]    -4.17e-8   7.6e-8  1.13e-7 -2.48e-7 -1.46e-7  1.65e-8  4.21e-8 9.11e-8      2   4.86\n",
      "beta[7,1]     4.16e-8  3.44e-8   6.4e-8 -9.05e-8  4.96e-9  4.81e-8  9.39e-8 1.36e-7      3  2.869\n",
      "beta[8,1]     6.83e-9  6.12e-8  8.97e-8  -1.3e-7  -7.7e-8 -1.58e-9  8.63e-8 1.62e-7      2  4.678\n",
      "beta[9,1]     4.81e-8  4.95e-8  7.69e-8 -1.16e-7 -1.23e-8  4.03e-8  1.18e-7 1.57e-7      2  2.975\n",
      "beta[10,1]    -5.7e-8  4.45e-8  7.74e-8 -2.18e-7 -1.08e-7 -6.52e-8  6.92e-9 6.39e-8      3   2.82\n",
      "beta[11,1]    1.66e-8  4.21e-8  6.65e-8 -8.23e-8 -4.69e-8  1.08e-8  7.97e-8 1.24e-7      2  2.655\n",
      "beta[12,1]   -2.24e-8  4.09e-8  7.83e-8 -1.71e-7 -8.91e-8 -1.66e-8  5.31e-8 8.76e-8      4  3.137\n",
      "beta[13,1]   -1.51e-8  3.83e-8  6.56e-8 -1.06e-7 -6.75e-8 -3.19e-8  1.98e-8 1.19e-7      3  2.779\n",
      "beta[14,1]   -7.44e-8  4.68e-8   7.6e-8 -2.08e-7 -1.27e-7 -7.82e-8 -1.64e-8 6.41e-8      3  3.206\n",
      "beta[15,1]    4.26e-8  1.92e-8  3.58e-8 -2.22e-8  1.53e-8  3.41e-8  7.19e-8 1.09e-7      3  1.677\n",
      "beta[16,1]    -5.5e-8  8.67e-8  1.25e-7  -2.5e-7 -1.75e-7 -5.03e-8  6.27e-8 1.35e-7      2  5.449\n",
      "beta[1,2]    -2.64e-8  4.72e-8  7.52e-8 -1.57e-7 -7.79e-8 -4.22e-8  2.22e-8 1.14e-7      3  3.238\n",
      "beta[2,2]    -7.13e-9  5.13e-8  8.19e-8 -1.64e-7 -7.32e-8 -8.48e-9  6.29e-8  1.2e-7      3  2.808\n",
      "beta[3,2]   -3.84e-10   9.5e-8  1.37e-7 -1.55e-7 -1.21e-7 -3.46e-8  1.24e-7  2.6e-7      2  6.728\n",
      "beta[4,2]     3.24e-8  4.49e-8   8.5e-8 -9.53e-8 -2.96e-8  1.96e-8  9.94e-8 1.89e-7      4  2.767\n",
      "beta[5,2]     8.23e-8  1.16e-7  1.67e-7 -9.99e-8  -6.5e-8   1.4e-8  2.16e-7 3.96e-7      2  5.926\n",
      "beta[6,2]     4.53e-8  7.64e-8  1.14e-7 -8.94e-8 -4.55e-8 -6.17e-9  1.51e-7 2.55e-7      2  4.732\n",
      "beta[7,2]    -4.82e-8  3.57e-8  6.75e-8 -1.46e-7 -1.07e-7 -5.51e-8  5.81e-9 8.33e-8      4  2.441\n",
      "beta[8,2]    -5.11e-9  6.13e-8  8.96e-8 -1.62e-7 -9.58e-8  1.14e-8   7.9e-8  1.2e-7      2  4.442\n",
      "beta[9,2]    -5.34e-8  5.27e-8  8.06e-8 -1.68e-7 -1.23e-7 -6.58e-8  1.06e-8 1.15e-7      2  3.151\n",
      "beta[10,2]    5.76e-8  4.52e-8  7.49e-8 -7.42e-8  2.93e-9  6.35e-8  1.03e-7 2.11e-7      3  2.905\n",
      "beta[11,2]   -2.33e-8   3.9e-8  6.16e-8 -1.29e-7 -7.87e-8 -2.86e-8  3.36e-8 6.61e-8      2  2.747\n",
      "beta[12,2]     2.0e-8  4.01e-8  7.65e-8 -10.0e-8  -5.0e-8  2.73e-8  8.19e-8 1.75e-7      4  2.902\n",
      "beta[13,2]    1.83e-8  3.95e-8   7.2e-8 -1.32e-7 -2.26e-8  3.89e-8  7.51e-8  1.2e-7      3  2.645\n",
      "beta[14,2]    6.93e-8  4.67e-8  7.47e-8 -5.97e-8  8.96e-9  6.64e-8  1.21e-7 2.01e-7      3  3.585\n",
      "beta[15,2]    -4.1e-8  2.28e-8  4.21e-8 -1.23e-7 -7.23e-8  -4.3e-8 -2.58e-9  2.6e-8      3  1.674\n",
      "beta[16,2]    5.01e-8  8.63e-8  1.26e-7 -1.33e-7 -6.92e-8  5.74e-8  1.52e-7 2.62e-7      2  5.542\n",
      "theta[1,1]        0.5  1.11e-8   1.8e-8      0.5      0.5      0.5      0.5     0.5      3  2.902\n",
      "theta[2,1]        0.5  1.22e-8  1.93e-8      0.5      0.5      0.5      0.5     0.5      2  3.395\n",
      "theta[3,1]        0.5  2.41e-8  3.49e-8      0.5      0.5      0.5      0.5     0.5      2    6.2\n",
      "theta[4,1]        0.5  1.06e-8  2.12e-8      0.5      0.5      0.5      0.5     0.5      4  2.764\n",
      "theta[5,1]        0.5   2.9e-8  4.16e-8      0.5      0.5      0.5      0.5     0.5      2  6.923\n",
      "theta[6,1]        0.5   1.9e-8  2.83e-8      0.5      0.5      0.5      0.5     0.5      2   4.86\n",
      "theta[7,1]        0.5  8.59e-9   1.6e-8      0.5      0.5      0.5      0.5     0.5      3  2.869\n",
      "theta[8,1]        0.5  1.53e-8  2.24e-8      0.5      0.5      0.5      0.5     0.5      2  4.678\n",
      "theta[9,1]        0.5  1.24e-8  1.92e-8      0.5      0.5      0.5      0.5     0.5      2  2.975\n",
      "theta[10,1]       0.5  1.11e-8  1.94e-8      0.5      0.5      0.5      0.5     0.5      3   2.82\n",
      "theta[11,1]       0.5  1.05e-8  1.66e-8      0.5      0.5      0.5      0.5     0.5      2  2.655\n",
      "theta[12,1]       0.5  1.02e-8  1.96e-8      0.5      0.5      0.5      0.5     0.5      4  3.137\n",
      "theta[13,1]       0.5  9.57e-9  1.64e-8      0.5      0.5      0.5      0.5     0.5      3  2.779\n",
      "theta[14,1]       0.5  1.17e-8   1.9e-8      0.5      0.5      0.5      0.5     0.5      3  3.206\n",
      "theta[15,1]       0.5  4.79e-9  8.94e-9      0.5      0.5      0.5      0.5     0.5      3  1.677\n",
      "theta[16,1]       0.5  2.17e-8  3.14e-8      0.5      0.5      0.5      0.5     0.5      2  5.449\n",
      "theta[1,2]        0.5  1.18e-8  1.88e-8      0.5      0.5      0.5      0.5     0.5      3  3.238\n",
      "theta[2,2]        0.5  1.28e-8  2.05e-8      0.5      0.5      0.5      0.5     0.5      3  2.808\n",
      "theta[3,2]        0.5  2.37e-8  3.43e-8      0.5      0.5      0.5      0.5     0.5      2  6.728\n",
      "theta[4,2]        0.5  1.12e-8  2.13e-8      0.5      0.5      0.5      0.5     0.5      4  2.767\n",
      "theta[5,2]        0.5   2.9e-8  4.18e-8      0.5      0.5      0.5      0.5     0.5      2  5.926\n",
      "theta[6,2]        0.5  1.91e-8  2.86e-8      0.5      0.5      0.5      0.5     0.5      2  4.732\n",
      "theta[7,2]        0.5  8.93e-9  1.69e-8      0.5      0.5      0.5      0.5     0.5      4  2.441\n",
      "theta[8,2]        0.5  1.53e-8  2.24e-8      0.5      0.5      0.5      0.5     0.5      2  4.442\n",
      "theta[9,2]        0.5  1.32e-8  2.02e-8      0.5      0.5      0.5      0.5     0.5      2  3.151\n",
      "theta[10,2]       0.5  1.13e-8  1.87e-8      0.5      0.5      0.5      0.5     0.5      3  2.905\n",
      "theta[11,2]       0.5  9.74e-9  1.54e-8      0.5      0.5      0.5      0.5     0.5      2  2.747\n",
      "theta[12,2]       0.5   1.0e-8  1.91e-8      0.5      0.5      0.5      0.5     0.5      4  2.902\n",
      "theta[13,2]       0.5  9.87e-9   1.8e-8      0.5      0.5      0.5      0.5     0.5      3  2.645\n",
      "theta[14,2]       0.5  1.17e-8  1.87e-8      0.5      0.5      0.5      0.5     0.5      3  3.585\n",
      "theta[15,2]       0.5   5.7e-9  1.05e-8      0.5      0.5      0.5      0.5     0.5      3  1.674\n",
      "theta[16,2]       0.5  2.16e-8  3.14e-8      0.5      0.5      0.5      0.5     0.5      2  5.542\n",
      "Sigma[1,1]        1.0      nan      0.0      1.0      1.0      1.0      1.0     1.0    nan    nan\n",
      "Sigma[2,1]   -7.12e-9  6.09e-8  9.36e-8 -1.67e-7 -7.13e-8 -9.13e-9  6.09e-8  1.6e-7      2  4.265\n",
      "Sigma[1,2]   -7.12e-9  6.09e-8  9.36e-8 -1.67e-7 -7.13e-8 -9.13e-9  6.09e-8  1.6e-7      2  4.265\n",
      "Sigma[2,2]        1.0 3.77e-17 7.78e-17      1.0      1.0      1.0      1.0     1.0      4    1.0\n",
      "lp__          -1.46e3  4.09e-6  6.67e-6  -1.46e3  -1.46e3  -1.46e3  -1.46e3 -1.46e3      3  2.306\n",
      "\n",
      "Samples were drawn using NUTS at Wed Apr  1 14:01:26 2020.\n",
      "For each parameter, n_eff is a crude measure of effective sample size,\n",
      "and Rhat is the potential scale reduction factor on split chains (at \n",
      "convergence, Rhat=1).\n"
     ]
    }
   ],
   "source": [
    "print(fit2.stansummary(digits_summary=3))"
   ]
  },
  {
   "cell_type": "code",
   "execution_count": null,
   "metadata": {},
   "outputs": [],
   "source": [
    "samples2 = fit2.extract(permuted=True)['beta']"
   ]
  },
  {
   "cell_type": "code",
   "execution_count": null,
   "metadata": {},
   "outputs": [],
   "source": [
    "samples2 = softmax(samples2, axis=2)"
   ]
  },
  {
   "cell_type": "code",
   "execution_count": null,
   "metadata": {},
   "outputs": [],
   "source": [
    "samples2[:10, 4, :]"
   ]
  },
  {
   "cell_type": "code",
   "execution_count": null,
   "metadata": {},
   "outputs": [],
   "source": [
    "th5 = []\n",
    "\n",
    "for i in range(16):\n",
    "    res5 =  2 * samples2[:, i, 0] * samples2[:, i, 1] - samples2[:, i, 1] \n",
    "#     result1 = - 2 * ppc_hier['alphas'][:, i, 0] * ppc_hier['alphas'][:, i, 1] + ppc_hier['alphas'][:, i, 1] \n",
    "    th5.append(list(res5))"
   ]
  },
  {
   "cell_type": "code",
   "execution_count": null,
   "metadata": {},
   "outputs": [],
   "source": [
    "th5 = np.asarray(th5)\n",
    "th5.shape"
   ]
  },
  {
   "cell_type": "code",
   "execution_count": null,
   "metadata": {},
   "outputs": [],
   "source": [
    "th5"
   ]
  },
  {
   "cell_type": "code",
   "execution_count": null,
   "metadata": {},
   "outputs": [],
   "source": [
    "result5 = np.sum(th5.T * proportion / np.sum(proportion), axis=1)\n",
    "print(result5.shape)\n",
    "result5[:15]"
   ]
  },
  {
   "cell_type": "code",
   "execution_count": null,
   "metadata": {},
   "outputs": [],
   "source": [
    "plt.figure(figsize=(10, 6))\n",
    "_, _, _ = plt.hist(result5 , bins=20, edgecolor='w', density=True)\n",
    "plt.yticks([]);\n",
    "# plt.savefig('model_hier.png', dpi=120)"
   ]
  },
  {
   "cell_type": "markdown",
   "metadata": {},
   "source": [
    "Again, very similar to the figure 8.1 (b), except for a minus sign. Why? It is not clear at the moment."
   ]
  }
 ],
 "metadata": {
  "kernelspec": {
   "display_name": "Python 3",
   "language": "python",
   "name": "python3"
  },
  "language_info": {
   "codemirror_mode": {
    "name": "ipython",
    "version": 3
   },
   "file_extension": ".py",
   "mimetype": "text/x-python",
   "name": "python",
   "nbconvert_exporter": "python",
   "pygments_lexer": "ipython3",
   "version": "3.7.6"
  }
 },
 "nbformat": 4,
 "nbformat_minor": 4
}

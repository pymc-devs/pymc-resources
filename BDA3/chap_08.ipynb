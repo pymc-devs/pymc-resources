{
 "cells": [
  {
   "cell_type": "markdown",
   "metadata": {},
   "source": [
    "## **Example. Stratified sampling in pre-election polling**"
   ]
  },
  {
   "cell_type": "code",
   "execution_count": 3,
   "metadata": {},
   "outputs": [],
   "source": [
    "%matplotlib inline\n",
    "\n",
    "import numpy as np\n",
    "import matplotlib.pyplot as plt\n",
    "import pymc3 as pm\n",
    "import pandas as pd\n",
    "import scipy.stats as stats\n",
    "import theano.tensor as tt\n",
    "import arviz\n",
    "import seaborn\n",
    "\n",
    "import warnings\n",
    "warnings.simplefilter(action='ignore', category=FutureWarning)\n",
    "\n",
    "plt.style.use('seaborn-darkgrid')\n",
    "plt.rc('font', size=12)\n",
    "\n",
    "%config Inline.figure_formats = ['retina']"
   ]
  },
  {
   "cell_type": "markdown",
   "metadata": {},
   "source": [
    "A survey of 1447 adults."
   ]
  },
  {
   "cell_type": "code",
   "execution_count": 4,
   "metadata": {},
   "outputs": [],
   "source": [
    "participants = 1447"
   ]
  },
  {
   "cell_type": "markdown",
   "metadata": {},
   "source": [
    "This is the Table 8.2"
   ]
  },
  {
   "cell_type": "code",
   "execution_count": 5,
   "metadata": {},
   "outputs": [
    {
     "data": {
      "text/html": [
       "<div>\n",
       "<style scoped>\n",
       "    .dataframe tbody tr th:only-of-type {\n",
       "        vertical-align: middle;\n",
       "    }\n",
       "\n",
       "    .dataframe tbody tr th {\n",
       "        vertical-align: top;\n",
       "    }\n",
       "\n",
       "    .dataframe thead th {\n",
       "        text-align: right;\n",
       "    }\n",
       "</style>\n",
       "<table border=\"1\" class=\"dataframe\">\n",
       "  <thead>\n",
       "    <tr style=\"text-align: right;\">\n",
       "      <th></th>\n",
       "      <th>region</th>\n",
       "      <th>density</th>\n",
       "      <th>bush</th>\n",
       "      <th>dukakis</th>\n",
       "      <th>other</th>\n",
       "      <th>proportion</th>\n",
       "    </tr>\n",
       "  </thead>\n",
       "  <tbody>\n",
       "    <tr>\n",
       "      <th>0</th>\n",
       "      <td>Northeast</td>\n",
       "      <td>I</td>\n",
       "      <td>0.298</td>\n",
       "      <td>0.617</td>\n",
       "      <td>0.085</td>\n",
       "      <td>0.032</td>\n",
       "    </tr>\n",
       "    <tr>\n",
       "      <th>1</th>\n",
       "      <td>Northeast</td>\n",
       "      <td>II</td>\n",
       "      <td>0.500</td>\n",
       "      <td>0.478</td>\n",
       "      <td>0.022</td>\n",
       "      <td>0.032</td>\n",
       "    </tr>\n",
       "    <tr>\n",
       "      <th>2</th>\n",
       "      <td>Northeast</td>\n",
       "      <td>III</td>\n",
       "      <td>0.467</td>\n",
       "      <td>0.413</td>\n",
       "      <td>0.120</td>\n",
       "      <td>0.115</td>\n",
       "    </tr>\n",
       "    <tr>\n",
       "      <th>3</th>\n",
       "      <td>Northeast</td>\n",
       "      <td>IV</td>\n",
       "      <td>0.464</td>\n",
       "      <td>0.522</td>\n",
       "      <td>0.014</td>\n",
       "      <td>0.048</td>\n",
       "    </tr>\n",
       "    <tr>\n",
       "      <th>4</th>\n",
       "      <td>Midwest</td>\n",
       "      <td>I</td>\n",
       "      <td>0.404</td>\n",
       "      <td>0.489</td>\n",
       "      <td>0.106</td>\n",
       "      <td>0.032</td>\n",
       "    </tr>\n",
       "    <tr>\n",
       "      <th>5</th>\n",
       "      <td>Midwest</td>\n",
       "      <td>II</td>\n",
       "      <td>0.447</td>\n",
       "      <td>0.447</td>\n",
       "      <td>0.106</td>\n",
       "      <td>0.065</td>\n",
       "    </tr>\n",
       "    <tr>\n",
       "      <th>6</th>\n",
       "      <td>Midwest</td>\n",
       "      <td>III</td>\n",
       "      <td>0.509</td>\n",
       "      <td>0.388</td>\n",
       "      <td>0.103</td>\n",
       "      <td>0.080</td>\n",
       "    </tr>\n",
       "    <tr>\n",
       "      <th>7</th>\n",
       "      <td>Midwest</td>\n",
       "      <td>IV</td>\n",
       "      <td>0.552</td>\n",
       "      <td>0.338</td>\n",
       "      <td>0.110</td>\n",
       "      <td>0.100</td>\n",
       "    </tr>\n",
       "    <tr>\n",
       "      <th>8</th>\n",
       "      <td>South</td>\n",
       "      <td>I</td>\n",
       "      <td>0.571</td>\n",
       "      <td>0.286</td>\n",
       "      <td>0.143</td>\n",
       "      <td>0.015</td>\n",
       "    </tr>\n",
       "    <tr>\n",
       "      <th>9</th>\n",
       "      <td>South</td>\n",
       "      <td>II</td>\n",
       "      <td>0.469</td>\n",
       "      <td>0.406</td>\n",
       "      <td>0.125</td>\n",
       "      <td>0.066</td>\n",
       "    </tr>\n",
       "    <tr>\n",
       "      <th>10</th>\n",
       "      <td>South</td>\n",
       "      <td>III</td>\n",
       "      <td>0.515</td>\n",
       "      <td>0.404</td>\n",
       "      <td>0.081</td>\n",
       "      <td>0.068</td>\n",
       "    </tr>\n",
       "    <tr>\n",
       "      <th>11</th>\n",
       "      <td>South</td>\n",
       "      <td>IV</td>\n",
       "      <td>0.555</td>\n",
       "      <td>0.352</td>\n",
       "      <td>0.093</td>\n",
       "      <td>0.126</td>\n",
       "    </tr>\n",
       "    <tr>\n",
       "      <th>12</th>\n",
       "      <td>West</td>\n",
       "      <td>I</td>\n",
       "      <td>0.500</td>\n",
       "      <td>0.471</td>\n",
       "      <td>0.029</td>\n",
       "      <td>0.023</td>\n",
       "    </tr>\n",
       "    <tr>\n",
       "      <th>13</th>\n",
       "      <td>West</td>\n",
       "      <td>II</td>\n",
       "      <td>0.532</td>\n",
       "      <td>0.351</td>\n",
       "      <td>0.117</td>\n",
       "      <td>0.053</td>\n",
       "    </tr>\n",
       "    <tr>\n",
       "      <th>14</th>\n",
       "      <td>West</td>\n",
       "      <td>III</td>\n",
       "      <td>0.540</td>\n",
       "      <td>0.371</td>\n",
       "      <td>0.089</td>\n",
       "      <td>0.086</td>\n",
       "    </tr>\n",
       "    <tr>\n",
       "      <th>15</th>\n",
       "      <td>West</td>\n",
       "      <td>IV</td>\n",
       "      <td>0.554</td>\n",
       "      <td>0.361</td>\n",
       "      <td>0.084</td>\n",
       "      <td>0.057</td>\n",
       "    </tr>\n",
       "  </tbody>\n",
       "</table>\n",
       "</div>"
      ],
      "text/plain": [
       "       region density   bush  dukakis  other  proportion\n",
       "0   Northeast       I  0.298    0.617  0.085       0.032\n",
       "1   Northeast      II  0.500    0.478  0.022       0.032\n",
       "2   Northeast     III  0.467    0.413  0.120       0.115\n",
       "3   Northeast      IV  0.464    0.522  0.014       0.048\n",
       "4     Midwest       I  0.404    0.489  0.106       0.032\n",
       "5     Midwest      II  0.447    0.447  0.106       0.065\n",
       "6     Midwest     III  0.509    0.388  0.103       0.080\n",
       "7     Midwest      IV  0.552    0.338  0.110       0.100\n",
       "8       South       I  0.571    0.286  0.143       0.015\n",
       "9       South      II  0.469    0.406  0.125       0.066\n",
       "10      South     III  0.515    0.404  0.081       0.068\n",
       "11      South      IV  0.555    0.352  0.093       0.126\n",
       "12       West       I  0.500    0.471  0.029       0.023\n",
       "13       West      II  0.532    0.351  0.117       0.053\n",
       "14       West     III  0.540    0.371  0.089       0.086\n",
       "15       West      IV  0.554    0.361  0.084       0.057"
      ]
     },
     "execution_count": 5,
     "metadata": {},
     "output_type": "execute_result"
    }
   ],
   "source": [
    "data = pd.read_csv('data/cbs_survey.txt', sep=' ', skiprows=2, skipinitialspace=True, index_col=False)\n",
    "data"
   ]
  },
  {
   "cell_type": "markdown",
   "metadata": {},
   "source": [
    "We need the number of people of each region and each candidate."
   ]
  },
  {
   "cell_type": "code",
   "execution_count": 6,
   "metadata": {},
   "outputs": [
    {
     "name": "stdout",
     "output_type": "stream",
     "text": [
      "[[0.298 0.617 0.085]\n",
      " [0.5   0.478 0.022]\n",
      " [0.467 0.413 0.12 ]\n",
      " [0.464 0.522 0.014]\n",
      " [0.404 0.489 0.106]\n",
      " [0.447 0.447 0.106]\n",
      " [0.509 0.388 0.103]\n",
      " [0.552 0.338 0.11 ]\n",
      " [0.571 0.286 0.143]\n",
      " [0.469 0.406 0.125]\n",
      " [0.515 0.404 0.081]\n",
      " [0.555 0.352 0.093]\n",
      " [0.5   0.471 0.029]\n",
      " [0.532 0.351 0.117]\n",
      " [0.54  0.371 0.089]\n",
      " [0.554 0.361 0.084]]\n"
     ]
    }
   ],
   "source": [
    "data_obs = data[['bush', 'dukakis', 'other']].to_numpy()\n",
    "print(data_obs)"
   ]
  },
  {
   "cell_type": "code",
   "execution_count": 7,
   "metadata": {},
   "outputs": [
    {
     "name": "stdout",
     "output_type": "stream",
     "text": [
      "[ 46.304  46.304 166.405  69.456  46.304  94.055 115.76  144.7    21.705\n",
      "  95.502  98.396 182.322  33.281  76.691 124.442  82.479]\n"
     ]
    }
   ],
   "source": [
    "proportion = data['proportion'].to_numpy() * participants\n",
    "print(proportion)"
   ]
  },
  {
   "cell_type": "code",
   "execution_count": 8,
   "metadata": {},
   "outputs": [
    {
     "name": "stdout",
     "output_type": "stream",
     "text": [
      "(16, 3)\n",
      "(16,)\n"
     ]
    }
   ],
   "source": [
    "print(data_obs.shape)\n",
    "print(proportion.shape)"
   ]
  },
  {
   "cell_type": "code",
   "execution_count": 9,
   "metadata": {},
   "outputs": [
    {
     "data": {
      "text/plain": [
       "1447.0"
      ]
     },
     "execution_count": 9,
     "metadata": {},
     "output_type": "execute_result"
    }
   ],
   "source": [
    "valores = data_obs[:, :] * proportion.reshape(16, -1)\n",
    "valores = np.round(valores)\n",
    "np.sum(valores)   # Check if the sum is equal to 1447"
   ]
  },
  {
   "cell_type": "markdown",
   "metadata": {},
   "source": [
    "### **Nonhierarchical model**"
   ]
  },
  {
   "cell_type": "code",
   "execution_count": 10,
   "metadata": {},
   "outputs": [],
   "source": [
    "with pm.Model() as model_non_hiera:\n",
    "    \n",
    "    thetas = pm.Dirichlet('thetas', a=np.ones_like(data_obs), shape=(16, 3))\n",
    "    post = pm.Multinomial('post', n=np.sum(valores, axis=1), p=thetas, observed=valores)"
   ]
  },
  {
   "cell_type": "code",
   "execution_count": 11,
   "metadata": {},
   "outputs": [
    {
     "data": {
      "text/plain": [
       "thetas_stickbreaking__    -41.64\n",
       "post                     -322.85\n",
       "Name: Log-probability of test_point, dtype: float64"
      ]
     },
     "execution_count": 11,
     "metadata": {},
     "output_type": "execute_result"
    }
   ],
   "source": [
    "model_non_hiera.check_test_point()"
   ]
  },
  {
   "cell_type": "code",
   "execution_count": 12,
   "metadata": {},
   "outputs": [
    {
     "ename": "ImportError",
     "evalue": "This function requires the python library graphviz, along with binaries. The easiest way to install all of this is by running\n\n\tconda install -c conda-forge python-graphviz",
     "output_type": "error",
     "traceback": [
      "\u001b[0;31m---------------------------------------------------------------------------\u001b[0m",
      "\u001b[0;31mModuleNotFoundError\u001b[0m                       Traceback (most recent call last)",
      "\u001b[0;32m~/anaconda3/envs/py3.7/lib/python3.7/site-packages/pymc3/model_graph.py\u001b[0m in \u001b[0;36mmake_graph\u001b[0;34m(self)\u001b[0m\n\u001b[1;32m    156\u001b[0m         \u001b[0;32mtry\u001b[0m\u001b[0;34m:\u001b[0m\u001b[0;34m\u001b[0m\u001b[0;34m\u001b[0m\u001b[0m\n\u001b[0;32m--> 157\u001b[0;31m             \u001b[0;32mimport\u001b[0m \u001b[0mgraphviz\u001b[0m\u001b[0;34m\u001b[0m\u001b[0;34m\u001b[0m\u001b[0m\n\u001b[0m\u001b[1;32m    158\u001b[0m         \u001b[0;32mexcept\u001b[0m \u001b[0mImportError\u001b[0m\u001b[0;34m:\u001b[0m\u001b[0;34m\u001b[0m\u001b[0;34m\u001b[0m\u001b[0m\n",
      "\u001b[0;31mModuleNotFoundError\u001b[0m: No module named 'graphviz'",
      "\nDuring handling of the above exception, another exception occurred:\n",
      "\u001b[0;31mImportError\u001b[0m                               Traceback (most recent call last)",
      "\u001b[0;32m<ipython-input-12-a73a139830a8>\u001b[0m in \u001b[0;36m<module>\u001b[0;34m\u001b[0m\n\u001b[0;32m----> 1\u001b[0;31m \u001b[0mpm\u001b[0m\u001b[0;34m.\u001b[0m\u001b[0mmodel_to_graphviz\u001b[0m\u001b[0;34m(\u001b[0m\u001b[0mmodel_non_hiera\u001b[0m\u001b[0;34m)\u001b[0m\u001b[0;34m\u001b[0m\u001b[0;34m\u001b[0m\u001b[0m\n\u001b[0m",
      "\u001b[0;32m~/anaconda3/envs/py3.7/lib/python3.7/site-packages/pymc3/model_graph.py\u001b[0m in \u001b[0;36mmodel_to_graphviz\u001b[0;34m(model)\u001b[0m\n\u001b[1;32m    194\u001b[0m     \"\"\"\n\u001b[1;32m    195\u001b[0m     \u001b[0mmodel\u001b[0m \u001b[0;34m=\u001b[0m \u001b[0mpm\u001b[0m\u001b[0;34m.\u001b[0m\u001b[0mmodelcontext\u001b[0m\u001b[0;34m(\u001b[0m\u001b[0mmodel\u001b[0m\u001b[0;34m)\u001b[0m\u001b[0;34m\u001b[0m\u001b[0;34m\u001b[0m\u001b[0m\n\u001b[0;32m--> 196\u001b[0;31m     \u001b[0;32mreturn\u001b[0m \u001b[0mModelGraph\u001b[0m\u001b[0;34m(\u001b[0m\u001b[0mmodel\u001b[0m\u001b[0;34m)\u001b[0m\u001b[0;34m.\u001b[0m\u001b[0mmake_graph\u001b[0m\u001b[0;34m(\u001b[0m\u001b[0;34m)\u001b[0m\u001b[0;34m\u001b[0m\u001b[0;34m\u001b[0m\u001b[0m\n\u001b[0m",
      "\u001b[0;32m~/anaconda3/envs/py3.7/lib/python3.7/site-packages/pymc3/model_graph.py\u001b[0m in \u001b[0;36mmake_graph\u001b[0;34m(self)\u001b[0m\n\u001b[1;32m    157\u001b[0m             \u001b[0;32mimport\u001b[0m \u001b[0mgraphviz\u001b[0m\u001b[0;34m\u001b[0m\u001b[0;34m\u001b[0m\u001b[0m\n\u001b[1;32m    158\u001b[0m         \u001b[0;32mexcept\u001b[0m \u001b[0mImportError\u001b[0m\u001b[0;34m:\u001b[0m\u001b[0;34m\u001b[0m\u001b[0;34m\u001b[0m\u001b[0m\n\u001b[0;32m--> 159\u001b[0;31m             raise ImportError('This function requires the python library graphviz, along with binaries. '\n\u001b[0m\u001b[1;32m    160\u001b[0m                               \u001b[0;34m'The easiest way to install all of this is by running\\n\\n'\u001b[0m\u001b[0;34m\u001b[0m\u001b[0;34m\u001b[0m\u001b[0m\n\u001b[1;32m    161\u001b[0m                               '\\tconda install -c conda-forge python-graphviz')\n",
      "\u001b[0;31mImportError\u001b[0m: This function requires the python library graphviz, along with binaries. The easiest way to install all of this is by running\n\n\tconda install -c conda-forge python-graphviz"
     ]
    }
   ],
   "source": [
    "pm.model_to_graphviz(model_non_hiera)"
   ]
  },
  {
   "cell_type": "code",
   "execution_count": 13,
   "metadata": {},
   "outputs": [
    {
     "name": "stderr",
     "output_type": "stream",
     "text": [
      "Auto-assigning NUTS sampler...\n",
      "Initializing NUTS using jitter+adapt_diag...\n",
      "Multiprocess sampling (4 chains in 4 jobs)\n",
      "NUTS: [thetas]\n",
      "Sampling 4 chains: 100%|██████████| 16000/16000 [00:14<00:00, 1119.48draws/s]\n"
     ]
    }
   ],
   "source": [
    "with model_non_hiera:\n",
    "    trace_1 = pm.sample(draws=2000, tune=2000)"
   ]
  },
  {
   "cell_type": "code",
   "execution_count": 14,
   "metadata": {},
   "outputs": [
    {
     "data": {
      "text/plain": [
       "<Figure size 864x0 with 0 Axes>"
      ]
     },
     "metadata": {},
     "output_type": "display_data"
    }
   ],
   "source": [
    "pm.traceplot(trace_1, var_names=['thetas__15_2']);"
   ]
  },
  {
   "cell_type": "code",
   "execution_count": 15,
   "metadata": {},
   "outputs": [
    {
     "data": {
      "text/plain": [
       "<matplotlib.axes._subplots.AxesSubplot at 0x7fef275b6d30>"
      ]
     },
     "execution_count": 15,
     "metadata": {},
     "output_type": "execute_result"
    },
    {
     "data": {
      "image/png": "[encoded data removed]",
      "text/plain": [
       "<Figure size 432x288 with 1 Axes>"
      ]
     },
     "metadata": {},
     "output_type": "display_data"
    }
   ],
   "source": [
    "seaborn.distplot(trace_1['thetas'][:, 15, 0])"
   ]
  },
  {
   "cell_type": "code",
   "execution_count": 16,
   "metadata": {
    "scrolled": true
   },
   "outputs": [
    {
     "data": {
      "text/html": [
       "<div>\n",
       "<style scoped>\n",
       "    .dataframe tbody tr th:only-of-type {\n",
       "        vertical-align: middle;\n",
       "    }\n",
       "\n",
       "    .dataframe tbody tr th {\n",
       "        vertical-align: top;\n",
       "    }\n",
       "\n",
       "    .dataframe thead th {\n",
       "        text-align: right;\n",
       "    }\n",
       "</style>\n",
       "<table border=\"1\" class=\"dataframe\">\n",
       "  <thead>\n",
       "    <tr style=\"text-align: right;\">\n",
       "      <th></th>\n",
       "      <th>mean</th>\n",
       "      <th>sd</th>\n",
       "      <th>mc_error</th>\n",
       "      <th>hpd_2.5</th>\n",
       "      <th>hpd_97.5</th>\n",
       "      <th>n_eff</th>\n",
       "      <th>Rhat</th>\n",
       "    </tr>\n",
       "  </thead>\n",
       "  <tbody>\n",
       "    <tr>\n",
       "      <th>thetas__0_0</th>\n",
       "      <td>0.299653</td>\n",
       "      <td>0.063840</td>\n",
       "      <td>0.000534</td>\n",
       "      <td>0.176089</td>\n",
       "      <td>0.423617</td>\n",
       "      <td>19226.807333</td>\n",
       "      <td>0.999785</td>\n",
       "    </tr>\n",
       "    <tr>\n",
       "      <th>thetas__0_1</th>\n",
       "      <td>0.600337</td>\n",
       "      <td>0.069006</td>\n",
       "      <td>0.000571</td>\n",
       "      <td>0.460822</td>\n",
       "      <td>0.729916</td>\n",
       "      <td>18468.245681</td>\n",
       "      <td>0.999809</td>\n",
       "    </tr>\n",
       "    <tr>\n",
       "      <th>thetas__0_2</th>\n",
       "      <td>0.100010</td>\n",
       "      <td>0.042210</td>\n",
       "      <td>0.000300</td>\n",
       "      <td>0.024209</td>\n",
       "      <td>0.181230</td>\n",
       "      <td>15983.247000</td>\n",
       "      <td>0.999842</td>\n",
       "    </tr>\n",
       "    <tr>\n",
       "      <th>thetas__1_0</th>\n",
       "      <td>0.490342</td>\n",
       "      <td>0.070030</td>\n",
       "      <td>0.000527</td>\n",
       "      <td>0.352220</td>\n",
       "      <td>0.622480</td>\n",
       "      <td>15033.358733</td>\n",
       "      <td>0.999812</td>\n",
       "    </tr>\n",
       "    <tr>\n",
       "      <th>thetas__1_1</th>\n",
       "      <td>0.468789</td>\n",
       "      <td>0.070418</td>\n",
       "      <td>0.000516</td>\n",
       "      <td>0.329812</td>\n",
       "      <td>0.603250</td>\n",
       "      <td>14397.420075</td>\n",
       "      <td>0.999846</td>\n",
       "    </tr>\n",
       "    <tr>\n",
       "      <th>thetas__1_2</th>\n",
       "      <td>0.040869</td>\n",
       "      <td>0.027871</td>\n",
       "      <td>0.000216</td>\n",
       "      <td>0.000746</td>\n",
       "      <td>0.095530</td>\n",
       "      <td>13813.564556</td>\n",
       "      <td>0.999929</td>\n",
       "    </tr>\n",
       "    <tr>\n",
       "      <th>thetas__2_0</th>\n",
       "      <td>0.464064</td>\n",
       "      <td>0.037702</td>\n",
       "      <td>0.000243</td>\n",
       "      <td>0.392602</td>\n",
       "      <td>0.538467</td>\n",
       "      <td>19458.166318</td>\n",
       "      <td>0.999827</td>\n",
       "    </tr>\n",
       "    <tr>\n",
       "      <th>thetas__2_1</th>\n",
       "      <td>0.412692</td>\n",
       "      <td>0.036871</td>\n",
       "      <td>0.000283</td>\n",
       "      <td>0.340354</td>\n",
       "      <td>0.485125</td>\n",
       "      <td>18771.180462</td>\n",
       "      <td>0.999881</td>\n",
       "    </tr>\n",
       "    <tr>\n",
       "      <th>thetas__2_2</th>\n",
       "      <td>0.123243</td>\n",
       "      <td>0.025265</td>\n",
       "      <td>0.000194</td>\n",
       "      <td>0.074236</td>\n",
       "      <td>0.172532</td>\n",
       "      <td>19247.971606</td>\n",
       "      <td>1.000048</td>\n",
       "    </tr>\n",
       "    <tr>\n",
       "      <th>thetas__3_0</th>\n",
       "      <td>0.458331</td>\n",
       "      <td>0.058274</td>\n",
       "      <td>0.000404</td>\n",
       "      <td>0.350884</td>\n",
       "      <td>0.573547</td>\n",
       "      <td>21956.980693</td>\n",
       "      <td>0.999798</td>\n",
       "    </tr>\n",
       "    <tr>\n",
       "      <th>thetas__3_1</th>\n",
       "      <td>0.513887</td>\n",
       "      <td>0.058365</td>\n",
       "      <td>0.000421</td>\n",
       "      <td>0.400916</td>\n",
       "      <td>0.625856</td>\n",
       "      <td>20763.790406</td>\n",
       "      <td>0.999808</td>\n",
       "    </tr>\n",
       "    <tr>\n",
       "      <th>thetas__3_2</th>\n",
       "      <td>0.027782</td>\n",
       "      <td>0.018636</td>\n",
       "      <td>0.000155</td>\n",
       "      <td>0.000876</td>\n",
       "      <td>0.064515</td>\n",
       "      <td>14496.997795</td>\n",
       "      <td>1.000732</td>\n",
       "    </tr>\n",
       "    <tr>\n",
       "      <th>thetas__4_0</th>\n",
       "      <td>0.399457</td>\n",
       "      <td>0.068020</td>\n",
       "      <td>0.000426</td>\n",
       "      <td>0.266600</td>\n",
       "      <td>0.529972</td>\n",
       "      <td>19987.478184</td>\n",
       "      <td>0.999802</td>\n",
       "    </tr>\n",
       "    <tr>\n",
       "      <th>thetas__4_1</th>\n",
       "      <td>0.480441</td>\n",
       "      <td>0.070492</td>\n",
       "      <td>0.000481</td>\n",
       "      <td>0.342083</td>\n",
       "      <td>0.620177</td>\n",
       "      <td>19274.322698</td>\n",
       "      <td>0.999810</td>\n",
       "    </tr>\n",
       "    <tr>\n",
       "      <th>thetas__4_2</th>\n",
       "      <td>0.120102</td>\n",
       "      <td>0.045973</td>\n",
       "      <td>0.000342</td>\n",
       "      <td>0.038873</td>\n",
       "      <td>0.208613</td>\n",
       "      <td>16807.535528</td>\n",
       "      <td>0.999758</td>\n",
       "    </tr>\n",
       "    <tr>\n",
       "      <th>thetas__5_0</th>\n",
       "      <td>0.442632</td>\n",
       "      <td>0.051158</td>\n",
       "      <td>0.000391</td>\n",
       "      <td>0.346236</td>\n",
       "      <td>0.547049</td>\n",
       "      <td>18835.749177</td>\n",
       "      <td>0.999964</td>\n",
       "    </tr>\n",
       "    <tr>\n",
       "      <th>thetas__5_1</th>\n",
       "      <td>0.443866</td>\n",
       "      <td>0.050986</td>\n",
       "      <td>0.000394</td>\n",
       "      <td>0.344361</td>\n",
       "      <td>0.542416</td>\n",
       "      <td>18516.609427</td>\n",
       "      <td>0.999944</td>\n",
       "    </tr>\n",
       "    <tr>\n",
       "      <th>thetas__5_2</th>\n",
       "      <td>0.113501</td>\n",
       "      <td>0.031837</td>\n",
       "      <td>0.000248</td>\n",
       "      <td>0.054894</td>\n",
       "      <td>0.177011</td>\n",
       "      <td>18403.883543</td>\n",
       "      <td>0.999763</td>\n",
       "    </tr>\n",
       "    <tr>\n",
       "      <th>thetas__6_0</th>\n",
       "      <td>0.503893</td>\n",
       "      <td>0.045648</td>\n",
       "      <td>0.000363</td>\n",
       "      <td>0.416098</td>\n",
       "      <td>0.593584</td>\n",
       "      <td>18822.631233</td>\n",
       "      <td>0.999842</td>\n",
       "    </tr>\n",
       "    <tr>\n",
       "      <th>thetas__6_1</th>\n",
       "      <td>0.386539</td>\n",
       "      <td>0.044409</td>\n",
       "      <td>0.000325</td>\n",
       "      <td>0.297472</td>\n",
       "      <td>0.470055</td>\n",
       "      <td>18637.837019</td>\n",
       "      <td>0.999820</td>\n",
       "    </tr>\n",
       "    <tr>\n",
       "      <th>thetas__6_2</th>\n",
       "      <td>0.109568</td>\n",
       "      <td>0.029372</td>\n",
       "      <td>0.000212</td>\n",
       "      <td>0.055798</td>\n",
       "      <td>0.169069</td>\n",
       "      <td>19242.299863</td>\n",
       "      <td>0.999787</td>\n",
       "    </tr>\n",
       "    <tr>\n",
       "      <th>thetas__7_0</th>\n",
       "      <td>0.546738</td>\n",
       "      <td>0.040534</td>\n",
       "      <td>0.000260</td>\n",
       "      <td>0.466839</td>\n",
       "      <td>0.625034</td>\n",
       "      <td>20173.606252</td>\n",
       "      <td>0.999806</td>\n",
       "    </tr>\n",
       "    <tr>\n",
       "      <th>thetas__7_1</th>\n",
       "      <td>0.338108</td>\n",
       "      <td>0.038778</td>\n",
       "      <td>0.000260</td>\n",
       "      <td>0.262366</td>\n",
       "      <td>0.412310</td>\n",
       "      <td>18502.545097</td>\n",
       "      <td>0.999833</td>\n",
       "    </tr>\n",
       "    <tr>\n",
       "      <th>thetas__7_2</th>\n",
       "      <td>0.115154</td>\n",
       "      <td>0.025975</td>\n",
       "      <td>0.000179</td>\n",
       "      <td>0.067962</td>\n",
       "      <td>0.168853</td>\n",
       "      <td>21699.085193</td>\n",
       "      <td>0.999798</td>\n",
       "    </tr>\n",
       "    <tr>\n",
       "      <th>thetas__8_0</th>\n",
       "      <td>0.541549</td>\n",
       "      <td>0.100485</td>\n",
       "      <td>0.000804</td>\n",
       "      <td>0.337228</td>\n",
       "      <td>0.731867</td>\n",
       "      <td>21756.221327</td>\n",
       "      <td>0.999811</td>\n",
       "    </tr>\n",
       "    <tr>\n",
       "      <th>thetas__8_1</th>\n",
       "      <td>0.290757</td>\n",
       "      <td>0.090019</td>\n",
       "      <td>0.000699</td>\n",
       "      <td>0.127399</td>\n",
       "      <td>0.474719</td>\n",
       "      <td>16702.111324</td>\n",
       "      <td>0.999843</td>\n",
       "    </tr>\n",
       "    <tr>\n",
       "      <th>thetas__8_2</th>\n",
       "      <td>0.167694</td>\n",
       "      <td>0.075138</td>\n",
       "      <td>0.000628</td>\n",
       "      <td>0.040590</td>\n",
       "      <td>0.321044</td>\n",
       "      <td>17292.538473</td>\n",
       "      <td>0.999977</td>\n",
       "    </tr>\n",
       "    <tr>\n",
       "      <th>thetas__9_0</th>\n",
       "      <td>0.465101</td>\n",
       "      <td>0.050474</td>\n",
       "      <td>0.000368</td>\n",
       "      <td>0.367399</td>\n",
       "      <td>0.562391</td>\n",
       "      <td>18417.435051</td>\n",
       "      <td>0.999771</td>\n",
       "    </tr>\n",
       "    <tr>\n",
       "      <th>thetas__9_1</th>\n",
       "      <td>0.403843</td>\n",
       "      <td>0.048088</td>\n",
       "      <td>0.000332</td>\n",
       "      <td>0.312779</td>\n",
       "      <td>0.500643</td>\n",
       "      <td>20102.952739</td>\n",
       "      <td>0.999900</td>\n",
       "    </tr>\n",
       "    <tr>\n",
       "      <th>thetas__9_2</th>\n",
       "      <td>0.131056</td>\n",
       "      <td>0.033691</td>\n",
       "      <td>0.000255</td>\n",
       "      <td>0.070047</td>\n",
       "      <td>0.198067</td>\n",
       "      <td>16906.085964</td>\n",
       "      <td>0.999889</td>\n",
       "    </tr>\n",
       "    <tr>\n",
       "      <th>thetas__10_0</th>\n",
       "      <td>0.509483</td>\n",
       "      <td>0.048419</td>\n",
       "      <td>0.000370</td>\n",
       "      <td>0.414436</td>\n",
       "      <td>0.602676</td>\n",
       "      <td>18239.457463</td>\n",
       "      <td>0.999843</td>\n",
       "    </tr>\n",
       "    <tr>\n",
       "      <th>thetas__10_1</th>\n",
       "      <td>0.402299</td>\n",
       "      <td>0.048224</td>\n",
       "      <td>0.000390</td>\n",
       "      <td>0.303979</td>\n",
       "      <td>0.492355</td>\n",
       "      <td>17933.905733</td>\n",
       "      <td>0.999860</td>\n",
       "    </tr>\n",
       "    <tr>\n",
       "      <th>thetas__10_2</th>\n",
       "      <td>0.088219</td>\n",
       "      <td>0.027850</td>\n",
       "      <td>0.000209</td>\n",
       "      <td>0.038264</td>\n",
       "      <td>0.142583</td>\n",
       "      <td>16701.621952</td>\n",
       "      <td>0.999828</td>\n",
       "    </tr>\n",
       "    <tr>\n",
       "      <th>thetas__11_0</th>\n",
       "      <td>0.551560</td>\n",
       "      <td>0.036577</td>\n",
       "      <td>0.000267</td>\n",
       "      <td>0.482718</td>\n",
       "      <td>0.627536</td>\n",
       "      <td>19075.753671</td>\n",
       "      <td>0.999804</td>\n",
       "    </tr>\n",
       "    <tr>\n",
       "      <th>thetas__11_1</th>\n",
       "      <td>0.350830</td>\n",
       "      <td>0.035199</td>\n",
       "      <td>0.000255</td>\n",
       "      <td>0.281403</td>\n",
       "      <td>0.420081</td>\n",
       "      <td>18337.153621</td>\n",
       "      <td>0.999793</td>\n",
       "    </tr>\n",
       "    <tr>\n",
       "      <th>thetas__11_2</th>\n",
       "      <td>0.097611</td>\n",
       "      <td>0.021902</td>\n",
       "      <td>0.000163</td>\n",
       "      <td>0.056112</td>\n",
       "      <td>0.140080</td>\n",
       "      <td>15975.056272</td>\n",
       "      <td>0.999787</td>\n",
       "    </tr>\n",
       "    <tr>\n",
       "      <th>thetas__12_0</th>\n",
       "      <td>0.487553</td>\n",
       "      <td>0.082854</td>\n",
       "      <td>0.000546</td>\n",
       "      <td>0.335342</td>\n",
       "      <td>0.657384</td>\n",
       "      <td>18946.751402</td>\n",
       "      <td>0.999796</td>\n",
       "    </tr>\n",
       "    <tr>\n",
       "      <th>thetas__12_1</th>\n",
       "      <td>0.458404</td>\n",
       "      <td>0.081950</td>\n",
       "      <td>0.000524</td>\n",
       "      <td>0.301804</td>\n",
       "      <td>0.617216</td>\n",
       "      <td>17765.816253</td>\n",
       "      <td>0.999796</td>\n",
       "    </tr>\n",
       "    <tr>\n",
       "      <th>thetas__12_2</th>\n",
       "      <td>0.054042</td>\n",
       "      <td>0.036801</td>\n",
       "      <td>0.000269</td>\n",
       "      <td>0.002726</td>\n",
       "      <td>0.126433</td>\n",
       "      <td>16322.152351</td>\n",
       "      <td>0.999752</td>\n",
       "    </tr>\n",
       "    <tr>\n",
       "      <th>thetas__13_0</th>\n",
       "      <td>0.524909</td>\n",
       "      <td>0.055371</td>\n",
       "      <td>0.000378</td>\n",
       "      <td>0.416199</td>\n",
       "      <td>0.631048</td>\n",
       "      <td>21114.413565</td>\n",
       "      <td>0.999861</td>\n",
       "    </tr>\n",
       "    <tr>\n",
       "      <th>thetas__13_1</th>\n",
       "      <td>0.349478</td>\n",
       "      <td>0.052214</td>\n",
       "      <td>0.000429</td>\n",
       "      <td>0.248569</td>\n",
       "      <td>0.450790</td>\n",
       "      <td>21404.231979</td>\n",
       "      <td>0.999807</td>\n",
       "    </tr>\n",
       "    <tr>\n",
       "      <th>thetas__13_2</th>\n",
       "      <td>0.125612</td>\n",
       "      <td>0.037012</td>\n",
       "      <td>0.000287</td>\n",
       "      <td>0.059061</td>\n",
       "      <td>0.199523</td>\n",
       "      <td>17155.047936</td>\n",
       "      <td>1.000053</td>\n",
       "    </tr>\n",
       "    <tr>\n",
       "      <th>thetas__14_0</th>\n",
       "      <td>0.535991</td>\n",
       "      <td>0.043761</td>\n",
       "      <td>0.000362</td>\n",
       "      <td>0.449082</td>\n",
       "      <td>0.619943</td>\n",
       "      <td>19147.629781</td>\n",
       "      <td>0.999848</td>\n",
       "    </tr>\n",
       "    <tr>\n",
       "      <th>thetas__14_1</th>\n",
       "      <td>0.369384</td>\n",
       "      <td>0.042359</td>\n",
       "      <td>0.000326</td>\n",
       "      <td>0.285364</td>\n",
       "      <td>0.450912</td>\n",
       "      <td>18691.274239</td>\n",
       "      <td>0.999761</td>\n",
       "    </tr>\n",
       "    <tr>\n",
       "      <th>thetas__14_2</th>\n",
       "      <td>0.094625</td>\n",
       "      <td>0.025174</td>\n",
       "      <td>0.000201</td>\n",
       "      <td>0.047936</td>\n",
       "      <td>0.143532</td>\n",
       "      <td>18401.157619</td>\n",
       "      <td>0.999886</td>\n",
       "    </tr>\n",
       "    <tr>\n",
       "      <th>thetas__15_0</th>\n",
       "      <td>0.545857</td>\n",
       "      <td>0.054085</td>\n",
       "      <td>0.000376</td>\n",
       "      <td>0.444635</td>\n",
       "      <td>0.653482</td>\n",
       "      <td>19266.951987</td>\n",
       "      <td>0.999766</td>\n",
       "    </tr>\n",
       "    <tr>\n",
       "      <th>thetas__15_1</th>\n",
       "      <td>0.360848</td>\n",
       "      <td>0.052028</td>\n",
       "      <td>0.000336</td>\n",
       "      <td>0.263611</td>\n",
       "      <td>0.468789</td>\n",
       "      <td>19861.024869</td>\n",
       "      <td>0.999786</td>\n",
       "    </tr>\n",
       "    <tr>\n",
       "      <th>thetas__15_2</th>\n",
       "      <td>0.093294</td>\n",
       "      <td>0.031597</td>\n",
       "      <td>0.000240</td>\n",
       "      <td>0.034255</td>\n",
       "      <td>0.153912</td>\n",
       "      <td>17169.191302</td>\n",
       "      <td>0.999770</td>\n",
       "    </tr>\n",
       "  </tbody>\n",
       "</table>\n",
       "</div>"
      ],
      "text/plain": [
       "                  mean        sd  mc_error   hpd_2.5  hpd_97.5         n_eff  \\\n",
       "thetas__0_0   0.299653  0.063840  0.000534  0.176089  0.423617  19226.807333   \n",
       "thetas__0_1   0.600337  0.069006  0.000571  0.460822  0.729916  18468.245681   \n",
       "thetas__0_2   0.100010  0.042210  0.000300  0.024209  0.181230  15983.247000   \n",
       "thetas__1_0   0.490342  0.070030  0.000527  0.352220  0.622480  15033.358733   \n",
       "thetas__1_1   0.468789  0.070418  0.000516  0.329812  0.603250  14397.420075   \n",
       "thetas__1_2   0.040869  0.027871  0.000216  0.000746  0.095530  13813.564556   \n",
       "thetas__2_0   0.464064  0.037702  0.000243  0.392602  0.538467  19458.166318   \n",
       "thetas__2_1   0.412692  0.036871  0.000283  0.340354  0.485125  18771.180462   \n",
       "thetas__2_2   0.123243  0.025265  0.000194  0.074236  0.172532  19247.971606   \n",
       "thetas__3_0   0.458331  0.058274  0.000404  0.350884  0.573547  21956.980693   \n",
       "thetas__3_1   0.513887  0.058365  0.000421  0.400916  0.625856  20763.790406   \n",
       "thetas__3_2   0.027782  0.018636  0.000155  0.000876  0.064515  14496.997795   \n",
       "thetas__4_0   0.399457  0.068020  0.000426  0.266600  0.529972  19987.478184   \n",
       "thetas__4_1   0.480441  0.070492  0.000481  0.342083  0.620177  19274.322698   \n",
       "thetas__4_2   0.120102  0.045973  0.000342  0.038873  0.208613  16807.535528   \n",
       "thetas__5_0   0.442632  0.051158  0.000391  0.346236  0.547049  18835.749177   \n",
       "thetas__5_1   0.443866  0.050986  0.000394  0.344361  0.542416  18516.609427   \n",
       "thetas__5_2   0.113501  0.031837  0.000248  0.054894  0.177011  18403.883543   \n",
       "thetas__6_0   0.503893  0.045648  0.000363  0.416098  0.593584  18822.631233   \n",
       "thetas__6_1   0.386539  0.044409  0.000325  0.297472  0.470055  18637.837019   \n",
       "thetas__6_2   0.109568  0.029372  0.000212  0.055798  0.169069  19242.299863   \n",
       "thetas__7_0   0.546738  0.040534  0.000260  0.466839  0.625034  20173.606252   \n",
       "thetas__7_1   0.338108  0.038778  0.000260  0.262366  0.412310  18502.545097   \n",
       "thetas__7_2   0.115154  0.025975  0.000179  0.067962  0.168853  21699.085193   \n",
       "thetas__8_0   0.541549  0.100485  0.000804  0.337228  0.731867  21756.221327   \n",
       "thetas__8_1   0.290757  0.090019  0.000699  0.127399  0.474719  16702.111324   \n",
       "thetas__8_2   0.167694  0.075138  0.000628  0.040590  0.321044  17292.538473   \n",
       "thetas__9_0   0.465101  0.050474  0.000368  0.367399  0.562391  18417.435051   \n",
       "thetas__9_1   0.403843  0.048088  0.000332  0.312779  0.500643  20102.952739   \n",
       "thetas__9_2   0.131056  0.033691  0.000255  0.070047  0.198067  16906.085964   \n",
       "thetas__10_0  0.509483  0.048419  0.000370  0.414436  0.602676  18239.457463   \n",
       "thetas__10_1  0.402299  0.048224  0.000390  0.303979  0.492355  17933.905733   \n",
       "thetas__10_2  0.088219  0.027850  0.000209  0.038264  0.142583  16701.621952   \n",
       "thetas__11_0  0.551560  0.036577  0.000267  0.482718  0.627536  19075.753671   \n",
       "thetas__11_1  0.350830  0.035199  0.000255  0.281403  0.420081  18337.153621   \n",
       "thetas__11_2  0.097611  0.021902  0.000163  0.056112  0.140080  15975.056272   \n",
       "thetas__12_0  0.487553  0.082854  0.000546  0.335342  0.657384  18946.751402   \n",
       "thetas__12_1  0.458404  0.081950  0.000524  0.301804  0.617216  17765.816253   \n",
       "thetas__12_2  0.054042  0.036801  0.000269  0.002726  0.126433  16322.152351   \n",
       "thetas__13_0  0.524909  0.055371  0.000378  0.416199  0.631048  21114.413565   \n",
       "thetas__13_1  0.349478  0.052214  0.000429  0.248569  0.450790  21404.231979   \n",
       "thetas__13_2  0.125612  0.037012  0.000287  0.059061  0.199523  17155.047936   \n",
       "thetas__14_0  0.535991  0.043761  0.000362  0.449082  0.619943  19147.629781   \n",
       "thetas__14_1  0.369384  0.042359  0.000326  0.285364  0.450912  18691.274239   \n",
       "thetas__14_2  0.094625  0.025174  0.000201  0.047936  0.143532  18401.157619   \n",
       "thetas__15_0  0.545857  0.054085  0.000376  0.444635  0.653482  19266.951987   \n",
       "thetas__15_1  0.360848  0.052028  0.000336  0.263611  0.468789  19861.024869   \n",
       "thetas__15_2  0.093294  0.031597  0.000240  0.034255  0.153912  17169.191302   \n",
       "\n",
       "                  Rhat  \n",
       "thetas__0_0   0.999785  \n",
       "thetas__0_1   0.999809  \n",
       "thetas__0_2   0.999842  \n",
       "thetas__1_0   0.999812  \n",
       "thetas__1_1   0.999846  \n",
       "thetas__1_2   0.999929  \n",
       "thetas__2_0   0.999827  \n",
       "thetas__2_1   0.999881  \n",
       "thetas__2_2   1.000048  \n",
       "thetas__3_0   0.999798  \n",
       "thetas__3_1   0.999808  \n",
       "thetas__3_2   1.000732  \n",
       "thetas__4_0   0.999802  \n",
       "thetas__4_1   0.999810  \n",
       "thetas__4_2   0.999758  \n",
       "thetas__5_0   0.999964  \n",
       "thetas__5_1   0.999944  \n",
       "thetas__5_2   0.999763  \n",
       "thetas__6_0   0.999842  \n",
       "thetas__6_1   0.999820  \n",
       "thetas__6_2   0.999787  \n",
       "thetas__7_0   0.999806  \n",
       "thetas__7_1   0.999833  \n",
       "thetas__7_2   0.999798  \n",
       "thetas__8_0   0.999811  \n",
       "thetas__8_1   0.999843  \n",
       "thetas__8_2   0.999977  \n",
       "thetas__9_0   0.999771  \n",
       "thetas__9_1   0.999900  \n",
       "thetas__9_2   0.999889  \n",
       "thetas__10_0  0.999843  \n",
       "thetas__10_1  0.999860  \n",
       "thetas__10_2  0.999828  \n",
       "thetas__11_0  0.999804  \n",
       "thetas__11_1  0.999793  \n",
       "thetas__11_2  0.999787  \n",
       "thetas__12_0  0.999796  \n",
       "thetas__12_1  0.999796  \n",
       "thetas__12_2  0.999752  \n",
       "thetas__13_0  0.999861  \n",
       "thetas__13_1  0.999807  \n",
       "thetas__13_2  1.000053  \n",
       "thetas__14_0  0.999848  \n",
       "thetas__14_1  0.999761  \n",
       "thetas__14_2  0.999886  \n",
       "thetas__15_0  0.999766  \n",
       "thetas__15_1  0.999786  \n",
       "thetas__15_2  0.999770  "
      ]
     },
     "execution_count": 16,
     "metadata": {},
     "output_type": "execute_result"
    }
   ],
   "source": [
    "pm.summary(trace_1)"
   ]
  },
  {
   "cell_type": "markdown",
   "metadata": {},
   "source": [
    "Now, the goal is to reproduce the figure 8.1 (a)."
   ]
  },
  {
   "cell_type": "code",
   "execution_count": 17,
   "metadata": {},
   "outputs": [
    {
     "name": "stderr",
     "output_type": "stream",
     "text": [
      "100%|██████████| 1000/1000 [00:01<00:00, 889.86it/s]\n"
     ]
    }
   ],
   "source": [
    "with model_non_hiera:\n",
    "    ppc_non_hiera = pm.sample_posterior_predictive(trace_1, samples=1000, vars=[thetas, post])"
   ]
  },
  {
   "cell_type": "code",
   "execution_count": 18,
   "metadata": {},
   "outputs": [
    {
     "data": {
      "text/plain": [
       "(1000, 16, 3)"
      ]
     },
     "execution_count": 18,
     "metadata": {},
     "output_type": "execute_result"
    }
   ],
   "source": [
    "ppc_non_hiera['thetas'].shape"
   ]
  },
  {
   "cell_type": "markdown",
   "metadata": {},
   "source": [
    "Just check if the column **proportion** (look at the data frame) is equal to what we got."
   ]
  },
  {
   "cell_type": "code",
   "execution_count": 19,
   "metadata": {},
   "outputs": [
    {
     "data": {
      "text/plain": [
       "array([0.03206413, 0.03206413, 0.11523046, 0.04809619, 0.03206413,\n",
       "       0.06513026, 0.08016032, 0.1002004 , 0.01503006, 0.06613226,\n",
       "       0.06813627, 0.12625251, 0.02304609, 0.05310621, 0.08617234,\n",
       "       0.05711423])"
      ]
     },
     "execution_count": 19,
     "metadata": {},
     "output_type": "execute_result"
    }
   ],
   "source": [
    "proportion / np.sum(proportion)"
   ]
  },
  {
   "cell_type": "code",
   "execution_count": 20,
   "metadata": {},
   "outputs": [],
   "source": [
    "diff = []\n",
    "\n",
    "for i in range(16):\n",
    "    result = ppc_non_hiera['thetas'][:, i, 0] - ppc_non_hiera['thetas'][:, i, 1]\n",
    "    diff.append(list(result))"
   ]
  },
  {
   "cell_type": "code",
   "execution_count": 21,
   "metadata": {},
   "outputs": [
    {
     "data": {
      "text/plain": [
       "array([[-0.36602273, -0.19682315, -0.36796852, ..., -0.48749388,\n",
       "        -0.32218869, -0.04764414],\n",
       "       [-0.02860091,  0.13603276, -0.15743739, ..., -0.17841541,\n",
       "         0.26005232,  0.15633098],\n",
       "       [ 0.09419482,  0.08172248,  0.02700719, ...,  0.07112208,\n",
       "         0.06369524,  0.01833077],\n",
       "       ...,\n",
       "       [ 0.2096655 ,  0.12545752,  0.34367845, ...,  0.25501784,\n",
       "         0.31038741,  0.20693177],\n",
       "       [ 0.24176366,  0.22392918,  0.20225605, ...,  0.16170903,\n",
       "         0.09215016,  0.12158467],\n",
       "       [ 0.26952366,  0.11230593,  0.32890665, ...,  0.31401458,\n",
       "         0.10214156,  0.15254369]])"
      ]
     },
     "execution_count": 21,
     "metadata": {},
     "output_type": "execute_result"
    }
   ],
   "source": [
    "diff = np.asarray(diff)\n",
    "diff"
   ]
  },
  {
   "cell_type": "code",
   "execution_count": 22,
   "metadata": {},
   "outputs": [],
   "source": [
    "res = np.sum(diff.T * proportion / np.sum(proportion), axis=1)"
   ]
  },
  {
   "cell_type": "code",
   "execution_count": 23,
   "metadata": {},
   "outputs": [
    {
     "data": {
      "image/png": "[encoded data removed]",
      "text/plain": [
       "<Figure size 720x432 with 1 Axes>"
      ]
     },
     "metadata": {},
     "output_type": "display_data"
    }
   ],
   "source": [
    "plt.figure(figsize=(10, 6))\n",
    "_, _, _ = plt.hist(res, bins=18, edgecolor='w', density=True)"
   ]
  },
  {
   "cell_type": "markdown",
   "metadata": {},
   "source": [
    "### **Hierarchichal model**"
   ]
  },
  {
   "cell_type": "markdown",
   "metadata": {},
   "source": [
    "The authors are using other parameters, so we need to find the number of people for $\\alpha_{1j}$ and $\\alpha_{2j}$."
   ]
  },
  {
   "cell_type": "code",
   "execution_count": 24,
   "metadata": {},
   "outputs": [
    {
     "name": "stdout",
     "output_type": "stream",
     "text": [
      "[ 42.  45. 146.  68.  41.  84. 104. 129.  19.  84.  90. 165.  32.  68.\n",
      " 113.  76.]\n"
     ]
    }
   ],
   "source": [
    "alpha_2j = np.round((1 - data['other'].to_numpy()) * data.proportion.to_numpy() * participants)\n",
    "print(alpha_2j)"
   ]
  },
  {
   "cell_type": "code",
   "execution_count": 56,
   "metadata": {},
   "outputs": [
    {
     "name": "stdout",
     "output_type": "stream",
     "text": [
      "[0.6744186  0.48888889 0.46938776 0.52941176 0.54761905 0.5\n",
      " 0.43269231 0.37984496 0.33333333 0.46428571 0.43956044 0.38787879\n",
      " 0.48484848 0.39705882 0.40707965 0.39473684]\n"
     ]
    }
   ],
   "source": [
    "alpha_1j = valores[:, 1] / (valores[:, 0] + valores[:, 1])\n",
    "print(alpha_1j)"
   ]
  },
  {
   "cell_type": "code",
   "execution_count": 57,
   "metadata": {},
   "outputs": [
    {
     "name": "stdout",
     "output_type": "stream",
     "text": [
      "[[ 31.  42.]\n",
      " [ 23.  45.]\n",
      " [ 78. 146.]\n",
      " [ 37.  68.]\n",
      " [ 25.  41.]\n",
      " [ 47.  84.]\n",
      " [ 50. 104.]\n",
      " [ 55. 129.]\n",
      " [  7.  19.]\n",
      " [ 44.  84.]\n",
      " [ 43.  90.]\n",
      " [ 71. 165.]\n",
      " [ 16.  32.]\n",
      " [ 30.  68.]\n",
      " [ 51. 113.]\n",
      " [ 33.  76.]]\n"
     ]
    }
   ],
   "source": [
    "new_values = np.round(np.stack([alpha_1j * data.proportion.to_numpy() * participants, alpha_2j], axis=1))\n",
    "print(new_values)"
   ]
  },
  {
   "cell_type": "code",
   "execution_count": 58,
   "metadata": {},
   "outputs": [],
   "source": [
    "with pm.Model() as model_hier:\n",
    "    \n",
    "# #     rho = pm.Uniform('rho', lower=0, upper=1)\n",
    "#     rho = pm.Normal('rho', mu=-0.5, sd=.2)\n",
    "# #     mu = pm.Uniform('mu', lower=0, upper=50, shape=(2,))\n",
    "#     mu = pm.HalfNormal('mu', sd=4, shape=(2,))\n",
    "# #     mu2 = pm.HalfNormal('mu2', sd=1.4)\n",
    "# #     tau = pm.Uniform('tau', lower=-2, upper=3, shape=(2,))\n",
    "#     tau = pm.Beta('tau', alpha=2, beta=2, shape=(2,))\n",
    "    \n",
    "#     covariance = tt.stack([[tau[0]**2, rho * tau[0] * tau[1]], [rho * tau[0] * tau[1], tau[1]**2]], axis=1)\n",
    "# #     print(covariance)\n",
    "    packed_L = pm.LKJCholeskyCov('packed_L', n=2, eta=2., sd_dist=pm.HalfCauchy.dist(5))\n",
    "\n",
    "    L = pm.expand_packed_triangular(2, packed_L)\n",
    "    Sigma = pm.Deterministic('Sigma', L.dot(L.T))\n",
    "\n",
    "    mu = pm.Normal('mu', 0., 10., shape=2, testval=new_values.mean(axis=0))\n",
    "    beta = pm.MvNormal('beta', mu=mu, chol=L, shape=2)\n",
    "    \n",
    "#     beta = pm.MvNormal('beta', mu=mu, cov=covariance, shape=2)\n",
    "    \n",
    "    alpha1 = pm.invlogit(beta[0])\n",
    "    alpha2 = pm.invlogit(beta[1])\n",
    "    \n",
    "    alphas = pm.Dirichlet('alphas', a=tt.stack([alpha1, alpha2], axis=1), shape=(16, 2))\n",
    "#     alphas = pm.Dirichlet('alphas', a=np.array([alpha1, alpha2]), shape=(16, 2))\n",
    "\n",
    "    post = pm.Multinomial('post', n=np.sum(new_values, axis=1), p=alphas, observed=new_values)"
   ]
  },
  {
   "cell_type": "code",
   "execution_count": 59,
   "metadata": {},
   "outputs": [
    {
     "data": {
      "text/plain": [
       "packed_L_cholesky-cov-packed__     -3.91\n",
       "mu                                -47.78\n",
       "beta                               -1.84\n",
       "alphas_stickbreaking__            -22.18\n",
       "post                             -159.77\n",
       "Name: Log-probability of test_point, dtype: float64"
      ]
     },
     "execution_count": 59,
     "metadata": {},
     "output_type": "execute_result"
    }
   ],
   "source": [
    "model_hier.check_test_point()"
   ]
  },
  {
   "cell_type": "code",
   "execution_count": 60,
   "metadata": {},
   "outputs": [
    {
     "ename": "ImportError",
     "evalue": "This function requires the python library graphviz, along with binaries. The easiest way to install all of this is by running\n\n\tconda install -c conda-forge python-graphviz",
     "output_type": "error",
     "traceback": [
      "\u001b[0;31m---------------------------------------------------------------------------\u001b[0m",
      "\u001b[0;31mModuleNotFoundError\u001b[0m                       Traceback (most recent call last)",
      "\u001b[0;32m~/anaconda3/envs/py3.7/lib/python3.7/site-packages/pymc3/model_graph.py\u001b[0m in \u001b[0;36mmake_graph\u001b[0;34m(self)\u001b[0m\n\u001b[1;32m    156\u001b[0m         \u001b[0;32mtry\u001b[0m\u001b[0;34m:\u001b[0m\u001b[0;34m\u001b[0m\u001b[0;34m\u001b[0m\u001b[0m\n\u001b[0;32m--> 157\u001b[0;31m             \u001b[0;32mimport\u001b[0m \u001b[0mgraphviz\u001b[0m\u001b[0;34m\u001b[0m\u001b[0;34m\u001b[0m\u001b[0m\n\u001b[0m\u001b[1;32m    158\u001b[0m         \u001b[0;32mexcept\u001b[0m \u001b[0mImportError\u001b[0m\u001b[0;34m:\u001b[0m\u001b[0;34m\u001b[0m\u001b[0;34m\u001b[0m\u001b[0m\n",
      "\u001b[0;31mModuleNotFoundError\u001b[0m: No module named 'graphviz'",
      "\nDuring handling of the above exception, another exception occurred:\n",
      "\u001b[0;31mImportError\u001b[0m                               Traceback (most recent call last)",
      "\u001b[0;32m<ipython-input-60-bd37a51e1da5>\u001b[0m in \u001b[0;36m<module>\u001b[0;34m\u001b[0m\n\u001b[0;32m----> 1\u001b[0;31m \u001b[0mpm\u001b[0m\u001b[0;34m.\u001b[0m\u001b[0mmodel_to_graphviz\u001b[0m\u001b[0;34m(\u001b[0m\u001b[0mmodel_hier\u001b[0m\u001b[0;34m)\u001b[0m\u001b[0;34m\u001b[0m\u001b[0;34m\u001b[0m\u001b[0m\n\u001b[0m",
      "\u001b[0;32m~/anaconda3/envs/py3.7/lib/python3.7/site-packages/pymc3/model_graph.py\u001b[0m in \u001b[0;36mmodel_to_graphviz\u001b[0;34m(model)\u001b[0m\n\u001b[1;32m    194\u001b[0m     \"\"\"\n\u001b[1;32m    195\u001b[0m     \u001b[0mmodel\u001b[0m \u001b[0;34m=\u001b[0m \u001b[0mpm\u001b[0m\u001b[0;34m.\u001b[0m\u001b[0mmodelcontext\u001b[0m\u001b[0;34m(\u001b[0m\u001b[0mmodel\u001b[0m\u001b[0;34m)\u001b[0m\u001b[0;34m\u001b[0m\u001b[0;34m\u001b[0m\u001b[0m\n\u001b[0;32m--> 196\u001b[0;31m     \u001b[0;32mreturn\u001b[0m \u001b[0mModelGraph\u001b[0m\u001b[0;34m(\u001b[0m\u001b[0mmodel\u001b[0m\u001b[0;34m)\u001b[0m\u001b[0;34m.\u001b[0m\u001b[0mmake_graph\u001b[0m\u001b[0;34m(\u001b[0m\u001b[0;34m)\u001b[0m\u001b[0;34m\u001b[0m\u001b[0;34m\u001b[0m\u001b[0m\n\u001b[0m",
      "\u001b[0;32m~/anaconda3/envs/py3.7/lib/python3.7/site-packages/pymc3/model_graph.py\u001b[0m in \u001b[0;36mmake_graph\u001b[0;34m(self)\u001b[0m\n\u001b[1;32m    157\u001b[0m             \u001b[0;32mimport\u001b[0m \u001b[0mgraphviz\u001b[0m\u001b[0;34m\u001b[0m\u001b[0;34m\u001b[0m\u001b[0m\n\u001b[1;32m    158\u001b[0m         \u001b[0;32mexcept\u001b[0m \u001b[0mImportError\u001b[0m\u001b[0;34m:\u001b[0m\u001b[0;34m\u001b[0m\u001b[0;34m\u001b[0m\u001b[0m\n\u001b[0;32m--> 159\u001b[0;31m             raise ImportError('This function requires the python library graphviz, along with binaries. '\n\u001b[0m\u001b[1;32m    160\u001b[0m                               \u001b[0;34m'The easiest way to install all of this is by running\\n\\n'\u001b[0m\u001b[0;34m\u001b[0m\u001b[0;34m\u001b[0m\u001b[0m\n\u001b[1;32m    161\u001b[0m                               '\\tconda install -c conda-forge python-graphviz')\n",
      "\u001b[0;31mImportError\u001b[0m: This function requires the python library graphviz, along with binaries. The easiest way to install all of this is by running\n\n\tconda install -c conda-forge python-graphviz"
     ]
    }
   ],
   "source": [
    "pm.model_to_graphviz(model_hier)"
   ]
  },
  {
   "cell_type": "code",
   "execution_count": 85,
   "metadata": {},
   "outputs": [
    {
     "name": "stderr",
     "output_type": "stream",
     "text": [
      "Auto-assigning NUTS sampler...\n",
      "Initializing NUTS using jitter+adapt_diag...\n",
      "Multiprocess sampling (4 chains in 4 jobs)\n",
      "NUTS: [alphas, beta, mu, packed_L]\n",
      "Sampling 4 chains: 100%|██████████| 12000/12000 [23:40<00:00,  2.55draws/s]\n",
      "There were 54 divergences after tuning. Increase `target_accept` or reparameterize.\n",
      "There were 43 divergences after tuning. Increase `target_accept` or reparameterize.\n",
      "There were 36 divergences after tuning. Increase `target_accept` or reparameterize.\n",
      "There were 43 divergences after tuning. Increase `target_accept` or reparameterize.\n",
      "The gelman-rubin statistic is larger than 1.05 for some parameters. This indicates slight problems during sampling.\n",
      "The estimated number of effective samples is smaller than 200 for some parameters.\n"
     ]
    }
   ],
   "source": [
    "with model_hier:\n",
    "    trace_2 = pm.sample(draws=2_000, tune=1_000, target_accept=0.98)"
   ]
  },
  {
   "cell_type": "code",
   "execution_count": 86,
   "metadata": {},
   "outputs": [
    {
     "data": {
      "image/png": "[encoded data removed]",
      "text/plain": [
       "<Figure size 864x288 with 4 Axes>"
      ]
     },
     "metadata": {},
     "output_type": "display_data"
    }
   ],
   "source": [
    "pm.traceplot(trace_2, var_names=['beta']);"
   ]
  },
  {
   "cell_type": "code",
   "execution_count": 87,
   "metadata": {
    "scrolled": false
   },
   "outputs": [
    {
     "data": {
      "text/html": [
       "<div>\n",
       "<style scoped>\n",
       "    .dataframe tbody tr th:only-of-type {\n",
       "        vertical-align: middle;\n",
       "    }\n",
       "\n",
       "    .dataframe tbody tr th {\n",
       "        vertical-align: top;\n",
       "    }\n",
       "\n",
       "    .dataframe thead th {\n",
       "        text-align: right;\n",
       "    }\n",
       "</style>\n",
       "<table border=\"1\" class=\"dataframe\">\n",
       "  <thead>\n",
       "    <tr style=\"text-align: right;\">\n",
       "      <th></th>\n",
       "      <th>mean</th>\n",
       "      <th>sd</th>\n",
       "      <th>mc_error</th>\n",
       "      <th>hpd_2.5</th>\n",
       "      <th>hpd_97.5</th>\n",
       "      <th>n_eff</th>\n",
       "      <th>Rhat</th>\n",
       "    </tr>\n",
       "  </thead>\n",
       "  <tbody>\n",
       "    <tr>\n",
       "      <th>mu__0</th>\n",
       "      <td>6.093069</td>\n",
       "      <td>8.234688e+00</td>\n",
       "      <td>0.180893</td>\n",
       "      <td>-10.544320</td>\n",
       "      <td>23.177832</td>\n",
       "      <td>1487.397063</td>\n",
       "      <td>1.003119</td>\n",
       "    </tr>\n",
       "    <tr>\n",
       "      <th>mu__1</th>\n",
       "      <td>6.828961</td>\n",
       "      <td>8.101430e+00</td>\n",
       "      <td>0.207703</td>\n",
       "      <td>-10.357080</td>\n",
       "      <td>22.868710</td>\n",
       "      <td>1295.971757</td>\n",
       "      <td>1.002388</td>\n",
       "    </tr>\n",
       "    <tr>\n",
       "      <th>beta__0</th>\n",
       "      <td>71.476829</td>\n",
       "      <td>2.364595e+02</td>\n",
       "      <td>22.766323</td>\n",
       "      <td>-0.432098</td>\n",
       "      <td>518.181069</td>\n",
       "      <td>20.715361</td>\n",
       "      <td>1.118284</td>\n",
       "    </tr>\n",
       "    <tr>\n",
       "      <th>beta__1</th>\n",
       "      <td>45.594681</td>\n",
       "      <td>1.622495e+02</td>\n",
       "      <td>14.815154</td>\n",
       "      <td>0.717871</td>\n",
       "      <td>127.227294</td>\n",
       "      <td>29.192842</td>\n",
       "      <td>1.046725</td>\n",
       "    </tr>\n",
       "    <tr>\n",
       "      <th>packed_L__0</th>\n",
       "      <td>87.552578</td>\n",
       "      <td>4.057062e+02</td>\n",
       "      <td>29.018480</td>\n",
       "      <td>0.067557</td>\n",
       "      <td>420.374156</td>\n",
       "      <td>37.670767</td>\n",
       "      <td>1.061497</td>\n",
       "    </tr>\n",
       "    <tr>\n",
       "      <th>packed_L__1</th>\n",
       "      <td>15.383483</td>\n",
       "      <td>9.962871e+01</td>\n",
       "      <td>9.395267</td>\n",
       "      <td>-85.943822</td>\n",
       "      <td>78.652195</td>\n",
       "      <td>58.090749</td>\n",
       "      <td>1.028396</td>\n",
       "    </tr>\n",
       "    <tr>\n",
       "      <th>packed_L__2</th>\n",
       "      <td>48.618601</td>\n",
       "      <td>2.808802e+02</td>\n",
       "      <td>19.692748</td>\n",
       "      <td>0.048352</td>\n",
       "      <td>150.110619</td>\n",
       "      <td>62.179535</td>\n",
       "      <td>1.021208</td>\n",
       "    </tr>\n",
       "    <tr>\n",
       "      <th>Sigma__0_0</th>\n",
       "      <td>172262.998738</td>\n",
       "      <td>1.954825e+06</td>\n",
       "      <td>75746.255571</td>\n",
       "      <td>0.004564</td>\n",
       "      <td>176714.430813</td>\n",
       "      <td>200.089723</td>\n",
       "      <td>1.014189</td>\n",
       "    </tr>\n",
       "    <tr>\n",
       "      <th>Sigma__0_1</th>\n",
       "      <td>925.703579</td>\n",
       "      <td>1.274978e+04</td>\n",
       "      <td>632.969995</td>\n",
       "      <td>-1382.733453</td>\n",
       "      <td>2487.531151</td>\n",
       "      <td>275.110813</td>\n",
       "      <td>1.009295</td>\n",
       "    </tr>\n",
       "    <tr>\n",
       "      <th>Sigma__1_0</th>\n",
       "      <td>925.703579</td>\n",
       "      <td>1.274978e+04</td>\n",
       "      <td>632.969995</td>\n",
       "      <td>-1382.733453</td>\n",
       "      <td>2487.531151</td>\n",
       "      <td>275.110813</td>\n",
       "      <td>1.009295</td>\n",
       "    </tr>\n",
       "    <tr>\n",
       "      <th>Sigma__1_1</th>\n",
       "      <td>91419.983202</td>\n",
       "      <td>1.737843e+06</td>\n",
       "      <td>70796.653921</td>\n",
       "      <td>0.002772</td>\n",
       "      <td>36693.792554</td>\n",
       "      <td>284.767092</td>\n",
       "      <td>1.004790</td>\n",
       "    </tr>\n",
       "    <tr>\n",
       "      <th>alphas__0_0</th>\n",
       "      <td>0.427572</td>\n",
       "      <td>5.778023e-02</td>\n",
       "      <td>0.000612</td>\n",
       "      <td>0.320502</td>\n",
       "      <td>0.543854</td>\n",
       "      <td>8315.028470</td>\n",
       "      <td>0.999864</td>\n",
       "    </tr>\n",
       "    <tr>\n",
       "      <th>alphas__0_1</th>\n",
       "      <td>0.572428</td>\n",
       "      <td>5.778023e-02</td>\n",
       "      <td>0.000612</td>\n",
       "      <td>0.456146</td>\n",
       "      <td>0.679498</td>\n",
       "      <td>8315.028470</td>\n",
       "      <td>0.999864</td>\n",
       "    </tr>\n",
       "    <tr>\n",
       "      <th>alphas__1_0</th>\n",
       "      <td>0.341799</td>\n",
       "      <td>5.614980e-02</td>\n",
       "      <td>0.000671</td>\n",
       "      <td>0.238711</td>\n",
       "      <td>0.455260</td>\n",
       "      <td>9430.781643</td>\n",
       "      <td>0.999975</td>\n",
       "    </tr>\n",
       "    <tr>\n",
       "      <th>alphas__1_1</th>\n",
       "      <td>0.658201</td>\n",
       "      <td>5.614980e-02</td>\n",
       "      <td>0.000671</td>\n",
       "      <td>0.544740</td>\n",
       "      <td>0.761289</td>\n",
       "      <td>9430.781643</td>\n",
       "      <td>0.999975</td>\n",
       "    </tr>\n",
       "    <tr>\n",
       "      <th>alphas__2_0</th>\n",
       "      <td>0.349223</td>\n",
       "      <td>3.115593e-02</td>\n",
       "      <td>0.000304</td>\n",
       "      <td>0.289770</td>\n",
       "      <td>0.414278</td>\n",
       "      <td>9097.989761</td>\n",
       "      <td>1.000082</td>\n",
       "    </tr>\n",
       "    <tr>\n",
       "      <th>alphas__2_1</th>\n",
       "      <td>0.650777</td>\n",
       "      <td>3.115593e-02</td>\n",
       "      <td>0.000304</td>\n",
       "      <td>0.585722</td>\n",
       "      <td>0.710230</td>\n",
       "      <td>9097.989761</td>\n",
       "      <td>1.000082</td>\n",
       "    </tr>\n",
       "    <tr>\n",
       "      <th>alphas__3_0</th>\n",
       "      <td>0.355128</td>\n",
       "      <td>4.650339e-02</td>\n",
       "      <td>0.000524</td>\n",
       "      <td>0.266052</td>\n",
       "      <td>0.446879</td>\n",
       "      <td>9320.463193</td>\n",
       "      <td>0.999780</td>\n",
       "    </tr>\n",
       "    <tr>\n",
       "      <th>alphas__3_1</th>\n",
       "      <td>0.644872</td>\n",
       "      <td>4.650339e-02</td>\n",
       "      <td>0.000524</td>\n",
       "      <td>0.553121</td>\n",
       "      <td>0.733948</td>\n",
       "      <td>9320.463193</td>\n",
       "      <td>0.999780</td>\n",
       "    </tr>\n",
       "    <tr>\n",
       "      <th>alphas__4_0</th>\n",
       "      <td>0.381824</td>\n",
       "      <td>5.855220e-02</td>\n",
       "      <td>0.000565</td>\n",
       "      <td>0.266639</td>\n",
       "      <td>0.494051</td>\n",
       "      <td>11200.584389</td>\n",
       "      <td>1.000243</td>\n",
       "    </tr>\n",
       "    <tr>\n",
       "      <th>alphas__4_1</th>\n",
       "      <td>0.618176</td>\n",
       "      <td>5.855220e-02</td>\n",
       "      <td>0.000565</td>\n",
       "      <td>0.505949</td>\n",
       "      <td>0.733361</td>\n",
       "      <td>11200.584389</td>\n",
       "      <td>1.000243</td>\n",
       "    </tr>\n",
       "    <tr>\n",
       "      <th>alphas__5_0</th>\n",
       "      <td>0.360964</td>\n",
       "      <td>4.152221e-02</td>\n",
       "      <td>0.000416</td>\n",
       "      <td>0.278941</td>\n",
       "      <td>0.440660</td>\n",
       "      <td>8727.625497</td>\n",
       "      <td>0.999790</td>\n",
       "    </tr>\n",
       "    <tr>\n",
       "      <th>alphas__5_1</th>\n",
       "      <td>0.639036</td>\n",
       "      <td>4.152221e-02</td>\n",
       "      <td>0.000416</td>\n",
       "      <td>0.559340</td>\n",
       "      <td>0.721059</td>\n",
       "      <td>8727.625497</td>\n",
       "      <td>0.999790</td>\n",
       "    </tr>\n",
       "    <tr>\n",
       "      <th>alphas__6_0</th>\n",
       "      <td>0.327035</td>\n",
       "      <td>3.733396e-02</td>\n",
       "      <td>0.000364</td>\n",
       "      <td>0.258575</td>\n",
       "      <td>0.406455</td>\n",
       "      <td>9361.317435</td>\n",
       "      <td>0.999833</td>\n",
       "    </tr>\n",
       "    <tr>\n",
       "      <th>alphas__6_1</th>\n",
       "      <td>0.672965</td>\n",
       "      <td>3.733396e-02</td>\n",
       "      <td>0.000364</td>\n",
       "      <td>0.593545</td>\n",
       "      <td>0.741425</td>\n",
       "      <td>9361.317435</td>\n",
       "      <td>0.999833</td>\n",
       "    </tr>\n",
       "    <tr>\n",
       "      <th>alphas__7_0</th>\n",
       "      <td>0.300670</td>\n",
       "      <td>3.371497e-02</td>\n",
       "      <td>0.000316</td>\n",
       "      <td>0.233952</td>\n",
       "      <td>0.365609</td>\n",
       "      <td>10122.205449</td>\n",
       "      <td>0.999875</td>\n",
       "    </tr>\n",
       "    <tr>\n",
       "      <th>alphas__7_1</th>\n",
       "      <td>0.699330</td>\n",
       "      <td>3.371497e-02</td>\n",
       "      <td>0.000316</td>\n",
       "      <td>0.634391</td>\n",
       "      <td>0.766048</td>\n",
       "      <td>10122.205449</td>\n",
       "      <td>0.999875</td>\n",
       "    </tr>\n",
       "    <tr>\n",
       "      <th>alphas__8_0</th>\n",
       "      <td>0.285507</td>\n",
       "      <td>8.330494e-02</td>\n",
       "      <td>0.001026</td>\n",
       "      <td>0.130199</td>\n",
       "      <td>0.450643</td>\n",
       "      <td>6580.377657</td>\n",
       "      <td>0.999851</td>\n",
       "    </tr>\n",
       "    <tr>\n",
       "      <th>alphas__8_1</th>\n",
       "      <td>0.714493</td>\n",
       "      <td>8.330494e-02</td>\n",
       "      <td>0.001026</td>\n",
       "      <td>0.549357</td>\n",
       "      <td>0.869801</td>\n",
       "      <td>6580.377657</td>\n",
       "      <td>0.999851</td>\n",
       "    </tr>\n",
       "    <tr>\n",
       "      <th>alphas__9_0</th>\n",
       "      <td>0.346399</td>\n",
       "      <td>4.092672e-02</td>\n",
       "      <td>0.000451</td>\n",
       "      <td>0.267563</td>\n",
       "      <td>0.426795</td>\n",
       "      <td>9671.180808</td>\n",
       "      <td>1.000124</td>\n",
       "    </tr>\n",
       "    <tr>\n",
       "      <th>alphas__9_1</th>\n",
       "      <td>0.653601</td>\n",
       "      <td>4.092672e-02</td>\n",
       "      <td>0.000451</td>\n",
       "      <td>0.573205</td>\n",
       "      <td>0.732437</td>\n",
       "      <td>9671.180808</td>\n",
       "      <td>1.000124</td>\n",
       "    </tr>\n",
       "    <tr>\n",
       "      <th>alphas__10_0</th>\n",
       "      <td>0.325235</td>\n",
       "      <td>3.991164e-02</td>\n",
       "      <td>0.000489</td>\n",
       "      <td>0.251642</td>\n",
       "      <td>0.406766</td>\n",
       "      <td>7711.242913</td>\n",
       "      <td>0.999759</td>\n",
       "    </tr>\n",
       "    <tr>\n",
       "      <th>alphas__10_1</th>\n",
       "      <td>0.674765</td>\n",
       "      <td>3.991164e-02</td>\n",
       "      <td>0.000489</td>\n",
       "      <td>0.593234</td>\n",
       "      <td>0.748358</td>\n",
       "      <td>7711.242913</td>\n",
       "      <td>0.999759</td>\n",
       "    </tr>\n",
       "    <tr>\n",
       "      <th>alphas__11_0</th>\n",
       "      <td>0.302479</td>\n",
       "      <td>2.893751e-02</td>\n",
       "      <td>0.000325</td>\n",
       "      <td>0.245747</td>\n",
       "      <td>0.359223</td>\n",
       "      <td>8002.112214</td>\n",
       "      <td>0.999828</td>\n",
       "    </tr>\n",
       "    <tr>\n",
       "      <th>alphas__11_1</th>\n",
       "      <td>0.697521</td>\n",
       "      <td>2.893751e-02</td>\n",
       "      <td>0.000325</td>\n",
       "      <td>0.640777</td>\n",
       "      <td>0.754253</td>\n",
       "      <td>8002.112214</td>\n",
       "      <td>0.999828</td>\n",
       "    </tr>\n",
       "    <tr>\n",
       "      <th>alphas__12_0</th>\n",
       "      <td>0.339100</td>\n",
       "      <td>6.608551e-02</td>\n",
       "      <td>0.000606</td>\n",
       "      <td>0.213611</td>\n",
       "      <td>0.470117</td>\n",
       "      <td>10931.114116</td>\n",
       "      <td>0.999913</td>\n",
       "    </tr>\n",
       "    <tr>\n",
       "      <th>alphas__12_1</th>\n",
       "      <td>0.660900</td>\n",
       "      <td>6.608551e-02</td>\n",
       "      <td>0.000606</td>\n",
       "      <td>0.529883</td>\n",
       "      <td>0.786389</td>\n",
       "      <td>10931.114116</td>\n",
       "      <td>0.999913</td>\n",
       "    </tr>\n",
       "    <tr>\n",
       "      <th>alphas__13_0</th>\n",
       "      <td>0.309679</td>\n",
       "      <td>4.608976e-02</td>\n",
       "      <td>0.000404</td>\n",
       "      <td>0.221624</td>\n",
       "      <td>0.399965</td>\n",
       "      <td>11051.903283</td>\n",
       "      <td>0.999854</td>\n",
       "    </tr>\n",
       "    <tr>\n",
       "      <th>alphas__13_1</th>\n",
       "      <td>0.690321</td>\n",
       "      <td>4.608976e-02</td>\n",
       "      <td>0.000404</td>\n",
       "      <td>0.600035</td>\n",
       "      <td>0.778376</td>\n",
       "      <td>11051.903283</td>\n",
       "      <td>0.999854</td>\n",
       "    </tr>\n",
       "    <tr>\n",
       "      <th>alphas__14_0</th>\n",
       "      <td>0.313434</td>\n",
       "      <td>3.605603e-02</td>\n",
       "      <td>0.000378</td>\n",
       "      <td>0.240504</td>\n",
       "      <td>0.381174</td>\n",
       "      <td>8990.191148</td>\n",
       "      <td>1.000523</td>\n",
       "    </tr>\n",
       "    <tr>\n",
       "      <th>alphas__14_1</th>\n",
       "      <td>0.686566</td>\n",
       "      <td>3.605603e-02</td>\n",
       "      <td>0.000378</td>\n",
       "      <td>0.618826</td>\n",
       "      <td>0.759496</td>\n",
       "      <td>8990.191148</td>\n",
       "      <td>1.000523</td>\n",
       "    </tr>\n",
       "    <tr>\n",
       "      <th>alphas__15_0</th>\n",
       "      <td>0.306025</td>\n",
       "      <td>4.460394e-02</td>\n",
       "      <td>0.000435</td>\n",
       "      <td>0.219731</td>\n",
       "      <td>0.393783</td>\n",
       "      <td>11163.889994</td>\n",
       "      <td>0.999909</td>\n",
       "    </tr>\n",
       "    <tr>\n",
       "      <th>alphas__15_1</th>\n",
       "      <td>0.693975</td>\n",
       "      <td>4.460394e-02</td>\n",
       "      <td>0.000435</td>\n",
       "      <td>0.606217</td>\n",
       "      <td>0.780269</td>\n",
       "      <td>11163.889994</td>\n",
       "      <td>0.999909</td>\n",
       "    </tr>\n",
       "  </tbody>\n",
       "</table>\n",
       "</div>"
      ],
      "text/plain": [
       "                       mean            sd      mc_error      hpd_2.5  \\\n",
       "mu__0              6.093069  8.234688e+00      0.180893   -10.544320   \n",
       "mu__1              6.828961  8.101430e+00      0.207703   -10.357080   \n",
       "beta__0           71.476829  2.364595e+02     22.766323    -0.432098   \n",
       "beta__1           45.594681  1.622495e+02     14.815154     0.717871   \n",
       "packed_L__0       87.552578  4.057062e+02     29.018480     0.067557   \n",
       "packed_L__1       15.383483  9.962871e+01      9.395267   -85.943822   \n",
       "packed_L__2       48.618601  2.808802e+02     19.692748     0.048352   \n",
       "Sigma__0_0    172262.998738  1.954825e+06  75746.255571     0.004564   \n",
       "Sigma__0_1       925.703579  1.274978e+04    632.969995 -1382.733453   \n",
       "Sigma__1_0       925.703579  1.274978e+04    632.969995 -1382.733453   \n",
       "Sigma__1_1     91419.983202  1.737843e+06  70796.653921     0.002772   \n",
       "alphas__0_0        0.427572  5.778023e-02      0.000612     0.320502   \n",
       "alphas__0_1        0.572428  5.778023e-02      0.000612     0.456146   \n",
       "alphas__1_0        0.341799  5.614980e-02      0.000671     0.238711   \n",
       "alphas__1_1        0.658201  5.614980e-02      0.000671     0.544740   \n",
       "alphas__2_0        0.349223  3.115593e-02      0.000304     0.289770   \n",
       "alphas__2_1        0.650777  3.115593e-02      0.000304     0.585722   \n",
       "alphas__3_0        0.355128  4.650339e-02      0.000524     0.266052   \n",
       "alphas__3_1        0.644872  4.650339e-02      0.000524     0.553121   \n",
       "alphas__4_0        0.381824  5.855220e-02      0.000565     0.266639   \n",
       "alphas__4_1        0.618176  5.855220e-02      0.000565     0.505949   \n",
       "alphas__5_0        0.360964  4.152221e-02      0.000416     0.278941   \n",
       "alphas__5_1        0.639036  4.152221e-02      0.000416     0.559340   \n",
       "alphas__6_0        0.327035  3.733396e-02      0.000364     0.258575   \n",
       "alphas__6_1        0.672965  3.733396e-02      0.000364     0.593545   \n",
       "alphas__7_0        0.300670  3.371497e-02      0.000316     0.233952   \n",
       "alphas__7_1        0.699330  3.371497e-02      0.000316     0.634391   \n",
       "alphas__8_0        0.285507  8.330494e-02      0.001026     0.130199   \n",
       "alphas__8_1        0.714493  8.330494e-02      0.001026     0.549357   \n",
       "alphas__9_0        0.346399  4.092672e-02      0.000451     0.267563   \n",
       "alphas__9_1        0.653601  4.092672e-02      0.000451     0.573205   \n",
       "alphas__10_0       0.325235  3.991164e-02      0.000489     0.251642   \n",
       "alphas__10_1       0.674765  3.991164e-02      0.000489     0.593234   \n",
       "alphas__11_0       0.302479  2.893751e-02      0.000325     0.245747   \n",
       "alphas__11_1       0.697521  2.893751e-02      0.000325     0.640777   \n",
       "alphas__12_0       0.339100  6.608551e-02      0.000606     0.213611   \n",
       "alphas__12_1       0.660900  6.608551e-02      0.000606     0.529883   \n",
       "alphas__13_0       0.309679  4.608976e-02      0.000404     0.221624   \n",
       "alphas__13_1       0.690321  4.608976e-02      0.000404     0.600035   \n",
       "alphas__14_0       0.313434  3.605603e-02      0.000378     0.240504   \n",
       "alphas__14_1       0.686566  3.605603e-02      0.000378     0.618826   \n",
       "alphas__15_0       0.306025  4.460394e-02      0.000435     0.219731   \n",
       "alphas__15_1       0.693975  4.460394e-02      0.000435     0.606217   \n",
       "\n",
       "                   hpd_97.5         n_eff      Rhat  \n",
       "mu__0             23.177832   1487.397063  1.003119  \n",
       "mu__1             22.868710   1295.971757  1.002388  \n",
       "beta__0          518.181069     20.715361  1.118284  \n",
       "beta__1          127.227294     29.192842  1.046725  \n",
       "packed_L__0      420.374156     37.670767  1.061497  \n",
       "packed_L__1       78.652195     58.090749  1.028396  \n",
       "packed_L__2      150.110619     62.179535  1.021208  \n",
       "Sigma__0_0    176714.430813    200.089723  1.014189  \n",
       "Sigma__0_1      2487.531151    275.110813  1.009295  \n",
       "Sigma__1_0      2487.531151    275.110813  1.009295  \n",
       "Sigma__1_1     36693.792554    284.767092  1.004790  \n",
       "alphas__0_0        0.543854   8315.028470  0.999864  \n",
       "alphas__0_1        0.679498   8315.028470  0.999864  \n",
       "alphas__1_0        0.455260   9430.781643  0.999975  \n",
       "alphas__1_1        0.761289   9430.781643  0.999975  \n",
       "alphas__2_0        0.414278   9097.989761  1.000082  \n",
       "alphas__2_1        0.710230   9097.989761  1.000082  \n",
       "alphas__3_0        0.446879   9320.463193  0.999780  \n",
       "alphas__3_1        0.733948   9320.463193  0.999780  \n",
       "alphas__4_0        0.494051  11200.584389  1.000243  \n",
       "alphas__4_1        0.733361  11200.584389  1.000243  \n",
       "alphas__5_0        0.440660   8727.625497  0.999790  \n",
       "alphas__5_1        0.721059   8727.625497  0.999790  \n",
       "alphas__6_0        0.406455   9361.317435  0.999833  \n",
       "alphas__6_1        0.741425   9361.317435  0.999833  \n",
       "alphas__7_0        0.365609  10122.205449  0.999875  \n",
       "alphas__7_1        0.766048  10122.205449  0.999875  \n",
       "alphas__8_0        0.450643   6580.377657  0.999851  \n",
       "alphas__8_1        0.869801   6580.377657  0.999851  \n",
       "alphas__9_0        0.426795   9671.180808  1.000124  \n",
       "alphas__9_1        0.732437   9671.180808  1.000124  \n",
       "alphas__10_0       0.406766   7711.242913  0.999759  \n",
       "alphas__10_1       0.748358   7711.242913  0.999759  \n",
       "alphas__11_0       0.359223   8002.112214  0.999828  \n",
       "alphas__11_1       0.754253   8002.112214  0.999828  \n",
       "alphas__12_0       0.470117  10931.114116  0.999913  \n",
       "alphas__12_1       0.786389  10931.114116  0.999913  \n",
       "alphas__13_0       0.399965  11051.903283  0.999854  \n",
       "alphas__13_1       0.778376  11051.903283  0.999854  \n",
       "alphas__14_0       0.381174   8990.191148  1.000523  \n",
       "alphas__14_1       0.759496   8990.191148  1.000523  \n",
       "alphas__15_0       0.393783  11163.889994  0.999909  \n",
       "alphas__15_1       0.780269  11163.889994  0.999909  "
      ]
     },
     "execution_count": 87,
     "metadata": {},
     "output_type": "execute_result"
    }
   ],
   "source": [
    "pm.summary(trace_2)"
   ]
  },
  {
   "cell_type": "code",
   "execution_count": 88,
   "metadata": {},
   "outputs": [],
   "source": [
    "matrix_s = trace_2['Sigma'].mean(axis=0)"
   ]
  },
  {
   "cell_type": "code",
   "execution_count": 89,
   "metadata": {},
   "outputs": [
    {
     "data": {
      "text/plain": [
       "array([[172262.99873826,    925.7035785 ],\n",
       "       [   925.7035785 ,  91419.98320238]])"
      ]
     },
     "execution_count": 89,
     "metadata": {},
     "output_type": "execute_result"
    }
   ],
   "source": [
    "matrix_s"
   ]
  },
  {
   "cell_type": "code",
   "execution_count": 90,
   "metadata": {},
   "outputs": [
    {
     "name": "stdout",
     "output_type": "stream",
     "text": [
      "415.0457790873895 302.35737662968336\n"
     ]
    }
   ],
   "source": [
    "tau1, tau2 = np.sqrt(matrix_s[0, 0]), np.sqrt(matrix_s[1, 1])\n",
    "print(tau1, tau2)"
   ]
  },
  {
   "cell_type": "code",
   "execution_count": 91,
   "metadata": {},
   "outputs": [],
   "source": [
    "rho = matrix_s[1, 0] / (tau1 * tau2)"
   ]
  },
  {
   "cell_type": "code",
   "execution_count": 92,
   "metadata": {},
   "outputs": [
    {
     "data": {
      "text/plain": [
       "0.007376585362288601"
      ]
     },
     "execution_count": 92,
     "metadata": {},
     "output_type": "execute_result"
    }
   ],
   "source": [
    "rho"
   ]
  },
  {
   "cell_type": "code",
   "execution_count": null,
   "metadata": {},
   "outputs": [],
   "source": []
  },
  {
   "cell_type": "code",
   "execution_count": null,
   "metadata": {},
   "outputs": [],
   "source": []
  },
  {
   "cell_type": "code",
   "execution_count": null,
   "metadata": {},
   "outputs": [],
   "source": []
  },
  {
   "cell_type": "code",
   "execution_count": null,
   "metadata": {},
   "outputs": [],
   "source": []
  },
  {
   "cell_type": "code",
   "execution_count": 93,
   "metadata": {},
   "outputs": [
    {
     "name": "stderr",
     "output_type": "stream",
     "text": [
      "100%|██████████| 1000/1000 [00:00<00:00, 23062.73it/s]\n"
     ]
    }
   ],
   "source": [
    "with model_hier:\n",
    "    ppc_hier = pm.sample_posterior_predictive(trace_2, samples=1000, vars=[alphas])"
   ]
  },
  {
   "cell_type": "code",
   "execution_count": 94,
   "metadata": {},
   "outputs": [
    {
     "data": {
      "text/plain": [
       "(1000, 16, 2)"
      ]
     },
     "execution_count": 94,
     "metadata": {},
     "output_type": "execute_result"
    }
   ],
   "source": [
    "ppc_hier['alphas'].shape"
   ]
  },
  {
   "cell_type": "code",
   "execution_count": 95,
   "metadata": {},
   "outputs": [
    {
     "data": {
      "text/plain": [
       "array([0.3255814 , 0.51111111, 0.53061224, 0.47058824, 0.45238095,\n",
       "       0.5       , 0.56730769, 0.62015504, 0.66666667, 0.53571429,\n",
       "       0.56043956, 0.61212121, 0.51515152, 0.60294118, 0.59292035,\n",
       "       0.60526316])"
      ]
     },
     "execution_count": 95,
     "metadata": {},
     "output_type": "execute_result"
    }
   ],
   "source": [
    "valores[:, 0] / (valores[:, 0] + valores[:, 1])"
   ]
  },
  {
   "cell_type": "code",
   "execution_count": 96,
   "metadata": {},
   "outputs": [
    {
     "data": {
      "text/plain": [
       "array([[0.34716292, 0.65283708],\n",
       "       [0.35770391, 0.64229609],\n",
       "       [0.28406868, 0.71593132],\n",
       "       [0.32453006, 0.67546994],\n",
       "       [0.4686527 , 0.5313473 ],\n",
       "       [0.33529416, 0.66470584],\n",
       "       [0.35546567, 0.64453433],\n",
       "       [0.28125523, 0.71874477],\n",
       "       [0.31280583, 0.68719417],\n",
       "       [0.32138581, 0.67861419],\n",
       "       [0.33186565, 0.66813435],\n",
       "       [0.29384942, 0.70615058],\n",
       "       [0.26703781, 0.73296219],\n",
       "       [0.34783915, 0.65216085],\n",
       "       [0.29775929, 0.70224071],\n",
       "       [0.27425   , 0.72575   ]])"
      ]
     },
     "execution_count": 96,
     "metadata": {},
     "output_type": "execute_result"
    }
   ],
   "source": [
    "ppc_hier['alphas'][250, :, :]"
   ]
  },
  {
   "cell_type": "code",
   "execution_count": 97,
   "metadata": {},
   "outputs": [],
   "source": [
    "th1 = []\n",
    "\n",
    "for i in range(16):\n",
    "#     result1 =  2 * ppc_hier['alphas'][:, i, 0] * ppc_hier['alphas'][:, i, 1] - ppc_hier['alphas'][:, i, 1] \n",
    "    result1 = - 2 * ppc_hier['alphas'][:, i, 0] * ppc_hier['alphas'][:, i, 1] + ppc_hier['alphas'][:, i, 1] \n",
    "    th1.append(list(result1))"
   ]
  },
  {
   "cell_type": "code",
   "execution_count": 98,
   "metadata": {},
   "outputs": [],
   "source": [
    "# print(th1"
   ]
  },
  {
   "cell_type": "code",
   "execution_count": 99,
   "metadata": {},
   "outputs": [
    {
     "data": {
      "text/plain": [
       "(16, 1000)"
      ]
     },
     "execution_count": 99,
     "metadata": {},
     "output_type": "execute_result"
    }
   ],
   "source": [
    "th1 = np.asarray(th1)\n",
    "th1.shape"
   ]
  },
  {
   "cell_type": "code",
   "execution_count": 100,
   "metadata": {},
   "outputs": [
    {
     "data": {
      "text/plain": [
       "array([0.23662175, 0.23282416, 0.22871552, 0.25399912, 0.23206242,\n",
       "       0.23172383, 0.28342552, 0.21808228, 0.25160088, 0.26640258,\n",
       "       0.21603326, 0.22289922, 0.22426174, 0.23504322, 0.23136687])"
      ]
     },
     "execution_count": 100,
     "metadata": {},
     "output_type": "execute_result"
    }
   ],
   "source": [
    "res2 = np.sum(th1.T * proportion / np.sum(proportion), axis=1)\n",
    "res2[:15]"
   ]
  },
  {
   "cell_type": "code",
   "execution_count": 101,
   "metadata": {},
   "outputs": [
    {
     "data": {
      "image/png": "[encoded data removed]",
      "text/plain": [
       "<Figure size 720x432 with 1 Axes>"
      ]
     },
     "metadata": {},
     "output_type": "display_data"
    }
   ],
   "source": [
    "plt.figure(figsize=(10, 6))\n",
    "_, _, _ = plt.hist(res2 , bins=20, edgecolor='w', density=True)"
   ]
  },
  {
   "cell_type": "code",
   "execution_count": null,
   "metadata": {},
   "outputs": [],
   "source": []
  },
  {
   "cell_type": "code",
   "execution_count": null,
   "metadata": {},
   "outputs": [],
   "source": []
  },
  {
   "cell_type": "code",
   "execution_count": null,
   "metadata": {},
   "outputs": [],
   "source": [
    "%load_ext watermark"
   ]
  },
  {
   "cell_type": "code",
   "execution_count": null,
   "metadata": {},
   "outputs": [],
   "source": [
    "%watermark -iv -v -p theano,scipy,matplotlib -m"
   ]
  },
  {
   "cell_type": "markdown",
   "metadata": {},
   "source": [
    "### Intento con pystan"
   ]
  },
  {
   "cell_type": "code",
   "execution_count": null,
   "metadata": {},
   "outputs": [],
   "source": []
  }
 ],
 "metadata": {
  "kernelspec": {
   "display_name": "Python 3",
   "language": "python",
   "name": "python3"
  },
  "language_info": {
   "codemirror_mode": {
    "name": "ipython",
    "version": 3
   },
   "file_extension": ".py",
   "mimetype": "text/x-python",
   "name": "python",
   "nbconvert_exporter": "python",
   "pygments_lexer": "ipython3",
   "version": "3.6.8"
  }
 },
 "nbformat": 4,
 "nbformat_minor": 2
}

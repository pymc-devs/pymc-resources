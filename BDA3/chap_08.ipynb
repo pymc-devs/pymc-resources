{
 "cells": [
  {
   "cell_type": "markdown",
   "metadata": {},
   "source": [
    "## **Example. Stratified sampling in pre-election polling**"
   ]
  },
  {
   "cell_type": "code",
   "execution_count": 421,
   "metadata": {},
   "outputs": [],
   "source": [
    "%matplotlib inline\n",
    "\n",
    "import numpy as np\n",
    "import matplotlib.pyplot as plt\n",
    "import pymc3 as pm\n",
    "import pandas as pd\n",
    "import scipy.stats as stats\n",
    "import theano.tensor as tt\n",
    "import arviz\n",
    "import seaborn\n",
    "import time\n",
    "from scipy.special import expit as logistic\n",
    "from scipy.special import logit\n",
    "\n",
    "import warnings\n",
    "warnings.simplefilter(action='ignore', category=FutureWarning)\n",
    "\n",
    "plt.style.use('seaborn-darkgrid')\n",
    "plt.rc('font', size=12)\n",
    "\n",
    "%config Inline.figure_formats = ['retina']"
   ]
  },
  {
   "cell_type": "code",
   "execution_count": 4,
   "metadata": {},
   "outputs": [],
   "source": [
    "# arviz.style.use('arviz-darkgrid')"
   ]
  },
  {
   "cell_type": "markdown",
   "metadata": {},
   "source": [
    "A survey of 1447 adults."
   ]
  },
  {
   "cell_type": "code",
   "execution_count": 5,
   "metadata": {},
   "outputs": [],
   "source": [
    "participants = 1447"
   ]
  },
  {
   "cell_type": "markdown",
   "metadata": {},
   "source": [
    "This is the Table 8.2"
   ]
  },
  {
   "cell_type": "code",
   "execution_count": 6,
   "metadata": {},
   "outputs": [
    {
     "data": {
      "text/html": [
       "<div>\n",
       "<style scoped>\n",
       "    .dataframe tbody tr th:only-of-type {\n",
       "        vertical-align: middle;\n",
       "    }\n",
       "\n",
       "    .dataframe tbody tr th {\n",
       "        vertical-align: top;\n",
       "    }\n",
       "\n",
       "    .dataframe thead th {\n",
       "        text-align: right;\n",
       "    }\n",
       "</style>\n",
       "<table border=\"1\" class=\"dataframe\">\n",
       "  <thead>\n",
       "    <tr style=\"text-align: right;\">\n",
       "      <th></th>\n",
       "      <th>region</th>\n",
       "      <th>density</th>\n",
       "      <th>bush</th>\n",
       "      <th>dukakis</th>\n",
       "      <th>other</th>\n",
       "      <th>proportion</th>\n",
       "    </tr>\n",
       "  </thead>\n",
       "  <tbody>\n",
       "    <tr>\n",
       "      <th>0</th>\n",
       "      <td>Northeast</td>\n",
       "      <td>I</td>\n",
       "      <td>0.298</td>\n",
       "      <td>0.617</td>\n",
       "      <td>0.085</td>\n",
       "      <td>0.032</td>\n",
       "    </tr>\n",
       "    <tr>\n",
       "      <th>1</th>\n",
       "      <td>Northeast</td>\n",
       "      <td>II</td>\n",
       "      <td>0.500</td>\n",
       "      <td>0.478</td>\n",
       "      <td>0.022</td>\n",
       "      <td>0.032</td>\n",
       "    </tr>\n",
       "    <tr>\n",
       "      <th>2</th>\n",
       "      <td>Northeast</td>\n",
       "      <td>III</td>\n",
       "      <td>0.467</td>\n",
       "      <td>0.413</td>\n",
       "      <td>0.120</td>\n",
       "      <td>0.115</td>\n",
       "    </tr>\n",
       "    <tr>\n",
       "      <th>3</th>\n",
       "      <td>Northeast</td>\n",
       "      <td>IV</td>\n",
       "      <td>0.464</td>\n",
       "      <td>0.522</td>\n",
       "      <td>0.014</td>\n",
       "      <td>0.048</td>\n",
       "    </tr>\n",
       "    <tr>\n",
       "      <th>4</th>\n",
       "      <td>Midwest</td>\n",
       "      <td>I</td>\n",
       "      <td>0.404</td>\n",
       "      <td>0.489</td>\n",
       "      <td>0.106</td>\n",
       "      <td>0.032</td>\n",
       "    </tr>\n",
       "    <tr>\n",
       "      <th>5</th>\n",
       "      <td>Midwest</td>\n",
       "      <td>II</td>\n",
       "      <td>0.447</td>\n",
       "      <td>0.447</td>\n",
       "      <td>0.106</td>\n",
       "      <td>0.065</td>\n",
       "    </tr>\n",
       "    <tr>\n",
       "      <th>6</th>\n",
       "      <td>Midwest</td>\n",
       "      <td>III</td>\n",
       "      <td>0.509</td>\n",
       "      <td>0.388</td>\n",
       "      <td>0.103</td>\n",
       "      <td>0.080</td>\n",
       "    </tr>\n",
       "    <tr>\n",
       "      <th>7</th>\n",
       "      <td>Midwest</td>\n",
       "      <td>IV</td>\n",
       "      <td>0.552</td>\n",
       "      <td>0.338</td>\n",
       "      <td>0.110</td>\n",
       "      <td>0.100</td>\n",
       "    </tr>\n",
       "    <tr>\n",
       "      <th>8</th>\n",
       "      <td>South</td>\n",
       "      <td>I</td>\n",
       "      <td>0.571</td>\n",
       "      <td>0.286</td>\n",
       "      <td>0.143</td>\n",
       "      <td>0.015</td>\n",
       "    </tr>\n",
       "    <tr>\n",
       "      <th>9</th>\n",
       "      <td>South</td>\n",
       "      <td>II</td>\n",
       "      <td>0.469</td>\n",
       "      <td>0.406</td>\n",
       "      <td>0.125</td>\n",
       "      <td>0.066</td>\n",
       "    </tr>\n",
       "    <tr>\n",
       "      <th>10</th>\n",
       "      <td>South</td>\n",
       "      <td>III</td>\n",
       "      <td>0.515</td>\n",
       "      <td>0.404</td>\n",
       "      <td>0.081</td>\n",
       "      <td>0.068</td>\n",
       "    </tr>\n",
       "    <tr>\n",
       "      <th>11</th>\n",
       "      <td>South</td>\n",
       "      <td>IV</td>\n",
       "      <td>0.555</td>\n",
       "      <td>0.352</td>\n",
       "      <td>0.093</td>\n",
       "      <td>0.126</td>\n",
       "    </tr>\n",
       "    <tr>\n",
       "      <th>12</th>\n",
       "      <td>West</td>\n",
       "      <td>I</td>\n",
       "      <td>0.500</td>\n",
       "      <td>0.471</td>\n",
       "      <td>0.029</td>\n",
       "      <td>0.023</td>\n",
       "    </tr>\n",
       "    <tr>\n",
       "      <th>13</th>\n",
       "      <td>West</td>\n",
       "      <td>II</td>\n",
       "      <td>0.532</td>\n",
       "      <td>0.351</td>\n",
       "      <td>0.117</td>\n",
       "      <td>0.053</td>\n",
       "    </tr>\n",
       "    <tr>\n",
       "      <th>14</th>\n",
       "      <td>West</td>\n",
       "      <td>III</td>\n",
       "      <td>0.540</td>\n",
       "      <td>0.371</td>\n",
       "      <td>0.089</td>\n",
       "      <td>0.086</td>\n",
       "    </tr>\n",
       "    <tr>\n",
       "      <th>15</th>\n",
       "      <td>West</td>\n",
       "      <td>IV</td>\n",
       "      <td>0.554</td>\n",
       "      <td>0.361</td>\n",
       "      <td>0.084</td>\n",
       "      <td>0.057</td>\n",
       "    </tr>\n",
       "  </tbody>\n",
       "</table>\n",
       "</div>"
      ],
      "text/plain": [
       "       region density   bush  dukakis  other  proportion\n",
       "0   Northeast       I  0.298    0.617  0.085       0.032\n",
       "1   Northeast      II  0.500    0.478  0.022       0.032\n",
       "2   Northeast     III  0.467    0.413  0.120       0.115\n",
       "3   Northeast      IV  0.464    0.522  0.014       0.048\n",
       "4     Midwest       I  0.404    0.489  0.106       0.032\n",
       "5     Midwest      II  0.447    0.447  0.106       0.065\n",
       "6     Midwest     III  0.509    0.388  0.103       0.080\n",
       "7     Midwest      IV  0.552    0.338  0.110       0.100\n",
       "8       South       I  0.571    0.286  0.143       0.015\n",
       "9       South      II  0.469    0.406  0.125       0.066\n",
       "10      South     III  0.515    0.404  0.081       0.068\n",
       "11      South      IV  0.555    0.352  0.093       0.126\n",
       "12       West       I  0.500    0.471  0.029       0.023\n",
       "13       West      II  0.532    0.351  0.117       0.053\n",
       "14       West     III  0.540    0.371  0.089       0.086\n",
       "15       West      IV  0.554    0.361  0.084       0.057"
      ]
     },
     "execution_count": 6,
     "metadata": {},
     "output_type": "execute_result"
    }
   ],
   "source": [
    "data = pd.read_csv('data/cbs_survey.txt', sep=' ', skiprows=2, skipinitialspace=True, index_col=False)\n",
    "data"
   ]
  },
  {
   "cell_type": "code",
   "execution_count": 7,
   "metadata": {},
   "outputs": [],
   "source": [
    "#data.density"
   ]
  },
  {
   "cell_type": "markdown",
   "metadata": {},
   "source": [
    "We need the number of people of each region and each candidate."
   ]
  },
  {
   "cell_type": "code",
   "execution_count": 8,
   "metadata": {},
   "outputs": [
    {
     "name": "stdout",
     "output_type": "stream",
     "text": [
      "[[0.298 0.617 0.085]\n",
      " [0.5   0.478 0.022]\n",
      " [0.467 0.413 0.12 ]\n",
      " [0.464 0.522 0.014]\n",
      " [0.404 0.489 0.106]\n",
      " [0.447 0.447 0.106]\n",
      " [0.509 0.388 0.103]\n",
      " [0.552 0.338 0.11 ]\n",
      " [0.571 0.286 0.143]\n",
      " [0.469 0.406 0.125]\n",
      " [0.515 0.404 0.081]\n",
      " [0.555 0.352 0.093]\n",
      " [0.5   0.471 0.029]\n",
      " [0.532 0.351 0.117]\n",
      " [0.54  0.371 0.089]\n",
      " [0.554 0.361 0.084]]\n"
     ]
    }
   ],
   "source": [
    "data_obs = data[['bush', 'dukakis', 'other']].to_numpy()\n",
    "print(data_obs)"
   ]
  },
  {
   "cell_type": "code",
   "execution_count": 9,
   "metadata": {},
   "outputs": [
    {
     "name": "stdout",
     "output_type": "stream",
     "text": [
      "[ 46.304  46.304 166.405  69.456  46.304  94.055 115.76  144.7    21.705\n",
      "  95.502  98.396 182.322  33.281  76.691 124.442  82.479]\n"
     ]
    }
   ],
   "source": [
    "proportion = data['proportion'].to_numpy() * participants\n",
    "print(proportion)"
   ]
  },
  {
   "cell_type": "code",
   "execution_count": 10,
   "metadata": {},
   "outputs": [
    {
     "data": {
      "text/plain": [
       "1444.106"
      ]
     },
     "execution_count": 10,
     "metadata": {},
     "output_type": "execute_result"
    }
   ],
   "source": [
    "np.sum(proportion)"
   ]
  },
  {
   "cell_type": "code",
   "execution_count": 11,
   "metadata": {},
   "outputs": [
    {
     "name": "stdout",
     "output_type": "stream",
     "text": [
      "(16, 3)\n",
      "(16,)\n"
     ]
    }
   ],
   "source": [
    "print(data_obs.shape)\n",
    "print(proportion.shape)"
   ]
  },
  {
   "cell_type": "code",
   "execution_count": 12,
   "metadata": {},
   "outputs": [
    {
     "data": {
      "text/plain": [
       "1447.0"
      ]
     },
     "execution_count": 12,
     "metadata": {},
     "output_type": "execute_result"
    }
   ],
   "source": [
    "values = data_obs[:, :] * proportion.reshape(16, -1)\n",
    "values = np.round(values)\n",
    "np.sum(values)   # Check if the sum is equal to 1447"
   ]
  },
  {
   "cell_type": "code",
   "execution_count": 13,
   "metadata": {},
   "outputs": [
    {
     "data": {
      "text/plain": [
       "array([[ 14.,  29.,   4.],\n",
       "       [ 23.,  22.,   1.],\n",
       "       [ 78.,  69.,  20.],\n",
       "       [ 32.,  36.,   1.],\n",
       "       [ 19.,  23.,   5.],\n",
       "       [ 42.,  42.,  10.],\n",
       "       [ 59.,  45.,  12.],\n",
       "       [ 80.,  49.,  16.],\n",
       "       [ 12.,   6.,   3.],\n",
       "       [ 45.,  39.,  12.],\n",
       "       [ 51.,  40.,   8.],\n",
       "       [101.,  64.,  17.],\n",
       "       [ 17.,  16.,   1.],\n",
       "       [ 41.,  27.,   9.],\n",
       "       [ 67.,  46.,  11.],\n",
       "       [ 46.,  30.,   7.]])"
      ]
     },
     "execution_count": 13,
     "metadata": {},
     "output_type": "execute_result"
    }
   ],
   "source": [
    "values"
   ]
  },
  {
   "cell_type": "markdown",
   "metadata": {},
   "source": [
    "### **Nonhierarchical model**"
   ]
  },
  {
   "cell_type": "code",
   "execution_count": 14,
   "metadata": {},
   "outputs": [],
   "source": [
    "with pm.Model() as model_non_hiera:\n",
    "    \n",
    "    thetas = pm.Dirichlet('thetas', a=np.ones_like(data_obs), shape=(16, 3))\n",
    "    post = pm.Multinomial('post', n=np.sum(values, axis=1), p=thetas, observed=values)"
   ]
  },
  {
   "cell_type": "code",
   "execution_count": 15,
   "metadata": {},
   "outputs": [
    {
     "data": {
      "text/plain": [
       "thetas_stickbreaking__    -41.64\n",
       "post                     -322.85\n",
       "Name: Log-probability of test_point, dtype: float64"
      ]
     },
     "execution_count": 15,
     "metadata": {},
     "output_type": "execute_result"
    }
   ],
   "source": [
    "model_non_hiera.check_test_point()"
   ]
  },
  {
   "cell_type": "code",
   "execution_count": 16,
   "metadata": {},
   "outputs": [
    {
     "data": {
      "image/svg+xml": [
       "<?xml version=\"1.0\" encoding=\"UTF-8\" standalone=\"no\"?>\n",
       "<!DOCTYPE svg PUBLIC \"-//W3C//DTD SVG 1.1//EN\"\n",
       " \"http://www.w3.org/Graphics/SVG/1.1/DTD/svg11.dtd\">\n",
       "<!-- Generated by graphviz version 2.40.1 (20161225.0304)\n",
       " -->\n",
       "<!-- Title: %3 Pages: 1 -->\n",
       "<svg width=\"200pt\" height=\"171pt\"\n",
       " viewBox=\"0.00 0.00 200.00 171.00\" xmlns=\"http://www.w3.org/2000/svg\" xmlns:xlink=\"http://www.w3.org/1999/xlink\">\n",
       "<g id=\"graph0\" class=\"graph\" transform=\"scale(1 1) rotate(0) translate(4 167)\">\n",
       "<title>%3</title>\n",
       "<polygon fill=\"#ffffff\" stroke=\"transparent\" points=\"-4,4 -4,-167 196,-167 196,4 -4,4\"/>\n",
       "<g id=\"clust1\" class=\"cluster\">\n",
       "<title>cluster16 x 3</title>\n",
       "<path fill=\"none\" stroke=\"#000000\" d=\"M20,-8C20,-8 172,-8 172,-8 178,-8 184,-14 184,-20 184,-20 184,-143 184,-143 184,-149 178,-155 172,-155 172,-155 20,-155 20,-155 14,-155 8,-149 8,-143 8,-143 8,-20 8,-20 8,-14 14,-8 20,-8\"/>\n",
       "<text text-anchor=\"middle\" x=\"158.5\" y=\"-15.8\" font-family=\"Times,serif\" font-size=\"14.00\" fill=\"#000000\">16 x 3</text>\n",
       "</g>\n",
       "<!-- post -->\n",
       "<g id=\"node1\" class=\"node\">\n",
       "<title>post</title>\n",
       "<ellipse fill=\"#d3d3d3\" stroke=\"#000000\" cx=\"96\" cy=\"-57\" rx=\"79.8859\" ry=\"18\"/>\n",
       "<text text-anchor=\"middle\" x=\"96\" y=\"-53.3\" font-family=\"Times,serif\" font-size=\"14.00\" fill=\"#000000\">post ~ Multinomial</text>\n",
       "</g>\n",
       "<!-- thetas -->\n",
       "<g id=\"node2\" class=\"node\">\n",
       "<title>thetas</title>\n",
       "<ellipse fill=\"none\" stroke=\"#000000\" cx=\"96\" cy=\"-129\" rx=\"72.2875\" ry=\"18\"/>\n",
       "<text text-anchor=\"middle\" x=\"96\" y=\"-125.3\" font-family=\"Times,serif\" font-size=\"14.00\" fill=\"#000000\">thetas ~ Dirichlet</text>\n",
       "</g>\n",
       "<!-- thetas&#45;&gt;post -->\n",
       "<g id=\"edge1\" class=\"edge\">\n",
       "<title>thetas&#45;&gt;post</title>\n",
       "<path fill=\"none\" stroke=\"#000000\" d=\"M96,-110.8314C96,-103.131 96,-93.9743 96,-85.4166\"/>\n",
       "<polygon fill=\"#000000\" stroke=\"#000000\" points=\"99.5001,-85.4132 96,-75.4133 92.5001,-85.4133 99.5001,-85.4132\"/>\n",
       "</g>\n",
       "</g>\n",
       "</svg>\n"
      ],
      "text/plain": [
       "<graphviz.dot.Digraph at 0x7f44c3452cd0>"
      ]
     },
     "execution_count": 16,
     "metadata": {},
     "output_type": "execute_result"
    }
   ],
   "source": [
    "pm.model_to_graphviz(model_non_hiera)"
   ]
  },
  {
   "cell_type": "code",
   "execution_count": 17,
   "metadata": {},
   "outputs": [
    {
     "name": "stderr",
     "output_type": "stream",
     "text": [
      "Auto-assigning NUTS sampler...\n",
      "Initializing NUTS using jitter+adapt_diag...\n",
      "Multiprocess sampling (4 chains in 4 jobs)\n",
      "NUTS: [thetas]\n",
      "Sampling 4 chains, 0 divergences: 100%|██████████| 16000/16000 [00:12<00:00, 1261.82draws/s]\n"
     ]
    }
   ],
   "source": [
    "with model_non_hiera:\n",
    "    trace_1 = pm.sample(draws=2000, tune=2000)"
   ]
  },
  {
   "cell_type": "code",
   "execution_count": 18,
   "metadata": {},
   "outputs": [
    {
     "data": {
      "image/png": "[encoded data removed]",
      "text/plain": [
       "<Figure size 864x144 with 2 Axes>"
      ]
     },
     "metadata": {},
     "output_type": "display_data"
    }
   ],
   "source": [
    "pm.traceplot(trace_1, var_names=['thetas']);"
   ]
  },
  {
   "cell_type": "code",
   "execution_count": 19,
   "metadata": {
    "scrolled": true
   },
   "outputs": [
    {
     "data": {
      "text/html": [
       "<div>\n",
       "<style scoped>\n",
       "    .dataframe tbody tr th:only-of-type {\n",
       "        vertical-align: middle;\n",
       "    }\n",
       "\n",
       "    .dataframe tbody tr th {\n",
       "        vertical-align: top;\n",
       "    }\n",
       "\n",
       "    .dataframe thead th {\n",
       "        text-align: right;\n",
       "    }\n",
       "</style>\n",
       "<table border=\"1\" class=\"dataframe\">\n",
       "  <thead>\n",
       "    <tr style=\"text-align: right;\">\n",
       "      <th></th>\n",
       "      <th>mean</th>\n",
       "      <th>sd</th>\n",
       "      <th>hpd_3%</th>\n",
       "      <th>hpd_97%</th>\n",
       "      <th>mcse_mean</th>\n",
       "      <th>mcse_sd</th>\n",
       "      <th>ess_mean</th>\n",
       "      <th>ess_sd</th>\n",
       "      <th>ess_bulk</th>\n",
       "      <th>ess_tail</th>\n",
       "      <th>r_hat</th>\n",
       "    </tr>\n",
       "  </thead>\n",
       "  <tbody>\n",
       "    <tr>\n",
       "      <th>thetas[0,0]</th>\n",
       "      <td>0.300</td>\n",
       "      <td>0.064</td>\n",
       "      <td>0.187</td>\n",
       "      <td>0.423</td>\n",
       "      <td>0.000</td>\n",
       "      <td>0.000</td>\n",
       "      <td>20339.0</td>\n",
       "      <td>17763.0</td>\n",
       "      <td>20322.0</td>\n",
       "      <td>6069.0</td>\n",
       "      <td>1.0</td>\n",
       "    </tr>\n",
       "    <tr>\n",
       "      <th>thetas[0,1]</th>\n",
       "      <td>0.600</td>\n",
       "      <td>0.069</td>\n",
       "      <td>0.470</td>\n",
       "      <td>0.727</td>\n",
       "      <td>0.000</td>\n",
       "      <td>0.000</td>\n",
       "      <td>19390.0</td>\n",
       "      <td>19180.0</td>\n",
       "      <td>19552.0</td>\n",
       "      <td>6245.0</td>\n",
       "      <td>1.0</td>\n",
       "    </tr>\n",
       "    <tr>\n",
       "      <th>thetas[0,2]</th>\n",
       "      <td>0.100</td>\n",
       "      <td>0.043</td>\n",
       "      <td>0.029</td>\n",
       "      <td>0.180</td>\n",
       "      <td>0.000</td>\n",
       "      <td>0.000</td>\n",
       "      <td>18595.0</td>\n",
       "      <td>12076.0</td>\n",
       "      <td>18709.0</td>\n",
       "      <td>5858.0</td>\n",
       "      <td>1.0</td>\n",
       "    </tr>\n",
       "    <tr>\n",
       "      <th>thetas[1,0]</th>\n",
       "      <td>0.490</td>\n",
       "      <td>0.070</td>\n",
       "      <td>0.362</td>\n",
       "      <td>0.622</td>\n",
       "      <td>0.001</td>\n",
       "      <td>0.000</td>\n",
       "      <td>19511.0</td>\n",
       "      <td>18547.0</td>\n",
       "      <td>19485.0</td>\n",
       "      <td>5735.0</td>\n",
       "      <td>1.0</td>\n",
       "    </tr>\n",
       "    <tr>\n",
       "      <th>thetas[1,1]</th>\n",
       "      <td>0.469</td>\n",
       "      <td>0.070</td>\n",
       "      <td>0.333</td>\n",
       "      <td>0.591</td>\n",
       "      <td>0.001</td>\n",
       "      <td>0.000</td>\n",
       "      <td>19212.0</td>\n",
       "      <td>18708.0</td>\n",
       "      <td>19202.0</td>\n",
       "      <td>5792.0</td>\n",
       "      <td>1.0</td>\n",
       "    </tr>\n",
       "    <tr>\n",
       "      <th>thetas[1,2]</th>\n",
       "      <td>0.041</td>\n",
       "      <td>0.028</td>\n",
       "      <td>0.001</td>\n",
       "      <td>0.090</td>\n",
       "      <td>0.000</td>\n",
       "      <td>0.000</td>\n",
       "      <td>13816.0</td>\n",
       "      <td>8597.0</td>\n",
       "      <td>14282.0</td>\n",
       "      <td>5384.0</td>\n",
       "      <td>1.0</td>\n",
       "    </tr>\n",
       "    <tr>\n",
       "      <th>thetas[2,0]</th>\n",
       "      <td>0.465</td>\n",
       "      <td>0.038</td>\n",
       "      <td>0.395</td>\n",
       "      <td>0.538</td>\n",
       "      <td>0.000</td>\n",
       "      <td>0.000</td>\n",
       "      <td>20807.0</td>\n",
       "      <td>20050.0</td>\n",
       "      <td>20958.0</td>\n",
       "      <td>5981.0</td>\n",
       "      <td>1.0</td>\n",
       "    </tr>\n",
       "    <tr>\n",
       "      <th>thetas[2,1]</th>\n",
       "      <td>0.411</td>\n",
       "      <td>0.037</td>\n",
       "      <td>0.343</td>\n",
       "      <td>0.484</td>\n",
       "      <td>0.000</td>\n",
       "      <td>0.000</td>\n",
       "      <td>19349.0</td>\n",
       "      <td>19002.0</td>\n",
       "      <td>19357.0</td>\n",
       "      <td>6140.0</td>\n",
       "      <td>1.0</td>\n",
       "    </tr>\n",
       "    <tr>\n",
       "      <th>thetas[2,2]</th>\n",
       "      <td>0.124</td>\n",
       "      <td>0.026</td>\n",
       "      <td>0.078</td>\n",
       "      <td>0.172</td>\n",
       "      <td>0.000</td>\n",
       "      <td>0.000</td>\n",
       "      <td>19153.0</td>\n",
       "      <td>15896.0</td>\n",
       "      <td>19292.0</td>\n",
       "      <td>6033.0</td>\n",
       "      <td>1.0</td>\n",
       "    </tr>\n",
       "    <tr>\n",
       "      <th>thetas[3,0]</th>\n",
       "      <td>0.458</td>\n",
       "      <td>0.059</td>\n",
       "      <td>0.349</td>\n",
       "      <td>0.566</td>\n",
       "      <td>0.000</td>\n",
       "      <td>0.000</td>\n",
       "      <td>20735.0</td>\n",
       "      <td>20200.0</td>\n",
       "      <td>20643.0</td>\n",
       "      <td>5127.0</td>\n",
       "      <td>1.0</td>\n",
       "    </tr>\n",
       "    <tr>\n",
       "      <th>thetas[3,1]</th>\n",
       "      <td>0.514</td>\n",
       "      <td>0.058</td>\n",
       "      <td>0.408</td>\n",
       "      <td>0.624</td>\n",
       "      <td>0.000</td>\n",
       "      <td>0.000</td>\n",
       "      <td>20660.0</td>\n",
       "      <td>20058.0</td>\n",
       "      <td>20471.0</td>\n",
       "      <td>5836.0</td>\n",
       "      <td>1.0</td>\n",
       "    </tr>\n",
       "    <tr>\n",
       "      <th>thetas[3,2]</th>\n",
       "      <td>0.028</td>\n",
       "      <td>0.020</td>\n",
       "      <td>0.001</td>\n",
       "      <td>0.064</td>\n",
       "      <td>0.000</td>\n",
       "      <td>0.000</td>\n",
       "      <td>16074.0</td>\n",
       "      <td>8880.0</td>\n",
       "      <td>17187.0</td>\n",
       "      <td>5629.0</td>\n",
       "      <td>1.0</td>\n",
       "    </tr>\n",
       "    <tr>\n",
       "      <th>thetas[4,0]</th>\n",
       "      <td>0.400</td>\n",
       "      <td>0.068</td>\n",
       "      <td>0.269</td>\n",
       "      <td>0.527</td>\n",
       "      <td>0.000</td>\n",
       "      <td>0.000</td>\n",
       "      <td>19289.0</td>\n",
       "      <td>17810.0</td>\n",
       "      <td>19171.0</td>\n",
       "      <td>5725.0</td>\n",
       "      <td>1.0</td>\n",
       "    </tr>\n",
       "    <tr>\n",
       "      <th>thetas[4,1]</th>\n",
       "      <td>0.480</td>\n",
       "      <td>0.069</td>\n",
       "      <td>0.348</td>\n",
       "      <td>0.604</td>\n",
       "      <td>0.000</td>\n",
       "      <td>0.000</td>\n",
       "      <td>19313.0</td>\n",
       "      <td>18659.0</td>\n",
       "      <td>19046.0</td>\n",
       "      <td>5533.0</td>\n",
       "      <td>1.0</td>\n",
       "    </tr>\n",
       "    <tr>\n",
       "      <th>thetas[4,2]</th>\n",
       "      <td>0.120</td>\n",
       "      <td>0.046</td>\n",
       "      <td>0.040</td>\n",
       "      <td>0.206</td>\n",
       "      <td>0.000</td>\n",
       "      <td>0.000</td>\n",
       "      <td>17300.0</td>\n",
       "      <td>11240.0</td>\n",
       "      <td>18923.0</td>\n",
       "      <td>5570.0</td>\n",
       "      <td>1.0</td>\n",
       "    </tr>\n",
       "    <tr>\n",
       "      <th>thetas[5,0]</th>\n",
       "      <td>0.444</td>\n",
       "      <td>0.050</td>\n",
       "      <td>0.354</td>\n",
       "      <td>0.538</td>\n",
       "      <td>0.000</td>\n",
       "      <td>0.000</td>\n",
       "      <td>19699.0</td>\n",
       "      <td>19109.0</td>\n",
       "      <td>19641.0</td>\n",
       "      <td>5723.0</td>\n",
       "      <td>1.0</td>\n",
       "    </tr>\n",
       "    <tr>\n",
       "      <th>thetas[5,1]</th>\n",
       "      <td>0.443</td>\n",
       "      <td>0.051</td>\n",
       "      <td>0.346</td>\n",
       "      <td>0.536</td>\n",
       "      <td>0.000</td>\n",
       "      <td>0.000</td>\n",
       "      <td>19750.0</td>\n",
       "      <td>18989.0</td>\n",
       "      <td>19720.0</td>\n",
       "      <td>5892.0</td>\n",
       "      <td>1.0</td>\n",
       "    </tr>\n",
       "    <tr>\n",
       "      <th>thetas[5,2]</th>\n",
       "      <td>0.113</td>\n",
       "      <td>0.031</td>\n",
       "      <td>0.060</td>\n",
       "      <td>0.175</td>\n",
       "      <td>0.000</td>\n",
       "      <td>0.000</td>\n",
       "      <td>18568.0</td>\n",
       "      <td>14734.0</td>\n",
       "      <td>18817.0</td>\n",
       "      <td>5704.0</td>\n",
       "      <td>1.0</td>\n",
       "    </tr>\n",
       "    <tr>\n",
       "      <th>thetas[6,0]</th>\n",
       "      <td>0.504</td>\n",
       "      <td>0.045</td>\n",
       "      <td>0.421</td>\n",
       "      <td>0.592</td>\n",
       "      <td>0.000</td>\n",
       "      <td>0.000</td>\n",
       "      <td>15921.0</td>\n",
       "      <td>15025.0</td>\n",
       "      <td>15801.0</td>\n",
       "      <td>5305.0</td>\n",
       "      <td>1.0</td>\n",
       "    </tr>\n",
       "    <tr>\n",
       "      <th>thetas[6,1]</th>\n",
       "      <td>0.387</td>\n",
       "      <td>0.045</td>\n",
       "      <td>0.305</td>\n",
       "      <td>0.471</td>\n",
       "      <td>0.000</td>\n",
       "      <td>0.000</td>\n",
       "      <td>17919.0</td>\n",
       "      <td>17298.0</td>\n",
       "      <td>17932.0</td>\n",
       "      <td>5535.0</td>\n",
       "      <td>1.0</td>\n",
       "    </tr>\n",
       "    <tr>\n",
       "      <th>thetas[6,2]</th>\n",
       "      <td>0.109</td>\n",
       "      <td>0.029</td>\n",
       "      <td>0.057</td>\n",
       "      <td>0.163</td>\n",
       "      <td>0.000</td>\n",
       "      <td>0.000</td>\n",
       "      <td>19968.0</td>\n",
       "      <td>15599.0</td>\n",
       "      <td>20069.0</td>\n",
       "      <td>5625.0</td>\n",
       "      <td>1.0</td>\n",
       "    </tr>\n",
       "    <tr>\n",
       "      <th>thetas[7,0]</th>\n",
       "      <td>0.547</td>\n",
       "      <td>0.041</td>\n",
       "      <td>0.467</td>\n",
       "      <td>0.621</td>\n",
       "      <td>0.000</td>\n",
       "      <td>0.000</td>\n",
       "      <td>17353.0</td>\n",
       "      <td>16819.0</td>\n",
       "      <td>17435.0</td>\n",
       "      <td>5160.0</td>\n",
       "      <td>1.0</td>\n",
       "    </tr>\n",
       "    <tr>\n",
       "      <th>thetas[7,1]</th>\n",
       "      <td>0.338</td>\n",
       "      <td>0.039</td>\n",
       "      <td>0.266</td>\n",
       "      <td>0.412</td>\n",
       "      <td>0.000</td>\n",
       "      <td>0.000</td>\n",
       "      <td>18694.0</td>\n",
       "      <td>17352.0</td>\n",
       "      <td>19000.0</td>\n",
       "      <td>5645.0</td>\n",
       "      <td>1.0</td>\n",
       "    </tr>\n",
       "    <tr>\n",
       "      <th>thetas[7,2]</th>\n",
       "      <td>0.115</td>\n",
       "      <td>0.026</td>\n",
       "      <td>0.069</td>\n",
       "      <td>0.166</td>\n",
       "      <td>0.000</td>\n",
       "      <td>0.000</td>\n",
       "      <td>19354.0</td>\n",
       "      <td>16324.0</td>\n",
       "      <td>19387.0</td>\n",
       "      <td>5943.0</td>\n",
       "      <td>1.0</td>\n",
       "    </tr>\n",
       "    <tr>\n",
       "      <th>thetas[8,0]</th>\n",
       "      <td>0.542</td>\n",
       "      <td>0.102</td>\n",
       "      <td>0.351</td>\n",
       "      <td>0.737</td>\n",
       "      <td>0.001</td>\n",
       "      <td>0.001</td>\n",
       "      <td>18059.0</td>\n",
       "      <td>17100.0</td>\n",
       "      <td>18191.0</td>\n",
       "      <td>5359.0</td>\n",
       "      <td>1.0</td>\n",
       "    </tr>\n",
       "    <tr>\n",
       "      <th>thetas[8,1]</th>\n",
       "      <td>0.291</td>\n",
       "      <td>0.092</td>\n",
       "      <td>0.125</td>\n",
       "      <td>0.466</td>\n",
       "      <td>0.001</td>\n",
       "      <td>0.001</td>\n",
       "      <td>17529.0</td>\n",
       "      <td>12773.0</td>\n",
       "      <td>18116.0</td>\n",
       "      <td>5361.0</td>\n",
       "      <td>1.0</td>\n",
       "    </tr>\n",
       "    <tr>\n",
       "      <th>thetas[8,2]</th>\n",
       "      <td>0.167</td>\n",
       "      <td>0.076</td>\n",
       "      <td>0.034</td>\n",
       "      <td>0.305</td>\n",
       "      <td>0.001</td>\n",
       "      <td>0.001</td>\n",
       "      <td>15880.0</td>\n",
       "      <td>9583.0</td>\n",
       "      <td>17401.0</td>\n",
       "      <td>5565.0</td>\n",
       "      <td>1.0</td>\n",
       "    </tr>\n",
       "    <tr>\n",
       "      <th>thetas[9,0]</th>\n",
       "      <td>0.465</td>\n",
       "      <td>0.050</td>\n",
       "      <td>0.372</td>\n",
       "      <td>0.558</td>\n",
       "      <td>0.000</td>\n",
       "      <td>0.000</td>\n",
       "      <td>21250.0</td>\n",
       "      <td>21134.0</td>\n",
       "      <td>21235.0</td>\n",
       "      <td>5933.0</td>\n",
       "      <td>1.0</td>\n",
       "    </tr>\n",
       "    <tr>\n",
       "      <th>thetas[9,1]</th>\n",
       "      <td>0.404</td>\n",
       "      <td>0.050</td>\n",
       "      <td>0.310</td>\n",
       "      <td>0.496</td>\n",
       "      <td>0.000</td>\n",
       "      <td>0.000</td>\n",
       "      <td>19513.0</td>\n",
       "      <td>17659.0</td>\n",
       "      <td>19842.0</td>\n",
       "      <td>5706.0</td>\n",
       "      <td>1.0</td>\n",
       "    </tr>\n",
       "    <tr>\n",
       "      <th>thetas[9,2]</th>\n",
       "      <td>0.131</td>\n",
       "      <td>0.033</td>\n",
       "      <td>0.070</td>\n",
       "      <td>0.190</td>\n",
       "      <td>0.000</td>\n",
       "      <td>0.000</td>\n",
       "      <td>20408.0</td>\n",
       "      <td>16101.0</td>\n",
       "      <td>20676.0</td>\n",
       "      <td>5468.0</td>\n",
       "      <td>1.0</td>\n",
       "    </tr>\n",
       "    <tr>\n",
       "      <th>thetas[10,0]</th>\n",
       "      <td>0.509</td>\n",
       "      <td>0.049</td>\n",
       "      <td>0.413</td>\n",
       "      <td>0.598</td>\n",
       "      <td>0.000</td>\n",
       "      <td>0.000</td>\n",
       "      <td>17902.0</td>\n",
       "      <td>17320.0</td>\n",
       "      <td>17983.0</td>\n",
       "      <td>5648.0</td>\n",
       "      <td>1.0</td>\n",
       "    </tr>\n",
       "    <tr>\n",
       "      <th>thetas[10,1]</th>\n",
       "      <td>0.402</td>\n",
       "      <td>0.048</td>\n",
       "      <td>0.319</td>\n",
       "      <td>0.495</td>\n",
       "      <td>0.000</td>\n",
       "      <td>0.000</td>\n",
       "      <td>17150.0</td>\n",
       "      <td>16781.0</td>\n",
       "      <td>16879.0</td>\n",
       "      <td>6083.0</td>\n",
       "      <td>1.0</td>\n",
       "    </tr>\n",
       "    <tr>\n",
       "      <th>thetas[10,2]</th>\n",
       "      <td>0.088</td>\n",
       "      <td>0.028</td>\n",
       "      <td>0.038</td>\n",
       "      <td>0.138</td>\n",
       "      <td>0.000</td>\n",
       "      <td>0.000</td>\n",
       "      <td>18132.0</td>\n",
       "      <td>13925.0</td>\n",
       "      <td>18017.0</td>\n",
       "      <td>5951.0</td>\n",
       "      <td>1.0</td>\n",
       "    </tr>\n",
       "    <tr>\n",
       "      <th>thetas[11,0]</th>\n",
       "      <td>0.551</td>\n",
       "      <td>0.037</td>\n",
       "      <td>0.486</td>\n",
       "      <td>0.623</td>\n",
       "      <td>0.000</td>\n",
       "      <td>0.000</td>\n",
       "      <td>19232.0</td>\n",
       "      <td>19113.0</td>\n",
       "      <td>19204.0</td>\n",
       "      <td>5712.0</td>\n",
       "      <td>1.0</td>\n",
       "    </tr>\n",
       "    <tr>\n",
       "      <th>thetas[11,1]</th>\n",
       "      <td>0.351</td>\n",
       "      <td>0.035</td>\n",
       "      <td>0.284</td>\n",
       "      <td>0.413</td>\n",
       "      <td>0.000</td>\n",
       "      <td>0.000</td>\n",
       "      <td>18706.0</td>\n",
       "      <td>17851.0</td>\n",
       "      <td>18777.0</td>\n",
       "      <td>6028.0</td>\n",
       "      <td>1.0</td>\n",
       "    </tr>\n",
       "    <tr>\n",
       "      <th>thetas[11,2]</th>\n",
       "      <td>0.097</td>\n",
       "      <td>0.021</td>\n",
       "      <td>0.060</td>\n",
       "      <td>0.138</td>\n",
       "      <td>0.000</td>\n",
       "      <td>0.000</td>\n",
       "      <td>18493.0</td>\n",
       "      <td>15312.0</td>\n",
       "      <td>18919.0</td>\n",
       "      <td>5995.0</td>\n",
       "      <td>1.0</td>\n",
       "    </tr>\n",
       "    <tr>\n",
       "      <th>thetas[12,0]</th>\n",
       "      <td>0.487</td>\n",
       "      <td>0.082</td>\n",
       "      <td>0.339</td>\n",
       "      <td>0.647</td>\n",
       "      <td>0.001</td>\n",
       "      <td>0.000</td>\n",
       "      <td>22491.0</td>\n",
       "      <td>20669.0</td>\n",
       "      <td>22470.0</td>\n",
       "      <td>5516.0</td>\n",
       "      <td>1.0</td>\n",
       "    </tr>\n",
       "    <tr>\n",
       "      <th>thetas[12,1]</th>\n",
       "      <td>0.459</td>\n",
       "      <td>0.082</td>\n",
       "      <td>0.305</td>\n",
       "      <td>0.610</td>\n",
       "      <td>0.001</td>\n",
       "      <td>0.000</td>\n",
       "      <td>20397.0</td>\n",
       "      <td>18550.0</td>\n",
       "      <td>20367.0</td>\n",
       "      <td>6181.0</td>\n",
       "      <td>1.0</td>\n",
       "    </tr>\n",
       "    <tr>\n",
       "      <th>thetas[12,2]</th>\n",
       "      <td>0.054</td>\n",
       "      <td>0.037</td>\n",
       "      <td>0.002</td>\n",
       "      <td>0.121</td>\n",
       "      <td>0.000</td>\n",
       "      <td>0.000</td>\n",
       "      <td>16547.0</td>\n",
       "      <td>9079.0</td>\n",
       "      <td>17300.0</td>\n",
       "      <td>5684.0</td>\n",
       "      <td>1.0</td>\n",
       "    </tr>\n",
       "    <tr>\n",
       "      <th>thetas[13,0]</th>\n",
       "      <td>0.524</td>\n",
       "      <td>0.055</td>\n",
       "      <td>0.424</td>\n",
       "      <td>0.630</td>\n",
       "      <td>0.000</td>\n",
       "      <td>0.000</td>\n",
       "      <td>17157.0</td>\n",
       "      <td>16845.0</td>\n",
       "      <td>17150.0</td>\n",
       "      <td>5982.0</td>\n",
       "      <td>1.0</td>\n",
       "    </tr>\n",
       "    <tr>\n",
       "      <th>thetas[13,1]</th>\n",
       "      <td>0.350</td>\n",
       "      <td>0.053</td>\n",
       "      <td>0.256</td>\n",
       "      <td>0.454</td>\n",
       "      <td>0.000</td>\n",
       "      <td>0.000</td>\n",
       "      <td>18818.0</td>\n",
       "      <td>16504.0</td>\n",
       "      <td>19076.0</td>\n",
       "      <td>5748.0</td>\n",
       "      <td>1.0</td>\n",
       "    </tr>\n",
       "    <tr>\n",
       "      <th>thetas[13,2]</th>\n",
       "      <td>0.125</td>\n",
       "      <td>0.037</td>\n",
       "      <td>0.061</td>\n",
       "      <td>0.195</td>\n",
       "      <td>0.000</td>\n",
       "      <td>0.000</td>\n",
       "      <td>18228.0</td>\n",
       "      <td>12811.0</td>\n",
       "      <td>19014.0</td>\n",
       "      <td>5243.0</td>\n",
       "      <td>1.0</td>\n",
       "    </tr>\n",
       "    <tr>\n",
       "      <th>thetas[14,0]</th>\n",
       "      <td>0.536</td>\n",
       "      <td>0.044</td>\n",
       "      <td>0.454</td>\n",
       "      <td>0.619</td>\n",
       "      <td>0.000</td>\n",
       "      <td>0.000</td>\n",
       "      <td>18884.0</td>\n",
       "      <td>18702.0</td>\n",
       "      <td>18899.0</td>\n",
       "      <td>6359.0</td>\n",
       "      <td>1.0</td>\n",
       "    </tr>\n",
       "    <tr>\n",
       "      <th>thetas[14,1]</th>\n",
       "      <td>0.370</td>\n",
       "      <td>0.043</td>\n",
       "      <td>0.293</td>\n",
       "      <td>0.452</td>\n",
       "      <td>0.000</td>\n",
       "      <td>0.000</td>\n",
       "      <td>19833.0</td>\n",
       "      <td>18709.0</td>\n",
       "      <td>19859.0</td>\n",
       "      <td>6530.0</td>\n",
       "      <td>1.0</td>\n",
       "    </tr>\n",
       "    <tr>\n",
       "      <th>thetas[14,2]</th>\n",
       "      <td>0.094</td>\n",
       "      <td>0.025</td>\n",
       "      <td>0.049</td>\n",
       "      <td>0.142</td>\n",
       "      <td>0.000</td>\n",
       "      <td>0.000</td>\n",
       "      <td>18242.0</td>\n",
       "      <td>14272.0</td>\n",
       "      <td>19906.0</td>\n",
       "      <td>6134.0</td>\n",
       "      <td>1.0</td>\n",
       "    </tr>\n",
       "    <tr>\n",
       "      <th>thetas[15,0]</th>\n",
       "      <td>0.547</td>\n",
       "      <td>0.054</td>\n",
       "      <td>0.449</td>\n",
       "      <td>0.650</td>\n",
       "      <td>0.000</td>\n",
       "      <td>0.000</td>\n",
       "      <td>19939.0</td>\n",
       "      <td>19867.0</td>\n",
       "      <td>20079.0</td>\n",
       "      <td>5596.0</td>\n",
       "      <td>1.0</td>\n",
       "    </tr>\n",
       "    <tr>\n",
       "      <th>thetas[15,1]</th>\n",
       "      <td>0.360</td>\n",
       "      <td>0.052</td>\n",
       "      <td>0.268</td>\n",
       "      <td>0.459</td>\n",
       "      <td>0.000</td>\n",
       "      <td>0.000</td>\n",
       "      <td>18711.0</td>\n",
       "      <td>17012.0</td>\n",
       "      <td>18923.0</td>\n",
       "      <td>5642.0</td>\n",
       "      <td>1.0</td>\n",
       "    </tr>\n",
       "    <tr>\n",
       "      <th>thetas[15,2]</th>\n",
       "      <td>0.093</td>\n",
       "      <td>0.031</td>\n",
       "      <td>0.039</td>\n",
       "      <td>0.152</td>\n",
       "      <td>0.000</td>\n",
       "      <td>0.000</td>\n",
       "      <td>19422.0</td>\n",
       "      <td>13374.0</td>\n",
       "      <td>20231.0</td>\n",
       "      <td>5770.0</td>\n",
       "      <td>1.0</td>\n",
       "    </tr>\n",
       "  </tbody>\n",
       "</table>\n",
       "</div>"
      ],
      "text/plain": [
       "               mean     sd  hpd_3%  hpd_97%  mcse_mean  mcse_sd  ess_mean  \\\n",
       "thetas[0,0]   0.300  0.064   0.187    0.423      0.000    0.000   20339.0   \n",
       "thetas[0,1]   0.600  0.069   0.470    0.727      0.000    0.000   19390.0   \n",
       "thetas[0,2]   0.100  0.043   0.029    0.180      0.000    0.000   18595.0   \n",
       "thetas[1,0]   0.490  0.070   0.362    0.622      0.001    0.000   19511.0   \n",
       "thetas[1,1]   0.469  0.070   0.333    0.591      0.001    0.000   19212.0   \n",
       "thetas[1,2]   0.041  0.028   0.001    0.090      0.000    0.000   13816.0   \n",
       "thetas[2,0]   0.465  0.038   0.395    0.538      0.000    0.000   20807.0   \n",
       "thetas[2,1]   0.411  0.037   0.343    0.484      0.000    0.000   19349.0   \n",
       "thetas[2,2]   0.124  0.026   0.078    0.172      0.000    0.000   19153.0   \n",
       "thetas[3,0]   0.458  0.059   0.349    0.566      0.000    0.000   20735.0   \n",
       "thetas[3,1]   0.514  0.058   0.408    0.624      0.000    0.000   20660.0   \n",
       "thetas[3,2]   0.028  0.020   0.001    0.064      0.000    0.000   16074.0   \n",
       "thetas[4,0]   0.400  0.068   0.269    0.527      0.000    0.000   19289.0   \n",
       "thetas[4,1]   0.480  0.069   0.348    0.604      0.000    0.000   19313.0   \n",
       "thetas[4,2]   0.120  0.046   0.040    0.206      0.000    0.000   17300.0   \n",
       "thetas[5,0]   0.444  0.050   0.354    0.538      0.000    0.000   19699.0   \n",
       "thetas[5,1]   0.443  0.051   0.346    0.536      0.000    0.000   19750.0   \n",
       "thetas[5,2]   0.113  0.031   0.060    0.175      0.000    0.000   18568.0   \n",
       "thetas[6,0]   0.504  0.045   0.421    0.592      0.000    0.000   15921.0   \n",
       "thetas[6,1]   0.387  0.045   0.305    0.471      0.000    0.000   17919.0   \n",
       "thetas[6,2]   0.109  0.029   0.057    0.163      0.000    0.000   19968.0   \n",
       "thetas[7,0]   0.547  0.041   0.467    0.621      0.000    0.000   17353.0   \n",
       "thetas[7,1]   0.338  0.039   0.266    0.412      0.000    0.000   18694.0   \n",
       "thetas[7,2]   0.115  0.026   0.069    0.166      0.000    0.000   19354.0   \n",
       "thetas[8,0]   0.542  0.102   0.351    0.737      0.001    0.001   18059.0   \n",
       "thetas[8,1]   0.291  0.092   0.125    0.466      0.001    0.001   17529.0   \n",
       "thetas[8,2]   0.167  0.076   0.034    0.305      0.001    0.001   15880.0   \n",
       "thetas[9,0]   0.465  0.050   0.372    0.558      0.000    0.000   21250.0   \n",
       "thetas[9,1]   0.404  0.050   0.310    0.496      0.000    0.000   19513.0   \n",
       "thetas[9,2]   0.131  0.033   0.070    0.190      0.000    0.000   20408.0   \n",
       "thetas[10,0]  0.509  0.049   0.413    0.598      0.000    0.000   17902.0   \n",
       "thetas[10,1]  0.402  0.048   0.319    0.495      0.000    0.000   17150.0   \n",
       "thetas[10,2]  0.088  0.028   0.038    0.138      0.000    0.000   18132.0   \n",
       "thetas[11,0]  0.551  0.037   0.486    0.623      0.000    0.000   19232.0   \n",
       "thetas[11,1]  0.351  0.035   0.284    0.413      0.000    0.000   18706.0   \n",
       "thetas[11,2]  0.097  0.021   0.060    0.138      0.000    0.000   18493.0   \n",
       "thetas[12,0]  0.487  0.082   0.339    0.647      0.001    0.000   22491.0   \n",
       "thetas[12,1]  0.459  0.082   0.305    0.610      0.001    0.000   20397.0   \n",
       "thetas[12,2]  0.054  0.037   0.002    0.121      0.000    0.000   16547.0   \n",
       "thetas[13,0]  0.524  0.055   0.424    0.630      0.000    0.000   17157.0   \n",
       "thetas[13,1]  0.350  0.053   0.256    0.454      0.000    0.000   18818.0   \n",
       "thetas[13,2]  0.125  0.037   0.061    0.195      0.000    0.000   18228.0   \n",
       "thetas[14,0]  0.536  0.044   0.454    0.619      0.000    0.000   18884.0   \n",
       "thetas[14,1]  0.370  0.043   0.293    0.452      0.000    0.000   19833.0   \n",
       "thetas[14,2]  0.094  0.025   0.049    0.142      0.000    0.000   18242.0   \n",
       "thetas[15,0]  0.547  0.054   0.449    0.650      0.000    0.000   19939.0   \n",
       "thetas[15,1]  0.360  0.052   0.268    0.459      0.000    0.000   18711.0   \n",
       "thetas[15,2]  0.093  0.031   0.039    0.152      0.000    0.000   19422.0   \n",
       "\n",
       "               ess_sd  ess_bulk  ess_tail  r_hat  \n",
       "thetas[0,0]   17763.0   20322.0    6069.0    1.0  \n",
       "thetas[0,1]   19180.0   19552.0    6245.0    1.0  \n",
       "thetas[0,2]   12076.0   18709.0    5858.0    1.0  \n",
       "thetas[1,0]   18547.0   19485.0    5735.0    1.0  \n",
       "thetas[1,1]   18708.0   19202.0    5792.0    1.0  \n",
       "thetas[1,2]    8597.0   14282.0    5384.0    1.0  \n",
       "thetas[2,0]   20050.0   20958.0    5981.0    1.0  \n",
       "thetas[2,1]   19002.0   19357.0    6140.0    1.0  \n",
       "thetas[2,2]   15896.0   19292.0    6033.0    1.0  \n",
       "thetas[3,0]   20200.0   20643.0    5127.0    1.0  \n",
       "thetas[3,1]   20058.0   20471.0    5836.0    1.0  \n",
       "thetas[3,2]    8880.0   17187.0    5629.0    1.0  \n",
       "thetas[4,0]   17810.0   19171.0    5725.0    1.0  \n",
       "thetas[4,1]   18659.0   19046.0    5533.0    1.0  \n",
       "thetas[4,2]   11240.0   18923.0    5570.0    1.0  \n",
       "thetas[5,0]   19109.0   19641.0    5723.0    1.0  \n",
       "thetas[5,1]   18989.0   19720.0    5892.0    1.0  \n",
       "thetas[5,2]   14734.0   18817.0    5704.0    1.0  \n",
       "thetas[6,0]   15025.0   15801.0    5305.0    1.0  \n",
       "thetas[6,1]   17298.0   17932.0    5535.0    1.0  \n",
       "thetas[6,2]   15599.0   20069.0    5625.0    1.0  \n",
       "thetas[7,0]   16819.0   17435.0    5160.0    1.0  \n",
       "thetas[7,1]   17352.0   19000.0    5645.0    1.0  \n",
       "thetas[7,2]   16324.0   19387.0    5943.0    1.0  \n",
       "thetas[8,0]   17100.0   18191.0    5359.0    1.0  \n",
       "thetas[8,1]   12773.0   18116.0    5361.0    1.0  \n",
       "thetas[8,2]    9583.0   17401.0    5565.0    1.0  \n",
       "thetas[9,0]   21134.0   21235.0    5933.0    1.0  \n",
       "thetas[9,1]   17659.0   19842.0    5706.0    1.0  \n",
       "thetas[9,2]   16101.0   20676.0    5468.0    1.0  \n",
       "thetas[10,0]  17320.0   17983.0    5648.0    1.0  \n",
       "thetas[10,1]  16781.0   16879.0    6083.0    1.0  \n",
       "thetas[10,2]  13925.0   18017.0    5951.0    1.0  \n",
       "thetas[11,0]  19113.0   19204.0    5712.0    1.0  \n",
       "thetas[11,1]  17851.0   18777.0    6028.0    1.0  \n",
       "thetas[11,2]  15312.0   18919.0    5995.0    1.0  \n",
       "thetas[12,0]  20669.0   22470.0    5516.0    1.0  \n",
       "thetas[12,1]  18550.0   20367.0    6181.0    1.0  \n",
       "thetas[12,2]   9079.0   17300.0    5684.0    1.0  \n",
       "thetas[13,0]  16845.0   17150.0    5982.0    1.0  \n",
       "thetas[13,1]  16504.0   19076.0    5748.0    1.0  \n",
       "thetas[13,2]  12811.0   19014.0    5243.0    1.0  \n",
       "thetas[14,0]  18702.0   18899.0    6359.0    1.0  \n",
       "thetas[14,1]  18709.0   19859.0    6530.0    1.0  \n",
       "thetas[14,2]  14272.0   19906.0    6134.0    1.0  \n",
       "thetas[15,0]  19867.0   20079.0    5596.0    1.0  \n",
       "thetas[15,1]  17012.0   18923.0    5642.0    1.0  \n",
       "thetas[15,2]  13374.0   20231.0    5770.0    1.0  "
      ]
     },
     "execution_count": 19,
     "metadata": {},
     "output_type": "execute_result"
    }
   ],
   "source": [
    "arviz.summary(trace_1)"
   ]
  },
  {
   "cell_type": "markdown",
   "metadata": {},
   "source": [
    "Now, the goal is to reproduce the figure 8.1 (a)."
   ]
  },
  {
   "cell_type": "code",
   "execution_count": 20,
   "metadata": {},
   "outputs": [
    {
     "name": "stderr",
     "output_type": "stream",
     "text": [
      "100%|██████████| 10000/10000 [00:16<00:00, 624.90it/s]\n"
     ]
    }
   ],
   "source": [
    "with model_non_hiera:\n",
    "    ppc_non_hiera = pm.sample_posterior_predictive(trace_1, samples=10_000, vars=[thetas, post])"
   ]
  },
  {
   "cell_type": "code",
   "execution_count": 21,
   "metadata": {},
   "outputs": [
    {
     "data": {
      "text/plain": [
       "(10000, 16, 3)"
      ]
     },
     "execution_count": 21,
     "metadata": {},
     "output_type": "execute_result"
    }
   ],
   "source": [
    "ppc_non_hiera['thetas'].shape"
   ]
  },
  {
   "cell_type": "markdown",
   "metadata": {},
   "source": [
    "Just check if the column **proportion** (look at the data frame) is equal to what we got."
   ]
  },
  {
   "cell_type": "code",
   "execution_count": 22,
   "metadata": {},
   "outputs": [
    {
     "data": {
      "text/plain": [
       "array([0.03206413, 0.03206413, 0.11523046, 0.04809619, 0.03206413,\n",
       "       0.06513026, 0.08016032, 0.1002004 , 0.01503006, 0.06613226,\n",
       "       0.06813627, 0.12625251, 0.02304609, 0.05310621, 0.08617234,\n",
       "       0.05711423])"
      ]
     },
     "execution_count": 22,
     "metadata": {},
     "output_type": "execute_result"
    }
   ],
   "source": [
    "proportion / np.sum(proportion)"
   ]
  },
  {
   "cell_type": "code",
   "execution_count": 23,
   "metadata": {},
   "outputs": [],
   "source": [
    "diff = []\n",
    "\n",
    "for i in range(16):\n",
    "    result = ppc_non_hiera['thetas'][:, i, 0] - ppc_non_hiera['thetas'][:, i, 1]\n",
    "    diff.append(list(result))"
   ]
  },
  {
   "cell_type": "code",
   "execution_count": 24,
   "metadata": {},
   "outputs": [
    {
     "data": {
      "text/plain": [
       "array([[-0.37152868, -0.39270884, -0.27711763, ..., -0.38311389,\n",
       "        -0.16197354, -0.0759135 ],\n",
       "       [-0.09074752,  0.1115859 ,  0.00146911, ...,  0.01069888,\n",
       "         0.02267581,  0.07319762],\n",
       "       [-0.06447657,  0.13304329,  0.04881421, ..., -0.05086837,\n",
       "         0.17782086,  0.1470372 ],\n",
       "       ...,\n",
       "       [ 0.22232482,  0.04534385,  0.12250542, ...,  0.21818491,\n",
       "         0.12880619,  0.17687064],\n",
       "       [ 0.23422029,  0.29562229, -0.01020674, ...,  0.10753941,\n",
       "         0.21011965,  0.22453465],\n",
       "       [ 0.12189831,  0.05450111,  0.13657609, ...,  0.22938518,\n",
       "         0.18281768,  0.21130112]])"
      ]
     },
     "execution_count": 24,
     "metadata": {},
     "output_type": "execute_result"
    }
   ],
   "source": [
    "diff = np.asarray(diff)\n",
    "diff"
   ]
  },
  {
   "cell_type": "code",
   "execution_count": 25,
   "metadata": {},
   "outputs": [],
   "source": [
    "result = np.sum(diff.T * proportion / np.sum(proportion), axis=1)"
   ]
  },
  {
   "cell_type": "code",
   "execution_count": 26,
   "metadata": {},
   "outputs": [
    {
     "data": {
      "image/png": "[encoded data removed]",
      "text/plain": [
       "<Figure size 720x432 with 1 Axes>"
      ]
     },
     "metadata": {},
     "output_type": "display_data"
    }
   ],
   "source": [
    "plt.figure(figsize=(10, 6))\n",
    "_, _, _ = plt.hist(result, bins=18, edgecolor='w', density=True)\n",
    "plt.yticks([]);"
   ]
  },
  {
   "cell_type": "code",
   "execution_count": 27,
   "metadata": {},
   "outputs": [
    {
     "data": {
      "text/plain": [
       "0.09751035970690071"
      ]
     },
     "execution_count": 27,
     "metadata": {},
     "output_type": "execute_result"
    }
   ],
   "source": [
    "np.mean(result)"
   ]
  },
  {
   "cell_type": "markdown",
   "metadata": {},
   "source": [
    "The figure is almost the same!"
   ]
  },
  {
   "cell_type": "markdown",
   "metadata": {},
   "source": [
    "### **Hierarchichal model**"
   ]
  },
  {
   "cell_type": "markdown",
   "metadata": {},
   "source": [
    "The authors are using other parameters, so we need to find the number of people for $\\alpha_{1j}$ and $\\alpha_{2j}$."
   ]
  },
  {
   "cell_type": "code",
   "execution_count": 28,
   "metadata": {},
   "outputs": [
    {
     "data": {
      "text/plain": [
       "array([[ 14.,  29.,   4.],\n",
       "       [ 23.,  22.,   1.],\n",
       "       [ 78.,  69.,  20.],\n",
       "       [ 32.,  36.,   1.],\n",
       "       [ 19.,  23.,   5.],\n",
       "       [ 42.,  42.,  10.],\n",
       "       [ 59.,  45.,  12.],\n",
       "       [ 80.,  49.,  16.],\n",
       "       [ 12.,   6.,   3.],\n",
       "       [ 45.,  39.,  12.],\n",
       "       [ 51.,  40.,   8.],\n",
       "       [101.,  64.,  17.],\n",
       "       [ 17.,  16.,   1.],\n",
       "       [ 41.,  27.,   9.],\n",
       "       [ 67.,  46.,  11.],\n",
       "       [ 46.,  30.,   7.]])"
      ]
     },
     "execution_count": 28,
     "metadata": {},
     "output_type": "execute_result"
    }
   ],
   "source": [
    "values"
   ]
  },
  {
   "cell_type": "code",
   "execution_count": 29,
   "metadata": {},
   "outputs": [
    {
     "name": "stdout",
     "output_type": "stream",
     "text": [
      "[ 42.  45. 146.  68.  41.  84. 104. 129.  19.  84.  90. 165.  32.  68.\n",
      " 113.  76.]\n"
     ]
    }
   ],
   "source": [
    "alpha_2j = np.round((1 - data['other'].to_numpy()) * proportion) #Not a probability as you may see\n",
    "print(alpha_2j)"
   ]
  },
  {
   "cell_type": "code",
   "execution_count": 30,
   "metadata": {},
   "outputs": [
    {
     "name": "stdout",
     "output_type": "stream",
     "text": [
      "[ 15.07572093  23.66648889  88.29653061  32.68517647  20.94704762\n",
      "  47.0275      65.67153846  89.73643411  14.47        51.16178571\n",
      "  55.14501099 111.60316364  17.14475758  46.24016176  73.78419469\n",
      "  49.9215    ]\n"
     ]
    }
   ],
   "source": [
    "alpha_1j = values[:, 0] / (values[:, 0] + values[:, 1]) * proportion #Not a probability as you may see\n",
    "print(alpha_1j)"
   ]
  },
  {
   "cell_type": "code",
   "execution_count": 31,
   "metadata": {},
   "outputs": [
    {
     "name": "stdout",
     "output_type": "stream",
     "text": [
      "[[ 15.  42.]\n",
      " [ 24.  45.]\n",
      " [ 88. 146.]\n",
      " [ 33.  68.]\n",
      " [ 21.  41.]\n",
      " [ 47.  84.]\n",
      " [ 66. 104.]\n",
      " [ 90. 129.]\n",
      " [ 14.  19.]\n",
      " [ 51.  84.]\n",
      " [ 55.  90.]\n",
      " [112. 165.]\n",
      " [ 17.  32.]\n",
      " [ 46.  68.]\n",
      " [ 74. 113.]\n",
      " [ 50.  76.]]\n"
     ]
    }
   ],
   "source": [
    "new_values = np.round(np.stack([alpha_1j, alpha_2j], axis=1))\n",
    "print(new_values)"
   ]
  },
  {
   "cell_type": "code",
   "execution_count": 32,
   "metadata": {},
   "outputs": [
    {
     "data": {
      "text/plain": [
       "array([ 4.,  1., 19.,  1.,  4.,  9., 11., 15.,  2., 11.,  7., 16.,  0.,\n",
       "        8., 10.,  6.])"
      ]
     },
     "execution_count": 32,
     "metadata": {},
     "output_type": "execute_result"
    }
   ],
   "source": [
    "np.round((data.other.to_numpy() * proportion * (values[:, 0] + values[:, 1]) - values[:, 0]) / (values[:, 0] + values[:, 1]))"
   ]
  },
  {
   "cell_type": "code",
   "execution_count": 33,
   "metadata": {},
   "outputs": [
    {
     "data": {
      "text/plain": [
       "array([ 57.,  69., 234., 101.,  62., 131., 170., 219.,  33., 135., 145.,\n",
       "       277.,  49., 114., 187., 126.])"
      ]
     },
     "execution_count": 33,
     "metadata": {},
     "output_type": "execute_result"
    }
   ],
   "source": [
    "np.sum(new_values, axis=1)"
   ]
  },
  {
   "cell_type": "code",
   "execution_count": 554,
   "metadata": {},
   "outputs": [],
   "source": [
    "with pm.Model() as model_hier:\n",
    "    \n",
    "    packed_L = pm.LKJCholeskyCov('packed_L', n=2, eta=2., sd_dist=pm.Exponential.dist(5))\n",
    "    L = pm.expand_packed_triangular(2, packed_L)\n",
    "    Sigma = pm.Deterministic('Sigma', L.dot(L.T))\n",
    "\n",
    "    mu = pm.Normal('mu', mu=0, sigma=0.01, shape=2)\n",
    "#     mu = pm.Normal('mu', 0., 10., shape=2, testval=new_values.mean(axis=0))\n",
    "    beta = pm.MvNormal('beta', mu=mu, chol=L, shape=(16, 2)) # testval=new_values.mean(axis=0)\n",
    "    \n",
    "    alpha = pm.invlogit(beta)\n",
    "    \n",
    "#     alphas = pm.Dirichlet('alphas', a=alpha, shape=(16, 2))\n",
    "\n",
    "    post = pm.Multinomial('post', n=np.sum(new_values, axis=1), p=alpha, observed=new_values)"
   ]
  },
  {
   "cell_type": "code",
   "execution_count": 555,
   "metadata": {
    "collapsed": true,
    "jupyter": {
     "outputs_hidden": true,
     "source_hidden": true
    }
   },
   "outputs": [
    {
     "data": {
      "text/plain": [
       "packed_L_cholesky-cov-packed__     -6.49\n",
       "mu                                  7.37\n",
       "beta                              -29.41\n",
       "post                             -105.64\n",
       "Name: Log-probability of test_point, dtype: float64"
      ]
     },
     "execution_count": 555,
     "metadata": {},
     "output_type": "execute_result"
    }
   ],
   "source": [
    "model_hier.check_test_point()"
   ]
  },
  {
   "cell_type": "code",
   "execution_count": 556,
   "metadata": {
    "collapsed": true,
    "jupyter": {
     "outputs_hidden": true,
     "source_hidden": true
    }
   },
   "outputs": [
    {
     "data": {
      "image/svg+xml": [
       "<?xml version=\"1.0\" encoding=\"UTF-8\" standalone=\"no\"?>\n",
       "<!DOCTYPE svg PUBLIC \"-//W3C//DTD SVG 1.1//EN\"\n",
       " \"http://www.w3.org/Graphics/SVG/1.1/DTD/svg11.dtd\">\n",
       "<!-- Generated by graphviz version 2.40.1 (20161225.0304)\n",
       " -->\n",
       "<!-- Title: %3 Pages: 1 -->\n",
       "<svg width=\"420pt\" height=\"257pt\"\n",
       " viewBox=\"0.00 0.00 420.00 257.00\" xmlns=\"http://www.w3.org/2000/svg\" xmlns:xlink=\"http://www.w3.org/1999/xlink\">\n",
       "<g id=\"graph0\" class=\"graph\" transform=\"scale(1 1) rotate(0) translate(4 253)\">\n",
       "<title>%3</title>\n",
       "<polygon fill=\"#ffffff\" stroke=\"transparent\" points=\"-4,4 -4,-253 416,-253 416,4 -4,4\"/>\n",
       "<g id=\"clust1\" class=\"cluster\">\n",
       "<title>cluster3</title>\n",
       "<path fill=\"none\" stroke=\"#000000\" d=\"M20,-166C20,-166 248,-166 248,-166 254,-166 260,-172 260,-178 260,-178 260,-229 260,-229 260,-235 254,-241 248,-241 248,-241 20,-241 20,-241 14,-241 8,-235 8,-229 8,-229 8,-178 8,-178 8,-172 14,-166 20,-166\"/>\n",
       "<text text-anchor=\"middle\" x=\"248.5\" y=\"-173.8\" font-family=\"Times,serif\" font-size=\"14.00\" fill=\"#000000\">3</text>\n",
       "</g>\n",
       "<g id=\"clust2\" class=\"cluster\">\n",
       "<title>cluster2 x 2</title>\n",
       "<path fill=\"none\" stroke=\"#000000\" d=\"M67,-83C67,-83 201,-83 201,-83 207,-83 213,-89 213,-95 213,-95 213,-146 213,-146 213,-152 207,-158 201,-158 201,-158 67,-158 67,-158 61,-158 55,-152 55,-146 55,-146 55,-95 55,-95 55,-89 61,-83 67,-83\"/>\n",
       "<text text-anchor=\"middle\" x=\"191\" y=\"-90.8\" font-family=\"Times,serif\" font-size=\"14.00\" fill=\"#000000\">2 x 2</text>\n",
       "</g>\n",
       "<g id=\"clust3\" class=\"cluster\">\n",
       "<title>cluster2</title>\n",
       "<path fill=\"none\" stroke=\"#000000\" d=\"M280,-166C280,-166 392,-166 392,-166 398,-166 404,-172 404,-178 404,-178 404,-229 404,-229 404,-235 398,-241 392,-241 392,-241 280,-241 280,-241 274,-241 268,-235 268,-229 268,-229 268,-178 268,-178 268,-172 274,-166 280,-166\"/>\n",
       "<text text-anchor=\"middle\" x=\"392.5\" y=\"-173.8\" font-family=\"Times,serif\" font-size=\"14.00\" fill=\"#000000\">2</text>\n",
       "</g>\n",
       "<g id=\"clust4\" class=\"cluster\">\n",
       "<title>cluster16 x 2</title>\n",
       "<path fill=\"none\" stroke=\"#000000\" d=\"M236,-8C236,-8 388,-8 388,-8 394,-8 400,-14 400,-20 400,-20 400,-146 400,-146 400,-152 394,-158 388,-158 388,-158 236,-158 236,-158 230,-158 224,-152 224,-146 224,-146 224,-20 224,-20 224,-14 230,-8 236,-8\"/>\n",
       "<text text-anchor=\"middle\" x=\"374.5\" y=\"-15.8\" font-family=\"Times,serif\" font-size=\"14.00\" fill=\"#000000\">16 x 2</text>\n",
       "</g>\n",
       "<!-- packed_L -->\n",
       "<g id=\"node1\" class=\"node\">\n",
       "<title>packed_L</title>\n",
       "<ellipse fill=\"none\" stroke=\"#000000\" cx=\"134\" cy=\"-215\" rx=\"118.0794\" ry=\"18\"/>\n",
       "<text text-anchor=\"middle\" x=\"134\" y=\"-211.3\" font-family=\"Times,serif\" font-size=\"14.00\" fill=\"#000000\">packed_L ~ LKJCholeskyCov</text>\n",
       "</g>\n",
       "<!-- Sigma -->\n",
       "<g id=\"node2\" class=\"node\">\n",
       "<title>Sigma</title>\n",
       "<polygon fill=\"none\" stroke=\"#000000\" points=\"204.5,-150 63.5,-150 63.5,-114 204.5,-114 204.5,-150\"/>\n",
       "<text text-anchor=\"middle\" x=\"134\" y=\"-128.3\" font-family=\"Times,serif\" font-size=\"14.00\" fill=\"#000000\">Sigma ~ Deterministic</text>\n",
       "</g>\n",
       "<!-- packed_L&#45;&gt;Sigma -->\n",
       "<g id=\"edge1\" class=\"edge\">\n",
       "<title>packed_L&#45;&gt;Sigma</title>\n",
       "<path fill=\"none\" stroke=\"#000000\" d=\"M134,-196.9902C134,-186.2963 134,-172.4994 134,-160.3706\"/>\n",
       "<polygon fill=\"#000000\" stroke=\"#000000\" points=\"137.5001,-160.2612 134,-150.2612 130.5001,-160.2613 137.5001,-160.2612\"/>\n",
       "</g>\n",
       "<!-- beta -->\n",
       "<g id=\"node4\" class=\"node\">\n",
       "<title>beta</title>\n",
       "<ellipse fill=\"none\" stroke=\"#000000\" cx=\"312\" cy=\"-132\" rx=\"75.2868\" ry=\"18\"/>\n",
       "<text text-anchor=\"middle\" x=\"312\" y=\"-128.3\" font-family=\"Times,serif\" font-size=\"14.00\" fill=\"#000000\">beta ~ MvNormal</text>\n",
       "</g>\n",
       "<!-- packed_L&#45;&gt;beta -->\n",
       "<g id=\"edge2\" class=\"edge\">\n",
       "<title>packed_L&#45;&gt;beta</title>\n",
       "<path fill=\"none\" stroke=\"#000000\" d=\"M170.8817,-197.8023C199.1827,-184.6058 238.3396,-166.3473 268.2281,-152.4105\"/>\n",
       "<polygon fill=\"#000000\" stroke=\"#000000\" points=\"269.9969,-155.4476 277.5809,-148.0493 267.0386,-149.1034 269.9969,-155.4476\"/>\n",
       "</g>\n",
       "<!-- mu -->\n",
       "<g id=\"node3\" class=\"node\">\n",
       "<title>mu</title>\n",
       "<ellipse fill=\"none\" stroke=\"#000000\" cx=\"336\" cy=\"-215\" rx=\"59.5901\" ry=\"18\"/>\n",
       "<text text-anchor=\"middle\" x=\"336\" y=\"-211.3\" font-family=\"Times,serif\" font-size=\"14.00\" fill=\"#000000\">mu ~ Normal</text>\n",
       "</g>\n",
       "<!-- mu&#45;&gt;beta -->\n",
       "<g id=\"edge3\" class=\"edge\">\n",
       "<title>mu&#45;&gt;beta</title>\n",
       "<path fill=\"none\" stroke=\"#000000\" d=\"M330.7924,-196.9902C327.6474,-186.1138 323.5742,-172.0276 320.0244,-159.7511\"/>\n",
       "<polygon fill=\"#000000\" stroke=\"#000000\" points=\"323.3376,-158.6088 317.1975,-149.9746 316.6131,-160.5533 323.3376,-158.6088\"/>\n",
       "</g>\n",
       "<!-- post -->\n",
       "<g id=\"node5\" class=\"node\">\n",
       "<title>post</title>\n",
       "<ellipse fill=\"#d3d3d3\" stroke=\"#000000\" cx=\"312\" cy=\"-57\" rx=\"79.8859\" ry=\"18\"/>\n",
       "<text text-anchor=\"middle\" x=\"312\" y=\"-53.3\" font-family=\"Times,serif\" font-size=\"14.00\" fill=\"#000000\">post ~ Multinomial</text>\n",
       "</g>\n",
       "<!-- beta&#45;&gt;post -->\n",
       "<g id=\"edge4\" class=\"edge\">\n",
       "<title>beta&#45;&gt;post</title>\n",
       "<path fill=\"none\" stroke=\"#000000\" d=\"M312,-113.8446C312,-105.3401 312,-95.0076 312,-85.4964\"/>\n",
       "<polygon fill=\"#000000\" stroke=\"#000000\" points=\"315.5001,-85.2481 312,-75.2482 308.5001,-85.2482 315.5001,-85.2481\"/>\n",
       "</g>\n",
       "</g>\n",
       "</svg>\n"
      ],
      "text/plain": [
       "<graphviz.dot.Digraph at 0x7f44a670c910>"
      ]
     },
     "execution_count": 556,
     "metadata": {},
     "output_type": "execute_result"
    }
   ],
   "source": [
    "pm.model_to_graphviz(model_hier)"
   ]
  },
  {
   "cell_type": "code",
   "execution_count": 557,
   "metadata": {},
   "outputs": [],
   "source": [
    "with model_hier:\n",
    "    prior_sample = pm.sample_prior_predictive(samples=1000)"
   ]
  },
  {
   "cell_type": "code",
   "execution_count": 558,
   "metadata": {},
   "outputs": [
    {
     "data": {
      "image/png": "[encoded data removed]",
      "text/plain": [
       "<Figure size 576x432 with 1 Axes>"
      ]
     },
     "metadata": {},
     "output_type": "display_data"
    }
   ],
   "source": [
    "plt.figure(figsize=(8, 6))\n",
    "plt.plot(\n",
    "    prior_sample['beta'][:, 0], \n",
    "    prior_sample['beta'][:, 1], 'o', alpha=0.3);"
   ]
  },
  {
   "cell_type": "code",
   "execution_count": 559,
   "metadata": {},
   "outputs": [
    {
     "data": {
      "image/png": "[encoded data removed]",
      "text/plain": [
       "<Figure size 576x432 with 1 Axes>"
      ]
     },
     "metadata": {},
     "output_type": "display_data"
    }
   ],
   "source": [
    "plt.figure(figsize=(8, 6))\n",
    "plt.plot(\n",
    "    logit(prior_sample['beta'][:, 0]),\n",
    "    logit(prior_sample['beta'][:, 1]), 'o');"
   ]
  },
  {
   "cell_type": "code",
   "execution_count": 502,
   "metadata": {},
   "outputs": [
    {
     "ename": "KeyError",
     "evalue": "'alphas'",
     "output_type": "error",
     "traceback": [
      "\u001b[0;31m---------------------------------------------------------------------------\u001b[0m",
      "\u001b[0;31mKeyError\u001b[0m                                  Traceback (most recent call last)",
      "\u001b[0;32m<ipython-input-502-fa3a3259fe4a>\u001b[0m in \u001b[0;36m<module>\u001b[0;34m\u001b[0m\n\u001b[1;32m      1\u001b[0m \u001b[0mi\u001b[0m \u001b[0;34m=\u001b[0m \u001b[0;36m0\u001b[0m\u001b[0;34m\u001b[0m\u001b[0;34m\u001b[0m\u001b[0m\n\u001b[0;32m----> 2\u001b[0;31m \u001b[0mplt\u001b[0m\u001b[0;34m.\u001b[0m\u001b[0mplot\u001b[0m\u001b[0;34m(\u001b[0m\u001b[0mprior_sample\u001b[0m\u001b[0;34m[\u001b[0m\u001b[0;34m'alphas'\u001b[0m\u001b[0;34m]\u001b[0m\u001b[0;34m[\u001b[0m\u001b[0;34m:\u001b[0m\u001b[0;34m,\u001b[0m \u001b[0;36m0\u001b[0m\u001b[0;34m,\u001b[0m \u001b[0;36m0\u001b[0m\u001b[0;34m]\u001b[0m\u001b[0;34m,\u001b[0m \u001b[0mprior_sample\u001b[0m\u001b[0;34m[\u001b[0m\u001b[0;34m'alphas'\u001b[0m\u001b[0;34m]\u001b[0m\u001b[0;34m[\u001b[0m\u001b[0;34m:\u001b[0m\u001b[0;34m,\u001b[0m \u001b[0;36m0\u001b[0m\u001b[0;34m,\u001b[0m \u001b[0;36m1\u001b[0m\u001b[0;34m]\u001b[0m\u001b[0;34m,\u001b[0m \u001b[0;34m'o'\u001b[0m\u001b[0;34m)\u001b[0m\u001b[0;34m\u001b[0m\u001b[0;34m\u001b[0m\u001b[0m\n\u001b[0m",
      "\u001b[0;31mKeyError\u001b[0m: 'alphas'"
     ]
    }
   ],
   "source": [
    "i = 0\n",
    "plt.plot(prior_sample['alphas'][:, 0, 0], prior_sample['alphas'][:, 0, 1], 'o')"
   ]
  },
  {
   "cell_type": "code",
   "execution_count": null,
   "metadata": {},
   "outputs": [],
   "source": []
  },
  {
   "cell_type": "code",
   "execution_count": null,
   "metadata": {},
   "outputs": [],
   "source": []
  },
  {
   "cell_type": "code",
   "execution_count": 503,
   "metadata": {},
   "outputs": [
    {
     "name": "stderr",
     "output_type": "stream",
     "text": [
      "Auto-assigning NUTS sampler...\n",
      "Initializing NUTS using jitter+adapt_diag...\n",
      "Multiprocess sampling (4 chains in 4 jobs)\n",
      "NUTS: [beta, mu, packed_L]\n",
      "Sampling 4 chains, 114 divergences: 100%|██████████| 24000/24000 [03:46<00:00, 105.93draws/s]\n",
      "There were 30 divergences after tuning. Increase `target_accept` or reparameterize.\n",
      "There were 48 divergences after tuning. Increase `target_accept` or reparameterize.\n",
      "There were 13 divergences after tuning. Increase `target_accept` or reparameterize.\n",
      "There were 23 divergences after tuning. Increase `target_accept` or reparameterize.\n",
      "The rhat statistic is larger than 1.05 for some parameters. This indicates slight problems during sampling.\n",
      "The estimated number of effective samples is smaller than 200 for some parameters.\n"
     ]
    }
   ],
   "source": [
    "with model_hier:\n",
    "    trace_2 = pm.sample(draws=1_000, tune=5_000)"
   ]
  },
  {
   "cell_type": "code",
   "execution_count": 504,
   "metadata": {},
   "outputs": [
    {
     "data": {
      "text/html": [
       "<div>\n",
       "<style scoped>\n",
       "    .dataframe tbody tr th:only-of-type {\n",
       "        vertical-align: middle;\n",
       "    }\n",
       "\n",
       "    .dataframe tbody tr th {\n",
       "        vertical-align: top;\n",
       "    }\n",
       "\n",
       "    .dataframe thead th {\n",
       "        text-align: right;\n",
       "    }\n",
       "</style>\n",
       "<table border=\"1\" class=\"dataframe\">\n",
       "  <thead>\n",
       "    <tr style=\"text-align: right;\">\n",
       "      <th></th>\n",
       "      <th>mean</th>\n",
       "      <th>sd</th>\n",
       "      <th>hpd_3%</th>\n",
       "      <th>hpd_97%</th>\n",
       "      <th>mcse_mean</th>\n",
       "      <th>mcse_sd</th>\n",
       "      <th>ess_mean</th>\n",
       "      <th>ess_sd</th>\n",
       "      <th>ess_bulk</th>\n",
       "      <th>ess_tail</th>\n",
       "      <th>r_hat</th>\n",
       "    </tr>\n",
       "  </thead>\n",
       "  <tbody>\n",
       "    <tr>\n",
       "      <th>beta[0,0]</th>\n",
       "      <td>-0.515</td>\n",
       "      <td>0.264</td>\n",
       "      <td>-1.078</td>\n",
       "      <td>-0.098</td>\n",
       "      <td>0.011</td>\n",
       "      <td>0.008</td>\n",
       "      <td>592.0</td>\n",
       "      <td>592.0</td>\n",
       "      <td>595.0</td>\n",
       "      <td>1330.0</td>\n",
       "      <td>1.01</td>\n",
       "    </tr>\n",
       "    <tr>\n",
       "      <th>beta[0,1]</th>\n",
       "      <td>0.390</td>\n",
       "      <td>0.312</td>\n",
       "      <td>-0.109</td>\n",
       "      <td>0.930</td>\n",
       "      <td>0.017</td>\n",
       "      <td>0.012</td>\n",
       "      <td>345.0</td>\n",
       "      <td>345.0</td>\n",
       "      <td>385.0</td>\n",
       "      <td>487.0</td>\n",
       "      <td>1.02</td>\n",
       "    </tr>\n",
       "    <tr>\n",
       "      <th>beta[1,0]</th>\n",
       "      <td>-0.433</td>\n",
       "      <td>0.214</td>\n",
       "      <td>-0.871</td>\n",
       "      <td>-0.019</td>\n",
       "      <td>0.007</td>\n",
       "      <td>0.005</td>\n",
       "      <td>1011.0</td>\n",
       "      <td>940.0</td>\n",
       "      <td>915.0</td>\n",
       "      <td>1237.0</td>\n",
       "      <td>1.01</td>\n",
       "    </tr>\n",
       "    <tr>\n",
       "      <th>beta[1,1]</th>\n",
       "      <td>0.339</td>\n",
       "      <td>0.258</td>\n",
       "      <td>-0.104</td>\n",
       "      <td>0.855</td>\n",
       "      <td>0.012</td>\n",
       "      <td>0.009</td>\n",
       "      <td>437.0</td>\n",
       "      <td>437.0</td>\n",
       "      <td>461.0</td>\n",
       "      <td>604.0</td>\n",
       "      <td>1.02</td>\n",
       "    </tr>\n",
       "    <tr>\n",
       "      <th>beta[2,0]</th>\n",
       "      <td>-0.446</td>\n",
       "      <td>0.183</td>\n",
       "      <td>-0.848</td>\n",
       "      <td>-0.143</td>\n",
       "      <td>0.009</td>\n",
       "      <td>0.006</td>\n",
       "      <td>427.0</td>\n",
       "      <td>427.0</td>\n",
       "      <td>444.0</td>\n",
       "      <td>486.0</td>\n",
       "      <td>1.02</td>\n",
       "    </tr>\n",
       "    <tr>\n",
       "      <th>beta[2,1]</th>\n",
       "      <td>0.355</td>\n",
       "      <td>0.255</td>\n",
       "      <td>-0.067</td>\n",
       "      <td>0.831</td>\n",
       "      <td>0.013</td>\n",
       "      <td>0.009</td>\n",
       "      <td>396.0</td>\n",
       "      <td>396.0</td>\n",
       "      <td>423.0</td>\n",
       "      <td>603.0</td>\n",
       "      <td>1.01</td>\n",
       "    </tr>\n",
       "    <tr>\n",
       "      <th>beta[3,0]</th>\n",
       "      <td>-0.488</td>\n",
       "      <td>0.221</td>\n",
       "      <td>-0.955</td>\n",
       "      <td>-0.116</td>\n",
       "      <td>0.009</td>\n",
       "      <td>0.006</td>\n",
       "      <td>585.0</td>\n",
       "      <td>585.0</td>\n",
       "      <td>531.0</td>\n",
       "      <td>1175.0</td>\n",
       "      <td>1.01</td>\n",
       "    </tr>\n",
       "    <tr>\n",
       "      <th>beta[3,1]</th>\n",
       "      <td>0.382</td>\n",
       "      <td>0.311</td>\n",
       "      <td>-0.074</td>\n",
       "      <td>0.969</td>\n",
       "      <td>0.016</td>\n",
       "      <td>0.011</td>\n",
       "      <td>372.0</td>\n",
       "      <td>372.0</td>\n",
       "      <td>403.0</td>\n",
       "      <td>536.0</td>\n",
       "      <td>1.02</td>\n",
       "    </tr>\n",
       "    <tr>\n",
       "      <th>beta[4,0]</th>\n",
       "      <td>-0.440</td>\n",
       "      <td>0.220</td>\n",
       "      <td>-0.903</td>\n",
       "      <td>-0.061</td>\n",
       "      <td>0.008</td>\n",
       "      <td>0.007</td>\n",
       "      <td>674.0</td>\n",
       "      <td>539.0</td>\n",
       "      <td>730.0</td>\n",
       "      <td>561.0</td>\n",
       "      <td>1.01</td>\n",
       "    </tr>\n",
       "    <tr>\n",
       "      <th>beta[4,1]</th>\n",
       "      <td>0.340</td>\n",
       "      <td>0.272</td>\n",
       "      <td>-0.065</td>\n",
       "      <td>0.863</td>\n",
       "      <td>0.011</td>\n",
       "      <td>0.008</td>\n",
       "      <td>603.0</td>\n",
       "      <td>603.0</td>\n",
       "      <td>661.0</td>\n",
       "      <td>813.0</td>\n",
       "      <td>1.02</td>\n",
       "    </tr>\n",
       "    <tr>\n",
       "      <th>beta[5,0]</th>\n",
       "      <td>-0.451</td>\n",
       "      <td>0.199</td>\n",
       "      <td>-0.877</td>\n",
       "      <td>-0.111</td>\n",
       "      <td>0.007</td>\n",
       "      <td>0.005</td>\n",
       "      <td>723.0</td>\n",
       "      <td>699.0</td>\n",
       "      <td>705.0</td>\n",
       "      <td>1303.0</td>\n",
       "      <td>1.01</td>\n",
       "    </tr>\n",
       "    <tr>\n",
       "      <th>beta[5,1]</th>\n",
       "      <td>0.359</td>\n",
       "      <td>0.278</td>\n",
       "      <td>-0.035</td>\n",
       "      <td>0.926</td>\n",
       "      <td>0.014</td>\n",
       "      <td>0.010</td>\n",
       "      <td>422.0</td>\n",
       "      <td>422.0</td>\n",
       "      <td>533.0</td>\n",
       "      <td>537.0</td>\n",
       "      <td>1.02</td>\n",
       "    </tr>\n",
       "    <tr>\n",
       "      <th>beta[6,0]</th>\n",
       "      <td>-0.406</td>\n",
       "      <td>0.186</td>\n",
       "      <td>-0.783</td>\n",
       "      <td>-0.072</td>\n",
       "      <td>0.005</td>\n",
       "      <td>0.004</td>\n",
       "      <td>1147.0</td>\n",
       "      <td>1147.0</td>\n",
       "      <td>984.0</td>\n",
       "      <td>1344.0</td>\n",
       "      <td>1.01</td>\n",
       "    </tr>\n",
       "    <tr>\n",
       "      <th>beta[6,1]</th>\n",
       "      <td>0.329</td>\n",
       "      <td>0.247</td>\n",
       "      <td>-0.067</td>\n",
       "      <td>0.844</td>\n",
       "      <td>0.011</td>\n",
       "      <td>0.008</td>\n",
       "      <td>477.0</td>\n",
       "      <td>477.0</td>\n",
       "      <td>564.0</td>\n",
       "      <td>536.0</td>\n",
       "      <td>1.01</td>\n",
       "    </tr>\n",
       "    <tr>\n",
       "      <th>beta[7,0]</th>\n",
       "      <td>-0.367</td>\n",
       "      <td>0.175</td>\n",
       "      <td>-0.690</td>\n",
       "      <td>-0.022</td>\n",
       "      <td>0.006</td>\n",
       "      <td>0.004</td>\n",
       "      <td>992.0</td>\n",
       "      <td>992.0</td>\n",
       "      <td>937.0</td>\n",
       "      <td>1052.0</td>\n",
       "      <td>1.01</td>\n",
       "    </tr>\n",
       "    <tr>\n",
       "      <th>beta[7,1]</th>\n",
       "      <td>0.294</td>\n",
       "      <td>0.207</td>\n",
       "      <td>-0.106</td>\n",
       "      <td>0.661</td>\n",
       "      <td>0.007</td>\n",
       "      <td>0.006</td>\n",
       "      <td>1001.0</td>\n",
       "      <td>635.0</td>\n",
       "      <td>961.0</td>\n",
       "      <td>913.0</td>\n",
       "      <td>1.01</td>\n",
       "    </tr>\n",
       "    <tr>\n",
       "      <th>beta[8,0]</th>\n",
       "      <td>-0.338</td>\n",
       "      <td>0.224</td>\n",
       "      <td>-0.771</td>\n",
       "      <td>0.106</td>\n",
       "      <td>0.007</td>\n",
       "      <td>0.005</td>\n",
       "      <td>1028.0</td>\n",
       "      <td>1028.0</td>\n",
       "      <td>923.0</td>\n",
       "      <td>691.0</td>\n",
       "      <td>1.01</td>\n",
       "    </tr>\n",
       "    <tr>\n",
       "      <th>beta[8,1]</th>\n",
       "      <td>0.266</td>\n",
       "      <td>0.239</td>\n",
       "      <td>-0.192</td>\n",
       "      <td>0.728</td>\n",
       "      <td>0.006</td>\n",
       "      <td>0.006</td>\n",
       "      <td>1544.0</td>\n",
       "      <td>723.0</td>\n",
       "      <td>1249.0</td>\n",
       "      <td>971.0</td>\n",
       "      <td>1.01</td>\n",
       "    </tr>\n",
       "    <tr>\n",
       "      <th>beta[9,0]</th>\n",
       "      <td>-0.416</td>\n",
       "      <td>0.183</td>\n",
       "      <td>-0.771</td>\n",
       "      <td>-0.081</td>\n",
       "      <td>0.006</td>\n",
       "      <td>0.004</td>\n",
       "      <td>1066.0</td>\n",
       "      <td>1066.0</td>\n",
       "      <td>974.0</td>\n",
       "      <td>1495.0</td>\n",
       "      <td>1.01</td>\n",
       "    </tr>\n",
       "    <tr>\n",
       "      <th>beta[9,1]</th>\n",
       "      <td>0.330</td>\n",
       "      <td>0.236</td>\n",
       "      <td>-0.059</td>\n",
       "      <td>0.765</td>\n",
       "      <td>0.010</td>\n",
       "      <td>0.008</td>\n",
       "      <td>507.0</td>\n",
       "      <td>476.0</td>\n",
       "      <td>678.0</td>\n",
       "      <td>586.0</td>\n",
       "      <td>1.01</td>\n",
       "    </tr>\n",
       "    <tr>\n",
       "      <th>beta[10,0]</th>\n",
       "      <td>-0.420</td>\n",
       "      <td>0.189</td>\n",
       "      <td>-0.826</td>\n",
       "      <td>-0.083</td>\n",
       "      <td>0.008</td>\n",
       "      <td>0.007</td>\n",
       "      <td>495.0</td>\n",
       "      <td>410.0</td>\n",
       "      <td>542.0</td>\n",
       "      <td>271.0</td>\n",
       "      <td>1.01</td>\n",
       "    </tr>\n",
       "    <tr>\n",
       "      <th>beta[10,1]</th>\n",
       "      <td>0.338</td>\n",
       "      <td>0.263</td>\n",
       "      <td>-0.058</td>\n",
       "      <td>0.805</td>\n",
       "      <td>0.012</td>\n",
       "      <td>0.009</td>\n",
       "      <td>470.0</td>\n",
       "      <td>470.0</td>\n",
       "      <td>491.0</td>\n",
       "      <td>668.0</td>\n",
       "      <td>1.01</td>\n",
       "    </tr>\n",
       "    <tr>\n",
       "      <th>beta[11,0]</th>\n",
       "      <td>-0.384</td>\n",
       "      <td>0.162</td>\n",
       "      <td>-0.676</td>\n",
       "      <td>-0.057</td>\n",
       "      <td>0.005</td>\n",
       "      <td>0.003</td>\n",
       "      <td>1141.0</td>\n",
       "      <td>1141.0</td>\n",
       "      <td>1002.0</td>\n",
       "      <td>1080.0</td>\n",
       "      <td>1.01</td>\n",
       "    </tr>\n",
       "    <tr>\n",
       "      <th>beta[11,1]</th>\n",
       "      <td>0.310</td>\n",
       "      <td>0.217</td>\n",
       "      <td>-0.044</td>\n",
       "      <td>0.752</td>\n",
       "      <td>0.009</td>\n",
       "      <td>0.006</td>\n",
       "      <td>634.0</td>\n",
       "      <td>561.0</td>\n",
       "      <td>730.0</td>\n",
       "      <td>677.0</td>\n",
       "      <td>1.01</td>\n",
       "    </tr>\n",
       "    <tr>\n",
       "      <th>beta[12,0]</th>\n",
       "      <td>-0.411</td>\n",
       "      <td>0.212</td>\n",
       "      <td>-0.851</td>\n",
       "      <td>-0.025</td>\n",
       "      <td>0.006</td>\n",
       "      <td>0.005</td>\n",
       "      <td>1239.0</td>\n",
       "      <td>1096.0</td>\n",
       "      <td>1100.0</td>\n",
       "      <td>1703.0</td>\n",
       "      <td>1.01</td>\n",
       "    </tr>\n",
       "    <tr>\n",
       "      <th>beta[12,1]</th>\n",
       "      <td>0.330</td>\n",
       "      <td>0.262</td>\n",
       "      <td>-0.092</td>\n",
       "      <td>0.889</td>\n",
       "      <td>0.011</td>\n",
       "      <td>0.008</td>\n",
       "      <td>589.0</td>\n",
       "      <td>580.0</td>\n",
       "      <td>724.0</td>\n",
       "      <td>577.0</td>\n",
       "      <td>1.01</td>\n",
       "    </tr>\n",
       "    <tr>\n",
       "      <th>beta[13,0]</th>\n",
       "      <td>-0.375</td>\n",
       "      <td>0.183</td>\n",
       "      <td>-0.732</td>\n",
       "      <td>-0.030</td>\n",
       "      <td>0.005</td>\n",
       "      <td>0.004</td>\n",
       "      <td>1229.0</td>\n",
       "      <td>1229.0</td>\n",
       "      <td>1096.0</td>\n",
       "      <td>1529.0</td>\n",
       "      <td>1.01</td>\n",
       "    </tr>\n",
       "    <tr>\n",
       "      <th>beta[13,1]</th>\n",
       "      <td>0.301</td>\n",
       "      <td>0.226</td>\n",
       "      <td>-0.074</td>\n",
       "      <td>0.739</td>\n",
       "      <td>0.008</td>\n",
       "      <td>0.006</td>\n",
       "      <td>866.0</td>\n",
       "      <td>746.0</td>\n",
       "      <td>863.0</td>\n",
       "      <td>757.0</td>\n",
       "      <td>1.01</td>\n",
       "    </tr>\n",
       "    <tr>\n",
       "      <th>beta[14,0]</th>\n",
       "      <td>-0.398</td>\n",
       "      <td>0.175</td>\n",
       "      <td>-0.727</td>\n",
       "      <td>-0.065</td>\n",
       "      <td>0.006</td>\n",
       "      <td>0.004</td>\n",
       "      <td>937.0</td>\n",
       "      <td>925.0</td>\n",
       "      <td>851.0</td>\n",
       "      <td>1355.0</td>\n",
       "      <td>1.01</td>\n",
       "    </tr>\n",
       "    <tr>\n",
       "      <th>beta[14,1]</th>\n",
       "      <td>0.315</td>\n",
       "      <td>0.237</td>\n",
       "      <td>-0.089</td>\n",
       "      <td>0.746</td>\n",
       "      <td>0.009</td>\n",
       "      <td>0.007</td>\n",
       "      <td>727.0</td>\n",
       "      <td>664.0</td>\n",
       "      <td>732.0</td>\n",
       "      <td>811.0</td>\n",
       "      <td>1.01</td>\n",
       "    </tr>\n",
       "    <tr>\n",
       "      <th>beta[15,0]</th>\n",
       "      <td>-0.391</td>\n",
       "      <td>0.186</td>\n",
       "      <td>-0.794</td>\n",
       "      <td>-0.042</td>\n",
       "      <td>0.007</td>\n",
       "      <td>0.007</td>\n",
       "      <td>627.0</td>\n",
       "      <td>403.0</td>\n",
       "      <td>722.0</td>\n",
       "      <td>332.0</td>\n",
       "      <td>1.01</td>\n",
       "    </tr>\n",
       "    <tr>\n",
       "      <th>beta[15,1]</th>\n",
       "      <td>0.305</td>\n",
       "      <td>0.237</td>\n",
       "      <td>-0.082</td>\n",
       "      <td>0.764</td>\n",
       "      <td>0.008</td>\n",
       "      <td>0.006</td>\n",
       "      <td>861.0</td>\n",
       "      <td>861.0</td>\n",
       "      <td>848.0</td>\n",
       "      <td>673.0</td>\n",
       "      <td>1.01</td>\n",
       "    </tr>\n",
       "    <tr>\n",
       "      <th>mu[0]</th>\n",
       "      <td>-0.329</td>\n",
       "      <td>0.102</td>\n",
       "      <td>-0.507</td>\n",
       "      <td>-0.133</td>\n",
       "      <td>0.005</td>\n",
       "      <td>0.004</td>\n",
       "      <td>416.0</td>\n",
       "      <td>380.0</td>\n",
       "      <td>397.0</td>\n",
       "      <td>543.0</td>\n",
       "      <td>1.01</td>\n",
       "    </tr>\n",
       "    <tr>\n",
       "      <th>mu[1]</th>\n",
       "      <td>0.247</td>\n",
       "      <td>0.095</td>\n",
       "      <td>0.059</td>\n",
       "      <td>0.410</td>\n",
       "      <td>0.004</td>\n",
       "      <td>0.003</td>\n",
       "      <td>482.0</td>\n",
       "      <td>384.0</td>\n",
       "      <td>464.0</td>\n",
       "      <td>590.0</td>\n",
       "      <td>1.01</td>\n",
       "    </tr>\n",
       "  </tbody>\n",
       "</table>\n",
       "</div>"
      ],
      "text/plain": [
       "             mean     sd  hpd_3%  hpd_97%  mcse_mean  mcse_sd  ess_mean  \\\n",
       "beta[0,0]  -0.515  0.264  -1.078   -0.098      0.011    0.008     592.0   \n",
       "beta[0,1]   0.390  0.312  -0.109    0.930      0.017    0.012     345.0   \n",
       "beta[1,0]  -0.433  0.214  -0.871   -0.019      0.007    0.005    1011.0   \n",
       "beta[1,1]   0.339  0.258  -0.104    0.855      0.012    0.009     437.0   \n",
       "beta[2,0]  -0.446  0.183  -0.848   -0.143      0.009    0.006     427.0   \n",
       "beta[2,1]   0.355  0.255  -0.067    0.831      0.013    0.009     396.0   \n",
       "beta[3,0]  -0.488  0.221  -0.955   -0.116      0.009    0.006     585.0   \n",
       "beta[3,1]   0.382  0.311  -0.074    0.969      0.016    0.011     372.0   \n",
       "beta[4,0]  -0.440  0.220  -0.903   -0.061      0.008    0.007     674.0   \n",
       "beta[4,1]   0.340  0.272  -0.065    0.863      0.011    0.008     603.0   \n",
       "beta[5,0]  -0.451  0.199  -0.877   -0.111      0.007    0.005     723.0   \n",
       "beta[5,1]   0.359  0.278  -0.035    0.926      0.014    0.010     422.0   \n",
       "beta[6,0]  -0.406  0.186  -0.783   -0.072      0.005    0.004    1147.0   \n",
       "beta[6,1]   0.329  0.247  -0.067    0.844      0.011    0.008     477.0   \n",
       "beta[7,0]  -0.367  0.175  -0.690   -0.022      0.006    0.004     992.0   \n",
       "beta[7,1]   0.294  0.207  -0.106    0.661      0.007    0.006    1001.0   \n",
       "beta[8,0]  -0.338  0.224  -0.771    0.106      0.007    0.005    1028.0   \n",
       "beta[8,1]   0.266  0.239  -0.192    0.728      0.006    0.006    1544.0   \n",
       "beta[9,0]  -0.416  0.183  -0.771   -0.081      0.006    0.004    1066.0   \n",
       "beta[9,1]   0.330  0.236  -0.059    0.765      0.010    0.008     507.0   \n",
       "beta[10,0] -0.420  0.189  -0.826   -0.083      0.008    0.007     495.0   \n",
       "beta[10,1]  0.338  0.263  -0.058    0.805      0.012    0.009     470.0   \n",
       "beta[11,0] -0.384  0.162  -0.676   -0.057      0.005    0.003    1141.0   \n",
       "beta[11,1]  0.310  0.217  -0.044    0.752      0.009    0.006     634.0   \n",
       "beta[12,0] -0.411  0.212  -0.851   -0.025      0.006    0.005    1239.0   \n",
       "beta[12,1]  0.330  0.262  -0.092    0.889      0.011    0.008     589.0   \n",
       "beta[13,0] -0.375  0.183  -0.732   -0.030      0.005    0.004    1229.0   \n",
       "beta[13,1]  0.301  0.226  -0.074    0.739      0.008    0.006     866.0   \n",
       "beta[14,0] -0.398  0.175  -0.727   -0.065      0.006    0.004     937.0   \n",
       "beta[14,1]  0.315  0.237  -0.089    0.746      0.009    0.007     727.0   \n",
       "beta[15,0] -0.391  0.186  -0.794   -0.042      0.007    0.007     627.0   \n",
       "beta[15,1]  0.305  0.237  -0.082    0.764      0.008    0.006     861.0   \n",
       "mu[0]      -0.329  0.102  -0.507   -0.133      0.005    0.004     416.0   \n",
       "mu[1]       0.247  0.095   0.059    0.410      0.004    0.003     482.0   \n",
       "\n",
       "            ess_sd  ess_bulk  ess_tail  r_hat  \n",
       "beta[0,0]    592.0     595.0    1330.0   1.01  \n",
       "beta[0,1]    345.0     385.0     487.0   1.02  \n",
       "beta[1,0]    940.0     915.0    1237.0   1.01  \n",
       "beta[1,1]    437.0     461.0     604.0   1.02  \n",
       "beta[2,0]    427.0     444.0     486.0   1.02  \n",
       "beta[2,1]    396.0     423.0     603.0   1.01  \n",
       "beta[3,0]    585.0     531.0    1175.0   1.01  \n",
       "beta[3,1]    372.0     403.0     536.0   1.02  \n",
       "beta[4,0]    539.0     730.0     561.0   1.01  \n",
       "beta[4,1]    603.0     661.0     813.0   1.02  \n",
       "beta[5,0]    699.0     705.0    1303.0   1.01  \n",
       "beta[5,1]    422.0     533.0     537.0   1.02  \n",
       "beta[6,0]   1147.0     984.0    1344.0   1.01  \n",
       "beta[6,1]    477.0     564.0     536.0   1.01  \n",
       "beta[7,0]    992.0     937.0    1052.0   1.01  \n",
       "beta[7,1]    635.0     961.0     913.0   1.01  \n",
       "beta[8,0]   1028.0     923.0     691.0   1.01  \n",
       "beta[8,1]    723.0    1249.0     971.0   1.01  \n",
       "beta[9,0]   1066.0     974.0    1495.0   1.01  \n",
       "beta[9,1]    476.0     678.0     586.0   1.01  \n",
       "beta[10,0]   410.0     542.0     271.0   1.01  \n",
       "beta[10,1]   470.0     491.0     668.0   1.01  \n",
       "beta[11,0]  1141.0    1002.0    1080.0   1.01  \n",
       "beta[11,1]   561.0     730.0     677.0   1.01  \n",
       "beta[12,0]  1096.0    1100.0    1703.0   1.01  \n",
       "beta[12,1]   580.0     724.0     577.0   1.01  \n",
       "beta[13,0]  1229.0    1096.0    1529.0   1.01  \n",
       "beta[13,1]   746.0     863.0     757.0   1.01  \n",
       "beta[14,0]   925.0     851.0    1355.0   1.01  \n",
       "beta[14,1]   664.0     732.0     811.0   1.01  \n",
       "beta[15,0]   403.0     722.0     332.0   1.01  \n",
       "beta[15,1]   861.0     848.0     673.0   1.01  \n",
       "mu[0]        380.0     397.0     543.0   1.01  \n",
       "mu[1]        384.0     464.0     590.0   1.01  "
      ]
     },
     "execution_count": 504,
     "metadata": {},
     "output_type": "execute_result"
    }
   ],
   "source": [
    "arviz.summary(trace_2, var_names=['beta', 'mu'])"
   ]
  },
  {
   "cell_type": "code",
   "execution_count": 571,
   "metadata": {},
   "outputs": [],
   "source": [
    "prueba = arviz.from_pymc3(trace_2)"
   ]
  },
  {
   "cell_type": "code",
   "execution_count": 576,
   "metadata": {},
   "outputs": [
    {
     "data": {
      "text/plain": [
       "\u001b[0;31mDocstring:\u001b[0m\n",
       "Run a statement through the python code profiler.\n",
       "\n",
       "Usage, in line mode:\n",
       "  %prun [options] statement\n",
       "\n",
       "Usage, in cell mode:\n",
       "  %%prun [options] [statement]\n",
       "  code...\n",
       "  code...\n",
       "\n",
       "In cell mode, the additional code lines are appended to the (possibly\n",
       "empty) statement in the first line.  Cell mode allows you to easily\n",
       "profile multiline blocks without having to put them in a separate\n",
       "function.\n",
       "\n",
       "The given statement (which doesn't require quote marks) is run via the\n",
       "python profiler in a manner similar to the profile.run() function.\n",
       "Namespaces are internally managed to work correctly; profile.run\n",
       "cannot be used in IPython because it makes certain assumptions about\n",
       "namespaces which do not hold under IPython.\n",
       "\n",
       "Options:\n",
       "\n",
       "-l <limit>\n",
       "  you can place restrictions on what or how much of the\n",
       "  profile gets printed. The limit value can be:\n",
       "\n",
       "     * A string: only information for function names containing this string\n",
       "       is printed.\n",
       "\n",
       "     * An integer: only these many lines are printed.\n",
       "\n",
       "     * A float (between 0 and 1): this fraction of the report is printed\n",
       "       (for example, use a limit of 0.4 to see the topmost 40% only).\n",
       "\n",
       "  You can combine several limits with repeated use of the option. For\n",
       "  example, ``-l __init__ -l 5`` will print only the topmost 5 lines of\n",
       "  information about class constructors.\n",
       "\n",
       "-r\n",
       "  return the pstats.Stats object generated by the profiling. This\n",
       "  object has all the information about the profile in it, and you can\n",
       "  later use it for further analysis or in other functions.\n",
       "\n",
       "-s <key>\n",
       "  sort profile by given key. You can provide more than one key\n",
       "  by using the option several times: '-s key1 -s key2 -s key3...'. The\n",
       "  default sorting key is 'time'.\n",
       "\n",
       "  The following is copied verbatim from the profile documentation\n",
       "  referenced below:\n",
       "\n",
       "  When more than one key is provided, additional keys are used as\n",
       "  secondary criteria when the there is equality in all keys selected\n",
       "  before them.\n",
       "\n",
       "  Abbreviations can be used for any key names, as long as the\n",
       "  abbreviation is unambiguous.  The following are the keys currently\n",
       "  defined:\n",
       "\n",
       "  ============  =====================\n",
       "  Valid Arg     Meaning\n",
       "  ============  =====================\n",
       "  \"calls\"       call count\n",
       "  \"cumulative\"  cumulative time\n",
       "  \"file\"        file name\n",
       "  \"module\"      file name\n",
       "  \"pcalls\"      primitive call count\n",
       "  \"line\"        line number\n",
       "  \"name\"        function name\n",
       "  \"nfl\"         name/file/line\n",
       "  \"stdname\"     standard name\n",
       "  \"time\"        internal time\n",
       "  ============  =====================\n",
       "\n",
       "  Note that all sorts on statistics are in descending order (placing\n",
       "  most time consuming items first), where as name, file, and line number\n",
       "  searches are in ascending order (i.e., alphabetical). The subtle\n",
       "  distinction between \"nfl\" and \"stdname\" is that the standard name is a\n",
       "  sort of the name as printed, which means that the embedded line\n",
       "  numbers get compared in an odd way.  For example, lines 3, 20, and 40\n",
       "  would (if the file names were the same) appear in the string order\n",
       "  \"20\" \"3\" and \"40\".  In contrast, \"nfl\" does a numeric compare of the\n",
       "  line numbers.  In fact, sort_stats(\"nfl\") is the same as\n",
       "  sort_stats(\"name\", \"file\", \"line\").\n",
       "\n",
       "-T <filename>\n",
       "  save profile results as shown on screen to a text\n",
       "  file. The profile is still shown on screen.\n",
       "\n",
       "-D <filename>\n",
       "  save (via dump_stats) profile statistics to given\n",
       "  filename. This data is in a format understood by the pstats module, and\n",
       "  is generated by a call to the dump_stats() method of profile\n",
       "  objects. The profile is still shown on screen.\n",
       "\n",
       "-q\n",
       "  suppress output to the pager.  Best used with -T and/or -D above.\n",
       "\n",
       "If you want to run complete programs under the profiler's control, use\n",
       "``%run -p [prof_opts] filename.py [args to program]`` where prof_opts\n",
       "contains profiler specific options as described here.\n",
       "\n",
       "You can read the complete documentation for the profile module with::\n",
       "\n",
       "  In [1]: import profile; profile.help()\n",
       "\n",
       ".. versionchanged:: 7.3\n",
       "    User variables are no longer expanded,\n",
       "    the magic line is always left unmodified.\n",
       "\u001b[0;31mFile:\u001b[0m      ~/anaconda3/lib/python3.7/site-packages/IPython/core/magics/execution.py\n"
      ]
     },
     "metadata": {},
     "output_type": "display_data"
    }
   ],
   "source": [
    "%%prun?\n",
    "# arviz.plot_trace(prueba, combined=True);"
   ]
  },
  {
   "cell_type": "code",
   "execution_count": 573,
   "metadata": {},
   "outputs": [
    {
     "data": {
      "image/png": "[encoded data removed]",
      "text/plain": [
       "<Figure size 864x144 with 2 Axes>"
      ]
     },
     "metadata": {},
     "output_type": "display_data"
    }
   ],
   "source": [
    "# pm.traceplot(trace_2, var_names=['beta']);\n",
    "# arviz.plot_trace(trace_2, var_names=['beta'], coords={'2':2});"
   ]
  },
  {
   "cell_type": "markdown",
   "metadata": {},
   "source": [
    "If you want to check the covariance matrix"
   ]
  },
  {
   "cell_type": "code",
   "execution_count": 506,
   "metadata": {},
   "outputs": [],
   "source": [
    "matrix_s = trace_2['Sigma'].mean(axis=0)"
   ]
  },
  {
   "cell_type": "code",
   "execution_count": 507,
   "metadata": {},
   "outputs": [
    {
     "data": {
      "text/plain": [
       "array([[0.05553475, 0.00057874],\n",
       "       [0.00057874, 0.07489045]])"
      ]
     },
     "execution_count": 507,
     "metadata": {},
     "output_type": "execute_result"
    }
   ],
   "source": [
    "matrix_s"
   ]
  },
  {
   "cell_type": "markdown",
   "metadata": {},
   "source": [
    "From that, you get $\\tau_1$ and $\\tau_2$"
   ]
  },
  {
   "cell_type": "code",
   "execution_count": 508,
   "metadata": {},
   "outputs": [
    {
     "name": "stdout",
     "output_type": "stream",
     "text": [
      "0.23565812063092312 0.2736611968654907\n"
     ]
    }
   ],
   "source": [
    "tau1, tau2 = np.sqrt(matrix_s[0, 0]), np.sqrt(matrix_s[1, 1])\n",
    "print(tau1, tau2)"
   ]
  },
  {
   "cell_type": "markdown",
   "metadata": {},
   "source": [
    "And then $\\rho$"
   ]
  },
  {
   "cell_type": "code",
   "execution_count": 509,
   "metadata": {},
   "outputs": [],
   "source": [
    "rho = matrix_s[1, 0] / (tau1 * tau2)"
   ]
  },
  {
   "cell_type": "code",
   "execution_count": 510,
   "metadata": {},
   "outputs": [
    {
     "data": {
      "text/plain": [
       "0.008974016733377305"
      ]
     },
     "execution_count": 510,
     "metadata": {},
     "output_type": "execute_result"
    }
   ],
   "source": [
    "rho"
   ]
  },
  {
   "cell_type": "markdown",
   "metadata": {},
   "source": [
    "Now, the goal is to reproduce the figure 8.1 (b)."
   ]
  },
  {
   "cell_type": "code",
   "execution_count": 511,
   "metadata": {},
   "outputs": [
    {
     "name": "stderr",
     "output_type": "stream",
     "text": [
      "/home/rosgori/anaconda3/lib/python3.7/site-packages/pymc3/sampling.py:1247: UserWarning: samples parameter is smaller than nchains times ndraws, some draws and/or chains may not be represented in the returned posterior predictive sample\n",
      "  \"samples parameter is smaller than nchains times ndraws, some draws \"\n",
      "100%|██████████| 1000/1000 [00:00<00:00, 14674.07it/s]\n"
     ]
    }
   ],
   "source": [
    "with model_hier:\n",
    "    ppc_hier = pm.sample_posterior_predictive(trace_2, samples=1_000, var_names=['beta'])"
   ]
  },
  {
   "cell_type": "code",
   "execution_count": 512,
   "metadata": {},
   "outputs": [
    {
     "data": {
      "text/plain": [
       "(1000, 16, 2)"
      ]
     },
     "execution_count": 512,
     "metadata": {},
     "output_type": "execute_result"
    }
   ],
   "source": [
    "ppc_hier['beta'].shape"
   ]
  },
  {
   "cell_type": "code",
   "execution_count": 513,
   "metadata": {},
   "outputs": [
    {
     "data": {
      "text/plain": [
       "array([0.3255814 , 0.51111111, 0.53061224, 0.47058824, 0.45238095,\n",
       "       0.5       , 0.56730769, 0.62015504, 0.66666667, 0.53571429,\n",
       "       0.56043956, 0.61212121, 0.51515152, 0.60294118, 0.59292035,\n",
       "       0.60526316])"
      ]
     },
     "execution_count": 513,
     "metadata": {},
     "output_type": "execute_result"
    }
   ],
   "source": [
    "values[:, 0] / (values[:, 0] + values[:, 1])"
   ]
  },
  {
   "cell_type": "code",
   "execution_count": 524,
   "metadata": {},
   "outputs": [],
   "source": [
    "ppc_hier['beta'] = logistic(ppc_hier['beta'])\n",
    "# ppc_hier['beta'] = ppc_hier['beta']"
   ]
  },
  {
   "cell_type": "markdown",
   "metadata": {},
   "source": [
    "Remember that from \n",
    "\n",
    "\\begin{align}\n",
    "    \\alpha_{1j} &= \\dfrac{\\theta_{1j}}{\\theta_{1j} + \\theta_{2j}} \\\\\n",
    "    \\alpha_{2j} &= 1 - \\theta_{3j}\n",
    "\\end{align}\n",
    "\n",
    "you can get $\\theta_{1j}$ and $\\theta_{2j}$"
   ]
  },
  {
   "cell_type": "code",
   "execution_count": 525,
   "metadata": {},
   "outputs": [],
   "source": [
    "th1 = []\n",
    "\n",
    "for i in range(16):\n",
    "    result1 =  2 * ppc_hier['beta'][:, i, 0] * ppc_hier['beta'][:, i, 1] - ppc_hier['beta'][:, i, 1] \n",
    "#     result1 = - 2 * ppc_hier['alphas'][:, i, 0] * ppc_hier['alphas'][:, i, 1] + ppc_hier['alphas'][:, i, 1] \n",
    "    th1.append(list(result1))"
   ]
  },
  {
   "cell_type": "code",
   "execution_count": 526,
   "metadata": {},
   "outputs": [
    {
     "data": {
      "text/plain": [
       "(16, 1000)"
      ]
     },
     "execution_count": 526,
     "metadata": {},
     "output_type": "execute_result"
    }
   ],
   "source": [
    "th1 = np.asarray(th1)\n",
    "th1.shape"
   ]
  },
  {
   "cell_type": "code",
   "execution_count": 528,
   "metadata": {},
   "outputs": [
    {
     "data": {
      "text/plain": [
       "array([0.13474574, 0.13206396, 0.12006383, 0.14417826, 0.13744859,\n",
       "       0.12955934, 0.13110731, 0.13301547, 0.13427609, 0.13036162,\n",
       "       0.12951439, 0.12993904, 0.12792267, 0.12701882, 0.12755265])"
      ]
     },
     "execution_count": 528,
     "metadata": {},
     "output_type": "execute_result"
    }
   ],
   "source": [
    "result2 = np.sum(th1.T * proportion / np.sum(proportion), axis=1)\n",
    "result2[:15]"
   ]
  },
  {
   "cell_type": "code",
   "execution_count": 533,
   "metadata": {},
   "outputs": [
    {
     "data": {
      "image/png": "[encoded data removed]",
      "text/plain": [
       "<Figure size 720x432 with 1 Axes>"
      ]
     },
     "metadata": {},
     "output_type": "display_data"
    }
   ],
   "source": [
    "plt.figure(figsize=(10, 6))\n",
    "_, _, _ = plt.hist(result2 , bins=18, edgecolor='w', density=True)\n",
    "plt.xlim(0.08, .16)\n",
    "plt.yticks([]);"
   ]
  },
  {
   "cell_type": "markdown",
   "metadata": {},
   "source": [
    "As you can see, the figure is quite similar, except that there is a minus sing. The next step would be the model checking, but it would be pointless (you could do it) and the results would not be right."
   ]
  },
  {
   "cell_type": "code",
   "execution_count": 534,
   "metadata": {},
   "outputs": [
    {
     "data": {
      "image/png": "[encoded data removed]",
      "text/plain": [
       "<Figure size 720x432 with 1 Axes>"
      ]
     },
     "metadata": {},
     "output_type": "display_data"
    }
   ],
   "source": [
    "plt.figure(figsize=(10, 6))\n",
    "_, _, _ = plt.hist(-result2 , bins=20, edgecolor='w', density=True) # With a minus\n",
    "plt.yticks([]);"
   ]
  },
  {
   "cell_type": "markdown",
   "metadata": {},
   "source": [
    "Why? I don't know, nevertheless, it is really weird."
   ]
  },
  {
   "cell_type": "code",
   "execution_count": 93,
   "metadata": {},
   "outputs": [],
   "source": [
    "%load_ext watermark"
   ]
  },
  {
   "cell_type": "code",
   "execution_count": 94,
   "metadata": {},
   "outputs": [
    {
     "name": "stdout",
     "output_type": "stream",
     "text": [
      "numpy   1.18.1\n",
      "pandas  1.0.1\n",
      "pymc3   3.8\n",
      "seaborn 0.10.0\n",
      "arviz   0.7.0\n",
      "CPython 3.7.6\n",
      "IPython 7.12.0\n",
      "\n",
      "theano 1.0.4\n",
      "scipy 1.4.1\n",
      "matplotlib 3.1.3\n",
      "\n",
      "compiler   : GCC 7.3.0\n",
      "system     : Linux\n",
      "release    : 4.15.0-91-generic\n",
      "machine    : x86_64\n",
      "processor  : x86_64\n",
      "CPU cores  : 8\n",
      "interpreter: 64bit\n"
     ]
    }
   ],
   "source": [
    "%watermark -iv -v -p theano,scipy,matplotlib -m"
   ]
  },
  {
   "cell_type": "markdown",
   "metadata": {},
   "source": [
    "## **With pystan**"
   ]
  },
  {
   "cell_type": "markdown",
   "metadata": {},
   "source": [
    "This section is to reproduce the figure 8.1 (a) and the figure 8.1 (b) with Stan."
   ]
  },
  {
   "cell_type": "code",
   "execution_count": 19,
   "metadata": {},
   "outputs": [
    {
     "name": "stdout",
     "output_type": "stream",
     "text": [
      "2.19.1.1\n"
     ]
    }
   ],
   "source": [
    "import pystan\n",
    "print(pystan.__version__)"
   ]
  },
  {
   "cell_type": "code",
   "execution_count": 20,
   "metadata": {},
   "outputs": [],
   "source": [
    "modelo=\"\"\"\n",
    "data {\n",
    "  int<lower=0> N;\n",
    "  int<lower=0> n;\n",
    "  int y_obs[N, n];\n",
    "  vector[n] alpha;\n",
    "}\n",
    "\n",
    "parameters {\n",
    "  \n",
    "  simplex[n] theta[N];\n",
    "}\n",
    "\n",
    "model {\n",
    "  \n",
    "  for (i in 1:N)\n",
    "    theta[i] ~ dirichlet(alpha);\n",
    "  \n",
    "  for (i in 1:N)\n",
    "    y_obs[i] ~ multinomial(theta[i]);\n",
    "}\n",
    "\n",
    "\"\"\""
   ]
  },
  {
   "cell_type": "code",
   "execution_count": 21,
   "metadata": {},
   "outputs": [
    {
     "name": "stderr",
     "output_type": "stream",
     "text": [
      "INFO:pystan:COMPILING THE C++ CODE FOR MODEL anon_model_2a28c5090c429737936718a5aee45413 NOW.\n"
     ]
    }
   ],
   "source": [
    "stan_modelo = pystan.StanModel(model_code=modelo)"
   ]
  },
  {
   "cell_type": "code",
   "execution_count": 22,
   "metadata": {},
   "outputs": [],
   "source": [
    "data2 = {'N': 16,\n",
    "       'n': 3,\n",
    "       'alpha': [1,1,1],\n",
    "       'y_obs': values.astype(int)}"
   ]
  },
  {
   "cell_type": "code",
   "execution_count": 23,
   "metadata": {},
   "outputs": [],
   "source": [
    "fit = stan_modelo.sampling(data=data2)"
   ]
  },
  {
   "cell_type": "code",
   "execution_count": 24,
   "metadata": {},
   "outputs": [
    {
     "name": "stdout",
     "output_type": "stream",
     "text": [
      "Inference for Stan model: anon_model_2a28c5090c429737936718a5aee45413.\n",
      "4 chains, each with iter=2000; warmup=1000; thin=1; \n",
      "post-warmup draws per chain=1000, total post-warmup draws=4000.\n",
      "\n",
      "               mean se_mean     sd    2.5%     25%     50%     75%   97.5%  n_eff   Rhat\n",
      "theta[1,1]    0.301 7.22e-4  0.065   0.182   0.255     0.3   0.344   0.436   7991    1.0\n",
      "theta[2,1]    0.488 7.87e-4   0.07   0.351   0.441   0.489   0.536   0.625   7995    1.0\n",
      "theta[3,1]    0.465  4.0e-4  0.038   0.391   0.438   0.464    0.49   0.541   9070  0.999\n",
      "theta[4,1]    0.459 7.02e-4   0.06   0.343   0.417   0.458     0.5   0.578   7298  0.999\n",
      "theta[5,1]      0.4 7.67e-4  0.066   0.276   0.355   0.399   0.443   0.536   7367    1.0\n",
      "theta[6,1]    0.443 6.13e-4   0.05   0.347   0.408   0.443   0.476   0.543   6765    1.0\n",
      "theta[7,1]    0.504 5.46e-4  0.046   0.415   0.473   0.504   0.536   0.595   6994  0.999\n",
      "theta[8,1]    0.548 4.61e-4  0.041   0.467    0.52   0.547   0.575   0.629   7930    1.0\n",
      "theta[9,1]    0.541   0.001    0.1   0.343   0.472   0.543   0.611   0.735   7726  0.999\n",
      "theta[10,1]   0.465 5.76e-4  0.051   0.369    0.43   0.465     0.5   0.564   7693  0.999\n",
      "theta[11,1]    0.51 5.07e-4  0.048   0.417   0.476    0.51   0.543   0.603   9087  0.999\n",
      "theta[12,1]   0.552 4.02e-4  0.037   0.478   0.527   0.552   0.577   0.624   8426  0.999\n",
      "theta[13,1]   0.487  9.2e-4  0.081   0.335   0.429   0.488   0.545   0.648   7723    1.0\n",
      "theta[14,1]   0.525 6.54e-4  0.055   0.418   0.489   0.525   0.562   0.635   7082    1.0\n",
      "theta[15,1]   0.536 4.91e-4  0.044    0.45   0.507   0.535   0.565   0.621   7920    1.0\n",
      "theta[16,1]   0.546 6.32e-4  0.053   0.443    0.51   0.547   0.583   0.649   7067    1.0\n",
      "theta[1,2]    0.599 7.83e-4  0.069   0.462   0.553     0.6   0.647   0.732   7787    1.0\n",
      "theta[2,2]     0.47 7.91e-4   0.07    0.34   0.422   0.469   0.517    0.61   7829    1.0\n",
      "theta[3,2]    0.412 4.41e-4  0.037   0.338   0.387   0.412   0.437   0.485   7109  0.999\n",
      "theta[4,2]    0.513 7.16e-4   0.06   0.399   0.471   0.514   0.555   0.626   6944  0.999\n",
      "theta[5,2]     0.48 8.11e-4  0.068   0.344   0.433    0.48   0.528   0.612   7117    1.0\n",
      "theta[6,2]    0.443 6.49e-4   0.05   0.346   0.409   0.443   0.477   0.546   6048    1.0\n",
      "theta[7,2]    0.387 4.95e-4  0.045   0.303   0.356   0.385   0.417   0.477   8197  0.999\n",
      "theta[8,2]    0.338 4.58e-4  0.039   0.264   0.312   0.337   0.363   0.415   7136  0.999\n",
      "theta[9,2]    0.292   0.001   0.09   0.131   0.228   0.286   0.351   0.484   6683  0.999\n",
      "theta[10,2]   0.403  5.7e-4  0.049    0.31   0.369   0.403   0.436   0.503   7420  0.999\n",
      "theta[11,2]   0.402 5.18e-4  0.047   0.312    0.37   0.402   0.434   0.494   8376    1.0\n",
      "theta[12,2]   0.351 3.93e-4  0.034   0.285   0.329   0.351   0.373   0.421   7492  0.999\n",
      "theta[13,2]   0.458 9.36e-4   0.08   0.304   0.403   0.456   0.514   0.614   7343    1.0\n",
      "theta[14,2]    0.35 6.47e-4  0.053   0.251   0.312   0.348   0.387   0.452   6700    1.0\n",
      "theta[15,2]   0.369  4.5e-4  0.042   0.291    0.34   0.368   0.397   0.449   8556    1.0\n",
      "theta[16,2]   0.361 6.08e-4  0.051   0.262   0.326    0.36   0.395   0.468   7159  0.999\n",
      "theta[1,3]      0.1 4.47e-4  0.041   0.034    0.07   0.096   0.126   0.195   8533  0.999\n",
      "theta[2,3]    0.041 3.66e-4  0.028   0.006    0.02   0.035   0.056   0.112   5936    1.0\n",
      "theta[3,3]    0.124  2.9e-4  0.025   0.078   0.106   0.122    0.14   0.176   7558    1.0\n",
      "theta[4,3]    0.028  2.4e-4   0.02   0.004   0.013   0.023   0.037   0.076   6610  0.999\n",
      "theta[5,3]    0.121  5.6e-4  0.046   0.046   0.087   0.116   0.149   0.222   6738  0.999\n",
      "theta[6,3]    0.114 3.67e-4  0.032   0.059    0.09   0.111   0.135   0.183   7768  0.999\n",
      "theta[7,3]    0.109 3.21e-4  0.029   0.061   0.088   0.107   0.127    0.17   7954  0.999\n",
      "theta[8,3]    0.115 3.21e-4  0.026   0.069   0.096   0.113   0.131   0.171   6764    1.0\n",
      "theta[9,3]    0.167 8.95e-4  0.076    0.05   0.111   0.158   0.213   0.341   7185    1.0\n",
      "theta[10,3]   0.132 3.61e-4  0.034   0.073   0.107   0.129   0.153   0.206   8845    1.0\n",
      "theta[11,3]   0.088 2.94e-4  0.027   0.041   0.069   0.085   0.104   0.152   8509    1.0\n",
      "theta[12,3]   0.097 2.62e-4  0.022   0.059   0.081   0.096   0.111   0.145   7111  0.999\n",
      "theta[13,3]   0.054 4.98e-4  0.038   0.006   0.027   0.046   0.073    0.15   5718    1.0\n",
      "theta[14,3]   0.125 4.77e-4  0.038   0.063   0.097   0.121    0.15   0.209   6448    1.0\n",
      "theta[15,3]   0.096 3.12e-4  0.026   0.051   0.076   0.093   0.113   0.152   7006    1.0\n",
      "theta[16,3]   0.093 3.61e-4  0.031   0.042    0.07    0.09   0.112    0.16   7287    1.0\n",
      "lp__        -1.41e3   0.103    4.0 -1.42e3 -1.42e3 -1.41e3 -1.41e3 -1.41e3   1502    1.0\n",
      "\n",
      "Samples were drawn using NUTS at Fri Mar 27 17:06:10 2020.\n",
      "For each parameter, n_eff is a crude measure of effective sample size,\n",
      "and Rhat is the potential scale reduction factor on split chains (at \n",
      "convergence, Rhat=1).\n"
     ]
    }
   ],
   "source": [
    "print(fit.stansummary(digits_summary=3))"
   ]
  },
  {
   "cell_type": "code",
   "execution_count": 25,
   "metadata": {},
   "outputs": [],
   "source": [
    "samples = fit.extract(permuted=True)['theta']"
   ]
  },
  {
   "cell_type": "code",
   "execution_count": 26,
   "metadata": {},
   "outputs": [
    {
     "data": {
      "text/plain": [
       "(4000, 16, 3)"
      ]
     },
     "execution_count": 26,
     "metadata": {},
     "output_type": "execute_result"
    }
   ],
   "source": [
    "samples.shape"
   ]
  },
  {
   "cell_type": "code",
   "execution_count": 27,
   "metadata": {},
   "outputs": [
    {
     "data": {
      "text/plain": [
       "array([0.28969053, 0.55576013, 0.46880875, 0.62499109, 0.31250517,\n",
       "       0.45638551, 0.51475111, 0.54379053, 0.50190306, 0.53247051,\n",
       "       0.49688836, 0.55487369, 0.47213411, 0.56546164, 0.5566992 ,\n",
       "       0.5919083 ])"
      ]
     },
     "execution_count": 27,
     "metadata": {},
     "output_type": "execute_result"
    }
   ],
   "source": [
    "samples[0, :, 0]"
   ]
  },
  {
   "cell_type": "code",
   "execution_count": 28,
   "metadata": {},
   "outputs": [
    {
     "data": {
      "text/plain": [
       "0.10000779136186363"
      ]
     },
     "execution_count": 28,
     "metadata": {},
     "output_type": "execute_result"
    }
   ],
   "source": [
    "np.mean(samples[:, 0, 2])"
   ]
  },
  {
   "cell_type": "code",
   "execution_count": 29,
   "metadata": {},
   "outputs": [],
   "source": [
    "diff3 = []\n",
    "\n",
    "for i in range(16):\n",
    "    result3 = samples[:, i, 0] - samples[:, i, 1]\n",
    "    diff3.append(list(result3))"
   ]
  },
  {
   "cell_type": "code",
   "execution_count": 30,
   "metadata": {},
   "outputs": [
    {
     "data": {
      "text/plain": [
       "array([[-0.35447872, -0.17297568, -0.17596767, ..., -0.2805937 ,\n",
       "        -0.47618688, -0.13276545],\n",
       "       [ 0.15755553, -0.0566407 ,  0.03664864, ...,  0.11863572,\n",
       "        -0.0685502 ,  0.06912136],\n",
       "       [ 0.04329983,  0.14636458,  0.10092675, ...,  0.24371403,\n",
       "        -0.00409195, -0.03231013],\n",
       "       ...,\n",
       "       [ 0.22064079,  0.24680335,  0.09860484, ...,  0.09248436,\n",
       "         0.13465215,  0.08122155],\n",
       "       [ 0.22483055,  0.15969287,  0.10511641, ...,  0.21970223,\n",
       "         0.14075503,  0.0461641 ],\n",
       "       [ 0.27342662,  0.16853591,  0.18921759, ...,  0.28294102,\n",
       "         0.16541389,  0.16547692]])"
      ]
     },
     "execution_count": 30,
     "metadata": {},
     "output_type": "execute_result"
    }
   ],
   "source": [
    "diff3 = np.asarray(diff3)\n",
    "diff3"
   ]
  },
  {
   "cell_type": "code",
   "execution_count": 31,
   "metadata": {},
   "outputs": [
    {
     "data": {
      "text/plain": [
       "array([-0.13276545,  0.06912136, -0.03231013,  0.16520493, -0.16403938,\n",
       "        0.06041195,  0.02550831,  0.19337253, -0.0194513 ,  0.03460096,\n",
       "        0.16171201,  0.16481575, -0.24930883,  0.08122155,  0.0461641 ,\n",
       "        0.16547692])"
      ]
     },
     "execution_count": 31,
     "metadata": {},
     "output_type": "execute_result"
    }
   ],
   "source": [
    "diff3[:, 3999]"
   ]
  },
  {
   "cell_type": "code",
   "execution_count": 32,
   "metadata": {},
   "outputs": [],
   "source": [
    "res2 = np.sum(diff3.T * proportion / np.sum(proportion), axis=1)"
   ]
  },
  {
   "cell_type": "code",
   "execution_count": 33,
   "metadata": {},
   "outputs": [
    {
     "data": {
      "text/plain": [
       "(4000,)"
      ]
     },
     "execution_count": 33,
     "metadata": {},
     "output_type": "execute_result"
    }
   ],
   "source": [
    "res2.shape"
   ]
  },
  {
   "cell_type": "code",
   "execution_count": 34,
   "metadata": {},
   "outputs": [
    {
     "data": {
      "image/png": "[encoded data removed]",
      "text/plain": [
       "<Figure size 1000x600 with 1 Axes>"
      ]
     },
     "metadata": {},
     "output_type": "display_data"
    }
   ],
   "source": [
    "plt.figure(figsize=(10, 6))\n",
    "_, _, _ = plt.hist(res2, bins=20, edgecolor='w', density=True)\n",
    "plt.yticks([]);\n",
    "# plt.savefig('model_non_hier.png', dpi=120)"
   ]
  },
  {
   "cell_type": "markdown",
   "metadata": {},
   "source": [
    "With this, the figure 8.1 (a) is very similiar to this one."
   ]
  },
  {
   "cell_type": "markdown",
   "metadata": {},
   "source": [
    "### **Pystan with the hierarchical model**"
   ]
  },
  {
   "cell_type": "code",
   "execution_count": 35,
   "metadata": {},
   "outputs": [],
   "source": [
    "modelo2 = \"\"\"\n",
    "data {\n",
    "  int<lower=0> N;\n",
    "  int<lower=0> n;\n",
    "  int post[N, n];\n",
    "}\n",
    "\n",
    "parameters {\n",
    "  vector[n] mu;\n",
    "  cholesky_factor_corr[n] L;\n",
    "  vector[n] beta[N];\n",
    "    \n",
    "}\n",
    "\n",
    "transformed parameters{\n",
    "  vector[n] theta[N] ;\n",
    "  \n",
    "  for (i in 1:N)\n",
    "    theta[i] = inv_logit(beta[i]);\n",
    "     \n",
    "}\n",
    "\n",
    "model {\n",
    "\n",
    "  L ~ lkj_corr_cholesky(3.0);\n",
    " \n",
    "  mu ~ exponential(0.01);\n",
    "  \n",
    "  beta ~ multi_normal_cholesky(mu, L);\n",
    "  \n",
    "    \n",
    "  for (i in 1:N)\n",
    "    post[i] ~ multinomial(theta[i]);\n",
    "  \n",
    "}\n",
    "\n",
    "generated quantities {\n",
    "\n",
    "  corr_matrix[n] Sigma;\n",
    "  Sigma = multiply_lower_tri_self_transpose(L);\n",
    "  \n",
    "}\n",
    "\n",
    "\n",
    "\"\"\"\n",
    "\n",
    "modelo3 = \"\"\"\n",
    "    data {\n",
    "      int<lower=0> N;\n",
    "      int<lower=0> n;\n",
    "      int post[N, n];\n",
    "    }\n",
    "\n",
    "    parameters {\n",
    "      vector[n] mu;\n",
    "      cholesky_factor_corr[n] L;\n",
    "      vector[n] beta[N];\n",
    "      simplex[n] thetas[N];\n",
    "\n",
    "    }\n",
    "\n",
    "    transformed parameters{\n",
    "\n",
    "      vector<lower=0, upper=1>[n] alphas[N];\n",
    "\n",
    "\n",
    "      for (i in 1:N)\n",
    "        alphas[i] = inv_logit(beta[i]);\n",
    "\n",
    "    }\n",
    "\n",
    "    model {\n",
    "\n",
    "      L ~ lkj_corr_cholesky(3.0);\n",
    "\n",
    "      mu ~ normal(0, 5);\n",
    "\n",
    "      beta ~ multi_normal_cholesky(mu, L);\n",
    "\n",
    "      for (i in 1:N)\n",
    "        thetas[i] ~ dirichlet(alphas[i]);\n",
    "\n",
    "      for (i in 1:N)\n",
    "        post[i] ~ multinomial(thetas[i]);\n",
    "\n",
    "    }\n",
    "\n",
    "    generated quantities {\n",
    "\n",
    "      corr_matrix[n] Sigma;\n",
    "      Sigma = multiply_lower_tri_self_transpose(L);\n",
    "\n",
    "    }\n",
    "\n",
    "    \"\"\""
   ]
  },
  {
   "cell_type": "code",
   "execution_count": 36,
   "metadata": {},
   "outputs": [
    {
     "name": "stderr",
     "output_type": "stream",
     "text": [
      "INFO:pystan:COMPILING THE C++ CODE FOR MODEL anon_model_748691e7ccede7ca1d8cce075e5cc736 NOW.\n"
     ]
    }
   ],
   "source": [
    "stan_modelo2 = pystan.StanModel(model_code=modelo3)"
   ]
  },
  {
   "cell_type": "code",
   "execution_count": 37,
   "metadata": {},
   "outputs": [],
   "source": [
    "data3 = {'N': 16,\n",
    "         'n': 2,\n",
    "         'post': new_values.astype(int)}"
   ]
  },
  {
   "cell_type": "code",
   "execution_count": 38,
   "metadata": {},
   "outputs": [
    {
     "name": "stderr",
     "output_type": "stream",
     "text": [
      "WARNING:pystan:n_eff / iter below 0.001 indicates that the effective sample size has likely been overestimated\n",
      "WARNING:pystan:Rhat above 1.1 or below 0.9 indicates that the chains very likely have not mixed\n",
      "WARNING:pystan:24 of 10000 iterations ended with a divergence (0.24 %).\n",
      "WARNING:pystan:Try running with adapt_delta larger than 0.9 to remove the divergences.\n",
      "WARNING:pystan:1 of 10000 iterations saturated the maximum tree depth of 10 (0.01 %)\n",
      "WARNING:pystan:Run again with max_treedepth larger than 10 to avoid saturation\n"
     ]
    }
   ],
   "source": [
    "fit2 = stan_modelo2.sampling(data=data3, iter=5000, verbose=True, control={'adapt_delta':0.90}, init=0)"
   ]
  },
  {
   "cell_type": "code",
   "execution_count": 39,
   "metadata": {},
   "outputs": [
    {
     "name": "stdout",
     "output_type": "stream",
     "text": [
      "Inference for Stan model: anon_model_748691e7ccede7ca1d8cce075e5cc736.\n",
      "4 chains, each with iter=5000; warmup=2500; thin=1; \n",
      "post-warmup draws per chain=2500, total post-warmup draws=10000.\n",
      "\n",
      "                mean  se_mean       sd    2.5%     25%     50%     75%   97.5%  n_eff   Rhat\n",
      "mu[1]          5.003      0.1    2.855   1.046   2.879   4.434   6.604  11.845    818  1.005\n",
      "mu[2]          5.881    0.078    2.698   1.905   3.854    5.43   7.537  12.034   1185  1.004\n",
      "L[1,1]           1.0      nan      0.0     1.0     1.0     1.0     1.0     1.0    nan    nan\n",
      "L[2,1]         -0.01    0.009    0.375  -0.719  -0.284   -0.01   0.262   0.698   1841  1.002\n",
      "L[1,2]           0.0      nan      0.0     0.0     0.0     0.0     0.0     0.0    nan    nan\n",
      "L[2,2]         0.921    0.002    0.101   0.627   0.889   0.962   0.992     1.0   2772  1.001\n",
      "beta[1,1]      5.024    0.101     3.02   0.479   2.839   4.523   6.728  12.022    903  1.004\n",
      "beta[2,1]       5.02    0.099    2.993   0.574   2.821   4.513   6.784  12.021    915  1.004\n",
      "beta[3,1]      5.022    0.101    3.011   0.529   2.832   4.531   6.778  12.096    880  1.004\n",
      "beta[4,1]        5.0      0.1    3.015   0.512   2.782   4.465   6.753  12.121    901  1.004\n",
      "beta[5,1]      5.025    0.101    3.024    0.48    2.83   4.538   6.751  12.162    888  1.005\n",
      "beta[6,1]      4.999      0.1    3.022   0.488    2.78   4.522   6.722  12.055    909  1.005\n",
      "beta[7,1]      5.038      0.1    3.006   0.536   2.852   4.536   6.719  12.163    906  1.004\n",
      "beta[8,1]      5.022    0.101    2.993    0.57   2.851   4.525   6.735  11.911    881  1.005\n",
      "beta[9,1]      5.011      0.1    3.007   0.547   2.834   4.479   6.691  12.017    906  1.005\n",
      "beta[10,1]     5.018    0.101    3.018   0.501   2.835   4.486   6.731  12.045    894  1.005\n",
      "beta[11,1]     5.011      0.1    3.006   0.502   2.822   4.508   6.729  12.063    898  1.004\n",
      "beta[12,1]     5.019    0.101    3.013   0.499   2.828   4.507    6.74  12.044    896  1.004\n",
      "beta[13,1]     5.025    0.101    3.026   0.498   2.816   4.485   6.798  12.129    904  1.005\n",
      "beta[14,1]     5.018    0.101    2.999   0.569   2.858   4.471   6.737  12.033    887  1.004\n",
      "beta[15,1]     5.023    0.102    3.004   0.537   2.859   4.517   6.767  12.019    869  1.005\n",
      "beta[16,1]     5.016    0.101    3.008   0.507    2.81   4.522   6.752  12.056    881  1.005\n",
      "beta[1,2]      5.906     0.08    2.866   1.416   3.799    5.51   7.627  12.384   1298  1.003\n",
      "beta[2,2]      5.894    0.079    2.865    1.42   3.779   5.485   7.629  12.336   1305  1.004\n",
      "beta[3,2]      5.904    0.079    2.875    1.37   3.797   5.495   7.633  12.401   1322  1.003\n",
      "beta[4,2]      5.893    0.079    2.864   1.384   3.815   5.494    7.57   12.29   1326  1.003\n",
      "beta[5,2]      5.889    0.079    2.882   1.315   3.805   5.498   7.631  12.292   1340  1.003\n",
      "beta[6,2]       5.89    0.079    2.864   1.378   3.792   5.513   7.603  12.369   1299  1.003\n",
      "beta[7,2]      5.889    0.081    2.881   1.394   3.756   5.507   7.608  12.422   1271  1.003\n",
      "beta[8,2]      5.883    0.079     2.86   1.354   3.798   5.489   7.602  12.333   1303  1.003\n",
      "beta[9,2]      5.918     0.08    2.876   1.386   3.802   5.524   7.651  12.336   1293  1.003\n",
      "beta[10,2]     5.899    0.079    2.855   1.366   3.824   5.483   7.624  12.327   1322  1.003\n",
      "beta[11,2]     5.907     0.08    2.866   1.398   3.818   5.502   7.627  12.305   1293  1.003\n",
      "beta[12,2]     5.888    0.079    2.865   1.364   3.804   5.485   7.608  12.298   1307  1.003\n",
      "beta[13,2]     5.883    0.078     2.86    1.38   3.793   5.503   7.589  12.298   1329  1.003\n",
      "beta[14,2]     5.899    0.078    2.852   1.356   3.849   5.494   7.616   12.25   1325  1.003\n",
      "beta[15,2]     5.895    0.079    2.863   1.392   3.803   5.508   7.631  12.299   1307  1.003\n",
      "beta[16,2]     5.896    0.079    2.872    1.37    3.81   5.514   7.618  12.353   1314  1.003\n",
      "thetas[1,1]     0.27  5.28e-4    0.057   0.168    0.23   0.267   0.307    0.39  11696    1.0\n",
      "thetas[2,1]    0.352  5.31e-4    0.057   0.244   0.313   0.352    0.39   0.468  11479    1.0\n",
      "thetas[3,1]    0.377   3.1e-4    0.032   0.316   0.356   0.377   0.398   0.442  10414    1.0\n",
      "thetas[4,1]     0.33  4.36e-4    0.046   0.242   0.298   0.329    0.36   0.421  10923    1.0\n",
      "thetas[5,1]    0.343  5.62e-4    0.059   0.232   0.303   0.341   0.382   0.463  11015    1.0\n",
      "thetas[6,1]    0.361   4.0e-4    0.042   0.281   0.332   0.361    0.39   0.444  11114    1.0\n",
      "thetas[7,1]    0.389  3.38e-4    0.037   0.319   0.363   0.388   0.413   0.462  11817    1.0\n",
      "thetas[8,1]    0.411   3.2e-4    0.033   0.347   0.389   0.411   0.434   0.479  10913    1.0\n",
      "thetas[9,1]    0.429  7.62e-4    0.082   0.273   0.372   0.428   0.485   0.595  11605    1.0\n",
      "thetas[10,1]   0.379  4.05e-4    0.041   0.298    0.35   0.379   0.407    0.46  10498    1.0\n",
      "thetas[11,1]   0.381   3.7e-4     0.04   0.304   0.354   0.381   0.408    0.46  11637    1.0\n",
      "thetas[12,1]   0.405  2.76e-4    0.029   0.349   0.385   0.405   0.424   0.462  11031    1.0\n",
      "thetas[13,1]   0.352   6.3e-4    0.066    0.23   0.305    0.35   0.396   0.487  10946    1.0\n",
      "thetas[14,1]   0.406  4.45e-4    0.046   0.316   0.375   0.405   0.436   0.496  10539    1.0\n",
      "thetas[15,1]   0.397  3.59e-4    0.035    0.33   0.373   0.396   0.421   0.467   9605    1.0\n",
      "thetas[16,1]   0.398  4.13e-4    0.042   0.317    0.37   0.397   0.426   0.485  10530    1.0\n",
      "thetas[1,2]     0.73  5.28e-4    0.057    0.61   0.693   0.733    0.77   0.832  11696    1.0\n",
      "thetas[2,2]    0.648  5.31e-4    0.057   0.532    0.61   0.648   0.687   0.756  11479    1.0\n",
      "thetas[3,2]    0.623   3.1e-4    0.032   0.558   0.602   0.623   0.644   0.684  10414    1.0\n",
      "thetas[4,2]     0.67  4.36e-4    0.046   0.579    0.64   0.671   0.702   0.758  10923    1.0\n",
      "thetas[5,2]    0.657  5.62e-4    0.059   0.537   0.618   0.659   0.697   0.768  11015    1.0\n",
      "thetas[6,2]    0.639   4.0e-4    0.042   0.556    0.61   0.639   0.668   0.719  11114    1.0\n",
      "thetas[7,2]    0.611  3.38e-4    0.037   0.538   0.587   0.612   0.637   0.681  11817    1.0\n",
      "thetas[8,2]    0.589   3.2e-4    0.033   0.521   0.566   0.589   0.611   0.653  10913    1.0\n",
      "thetas[9,2]    0.571  7.62e-4    0.082   0.405   0.515   0.572   0.628   0.727  11605    1.0\n",
      "thetas[10,2]   0.621  4.05e-4    0.041    0.54   0.593   0.621    0.65   0.702  10498    1.0\n",
      "thetas[11,2]   0.619   3.7e-4     0.04    0.54   0.592   0.619   0.646   0.696  11637    1.0\n",
      "thetas[12,2]   0.595  2.76e-4    0.029   0.538   0.576   0.595   0.615   0.651  11031    1.0\n",
      "thetas[13,2]   0.648   6.3e-4    0.066   0.513   0.604    0.65   0.695    0.77  10946    1.0\n",
      "thetas[14,2]   0.594  4.45e-4    0.046   0.504   0.564   0.595   0.625   0.684  10539    1.0\n",
      "thetas[15,2]   0.603  3.59e-4    0.035   0.533   0.579   0.604   0.627    0.67   9605    1.0\n",
      "thetas[16,2]   0.602  4.13e-4    0.042   0.515   0.574   0.603    0.63   0.683  10530    1.0\n",
      "alphas[1,1]    0.945    0.002    0.104   0.617   0.945   0.989   0.999     1.0   3498  1.001\n",
      "alphas[2,1]    0.947    0.002    0.098    0.64   0.944   0.989   0.999     1.0   3003  1.001\n",
      "alphas[3,1]    0.946    0.002      0.1   0.629   0.944   0.989   0.999     1.0   2848  1.001\n",
      "alphas[4,1]    0.945    0.002      0.1   0.625   0.942   0.989   0.999     1.0   3035  1.001\n",
      "alphas[5,1]    0.946    0.002    0.102   0.618   0.944   0.989   0.999     1.0   3062  1.002\n",
      "alphas[6,1]    0.945    0.002    0.103    0.62   0.942   0.989   0.999     1.0   3088  1.002\n",
      "alphas[7,1]    0.947    0.002      0.1   0.631   0.945   0.989   0.999     1.0   2962  1.001\n",
      "alphas[8,1]    0.947    0.002    0.101   0.639   0.945   0.989   0.999     1.0   2882  1.002\n",
      "alphas[9,1]    0.946    0.002    0.102   0.634   0.945   0.989   0.999     1.0   3036  1.002\n",
      "alphas[10,1]   0.946    0.002    0.103   0.623   0.945   0.989   0.999     1.0   3017  1.001\n",
      "alphas[11,1]   0.946    0.002      0.1   0.623   0.944   0.989   0.999     1.0   3165  1.002\n",
      "alphas[12,1]   0.946    0.002      0.1   0.622   0.944   0.989   0.999     1.0   3191  1.001\n",
      "alphas[13,1]   0.947    0.002      0.1   0.622   0.944   0.989   0.999     1.0   3323  1.001\n",
      "alphas[14,1]   0.947    0.002    0.098   0.638   0.946   0.989   0.999     1.0   3232  1.001\n",
      "alphas[15,1]   0.947    0.002      0.1   0.631   0.946   0.989   0.999     1.0   2916  1.002\n",
      "alphas[16,1]   0.946    0.002    0.102   0.624   0.943   0.989   0.999     1.0   3281  1.002\n",
      "alphas[1,2]    0.975   8.6e-4    0.057   0.805   0.978   0.996     1.0     1.0   4359  1.001\n",
      "alphas[2,2]    0.974  9.14e-4    0.059   0.805   0.978   0.996     1.0     1.0   4210  1.001\n",
      "alphas[3,2]    0.974  8.81e-4     0.06   0.797   0.978   0.996     1.0     1.0   4605  1.001\n",
      "alphas[4,2]    0.974  9.41e-4     0.06     0.8   0.978   0.996   0.999     1.0   4063  1.001\n",
      "alphas[5,2]    0.973  9.58e-4    0.064   0.788   0.978   0.996     1.0     1.0   4418  1.001\n",
      "alphas[6,2]    0.974  9.15e-4     0.06   0.799   0.978   0.996     1.0     1.0   4253    1.0\n",
      "alphas[7,2]    0.974  9.77e-4    0.062   0.801   0.977   0.996     1.0     1.0   3983    1.0\n",
      "alphas[8,2]    0.974   9.0e-4    0.059   0.795   0.978   0.996     1.0     1.0   4249  1.001\n",
      "alphas[9,2]    0.974  9.09e-4     0.06     0.8   0.978   0.996     1.0     1.0   4352  1.001\n",
      "alphas[10,2]   0.975  8.97e-4    0.058   0.797   0.979   0.996     1.0     1.0   4156    1.0\n",
      "alphas[11,2]   0.975  9.06e-4    0.057   0.802   0.978   0.996     1.0     1.0   3927  1.001\n",
      "alphas[12,2]   0.974  9.39e-4    0.061   0.796   0.978   0.996     1.0     1.0   4173    1.0\n",
      "alphas[13,2]   0.974  9.04e-4     0.06   0.799   0.978   0.996   0.999     1.0   4448    1.0\n",
      "alphas[14,2]   0.974  9.39e-4    0.061   0.795   0.979   0.996     1.0     1.0   4174  1.001\n",
      "alphas[15,2]   0.974  9.53e-4     0.06   0.801   0.978   0.996     1.0     1.0   3975  1.001\n",
      "alphas[16,2]   0.974  9.52e-4    0.063   0.797   0.978   0.996     1.0     1.0   4340  1.001\n",
      "Sigma[1,1]       1.0      nan      0.0     1.0     1.0     1.0     1.0     1.0    nan    nan\n",
      "Sigma[2,1]     -0.01    0.009    0.375  -0.719  -0.284   -0.01   0.262   0.698   1841  1.002\n",
      "Sigma[1,2]     -0.01    0.009    0.375  -0.719  -0.284   -0.01   0.262   0.698   1841  1.002\n",
      "Sigma[2,2]       1.0 9.12e-19 8.83e-17     1.0     1.0     1.0     1.0     1.0   9356    1.0\n",
      "lp__         -1.45e3    0.097     5.25 -1.46e3 -1.45e3 -1.45e3 -1.44e3 -1.44e3   2913    1.0\n",
      "\n",
      "Samples were drawn using NUTS at Fri Mar 27 17:07:56 2020.\n",
      "For each parameter, n_eff is a crude measure of effective sample size,\n",
      "and Rhat is the potential scale reduction factor on split chains (at \n",
      "convergence, Rhat=1).\n"
     ]
    }
   ],
   "source": [
    "print(fit2.stansummary(digits_summary=3))"
   ]
  },
  {
   "cell_type": "code",
   "execution_count": 40,
   "metadata": {},
   "outputs": [],
   "source": [
    "samples2 = fit2.extract(permuted=True)['alphas']"
   ]
  },
  {
   "cell_type": "code",
   "execution_count": 41,
   "metadata": {},
   "outputs": [],
   "source": [
    "th5 = []\n",
    "\n",
    "for i in range(16):\n",
    "    res5 =  2 * samples2[:, i, 0] * samples2[:, i, 1] - samples2[:, i, 1] \n",
    "#     result1 = - 2 * ppc_hier['alphas'][:, i, 0] * ppc_hier['alphas'][:, i, 1] + ppc_hier['alphas'][:, i, 1] \n",
    "    th5.append(list(res5))"
   ]
  },
  {
   "cell_type": "code",
   "execution_count": 42,
   "metadata": {},
   "outputs": [
    {
     "data": {
      "text/plain": [
       "(16, 10000)"
      ]
     },
     "execution_count": 42,
     "metadata": {},
     "output_type": "execute_result"
    }
   ],
   "source": [
    "th5 = np.asarray(th5)\n",
    "th5.shape"
   ]
  },
  {
   "cell_type": "code",
   "execution_count": 43,
   "metadata": {},
   "outputs": [
    {
     "name": "stdout",
     "output_type": "stream",
     "text": [
      "(10000,)\n"
     ]
    },
    {
     "data": {
      "text/plain": [
       "array([0.93894789, 0.96938789, 0.81823725, 0.96043972, 0.98275602,\n",
       "       0.49781907, 0.93636218, 0.80706103, 0.99502264, 0.77100402,\n",
       "       0.79591668, 0.83848738, 0.40896394, 0.9346735 , 0.77259644])"
      ]
     },
     "execution_count": 43,
     "metadata": {},
     "output_type": "execute_result"
    }
   ],
   "source": [
    "result5 = np.sum(th5.T * proportion / np.sum(proportion), axis=1)\n",
    "print(result5.shape)\n",
    "result5[:15]"
   ]
  },
  {
   "cell_type": "code",
   "execution_count": 44,
   "metadata": {},
   "outputs": [
    {
     "data": {
      "image/png": "[encoded data removed]",
      "text/plain": [
       "<Figure size 1000x600 with 1 Axes>"
      ]
     },
     "metadata": {},
     "output_type": "display_data"
    }
   ],
   "source": [
    "plt.figure(figsize=(10, 6))\n",
    "_, _, _ = plt.hist(result5 , bins=20, edgecolor='w', density=True)\n",
    "plt.yticks([]);\n",
    "# plt.savefig('model_hier.png', dpi=120)"
   ]
  },
  {
   "cell_type": "markdown",
   "metadata": {},
   "source": [
    "Again, very similar to the figure 8.1 (b), except for a minus sign. Why? It is not clear at the moment."
   ]
  }
 ],
 "metadata": {
  "kernelspec": {
   "display_name": "Python 3",
   "language": "python",
   "name": "python3"
  },
  "language_info": {
   "codemirror_mode": {
    "name": "ipython",
    "version": 3
   },
   "file_extension": ".py",
   "mimetype": "text/x-python",
   "name": "python",
   "nbconvert_exporter": "python",
   "pygments_lexer": "ipython3",
   "version": "3.7.6"
  }
 },
 "nbformat": 4,
 "nbformat_minor": 4
}

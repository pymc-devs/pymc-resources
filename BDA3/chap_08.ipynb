{
 "cells": [
  {
   "cell_type": "markdown",
   "metadata": {},
   "source": [
    "## **Example. Stratified sampling in pre-election polling**"
   ]
  },
  {
   "cell_type": "code",
   "execution_count": 45,
   "metadata": {},
   "outputs": [],
   "source": [
    "%matplotlib inline\n",
    "\n",
    "import numpy as np\n",
    "import matplotlib.pyplot as plt\n",
    "import pymc3 as pm\n",
    "import pandas as pd\n",
    "import scipy.stats as stats\n",
    "import theano.tensor as tt\n",
    "import arviz\n",
    "import seaborn\n",
    "import time\n",
    "from scipy.special import expit as logistic\n",
    "from scipy.special import logit\n",
    "from scipy.special import softmax\n",
    "\n",
    "import warnings\n",
    "warnings.simplefilter(action='ignore', category=FutureWarning)\n",
    "\n",
    "plt.style.use('seaborn-darkgrid')\n",
    "plt.rc('font', size=12)\n",
    "\n",
    "%config Inline.figure_formats = ['retina']"
   ]
  },
  {
   "cell_type": "code",
   "execution_count": 3,
   "metadata": {},
   "outputs": [],
   "source": [
    "%load_ext line_profiler"
   ]
  },
  {
   "cell_type": "code",
   "execution_count": 4,
   "metadata": {},
   "outputs": [],
   "source": [
    "# arviz.style.use('arviz-darkgrid')"
   ]
  },
  {
   "cell_type": "markdown",
   "metadata": {},
   "source": [
    "A survey of 1447 adults."
   ]
  },
  {
   "cell_type": "code",
   "execution_count": 3,
   "metadata": {},
   "outputs": [],
   "source": [
    "participants = 1447"
   ]
  },
  {
   "cell_type": "markdown",
   "metadata": {},
   "source": [
    "This is the Table 8.2"
   ]
  },
  {
   "cell_type": "code",
   "execution_count": 4,
   "metadata": {},
   "outputs": [
    {
     "data": {
      "text/html": [
       "<div>\n",
       "<style scoped>\n",
       "    .dataframe tbody tr th:only-of-type {\n",
       "        vertical-align: middle;\n",
       "    }\n",
       "\n",
       "    .dataframe tbody tr th {\n",
       "        vertical-align: top;\n",
       "    }\n",
       "\n",
       "    .dataframe thead th {\n",
       "        text-align: right;\n",
       "    }\n",
       "</style>\n",
       "<table border=\"1\" class=\"dataframe\">\n",
       "  <thead>\n",
       "    <tr style=\"text-align: right;\">\n",
       "      <th></th>\n",
       "      <th>region</th>\n",
       "      <th>density</th>\n",
       "      <th>bush</th>\n",
       "      <th>dukakis</th>\n",
       "      <th>other</th>\n",
       "      <th>proportion</th>\n",
       "    </tr>\n",
       "  </thead>\n",
       "  <tbody>\n",
       "    <tr>\n",
       "      <th>0</th>\n",
       "      <td>Northeast</td>\n",
       "      <td>I</td>\n",
       "      <td>0.298</td>\n",
       "      <td>0.617</td>\n",
       "      <td>0.085</td>\n",
       "      <td>0.032</td>\n",
       "    </tr>\n",
       "    <tr>\n",
       "      <th>1</th>\n",
       "      <td>Northeast</td>\n",
       "      <td>II</td>\n",
       "      <td>0.500</td>\n",
       "      <td>0.478</td>\n",
       "      <td>0.022</td>\n",
       "      <td>0.032</td>\n",
       "    </tr>\n",
       "    <tr>\n",
       "      <th>2</th>\n",
       "      <td>Northeast</td>\n",
       "      <td>III</td>\n",
       "      <td>0.467</td>\n",
       "      <td>0.413</td>\n",
       "      <td>0.120</td>\n",
       "      <td>0.115</td>\n",
       "    </tr>\n",
       "    <tr>\n",
       "      <th>3</th>\n",
       "      <td>Northeast</td>\n",
       "      <td>IV</td>\n",
       "      <td>0.464</td>\n",
       "      <td>0.522</td>\n",
       "      <td>0.014</td>\n",
       "      <td>0.048</td>\n",
       "    </tr>\n",
       "    <tr>\n",
       "      <th>4</th>\n",
       "      <td>Midwest</td>\n",
       "      <td>I</td>\n",
       "      <td>0.404</td>\n",
       "      <td>0.489</td>\n",
       "      <td>0.106</td>\n",
       "      <td>0.032</td>\n",
       "    </tr>\n",
       "    <tr>\n",
       "      <th>5</th>\n",
       "      <td>Midwest</td>\n",
       "      <td>II</td>\n",
       "      <td>0.447</td>\n",
       "      <td>0.447</td>\n",
       "      <td>0.106</td>\n",
       "      <td>0.065</td>\n",
       "    </tr>\n",
       "    <tr>\n",
       "      <th>6</th>\n",
       "      <td>Midwest</td>\n",
       "      <td>III</td>\n",
       "      <td>0.509</td>\n",
       "      <td>0.388</td>\n",
       "      <td>0.103</td>\n",
       "      <td>0.080</td>\n",
       "    </tr>\n",
       "    <tr>\n",
       "      <th>7</th>\n",
       "      <td>Midwest</td>\n",
       "      <td>IV</td>\n",
       "      <td>0.552</td>\n",
       "      <td>0.338</td>\n",
       "      <td>0.110</td>\n",
       "      <td>0.100</td>\n",
       "    </tr>\n",
       "    <tr>\n",
       "      <th>8</th>\n",
       "      <td>South</td>\n",
       "      <td>I</td>\n",
       "      <td>0.571</td>\n",
       "      <td>0.286</td>\n",
       "      <td>0.143</td>\n",
       "      <td>0.015</td>\n",
       "    </tr>\n",
       "    <tr>\n",
       "      <th>9</th>\n",
       "      <td>South</td>\n",
       "      <td>II</td>\n",
       "      <td>0.469</td>\n",
       "      <td>0.406</td>\n",
       "      <td>0.125</td>\n",
       "      <td>0.066</td>\n",
       "    </tr>\n",
       "    <tr>\n",
       "      <th>10</th>\n",
       "      <td>South</td>\n",
       "      <td>III</td>\n",
       "      <td>0.515</td>\n",
       "      <td>0.404</td>\n",
       "      <td>0.081</td>\n",
       "      <td>0.068</td>\n",
       "    </tr>\n",
       "    <tr>\n",
       "      <th>11</th>\n",
       "      <td>South</td>\n",
       "      <td>IV</td>\n",
       "      <td>0.555</td>\n",
       "      <td>0.352</td>\n",
       "      <td>0.093</td>\n",
       "      <td>0.126</td>\n",
       "    </tr>\n",
       "    <tr>\n",
       "      <th>12</th>\n",
       "      <td>West</td>\n",
       "      <td>I</td>\n",
       "      <td>0.500</td>\n",
       "      <td>0.471</td>\n",
       "      <td>0.029</td>\n",
       "      <td>0.023</td>\n",
       "    </tr>\n",
       "    <tr>\n",
       "      <th>13</th>\n",
       "      <td>West</td>\n",
       "      <td>II</td>\n",
       "      <td>0.532</td>\n",
       "      <td>0.351</td>\n",
       "      <td>0.117</td>\n",
       "      <td>0.053</td>\n",
       "    </tr>\n",
       "    <tr>\n",
       "      <th>14</th>\n",
       "      <td>West</td>\n",
       "      <td>III</td>\n",
       "      <td>0.540</td>\n",
       "      <td>0.371</td>\n",
       "      <td>0.089</td>\n",
       "      <td>0.086</td>\n",
       "    </tr>\n",
       "    <tr>\n",
       "      <th>15</th>\n",
       "      <td>West</td>\n",
       "      <td>IV</td>\n",
       "      <td>0.554</td>\n",
       "      <td>0.361</td>\n",
       "      <td>0.084</td>\n",
       "      <td>0.057</td>\n",
       "    </tr>\n",
       "  </tbody>\n",
       "</table>\n",
       "</div>"
      ],
      "text/plain": [
       "       region density   bush  dukakis  other  proportion\n",
       "0   Northeast       I  0.298    0.617  0.085       0.032\n",
       "1   Northeast      II  0.500    0.478  0.022       0.032\n",
       "2   Northeast     III  0.467    0.413  0.120       0.115\n",
       "3   Northeast      IV  0.464    0.522  0.014       0.048\n",
       "4     Midwest       I  0.404    0.489  0.106       0.032\n",
       "5     Midwest      II  0.447    0.447  0.106       0.065\n",
       "6     Midwest     III  0.509    0.388  0.103       0.080\n",
       "7     Midwest      IV  0.552    0.338  0.110       0.100\n",
       "8       South       I  0.571    0.286  0.143       0.015\n",
       "9       South      II  0.469    0.406  0.125       0.066\n",
       "10      South     III  0.515    0.404  0.081       0.068\n",
       "11      South      IV  0.555    0.352  0.093       0.126\n",
       "12       West       I  0.500    0.471  0.029       0.023\n",
       "13       West      II  0.532    0.351  0.117       0.053\n",
       "14       West     III  0.540    0.371  0.089       0.086\n",
       "15       West      IV  0.554    0.361  0.084       0.057"
      ]
     },
     "execution_count": 4,
     "metadata": {},
     "output_type": "execute_result"
    }
   ],
   "source": [
    "data = pd.read_csv('data/cbs_survey.txt', sep=' ', skiprows=2, skipinitialspace=True, index_col=False)\n",
    "data"
   ]
  },
  {
   "cell_type": "code",
   "execution_count": 5,
   "metadata": {},
   "outputs": [],
   "source": [
    "#data.density"
   ]
  },
  {
   "cell_type": "markdown",
   "metadata": {},
   "source": [
    "We need the number of people of each region and each candidate."
   ]
  },
  {
   "cell_type": "code",
   "execution_count": 6,
   "metadata": {},
   "outputs": [
    {
     "name": "stdout",
     "output_type": "stream",
     "text": [
      "[[0.298 0.617 0.085]\n",
      " [0.5   0.478 0.022]\n",
      " [0.467 0.413 0.12 ]\n",
      " [0.464 0.522 0.014]\n",
      " [0.404 0.489 0.106]\n",
      " [0.447 0.447 0.106]\n",
      " [0.509 0.388 0.103]\n",
      " [0.552 0.338 0.11 ]\n",
      " [0.571 0.286 0.143]\n",
      " [0.469 0.406 0.125]\n",
      " [0.515 0.404 0.081]\n",
      " [0.555 0.352 0.093]\n",
      " [0.5   0.471 0.029]\n",
      " [0.532 0.351 0.117]\n",
      " [0.54  0.371 0.089]\n",
      " [0.554 0.361 0.084]]\n"
     ]
    }
   ],
   "source": [
    "data_obs = data[['bush', 'dukakis', 'other']].to_numpy()\n",
    "print(data_obs)"
   ]
  },
  {
   "cell_type": "code",
   "execution_count": 7,
   "metadata": {},
   "outputs": [
    {
     "name": "stdout",
     "output_type": "stream",
     "text": [
      "[0.32568306 0.51124744 0.53068182 0.47058824 0.45240761 0.5\n",
      " 0.56744705 0.62022472 0.66627771 0.536      0.56039173 0.61190739\n",
      " 0.51493306 0.60249151 0.59275521 0.60546448] \n",
      "\n",
      "[0.915 0.978 0.88  0.986 0.894 0.894 0.897 0.89  0.857 0.875 0.919 0.907\n",
      " 0.971 0.883 0.911 0.916]\n"
     ]
    }
   ],
   "source": [
    "print(data_obs[:, 0] / (data_obs[:, 0] + data_obs[:, 1]), '\\n')\n",
    "print(1 - data_obs[:, 2])"
   ]
  },
  {
   "cell_type": "code",
   "execution_count": 8,
   "metadata": {},
   "outputs": [
    {
     "name": "stdout",
     "output_type": "stream",
     "text": [
      "[ 46.304  46.304 166.405  69.456  46.304  94.055 115.76  144.7    21.705\n",
      "  95.502  98.396 182.322  33.281  76.691 124.442  82.479]\n"
     ]
    }
   ],
   "source": [
    "proportion = data['proportion'].to_numpy() * participants\n",
    "print(proportion)"
   ]
  },
  {
   "cell_type": "code",
   "execution_count": 9,
   "metadata": {},
   "outputs": [
    {
     "data": {
      "text/plain": [
       "1444.106"
      ]
     },
     "execution_count": 9,
     "metadata": {},
     "output_type": "execute_result"
    }
   ],
   "source": [
    "np.sum(proportion)"
   ]
  },
  {
   "cell_type": "code",
   "execution_count": 10,
   "metadata": {},
   "outputs": [
    {
     "name": "stdout",
     "output_type": "stream",
     "text": [
      "(16, 3)\n",
      "(16,)\n"
     ]
    }
   ],
   "source": [
    "print(data_obs.shape)\n",
    "print(proportion.shape)"
   ]
  },
  {
   "cell_type": "code",
   "execution_count": 11,
   "metadata": {},
   "outputs": [
    {
     "data": {
      "text/plain": [
       "1447.0"
      ]
     },
     "execution_count": 11,
     "metadata": {},
     "output_type": "execute_result"
    }
   ],
   "source": [
    "values = data_obs[:, :] * proportion.reshape(16, -1)\n",
    "values = np.round(values)\n",
    "np.sum(values)   # Check if the sum is equal to 1447"
   ]
  },
  {
   "cell_type": "code",
   "execution_count": 12,
   "metadata": {},
   "outputs": [
    {
     "data": {
      "text/plain": [
       "array([[ 14.,  29.,   4.],\n",
       "       [ 23.,  22.,   1.],\n",
       "       [ 78.,  69.,  20.],\n",
       "       [ 32.,  36.,   1.],\n",
       "       [ 19.,  23.,   5.],\n",
       "       [ 42.,  42.,  10.],\n",
       "       [ 59.,  45.,  12.],\n",
       "       [ 80.,  49.,  16.],\n",
       "       [ 12.,   6.,   3.],\n",
       "       [ 45.,  39.,  12.],\n",
       "       [ 51.,  40.,   8.],\n",
       "       [101.,  64.,  17.],\n",
       "       [ 17.,  16.,   1.],\n",
       "       [ 41.,  27.,   9.],\n",
       "       [ 67.,  46.,  11.],\n",
       "       [ 46.,  30.,   7.]])"
      ]
     },
     "execution_count": 12,
     "metadata": {},
     "output_type": "execute_result"
    }
   ],
   "source": [
    "values"
   ]
  },
  {
   "cell_type": "markdown",
   "metadata": {},
   "source": [
    "### **Nonhierarchical model**"
   ]
  },
  {
   "cell_type": "code",
   "execution_count": 12,
   "metadata": {},
   "outputs": [],
   "source": [
    "with pm.Model() as model_non_hiera:\n",
    "    \n",
    "    thetas = pm.Dirichlet('thetas', a=np.ones_like(data_obs), shape=(16, 3))\n",
    "    post = pm.Multinomial('post', n=np.sum(values, axis=1), p=thetas, observed=values)"
   ]
  },
  {
   "cell_type": "code",
   "execution_count": 13,
   "metadata": {},
   "outputs": [
    {
     "data": {
      "text/plain": [
       "thetas_stickbreaking__    -41.64\n",
       "post                     -322.85\n",
       "Name: Log-probability of test_point, dtype: float64"
      ]
     },
     "execution_count": 13,
     "metadata": {},
     "output_type": "execute_result"
    }
   ],
   "source": [
    "model_non_hiera.check_test_point()"
   ]
  },
  {
   "cell_type": "code",
   "execution_count": 14,
   "metadata": {},
   "outputs": [
    {
     "data": {
      "image/svg+xml": [
       "<?xml version=\"1.0\" encoding=\"UTF-8\" standalone=\"no\"?>\n",
       "<!DOCTYPE svg PUBLIC \"-//W3C//DTD SVG 1.1//EN\"\n",
       " \"http://www.w3.org/Graphics/SVG/1.1/DTD/svg11.dtd\">\n",
       "<!-- Generated by graphviz version 2.40.1 (20161225.0304)\n",
       " -->\n",
       "<!-- Title: %3 Pages: 1 -->\n",
       "<svg width=\"200pt\" height=\"171pt\"\n",
       " viewBox=\"0.00 0.00 200.00 171.00\" xmlns=\"http://www.w3.org/2000/svg\" xmlns:xlink=\"http://www.w3.org/1999/xlink\">\n",
       "<g id=\"graph0\" class=\"graph\" transform=\"scale(1 1) rotate(0) translate(4 167)\">\n",
       "<title>%3</title>\n",
       "<polygon fill=\"#ffffff\" stroke=\"transparent\" points=\"-4,4 -4,-167 196,-167 196,4 -4,4\"/>\n",
       "<g id=\"clust1\" class=\"cluster\">\n",
       "<title>cluster16 x 3</title>\n",
       "<path fill=\"none\" stroke=\"#000000\" d=\"M20,-8C20,-8 172,-8 172,-8 178,-8 184,-14 184,-20 184,-20 184,-143 184,-143 184,-149 178,-155 172,-155 172,-155 20,-155 20,-155 14,-155 8,-149 8,-143 8,-143 8,-20 8,-20 8,-14 14,-8 20,-8\"/>\n",
       "<text text-anchor=\"middle\" x=\"158.5\" y=\"-15.8\" font-family=\"Times,serif\" font-size=\"14.00\" fill=\"#000000\">16 x 3</text>\n",
       "</g>\n",
       "<!-- post -->\n",
       "<g id=\"node1\" class=\"node\">\n",
       "<title>post</title>\n",
       "<ellipse fill=\"#d3d3d3\" stroke=\"#000000\" cx=\"96\" cy=\"-57\" rx=\"79.8859\" ry=\"18\"/>\n",
       "<text text-anchor=\"middle\" x=\"96\" y=\"-53.3\" font-family=\"Times,serif\" font-size=\"14.00\" fill=\"#000000\">post ~ Multinomial</text>\n",
       "</g>\n",
       "<!-- thetas -->\n",
       "<g id=\"node2\" class=\"node\">\n",
       "<title>thetas</title>\n",
       "<ellipse fill=\"none\" stroke=\"#000000\" cx=\"96\" cy=\"-129\" rx=\"72.2875\" ry=\"18\"/>\n",
       "<text text-anchor=\"middle\" x=\"96\" y=\"-125.3\" font-family=\"Times,serif\" font-size=\"14.00\" fill=\"#000000\">thetas ~ Dirichlet</text>\n",
       "</g>\n",
       "<!-- thetas&#45;&gt;post -->\n",
       "<g id=\"edge1\" class=\"edge\">\n",
       "<title>thetas&#45;&gt;post</title>\n",
       "<path fill=\"none\" stroke=\"#000000\" d=\"M96,-110.8314C96,-103.131 96,-93.9743 96,-85.4166\"/>\n",
       "<polygon fill=\"#000000\" stroke=\"#000000\" points=\"99.5001,-85.4132 96,-75.4133 92.5001,-85.4133 99.5001,-85.4132\"/>\n",
       "</g>\n",
       "</g>\n",
       "</svg>\n"
      ],
      "text/plain": [
       "<graphviz.dot.Digraph at 0x7f3dc18b3910>"
      ]
     },
     "execution_count": 14,
     "metadata": {},
     "output_type": "execute_result"
    }
   ],
   "source": [
    "pm.model_to_graphviz(model_non_hiera)"
   ]
  },
  {
   "cell_type": "code",
   "execution_count": 15,
   "metadata": {},
   "outputs": [
    {
     "name": "stderr",
     "output_type": "stream",
     "text": [
      "Auto-assigning NUTS sampler...\n",
      "Initializing NUTS using jitter+adapt_diag...\n",
      "Multiprocess sampling (4 chains in 4 jobs)\n",
      "NUTS: [thetas]\n",
      "Sampling 4 chains, 0 divergences: 100%|██████████| 16000/16000 [00:13<00:00, 1229.44draws/s]\n"
     ]
    }
   ],
   "source": [
    "with model_non_hiera:\n",
    "    trace_1 = pm.sample(draws=2000, tune=2000)"
   ]
  },
  {
   "cell_type": "code",
   "execution_count": 16,
   "metadata": {},
   "outputs": [
    {
     "data": {
      "image/png": "[encoded data removed]",
      "text/plain": [
       "<Figure size 864x144 with 2 Axes>"
      ]
     },
     "metadata": {},
     "output_type": "display_data"
    }
   ],
   "source": [
    "pm.traceplot(trace_1, var_names=['thetas']);"
   ]
  },
  {
   "cell_type": "code",
   "execution_count": 18,
   "metadata": {
    "scrolled": true
   },
   "outputs": [
    {
     "data": {
      "text/html": [
       "<div>\n",
       "<style scoped>\n",
       "    .dataframe tbody tr th:only-of-type {\n",
       "        vertical-align: middle;\n",
       "    }\n",
       "\n",
       "    .dataframe tbody tr th {\n",
       "        vertical-align: top;\n",
       "    }\n",
       "\n",
       "    .dataframe thead th {\n",
       "        text-align: right;\n",
       "    }\n",
       "</style>\n",
       "<table border=\"1\" class=\"dataframe\">\n",
       "  <thead>\n",
       "    <tr style=\"text-align: right;\">\n",
       "      <th></th>\n",
       "      <th>mean</th>\n",
       "      <th>sd</th>\n",
       "      <th>hpd_3%</th>\n",
       "      <th>hpd_97%</th>\n",
       "      <th>mcse_mean</th>\n",
       "      <th>mcse_sd</th>\n",
       "      <th>ess_mean</th>\n",
       "      <th>ess_sd</th>\n",
       "      <th>ess_bulk</th>\n",
       "      <th>ess_tail</th>\n",
       "      <th>r_hat</th>\n",
       "    </tr>\n",
       "  </thead>\n",
       "  <tbody>\n",
       "    <tr>\n",
       "      <th>thetas[0,0]</th>\n",
       "      <td>0.300</td>\n",
       "      <td>0.064</td>\n",
       "      <td>0.184</td>\n",
       "      <td>0.424</td>\n",
       "      <td>0.000</td>\n",
       "      <td>0.000</td>\n",
       "      <td>16693.0</td>\n",
       "      <td>14799.0</td>\n",
       "      <td>16701.0</td>\n",
       "      <td>5847.0</td>\n",
       "      <td>1.0</td>\n",
       "    </tr>\n",
       "    <tr>\n",
       "      <th>thetas[0,1]</th>\n",
       "      <td>0.600</td>\n",
       "      <td>0.068</td>\n",
       "      <td>0.474</td>\n",
       "      <td>0.727</td>\n",
       "      <td>0.001</td>\n",
       "      <td>0.000</td>\n",
       "      <td>15018.0</td>\n",
       "      <td>14778.0</td>\n",
       "      <td>14982.0</td>\n",
       "      <td>6380.0</td>\n",
       "      <td>1.0</td>\n",
       "    </tr>\n",
       "    <tr>\n",
       "      <th>thetas[0,2]</th>\n",
       "      <td>0.100</td>\n",
       "      <td>0.042</td>\n",
       "      <td>0.033</td>\n",
       "      <td>0.185</td>\n",
       "      <td>0.000</td>\n",
       "      <td>0.000</td>\n",
       "      <td>14612.0</td>\n",
       "      <td>11216.0</td>\n",
       "      <td>14513.0</td>\n",
       "      <td>6030.0</td>\n",
       "      <td>1.0</td>\n",
       "    </tr>\n",
       "    <tr>\n",
       "      <th>thetas[1,0]</th>\n",
       "      <td>0.490</td>\n",
       "      <td>0.071</td>\n",
       "      <td>0.362</td>\n",
       "      <td>0.623</td>\n",
       "      <td>0.001</td>\n",
       "      <td>0.000</td>\n",
       "      <td>19890.0</td>\n",
       "      <td>19890.0</td>\n",
       "      <td>19769.0</td>\n",
       "      <td>5557.0</td>\n",
       "      <td>1.0</td>\n",
       "    </tr>\n",
       "    <tr>\n",
       "      <th>thetas[1,1]</th>\n",
       "      <td>0.469</td>\n",
       "      <td>0.071</td>\n",
       "      <td>0.341</td>\n",
       "      <td>0.604</td>\n",
       "      <td>0.001</td>\n",
       "      <td>0.000</td>\n",
       "      <td>18397.0</td>\n",
       "      <td>16708.0</td>\n",
       "      <td>18280.0</td>\n",
       "      <td>6221.0</td>\n",
       "      <td>1.0</td>\n",
       "    </tr>\n",
       "    <tr>\n",
       "      <th>thetas[1,2]</th>\n",
       "      <td>0.041</td>\n",
       "      <td>0.027</td>\n",
       "      <td>0.001</td>\n",
       "      <td>0.089</td>\n",
       "      <td>0.000</td>\n",
       "      <td>0.000</td>\n",
       "      <td>13983.0</td>\n",
       "      <td>8384.0</td>\n",
       "      <td>13998.0</td>\n",
       "      <td>5573.0</td>\n",
       "      <td>1.0</td>\n",
       "    </tr>\n",
       "    <tr>\n",
       "      <th>thetas[2,0]</th>\n",
       "      <td>0.465</td>\n",
       "      <td>0.038</td>\n",
       "      <td>0.394</td>\n",
       "      <td>0.534</td>\n",
       "      <td>0.000</td>\n",
       "      <td>0.000</td>\n",
       "      <td>20043.0</td>\n",
       "      <td>19863.0</td>\n",
       "      <td>20038.0</td>\n",
       "      <td>5672.0</td>\n",
       "      <td>1.0</td>\n",
       "    </tr>\n",
       "    <tr>\n",
       "      <th>thetas[2,1]</th>\n",
       "      <td>0.412</td>\n",
       "      <td>0.038</td>\n",
       "      <td>0.344</td>\n",
       "      <td>0.486</td>\n",
       "      <td>0.000</td>\n",
       "      <td>0.000</td>\n",
       "      <td>20367.0</td>\n",
       "      <td>19791.0</td>\n",
       "      <td>20372.0</td>\n",
       "      <td>5545.0</td>\n",
       "      <td>1.0</td>\n",
       "    </tr>\n",
       "    <tr>\n",
       "      <th>thetas[2,2]</th>\n",
       "      <td>0.124</td>\n",
       "      <td>0.025</td>\n",
       "      <td>0.076</td>\n",
       "      <td>0.169</td>\n",
       "      <td>0.000</td>\n",
       "      <td>0.000</td>\n",
       "      <td>19117.0</td>\n",
       "      <td>15634.0</td>\n",
       "      <td>19928.0</td>\n",
       "      <td>5515.0</td>\n",
       "      <td>1.0</td>\n",
       "    </tr>\n",
       "    <tr>\n",
       "      <th>thetas[3,0]</th>\n",
       "      <td>0.459</td>\n",
       "      <td>0.057</td>\n",
       "      <td>0.355</td>\n",
       "      <td>0.570</td>\n",
       "      <td>0.000</td>\n",
       "      <td>0.000</td>\n",
       "      <td>18824.0</td>\n",
       "      <td>17674.0</td>\n",
       "      <td>18744.0</td>\n",
       "      <td>4945.0</td>\n",
       "      <td>1.0</td>\n",
       "    </tr>\n",
       "    <tr>\n",
       "      <th>thetas[3,1]</th>\n",
       "      <td>0.513</td>\n",
       "      <td>0.057</td>\n",
       "      <td>0.404</td>\n",
       "      <td>0.620</td>\n",
       "      <td>0.000</td>\n",
       "      <td>0.000</td>\n",
       "      <td>18301.0</td>\n",
       "      <td>17842.0</td>\n",
       "      <td>18333.0</td>\n",
       "      <td>5361.0</td>\n",
       "      <td>1.0</td>\n",
       "    </tr>\n",
       "    <tr>\n",
       "      <th>thetas[3,2]</th>\n",
       "      <td>0.028</td>\n",
       "      <td>0.019</td>\n",
       "      <td>0.001</td>\n",
       "      <td>0.063</td>\n",
       "      <td>0.000</td>\n",
       "      <td>0.000</td>\n",
       "      <td>14944.0</td>\n",
       "      <td>9113.0</td>\n",
       "      <td>14491.0</td>\n",
       "      <td>4950.0</td>\n",
       "      <td>1.0</td>\n",
       "    </tr>\n",
       "    <tr>\n",
       "      <th>thetas[4,0]</th>\n",
       "      <td>0.401</td>\n",
       "      <td>0.069</td>\n",
       "      <td>0.277</td>\n",
       "      <td>0.537</td>\n",
       "      <td>0.000</td>\n",
       "      <td>0.000</td>\n",
       "      <td>19545.0</td>\n",
       "      <td>17552.0</td>\n",
       "      <td>19733.0</td>\n",
       "      <td>6137.0</td>\n",
       "      <td>1.0</td>\n",
       "    </tr>\n",
       "    <tr>\n",
       "      <th>thetas[4,1]</th>\n",
       "      <td>0.479</td>\n",
       "      <td>0.070</td>\n",
       "      <td>0.350</td>\n",
       "      <td>0.613</td>\n",
       "      <td>0.001</td>\n",
       "      <td>0.000</td>\n",
       "      <td>17495.0</td>\n",
       "      <td>17291.0</td>\n",
       "      <td>17387.0</td>\n",
       "      <td>5666.0</td>\n",
       "      <td>1.0</td>\n",
       "    </tr>\n",
       "    <tr>\n",
       "      <th>thetas[4,2]</th>\n",
       "      <td>0.120</td>\n",
       "      <td>0.045</td>\n",
       "      <td>0.041</td>\n",
       "      <td>0.204</td>\n",
       "      <td>0.000</td>\n",
       "      <td>0.000</td>\n",
       "      <td>19618.0</td>\n",
       "      <td>13669.0</td>\n",
       "      <td>19556.0</td>\n",
       "      <td>5868.0</td>\n",
       "      <td>1.0</td>\n",
       "    </tr>\n",
       "    <tr>\n",
       "      <th>thetas[5,0]</th>\n",
       "      <td>0.444</td>\n",
       "      <td>0.051</td>\n",
       "      <td>0.349</td>\n",
       "      <td>0.538</td>\n",
       "      <td>0.000</td>\n",
       "      <td>0.000</td>\n",
       "      <td>18114.0</td>\n",
       "      <td>17289.0</td>\n",
       "      <td>18174.0</td>\n",
       "      <td>5259.0</td>\n",
       "      <td>1.0</td>\n",
       "    </tr>\n",
       "    <tr>\n",
       "      <th>thetas[5,1]</th>\n",
       "      <td>0.443</td>\n",
       "      <td>0.051</td>\n",
       "      <td>0.348</td>\n",
       "      <td>0.537</td>\n",
       "      <td>0.000</td>\n",
       "      <td>0.000</td>\n",
       "      <td>17550.0</td>\n",
       "      <td>17392.0</td>\n",
       "      <td>17511.0</td>\n",
       "      <td>5927.0</td>\n",
       "      <td>1.0</td>\n",
       "    </tr>\n",
       "    <tr>\n",
       "      <th>thetas[5,2]</th>\n",
       "      <td>0.113</td>\n",
       "      <td>0.032</td>\n",
       "      <td>0.057</td>\n",
       "      <td>0.174</td>\n",
       "      <td>0.000</td>\n",
       "      <td>0.000</td>\n",
       "      <td>17665.0</td>\n",
       "      <td>13440.0</td>\n",
       "      <td>17741.0</td>\n",
       "      <td>5767.0</td>\n",
       "      <td>1.0</td>\n",
       "    </tr>\n",
       "    <tr>\n",
       "      <th>thetas[6,0]</th>\n",
       "      <td>0.504</td>\n",
       "      <td>0.045</td>\n",
       "      <td>0.422</td>\n",
       "      <td>0.591</td>\n",
       "      <td>0.000</td>\n",
       "      <td>0.000</td>\n",
       "      <td>19771.0</td>\n",
       "      <td>19385.0</td>\n",
       "      <td>19826.0</td>\n",
       "      <td>5891.0</td>\n",
       "      <td>1.0</td>\n",
       "    </tr>\n",
       "    <tr>\n",
       "      <th>thetas[6,1]</th>\n",
       "      <td>0.387</td>\n",
       "      <td>0.044</td>\n",
       "      <td>0.305</td>\n",
       "      <td>0.470</td>\n",
       "      <td>0.000</td>\n",
       "      <td>0.000</td>\n",
       "      <td>18517.0</td>\n",
       "      <td>17144.0</td>\n",
       "      <td>18586.0</td>\n",
       "      <td>5444.0</td>\n",
       "      <td>1.0</td>\n",
       "    </tr>\n",
       "    <tr>\n",
       "      <th>thetas[6,2]</th>\n",
       "      <td>0.109</td>\n",
       "      <td>0.029</td>\n",
       "      <td>0.061</td>\n",
       "      <td>0.167</td>\n",
       "      <td>0.000</td>\n",
       "      <td>0.000</td>\n",
       "      <td>18652.0</td>\n",
       "      <td>14589.0</td>\n",
       "      <td>19016.0</td>\n",
       "      <td>5561.0</td>\n",
       "      <td>1.0</td>\n",
       "    </tr>\n",
       "    <tr>\n",
       "      <th>thetas[7,0]</th>\n",
       "      <td>0.547</td>\n",
       "      <td>0.040</td>\n",
       "      <td>0.472</td>\n",
       "      <td>0.623</td>\n",
       "      <td>0.000</td>\n",
       "      <td>0.000</td>\n",
       "      <td>16515.0</td>\n",
       "      <td>16360.0</td>\n",
       "      <td>16472.0</td>\n",
       "      <td>5739.0</td>\n",
       "      <td>1.0</td>\n",
       "    </tr>\n",
       "    <tr>\n",
       "      <th>thetas[7,1]</th>\n",
       "      <td>0.338</td>\n",
       "      <td>0.038</td>\n",
       "      <td>0.266</td>\n",
       "      <td>0.406</td>\n",
       "      <td>0.000</td>\n",
       "      <td>0.000</td>\n",
       "      <td>17604.0</td>\n",
       "      <td>16743.0</td>\n",
       "      <td>17693.0</td>\n",
       "      <td>5599.0</td>\n",
       "      <td>1.0</td>\n",
       "    </tr>\n",
       "    <tr>\n",
       "      <th>thetas[7,2]</th>\n",
       "      <td>0.115</td>\n",
       "      <td>0.025</td>\n",
       "      <td>0.070</td>\n",
       "      <td>0.163</td>\n",
       "      <td>0.000</td>\n",
       "      <td>0.000</td>\n",
       "      <td>19374.0</td>\n",
       "      <td>16772.0</td>\n",
       "      <td>19152.0</td>\n",
       "      <td>5998.0</td>\n",
       "      <td>1.0</td>\n",
       "    </tr>\n",
       "    <tr>\n",
       "      <th>thetas[8,0]</th>\n",
       "      <td>0.543</td>\n",
       "      <td>0.097</td>\n",
       "      <td>0.367</td>\n",
       "      <td>0.728</td>\n",
       "      <td>0.001</td>\n",
       "      <td>0.001</td>\n",
       "      <td>20286.0</td>\n",
       "      <td>18361.0</td>\n",
       "      <td>20174.0</td>\n",
       "      <td>5683.0</td>\n",
       "      <td>1.0</td>\n",
       "    </tr>\n",
       "    <tr>\n",
       "      <th>thetas[8,1]</th>\n",
       "      <td>0.291</td>\n",
       "      <td>0.090</td>\n",
       "      <td>0.124</td>\n",
       "      <td>0.457</td>\n",
       "      <td>0.001</td>\n",
       "      <td>0.001</td>\n",
       "      <td>17542.0</td>\n",
       "      <td>14385.0</td>\n",
       "      <td>17443.0</td>\n",
       "      <td>6252.0</td>\n",
       "      <td>1.0</td>\n",
       "    </tr>\n",
       "    <tr>\n",
       "      <th>thetas[8,2]</th>\n",
       "      <td>0.166</td>\n",
       "      <td>0.074</td>\n",
       "      <td>0.042</td>\n",
       "      <td>0.304</td>\n",
       "      <td>0.001</td>\n",
       "      <td>0.001</td>\n",
       "      <td>16485.0</td>\n",
       "      <td>10657.0</td>\n",
       "      <td>17427.0</td>\n",
       "      <td>5949.0</td>\n",
       "      <td>1.0</td>\n",
       "    </tr>\n",
       "    <tr>\n",
       "      <th>thetas[9,0]</th>\n",
       "      <td>0.465</td>\n",
       "      <td>0.051</td>\n",
       "      <td>0.371</td>\n",
       "      <td>0.560</td>\n",
       "      <td>0.000</td>\n",
       "      <td>0.000</td>\n",
       "      <td>18596.0</td>\n",
       "      <td>17819.0</td>\n",
       "      <td>18577.0</td>\n",
       "      <td>5670.0</td>\n",
       "      <td>1.0</td>\n",
       "    </tr>\n",
       "    <tr>\n",
       "      <th>thetas[9,1]</th>\n",
       "      <td>0.404</td>\n",
       "      <td>0.050</td>\n",
       "      <td>0.313</td>\n",
       "      <td>0.502</td>\n",
       "      <td>0.000</td>\n",
       "      <td>0.000</td>\n",
       "      <td>20028.0</td>\n",
       "      <td>19170.0</td>\n",
       "      <td>20068.0</td>\n",
       "      <td>5357.0</td>\n",
       "      <td>1.0</td>\n",
       "    </tr>\n",
       "    <tr>\n",
       "      <th>thetas[9,2]</th>\n",
       "      <td>0.131</td>\n",
       "      <td>0.034</td>\n",
       "      <td>0.071</td>\n",
       "      <td>0.194</td>\n",
       "      <td>0.000</td>\n",
       "      <td>0.000</td>\n",
       "      <td>19738.0</td>\n",
       "      <td>15885.0</td>\n",
       "      <td>19949.0</td>\n",
       "      <td>5384.0</td>\n",
       "      <td>1.0</td>\n",
       "    </tr>\n",
       "    <tr>\n",
       "      <th>thetas[10,0]</th>\n",
       "      <td>0.510</td>\n",
       "      <td>0.049</td>\n",
       "      <td>0.418</td>\n",
       "      <td>0.600</td>\n",
       "      <td>0.000</td>\n",
       "      <td>0.000</td>\n",
       "      <td>16846.0</td>\n",
       "      <td>16372.0</td>\n",
       "      <td>16865.0</td>\n",
       "      <td>5435.0</td>\n",
       "      <td>1.0</td>\n",
       "    </tr>\n",
       "    <tr>\n",
       "      <th>thetas[10,1]</th>\n",
       "      <td>0.402</td>\n",
       "      <td>0.048</td>\n",
       "      <td>0.312</td>\n",
       "      <td>0.492</td>\n",
       "      <td>0.000</td>\n",
       "      <td>0.000</td>\n",
       "      <td>17349.0</td>\n",
       "      <td>16466.0</td>\n",
       "      <td>17378.0</td>\n",
       "      <td>5289.0</td>\n",
       "      <td>1.0</td>\n",
       "    </tr>\n",
       "    <tr>\n",
       "      <th>thetas[10,2]</th>\n",
       "      <td>0.088</td>\n",
       "      <td>0.027</td>\n",
       "      <td>0.041</td>\n",
       "      <td>0.141</td>\n",
       "      <td>0.000</td>\n",
       "      <td>0.000</td>\n",
       "      <td>17139.0</td>\n",
       "      <td>13514.0</td>\n",
       "      <td>17179.0</td>\n",
       "      <td>6125.0</td>\n",
       "      <td>1.0</td>\n",
       "    </tr>\n",
       "    <tr>\n",
       "      <th>thetas[11,0]</th>\n",
       "      <td>0.551</td>\n",
       "      <td>0.037</td>\n",
       "      <td>0.486</td>\n",
       "      <td>0.623</td>\n",
       "      <td>0.000</td>\n",
       "      <td>0.000</td>\n",
       "      <td>19784.0</td>\n",
       "      <td>19560.0</td>\n",
       "      <td>19790.0</td>\n",
       "      <td>5414.0</td>\n",
       "      <td>1.0</td>\n",
       "    </tr>\n",
       "    <tr>\n",
       "      <th>thetas[11,1]</th>\n",
       "      <td>0.351</td>\n",
       "      <td>0.035</td>\n",
       "      <td>0.284</td>\n",
       "      <td>0.416</td>\n",
       "      <td>0.000</td>\n",
       "      <td>0.000</td>\n",
       "      <td>20817.0</td>\n",
       "      <td>20046.0</td>\n",
       "      <td>20778.0</td>\n",
       "      <td>5549.0</td>\n",
       "      <td>1.0</td>\n",
       "    </tr>\n",
       "    <tr>\n",
       "      <th>thetas[11,2]</th>\n",
       "      <td>0.097</td>\n",
       "      <td>0.021</td>\n",
       "      <td>0.060</td>\n",
       "      <td>0.139</td>\n",
       "      <td>0.000</td>\n",
       "      <td>0.000</td>\n",
       "      <td>17024.0</td>\n",
       "      <td>14273.0</td>\n",
       "      <td>17452.0</td>\n",
       "      <td>6258.0</td>\n",
       "      <td>1.0</td>\n",
       "    </tr>\n",
       "    <tr>\n",
       "      <th>thetas[12,0]</th>\n",
       "      <td>0.486</td>\n",
       "      <td>0.081</td>\n",
       "      <td>0.337</td>\n",
       "      <td>0.640</td>\n",
       "      <td>0.001</td>\n",
       "      <td>0.000</td>\n",
       "      <td>17963.0</td>\n",
       "      <td>16518.0</td>\n",
       "      <td>18055.0</td>\n",
       "      <td>5405.0</td>\n",
       "      <td>1.0</td>\n",
       "    </tr>\n",
       "    <tr>\n",
       "      <th>thetas[12,1]</th>\n",
       "      <td>0.460</td>\n",
       "      <td>0.080</td>\n",
       "      <td>0.307</td>\n",
       "      <td>0.607</td>\n",
       "      <td>0.001</td>\n",
       "      <td>0.000</td>\n",
       "      <td>16284.0</td>\n",
       "      <td>15271.0</td>\n",
       "      <td>16295.0</td>\n",
       "      <td>5535.0</td>\n",
       "      <td>1.0</td>\n",
       "    </tr>\n",
       "    <tr>\n",
       "      <th>thetas[12,2]</th>\n",
       "      <td>0.054</td>\n",
       "      <td>0.037</td>\n",
       "      <td>0.001</td>\n",
       "      <td>0.119</td>\n",
       "      <td>0.000</td>\n",
       "      <td>0.000</td>\n",
       "      <td>13424.0</td>\n",
       "      <td>8281.0</td>\n",
       "      <td>13513.0</td>\n",
       "      <td>5758.0</td>\n",
       "      <td>1.0</td>\n",
       "    </tr>\n",
       "    <tr>\n",
       "      <th>thetas[13,0]</th>\n",
       "      <td>0.525</td>\n",
       "      <td>0.056</td>\n",
       "      <td>0.418</td>\n",
       "      <td>0.627</td>\n",
       "      <td>0.000</td>\n",
       "      <td>0.000</td>\n",
       "      <td>18347.0</td>\n",
       "      <td>17793.0</td>\n",
       "      <td>18365.0</td>\n",
       "      <td>5434.0</td>\n",
       "      <td>1.0</td>\n",
       "    </tr>\n",
       "    <tr>\n",
       "      <th>thetas[13,1]</th>\n",
       "      <td>0.350</td>\n",
       "      <td>0.053</td>\n",
       "      <td>0.252</td>\n",
       "      <td>0.450</td>\n",
       "      <td>0.000</td>\n",
       "      <td>0.000</td>\n",
       "      <td>17740.0</td>\n",
       "      <td>15856.0</td>\n",
       "      <td>18049.0</td>\n",
       "      <td>5701.0</td>\n",
       "      <td>1.0</td>\n",
       "    </tr>\n",
       "    <tr>\n",
       "      <th>thetas[13,2]</th>\n",
       "      <td>0.125</td>\n",
       "      <td>0.037</td>\n",
       "      <td>0.060</td>\n",
       "      <td>0.194</td>\n",
       "      <td>0.000</td>\n",
       "      <td>0.000</td>\n",
       "      <td>15347.0</td>\n",
       "      <td>12565.0</td>\n",
       "      <td>14960.0</td>\n",
       "      <td>5493.0</td>\n",
       "      <td>1.0</td>\n",
       "    </tr>\n",
       "    <tr>\n",
       "      <th>thetas[14,0]</th>\n",
       "      <td>0.535</td>\n",
       "      <td>0.044</td>\n",
       "      <td>0.452</td>\n",
       "      <td>0.616</td>\n",
       "      <td>0.000</td>\n",
       "      <td>0.000</td>\n",
       "      <td>19003.0</td>\n",
       "      <td>18991.0</td>\n",
       "      <td>19087.0</td>\n",
       "      <td>5799.0</td>\n",
       "      <td>1.0</td>\n",
       "    </tr>\n",
       "    <tr>\n",
       "      <th>thetas[14,1]</th>\n",
       "      <td>0.370</td>\n",
       "      <td>0.042</td>\n",
       "      <td>0.292</td>\n",
       "      <td>0.449</td>\n",
       "      <td>0.000</td>\n",
       "      <td>0.000</td>\n",
       "      <td>20079.0</td>\n",
       "      <td>18987.0</td>\n",
       "      <td>20118.0</td>\n",
       "      <td>5816.0</td>\n",
       "      <td>1.0</td>\n",
       "    </tr>\n",
       "    <tr>\n",
       "      <th>thetas[14,2]</th>\n",
       "      <td>0.095</td>\n",
       "      <td>0.026</td>\n",
       "      <td>0.048</td>\n",
       "      <td>0.143</td>\n",
       "      <td>0.000</td>\n",
       "      <td>0.000</td>\n",
       "      <td>19411.0</td>\n",
       "      <td>14268.0</td>\n",
       "      <td>20703.0</td>\n",
       "      <td>5823.0</td>\n",
       "      <td>1.0</td>\n",
       "    </tr>\n",
       "    <tr>\n",
       "      <th>thetas[15,0]</th>\n",
       "      <td>0.546</td>\n",
       "      <td>0.054</td>\n",
       "      <td>0.444</td>\n",
       "      <td>0.646</td>\n",
       "      <td>0.000</td>\n",
       "      <td>0.000</td>\n",
       "      <td>21369.0</td>\n",
       "      <td>20947.0</td>\n",
       "      <td>21393.0</td>\n",
       "      <td>5278.0</td>\n",
       "      <td>1.0</td>\n",
       "    </tr>\n",
       "    <tr>\n",
       "      <th>thetas[15,1]</th>\n",
       "      <td>0.360</td>\n",
       "      <td>0.051</td>\n",
       "      <td>0.264</td>\n",
       "      <td>0.456</td>\n",
       "      <td>0.000</td>\n",
       "      <td>0.000</td>\n",
       "      <td>18968.0</td>\n",
       "      <td>17477.0</td>\n",
       "      <td>19048.0</td>\n",
       "      <td>5636.0</td>\n",
       "      <td>1.0</td>\n",
       "    </tr>\n",
       "    <tr>\n",
       "      <th>thetas[15,2]</th>\n",
       "      <td>0.093</td>\n",
       "      <td>0.032</td>\n",
       "      <td>0.039</td>\n",
       "      <td>0.154</td>\n",
       "      <td>0.000</td>\n",
       "      <td>0.000</td>\n",
       "      <td>17638.0</td>\n",
       "      <td>12620.0</td>\n",
       "      <td>17873.0</td>\n",
       "      <td>5377.0</td>\n",
       "      <td>1.0</td>\n",
       "    </tr>\n",
       "  </tbody>\n",
       "</table>\n",
       "</div>"
      ],
      "text/plain": [
       "               mean     sd  hpd_3%  hpd_97%  mcse_mean  mcse_sd  ess_mean  \\\n",
       "thetas[0,0]   0.300  0.064   0.184    0.424      0.000    0.000   16693.0   \n",
       "thetas[0,1]   0.600  0.068   0.474    0.727      0.001    0.000   15018.0   \n",
       "thetas[0,2]   0.100  0.042   0.033    0.185      0.000    0.000   14612.0   \n",
       "thetas[1,0]   0.490  0.071   0.362    0.623      0.001    0.000   19890.0   \n",
       "thetas[1,1]   0.469  0.071   0.341    0.604      0.001    0.000   18397.0   \n",
       "thetas[1,2]   0.041  0.027   0.001    0.089      0.000    0.000   13983.0   \n",
       "thetas[2,0]   0.465  0.038   0.394    0.534      0.000    0.000   20043.0   \n",
       "thetas[2,1]   0.412  0.038   0.344    0.486      0.000    0.000   20367.0   \n",
       "thetas[2,2]   0.124  0.025   0.076    0.169      0.000    0.000   19117.0   \n",
       "thetas[3,0]   0.459  0.057   0.355    0.570      0.000    0.000   18824.0   \n",
       "thetas[3,1]   0.513  0.057   0.404    0.620      0.000    0.000   18301.0   \n",
       "thetas[3,2]   0.028  0.019   0.001    0.063      0.000    0.000   14944.0   \n",
       "thetas[4,0]   0.401  0.069   0.277    0.537      0.000    0.000   19545.0   \n",
       "thetas[4,1]   0.479  0.070   0.350    0.613      0.001    0.000   17495.0   \n",
       "thetas[4,2]   0.120  0.045   0.041    0.204      0.000    0.000   19618.0   \n",
       "thetas[5,0]   0.444  0.051   0.349    0.538      0.000    0.000   18114.0   \n",
       "thetas[5,1]   0.443  0.051   0.348    0.537      0.000    0.000   17550.0   \n",
       "thetas[5,2]   0.113  0.032   0.057    0.174      0.000    0.000   17665.0   \n",
       "thetas[6,0]   0.504  0.045   0.422    0.591      0.000    0.000   19771.0   \n",
       "thetas[6,1]   0.387  0.044   0.305    0.470      0.000    0.000   18517.0   \n",
       "thetas[6,2]   0.109  0.029   0.061    0.167      0.000    0.000   18652.0   \n",
       "thetas[7,0]   0.547  0.040   0.472    0.623      0.000    0.000   16515.0   \n",
       "thetas[7,1]   0.338  0.038   0.266    0.406      0.000    0.000   17604.0   \n",
       "thetas[7,2]   0.115  0.025   0.070    0.163      0.000    0.000   19374.0   \n",
       "thetas[8,0]   0.543  0.097   0.367    0.728      0.001    0.001   20286.0   \n",
       "thetas[8,1]   0.291  0.090   0.124    0.457      0.001    0.001   17542.0   \n",
       "thetas[8,2]   0.166  0.074   0.042    0.304      0.001    0.001   16485.0   \n",
       "thetas[9,0]   0.465  0.051   0.371    0.560      0.000    0.000   18596.0   \n",
       "thetas[9,1]   0.404  0.050   0.313    0.502      0.000    0.000   20028.0   \n",
       "thetas[9,2]   0.131  0.034   0.071    0.194      0.000    0.000   19738.0   \n",
       "thetas[10,0]  0.510  0.049   0.418    0.600      0.000    0.000   16846.0   \n",
       "thetas[10,1]  0.402  0.048   0.312    0.492      0.000    0.000   17349.0   \n",
       "thetas[10,2]  0.088  0.027   0.041    0.141      0.000    0.000   17139.0   \n",
       "thetas[11,0]  0.551  0.037   0.486    0.623      0.000    0.000   19784.0   \n",
       "thetas[11,1]  0.351  0.035   0.284    0.416      0.000    0.000   20817.0   \n",
       "thetas[11,2]  0.097  0.021   0.060    0.139      0.000    0.000   17024.0   \n",
       "thetas[12,0]  0.486  0.081   0.337    0.640      0.001    0.000   17963.0   \n",
       "thetas[12,1]  0.460  0.080   0.307    0.607      0.001    0.000   16284.0   \n",
       "thetas[12,2]  0.054  0.037   0.001    0.119      0.000    0.000   13424.0   \n",
       "thetas[13,0]  0.525  0.056   0.418    0.627      0.000    0.000   18347.0   \n",
       "thetas[13,1]  0.350  0.053   0.252    0.450      0.000    0.000   17740.0   \n",
       "thetas[13,2]  0.125  0.037   0.060    0.194      0.000    0.000   15347.0   \n",
       "thetas[14,0]  0.535  0.044   0.452    0.616      0.000    0.000   19003.0   \n",
       "thetas[14,1]  0.370  0.042   0.292    0.449      0.000    0.000   20079.0   \n",
       "thetas[14,2]  0.095  0.026   0.048    0.143      0.000    0.000   19411.0   \n",
       "thetas[15,0]  0.546  0.054   0.444    0.646      0.000    0.000   21369.0   \n",
       "thetas[15,1]  0.360  0.051   0.264    0.456      0.000    0.000   18968.0   \n",
       "thetas[15,2]  0.093  0.032   0.039    0.154      0.000    0.000   17638.0   \n",
       "\n",
       "               ess_sd  ess_bulk  ess_tail  r_hat  \n",
       "thetas[0,0]   14799.0   16701.0    5847.0    1.0  \n",
       "thetas[0,1]   14778.0   14982.0    6380.0    1.0  \n",
       "thetas[0,2]   11216.0   14513.0    6030.0    1.0  \n",
       "thetas[1,0]   19890.0   19769.0    5557.0    1.0  \n",
       "thetas[1,1]   16708.0   18280.0    6221.0    1.0  \n",
       "thetas[1,2]    8384.0   13998.0    5573.0    1.0  \n",
       "thetas[2,0]   19863.0   20038.0    5672.0    1.0  \n",
       "thetas[2,1]   19791.0   20372.0    5545.0    1.0  \n",
       "thetas[2,2]   15634.0   19928.0    5515.0    1.0  \n",
       "thetas[3,0]   17674.0   18744.0    4945.0    1.0  \n",
       "thetas[3,1]   17842.0   18333.0    5361.0    1.0  \n",
       "thetas[3,2]    9113.0   14491.0    4950.0    1.0  \n",
       "thetas[4,0]   17552.0   19733.0    6137.0    1.0  \n",
       "thetas[4,1]   17291.0   17387.0    5666.0    1.0  \n",
       "thetas[4,2]   13669.0   19556.0    5868.0    1.0  \n",
       "thetas[5,0]   17289.0   18174.0    5259.0    1.0  \n",
       "thetas[5,1]   17392.0   17511.0    5927.0    1.0  \n",
       "thetas[5,2]   13440.0   17741.0    5767.0    1.0  \n",
       "thetas[6,0]   19385.0   19826.0    5891.0    1.0  \n",
       "thetas[6,1]   17144.0   18586.0    5444.0    1.0  \n",
       "thetas[6,2]   14589.0   19016.0    5561.0    1.0  \n",
       "thetas[7,0]   16360.0   16472.0    5739.0    1.0  \n",
       "thetas[7,1]   16743.0   17693.0    5599.0    1.0  \n",
       "thetas[7,2]   16772.0   19152.0    5998.0    1.0  \n",
       "thetas[8,0]   18361.0   20174.0    5683.0    1.0  \n",
       "thetas[8,1]   14385.0   17443.0    6252.0    1.0  \n",
       "thetas[8,2]   10657.0   17427.0    5949.0    1.0  \n",
       "thetas[9,0]   17819.0   18577.0    5670.0    1.0  \n",
       "thetas[9,1]   19170.0   20068.0    5357.0    1.0  \n",
       "thetas[9,2]   15885.0   19949.0    5384.0    1.0  \n",
       "thetas[10,0]  16372.0   16865.0    5435.0    1.0  \n",
       "thetas[10,1]  16466.0   17378.0    5289.0    1.0  \n",
       "thetas[10,2]  13514.0   17179.0    6125.0    1.0  \n",
       "thetas[11,0]  19560.0   19790.0    5414.0    1.0  \n",
       "thetas[11,1]  20046.0   20778.0    5549.0    1.0  \n",
       "thetas[11,2]  14273.0   17452.0    6258.0    1.0  \n",
       "thetas[12,0]  16518.0   18055.0    5405.0    1.0  \n",
       "thetas[12,1]  15271.0   16295.0    5535.0    1.0  \n",
       "thetas[12,2]   8281.0   13513.0    5758.0    1.0  \n",
       "thetas[13,0]  17793.0   18365.0    5434.0    1.0  \n",
       "thetas[13,1]  15856.0   18049.0    5701.0    1.0  \n",
       "thetas[13,2]  12565.0   14960.0    5493.0    1.0  \n",
       "thetas[14,0]  18991.0   19087.0    5799.0    1.0  \n",
       "thetas[14,1]  18987.0   20118.0    5816.0    1.0  \n",
       "thetas[14,2]  14268.0   20703.0    5823.0    1.0  \n",
       "thetas[15,0]  20947.0   21393.0    5278.0    1.0  \n",
       "thetas[15,1]  17477.0   19048.0    5636.0    1.0  \n",
       "thetas[15,2]  12620.0   17873.0    5377.0    1.0  "
      ]
     },
     "execution_count": 18,
     "metadata": {},
     "output_type": "execute_result"
    }
   ],
   "source": [
    "arviz.summary(trace_1)"
   ]
  },
  {
   "cell_type": "markdown",
   "metadata": {},
   "source": [
    "Now, the goal is to reproduce the figure 8.1 (a)."
   ]
  },
  {
   "cell_type": "code",
   "execution_count": 18,
   "metadata": {},
   "outputs": [
    {
     "name": "stderr",
     "output_type": "stream",
     "text": [
      "100%|██████████| 8000/8000 [00:12<00:00, 638.87it/s]\n"
     ]
    }
   ],
   "source": [
    "with model_non_hiera:\n",
    "    ppc_non_hiera = pm.sample_posterior_predictive(trace_1, var_names=['thetas', 'post'])"
   ]
  },
  {
   "cell_type": "code",
   "execution_count": 19,
   "metadata": {},
   "outputs": [
    {
     "data": {
      "text/plain": [
       "(8000, 16, 3)"
      ]
     },
     "execution_count": 19,
     "metadata": {},
     "output_type": "execute_result"
    }
   ],
   "source": [
    "ppc_non_hiera['thetas'].shape"
   ]
  },
  {
   "cell_type": "markdown",
   "metadata": {},
   "source": [
    "Just check if the column **proportion** (look at the data frame) is equal to what we got."
   ]
  },
  {
   "cell_type": "code",
   "execution_count": 20,
   "metadata": {},
   "outputs": [
    {
     "data": {
      "text/plain": [
       "array([0.03206413, 0.03206413, 0.11523046, 0.04809619, 0.03206413,\n",
       "       0.06513026, 0.08016032, 0.1002004 , 0.01503006, 0.06613226,\n",
       "       0.06813627, 0.12625251, 0.02304609, 0.05310621, 0.08617234,\n",
       "       0.05711423])"
      ]
     },
     "execution_count": 20,
     "metadata": {},
     "output_type": "execute_result"
    }
   ],
   "source": [
    "proportion / np.sum(proportion)"
   ]
  },
  {
   "cell_type": "code",
   "execution_count": 21,
   "metadata": {},
   "outputs": [],
   "source": [
    "diff = []\n",
    "\n",
    "for i in range(16):\n",
    "    result = ppc_non_hiera['thetas'][:, i, 0] - ppc_non_hiera['thetas'][:, i, 1]\n",
    "    diff.append(list(result))"
   ]
  },
  {
   "cell_type": "code",
   "execution_count": 22,
   "metadata": {},
   "outputs": [
    {
     "data": {
      "text/plain": [
       "array([[-0.12250978, -0.42556044, -0.15966997, ..., -0.22926153,\n",
       "        -0.24760069, -0.24930177],\n",
       "       [ 0.07019904, -0.02395537, -0.06649436, ...,  0.26462965,\n",
       "         0.26716916,  0.29235914],\n",
       "       [ 0.05685179, -0.03017662,  0.13384658, ...,  0.10394146,\n",
       "        -0.00056104,  0.06779968],\n",
       "       ...,\n",
       "       [ 0.25018806,  0.11635687,  0.2790056 , ...,  0.16693184,\n",
       "         0.16900893,  0.21247109],\n",
       "       [ 0.09925011,  0.25388441,  0.16680238, ...,  0.08845875,\n",
       "         0.12992982,  0.15282509],\n",
       "       [ 0.12496571,  0.22629916,  0.21195712, ...,  0.17396249,\n",
       "         0.16813381,  0.12199068]])"
      ]
     },
     "execution_count": 22,
     "metadata": {},
     "output_type": "execute_result"
    }
   ],
   "source": [
    "diff = np.asarray(diff)\n",
    "diff"
   ]
  },
  {
   "cell_type": "code",
   "execution_count": 23,
   "metadata": {},
   "outputs": [],
   "source": [
    "result = np.sum(diff.T * proportion / np.sum(proportion), axis=1)"
   ]
  },
  {
   "cell_type": "code",
   "execution_count": 24,
   "metadata": {},
   "outputs": [
    {
     "data": {
      "image/png": "[encoded data removed]",
      "text/plain": [
       "<Figure size 720x432 with 1 Axes>"
      ]
     },
     "metadata": {},
     "output_type": "display_data"
    }
   ],
   "source": [
    "plt.figure(figsize=(10, 6))\n",
    "_, _, _ = plt.hist(result, bins=18, edgecolor='w', density=True)\n",
    "plt.yticks([]);"
   ]
  },
  {
   "cell_type": "code",
   "execution_count": 25,
   "metadata": {},
   "outputs": [
    {
     "data": {
      "text/plain": [
       "0.09773008630792071"
      ]
     },
     "execution_count": 25,
     "metadata": {},
     "output_type": "execute_result"
    }
   ],
   "source": [
    "np.mean(result)"
   ]
  },
  {
   "cell_type": "markdown",
   "metadata": {},
   "source": [
    "The figure is almost the same!"
   ]
  },
  {
   "cell_type": "markdown",
   "metadata": {},
   "source": [
    "### **Hierarchichal model**"
   ]
  },
  {
   "cell_type": "markdown",
   "metadata": {},
   "source": [
    "The authors are using other parameters, so we need to find the number of people for $\\alpha_{1j}$ and $\\alpha_{2j}$."
   ]
  },
  {
   "cell_type": "code",
   "execution_count": 13,
   "metadata": {},
   "outputs": [
    {
     "data": {
      "text/plain": [
       "array([[ 14.,  29.,   4.],\n",
       "       [ 23.,  22.,   1.],\n",
       "       [ 78.,  69.,  20.],\n",
       "       [ 32.,  36.,   1.],\n",
       "       [ 19.,  23.,   5.],\n",
       "       [ 42.,  42.,  10.],\n",
       "       [ 59.,  45.,  12.],\n",
       "       [ 80.,  49.,  16.],\n",
       "       [ 12.,   6.,   3.],\n",
       "       [ 45.,  39.,  12.],\n",
       "       [ 51.,  40.,   8.],\n",
       "       [101.,  64.,  17.],\n",
       "       [ 17.,  16.,   1.],\n",
       "       [ 41.,  27.,   9.],\n",
       "       [ 67.,  46.,  11.],\n",
       "       [ 46.,  30.,   7.]])"
      ]
     },
     "execution_count": 13,
     "metadata": {},
     "output_type": "execute_result"
    }
   ],
   "source": [
    "values"
   ]
  },
  {
   "cell_type": "code",
   "execution_count": 14,
   "metadata": {},
   "outputs": [
    {
     "name": "stdout",
     "output_type": "stream",
     "text": [
      "[ 42.  45. 146.  68.  41.  84. 104. 129.  19.  84.  90. 165.  32.  68.\n",
      " 113.  76.]\n"
     ]
    }
   ],
   "source": [
    "alpha_2j = np.round((1 - data['other'].to_numpy()) * proportion) #Not a probability as you may see\n",
    "print(alpha_2j)"
   ]
  },
  {
   "cell_type": "code",
   "execution_count": 15,
   "metadata": {},
   "outputs": [
    {
     "name": "stdout",
     "output_type": "stream",
     "text": [
      "[ 15.07572093  23.66648889  88.29653061  32.68517647  20.94704762\n",
      "  47.0275      65.67153846  89.73643411  14.47        51.16178571\n",
      "  55.14501099 111.60316364  17.14475758  46.24016176  73.78419469\n",
      "  49.9215    ]\n"
     ]
    }
   ],
   "source": [
    "alpha_1j = values[:, 0] / (values[:, 0] + values[:, 1]) * proportion #Not a probability as you may see\n",
    "print(alpha_1j)"
   ]
  },
  {
   "cell_type": "code",
   "execution_count": 16,
   "metadata": {},
   "outputs": [
    {
     "name": "stdout",
     "output_type": "stream",
     "text": [
      "[[ 15.  42.]\n",
      " [ 24.  45.]\n",
      " [ 88. 146.]\n",
      " [ 33.  68.]\n",
      " [ 21.  41.]\n",
      " [ 47.  84.]\n",
      " [ 66. 104.]\n",
      " [ 90. 129.]\n",
      " [ 14.  19.]\n",
      " [ 51.  84.]\n",
      " [ 55.  90.]\n",
      " [112. 165.]\n",
      " [ 17.  32.]\n",
      " [ 46.  68.]\n",
      " [ 74. 113.]\n",
      " [ 50.  76.]]\n"
     ]
    }
   ],
   "source": [
    "new_values = np.round(np.stack([alpha_1j, alpha_2j], axis=1))\n",
    "print(new_values)"
   ]
  },
  {
   "cell_type": "code",
   "execution_count": 17,
   "metadata": {},
   "outputs": [
    {
     "data": {
      "text/plain": [
       "array([ 4.,  1., 19.,  1.,  4.,  9., 11., 15.,  2., 11.,  7., 16.,  0.,\n",
       "        8., 10.,  6.])"
      ]
     },
     "execution_count": 17,
     "metadata": {},
     "output_type": "execute_result"
    }
   ],
   "source": [
    "np.round((data.other.to_numpy() * proportion * (values[:, 0] + values[:, 1]) - values[:, 0]) / (values[:, 0] + values[:, 1]))"
   ]
  },
  {
   "cell_type": "code",
   "execution_count": 18,
   "metadata": {},
   "outputs": [
    {
     "data": {
      "text/plain": [
       "array([ 57.,  69., 234., 101.,  62., 131., 170., 219.,  33., 135., 145.,\n",
       "       277.,  49., 114., 187., 126.])"
      ]
     },
     "execution_count": 18,
     "metadata": {},
     "output_type": "execute_result"
    }
   ],
   "source": [
    "np.sum(new_values, axis=1)"
   ]
  },
  {
   "cell_type": "code",
   "execution_count": 21,
   "metadata": {
    "collapsed": true,
    "jupyter": {
     "outputs_hidden": true
    }
   },
   "outputs": [
    {
     "data": {
      "text/plain": [
       "\u001b[0;31mSignature:\u001b[0m\n",
       "\u001b[0mtt\u001b[0m\u001b[0;34m.\u001b[0m\u001b[0mnnet\u001b[0m\u001b[0;34m.\u001b[0m\u001b[0mh_softmax\u001b[0m\u001b[0;34m(\u001b[0m\u001b[0;34m\u001b[0m\n",
       "\u001b[0;34m\u001b[0m    \u001b[0mx\u001b[0m\u001b[0;34m,\u001b[0m\u001b[0;34m\u001b[0m\n",
       "\u001b[0;34m\u001b[0m    \u001b[0mbatch_size\u001b[0m\u001b[0;34m,\u001b[0m\u001b[0;34m\u001b[0m\n",
       "\u001b[0;34m\u001b[0m    \u001b[0mn_outputs\u001b[0m\u001b[0;34m,\u001b[0m\u001b[0;34m\u001b[0m\n",
       "\u001b[0;34m\u001b[0m    \u001b[0mn_classes\u001b[0m\u001b[0;34m,\u001b[0m\u001b[0;34m\u001b[0m\n",
       "\u001b[0;34m\u001b[0m    \u001b[0mn_outputs_per_class\u001b[0m\u001b[0;34m,\u001b[0m\u001b[0;34m\u001b[0m\n",
       "\u001b[0;34m\u001b[0m    \u001b[0mW1\u001b[0m\u001b[0;34m,\u001b[0m\u001b[0;34m\u001b[0m\n",
       "\u001b[0;34m\u001b[0m    \u001b[0mb1\u001b[0m\u001b[0;34m,\u001b[0m\u001b[0;34m\u001b[0m\n",
       "\u001b[0;34m\u001b[0m    \u001b[0mW2\u001b[0m\u001b[0;34m,\u001b[0m\u001b[0;34m\u001b[0m\n",
       "\u001b[0;34m\u001b[0m    \u001b[0mb2\u001b[0m\u001b[0;34m,\u001b[0m\u001b[0;34m\u001b[0m\n",
       "\u001b[0;34m\u001b[0m    \u001b[0mtarget\u001b[0m\u001b[0;34m=\u001b[0m\u001b[0;32mNone\u001b[0m\u001b[0;34m,\u001b[0m\u001b[0;34m\u001b[0m\n",
       "\u001b[0;34m\u001b[0m\u001b[0;34m)\u001b[0m\u001b[0;34m\u001b[0m\u001b[0;34m\u001b[0m\u001b[0m\n",
       "\u001b[0;31mDocstring:\u001b[0m\n",
       "Two-level hierarchical softmax.\n",
       "\n",
       "This function implements a two-layer hierarchical softmax. It is commonly\n",
       "used as an alternative of the softmax when the number of outputs is\n",
       "important (it is common to use it for millions of outputs). See\n",
       "reference [1]_ for more information about the computational gains.\n",
       "\n",
       "The `n_outputs` outputs are organized in `n_classes` classes, each class\n",
       "containing the same number `n_outputs_per_class` of outputs.\n",
       "For an input `x` (last hidden activation), the first softmax layer predicts\n",
       "its class and the second softmax layer predicts its output among its class.\n",
       "\n",
       "If `target` is specified, it will only compute the outputs of the\n",
       "corresponding targets. Otherwise, if `target` is `None`, it will compute\n",
       "all the outputs.\n",
       "\n",
       "The outputs are grouped in classes in the same order as they are initially\n",
       "defined: if `n_outputs=10` and `n_classes=2`, then the first class is\n",
       "composed of the outputs labeled `{0,1,2,3,4}` while the second class is\n",
       "composed of `{5,6,7,8,9}`. If you need to change the classes, you have to\n",
       "re-label your outputs.\n",
       "\n",
       ".. versionadded:: 0.7.1\n",
       "\n",
       "Parameters\n",
       "----------\n",
       "x: tensor of shape (batch_size, number of features)\n",
       "    the minibatch input of the two-layer hierarchical softmax.\n",
       "batch_size: int\n",
       "    the size of the minibatch input x.\n",
       "n_outputs: int\n",
       "    the number of outputs.\n",
       "n_classes: int\n",
       "    the number of classes of the two-layer hierarchical softmax. It\n",
       "    corresponds to the number of outputs of the first softmax. See note at\n",
       "    the end.\n",
       "n_outputs_per_class: int\n",
       "    the number of outputs per class. See note at the end.\n",
       "W1: tensor of shape (number of features of the input x, n_classes)\n",
       "    the weight matrix of the first softmax, which maps the input x to the\n",
       "    probabilities of the classes.\n",
       "b1: tensor of shape (n_classes,)\n",
       "    the bias vector of the first softmax layer.\n",
       "W2: tensor of shape (n_classes, number of features of the input x,\n",
       "        n_outputs_per_class)\n",
       "    the weight matrix of the second softmax, which maps the input x to\n",
       "    the probabilities of the outputs.\n",
       "b2: tensor of shape (n_classes, n_outputs_per_class)\n",
       "    the bias vector of the second softmax layer.\n",
       "target: tensor of shape either (batch_size,) or (batch_size, 1)\n",
       "    (optional, default None)\n",
       "    contains the indices of the targets for the minibatch\n",
       "    input x. For each input, the function computes the output for its\n",
       "    corresponding target. If target is None, then all the outputs are\n",
       "    computed for each input.\n",
       "\n",
       "Returns\n",
       "-------\n",
       "tensor of shape (`batch_size`, `n_outputs`) or (`batch_size`, 1)\n",
       "    Output tensor of the two-layer hierarchical softmax for input `x`.\n",
       "    Depending on argument `target`, it can have two different shapes.\n",
       "    If `target` is not specified (`None`), then all the outputs are\n",
       "    computed and the returned tensor has shape (`batch_size`, `n_outputs`).\n",
       "    Otherwise, when `target` is specified, only the corresponding outputs\n",
       "    are computed and the returned tensor has thus shape (`batch_size`, 1).\n",
       "\n",
       "Notes\n",
       "-----\n",
       "The product of `n_outputs_per_class` and `n_classes` has to be greater or\n",
       "equal to `n_outputs`. If it is strictly greater, then the irrelevant\n",
       "outputs will be ignored.\n",
       "`n_outputs_per_class` and `n_classes` have to be the same as the\n",
       "corresponding dimensions of the tensors of `W1`, `b1`, `W2` and `b2`.\n",
       "The most computational efficient configuration is when\n",
       "`n_outputs_per_class` and `n_classes` are equal to the square root of\n",
       "`n_outputs`.\n",
       "\n",
       "Examples\n",
       "--------\n",
       "The following example builds a simple hierarchical softmax layer.\n",
       "\n",
       ">>> import numpy as np\n",
       ">>> import theano\n",
       ">>> from theano import tensor\n",
       ">>> from theano.tensor.nnet import h_softmax\n",
       ">>>\n",
       ">>> # Parameters\n",
       ">>> batch_size = 32\n",
       ">>> n_outputs = 100\n",
       ">>> dim_x = 10  # dimension of the input\n",
       ">>> n_classes = int(np.ceil(np.sqrt(n_outputs)))\n",
       ">>> n_outputs_per_class = n_classes\n",
       ">>> output_size = n_outputs_per_class * n_outputs_per_class\n",
       ">>>\n",
       ">>> # First level of h_softmax\n",
       ">>> floatX = theano.config.floatX\n",
       ">>> W1 = theano.shared(\n",
       "...     np.random.normal(0, 0.001, (dim_x, n_classes)).astype(floatX))\n",
       ">>> b1 = theano.shared(np.zeros((n_classes,), floatX))\n",
       ">>>\n",
       ">>> # Second level of h_softmax\n",
       ">>> W2 = np.random.normal(0, 0.001,\n",
       "...     size=(n_classes, dim_x, n_outputs_per_class)).astype(floatX)\n",
       ">>> W2 = theano.shared(W2)\n",
       ">>> b2 = theano.shared(np.zeros((n_classes, n_outputs_per_class), floatX))\n",
       ">>>\n",
       ">>> # We can now build the graph to compute a loss function, typically the\n",
       ">>> # negative log-likelihood:\n",
       ">>>\n",
       ">>> x = tensor.imatrix('x')\n",
       ">>> target = tensor.imatrix('target')\n",
       ">>>\n",
       ">>> # This only computes the output corresponding to the target.\n",
       ">>> # The complexity is O(n_classes + n_outputs_per_class).\n",
       ">>> y_hat_tg = h_softmax(x, batch_size, output_size, n_classes,\n",
       "...                      n_outputs_per_class, W1, b1, W2, b2, target)\n",
       ">>>\n",
       ">>> negll = -tensor.mean(tensor.log(y_hat_tg))\n",
       ">>>\n",
       ">>> # We may need to compute all the outputs (at test time usually):\n",
       ">>>\n",
       ">>> # This computes all the outputs.\n",
       ">>> # The complexity is O(n_classes * n_outputs_per_class).\n",
       ">>> output = h_softmax(x, batch_size, output_size, n_classes,\n",
       "...                    n_outputs_per_class, W1, b1, W2, b2)\n",
       "\n",
       "\n",
       "References\n",
       "----------\n",
       ".. [1] J. Goodman, \"Classes for Fast Maximum Entropy Training,\"\n",
       "    ICASSP, 2001, <http://arxiv.org/abs/cs/0108006>`.\n",
       "\u001b[0;31mFile:\u001b[0m      ~/anaconda3/lib/python3.7/site-packages/theano/tensor/nnet/nnet.py\n",
       "\u001b[0;31mType:\u001b[0m      function\n"
      ]
     },
     "metadata": {},
     "output_type": "display_data"
    }
   ],
   "source": []
  },
  {
   "cell_type": "code",
   "execution_count": 101,
   "metadata": {},
   "outputs": [],
   "source": [
    "with pm.Model() as model_hier:\n",
    "    \n",
    "    packed_L = pm.LKJCholeskyCov('packed_L', n=2, eta=2., sd_dist=pm.Exponential.dist(1))\n",
    "    L = pm.expand_packed_triangular(2, packed_L)\n",
    "    Sigma = pm.Deterministic('Sigma', L.dot(L.T))\n",
    "\n",
    "    mu = pm.Normal('mu', 0, 0.01, shape=2)\n",
    "#     mu = pm.Uniform('mu', -0.5, 0.5, shape=2)\n",
    "#     mu = pm.Normal('mu', 0., 0.01, shape=2, testval=new_values.mean(axis=0))\n",
    "    beta = pm.MvNormal('beta', mu=mu, chol=L, shape=(16, 2))\n",
    "    \n",
    "    alpha = tt.nnet.softmax(beta)\n",
    "    \n",
    "#     alphas = pm.Dirichlet('alphas', a=alpha, shape=(16, 2))\n",
    "\n",
    "    post = pm.Multinomial('post', n=np.sum(new_values, axis=1), p=alpha, observed=new_values)"
   ]
  },
  {
   "cell_type": "code",
   "execution_count": 102,
   "metadata": {},
   "outputs": [
    {
     "data": {
      "text/plain": [
       "packed_L_cholesky-cov-packed__     -1.71\n",
       "mu                                  7.37\n",
       "beta                              -29.41\n",
       "post                             -105.64\n",
       "Name: Log-probability of test_point, dtype: float64"
      ]
     },
     "execution_count": 102,
     "metadata": {},
     "output_type": "execute_result"
    }
   ],
   "source": [
    "model_hier.check_test_point()"
   ]
  },
  {
   "cell_type": "code",
   "execution_count": 24,
   "metadata": {},
   "outputs": [
    {
     "data": {
      "image/svg+xml": [
       "<?xml version=\"1.0\" encoding=\"UTF-8\" standalone=\"no\"?>\n",
       "<!DOCTYPE svg PUBLIC \"-//W3C//DTD SVG 1.1//EN\"\n",
       " \"http://www.w3.org/Graphics/SVG/1.1/DTD/svg11.dtd\">\n",
       "<!-- Generated by graphviz version 2.40.1 (20161225.0304)\n",
       " -->\n",
       "<!-- Title: %3 Pages: 1 -->\n",
       "<svg width=\"420pt\" height=\"257pt\"\n",
       " viewBox=\"0.00 0.00 420.00 257.00\" xmlns=\"http://www.w3.org/2000/svg\" xmlns:xlink=\"http://www.w3.org/1999/xlink\">\n",
       "<g id=\"graph0\" class=\"graph\" transform=\"scale(1 1) rotate(0) translate(4 253)\">\n",
       "<title>%3</title>\n",
       "<polygon fill=\"#ffffff\" stroke=\"transparent\" points=\"-4,4 -4,-253 416,-253 416,4 -4,4\"/>\n",
       "<g id=\"clust1\" class=\"cluster\">\n",
       "<title>cluster3</title>\n",
       "<path fill=\"none\" stroke=\"#000000\" d=\"M20,-166C20,-166 248,-166 248,-166 254,-166 260,-172 260,-178 260,-178 260,-229 260,-229 260,-235 254,-241 248,-241 248,-241 20,-241 20,-241 14,-241 8,-235 8,-229 8,-229 8,-178 8,-178 8,-172 14,-166 20,-166\"/>\n",
       "<text text-anchor=\"middle\" x=\"248.5\" y=\"-173.8\" font-family=\"Times,serif\" font-size=\"14.00\" fill=\"#000000\">3</text>\n",
       "</g>\n",
       "<g id=\"clust2\" class=\"cluster\">\n",
       "<title>cluster2 x 2</title>\n",
       "<path fill=\"none\" stroke=\"#000000\" d=\"M67,-83C67,-83 201,-83 201,-83 207,-83 213,-89 213,-95 213,-95 213,-146 213,-146 213,-152 207,-158 201,-158 201,-158 67,-158 67,-158 61,-158 55,-152 55,-146 55,-146 55,-95 55,-95 55,-89 61,-83 67,-83\"/>\n",
       "<text text-anchor=\"middle\" x=\"191\" y=\"-90.8\" font-family=\"Times,serif\" font-size=\"14.00\" fill=\"#000000\">2 x 2</text>\n",
       "</g>\n",
       "<g id=\"clust3\" class=\"cluster\">\n",
       "<title>cluster2</title>\n",
       "<path fill=\"none\" stroke=\"#000000\" d=\"M280,-166C280,-166 392,-166 392,-166 398,-166 404,-172 404,-178 404,-178 404,-229 404,-229 404,-235 398,-241 392,-241 392,-241 280,-241 280,-241 274,-241 268,-235 268,-229 268,-229 268,-178 268,-178 268,-172 274,-166 280,-166\"/>\n",
       "<text text-anchor=\"middle\" x=\"392.5\" y=\"-173.8\" font-family=\"Times,serif\" font-size=\"14.00\" fill=\"#000000\">2</text>\n",
       "</g>\n",
       "<g id=\"clust4\" class=\"cluster\">\n",
       "<title>cluster16 x 2</title>\n",
       "<path fill=\"none\" stroke=\"#000000\" d=\"M236,-8C236,-8 388,-8 388,-8 394,-8 400,-14 400,-20 400,-20 400,-146 400,-146 400,-152 394,-158 388,-158 388,-158 236,-158 236,-158 230,-158 224,-152 224,-146 224,-146 224,-20 224,-20 224,-14 230,-8 236,-8\"/>\n",
       "<text text-anchor=\"middle\" x=\"374.5\" y=\"-15.8\" font-family=\"Times,serif\" font-size=\"14.00\" fill=\"#000000\">16 x 2</text>\n",
       "</g>\n",
       "<!-- packed_L -->\n",
       "<g id=\"node1\" class=\"node\">\n",
       "<title>packed_L</title>\n",
       "<ellipse fill=\"none\" stroke=\"#000000\" cx=\"134\" cy=\"-215\" rx=\"118.0794\" ry=\"18\"/>\n",
       "<text text-anchor=\"middle\" x=\"134\" y=\"-211.3\" font-family=\"Times,serif\" font-size=\"14.00\" fill=\"#000000\">packed_L ~ LKJCholeskyCov</text>\n",
       "</g>\n",
       "<!-- Sigma -->\n",
       "<g id=\"node2\" class=\"node\">\n",
       "<title>Sigma</title>\n",
       "<polygon fill=\"none\" stroke=\"#000000\" points=\"204.5,-150 63.5,-150 63.5,-114 204.5,-114 204.5,-150\"/>\n",
       "<text text-anchor=\"middle\" x=\"134\" y=\"-128.3\" font-family=\"Times,serif\" font-size=\"14.00\" fill=\"#000000\">Sigma ~ Deterministic</text>\n",
       "</g>\n",
       "<!-- packed_L&#45;&gt;Sigma -->\n",
       "<g id=\"edge1\" class=\"edge\">\n",
       "<title>packed_L&#45;&gt;Sigma</title>\n",
       "<path fill=\"none\" stroke=\"#000000\" d=\"M134,-196.9902C134,-186.2963 134,-172.4994 134,-160.3706\"/>\n",
       "<polygon fill=\"#000000\" stroke=\"#000000\" points=\"137.5001,-160.2612 134,-150.2612 130.5001,-160.2613 137.5001,-160.2612\"/>\n",
       "</g>\n",
       "<!-- beta -->\n",
       "<g id=\"node5\" class=\"node\">\n",
       "<title>beta</title>\n",
       "<ellipse fill=\"none\" stroke=\"#000000\" cx=\"312\" cy=\"-132\" rx=\"75.2868\" ry=\"18\"/>\n",
       "<text text-anchor=\"middle\" x=\"312\" y=\"-128.3\" font-family=\"Times,serif\" font-size=\"14.00\" fill=\"#000000\">beta ~ MvNormal</text>\n",
       "</g>\n",
       "<!-- packed_L&#45;&gt;beta -->\n",
       "<g id=\"edge3\" class=\"edge\">\n",
       "<title>packed_L&#45;&gt;beta</title>\n",
       "<path fill=\"none\" stroke=\"#000000\" d=\"M170.8817,-197.8023C199.1827,-184.6058 238.3396,-166.3473 268.2281,-152.4105\"/>\n",
       "<polygon fill=\"#000000\" stroke=\"#000000\" points=\"269.9969,-155.4476 277.5809,-148.0493 267.0386,-149.1034 269.9969,-155.4476\"/>\n",
       "</g>\n",
       "<!-- mu -->\n",
       "<g id=\"node3\" class=\"node\">\n",
       "<title>mu</title>\n",
       "<ellipse fill=\"none\" stroke=\"#000000\" cx=\"336\" cy=\"-215\" rx=\"59.5901\" ry=\"18\"/>\n",
       "<text text-anchor=\"middle\" x=\"336\" y=\"-211.3\" font-family=\"Times,serif\" font-size=\"14.00\" fill=\"#000000\">mu ~ Normal</text>\n",
       "</g>\n",
       "<!-- mu&#45;&gt;beta -->\n",
       "<g id=\"edge2\" class=\"edge\">\n",
       "<title>mu&#45;&gt;beta</title>\n",
       "<path fill=\"none\" stroke=\"#000000\" d=\"M330.7924,-196.9902C327.6474,-186.1138 323.5742,-172.0276 320.0244,-159.7511\"/>\n",
       "<polygon fill=\"#000000\" stroke=\"#000000\" points=\"323.3376,-158.6088 317.1975,-149.9746 316.6131,-160.5533 323.3376,-158.6088\"/>\n",
       "</g>\n",
       "<!-- post -->\n",
       "<g id=\"node4\" class=\"node\">\n",
       "<title>post</title>\n",
       "<ellipse fill=\"#d3d3d3\" stroke=\"#000000\" cx=\"312\" cy=\"-57\" rx=\"79.8859\" ry=\"18\"/>\n",
       "<text text-anchor=\"middle\" x=\"312\" y=\"-53.3\" font-family=\"Times,serif\" font-size=\"14.00\" fill=\"#000000\">post ~ Multinomial</text>\n",
       "</g>\n",
       "<!-- beta&#45;&gt;post -->\n",
       "<g id=\"edge4\" class=\"edge\">\n",
       "<title>beta&#45;&gt;post</title>\n",
       "<path fill=\"none\" stroke=\"#000000\" d=\"M312,-113.8446C312,-105.3401 312,-95.0076 312,-85.4964\"/>\n",
       "<polygon fill=\"#000000\" stroke=\"#000000\" points=\"315.5001,-85.2481 312,-75.2482 308.5001,-85.2482 315.5001,-85.2481\"/>\n",
       "</g>\n",
       "</g>\n",
       "</svg>\n"
      ],
      "text/plain": [
       "<graphviz.dot.Digraph at 0x7fbeced0fa90>"
      ]
     },
     "execution_count": 24,
     "metadata": {},
     "output_type": "execute_result"
    }
   ],
   "source": [
    "pm.model_to_graphviz(model_hier)"
   ]
  },
  {
   "cell_type": "code",
   "execution_count": 103,
   "metadata": {},
   "outputs": [],
   "source": [
    "with model_hier:\n",
    "    prior_sample = pm.sample_prior_predictive(samples=5_000)"
   ]
  },
  {
   "cell_type": "code",
   "execution_count": 104,
   "metadata": {},
   "outputs": [
    {
     "data": {
      "image/png": "[encoded data removed]",
      "text/plain": [
       "<Figure size 576x432 with 1 Axes>"
      ]
     },
     "metadata": {},
     "output_type": "display_data"
    }
   ],
   "source": [
    "plt.figure(figsize=(8, 6))\n",
    "plt.plot(\n",
    "    prior_sample['mu'][:, 0], \n",
    "    prior_sample['mu'][:, 1], 'o', color='C7', alpha=0.8);"
   ]
  },
  {
   "cell_type": "code",
   "execution_count": 105,
   "metadata": {},
   "outputs": [
    {
     "data": {
      "image/png": "[encoded data removed]",
      "text/plain": [
       "<Figure size 576x432 with 1 Axes>"
      ]
     },
     "metadata": {},
     "output_type": "display_data"
    }
   ],
   "source": [
    "plt.figure(figsize=(8, 6))\n",
    "plt.plot(\n",
    "    prior_sample['beta'][:, 0], \n",
    "    prior_sample['beta'][:, 1], 'o', alpha=0.4);"
   ]
  },
  {
   "cell_type": "code",
   "execution_count": 106,
   "metadata": {},
   "outputs": [
    {
     "data": {
      "text/plain": [
       "array([0.89705107, 0.4222884 , 0.01865691, ..., 0.61285104, 0.3037912 ,\n",
       "       0.08469206])"
      ]
     },
     "execution_count": 106,
     "metadata": {},
     "output_type": "execute_result"
    }
   ],
   "source": [
    "softmax(prior_sample['beta'], axis=1)[:, 0]"
   ]
  },
  {
   "cell_type": "code",
   "execution_count": 107,
   "metadata": {},
   "outputs": [
    {
     "data": {
      "image/png": "[encoded data removed]",
      "text/plain": [
       "<Figure size 576x432 with 1 Axes>"
      ]
     },
     "metadata": {},
     "output_type": "display_data"
    }
   ],
   "source": [
    "plt.figure(figsize=(8, 6))\n",
    "plt.plot(\n",
    "    softmax(prior_sample['beta'], axis=1)[:, 0],\n",
    "    softmax(prior_sample['beta'], axis=1)[:, 1], 'o', color='xkcd:bluey purple', alpha=0.4);"
   ]
  },
  {
   "cell_type": "code",
   "execution_count": null,
   "metadata": {},
   "outputs": [],
   "source": []
  },
  {
   "cell_type": "code",
   "execution_count": null,
   "metadata": {},
   "outputs": [],
   "source": []
  },
  {
   "cell_type": "code",
   "execution_count": 108,
   "metadata": {},
   "outputs": [
    {
     "name": "stderr",
     "output_type": "stream",
     "text": [
      "Auto-assigning NUTS sampler...\n",
      "Initializing NUTS using jitter+adapt_diag...\n",
      "Multiprocess sampling (4 chains in 4 jobs)\n",
      "NUTS: [beta, mu, packed_L]\n",
      "Sampling 4 chains, 261 divergences: 100%|██████████| 24000/24000 [04:03<00:00, 98.74draws/s] \n",
      "There were 15 divergences after tuning. Increase `target_accept` or reparameterize.\n",
      "There were 26 divergences after tuning. Increase `target_accept` or reparameterize.\n",
      "There were 217 divergences after tuning. Increase `target_accept` or reparameterize.\n",
      "The acceptance probability does not match the target. It is 0.6731413512132158, but should be close to 0.9. Try to increase the number of tuning steps.\n",
      "There were 3 divergences after tuning. Increase `target_accept` or reparameterize.\n",
      "The rhat statistic is larger than 1.05 for some parameters. This indicates slight problems during sampling.\n",
      "The estimated number of effective samples is smaller than 200 for some parameters.\n"
     ]
    }
   ],
   "source": [
    "with model_hier:\n",
    "    trace_2 = pm.sample(draws=1_000, tune=5_000, target_accept=0.9)"
   ]
  },
  {
   "cell_type": "code",
   "execution_count": 109,
   "metadata": {},
   "outputs": [
    {
     "data": {
      "text/html": [
       "<div>\n",
       "<style scoped>\n",
       "    .dataframe tbody tr th:only-of-type {\n",
       "        vertical-align: middle;\n",
       "    }\n",
       "\n",
       "    .dataframe tbody tr th {\n",
       "        vertical-align: top;\n",
       "    }\n",
       "\n",
       "    .dataframe thead th {\n",
       "        text-align: right;\n",
       "    }\n",
       "</style>\n",
       "<table border=\"1\" class=\"dataframe\">\n",
       "  <thead>\n",
       "    <tr style=\"text-align: right;\">\n",
       "      <th></th>\n",
       "      <th>mean</th>\n",
       "      <th>sd</th>\n",
       "      <th>hpd_3%</th>\n",
       "      <th>hpd_97%</th>\n",
       "      <th>mcse_mean</th>\n",
       "      <th>mcse_sd</th>\n",
       "      <th>ess_mean</th>\n",
       "      <th>ess_sd</th>\n",
       "      <th>ess_bulk</th>\n",
       "      <th>ess_tail</th>\n",
       "      <th>r_hat</th>\n",
       "    </tr>\n",
       "  </thead>\n",
       "  <tbody>\n",
       "    <tr>\n",
       "      <th>mu[0]</th>\n",
       "      <td>-0.002</td>\n",
       "      <td>0.011</td>\n",
       "      <td>-0.022</td>\n",
       "      <td>0.016</td>\n",
       "      <td>0.001</td>\n",
       "      <td>0.001</td>\n",
       "      <td>115.0</td>\n",
       "      <td>115.0</td>\n",
       "      <td>121.0</td>\n",
       "      <td>2472.0</td>\n",
       "      <td>1.03</td>\n",
       "    </tr>\n",
       "    <tr>\n",
       "      <th>mu[1]</th>\n",
       "      <td>0.002</td>\n",
       "      <td>0.010</td>\n",
       "      <td>-0.017</td>\n",
       "      <td>0.020</td>\n",
       "      <td>0.000</td>\n",
       "      <td>0.000</td>\n",
       "      <td>768.0</td>\n",
       "      <td>768.0</td>\n",
       "      <td>786.0</td>\n",
       "      <td>2194.0</td>\n",
       "      <td>1.01</td>\n",
       "    </tr>\n",
       "    <tr>\n",
       "      <th>beta[0,0]</th>\n",
       "      <td>-0.457</td>\n",
       "      <td>0.489</td>\n",
       "      <td>-1.347</td>\n",
       "      <td>0.300</td>\n",
       "      <td>0.066</td>\n",
       "      <td>0.047</td>\n",
       "      <td>56.0</td>\n",
       "      <td>56.0</td>\n",
       "      <td>61.0</td>\n",
       "      <td>142.0</td>\n",
       "      <td>1.05</td>\n",
       "    </tr>\n",
       "    <tr>\n",
       "      <th>beta[0,1]</th>\n",
       "      <td>0.374</td>\n",
       "      <td>0.466</td>\n",
       "      <td>-0.410</td>\n",
       "      <td>1.272</td>\n",
       "      <td>0.034</td>\n",
       "      <td>0.024</td>\n",
       "      <td>183.0</td>\n",
       "      <td>183.0</td>\n",
       "      <td>160.0</td>\n",
       "      <td>1617.0</td>\n",
       "      <td>1.03</td>\n",
       "    </tr>\n",
       "    <tr>\n",
       "      <th>beta[1,0]</th>\n",
       "      <td>-0.284</td>\n",
       "      <td>0.376</td>\n",
       "      <td>-0.986</td>\n",
       "      <td>0.391</td>\n",
       "      <td>0.021</td>\n",
       "      <td>0.015</td>\n",
       "      <td>324.0</td>\n",
       "      <td>324.0</td>\n",
       "      <td>276.0</td>\n",
       "      <td>1405.0</td>\n",
       "      <td>1.02</td>\n",
       "    </tr>\n",
       "    <tr>\n",
       "      <th>beta[1,1]</th>\n",
       "      <td>0.234</td>\n",
       "      <td>0.372</td>\n",
       "      <td>-0.418</td>\n",
       "      <td>0.952</td>\n",
       "      <td>0.020</td>\n",
       "      <td>0.014</td>\n",
       "      <td>363.0</td>\n",
       "      <td>363.0</td>\n",
       "      <td>349.0</td>\n",
       "      <td>1316.0</td>\n",
       "      <td>1.02</td>\n",
       "    </tr>\n",
       "    <tr>\n",
       "      <th>beta[2,0]</th>\n",
       "      <td>-0.252</td>\n",
       "      <td>0.351</td>\n",
       "      <td>-0.865</td>\n",
       "      <td>0.404</td>\n",
       "      <td>0.016</td>\n",
       "      <td>0.011</td>\n",
       "      <td>480.0</td>\n",
       "      <td>480.0</td>\n",
       "      <td>391.0</td>\n",
       "      <td>1437.0</td>\n",
       "      <td>1.01</td>\n",
       "    </tr>\n",
       "    <tr>\n",
       "      <th>beta[2,1]</th>\n",
       "      <td>0.221</td>\n",
       "      <td>0.352</td>\n",
       "      <td>-0.398</td>\n",
       "      <td>0.881</td>\n",
       "      <td>0.017</td>\n",
       "      <td>0.012</td>\n",
       "      <td>412.0</td>\n",
       "      <td>412.0</td>\n",
       "      <td>281.0</td>\n",
       "      <td>1412.0</td>\n",
       "      <td>1.02</td>\n",
       "    </tr>\n",
       "    <tr>\n",
       "      <th>beta[3,0]</th>\n",
       "      <td>-0.342</td>\n",
       "      <td>0.386</td>\n",
       "      <td>-1.065</td>\n",
       "      <td>0.362</td>\n",
       "      <td>0.023</td>\n",
       "      <td>0.016</td>\n",
       "      <td>285.0</td>\n",
       "      <td>285.0</td>\n",
       "      <td>272.0</td>\n",
       "      <td>1259.0</td>\n",
       "      <td>1.02</td>\n",
       "    </tr>\n",
       "    <tr>\n",
       "      <th>beta[3,1]</th>\n",
       "      <td>0.284</td>\n",
       "      <td>0.393</td>\n",
       "      <td>-0.380</td>\n",
       "      <td>1.058</td>\n",
       "      <td>0.026</td>\n",
       "      <td>0.018</td>\n",
       "      <td>231.0</td>\n",
       "      <td>231.0</td>\n",
       "      <td>176.0</td>\n",
       "      <td>1405.0</td>\n",
       "      <td>1.02</td>\n",
       "    </tr>\n",
       "    <tr>\n",
       "      <th>beta[4,0]</th>\n",
       "      <td>-0.293</td>\n",
       "      <td>0.391</td>\n",
       "      <td>-1.045</td>\n",
       "      <td>0.349</td>\n",
       "      <td>0.029</td>\n",
       "      <td>0.020</td>\n",
       "      <td>183.0</td>\n",
       "      <td>183.0</td>\n",
       "      <td>165.0</td>\n",
       "      <td>1158.0</td>\n",
       "      <td>1.02</td>\n",
       "    </tr>\n",
       "    <tr>\n",
       "      <th>beta[4,1]</th>\n",
       "      <td>0.255</td>\n",
       "      <td>0.383</td>\n",
       "      <td>-0.402</td>\n",
       "      <td>1.005</td>\n",
       "      <td>0.021</td>\n",
       "      <td>0.015</td>\n",
       "      <td>322.0</td>\n",
       "      <td>322.0</td>\n",
       "      <td>242.0</td>\n",
       "      <td>1566.0</td>\n",
       "      <td>1.02</td>\n",
       "    </tr>\n",
       "    <tr>\n",
       "      <th>beta[5,0]</th>\n",
       "      <td>-0.286</td>\n",
       "      <td>0.362</td>\n",
       "      <td>-0.956</td>\n",
       "      <td>0.341</td>\n",
       "      <td>0.035</td>\n",
       "      <td>0.025</td>\n",
       "      <td>106.0</td>\n",
       "      <td>106.0</td>\n",
       "      <td>95.0</td>\n",
       "      <td>764.0</td>\n",
       "      <td>1.03</td>\n",
       "    </tr>\n",
       "    <tr>\n",
       "      <th>beta[5,1]</th>\n",
       "      <td>0.246</td>\n",
       "      <td>0.355</td>\n",
       "      <td>-0.331</td>\n",
       "      <td>0.962</td>\n",
       "      <td>0.024</td>\n",
       "      <td>0.017</td>\n",
       "      <td>214.0</td>\n",
       "      <td>214.0</td>\n",
       "      <td>152.0</td>\n",
       "      <td>1574.0</td>\n",
       "      <td>1.02</td>\n",
       "    </tr>\n",
       "    <tr>\n",
       "      <th>beta[6,0]</th>\n",
       "      <td>-0.216</td>\n",
       "      <td>0.321</td>\n",
       "      <td>-0.877</td>\n",
       "      <td>0.331</td>\n",
       "      <td>0.013</td>\n",
       "      <td>0.009</td>\n",
       "      <td>635.0</td>\n",
       "      <td>635.0</td>\n",
       "      <td>531.0</td>\n",
       "      <td>971.0</td>\n",
       "      <td>1.04</td>\n",
       "    </tr>\n",
       "    <tr>\n",
       "      <th>beta[6,1]</th>\n",
       "      <td>0.194</td>\n",
       "      <td>0.327</td>\n",
       "      <td>-0.383</td>\n",
       "      <td>0.847</td>\n",
       "      <td>0.017</td>\n",
       "      <td>0.012</td>\n",
       "      <td>373.0</td>\n",
       "      <td>373.0</td>\n",
       "      <td>321.0</td>\n",
       "      <td>1381.0</td>\n",
       "      <td>1.02</td>\n",
       "    </tr>\n",
       "    <tr>\n",
       "      <th>beta[7,0]</th>\n",
       "      <td>-0.194</td>\n",
       "      <td>0.306</td>\n",
       "      <td>-0.742</td>\n",
       "      <td>0.381</td>\n",
       "      <td>0.030</td>\n",
       "      <td>0.021</td>\n",
       "      <td>106.0</td>\n",
       "      <td>106.0</td>\n",
       "      <td>86.0</td>\n",
       "      <td>1025.0</td>\n",
       "      <td>1.03</td>\n",
       "    </tr>\n",
       "    <tr>\n",
       "      <th>beta[7,1]</th>\n",
       "      <td>0.158</td>\n",
       "      <td>0.298</td>\n",
       "      <td>-0.353</td>\n",
       "      <td>0.763</td>\n",
       "      <td>0.014</td>\n",
       "      <td>0.010</td>\n",
       "      <td>461.0</td>\n",
       "      <td>461.0</td>\n",
       "      <td>275.0</td>\n",
       "      <td>1472.0</td>\n",
       "      <td>1.02</td>\n",
       "    </tr>\n",
       "    <tr>\n",
       "      <th>beta[8,0]</th>\n",
       "      <td>-0.106</td>\n",
       "      <td>0.347</td>\n",
       "      <td>-0.815</td>\n",
       "      <td>0.515</td>\n",
       "      <td>0.008</td>\n",
       "      <td>0.008</td>\n",
       "      <td>1727.0</td>\n",
       "      <td>991.0</td>\n",
       "      <td>1283.0</td>\n",
       "      <td>1540.0</td>\n",
       "      <td>1.02</td>\n",
       "    </tr>\n",
       "    <tr>\n",
       "      <th>beta[8,1]</th>\n",
       "      <td>0.103</td>\n",
       "      <td>0.352</td>\n",
       "      <td>-0.529</td>\n",
       "      <td>0.830</td>\n",
       "      <td>0.008</td>\n",
       "      <td>0.008</td>\n",
       "      <td>1758.0</td>\n",
       "      <td>918.0</td>\n",
       "      <td>1493.0</td>\n",
       "      <td>1518.0</td>\n",
       "      <td>1.03</td>\n",
       "    </tr>\n",
       "    <tr>\n",
       "      <th>beta[9,0]</th>\n",
       "      <td>-0.259</td>\n",
       "      <td>0.364</td>\n",
       "      <td>-0.900</td>\n",
       "      <td>0.330</td>\n",
       "      <td>0.043</td>\n",
       "      <td>0.031</td>\n",
       "      <td>71.0</td>\n",
       "      <td>71.0</td>\n",
       "      <td>68.0</td>\n",
       "      <td>656.0</td>\n",
       "      <td>1.04</td>\n",
       "    </tr>\n",
       "    <tr>\n",
       "      <th>beta[9,1]</th>\n",
       "      <td>0.210</td>\n",
       "      <td>0.345</td>\n",
       "      <td>-0.370</td>\n",
       "      <td>0.879</td>\n",
       "      <td>0.019</td>\n",
       "      <td>0.013</td>\n",
       "      <td>331.0</td>\n",
       "      <td>331.0</td>\n",
       "      <td>252.0</td>\n",
       "      <td>1228.0</td>\n",
       "      <td>1.02</td>\n",
       "    </tr>\n",
       "    <tr>\n",
       "      <th>beta[10,0]</th>\n",
       "      <td>-0.237</td>\n",
       "      <td>0.356</td>\n",
       "      <td>-0.953</td>\n",
       "      <td>0.374</td>\n",
       "      <td>0.014</td>\n",
       "      <td>0.010</td>\n",
       "      <td>655.0</td>\n",
       "      <td>655.0</td>\n",
       "      <td>429.0</td>\n",
       "      <td>1417.0</td>\n",
       "      <td>1.01</td>\n",
       "    </tr>\n",
       "    <tr>\n",
       "      <th>beta[10,1]</th>\n",
       "      <td>0.208</td>\n",
       "      <td>0.358</td>\n",
       "      <td>-0.411</td>\n",
       "      <td>0.901</td>\n",
       "      <td>0.018</td>\n",
       "      <td>0.013</td>\n",
       "      <td>381.0</td>\n",
       "      <td>381.0</td>\n",
       "      <td>268.0</td>\n",
       "      <td>1512.0</td>\n",
       "      <td>1.02</td>\n",
       "    </tr>\n",
       "    <tr>\n",
       "      <th>beta[11,0]</th>\n",
       "      <td>-0.201</td>\n",
       "      <td>0.315</td>\n",
       "      <td>-0.766</td>\n",
       "      <td>0.390</td>\n",
       "      <td>0.019</td>\n",
       "      <td>0.013</td>\n",
       "      <td>277.0</td>\n",
       "      <td>277.0</td>\n",
       "      <td>179.0</td>\n",
       "      <td>1514.0</td>\n",
       "      <td>1.02</td>\n",
       "    </tr>\n",
       "    <tr>\n",
       "      <th>beta[11,1]</th>\n",
       "      <td>0.175</td>\n",
       "      <td>0.313</td>\n",
       "      <td>-0.390</td>\n",
       "      <td>0.765</td>\n",
       "      <td>0.014</td>\n",
       "      <td>0.010</td>\n",
       "      <td>471.0</td>\n",
       "      <td>471.0</td>\n",
       "      <td>228.0</td>\n",
       "      <td>1435.0</td>\n",
       "      <td>1.02</td>\n",
       "    </tr>\n",
       "    <tr>\n",
       "      <th>beta[12,0]</th>\n",
       "      <td>-0.261</td>\n",
       "      <td>0.361</td>\n",
       "      <td>-0.976</td>\n",
       "      <td>0.388</td>\n",
       "      <td>0.018</td>\n",
       "      <td>0.013</td>\n",
       "      <td>387.0</td>\n",
       "      <td>387.0</td>\n",
       "      <td>320.0</td>\n",
       "      <td>1358.0</td>\n",
       "      <td>1.01</td>\n",
       "    </tr>\n",
       "    <tr>\n",
       "      <th>beta[12,1]</th>\n",
       "      <td>0.223</td>\n",
       "      <td>0.359</td>\n",
       "      <td>-0.407</td>\n",
       "      <td>0.973</td>\n",
       "      <td>0.020</td>\n",
       "      <td>0.014</td>\n",
       "      <td>338.0</td>\n",
       "      <td>338.0</td>\n",
       "      <td>307.0</td>\n",
       "      <td>1609.0</td>\n",
       "      <td>1.01</td>\n",
       "    </tr>\n",
       "    <tr>\n",
       "      <th>beta[13,0]</th>\n",
       "      <td>-0.178</td>\n",
       "      <td>0.322</td>\n",
       "      <td>-0.798</td>\n",
       "      <td>0.399</td>\n",
       "      <td>0.011</td>\n",
       "      <td>0.008</td>\n",
       "      <td>904.0</td>\n",
       "      <td>811.0</td>\n",
       "      <td>669.0</td>\n",
       "      <td>1168.0</td>\n",
       "      <td>1.01</td>\n",
       "    </tr>\n",
       "    <tr>\n",
       "      <th>beta[13,1]</th>\n",
       "      <td>0.165</td>\n",
       "      <td>0.323</td>\n",
       "      <td>-0.382</td>\n",
       "      <td>0.817</td>\n",
       "      <td>0.012</td>\n",
       "      <td>0.009</td>\n",
       "      <td>710.0</td>\n",
       "      <td>629.0</td>\n",
       "      <td>497.0</td>\n",
       "      <td>1371.0</td>\n",
       "      <td>1.01</td>\n",
       "    </tr>\n",
       "    <tr>\n",
       "      <th>beta[14,0]</th>\n",
       "      <td>-0.220</td>\n",
       "      <td>0.332</td>\n",
       "      <td>-0.779</td>\n",
       "      <td>0.432</td>\n",
       "      <td>0.026</td>\n",
       "      <td>0.019</td>\n",
       "      <td>159.0</td>\n",
       "      <td>159.0</td>\n",
       "      <td>126.0</td>\n",
       "      <td>1193.0</td>\n",
       "      <td>1.02</td>\n",
       "    </tr>\n",
       "    <tr>\n",
       "      <th>beta[14,1]</th>\n",
       "      <td>0.176</td>\n",
       "      <td>0.326</td>\n",
       "      <td>-0.378</td>\n",
       "      <td>0.867</td>\n",
       "      <td>0.016</td>\n",
       "      <td>0.011</td>\n",
       "      <td>441.0</td>\n",
       "      <td>441.0</td>\n",
       "      <td>228.0</td>\n",
       "      <td>1225.0</td>\n",
       "      <td>1.02</td>\n",
       "    </tr>\n",
       "    <tr>\n",
       "      <th>beta[15,0]</th>\n",
       "      <td>-0.214</td>\n",
       "      <td>0.320</td>\n",
       "      <td>-0.843</td>\n",
       "      <td>0.324</td>\n",
       "      <td>0.020</td>\n",
       "      <td>0.014</td>\n",
       "      <td>265.0</td>\n",
       "      <td>265.0</td>\n",
       "      <td>189.0</td>\n",
       "      <td>1440.0</td>\n",
       "      <td>1.02</td>\n",
       "    </tr>\n",
       "    <tr>\n",
       "      <th>beta[15,1]</th>\n",
       "      <td>0.173</td>\n",
       "      <td>0.321</td>\n",
       "      <td>-0.421</td>\n",
       "      <td>0.781</td>\n",
       "      <td>0.014</td>\n",
       "      <td>0.010</td>\n",
       "      <td>516.0</td>\n",
       "      <td>516.0</td>\n",
       "      <td>396.0</td>\n",
       "      <td>1720.0</td>\n",
       "      <td>1.01</td>\n",
       "    </tr>\n",
       "  </tbody>\n",
       "</table>\n",
       "</div>"
      ],
      "text/plain": [
       "             mean     sd  hpd_3%  hpd_97%  mcse_mean  mcse_sd  ess_mean  \\\n",
       "mu[0]      -0.002  0.011  -0.022    0.016      0.001    0.001     115.0   \n",
       "mu[1]       0.002  0.010  -0.017    0.020      0.000    0.000     768.0   \n",
       "beta[0,0]  -0.457  0.489  -1.347    0.300      0.066    0.047      56.0   \n",
       "beta[0,1]   0.374  0.466  -0.410    1.272      0.034    0.024     183.0   \n",
       "beta[1,0]  -0.284  0.376  -0.986    0.391      0.021    0.015     324.0   \n",
       "beta[1,1]   0.234  0.372  -0.418    0.952      0.020    0.014     363.0   \n",
       "beta[2,0]  -0.252  0.351  -0.865    0.404      0.016    0.011     480.0   \n",
       "beta[2,1]   0.221  0.352  -0.398    0.881      0.017    0.012     412.0   \n",
       "beta[3,0]  -0.342  0.386  -1.065    0.362      0.023    0.016     285.0   \n",
       "beta[3,1]   0.284  0.393  -0.380    1.058      0.026    0.018     231.0   \n",
       "beta[4,0]  -0.293  0.391  -1.045    0.349      0.029    0.020     183.0   \n",
       "beta[4,1]   0.255  0.383  -0.402    1.005      0.021    0.015     322.0   \n",
       "beta[5,0]  -0.286  0.362  -0.956    0.341      0.035    0.025     106.0   \n",
       "beta[5,1]   0.246  0.355  -0.331    0.962      0.024    0.017     214.0   \n",
       "beta[6,0]  -0.216  0.321  -0.877    0.331      0.013    0.009     635.0   \n",
       "beta[6,1]   0.194  0.327  -0.383    0.847      0.017    0.012     373.0   \n",
       "beta[7,0]  -0.194  0.306  -0.742    0.381      0.030    0.021     106.0   \n",
       "beta[7,1]   0.158  0.298  -0.353    0.763      0.014    0.010     461.0   \n",
       "beta[8,0]  -0.106  0.347  -0.815    0.515      0.008    0.008    1727.0   \n",
       "beta[8,1]   0.103  0.352  -0.529    0.830      0.008    0.008    1758.0   \n",
       "beta[9,0]  -0.259  0.364  -0.900    0.330      0.043    0.031      71.0   \n",
       "beta[9,1]   0.210  0.345  -0.370    0.879      0.019    0.013     331.0   \n",
       "beta[10,0] -0.237  0.356  -0.953    0.374      0.014    0.010     655.0   \n",
       "beta[10,1]  0.208  0.358  -0.411    0.901      0.018    0.013     381.0   \n",
       "beta[11,0] -0.201  0.315  -0.766    0.390      0.019    0.013     277.0   \n",
       "beta[11,1]  0.175  0.313  -0.390    0.765      0.014    0.010     471.0   \n",
       "beta[12,0] -0.261  0.361  -0.976    0.388      0.018    0.013     387.0   \n",
       "beta[12,1]  0.223  0.359  -0.407    0.973      0.020    0.014     338.0   \n",
       "beta[13,0] -0.178  0.322  -0.798    0.399      0.011    0.008     904.0   \n",
       "beta[13,1]  0.165  0.323  -0.382    0.817      0.012    0.009     710.0   \n",
       "beta[14,0] -0.220  0.332  -0.779    0.432      0.026    0.019     159.0   \n",
       "beta[14,1]  0.176  0.326  -0.378    0.867      0.016    0.011     441.0   \n",
       "beta[15,0] -0.214  0.320  -0.843    0.324      0.020    0.014     265.0   \n",
       "beta[15,1]  0.173  0.321  -0.421    0.781      0.014    0.010     516.0   \n",
       "\n",
       "            ess_sd  ess_bulk  ess_tail  r_hat  \n",
       "mu[0]        115.0     121.0    2472.0   1.03  \n",
       "mu[1]        768.0     786.0    2194.0   1.01  \n",
       "beta[0,0]     56.0      61.0     142.0   1.05  \n",
       "beta[0,1]    183.0     160.0    1617.0   1.03  \n",
       "beta[1,0]    324.0     276.0    1405.0   1.02  \n",
       "beta[1,1]    363.0     349.0    1316.0   1.02  \n",
       "beta[2,0]    480.0     391.0    1437.0   1.01  \n",
       "beta[2,1]    412.0     281.0    1412.0   1.02  \n",
       "beta[3,0]    285.0     272.0    1259.0   1.02  \n",
       "beta[3,1]    231.0     176.0    1405.0   1.02  \n",
       "beta[4,0]    183.0     165.0    1158.0   1.02  \n",
       "beta[4,1]    322.0     242.0    1566.0   1.02  \n",
       "beta[5,0]    106.0      95.0     764.0   1.03  \n",
       "beta[5,1]    214.0     152.0    1574.0   1.02  \n",
       "beta[6,0]    635.0     531.0     971.0   1.04  \n",
       "beta[6,1]    373.0     321.0    1381.0   1.02  \n",
       "beta[7,0]    106.0      86.0    1025.0   1.03  \n",
       "beta[7,1]    461.0     275.0    1472.0   1.02  \n",
       "beta[8,0]    991.0    1283.0    1540.0   1.02  \n",
       "beta[8,1]    918.0    1493.0    1518.0   1.03  \n",
       "beta[9,0]     71.0      68.0     656.0   1.04  \n",
       "beta[9,1]    331.0     252.0    1228.0   1.02  \n",
       "beta[10,0]   655.0     429.0    1417.0   1.01  \n",
       "beta[10,1]   381.0     268.0    1512.0   1.02  \n",
       "beta[11,0]   277.0     179.0    1514.0   1.02  \n",
       "beta[11,1]   471.0     228.0    1435.0   1.02  \n",
       "beta[12,0]   387.0     320.0    1358.0   1.01  \n",
       "beta[12,1]   338.0     307.0    1609.0   1.01  \n",
       "beta[13,0]   811.0     669.0    1168.0   1.01  \n",
       "beta[13,1]   629.0     497.0    1371.0   1.01  \n",
       "beta[14,0]   159.0     126.0    1193.0   1.02  \n",
       "beta[14,1]   441.0     228.0    1225.0   1.02  \n",
       "beta[15,0]   265.0     189.0    1440.0   1.02  \n",
       "beta[15,1]   516.0     396.0    1720.0   1.01  "
      ]
     },
     "execution_count": 109,
     "metadata": {},
     "output_type": "execute_result"
    }
   ],
   "source": [
    "arviz.summary(trace_2, var_names=['mu', 'beta'])"
   ]
  },
  {
   "cell_type": "code",
   "execution_count": 110,
   "metadata": {},
   "outputs": [
    {
     "data": {
      "image/png": "[encoded data removed]",
      "text/plain": [
       "<Figure size 864x144 with 2 Axes>"
      ]
     },
     "metadata": {},
     "output_type": "display_data"
    }
   ],
   "source": [
    "pm.traceplot(trace_2, var_names=['mu']);\n",
    "# arviz.plot_trace(trace_2, var_names=['mu']);"
   ]
  },
  {
   "cell_type": "code",
   "execution_count": 111,
   "metadata": {},
   "outputs": [
    {
     "data": {
      "text/plain": [
       "array([0.49950145, 0.50053649])"
      ]
     },
     "execution_count": 111,
     "metadata": {},
     "output_type": "execute_result"
    }
   ],
   "source": [
    "logistic(trace_2['mu'].mean(axis=0))"
   ]
  },
  {
   "cell_type": "markdown",
   "metadata": {},
   "source": [
    "If you want to check the covariance matrix"
   ]
  },
  {
   "cell_type": "code",
   "execution_count": 112,
   "metadata": {},
   "outputs": [],
   "source": [
    "matrix_s = trace_2['Sigma'].mean(axis=0)"
   ]
  },
  {
   "cell_type": "code",
   "execution_count": 113,
   "metadata": {},
   "outputs": [
    {
     "data": {
      "text/plain": [
       "array([[0.24829784, 0.04870112],\n",
       "       [0.04870112, 0.20169156]])"
      ]
     },
     "execution_count": 113,
     "metadata": {},
     "output_type": "execute_result"
    }
   ],
   "source": [
    "matrix_s"
   ]
  },
  {
   "cell_type": "markdown",
   "metadata": {},
   "source": [
    "From that, you get $\\tau_1$ and $\\tau_2$"
   ]
  },
  {
   "cell_type": "code",
   "execution_count": 114,
   "metadata": {},
   "outputs": [
    {
     "name": "stdout",
     "output_type": "stream",
     "text": [
      "0.4982949349217773 0.4491008335858505\n"
     ]
    }
   ],
   "source": [
    "tau1, tau2 = np.sqrt(matrix_s[0, 0]), np.sqrt(matrix_s[1, 1])\n",
    "print(tau1, tau2)"
   ]
  },
  {
   "cell_type": "markdown",
   "metadata": {},
   "source": [
    "And then $\\rho$"
   ]
  },
  {
   "cell_type": "code",
   "execution_count": 115,
   "metadata": {},
   "outputs": [],
   "source": [
    "rho = matrix_s[1, 0] / (tau1 * tau2)"
   ]
  },
  {
   "cell_type": "code",
   "execution_count": 116,
   "metadata": {},
   "outputs": [
    {
     "data": {
      "text/plain": [
       "0.21762489903736582"
      ]
     },
     "execution_count": 116,
     "metadata": {},
     "output_type": "execute_result"
    }
   ],
   "source": [
    "rho"
   ]
  },
  {
   "cell_type": "markdown",
   "metadata": {},
   "source": [
    "Now, the goal is to reproduce the figure 8.1 (b)."
   ]
  },
  {
   "cell_type": "code",
   "execution_count": 117,
   "metadata": {},
   "outputs": [
    {
     "name": "stderr",
     "output_type": "stream",
     "text": [
      "100%|██████████| 4000/4000 [00:00<00:00, 19663.07it/s]\n"
     ]
    }
   ],
   "source": [
    "with model_hier:\n",
    "    ppc_hier = pm.sample_posterior_predictive(trace_2, var_names=['beta'])\n",
    "    \n",
    "ppc_hier['beta'] = softmax(ppc_hier['beta'], axis=2)"
   ]
  },
  {
   "cell_type": "code",
   "execution_count": 121,
   "metadata": {},
   "outputs": [
    {
     "name": "stdout",
     "output_type": "stream",
     "text": [
      "[[0.33582516 0.66417484]\n",
      " [0.36164233 0.63835767]\n",
      " [0.3054917  0.6945083 ]\n",
      " [0.3391067  0.6608933 ]\n",
      " [0.31359315 0.68640685]\n",
      " [0.28545371 0.71454629]\n",
      " [0.25450457 0.74549543]\n",
      " [0.29067865 0.70932135]\n",
      " [0.24731029 0.75268971]\n",
      " [0.28260285 0.71739715]\n",
      " [0.29444538 0.70555462]\n",
      " [0.26837252 0.73162748]\n",
      " [0.26837252 0.73162748]\n",
      " [0.26837252 0.73162748]\n",
      " [0.26837252 0.73162748]]\n"
     ]
    }
   ],
   "source": [
    "print(ppc_hier['beta'][:15, 0, :])"
   ]
  },
  {
   "cell_type": "code",
   "execution_count": 122,
   "metadata": {},
   "outputs": [
    {
     "data": {
      "text/plain": [
       "(4000, 16, 2)"
      ]
     },
     "execution_count": 122,
     "metadata": {},
     "output_type": "execute_result"
    }
   ],
   "source": [
    "ppc_hier['beta'].shape"
   ]
  },
  {
   "cell_type": "code",
   "execution_count": 123,
   "metadata": {},
   "outputs": [
    {
     "data": {
      "text/plain": [
       "array([0.3255814 , 0.51111111, 0.53061224, 0.47058824, 0.45238095,\n",
       "       0.5       , 0.56730769, 0.62015504, 0.66666667, 0.53571429,\n",
       "       0.56043956, 0.61212121, 0.51515152, 0.60294118, 0.59292035,\n",
       "       0.60526316])"
      ]
     },
     "execution_count": 123,
     "metadata": {},
     "output_type": "execute_result"
    }
   ],
   "source": [
    "values[:, 0] / (values[:, 0] + values[:, 1])"
   ]
  },
  {
   "cell_type": "markdown",
   "metadata": {},
   "source": [
    "Remember that from \n",
    "\n",
    "\\begin{align}\n",
    "    \\alpha_{1j} &= \\dfrac{\\theta_{1j}}{\\theta_{1j} + \\theta_{2j}} \\\\\n",
    "    \\alpha_{2j} &= 1 - \\theta_{3j}\n",
    "\\end{align}\n",
    "\n",
    "you can get $\\theta_{1j}$ and $\\theta_{2j}$"
   ]
  },
  {
   "cell_type": "code",
   "execution_count": 124,
   "metadata": {},
   "outputs": [],
   "source": [
    "th1 = []\n",
    "\n",
    "for i in range(16):\n",
    "    result1 =  2 * ppc_hier['beta'][:, i, 0] * ppc_hier['beta'][:, i, 1] - ppc_hier['beta'][:, i, 1] \n",
    "#     result1 = - 2 * ppc_hier['alphas'][:, i, 0] * ppc_hier['alphas'][:, i, 1] + ppc_hier['alphas'][:, i, 1] \n",
    "    th1.append(list(result1))"
   ]
  },
  {
   "cell_type": "code",
   "execution_count": 125,
   "metadata": {},
   "outputs": [],
   "source": [
    "th1 = np.asarray(th1)\n",
    "th1.shape\n",
    "th1 = th1.T"
   ]
  },
  {
   "cell_type": "code",
   "execution_count": 126,
   "metadata": {},
   "outputs": [
    {
     "data": {
      "text/plain": [
       "array([[-0.2180816 , -0.2583519 , -0.23294731, ..., -0.07233225,\n",
       "        -0.09611557, -0.11400131],\n",
       "       [-0.17664335, -0.18725471, -0.13093216, ..., -0.02297447,\n",
       "        -0.17385674, -0.13187119],\n",
       "       [-0.27017526, -0.11269503, -0.09072602, ..., -0.13748094,\n",
       "        -0.0858593 , -0.17488378],\n",
       "       ...,\n",
       "       [-0.15250138, -0.02704045, -0.06015266, ..., -0.1388382 ,\n",
       "        -0.07947211, -0.10776233],\n",
       "       [-0.41835618, -0.23290852, -0.24437551, ..., -0.05594035,\n",
       "        -0.14824358, -0.08808137],\n",
       "       [-0.38614573, -0.22197272, -0.23666338, ..., -0.12101195,\n",
       "        -0.15251382, -0.0698187 ]])"
      ]
     },
     "execution_count": 126,
     "metadata": {},
     "output_type": "execute_result"
    }
   ],
   "source": [
    "th1"
   ]
  },
  {
   "cell_type": "code",
   "execution_count": 127,
   "metadata": {},
   "outputs": [
    {
     "data": {
      "text/plain": [
       "array([-0.13382952, -0.12666883, -0.11288486, -0.1406659 , -0.13906812,\n",
       "       -0.12450764, -0.13903533, -0.13287531, -0.12785005, -0.15845967,\n",
       "       -0.15170453, -0.15352308, -0.15352308, -0.15352308, -0.15352308])"
      ]
     },
     "execution_count": 127,
     "metadata": {},
     "output_type": "execute_result"
    }
   ],
   "source": [
    "result2 = np.sum(th1 * proportion / np.sum(proportion), axis=1)\n",
    "result2[:15]"
   ]
  },
  {
   "cell_type": "code",
   "execution_count": 128,
   "metadata": {},
   "outputs": [
    {
     "data": {
      "image/png": "[encoded data removed]",
      "text/plain": [
       "<Figure size 720x432 with 1 Axes>"
      ]
     },
     "metadata": {},
     "output_type": "display_data"
    }
   ],
   "source": [
    "plt.figure(figsize=(10, 6))\n",
    "_, _, _ = plt.hist(result2 , bins=18, edgecolor='w', density=True)\n",
    "#plt.xlim(0.09, .16)\n",
    "plt.yticks([]);"
   ]
  },
  {
   "cell_type": "markdown",
   "metadata": {},
   "source": [
    "As you can see, the figure is quite similar, except that there is a minus sing. The next step would be the model checking, but it would be pointless (you could do it) and the results would not be right."
   ]
  },
  {
   "cell_type": "code",
   "execution_count": 82,
   "metadata": {},
   "outputs": [
    {
     "data": {
      "image/png": "[encoded data removed]",
      "text/plain": [
       "<Figure size 720x432 with 1 Axes>"
      ]
     },
     "metadata": {},
     "output_type": "display_data"
    }
   ],
   "source": [
    "plt.figure(figsize=(10, 6))\n",
    "_, _, _ = plt.hist(-result2 , bins=20, edgecolor='w', density=True) # With a minus\n",
    "plt.yticks([]);"
   ]
  },
  {
   "cell_type": "markdown",
   "metadata": {},
   "source": [
    "Why? I don't know, nevertheless, it is really weird."
   ]
  },
  {
   "cell_type": "code",
   "execution_count": 93,
   "metadata": {},
   "outputs": [],
   "source": [
    "%load_ext watermark"
   ]
  },
  {
   "cell_type": "code",
   "execution_count": 94,
   "metadata": {},
   "outputs": [
    {
     "name": "stdout",
     "output_type": "stream",
     "text": [
      "numpy   1.18.1\n",
      "pandas  1.0.1\n",
      "pymc3   3.8\n",
      "seaborn 0.10.0\n",
      "arviz   0.7.0\n",
      "CPython 3.7.6\n",
      "IPython 7.12.0\n",
      "\n",
      "theano 1.0.4\n",
      "scipy 1.4.1\n",
      "matplotlib 3.1.3\n",
      "\n",
      "compiler   : GCC 7.3.0\n",
      "system     : Linux\n",
      "release    : 4.15.0-91-generic\n",
      "machine    : x86_64\n",
      "processor  : x86_64\n",
      "CPU cores  : 8\n",
      "interpreter: 64bit\n"
     ]
    }
   ],
   "source": [
    "%watermark -iv -v -p theano,scipy,matplotlib -m"
   ]
  },
  {
   "cell_type": "markdown",
   "metadata": {},
   "source": [
    "## **With pystan**"
   ]
  },
  {
   "cell_type": "markdown",
   "metadata": {},
   "source": [
    "This section is to reproduce the figure 8.1 (a) and the figure 8.1 (b) with Stan."
   ]
  },
  {
   "cell_type": "code",
   "execution_count": 129,
   "metadata": {},
   "outputs": [
    {
     "name": "stdout",
     "output_type": "stream",
     "text": [
      "2.19.1.1\n"
     ]
    }
   ],
   "source": [
    "import pystan\n",
    "print(pystan.__version__)"
   ]
  },
  {
   "cell_type": "code",
   "execution_count": 159,
   "metadata": {},
   "outputs": [],
   "source": [
    "modelo=\"\"\"\n",
    "data {\n",
    "  int<lower=0> N;\n",
    "  int<lower=0> n;\n",
    "  int y_obs[N, n];\n",
    "  vector[n] alpha;\n",
    "}\n",
    "\n",
    "parameters {\n",
    "  \n",
    "  simplex[n] theta[N];\n",
    "}\n",
    "\n",
    "model {\n",
    "  \n",
    "  for (i in 1:N)\n",
    "    theta[i] ~ dirichlet(alpha);\n",
    "  \n",
    "  for (i in 1:N)\n",
    "    y_obs[i] ~ multinomial(theta[i]);\n",
    "}\n",
    "\n",
    "\"\"\""
   ]
  },
  {
   "cell_type": "code",
   "execution_count": 160,
   "metadata": {},
   "outputs": [
    {
     "name": "stderr",
     "output_type": "stream",
     "text": [
      "INFO:pystan:COMPILING THE C++ CODE FOR MODEL anon_model_2a28c5090c429737936718a5aee45413 NOW.\n"
     ]
    }
   ],
   "source": [
    "stan_modelo = pystan.StanModel(model_code=modelo)"
   ]
  },
  {
   "cell_type": "code",
   "execution_count": 161,
   "metadata": {},
   "outputs": [],
   "source": [
    "data2 = {'N': 16,\n",
    "       'n': 3,\n",
    "       'alpha': [1,1,1],\n",
    "       'y_obs': values.astype(int)}"
   ]
  },
  {
   "cell_type": "code",
   "execution_count": 162,
   "metadata": {},
   "outputs": [],
   "source": [
    "fit = stan_modelo.sampling(data=data2)"
   ]
  },
  {
   "cell_type": "code",
   "execution_count": 163,
   "metadata": {},
   "outputs": [
    {
     "name": "stdout",
     "output_type": "stream",
     "text": [
      "Inference for Stan model: anon_model_2a28c5090c429737936718a5aee45413.\n",
      "4 chains, each with iter=2000; warmup=1000; thin=1; \n",
      "post-warmup draws per chain=1000, total post-warmup draws=4000.\n",
      "\n",
      "               mean se_mean     sd    2.5%     25%     50%     75%   97.5%  n_eff   Rhat\n",
      "theta[1,1]    0.299 7.95e-4  0.063   0.182   0.254   0.297   0.342   0.431   6344  1.001\n",
      "theta[2,1]    0.489 8.84e-4  0.071   0.349    0.44   0.489   0.537   0.632   6476  0.999\n",
      "theta[3,1]    0.465 4.85e-4  0.038   0.391   0.439   0.465    0.49   0.538   6069    1.0\n",
      "theta[4,1]    0.458 7.69e-4  0.058   0.347   0.419   0.457   0.497   0.573   5595    1.0\n",
      "theta[5,1]    0.399 9.03e-4   0.07   0.268   0.349   0.398   0.446   0.538   5994  0.999\n",
      "theta[6,1]    0.443 6.25e-4  0.051   0.344   0.408   0.442   0.478   0.542   6674    1.0\n",
      "theta[7,1]    0.505 5.68e-4  0.045    0.42   0.475   0.505   0.534   0.594   6152    1.0\n",
      "theta[8,1]    0.547 5.22e-4   0.04   0.468    0.52   0.548   0.575   0.626   5937  0.999\n",
      "theta[9,1]    0.541   0.001    0.1   0.339   0.473   0.542   0.611   0.734   6164  0.999\n",
      "theta[10,1]   0.464  5.9e-4   0.05   0.367    0.43   0.464   0.497   0.562   7033    1.0\n",
      "theta[11,1]   0.511 6.07e-4   0.05   0.412   0.478   0.511   0.544    0.61   6812    1.0\n",
      "theta[12,1]   0.551 4.73e-4  0.036    0.48   0.526   0.551   0.575   0.621   5799    1.0\n",
      "theta[13,1]   0.486   0.001  0.079   0.335   0.433   0.485    0.54   0.647   5829    1.0\n",
      "theta[14,1]   0.526 7.82e-4  0.057   0.412   0.486   0.526   0.565   0.635   5314  1.001\n",
      "theta[15,1]   0.535 5.68e-4  0.045   0.444   0.505   0.535   0.566   0.625   6367  0.999\n",
      "theta[16,1]   0.547 6.62e-4  0.053   0.443   0.512   0.548   0.583   0.649   6390    1.0\n",
      "theta[1,2]    0.601  8.9e-4  0.069   0.461   0.555   0.603   0.648   0.733   5983    1.0\n",
      "theta[2,2]     0.47 8.95e-4  0.072    0.33   0.421    0.47   0.519    0.61   6432  0.999\n",
      "theta[3,2]    0.411 4.79e-4  0.037   0.338   0.385    0.41   0.436   0.485   6134  0.999\n",
      "theta[4,2]    0.514 7.88e-4  0.058   0.399   0.476   0.515   0.553   0.627   5429  1.001\n",
      "theta[5,2]    0.481 9.01e-4  0.072   0.342   0.431    0.48    0.53   0.625   6365  0.999\n",
      "theta[6,2]    0.444 6.31e-4  0.051   0.343   0.408   0.444   0.478   0.545   6576    1.0\n",
      "theta[7,2]    0.386  5.5e-4  0.044   0.298   0.357   0.387   0.415   0.473   6427  0.999\n",
      "theta[8,2]    0.338 5.03e-4  0.039   0.264    0.31   0.337   0.364   0.415   5993    1.0\n",
      "theta[9,2]    0.293   0.001  0.089   0.132    0.23   0.289    0.35   0.477   5396    1.0\n",
      "theta[10,2]   0.404 6.09e-4  0.049   0.309    0.37   0.404   0.437   0.502   6480    1.0\n",
      "theta[11,2]   0.402 6.35e-4  0.049   0.306   0.368     0.4   0.435   0.501   6037    1.0\n",
      "theta[12,2]   0.352 4.37e-4  0.034   0.285   0.328   0.351   0.375   0.419   6037    1.0\n",
      "theta[13,2]   0.459   0.001  0.078   0.305   0.407   0.459   0.512   0.613   6100    1.0\n",
      "theta[14,2]   0.349 6.89e-4  0.055   0.246   0.312   0.348   0.386   0.458   6267    1.0\n",
      "theta[15,2]    0.37 5.42e-4  0.043   0.285    0.34   0.369   0.398   0.456   6394  0.999\n",
      "theta[16,2]    0.36 6.72e-4  0.051   0.258   0.325   0.359   0.392   0.465   5797    1.0\n",
      "theta[1,3]      0.1 5.41e-4  0.041   0.036    0.07   0.094   0.125   0.191   5787    1.0\n",
      "theta[2,3]    0.041 3.52e-4  0.028   0.005    0.02   0.035   0.055   0.111   6507    1.0\n",
      "theta[3,3]    0.124 3.31e-4  0.025   0.079   0.107   0.123   0.139   0.178   5582    1.0\n",
      "theta[4,3]    0.028 2.43e-4  0.019   0.004   0.014   0.024   0.037   0.077   6225    1.0\n",
      "theta[5,3]     0.12 5.65e-4  0.045   0.048   0.088   0.115   0.148   0.221   6420    1.0\n",
      "theta[6,3]    0.113 4.02e-4  0.032    0.06   0.091    0.11   0.133   0.182   6304    1.0\n",
      "theta[7,3]    0.109 3.64e-4  0.028    0.06   0.089   0.107   0.126    0.17   6030    1.0\n",
      "theta[8,3]    0.115 3.62e-4  0.026   0.068   0.096   0.113   0.132   0.172   5232  0.999\n",
      "theta[9,3]    0.167 9.83e-4  0.075   0.048    0.11   0.157   0.214   0.334   5887  0.999\n",
      "theta[10,3]   0.132  4.2e-4  0.033   0.072   0.109   0.129   0.153   0.204   6332  0.999\n",
      "theta[11,3]   0.088 3.41e-4  0.027   0.041   0.068   0.085   0.104   0.148   6295    1.0\n",
      "theta[12,3]   0.098 2.44e-4  0.022    0.06   0.082   0.097   0.111   0.143   7771    1.0\n",
      "theta[13,3]   0.055 4.75e-4  0.037   0.007   0.026   0.046   0.074   0.147   6215    1.0\n",
      "theta[14,3]   0.125 4.97e-4  0.037    0.06   0.098   0.122   0.149   0.206   5565    1.0\n",
      "theta[15,3]   0.095 3.38e-4  0.026   0.049   0.076   0.092   0.111   0.154   6101    1.0\n",
      "theta[16,3]   0.093 4.31e-4  0.032   0.041    0.07    0.09   0.113   0.165   5525  1.001\n",
      "lp__        -1.41e3   0.095  4.088 -1.42e3 -1.42e3 -1.41e3 -1.41e3 -1.41e3   1845  1.002\n",
      "\n",
      "Samples were drawn using NUTS at Mon Mar 30 17:22:59 2020.\n",
      "For each parameter, n_eff is a crude measure of effective sample size,\n",
      "and Rhat is the potential scale reduction factor on split chains (at \n",
      "convergence, Rhat=1).\n"
     ]
    }
   ],
   "source": [
    "print(fit.stansummary(digits_summary=3))"
   ]
  },
  {
   "cell_type": "code",
   "execution_count": 164,
   "metadata": {},
   "outputs": [],
   "source": [
    "samples = fit.extract(permuted=True)['theta']"
   ]
  },
  {
   "cell_type": "code",
   "execution_count": 165,
   "metadata": {},
   "outputs": [
    {
     "data": {
      "text/plain": [
       "(4000, 16, 3)"
      ]
     },
     "execution_count": 165,
     "metadata": {},
     "output_type": "execute_result"
    }
   ],
   "source": [
    "samples.shape"
   ]
  },
  {
   "cell_type": "code",
   "execution_count": 166,
   "metadata": {},
   "outputs": [
    {
     "data": {
      "text/plain": [
       "array([0.305646  , 0.47988473, 0.42721749, 0.46774404, 0.44612915,\n",
       "       0.51697408, 0.58440693, 0.53752915, 0.63354365, 0.4760622 ,\n",
       "       0.56491333, 0.60691645, 0.62535855, 0.42935015, 0.535791  ,\n",
       "       0.56380083])"
      ]
     },
     "execution_count": 166,
     "metadata": {},
     "output_type": "execute_result"
    }
   ],
   "source": [
    "samples[0, :, 0]"
   ]
  },
  {
   "cell_type": "code",
   "execution_count": 167,
   "metadata": {},
   "outputs": [
    {
     "data": {
      "text/plain": [
       "0.09984042335668665"
      ]
     },
     "execution_count": 167,
     "metadata": {},
     "output_type": "execute_result"
    }
   ],
   "source": [
    "np.mean(samples[:, 0, 2])"
   ]
  },
  {
   "cell_type": "code",
   "execution_count": 168,
   "metadata": {},
   "outputs": [],
   "source": [
    "diff3 = []\n",
    "\n",
    "for i in range(16):\n",
    "    result3 = samples[:, i, 0] - samples[:, i, 1]\n",
    "    diff3.append(list(result3))"
   ]
  },
  {
   "cell_type": "code",
   "execution_count": 169,
   "metadata": {},
   "outputs": [
    {
     "data": {
      "text/plain": [
       "array([[-0.29830963, -0.20967514, -0.26950832, ..., -0.35826107,\n",
       "        -0.33491419, -0.23189027],\n",
       "       [-0.02413558, -0.21438899, -0.10612351, ..., -0.02959419,\n",
       "         0.06178593,  0.0923874 ],\n",
       "       [-0.02366946,  0.02613382,  0.11743479, ...,  0.06990543,\n",
       "         0.11012108,  0.17011507],\n",
       "       ...,\n",
       "       [ 0.1281835 ,  0.30301716,  0.14321119, ...,  0.1655299 ,\n",
       "         0.13558499,  0.28890727],\n",
       "       [ 0.16218526,  0.22916085,  0.10451857, ...,  0.31905207,\n",
       "         0.16814509,  0.13835418],\n",
       "       [ 0.2052175 ,  0.2833933 ,  0.11942988, ...,  0.12966828,\n",
       "         0.09326143,  0.22236906]])"
      ]
     },
     "execution_count": 169,
     "metadata": {},
     "output_type": "execute_result"
    }
   ],
   "source": [
    "diff3 = np.asarray(diff3)\n",
    "diff3"
   ]
  },
  {
   "cell_type": "code",
   "execution_count": 170,
   "metadata": {},
   "outputs": [
    {
     "data": {
      "text/plain": [
       "array([-0.23189027,  0.0923874 ,  0.17011507, -0.3350024 , -0.06830835,\n",
       "       -0.11070815,  0.07650463,  0.28555088,  0.16222205,  0.04862792,\n",
       "       -0.04044725,  0.01634078, -0.19855381,  0.28890727,  0.13835418,\n",
       "        0.22236906])"
      ]
     },
     "execution_count": 170,
     "metadata": {},
     "output_type": "execute_result"
    }
   ],
   "source": [
    "diff3[:, 3999]"
   ]
  },
  {
   "cell_type": "code",
   "execution_count": 171,
   "metadata": {},
   "outputs": [],
   "source": [
    "res2 = np.sum(diff3.T * proportion / np.sum(proportion), axis=1)"
   ]
  },
  {
   "cell_type": "code",
   "execution_count": 172,
   "metadata": {},
   "outputs": [
    {
     "data": {
      "text/plain": [
       "(4000,)"
      ]
     },
     "execution_count": 172,
     "metadata": {},
     "output_type": "execute_result"
    }
   ],
   "source": [
    "res2.shape"
   ]
  },
  {
   "cell_type": "code",
   "execution_count": 173,
   "metadata": {},
   "outputs": [
    {
     "data": {
      "image/png": "[encoded data removed]",
      "text/plain": [
       "<Figure size 720x432 with 1 Axes>"
      ]
     },
     "metadata": {},
     "output_type": "display_data"
    }
   ],
   "source": [
    "plt.figure(figsize=(10, 6))\n",
    "_, _, _ = plt.hist(res2, bins=20, edgecolor='w', density=True)\n",
    "plt.yticks([]);\n",
    "# plt.savefig('model_non_hier.png', dpi=120)"
   ]
  },
  {
   "cell_type": "markdown",
   "metadata": {},
   "source": [
    "With this, the figure 8.1 (a) is very similiar to this one."
   ]
  },
  {
   "cell_type": "markdown",
   "metadata": {},
   "source": [
    "### **Pystan with the hierarchical model**"
   ]
  },
  {
   "cell_type": "code",
   "execution_count": 132,
   "metadata": {},
   "outputs": [],
   "source": [
    "modelo2 = \"\"\"\n",
    "data {\n",
    "  int<lower=0> N;\n",
    "  int<lower=0> n;\n",
    "  int post[N, n];\n",
    "}\n",
    "\n",
    "parameters {\n",
    "  vector[n] mu;\n",
    "  cholesky_factor_corr[n] L;\n",
    "  vector[n] beta[N];\n",
    "    \n",
    "}\n",
    "\n",
    "transformed parameters{\n",
    "  vector[n] theta[N] ;\n",
    "  \n",
    "  for (i in 1:N)\n",
    "    theta[i] = inv_logit(beta[i]);\n",
    "     \n",
    "}\n",
    "\n",
    "model {\n",
    "\n",
    "  L ~ lkj_corr_cholesky(3.0);\n",
    " \n",
    "  mu ~ exponential(0.01);\n",
    "  \n",
    "  beta ~ multi_normal_cholesky(mu, L);\n",
    "  \n",
    "    \n",
    "  for (i in 1:N)\n",
    "    post[i] ~ multinomial(theta[i]);\n",
    "  \n",
    "}\n",
    "\n",
    "generated quantities {\n",
    "\n",
    "  corr_matrix[n] Sigma;\n",
    "  Sigma = multiply_lower_tri_self_transpose(L);\n",
    "  \n",
    "}\n",
    "\n",
    "\n",
    "\"\"\"\n",
    "\n",
    "modelo3 = \"\"\"\n",
    "data {\n",
    "  int<lower=0> N;\n",
    "  int<lower=0> n;\n",
    "  int post[N, n];\n",
    "}\n",
    "\n",
    "parameters {\n",
    "  vector[n] mu;\n",
    "  cholesky_factor_corr[n] L;\n",
    "  vector[n] beta[N];\n",
    "  simplex[n] thetas[N];\n",
    "  \n",
    "}\n",
    "\n",
    "transformed parameters{\n",
    "  \n",
    "  vector<lower=0, upper=1>[n] alphas[N];\n",
    "  \n",
    "  \n",
    "  for (i in 1:N)\n",
    "    alphas[i] = softmax(beta[i]);\n",
    "   \n",
    "}\n",
    "\n",
    "model {\n",
    "\n",
    "  L ~ lkj_corr_cholesky(3.0);\n",
    " \n",
    "  mu ~ normal(0, .01);\n",
    "  \n",
    "  beta ~ multi_normal_cholesky(mu, L);\n",
    "  \n",
    "  for (i in 1:N)\n",
    "    thetas[i] ~ dirichlet(alphas[i]);\n",
    "  \n",
    "  for (i in 1:N)\n",
    "    post[i] ~ multinomial(alphas[i]);\n",
    "  \n",
    "}\n",
    "\n",
    "generated quantities {\n",
    "\n",
    "  corr_matrix[n] Sigma;\n",
    "  Sigma = multiply_lower_tri_self_transpose(L);\n",
    "  \n",
    "}\n",
    "\n",
    " \n",
    "\"\"\""
   ]
  },
  {
   "cell_type": "code",
   "execution_count": 133,
   "metadata": {},
   "outputs": [
    {
     "name": "stderr",
     "output_type": "stream",
     "text": [
      "INFO:pystan:COMPILING THE C++ CODE FOR MODEL anon_model_18738fd7d802e41a14daf6d0e4aad6e0 NOW.\n"
     ]
    }
   ],
   "source": [
    "stan_modelo2 = pystan.StanModel(model_code=modelo3)"
   ]
  },
  {
   "cell_type": "code",
   "execution_count": 134,
   "metadata": {},
   "outputs": [],
   "source": [
    "data3 = {'N': 16,\n",
    "         'n': 2,\n",
    "         'post': new_values.astype(int)}"
   ]
  },
  {
   "cell_type": "code",
   "execution_count": 135,
   "metadata": {},
   "outputs": [
    {
     "name": "stderr",
     "output_type": "stream",
     "text": [
      "WARNING:pystan:n_eff / iter below 0.001 indicates that the effective sample size has likely been overestimated\n",
      "WARNING:pystan:Rhat above 1.1 or below 0.9 indicates that the chains very likely have not mixed\n"
     ]
    }
   ],
   "source": [
    "fit2 = stan_modelo2.sampling(data=data3, iter=5000, verbose=True, control={'adapt_delta':0.90}, init=0)"
   ]
  },
  {
   "cell_type": "code",
   "execution_count": 136,
   "metadata": {},
   "outputs": [
    {
     "name": "stdout",
     "output_type": "stream",
     "text": [
      "Inference for Stan model: anon_model_18738fd7d802e41a14daf6d0e4aad6e0.\n",
      "4 chains, each with iter=5000; warmup=2500; thin=1; \n",
      "post-warmup draws per chain=2500, total post-warmup draws=10000.\n",
      "\n",
      "                mean  se_mean       sd    2.5%     25%     50%     75%   97.5%  n_eff   Rhat\n",
      "mu[1]         -0.002  6.89e-5     0.01  -0.021  -0.008  -0.002   0.005   0.018  20619    1.0\n",
      "mu[2]          0.002  7.23e-5     0.01  -0.018  -0.005   0.002   0.009   0.022  19414    1.0\n",
      "L[1,1]           1.0      nan      0.0     1.0     1.0     1.0     1.0     1.0    nan    nan\n",
      "L[2,1]         0.737    0.001    0.137   0.385    0.68   0.767   0.831   0.905   9163    1.0\n",
      "L[1,2]           0.0      nan      0.0     0.0     0.0     0.0     0.0     0.0    nan    nan\n",
      "L[2,2]         0.649    0.001    0.128   0.425   0.556   0.641   0.733   0.923  14384    1.0\n",
      "beta[1,1]     -0.446     0.01    0.927  -2.209  -1.069   -0.46    0.17   1.377   8129    1.0\n",
      "beta[2,1]     -0.284     0.01    0.946  -2.162  -0.916  -0.286   0.359   1.555   9166    1.0\n",
      "beta[3,1]     -0.245     0.01    0.941  -2.065  -0.883  -0.243   0.408   1.581   8585    1.0\n",
      "beta[4,1]     -0.321     0.01    0.937  -2.123  -0.957  -0.322   0.322   1.498   9479    1.0\n",
      "beta[5,1]     -0.283     0.01    0.941  -2.171  -0.918  -0.284   0.375   1.518   8696    1.0\n",
      "beta[6,1]     -0.265     0.01    0.939  -2.115  -0.884  -0.263   0.351    1.61   8060    1.0\n",
      "beta[7,1]     -0.204     0.01    0.947  -2.054  -0.853  -0.216   0.443   1.626   9344    1.0\n",
      "beta[8,1]     -0.168     0.01     0.94  -2.011  -0.804  -0.169   0.465   1.698   9307    1.0\n",
      "beta[9,1]     -0.119     0.01    0.953   -1.98   -0.77  -0.116    0.53   1.732   9650    1.0\n",
      "beta[10,1]    -0.228     0.01    0.957  -2.079  -0.885  -0.225   0.423    1.66   9080    1.0\n",
      "beta[11,1]    -0.246     0.01    0.944   -2.14   -0.88  -0.235   0.382   1.599   8914  1.001\n",
      "beta[12,1]    -0.195     0.01    0.924  -2.038  -0.811  -0.191   0.427   1.626   8675    1.0\n",
      "beta[13,1]    -0.273     0.01    0.939  -2.125  -0.913  -0.265    0.36    1.57   9294    1.0\n",
      "beta[14,1]    -0.196     0.01    0.935  -2.009  -0.833   -0.19   0.429   1.649   8743    1.0\n",
      "beta[15,1]    -0.188     0.01    0.943  -2.044  -0.827  -0.175   0.462   1.626   8428    1.0\n",
      "beta[16,1]    -0.195     0.01    0.939  -2.065  -0.823  -0.189    0.43   1.633   8419    1.0\n",
      "beta[1,2]      0.428     0.01     0.93   -1.37  -0.198    0.42   1.053    2.24   8377  1.001\n",
      "beta[2,2]      0.275     0.01    0.943  -1.607   -0.36   0.281   0.909   2.112   9178    1.0\n",
      "beta[3,2]      0.243     0.01    0.943  -1.604    -0.4   0.242    0.89   2.073   8607    1.0\n",
      "beta[4,2]      0.339     0.01    0.932  -1.487  -0.293   0.334   0.972   2.161   9419    1.0\n",
      "beta[5,2]      0.302     0.01     0.94  -1.585  -0.325   0.312   0.954   2.114   8660    1.0\n",
      "beta[6,2]      0.276     0.01    0.941  -1.598  -0.355   0.281   0.898   2.156   8127    1.0\n",
      "beta[7,2]      0.226     0.01    0.947   -1.64  -0.419   0.221   0.873   2.084   9263    1.0\n",
      "beta[8,2]      0.179     0.01    0.938   -1.66  -0.455   0.179   0.806   2.038   9367    1.0\n",
      "beta[9,2]      0.126     0.01    0.955  -1.741  -0.512   0.121   0.781   2.016   9677    1.0\n",
      "beta[10,2]      0.24     0.01    0.959  -1.622  -0.418   0.242   0.898   2.142   9040    1.0\n",
      "beta[11,2]     0.218     0.01    0.944  -1.664  -0.422   0.227   0.848   2.068   8924  1.001\n",
      "beta[12,2]     0.182     0.01    0.923  -1.649  -0.424   0.188   0.803   1.979   8642    1.0\n",
      "beta[13,2]     0.261     0.01    0.938  -1.591  -0.371   0.268     0.9   2.104   9339    1.0\n",
      "beta[14,2]     0.168     0.01    0.937  -1.666  -0.464    0.17   0.796   2.029   8753    1.0\n",
      "beta[15,2]     0.217     0.01    0.943  -1.641  -0.426   0.228   0.865   2.039   8461    1.0\n",
      "beta[16,2]     0.198     0.01    0.942  -1.704  -0.426   0.196   0.826   2.018   8475    1.0\n",
      "thetas[1,1]    0.294    0.002    0.324 2.72e-6   0.013   0.148   0.536   0.979  17589    1.0\n",
      "thetas[2,1]     0.37    0.002    0.346 5.09e-5    0.04    0.27   0.684   0.992  20046    1.0\n",
      "thetas[3,1]    0.381    0.002    0.347 1.07e-4   0.046   0.286     0.7   0.992  19933    1.0\n",
      "thetas[4,1]    0.347    0.002    0.339 3.49e-5    0.03   0.229   0.639   0.988  19925    1.0\n",
      "thetas[5,1]    0.357    0.002    0.344 2.64e-5   0.032   0.238   0.661   0.991  19601    1.0\n",
      "thetas[6,1]    0.367    0.002    0.342 7.21e-5    0.04   0.264   0.673    0.99  19089    1.0\n",
      "thetas[7,1]    0.393    0.003    0.347  1.1e-4   0.056   0.311   0.718   0.993  17961    1.0\n",
      "thetas[8,1]     0.41    0.002    0.347  2.1e-4   0.072   0.341   0.736   0.996  19874    1.0\n",
      "thetas[9,1]    0.439    0.003    0.356 2.39e-4   0.081   0.386    0.79   0.997  19601    1.0\n",
      "thetas[10,1]   0.386    0.002    0.348 9.84e-5   0.046   0.291   0.703   0.993  21182    1.0\n",
      "thetas[11,1]   0.381    0.002    0.345 1.03e-4   0.051   0.286   0.695   0.992  20470    1.0\n",
      "thetas[12,1]   0.405    0.002     0.35 1.62e-4   0.061   0.322   0.731   0.996  22212    1.0\n",
      "thetas[13,1]   0.374    0.002    0.344 6.01e-5   0.046   0.271   0.691   0.991  21806    1.0\n",
      "thetas[14,1]   0.414    0.003    0.346 2.52e-4   0.076   0.347   0.738   0.994  18196    1.0\n",
      "thetas[15,1]   0.401    0.002    0.347 1.82e-4   0.063   0.319   0.726   0.994  21444    1.0\n",
      "thetas[16,1]   0.404    0.002    0.349 2.06e-4   0.059   0.324   0.733   0.994  20330    1.0\n",
      "thetas[1,2]    0.706    0.002    0.324   0.021   0.464   0.852   0.987     1.0  17589    1.0\n",
      "thetas[2,2]     0.63    0.002    0.346   0.008   0.316    0.73    0.96     1.0  20046    1.0\n",
      "thetas[3,2]    0.619    0.002    0.347   0.008     0.3   0.714   0.954     1.0  19933    1.0\n",
      "thetas[4,2]    0.653    0.002    0.339   0.012   0.361   0.771    0.97     1.0  19925    1.0\n",
      "thetas[5,2]    0.643    0.002    0.344   0.009   0.339   0.762   0.968     1.0  19601    1.0\n",
      "thetas[6,2]    0.633    0.002    0.342    0.01   0.327   0.736    0.96     1.0  19089    1.0\n",
      "thetas[7,2]    0.607    0.003    0.347   0.007   0.282   0.689   0.944     1.0  17961    1.0\n",
      "thetas[8,2]     0.59    0.002    0.347   0.004   0.264   0.659   0.928     1.0  19874    1.0\n",
      "thetas[9,2]    0.561    0.003    0.356   0.003    0.21   0.614   0.919     1.0  19601    1.0\n",
      "thetas[10,2]   0.614    0.002    0.348   0.007   0.297   0.709   0.954     1.0  21182    1.0\n",
      "thetas[11,2]   0.619    0.002    0.345   0.008   0.305   0.714   0.949     1.0  20470    1.0\n",
      "thetas[12,2]   0.595    0.002     0.35   0.004   0.269   0.678   0.939     1.0  22212    1.0\n",
      "thetas[13,2]   0.626    0.002    0.344   0.009   0.309   0.729   0.954     1.0  21806    1.0\n",
      "thetas[14,2]   0.586    0.003    0.346   0.006   0.262   0.653   0.924     1.0  18196    1.0\n",
      "thetas[15,2]   0.599    0.002    0.347   0.006   0.274   0.681   0.937     1.0  21444    1.0\n",
      "thetas[16,2]   0.596    0.002    0.349   0.006   0.267   0.676   0.941     1.0  20330    1.0\n",
      "alphas[1,1]    0.298  5.53e-4    0.057   0.192   0.258   0.296   0.335   0.414  10514    1.0\n",
      "alphas[2,1]    0.366  5.42e-4    0.055    0.26   0.328   0.365   0.402   0.476  10223    1.0\n",
      "alphas[3,1]    0.381   3.0e-4    0.031   0.321    0.36    0.38   0.402   0.442  10608    1.0\n",
      "alphas[4,1]    0.342  4.62e-4    0.046   0.255    0.31   0.342   0.373   0.433   9895    1.0\n",
      "alphas[5,1]     0.36  5.95e-4    0.057   0.252    0.32   0.358   0.398   0.475   9255    1.0\n",
      "alphas[6,1]    0.369  3.92e-4    0.041    0.29   0.341   0.369   0.396    0.45  10708    1.0\n",
      "alphas[7,1]    0.395   3.6e-4    0.036   0.324    0.37   0.394   0.419   0.468  10224    1.0\n",
      "alphas[8,1]    0.415  3.26e-4    0.032   0.352   0.393   0.414   0.436   0.478   9843  1.001\n",
      "alphas[9,1]     0.44   7.1e-4    0.076   0.297   0.389   0.439   0.492   0.593  11337    1.0\n",
      "alphas[10,1]   0.386  3.84e-4     0.04   0.309   0.358   0.385   0.413   0.466  11077    1.0\n",
      "alphas[11,1]   0.387  3.81e-4    0.039   0.312    0.36   0.386   0.413   0.463  10355    1.0\n",
      "alphas[12,1]   0.407  2.82e-4    0.028   0.352   0.388   0.407   0.426   0.464  10136    1.0\n",
      "alphas[13,1]   0.372  6.03e-4    0.063   0.253   0.329    0.37   0.413   0.499  10768    1.0\n",
      "alphas[14,1]   0.411  4.21e-4    0.044   0.328    0.38    0.41   0.441   0.498  10940    1.0\n",
      "alphas[15,1]   0.401  3.47e-4    0.035   0.333   0.378   0.401   0.423   0.469   9937    1.0\n",
      "alphas[16,1]   0.404  4.25e-4    0.042   0.322   0.375   0.403   0.432   0.488   9933  1.001\n",
      "alphas[1,2]    0.702  5.53e-4    0.057   0.586   0.665   0.704   0.742   0.808  10514    1.0\n",
      "alphas[2,2]    0.634  5.42e-4    0.055   0.524   0.598   0.635   0.672    0.74  10223    1.0\n",
      "alphas[3,2]    0.619   3.0e-4    0.031   0.558   0.598    0.62    0.64   0.679  10608    1.0\n",
      "alphas[4,2]    0.658  4.62e-4    0.046   0.567   0.627   0.658    0.69   0.745   9895    1.0\n",
      "alphas[5,2]     0.64  5.95e-4    0.057   0.525   0.602   0.642    0.68   0.748   9255    1.0\n",
      "alphas[6,2]    0.631  3.92e-4    0.041    0.55   0.604   0.631   0.659    0.71  10708    1.0\n",
      "alphas[7,2]    0.605   3.6e-4    0.036   0.532   0.581   0.606    0.63   0.676  10224    1.0\n",
      "alphas[8,2]    0.585  3.26e-4    0.032   0.522   0.564   0.586   0.607   0.648   9843  1.001\n",
      "alphas[9,2]     0.56   7.1e-4    0.076   0.407   0.508   0.561   0.611   0.703  11337    1.0\n",
      "alphas[10,2]   0.614  3.84e-4     0.04   0.534   0.587   0.615   0.642   0.691  11077    1.0\n",
      "alphas[11,2]   0.613  3.81e-4    0.039   0.537   0.587   0.614    0.64   0.688  10355    1.0\n",
      "alphas[12,2]   0.593  2.82e-4    0.028   0.536   0.574   0.593   0.612   0.648  10136    1.0\n",
      "alphas[13,2]   0.628  6.03e-4    0.063   0.501   0.587    0.63   0.671   0.747  10768    1.0\n",
      "alphas[14,2]   0.589  4.21e-4    0.044   0.502   0.559    0.59    0.62   0.672  10940    1.0\n",
      "alphas[15,2]   0.599  3.47e-4    0.035   0.531   0.577   0.599   0.622   0.667   9937    1.0\n",
      "alphas[16,2]   0.596  4.25e-4    0.042   0.512   0.568   0.597   0.625   0.678   9933  1.001\n",
      "Sigma[1,1]       1.0      nan      0.0     1.0     1.0     1.0     1.0     1.0    nan    nan\n",
      "Sigma[2,1]     0.737    0.001    0.137   0.385    0.68   0.767   0.831   0.905   9163    1.0\n",
      "Sigma[1,2]     0.737    0.001    0.137   0.385    0.68   0.767   0.831   0.905   9163    1.0\n",
      "Sigma[2,2]       1.0 4.61e-19 4.36e-17     1.0     1.0     1.0     1.0     1.0   8966    1.0\n",
      "lp__         -1.46e3    0.093    5.513 -1.47e3 -1.46e3 -1.46e3 -1.45e3 -1.45e3   3519  1.001\n",
      "\n",
      "Samples were drawn using NUTS at Mon Mar 30 17:17:28 2020.\n",
      "For each parameter, n_eff is a crude measure of effective sample size,\n",
      "and Rhat is the potential scale reduction factor on split chains (at \n",
      "convergence, Rhat=1).\n"
     ]
    }
   ],
   "source": [
    "print(fit2.stansummary(digits_summary=3))"
   ]
  },
  {
   "cell_type": "code",
   "execution_count": 151,
   "metadata": {},
   "outputs": [],
   "source": [
    "samples2 = fit2.extract(permuted=True)['beta']"
   ]
  },
  {
   "cell_type": "code",
   "execution_count": 152,
   "metadata": {},
   "outputs": [],
   "source": [
    "samples2 = softmax(samples2, axis=2)"
   ]
  },
  {
   "cell_type": "code",
   "execution_count": 153,
   "metadata": {},
   "outputs": [
    {
     "data": {
      "text/plain": [
       "array([[0.32363442, 0.67636558],\n",
       "       [0.39600414, 0.60399586],\n",
       "       [0.36065595, 0.63934405],\n",
       "       [0.32982244, 0.67017756],\n",
       "       [0.35618454, 0.64381546],\n",
       "       [0.38430935, 0.61569065],\n",
       "       [0.402073  , 0.597927  ],\n",
       "       [0.3404694 , 0.6595306 ],\n",
       "       [0.41749458, 0.58250542],\n",
       "       [0.32197246, 0.67802754]])"
      ]
     },
     "execution_count": 153,
     "metadata": {},
     "output_type": "execute_result"
    }
   ],
   "source": [
    "samples2[:10, 4, :]"
   ]
  },
  {
   "cell_type": "code",
   "execution_count": 154,
   "metadata": {},
   "outputs": [],
   "source": [
    "th5 = []\n",
    "\n",
    "for i in range(16):\n",
    "    res5 =  2 * samples2[:, i, 0] * samples2[:, i, 1] - samples2[:, i, 1] \n",
    "#     result1 = - 2 * ppc_hier['alphas'][:, i, 0] * ppc_hier['alphas'][:, i, 1] + ppc_hier['alphas'][:, i, 1] \n",
    "    th5.append(list(res5))"
   ]
  },
  {
   "cell_type": "code",
   "execution_count": 155,
   "metadata": {},
   "outputs": [
    {
     "data": {
      "text/plain": [
       "(16, 10000)"
      ]
     },
     "execution_count": 155,
     "metadata": {},
     "output_type": "execute_result"
    }
   ],
   "source": [
    "th5 = np.asarray(th5)\n",
    "th5.shape"
   ]
  },
  {
   "cell_type": "code",
   "execution_count": 156,
   "metadata": {},
   "outputs": [
    {
     "name": "stdout",
     "output_type": "stream",
     "text": [
      "(10000,)\n"
     ]
    },
    {
     "data": {
      "text/plain": [
       "array([-0.16317686, -0.13144722, -0.15993167, -0.13796937, -0.15175436,\n",
       "       -0.13930074, -0.13661417, -0.1265063 , -0.11742489, -0.18464812,\n",
       "       -0.15224667, -0.16219158, -0.11969181, -0.16735025, -0.13077128])"
      ]
     },
     "execution_count": 156,
     "metadata": {},
     "output_type": "execute_result"
    }
   ],
   "source": [
    "result5 = np.sum(th5.T * proportion / np.sum(proportion), axis=1)\n",
    "print(result5.shape)\n",
    "result5[:15]"
   ]
  },
  {
   "cell_type": "code",
   "execution_count": 157,
   "metadata": {},
   "outputs": [
    {
     "data": {
      "image/png": "[encoded data removed]",
      "text/plain": [
       "<Figure size 720x432 with 1 Axes>"
      ]
     },
     "metadata": {},
     "output_type": "display_data"
    }
   ],
   "source": [
    "plt.figure(figsize=(10, 6))\n",
    "_, _, _ = plt.hist(result5 , bins=20, edgecolor='w', density=True)\n",
    "plt.yticks([]);\n",
    "# plt.savefig('model_hier.png', dpi=120)"
   ]
  },
  {
   "cell_type": "markdown",
   "metadata": {},
   "source": [
    "Again, very similar to the figure 8.1 (b), except for a minus sign. Why? It is not clear at the moment."
   ]
  }
 ],
 "metadata": {
  "kernelspec": {
   "display_name": "Python 3",
   "language": "python",
   "name": "python3"
  },
  "language_info": {
   "codemirror_mode": {
    "name": "ipython",
    "version": 3
   },
   "file_extension": ".py",
   "mimetype": "text/x-python",
   "name": "python",
   "nbconvert_exporter": "python",
   "pygments_lexer": "ipython3",
   "version": "3.7.6"
  }
 },
 "nbformat": 4,
 "nbformat_minor": 4
}

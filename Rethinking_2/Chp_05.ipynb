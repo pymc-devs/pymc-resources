{
 "cells": [
  {
   "cell_type": "markdown",
   "metadata": {},
   "source": [
    "# Chapter 5"
   ]
  },
  {
   "cell_type": "code",
   "execution_count": 1,
   "metadata": {},
   "outputs": [
    {
     "name": "stderr",
     "output_type": "stream",
     "text": [
      "WARNING (aesara.tensor.blas): Using NumPy C-API based implementation for BLAS functions.\n"
     ]
    }
   ],
   "source": [
    "import os\n",
    "import warnings\n",
    "\n",
    "import arviz as az\n",
    "import daft\n",
    "import matplotlib.pyplot as plt\n",
    "import numpy as np\n",
    "import pandas as pd\n",
    "import pymc as pm\n",
    "\n",
    "from causalgraphicalmodels import CausalGraphicalModel\n",
    "from scipy import stats\n",
    "from scipy.interpolate import griddata\n",
    "from aesara import shared\n",
    "\n",
    "warnings.simplefilter(action=\"ignore\", category=FutureWarning)"
   ]
  },
  {
   "cell_type": "code",
   "execution_count": 2,
   "metadata": {},
   "outputs": [],
   "source": [
    "%config Inline.figure_format = 'retina'\n",
    "az.style.use(\"arviz-darkgrid\")\n",
    "np.random.seed(0)"
   ]
  },
  {
   "cell_type": "code",
   "execution_count": 3,
   "metadata": {},
   "outputs": [],
   "source": [
    "# Load data\n",
    "data = pd.read_csv(os.path.join(\"Data\", \"WaffleDivorce.csv\"), delimiter=\";\")"
   ]
  },
  {
   "cell_type": "code",
   "execution_count": 4,
   "metadata": {},
   "outputs": [
    {
     "data": {
      "text/html": [
       "<div>\n",
       "<style scoped>\n",
       "    .dataframe tbody tr th:only-of-type {\n",
       "        vertical-align: middle;\n",
       "    }\n",
       "\n",
       "    .dataframe tbody tr th {\n",
       "        vertical-align: top;\n",
       "    }\n",
       "\n",
       "    .dataframe thead th {\n",
       "        text-align: right;\n",
       "    }\n",
       "</style>\n",
       "<table border=\"1\" class=\"dataframe\">\n",
       "  <thead>\n",
       "    <tr style=\"text-align: right;\">\n",
       "      <th></th>\n",
       "      <th>Location</th>\n",
       "      <th>Loc</th>\n",
       "      <th>Population</th>\n",
       "      <th>MedianAgeMarriage</th>\n",
       "      <th>Marriage</th>\n",
       "      <th>Marriage SE</th>\n",
       "      <th>Divorce</th>\n",
       "      <th>Divorce SE</th>\n",
       "      <th>WaffleHouses</th>\n",
       "      <th>South</th>\n",
       "      <th>Slaves1860</th>\n",
       "      <th>Population1860</th>\n",
       "      <th>PropSlaves1860</th>\n",
       "    </tr>\n",
       "  </thead>\n",
       "  <tbody>\n",
       "    <tr>\n",
       "      <th>0</th>\n",
       "      <td>Alabama</td>\n",
       "      <td>AL</td>\n",
       "      <td>4.78</td>\n",
       "      <td>25.3</td>\n",
       "      <td>20.2</td>\n",
       "      <td>1.27</td>\n",
       "      <td>12.7</td>\n",
       "      <td>0.79</td>\n",
       "      <td>128</td>\n",
       "      <td>1</td>\n",
       "      <td>435080</td>\n",
       "      <td>964201</td>\n",
       "      <td>0.45</td>\n",
       "    </tr>\n",
       "    <tr>\n",
       "      <th>1</th>\n",
       "      <td>Alaska</td>\n",
       "      <td>AK</td>\n",
       "      <td>0.71</td>\n",
       "      <td>25.2</td>\n",
       "      <td>26.0</td>\n",
       "      <td>2.93</td>\n",
       "      <td>12.5</td>\n",
       "      <td>2.05</td>\n",
       "      <td>0</td>\n",
       "      <td>0</td>\n",
       "      <td>0</td>\n",
       "      <td>0</td>\n",
       "      <td>0.00</td>\n",
       "    </tr>\n",
       "    <tr>\n",
       "      <th>2</th>\n",
       "      <td>Arizona</td>\n",
       "      <td>AZ</td>\n",
       "      <td>6.33</td>\n",
       "      <td>25.8</td>\n",
       "      <td>20.3</td>\n",
       "      <td>0.98</td>\n",
       "      <td>10.8</td>\n",
       "      <td>0.74</td>\n",
       "      <td>18</td>\n",
       "      <td>0</td>\n",
       "      <td>0</td>\n",
       "      <td>0</td>\n",
       "      <td>0.00</td>\n",
       "    </tr>\n",
       "    <tr>\n",
       "      <th>3</th>\n",
       "      <td>Arkansas</td>\n",
       "      <td>AR</td>\n",
       "      <td>2.92</td>\n",
       "      <td>24.3</td>\n",
       "      <td>26.4</td>\n",
       "      <td>1.70</td>\n",
       "      <td>13.5</td>\n",
       "      <td>1.22</td>\n",
       "      <td>41</td>\n",
       "      <td>1</td>\n",
       "      <td>111115</td>\n",
       "      <td>435450</td>\n",
       "      <td>0.26</td>\n",
       "    </tr>\n",
       "    <tr>\n",
       "      <th>4</th>\n",
       "      <td>California</td>\n",
       "      <td>CA</td>\n",
       "      <td>37.25</td>\n",
       "      <td>26.8</td>\n",
       "      <td>19.1</td>\n",
       "      <td>0.39</td>\n",
       "      <td>8.0</td>\n",
       "      <td>0.24</td>\n",
       "      <td>0</td>\n",
       "      <td>0</td>\n",
       "      <td>0</td>\n",
       "      <td>379994</td>\n",
       "      <td>0.00</td>\n",
       "    </tr>\n",
       "  </tbody>\n",
       "</table>\n",
       "</div>"
      ],
      "text/plain": [
       "     Location Loc  Population  MedianAgeMarriage  Marriage  Marriage SE  \\\n",
       "0     Alabama  AL        4.78               25.3      20.2         1.27   \n",
       "1      Alaska  AK        0.71               25.2      26.0         2.93   \n",
       "2     Arizona  AZ        6.33               25.8      20.3         0.98   \n",
       "3    Arkansas  AR        2.92               24.3      26.4         1.70   \n",
       "4  California  CA       37.25               26.8      19.1         0.39   \n",
       "\n",
       "   Divorce  Divorce SE  WaffleHouses  South  Slaves1860  Population1860  \\\n",
       "0     12.7        0.79           128      1      435080          964201   \n",
       "1     12.5        2.05             0      0           0               0   \n",
       "2     10.8        0.74            18      0           0               0   \n",
       "3     13.5        1.22            41      1      111115          435450   \n",
       "4      8.0        0.24             0      0           0          379994   \n",
       "\n",
       "   PropSlaves1860  \n",
       "0            0.45  \n",
       "1            0.00  \n",
       "2            0.00  \n",
       "3            0.26  \n",
       "4            0.00  "
      ]
     },
     "execution_count": 4,
     "metadata": {},
     "output_type": "execute_result"
    }
   ],
   "source": [
    "data.head()"
   ]
  },
  {
   "cell_type": "code",
   "execution_count": 5,
   "metadata": {},
   "outputs": [],
   "source": [
    "def standardize(series):\n",
    "    \"\"\"Standardize a pandas series\"\"\"\n",
    "    std_series = (series - series.mean()) / series.std()\n",
    "    return std_series"
   ]
  },
  {
   "cell_type": "code",
   "execution_count": 6,
   "metadata": {},
   "outputs": [
    {
     "data": {
      "image/png": "[encoded data removed]",
      "text/plain": [
       "<Figure size 432x288 with 1 Axes>"
      ]
     },
     "metadata": {
      "needs_background": "light"
     },
     "output_type": "display_data"
    }
   ],
   "source": [
    "# Fig 5.1, missing mean\n",
    "fig, ax = plt.subplots()\n",
    "\n",
    "# assign colours to confederate states\n",
    "colors = {\"1\": \"blue\", \"0\": \"black\"}\n",
    "\n",
    "ax.scatter(\n",
    "    data[\"WaffleHouses\"] / data[\"Population\"],\n",
    "    data[\"Divorce\"],\n",
    "    lw=1,\n",
    "    color=(0, 0, 0, 0),\n",
    "    edgecolor=data[\"South\"].apply(lambda x: colors[str(x)]),\n",
    ")\n",
    "\n",
    "ax.set_xlabel(\"Waffle Houses per million\")\n",
    "ax.set_ylabel(\"Divorce rate\")\n",
    "\n",
    "# take only the states with Divorce rate over 12.6 or number of Waffle houses per million inhabitants over 30\n",
    "selection = data[(data[\"Divorce\"] > 12.6) | (data[\"WaffleHouses\"] / data[\"Population\"] > 30)]\n",
    "\n",
    "# label those points\n",
    "for state, div, ratio in zip(\n",
    "    selection[\"Loc\"],\n",
    "    selection[\"WaffleHouses\"] / selection[\"Population\"],\n",
    "    selection[\"Divorce\"],\n",
    "):\n",
    "    ax.annotate(f\"{state}\", xy=(div, ratio), textcoords=\"offset points\", xytext=(10, -5))"
   ]
  },
  {
   "cell_type": "code",
   "execution_count": 7,
   "metadata": {},
   "outputs": [
    {
     "data": {
      "text/plain": [
       "Text(0.5, 0, 'Median age marriage')"
      ]
     },
     "execution_count": 7,
     "metadata": {},
     "output_type": "execute_result"
    },
    {
     "data": {
      "image/png": "[encoded data removed]",
      "text/plain": [
       "<Figure size 720x288 with 2 Axes>"
      ]
     },
     "metadata": {
      "needs_background": "light"
     },
     "output_type": "display_data"
    }
   ],
   "source": [
    "# Fig 5.2, missing mean and CI\n",
    "fid, ax = plt.subplots(1, 2, figsize=(10, 4))\n",
    "\n",
    "ax[0].scatter(data[\"Marriage\"], data[\"Divorce\"], lw=1, color=(0, 0, 0, 0), edgecolor=\"b\")\n",
    "ax[0].set_ylabel(\"Divorce rate\")\n",
    "ax[0].set_xlabel(\"Median age marriage\")\n",
    "\n",
    "ax[1].scatter(data[\"MedianAgeMarriage\"], data[\"Divorce\"], lw=1, color=(0, 0, 0, 0), edgecolor=\"b\")\n",
    "ax[1].set_ylabel(\"Divorce rate\")\n",
    "ax[1].set_xlabel(\"Median age marriage\")"
   ]
  },
  {
   "cell_type": "markdown",
   "metadata": {},
   "source": [
    "#### Code 5.1"
   ]
  },
  {
   "cell_type": "code",
   "execution_count": 8,
   "metadata": {},
   "outputs": [],
   "source": [
    "# Standardize regressors and target\n",
    "data[\"Divorce_std\"] = standardize(data[\"Divorce\"])\n",
    "data[\"Marriage_std\"] = standardize(data[\"Marriage\"])\n",
    "data[\"MedianAgeMarriage_std\"] = standardize(data[\"MedianAgeMarriage\"])"
   ]
  },
  {
   "cell_type": "markdown",
   "metadata": {},
   "source": [
    "#### Code 5.2"
   ]
  },
  {
   "cell_type": "code",
   "execution_count": 9,
   "metadata": {},
   "outputs": [
    {
     "data": {
      "text/plain": [
       "1.2436303013880823"
      ]
     },
     "execution_count": 9,
     "metadata": {},
     "output_type": "execute_result"
    }
   ],
   "source": [
    "data[\"MedianAgeMarriage\"].std()"
   ]
  },
  {
   "cell_type": "markdown",
   "metadata": {},
   "source": [
    "#### Code 5.3"
   ]
  },
  {
   "cell_type": "code",
   "execution_count": null,
   "metadata": {},
   "outputs": [
    {
     "name": "stderr",
     "output_type": "stream",
     "text": [
      "Auto-assigning NUTS sampler...\n",
      "Initializing NUTS using jitter+adapt_diag...\n",
      "Multiprocess sampling (4 chains in 4 jobs)\n",
      "NUTS: [a, bA, sigma]\n"
     ]
    }
   ],
   "source": [
    "with pm.Model() as m_5_1:\n",
    "    a = pm.Normal(\"a\", 0, 0.2)\n",
    "    bA = pm.Normal(\"bA\", 0, 0.5)\n",
    "    sigma = pm.Exponential(\"sigma\", 1)\n",
    "    mu = pm.Deterministic(\"mu\", a + bA * data[\"MedianAgeMarriage_std\"].values)\n",
    "\n",
    "    divorce_rate_std = pm.Normal(\n",
    "        \"divorce_rate_std\", mu=mu, sigma=sigma, observed=data[\"Divorce_std\"].values\n",
    "    )\n",
    "    prior_samples = pm.sample_prior_predictive()\n",
    "    m_5_1_trace = pm.sample()"
   ]
  },
  {
   "cell_type": "code",
   "execution_count": null,
   "metadata": {},
   "outputs": [],
   "source": [
    "az.plot_trace(m_5_1_trace, var_names=[\"a\", \"bA\"]);"
   ]
  },
  {
   "cell_type": "markdown",
   "metadata": {},
   "source": [
    "#### Code 5.4"
   ]
  },
  {
   "cell_type": "code",
   "execution_count": null,
   "metadata": {},
   "outputs": [],
   "source": [
    "fig, ax = plt.subplots()\n",
    "\n",
    "x = np.linspace(-2, 2, 50)\n",
    "\n",
    "prior_samp_a = np.array(az.extract_dataset(prior_samples[\"prior\"])[\"a\"][:50])\n",
    "prior_samp_bA = np.array(az.extract_dataset(prior_samples[\"prior\"])[\"bA\"][:50])\n",
    "\n",
    "for a, ba in zip(prior_samp_a, prior_samp_bA):\n",
    "    y = a + ba * x\n",
    "    ax.plot(x, y, c=\"black\", alpha=0.4)\n",
    "\n",
    "ax.set_xlabel(\"Median Age Marriage (std)\")\n",
    "ax.set_ylabel(\"Divorce Rate (std)\")\n",
    "fig.suptitle(\"Figure 5.3\");"
   ]
  },
  {
   "cell_type": "markdown",
   "metadata": {},
   "source": [
    "#### Code 5.5"
   ]
  },
  {
   "cell_type": "code",
   "execution_count": null,
   "metadata": {},
   "outputs": [],
   "source": [
    "m_5_1_trace.posterior[\"bA\"].shape\n"
   ]
  },
  {
   "cell_type": "code",
   "execution_count": null,
   "metadata": {},
   "outputs": [],
   "source": [
    "# This is equivalent of link function\n",
    "\n",
    "age_std_seq = np.linspace(-3, 3.2, 30)\n",
    "\n",
    "# Given that we have a lot of samples we can use less of them for plotting (or we can use all!)\n",
    "# m_5_1_trace = m_5_1_trace.sel(draw=slice(None, None, 10))\n",
    "m_5_1_data = az.extract_dataset(m_5_1_trace.posterior)\n",
    "\n",
    "mu_pred = np.zeros((len(age_std_seq), len(m_5_1_data.sample)))\n",
    "\n",
    "for i, age_std in enumerate(age_std_seq):\n",
    "    mu_pred[i] = m_5_1_data[\"a\"] + m_5_1_data[\"bA\"] * age_std"
   ]
  },
  {
   "cell_type": "code",
   "execution_count": null,
   "metadata": {},
   "outputs": [],
   "source": [
    "# Now I need to take average of mu and plot\n",
    "# I should get 30 averages, one for each x\n",
    "mu_mean = mu_pred.mean(axis=1)\n",
    "\n",
    "# This is equivalent of Percent Interval\n",
    "ax = az.plot_hdi(age_std_seq, mu_pred.T)\n",
    "plt.plot(age_std_seq, mu_mean)\n",
    "ax.set_xlabel(\"Median age marriage\")\n",
    "ax.set_ylabel(\"Divorce rate\");"
   ]
  },
  {
   "cell_type": "markdown",
   "metadata": {},
   "source": [
    "#### 5.6"
   ]
  },
  {
   "cell_type": "code",
   "execution_count": null,
   "metadata": {},
   "outputs": [],
   "source": [
    "with pm.Model() as m_5_2:\n",
    "    a = pm.Normal(\"a\", 0, 0.2)\n",
    "    bM = pm.Normal(\"bM\", 0, 0.5)\n",
    "    sigma = pm.Exponential(\"sigma\", 1)\n",
    "    mu = pm.Deterministic(\"mu\", a + bM * data[\"Marriage_std\"].values)\n",
    "\n",
    "    divorce_rate_std = pm.Normal(\n",
    "        \"divorce_rate_std\", mu=mu, sigma=sigma, observed=data[\"Divorce_std\"].values\n",
    "    )\n",
    "    prior_samples = pm.sample_prior_predictive()\n",
    "    m_5_2_trace = pm.sample()"
   ]
  },
  {
   "cell_type": "code",
   "execution_count": null,
   "metadata": {},
   "outputs": [],
   "source": [
    "az.plot_trace(m_5_2_trace, var_names=[\"bM\", \"a\"]);"
   ]
  },
  {
   "cell_type": "markdown",
   "metadata": {},
   "source": [
    "#### 5.7\n",
    "Credit to [ksachdeva](https://ksachdeva.github.io/rethinking-tensorflow-probability/05_the_many_variables_and_the_spurious_waffles#Code-5.7)\n",
    "\n",
    "\n",
    "Author suggests that merely comparing parameter means between bivariate regressions is no way to decide which predictor is better. They may be independent, or related or could eliminate each other. \n",
    "\n",
    "How do we understand all this ?\n",
    "\n",
    "He explains that here we may want to think **causally**. \n",
    "\n",
    "Few interesting assumptions (or rather deductions) -\n",
    "\n",
    "* a) Age has a direct impact on Divorce rate as people may grow incompatible with the parter \n",
    "\n",
    "* b) Marriage Rate has a direct impact on Divorce rate for obvious reason (more marriages => more divorce)\n",
    "\n",
    "* c) Finally, Age has an impact on Marriage Rate because there are more young people\n",
    "\n",
    "Another way to represent above is :\n",
    "\n",
    "A -> D\n",
    "\n",
    "M -> D\n",
    "\n",
    "A -> M\n",
    "\n",
    "and yet another way is to use **DAG** (Directed Acyclic Graphs)\n"
   ]
  },
  {
   "cell_type": "code",
   "execution_count": null,
   "metadata": {},
   "outputs": [],
   "source": [
    "dag5_1 = CausalGraphicalModel(nodes=[\"A\", \"D\", \"M\"], edges=[(\"A\", \"D\"), (\"A\", \"M\"), (\"M\", \"D\")])\n",
    "pgm = daft.PGM()\n",
    "coordinates = {\"A\": (0, 0), \"D\": (1, 1), \"M\": (2, 0)}\n",
    "for node in dag5_1.dag.nodes:\n",
    "    pgm.add_node(node, node, *coordinates[node])\n",
    "for edge in dag5_1.dag.edges:\n",
    "    pgm.add_edge(*edge)\n",
    "pgm.render()\n",
    "plt.gca().invert_yaxis()"
   ]
  },
  {
   "cell_type": "markdown",
   "metadata": {},
   "source": [
    "Above DAG clearly shows that A impacts D directly and indirectly (i.e. via M)\n",
    "\n",
    "The author used \"total influence\". What is meant by *total* is that we need to account for every path from **A** to **D**.\n",
    "\n",
    "**MEDIATION** - Let's say that **A** did not directly influence **D**; rather it did it via **M**. This type of relationship is called *Mediation*\n",
    "\n",
    "\n",
    "Author raises many interesting questions here. He asks if there is indeed a direct effect of marriage rate or rather is age at marriage just driving both, creating a **spurious** correlation between marriage rate and divorce rate\n"
   ]
  },
  {
   "cell_type": "markdown",
   "metadata": {},
   "source": [
    "#### 5.8"
   ]
  },
  {
   "cell_type": "code",
   "execution_count": null,
   "metadata": {},
   "outputs": [],
   "source": [
    "# Note - There is no explicit code section for drawing the second DAG\n",
    "# but the figure appears in the book and hence drawing it as well\n",
    "dag5_2 = CausalGraphicalModel(nodes=[\"A\", \"D\", \"M\"], edges=[(\"A\", \"D\"), (\"A\", \"M\")])\n",
    "pgm = daft.PGM()\n",
    "coordinates = {\"A\": (0, 0), \"D\": (1, 1), \"M\": (2, 0)}\n",
    "for node in dag5_2.dag.nodes:\n",
    "    pgm.add_node(node, node, *coordinates[node])\n",
    "for edge in dag5_2.dag.edges:\n",
    "    pgm.add_edge(*edge)\n",
    "pgm.render()\n",
    "plt.gca().invert_yaxis()"
   ]
  },
  {
   "cell_type": "markdown",
   "metadata": {},
   "source": [
    "We can get the joint probability distribution implied by our causal graphical model using"
   ]
  },
  {
   "cell_type": "code",
   "execution_count": null,
   "metadata": {},
   "outputs": [],
   "source": [
    "print(dag5_2.get_distribution())"
   ]
  },
  {
   "cell_type": "markdown",
   "metadata": {},
   "source": [
    "To see the Conditional Independencies, we can use one of the following two snippets. The explanation is that **M** and **D** are not independent, unless we condition on **A** when they become conditionally independent."
   ]
  },
  {
   "cell_type": "code",
   "execution_count": null,
   "metadata": {},
   "outputs": [],
   "source": [
    "dag5_2.get_all_independence_relationships()"
   ]
  },
  {
   "cell_type": "code",
   "execution_count": null,
   "metadata": {},
   "outputs": [],
   "source": [
    "DMA_dag2 = CausalGraphicalModel(nodes=[\"A\", \"D\", \"M\"], edges=[(\"A\", \"D\"), (\"A\", \"M\")])\n",
    "all_independencies = DMA_dag2.get_all_independence_relationships()\n",
    "for s in all_independencies:\n",
    "    if all(\n",
    "        t[0] != s[0] or t[1] != s[1] or not t[2].issubset(s[2])\n",
    "        for t in all_independencies\n",
    "        if t != s\n",
    "    ):\n",
    "        print(s)"
   ]
  },
  {
   "cell_type": "markdown",
   "metadata": {},
   "source": [
    "#### 5.9"
   ]
  },
  {
   "cell_type": "markdown",
   "metadata": {},
   "source": [
    "Checking the independencies in the first DAG"
   ]
  },
  {
   "cell_type": "code",
   "execution_count": null,
   "metadata": {},
   "outputs": [],
   "source": [
    "DMA_dag1 = CausalGraphicalModel(nodes=[\"A\", \"D\", \"M\"], edges=[(\"A\", \"D\"), (\"A\", \"M\"), (\"M\", \"D\")])\n",
    "all_independencies = DMA_dag1.get_all_independence_relationships()\n",
    "for s in all_independencies:\n",
    "    if all(\n",
    "        t[0] != s[0] or t[1] != s[1] or not t[2].issubset(s[2])\n",
    "        for t in all_independencies\n",
    "        if t != s\n",
    "    ):\n",
    "        print(s)"
   ]
  },
  {
   "cell_type": "markdown",
   "metadata": {},
   "source": [
    "Executing above cell should not display anything as in the DAG1 (where all nodes are connected to each other) there are no conditional independencies."
   ]
  },
  {
   "cell_type": "markdown",
   "metadata": {},
   "source": [
    "#### 5.10"
   ]
  },
  {
   "cell_type": "code",
   "execution_count": null,
   "metadata": {},
   "outputs": [],
   "source": [
    "with pm.Model() as m_5_3:\n",
    "    a = pm.Normal(\"a\", 0, 0.2)\n",
    "    bA = pm.Normal(\"bA\", 0, 0.5)\n",
    "    bM = pm.Normal(\"bM\", 0, 0.5)\n",
    "\n",
    "    sigma = pm.Exponential(\"sigma\", 1)\n",
    "    mu = pm.Deterministic(\"mu\", a + bM * data[\"Marriage_std\"].values + bA * data[\"MedianAgeMarriage_std\"].values)\n",
    "\n",
    "    divorce_rate_std = pm.Normal(\n",
    "        \"divorce_rate_std\", mu=mu, sigma=sigma, observed=data[\"Divorce_std\"].values\n",
    "    )\n",
    "    prior_samples = pm.sample_prior_predictive()\n",
    "    m_5_3_trace = pm.sample()"
   ]
  },
  {
   "cell_type": "code",
   "execution_count": null,
   "metadata": {},
   "outputs": [],
   "source": [
    "az.summary(m_5_3_trace, var_names=[\"a\", \"bM\", \"bA\", \"sigma\"])"
   ]
  },
  {
   "cell_type": "markdown",
   "metadata": {},
   "source": [
    "#### 5.11"
   ]
  },
  {
   "cell_type": "code",
   "execution_count": null,
   "metadata": {},
   "outputs": [],
   "source": [
    "az.plot_forest(\n",
    "    [\n",
    "        m_5_3_trace,\n",
    "        m_5_2_trace,\n",
    "        m_5_1_trace,\n",
    "    ],\n",
    "    model_names=[\"5.3\", \"5.2\", \"5.1\"],\n",
    "    var_names=[\"bA\", \"bM\"],\n",
    "    combined=True,\n",
    ");"
   ]
  },
  {
   "cell_type": "markdown",
   "metadata": {},
   "source": [
    "#### 5.12"
   ]
  },
  {
   "cell_type": "code",
   "execution_count": null,
   "metadata": {},
   "outputs": [],
   "source": [
    "N = 50\n",
    "age = stats.norm().rvs(N)\n",
    "mar = stats.norm(-age).rvs(N)\n",
    "div = stats.norm(age).rvs(N)"
   ]
  },
  {
   "cell_type": "markdown",
   "metadata": {},
   "source": [
    "#### 5.13"
   ]
  },
  {
   "cell_type": "code",
   "execution_count": null,
   "metadata": {},
   "outputs": [],
   "source": [
    "with pm.Model() as m_5_4:\n",
    "    a = pm.Normal(\"a\", 0, 0.2)\n",
    "    bAM = pm.Normal(\"bAM\", 0, 0.5)\n",
    "    sigma = pm.Exponential(\"sigma\", 1)\n",
    "\n",
    "    mu = pm.Deterministic(\"mu\", a + bAM * data[\"MedianAgeMarriage_std\"].values)\n",
    "\n",
    "    marriage_std = pm.Normal(\n",
    "        \"Marriage_std\", mu=mu, sigma=sigma, observed=data[\"Marriage_std\"].values\n",
    "    )\n",
    "    prior_samples = pm.sample_prior_predictive()\n",
    "    m_5_4_trace = pm.sample()"
   ]
  },
  {
   "cell_type": "markdown",
   "metadata": {},
   "source": [
    "#### 5.14"
   ]
  },
  {
   "cell_type": "code",
   "execution_count": null,
   "metadata": {},
   "outputs": [],
   "source": [
    "mu_m_5_4_mean = m_5_4_trace.posterior[\"mu\"].mean(dim = ['chain','draw'])\n",
    "residuals = data[\"Marriage_std\"] - mu_m_5_4_mean"
   ]
  },
  {
   "cell_type": "markdown",
   "metadata": {},
   "source": [
    "#### 5.15\n",
    "We can skip most of the code with the posterior predictive plot functionality in pymc"
   ]
  },
  {
   "cell_type": "code",
   "execution_count": null,
   "metadata": {},
   "outputs": [],
   "source": [
    "with m_5_3:\n",
    "    m_5_3_ppc = pm.sample_posterior_predictive(\n",
    "        m_5_3_trace, var_names=[\"mu\", \"divorce_rate_std\"]\n",
    "    )\n",
    "\n",
    "\n",
    "mu_mean = m_5_3_ppc.posterior_predictive[\"mu\"].mean(dim = ['chain','draw'])\n",
    "mu_PI = az.hdi(m_5_3_ppc.posterior_predictive[\"mu\"], 0.89)\n",
    "\n",
    "D_sim = m_5_3_ppc.posterior_predictive[\"divorce_rate_std\"].mean(dim = ['chain','draw'])\n",
    "D_PI = az.hdi(m_5_3_ppc.posterior_predictive[\"divorce_rate_std\"], 0.89)"
   ]
  },
  {
   "cell_type": "markdown",
   "metadata": {},
   "source": [
    "#### 5.16"
   ]
  },
  {
   "cell_type": "code",
   "execution_count": null,
   "metadata": {},
   "outputs": [],
   "source": [
    "fig, ax = plt.subplots(figsize=(6, 6))\n",
    "plt.errorbar(\n",
    "    data[\"Divorce_std\"].values,\n",
    "    D_sim,\n",
    "    yerr=np.abs(np.array(D_sim) - mu_PI.min(dim = 'hdi').to_array()),\n",
    "    fmt=\"C0o\",\n",
    ")\n",
    "ax.scatter(data[\"Divorce_std\"].values, D_sim)\n",
    "\n",
    "min_x, max_x = data[\"Divorce_std\"].min(), data[\"Divorce_std\"].max()\n",
    "ax.plot([min_x, max_x], [min_x, max_x], \"k--\")\n",
    "\n",
    "ax.set_ylabel(\"Predicted Divorce\")\n",
    "ax.set_xlabel(\"Observed Divorce\");"
   ]
  },
  {
   "cell_type": "markdown",
   "metadata": {},
   "source": [
    "#### 5.17"
   ]
  },
  {
   "cell_type": "code",
   "execution_count": null,
   "metadata": {},
   "outputs": [],
   "source": []
  },
  {
   "cell_type": "markdown",
   "metadata": {},
   "source": [
    "#### 5.18"
   ]
  },
  {
   "cell_type": "code",
   "execution_count": null,
   "metadata": {},
   "outputs": [],
   "source": [
    "N = 100\n",
    "x_real = stats.norm.rvs(size=N)\n",
    "x_spur = stats.norm.rvs(x_real)\n",
    "y = stats.norm.rvs(x_real)\n",
    "\n",
    "az.plot_pair({\"x_real\": x_real, \"x_spur\": x_spur, \"y\": y});"
   ]
  },
  {
   "cell_type": "markdown",
   "metadata": {},
   "source": [
    "#### 5.19"
   ]
  },
  {
   "cell_type": "code",
   "execution_count": null,
   "metadata": {},
   "outputs": [],
   "source": [
    "data[\"Divorce_std\"] = standardize(data[\"Divorce\"])\n",
    "data[\"Marriage_std\"] = standardize(data[\"Marriage\"])\n",
    "data[\"MedianAgeMarriage_std\"] = standardize(data[\"MedianAgeMarriage\"])\n",
    "\n",
    "# Use Aesara shared variables so we can change them later\n",
    "marriage_shared = shared(data[\"Marriage_std\"].values)\n",
    "age_shared = shared(data[\"MedianAgeMarriage_std\"].values)\n",
    "\n",
    "with pm.Model() as m5_3_A:\n",
    "    # A -> D <- M\n",
    "    sigma = pm.Exponential(\"sigma\", 1)\n",
    "    bA = pm.Normal(\"bA\", 0, 0.5)\n",
    "    bM = pm.Normal(\"bM\", 0, 0.5)\n",
    "\n",
    "    a = pm.Normal(\"a\", 0, 0.01)\n",
    "    mu = pm.Deterministic(\"mu\", a + bA * age_shared + bM * marriage_shared)\n",
    "    divorce = pm.Normal(\"divorce\", mu, sigma, observed=data[\"Divorce_std\"].values)\n",
    "\n",
    "    # A -> M\n",
    "    sigma_M = pm.Exponential(\"sigma_m\", 1)\n",
    "    bAM = pm.Normal(\"bAM\", 0, 0.5)\n",
    "    aM = pm.Normal(\"aM\", 0, 0.01)\n",
    "    mu_M = pm.Deterministic(\"mu_m\", aM + bAM * marriage_shared)\n",
    "    marriage = pm.Normal(\"marriage\", mu_M, sigma_M, observed=data[\"Marriage_std\"].values)\n",
    "\n",
    "    m5_3_A_trace = pm.sample()"
   ]
  },
  {
   "cell_type": "markdown",
   "metadata": {},
   "source": [
    "#### 5.20"
   ]
  },
  {
   "cell_type": "code",
   "execution_count": null,
   "metadata": {},
   "outputs": [],
   "source": [
    "# We're setting this to 50 to match the shape of our input\n",
    "A_seq = np.linspace(-2, 2, 50)\n",
    "A_seq.shape"
   ]
  },
  {
   "cell_type": "markdown",
   "metadata": {},
   "source": [
    "#### 5.21"
   ]
  },
  {
   "cell_type": "code",
   "execution_count": null,
   "metadata": {},
   "outputs": [],
   "source": [
    "# With PyMC we have to simulate in each model separately\n",
    "\n",
    "# Simulate the marriage rates at each age first\n",
    "age_shared.set_value(A_seq)\n",
    "\n",
    "with m5_3_A:\n",
    "    m5_3_M_marriage = pm.sample_posterior_predictive(m5_3_A_trace)"
   ]
  },
  {
   "cell_type": "markdown",
   "metadata": {},
   "source": [
    "#### 5.22"
   ]
  },
  {
   "cell_type": "code",
   "execution_count": null,
   "metadata": {},
   "outputs": [],
   "source": [
    "_, ax = plt.subplots(1, 2, figsize=(12, 4))\n",
    "az.plot_hdi(A_seq, m5_3_M_marriage.posterior_predictive[\"divorce\"], ax=ax[0])\n",
    "ax[0].plot(A_seq, m5_3_M_marriage.posterior_predictive[\"divorce\"].mean(dim=['chain','draw']))\n",
    "ax[0].set_title(\"Total counterfactual effect of A on D\")\n",
    "ax[0].set_xlabel(\"manipulated A\")\n",
    "ax[0].set_ylabel(\"counterfactual D\")\n",
    "\n",
    "\n",
    "az.plot_hdi(A_seq, m5_3_M_marriage.posterior_predictive[\"marriage\"], ax=ax[1])\n",
    "ax[1].plot(A_seq, m5_3_M_marriage.posterior_predictive[\"marriage\"].mean(dim=['chain','draw']))\n",
    "ax[1].set_title(\"Total counterfactual effect of A -> M\")\n",
    "ax[1].set_xlabel(\"manipulated A\")\n",
    "ax[1].set_ylabel(\"counterfactual M\");"
   ]
  },
  {
   "cell_type": "markdown",
   "metadata": {},
   "source": [
    "#### 5.23"
   ]
  },
  {
   "cell_type": "code",
   "execution_count": null,
   "metadata": {},
   "outputs": [],
   "source": [
    "# We're setting this to 50 to match the shape of our input\n",
    "A_seq = (np.linspace(20, 30, 50) - 26.1) / 1.24\n",
    "\n",
    "age_shared.set_value(A_seq)\n",
    "\n",
    "with m5_3_A:\n",
    "    m5_3_M_ppc = pm.sample_posterior_predictive(m5_3_A_trace)\n",
    "\n",
    "# Average first and last column and take difference\n",
    "m5_3_M_ppc.posterior_predictive[\"divorce\"][:, -1].mean() - m5_3_M_ppc.posterior_predictive[\"divorce\"][:, 0].mean()"
   ]
  },
  {
   "cell_type": "markdown",
   "metadata": {},
   "source": [
    "#### 5.24"
   ]
  },
  {
   "cell_type": "code",
   "execution_count": null,
   "metadata": {},
   "outputs": [],
   "source": [
    "# Set values for marriage counterfactual\n",
    "marriage_counter_factual_x = np.linspace(-2, 2, 50)\n",
    "marriage_shared.set_value(marriage_counter_factual_x)\n",
    "\n",
    "# Fix age to zero\n",
    "age_shared.set_value(np.zeros(50))\n",
    "\n",
    "with m5_3_A:\n",
    "    m5_3_M_ppc = pm.sample_posterior_predictive(m5_3_A_trace)"
   ]
  },
  {
   "cell_type": "code",
   "execution_count": null,
   "metadata": {},
   "outputs": [],
   "source": [
    "fig, ax = plt.subplots()\n",
    "\n",
    "az.plot_hdi(marriage_counter_factual_x, m5_3_M_ppc.posterior_predictive[\"divorce\"], ax=ax)\n",
    "ax.plot(marriage_counter_factual_x, m5_3_M_ppc.posterior_predictive[\"divorce\"].mean(dim = ['chain','draw']))\n",
    "ax.set_title(\"Total counterfactual effect M on D\")\n",
    "ax.set_xlabel(\"manipulated M\")\n",
    "ax.set_ylabel(\"counterfactual D\");"
   ]
  },
  {
   "cell_type": "markdown",
   "metadata": {},
   "source": [
    "#### 5.25"
   ]
  },
  {
   "cell_type": "code",
   "execution_count": null,
   "metadata": {},
   "outputs": [],
   "source": [
    "A_seq = np.linspace(-2, 2, 30)"
   ]
  },
  {
   "cell_type": "markdown",
   "metadata": {},
   "source": [
    "#### 5.26"
   ]
  },
  {
   "cell_type": "code",
   "execution_count": null,
   "metadata": {},
   "outputs": [],
   "source": [
    "# Get the samples from Age Marriage model first\n",
    "with m5_3_A:\n",
    "    m5_3_M_marriage = pm.sample_posterior_predictive(\n",
    "        m5_3_A_trace, var_names=[\"sigma_m\", \"aM\", \"bAM\"]\n",
    "    )"
   ]
  },
  {
   "cell_type": "code",
   "execution_count": null,
   "metadata": {},
   "outputs": [],
   "source": [
    "marriage_mu_counterfactual = np.outer(m5_3_M_marriage.posterior_predictive[\"aM\"] + m5_3_M_marriage.posterior_predictive[\"bAM\"], A_seq)\n",
    "marriage_mu_counterfactual.shape"
   ]
  },
  {
   "cell_type": "code",
   "execution_count": null,
   "metadata": {},
   "outputs": [],
   "source": [
    "mu = marriage_mu_counterfactual.T\n",
    "sigma = az.extract_dataset(m5_3_M_marriage.posterior_predictive[\"sigma_m\"]).to_array()\n",
    "M_sim = stats.norm(loc=mu, scale=sigma).rvs()\n",
    "M_sim.shape"
   ]
  },
  {
   "cell_type": "markdown",
   "metadata": {},
   "source": [
    "#### 5.27"
   ]
  },
  {
   "cell_type": "code",
   "execution_count": null,
   "metadata": {},
   "outputs": [],
   "source": [
    "with m5_3_A:\n",
    "    m5_3_M_divorce = pm.sample_posterior_predictive(\n",
    "        m5_3_A_trace, var_names=[\"sigma\", \"bM\", \"bA\", \"a\"]\n",
    "    )"
   ]
  },
  {
   "cell_type": "code",
   "execution_count": null,
   "metadata": {},
   "outputs": [],
   "source": [
    "D_sim = np.zeros((30, 4000))\n",
    "a =  np.array(az.extract_dataset(m5_3_M_divorce.posterior_predictive[\"a\"]).to_array())\n",
    "bM = np.array(az.extract_dataset(m5_3_M_divorce.posterior_predictive[\"bM\"]).to_array())\n",
    "bA = np.array(az.extract_dataset(m5_3_M_divorce.posterior_predictive[\"bA\"]).to_array())\n",
    "sigma = np.array(az.extract_dataset(m5_3_M_divorce.posterior_predictive[\"sigma\"]).to_array())\n",
    "\n",
    "for i, age_counterfactual in enumerate(A_seq):\n",
    "    divorce_mu_counterfactual = a + bA * age_counterfactual + bM * M_sim[i, :]\n",
    "    samples = stats.norm(divorce_mu_counterfactual, sigma).rvs()\n",
    "    D_sim[i, :] = samples"
   ]
  },
  {
   "cell_type": "markdown",
   "metadata": {},
   "source": [
    "#### 5.28"
   ]
  },
  {
   "cell_type": "code",
   "execution_count": null,
   "metadata": {},
   "outputs": [],
   "source": [
    "d = pd.read_csv(os.path.join(\"Data\", \"milk.csv\"), delimiter=\";\")\n",
    "d.head()"
   ]
  },
  {
   "cell_type": "markdown",
   "metadata": {},
   "source": [
    "#### 5.29"
   ]
  },
  {
   "cell_type": "code",
   "execution_count": null,
   "metadata": {},
   "outputs": [],
   "source": [
    "d[\"K\"] = standardize(d[\"kcal.per.g\"])\n",
    "d[\"N\"] = standardize(d[\"neocortex.perc\"])\n",
    "d[\"M\"] = standardize(d[\"mass\"])"
   ]
  },
  {
   "cell_type": "markdown",
   "metadata": {},
   "source": [
    "#### 5.30"
   ]
  },
  {
   "cell_type": "code",
   "execution_count": null,
   "metadata": {},
   "outputs": [],
   "source": [
    "# This is meant to fail!\n",
    "with pm.Model() as m5_5_draft:\n",
    "    sigma = pm.Exponential(\"sigma\", 1)\n",
    "    bN = pm.Normal(\"bN\", 0, 1)\n",
    "    a = pm.Normal(\"a\", 0, 1)\n",
    "    mu = pm.Deterministic(\"mu\", a + bN * d[\"N\"].values)\n",
    "\n",
    "    K = pm.Normal(\"K\", mu, sigma, observed=d[\"K\"].values)\n",
    "\n",
    "    m5_5_draft_trace = pm.sample()"
   ]
  },
  {
   "cell_type": "markdown",
   "metadata": {},
   "source": [
    "#### 5.32"
   ]
  },
  {
   "cell_type": "code",
   "execution_count": null,
   "metadata": {},
   "outputs": [],
   "source": [
    "d[\"neocortex.perc\"]"
   ]
  },
  {
   "cell_type": "markdown",
   "metadata": {},
   "source": [
    "#### 5.32"
   ]
  },
  {
   "cell_type": "code",
   "execution_count": null,
   "metadata": {},
   "outputs": [],
   "source": [
    "dcc = d.dropna(axis=0)\n",
    "dcc.shape"
   ]
  },
  {
   "cell_type": "markdown",
   "metadata": {},
   "source": [
    "#### 5.33"
   ]
  },
  {
   "cell_type": "code",
   "execution_count": null,
   "metadata": {},
   "outputs": [],
   "source": [
    "shared_N = shared(dcc[\"N\"].values)\n",
    "\n",
    "with pm.Model() as m5_5_draft:\n",
    "    sigma = pm.Exponential(\"sigma\", 1)\n",
    "    bN = pm.Normal(\"bN\", 0, 1)\n",
    "    a = pm.Normal(\"a\", 0, 1)\n",
    "    mu = pm.Deterministic(\"mu\", a + bN * shared_N)\n",
    "\n",
    "    K = pm.Normal(\"K\", mu, sigma, observed=dcc[\"K\"])\n",
    "\n",
    "    m5_5_draft_trace = pm.sample()"
   ]
  },
  {
   "cell_type": "markdown",
   "metadata": {},
   "source": [
    "#### 5.34"
   ]
  },
  {
   "cell_type": "code",
   "execution_count": null,
   "metadata": {},
   "outputs": [],
   "source": [
    "xseq = [-2, 2]\n",
    "shared_N.set_value(np.array(xseq))\n",
    "with m5_5_draft:\n",
    "    m5_5_draft_prior_predictive = pm.sample_prior_predictive()"
   ]
  },
  {
   "cell_type": "code",
   "execution_count": null,
   "metadata": {},
   "outputs": [],
   "source": [
    "fig, ax = plt.subplots()\n",
    "\n",
    "ppr_K = m5_5_draft_prior_predictive.prior_predictive[\"K\"].mean(dim = ['chain'])\n",
    "\n",
    "for i in range(50):\n",
    "    ax.plot(xseq, ppr_K[i], c=\"black\", alpha=0.3)\n",
    "ax.set_xlim(xseq)\n",
    "ax.set_ylim(xseq)\n",
    "ax.set_title(\"a~dnorm(0,1) \\n bN~dnorm(0,1)\")\n",
    "ax.set_xlabel(\"neocortex percent (std)\")\n",
    "ax.set_ylabel(\"kilocal per g (std)\");"
   ]
  },
  {
   "cell_type": "markdown",
   "metadata": {},
   "source": [
    "#### 5.35"
   ]
  },
  {
   "cell_type": "code",
   "execution_count": null,
   "metadata": {},
   "outputs": [],
   "source": [
    "shared_N = shared(dcc[\"N\"].values)\n",
    "\n",
    "with pm.Model() as m5_5:\n",
    "    sigma = pm.Exponential(\"sigma\", 1)\n",
    "    bN = pm.Normal(\"bN\", 0, 0.5)\n",
    "    a = pm.Normal(\"a\", 0, 0.2)\n",
    "    mu = pm.Deterministic(\"mu\", a + bN * shared_N)\n",
    "\n",
    "    K = pm.Normal(\"K\", mu, sigma, observed=dcc[\"K\"])\n",
    "\n",
    "    m5_5_trace = pm.sample()\n",
    "\n",
    "m5_5_data = az.extract_dataset(m5_5_trace)"
   ]
  },
  {
   "cell_type": "code",
   "execution_count": null,
   "metadata": {},
   "outputs": [],
   "source": [
    "xseq = [-2, 2]\n",
    "shared_N.set_value(np.array(xseq))\n",
    "with m5_5:\n",
    "    m5_5_prior_predictive = pm.sample_prior_predictive()"
   ]
  },
  {
   "cell_type": "code",
   "execution_count": null,
   "metadata": {},
   "outputs": [],
   "source": [
    "fig, ax = plt.subplots()\n",
    "\n",
    "ppr_K = m5_5_prior_predictive.prior_predictive[\"K\"].mean(dim = ['chain'])\n",
    "\n",
    "for i in range(50):\n",
    "    ax.plot(xseq, ppr_K[i], c=\"black\", alpha=0.3)\n",
    "ax.set_xlim(xseq)\n",
    "ax.set_ylim(xseq)\n",
    "ax.set_title(\"a~dnorm(0,1) \\n bN~dnorm(0,1)\")\n",
    "ax.set_xlabel(\"neocortex percent (std)\")\n",
    "ax.set_ylabel(\"kilocal per g (std)\");"
   ]
  },
  {
   "cell_type": "markdown",
   "metadata": {},
   "source": [
    "#### 5.36"
   ]
  },
  {
   "cell_type": "code",
   "execution_count": null,
   "metadata": {},
   "outputs": [],
   "source": [
    "az.summary(m5_5_trace, var_names=[\"a\", \"bN\", \"sigma\"])"
   ]
  },
  {
   "cell_type": "markdown",
   "metadata": {},
   "source": [
    "#### 5.37"
   ]
  },
  {
   "cell_type": "code",
   "execution_count": null,
   "metadata": {},
   "outputs": [],
   "source": [
    "xseq = np.linspace(dcc[\"N\"].min() - 0.15, dcc[\"N\"].max() + 0.15, 30)\n",
    "\n",
    "shared_N.set_value(xseq)\n",
    "\n",
    "with m5_5:\n",
    "    m5_5_posterior_predictive = pm.sample_posterior_predictive(\n",
    "        m5_5_trace, var_names=[\"mu\"]\n",
    "    )\n",
    "\n",
    "mu_ppd = m5_5_posterior_predictive.posterior_predictive[\"mu\"]\n",
    "mu_mean = mu_ppd.mean(dim = ['chain','draw'])\n",
    "\n",
    "fig, ax = plt.subplots()\n",
    "az.plot_hdi(xseq, mu_ppd, ax=ax)\n",
    "ax.plot(xseq, mu_mean, c=\"black\")\n",
    "ax.scatter(dcc[\"N\"], dcc[\"K\"], facecolors=\"none\", edgecolors=\"b\")\n",
    "ax.set_ylim(-1.5, 2.2)\n",
    "ax.set_xlabel(\"neocortex percent (std)\")\n",
    "ax.set_ylabel(\"kilocal per g (std)\");"
   ]
  },
  {
   "cell_type": "markdown",
   "metadata": {},
   "source": [
    "#### 5.38"
   ]
  },
  {
   "cell_type": "code",
   "execution_count": null,
   "metadata": {},
   "outputs": [],
   "source": [
    "shared_M = shared(dcc[\"M\"].values)\n",
    "\n",
    "with pm.Model() as m5_6:\n",
    "    sigma = pm.Exponential(\"sigma\", 1)\n",
    "    bM = pm.Normal(\"bM\", 0, 0.5)\n",
    "    a = pm.Normal(\"a\", 0, 0.2)\n",
    "    mu = pm.Deterministic(\"mu\", a + bM * shared_M)\n",
    "\n",
    "    K = pm.Normal(\"K\", mu, sigma, observed=dcc[\"K\"])\n",
    "\n",
    "    m5_6_trace = pm.sample()\n",
    "\n",
    "m5_6_data = az.extract_dataset(m5_6_trace)\n",
    "az.summary(m5_6_trace, var_names=[\"bM\", \"a\", \"sigma\"])"
   ]
  },
  {
   "cell_type": "markdown",
   "metadata": {},
   "source": [
    "#### 5.39"
   ]
  },
  {
   "cell_type": "code",
   "execution_count": null,
   "metadata": {},
   "outputs": [],
   "source": [
    "shared_N = shared(dcc[\"N\"].values)\n",
    "shared_M = shared(dcc[\"M\"].values)\n",
    "\n",
    "with pm.Model() as m5_7:\n",
    "    sigma = pm.Exponential(\"sigma\", 1)\n",
    "    bN = pm.Normal(\"bN\", 0, 0.5)\n",
    "    bM = pm.Normal(\"bM\", 0, 0.5)\n",
    "    a = pm.Normal(\"a\", 0, 0.2)\n",
    "\n",
    "    mu = pm.Deterministic(\"mu\", a + bN * shared_N + bM * shared_M)\n",
    "\n",
    "    K = pm.Normal(\"K\", mu, sigma, observed=dcc[\"K\"])\n",
    "\n",
    "    m5_7_trace = pm.sample(tune=2000, draws=10000)\n",
    "\n",
    "m5_7_data = az.extract_dataset(m5_7_trace)\n",
    "az.summary(m5_7_trace, var_names=[\"a\", \"bN\", \"bM\", \"sigma\"])"
   ]
  },
  {
   "cell_type": "markdown",
   "metadata": {},
   "source": [
    "#### 5.40"
   ]
  },
  {
   "cell_type": "code",
   "execution_count": null,
   "metadata": {},
   "outputs": [],
   "source": [
    "az.plot_forest(\n",
    "    [m5_7_trace, m5_6_trace, m5_5_trace],\n",
    "    model_names=[\"m5.7\", \"m5.6\", \"m5.5\"],\n",
    "    var_names=[\"bM\", \"bN\"],\n",
    "    combined=True,\n",
    ");"
   ]
  },
  {
   "cell_type": "markdown",
   "metadata": {},
   "source": [
    "#### 5.41\n",
    "This code actually produces right plot Confirned from Professor McElreath that the book text is mistaken."
   ]
  },
  {
   "cell_type": "code",
   "execution_count": null,
   "metadata": {},
   "outputs": [],
   "source": [
    "xseq = np.linspace(dcc[\"M\"].min() - 0.15, dcc[\"M\"].max() + 0.15, 30)\n",
    "shared_N.set_value(np.zeros(30))\n",
    "shared_M.set_value(xseq)\n",
    "\n",
    "\n",
    "with m5_7:\n",
    "    m5_7_posterior_predictive = pm.sample_posterior_predictive(\n",
    "        m5_7_trace, var_names=[\"mu\"]\n",
    "    )\n",
    "\n",
    "mu_ppd = m5_7_posterior_predictive.posterior_predictive[\"mu\"]\n",
    "mu_mean = mu_ppd.mean(dim = ['chain','draw'])\n",
    "\n",
    "fig, ax = plt.subplots()\n",
    "az.plot_hdi(xseq, mu_ppd, ax=ax)\n",
    "ax.plot(xseq, mu_mean, c=\"black\")\n",
    "\n",
    "ax.set_ylim(-1.5, 2.2)\n",
    "ax.set_title(\"Counterfactual holding N=0\")\n",
    "ax.set_ylabel(\"kilocal per g (std)\")\n",
    "ax.set_xlabel(\"log body mass (std)\");"
   ]
  },
  {
   "cell_type": "markdown",
   "metadata": {},
   "source": [
    "#### 5.42"
   ]
  },
  {
   "cell_type": "code",
   "execution_count": null,
   "metadata": {},
   "outputs": [],
   "source": [
    "# M -> K <- N\n",
    "# M -> N\n",
    "\n",
    "n = 100\n",
    "M = stats.norm().rvs(n)\n",
    "N = stats.norm(M).rvs(n)\n",
    "K = stats.norm(N - M).rvs(n)\n",
    "d_sim = pd.DataFrame({\"K\": K, \"M\": M, \"N\": N})"
   ]
  },
  {
   "cell_type": "code",
   "execution_count": null,
   "metadata": {},
   "outputs": [],
   "source": [
    "# Professor McElreath suggests viewing the pair plots\n",
    "az.plot_pair({\"M\": M, \"N\": N, \"K\": K});"
   ]
  },
  {
   "cell_type": "markdown",
   "metadata": {},
   "source": [
    "#### 5.43"
   ]
  },
  {
   "cell_type": "code",
   "execution_count": null,
   "metadata": {},
   "outputs": [],
   "source": [
    "# M -> K <- N\n",
    "# N -> M\n",
    "\n",
    "n = 100\n",
    "N = stats.norm().rvs(n)\n",
    "M = stats.norm(N).rvs(100)\n",
    "K = stats.norm(N - M).rvs(100)\n",
    "d_sim2 = pd.DataFrame({\"K\": K, \"M\": M, \"N\": N})\n",
    "\n",
    "# M -> K <- N\n",
    "# M <- U -> N\n",
    "\n",
    "n = 100\n",
    "U = stats.norm().rvs(n)\n",
    "N = stats.norm(U).rvs(n)\n",
    "M = stats.norm(U).rvs(100)\n",
    "K = stats.norm(N - M).rvs(100)\n",
    "d_sim3 = pd.DataFrame({\"K\": K, \"M\": M, \"N\": N})"
   ]
  },
  {
   "cell_type": "markdown",
   "metadata": {},
   "source": [
    "#### 5.45"
   ]
  },
  {
   "cell_type": "code",
   "execution_count": null,
   "metadata": {},
   "outputs": [],
   "source": [
    "d = pd.read_csv(os.path.join(\"Data\", \"Howell1.csv\"), delimiter=\";\")\n",
    "d.head()"
   ]
  },
  {
   "cell_type": "markdown",
   "metadata": {},
   "source": [
    "#### 5.46"
   ]
  },
  {
   "cell_type": "code",
   "execution_count": null,
   "metadata": {},
   "outputs": [],
   "source": [
    "mu_female = stats.norm(178, 20).rvs(1000)\n",
    "mu_male = stats.norm(178, 20).rvs(1000) + stats.norm(0, 10).rvs(1000)\n",
    "\n",
    "az.summary({\"mu_female\": mu_female, \"mu_male\": mu_male}, kind=\"stats\")"
   ]
  },
  {
   "cell_type": "markdown",
   "metadata": {},
   "source": [
    "#### 5.47"
   ]
  },
  {
   "cell_type": "code",
   "execution_count": null,
   "metadata": {},
   "outputs": [],
   "source": [
    "sex = d[\"male\"].values"
   ]
  },
  {
   "cell_type": "markdown",
   "metadata": {},
   "source": [
    "#### 5.48"
   ]
  },
  {
   "cell_type": "code",
   "execution_count": null,
   "metadata": {},
   "outputs": [],
   "source": [
    "with pm.Model() as m5_8:\n",
    "    sigma = pm.Uniform(\"sigma\", 0, 50)\n",
    "    mu = pm.Normal(\"mu\", 178, 20, shape=2)\n",
    "    height = pm.Normal(\"height\", mu[sex], sigma, observed=d[\"height\"].values)\n",
    "    m5_8_trace = pm.sample()\n",
    "\n",
    "az.summary(m5_8_trace)"
   ]
  },
  {
   "cell_type": "markdown",
   "metadata": {},
   "source": [
    "#### 5.49"
   ]
  },
  {
   "cell_type": "code",
   "execution_count": null,
   "metadata": {},
   "outputs": [],
   "source": [
    "with pm.Model() as m5_8:\n",
    "    sigma = pm.Uniform(\"sigma\", 0, 50)\n",
    "    mu = pm.Normal(\"mu\", 178, 20, shape=2)\n",
    "    height = pm.Normal(\"height\", mu[sex], sigma, observed=d[\"height\"].values)\n",
    "    \n",
    "    # With PyMC it's easier just to create a deterministic that includes both values\n",
    "    diff_fm = pm.Deterministic(\"diff\", mu[0] - mu[1])\n",
    "    \n",
    "    m5_8_trace = pm.sample()\n",
    "\n",
    "az.summary(m5_8_trace)"
   ]
  },
  {
   "cell_type": "markdown",
   "metadata": {},
   "source": [
    "#### 5.50"
   ]
  },
  {
   "cell_type": "code",
   "execution_count": null,
   "metadata": {},
   "outputs": [],
   "source": [
    "d = pd.read_csv(os.path.join(\"Data\", \"milk.csv\"), delimiter=\";\")\n",
    "d.head()"
   ]
  },
  {
   "cell_type": "markdown",
   "metadata": {},
   "source": [
    "#### 5.51"
   ]
  },
  {
   "cell_type": "code",
   "execution_count": null,
   "metadata": {},
   "outputs": [],
   "source": [
    "d[\"clade_id\"] = pd.Categorical(d[\"clade\"]).codes"
   ]
  },
  {
   "cell_type": "markdown",
   "metadata": {},
   "source": [
    "#### 5.52"
   ]
  },
  {
   "cell_type": "code",
   "execution_count": null,
   "metadata": {},
   "outputs": [],
   "source": [
    "d[\"clade_id\"].max() + 1"
   ]
  },
  {
   "cell_type": "code",
   "execution_count": null,
   "metadata": {},
   "outputs": [],
   "source": [
    "d[\"K\"] = standardize(d[\"kcal.per.g\"])\n",
    "\n",
    "with pm.Model() as m5_9:\n",
    "    sigma = pm.Exponential(\"sigma\", 1)\n",
    "    mu = pm.Normal(\"mu\", 0, 0.5, shape=[d[\"clade_id\"].max() + 1])\n",
    "    K = pm.Normal(\"K\", mu[d[\"clade_id\"].values], sigma, observed=d[\"K\"])\n",
    "\n",
    "    m5_9_trace = pm.sample()\n",
    "\n",
    "az.plot_forest(m5_9_trace, combined=True, var_names=[\"mu\"]);"
   ]
  },
  {
   "cell_type": "markdown",
   "metadata": {},
   "source": [
    "#### 5.53"
   ]
  },
  {
   "cell_type": "code",
   "execution_count": null,
   "metadata": {},
   "outputs": [],
   "source": [
    "d[\"house\"] = np.random.randint(0, 4, size=d.shape[0])"
   ]
  },
  {
   "cell_type": "markdown",
   "metadata": {},
   "source": [
    "#### 5.54"
   ]
  },
  {
   "cell_type": "code",
   "execution_count": null,
   "metadata": {},
   "outputs": [],
   "source": [
    "with pm.Model() as m5_10:\n",
    "    sigma = pm.Exponential(\"sigma\", 1)\n",
    "    mu_house = pm.Normal(\"mu_house\", 0, 0.5, shape=[d[\"house\"].max() + 1])\n",
    "    mu_clade = pm.Normal(\"mu_clade\", 0, 0.5, shape=[d[\"clade_id\"].max() + 1])\n",
    "    mu = mu_clade[d[\"clade_id\"].values] + mu_house[d[\"house\"].values]\n",
    "\n",
    "    K = pm.Normal(\"K\", mu, sigma, observed=d[\"K\"])\n",
    "\n",
    "    m5_9_trace = pm.sample()\n",
    "\n",
    "az.summary(m5_9_trace, var_names=[\"mu_clade\", \"mu_house\"])"
   ]
  },
  {
   "cell_type": "code",
   "execution_count": null,
   "metadata": {},
   "outputs": [],
   "source": [
    "%load_ext watermark\n",
    "%watermark -n -u -v -iv -w"
   ]
  }
 ],
 "metadata": {
  "kernelspec": {
   "display_name": "Python 3 (ipykernel)",
   "language": "python",
   "name": "python3"
  },
  "language_info": {
   "codemirror_mode": {
    "name": "ipython",
    "version": 3
   },
   "file_extension": ".py",
   "mimetype": "text/x-python",
   "name": "python",
   "nbconvert_exporter": "python",
   "pygments_lexer": "ipython3",
   "version": "3.9.13"
  }
 },
 "nbformat": 4,
 "nbformat_minor": 4
}

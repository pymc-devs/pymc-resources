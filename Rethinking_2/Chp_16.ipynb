{
 "cells": [
  {
   "cell_type": "code",
   "execution_count": 1,
   "metadata": {},
   "outputs": [
    {
     "name": "stderr",
     "output_type": "stream",
     "text": [
      "WARNING (theano.tensor.blas): Using NumPy C-API based implementation for BLAS functions.\n"
     ]
    }
   ],
   "source": [
    "import warnings\n",
    "\n",
    "import arviz as az\n",
    "import matplotlib.pyplot as plt\n",
    "import numpy as np\n",
    "import pandas as pd\n",
    "import pymc3 as pm\n",
    "\n",
    "from theano import tensor as tt\n",
    "\n",
    "warnings.filterwarnings('ignore', category=FutureWarning)"
   ]
  },
  {
   "cell_type": "code",
   "execution_count": 2,
   "metadata": {},
   "outputs": [],
   "source": [
    "%config Inline.figure_format = 'retina'\n",
    "az.style.use('arviz-darkgrid')\n",
    "az.rcParams['stats.hdi_prob'] = 0.89  # set credible interval for entire notebook\n",
    "az.rcParams['stats.information_criterion'] = 'waic'  # set information criterion to use in `compare`\n",
    "az.rcParams['stats.ic_scale'] = 'deviance'    # set information criterion scale\n",
    "np.random.seed(0)"
   ]
  },
  {
   "cell_type": "markdown",
   "metadata": {},
   "source": [
    "#### Code 16.4"
   ]
  },
  {
   "cell_type": "code",
   "execution_count": 3,
   "metadata": {},
   "outputs": [
    {
     "data": {
      "text/html": [
       "<div>\n",
       "<style scoped>\n",
       "    .dataframe tbody tr th:only-of-type {\n",
       "        vertical-align: middle;\n",
       "    }\n",
       "\n",
       "    .dataframe tbody tr th {\n",
       "        vertical-align: top;\n",
       "    }\n",
       "\n",
       "    .dataframe thead th {\n",
       "        text-align: right;\n",
       "    }\n",
       "</style>\n",
       "<table border=\"1\" class=\"dataframe\">\n",
       "  <thead>\n",
       "    <tr style=\"text-align: right;\">\n",
       "      <th></th>\n",
       "      <th>y</th>\n",
       "      <th>gender</th>\n",
       "      <th>age</th>\n",
       "      <th>majority_first</th>\n",
       "      <th>culture</th>\n",
       "    </tr>\n",
       "  </thead>\n",
       "  <tbody>\n",
       "    <tr>\n",
       "      <th>count</th>\n",
       "      <td>629.000000</td>\n",
       "      <td>629.000000</td>\n",
       "      <td>629.000000</td>\n",
       "      <td>629.000000</td>\n",
       "      <td>629.000000</td>\n",
       "    </tr>\n",
       "    <tr>\n",
       "      <th>mean</th>\n",
       "      <td>2.120827</td>\n",
       "      <td>1.505564</td>\n",
       "      <td>8.030207</td>\n",
       "      <td>0.484897</td>\n",
       "      <td>3.751987</td>\n",
       "    </tr>\n",
       "    <tr>\n",
       "      <th>std</th>\n",
       "      <td>0.727986</td>\n",
       "      <td>0.500367</td>\n",
       "      <td>2.497906</td>\n",
       "      <td>0.500170</td>\n",
       "      <td>1.960319</td>\n",
       "    </tr>\n",
       "    <tr>\n",
       "      <th>min</th>\n",
       "      <td>1.000000</td>\n",
       "      <td>1.000000</td>\n",
       "      <td>4.000000</td>\n",
       "      <td>0.000000</td>\n",
       "      <td>1.000000</td>\n",
       "    </tr>\n",
       "    <tr>\n",
       "      <th>25%</th>\n",
       "      <td>2.000000</td>\n",
       "      <td>1.000000</td>\n",
       "      <td>6.000000</td>\n",
       "      <td>0.000000</td>\n",
       "      <td>3.000000</td>\n",
       "    </tr>\n",
       "    <tr>\n",
       "      <th>50%</th>\n",
       "      <td>2.000000</td>\n",
       "      <td>2.000000</td>\n",
       "      <td>8.000000</td>\n",
       "      <td>0.000000</td>\n",
       "      <td>3.000000</td>\n",
       "    </tr>\n",
       "    <tr>\n",
       "      <th>75%</th>\n",
       "      <td>3.000000</td>\n",
       "      <td>2.000000</td>\n",
       "      <td>10.000000</td>\n",
       "      <td>1.000000</td>\n",
       "      <td>5.000000</td>\n",
       "    </tr>\n",
       "    <tr>\n",
       "      <th>max</th>\n",
       "      <td>3.000000</td>\n",
       "      <td>2.000000</td>\n",
       "      <td>14.000000</td>\n",
       "      <td>1.000000</td>\n",
       "      <td>8.000000</td>\n",
       "    </tr>\n",
       "  </tbody>\n",
       "</table>\n",
       "</div>"
      ],
      "text/plain": [
       "                y      gender         age  majority_first     culture\n",
       "count  629.000000  629.000000  629.000000      629.000000  629.000000\n",
       "mean     2.120827    1.505564    8.030207        0.484897    3.751987\n",
       "std      0.727986    0.500367    2.497906        0.500170    1.960319\n",
       "min      1.000000    1.000000    4.000000        0.000000    1.000000\n",
       "25%      2.000000    1.000000    6.000000        0.000000    3.000000\n",
       "50%      2.000000    2.000000    8.000000        0.000000    3.000000\n",
       "75%      3.000000    2.000000   10.000000        1.000000    5.000000\n",
       "max      3.000000    2.000000   14.000000        1.000000    8.000000"
      ]
     },
     "execution_count": 3,
     "metadata": {},
     "output_type": "execute_result"
    }
   ],
   "source": [
    "df = pd.read_csv('Data/Boxes.csv', delimiter=';')\n",
    "df.describe()"
   ]
  },
  {
   "cell_type": "markdown",
   "metadata": {},
   "source": [
    "#### Code 16.5"
   ]
  },
  {
   "cell_type": "code",
   "execution_count": 4,
   "metadata": {},
   "outputs": [
    {
     "data": {
      "text/plain": [
       "1    0.211447\n",
       "2    0.456280\n",
       "3    0.332273\n",
       "Name: y, dtype: float64"
      ]
     },
     "execution_count": 4,
     "metadata": {},
     "output_type": "execute_result"
    }
   ],
   "source": [
    "df['y'].value_counts(normalize=True, sort=False)"
   ]
  },
  {
   "cell_type": "markdown",
   "metadata": {},
   "source": [
    "#### Code 16.6"
   ]
  },
  {
   "cell_type": "code",
   "execution_count": 5,
   "metadata": {},
   "outputs": [
    {
     "data": {
      "text/plain": [
       "0.6333333333333333"
      ]
     },
     "execution_count": 5,
     "metadata": {},
     "output_type": "execute_result"
    }
   ],
   "source": [
    "N = 30  # number of children\n",
    "\n",
    "# half are random\n",
    "# sample from 1, 2, 3 at random for each\n",
    "y1 = np.random.randint(low=1, high=4, size=N//2)\n",
    "\n",
    "y2 = np.full(shape=N // 2, fill_value=2)\n",
    "\n",
    "y = np.random.permutation(np.hstack((y1, y2)))\n",
    "np.sum(y==2) / N"
   ]
  },
  {
   "cell_type": "markdown",
   "metadata": {},
   "source": [
    "#### Code 16.7"
   ]
  },
  {
   "cell_type": "code",
   "execution_count": 6,
   "metadata": {},
   "outputs": [],
   "source": [
    "def StrategyMixture(p, majority_first):\n",
    "\n",
    "    def logp(y):\n",
    "        phi = [None] * 5\n",
    "        \n",
    "        # Probability of data\n",
    "        phi[0] = tt.switch( tt.eq(y, 2), 1, 0)\n",
    "        phi[1] = tt.switch( tt.eq(y, 3), 1, 0)\n",
    "        phi[2] = tt.switch( tt.eq(y, 1), 1, 0)\n",
    "        phi[3] = tt.ones_like(y) * 1/3\n",
    "        phi[4] = tt.switch( tt.eq(majority_first, 1),\n",
    "                         tt.switch( tt.eq(y, 2), 1, 0),\n",
    "                         tt.switch( tt.eq(y, 3), 1, 0)\n",
    "                        )    \n",
    "        \n",
    "        # Compute log ( p_s * Pr(y_i|s) )\n",
    "        for i in range(5):\n",
    "            phi[i] = tt.log(phi[i]) + tt.log(p[i])\n",
    "            \n",
    "        # Compute average log-probability of y_i\n",
    "        return tt.sum(pm.math.logsumexp(phi, axis=0))\n",
    "\n",
    "    return logp\n",
    "\n",
    "with pm.Model() as m16_2:\n",
    "    # prior\n",
    "    p = pm.Dirichlet('p', np.array([4, 4, 4, 4, 4]))\n",
    "    \n",
    "    # likelihood\n",
    "    y = pm.DensityDist('y', StrategyMixture(p, df['majority_first']), observed=df['y'])"
   ]
  },
  {
   "cell_type": "code",
   "execution_count": 7,
   "metadata": {},
   "outputs": [
    {
     "data": {
      "image/svg+xml": [
       "<?xml version=\"1.0\" encoding=\"UTF-8\" standalone=\"no\"?>\n",
       "<!DOCTYPE svg PUBLIC \"-//W3C//DTD SVG 1.1//EN\"\n",
       " \"http://www.w3.org/Graphics/SVG/1.1/DTD/svg11.dtd\">\n",
       "<!-- Generated by graphviz version 2.43.0 (0)\n",
       " -->\n",
       "<!-- Title: %3 Pages: 1 -->\n",
       "<svg width=\"182pt\" height=\"260pt\"\n",
       " viewBox=\"0.00 0.00 182.00 259.91\" xmlns=\"http://www.w3.org/2000/svg\" xmlns:xlink=\"http://www.w3.org/1999/xlink\">\n",
       "<g id=\"graph0\" class=\"graph\" transform=\"scale(1 1) rotate(0) translate(4 255.91)\">\n",
       "<title>%3</title>\n",
       "<polygon fill=\"white\" stroke=\"transparent\" points=\"-4,4 -4,-255.91 178,-255.91 178,4 -4,4\"/>\n",
       "<g id=\"clust1\" class=\"cluster\">\n",
       "<title>cluster5</title>\n",
       "<path fill=\"none\" stroke=\"black\" d=\"M35,-129.95C35,-129.95 139,-129.95 139,-129.95 145,-129.95 151,-135.95 151,-141.95 151,-141.95 151,-231.91 151,-231.91 151,-237.91 145,-243.91 139,-243.91 139,-243.91 35,-243.91 35,-243.91 29,-243.91 23,-237.91 23,-231.91 23,-231.91 23,-141.95 23,-141.95 23,-135.95 29,-129.95 35,-129.95\"/>\n",
       "<text text-anchor=\"middle\" x=\"138\" y=\"-137.75\" font-family=\"Times,serif\" font-size=\"14.00\">5</text>\n",
       "</g>\n",
       "<g id=\"clust2\" class=\"cluster\">\n",
       "<title>cluster629</title>\n",
       "<path fill=\"none\" stroke=\"black\" d=\"M20,-8C20,-8 154,-8 154,-8 160,-8 166,-14 166,-20 166,-20 166,-109.95 166,-109.95 166,-115.95 160,-121.95 154,-121.95 154,-121.95 20,-121.95 20,-121.95 14,-121.95 8,-115.95 8,-109.95 8,-109.95 8,-20 8,-20 8,-14 14,-8 20,-8\"/>\n",
       "<text text-anchor=\"middle\" x=\"144\" y=\"-15.8\" font-family=\"Times,serif\" font-size=\"14.00\">629</text>\n",
       "</g>\n",
       "<!-- p -->\n",
       "<g id=\"node1\" class=\"node\">\n",
       "<title>p</title>\n",
       "<ellipse fill=\"none\" stroke=\"black\" cx=\"87\" cy=\"-198.43\" rx=\"55.72\" ry=\"37.45\"/>\n",
       "<text text-anchor=\"middle\" x=\"87\" y=\"-209.73\" font-family=\"Times,serif\" font-size=\"14.00\">p</text>\n",
       "<text text-anchor=\"middle\" x=\"87\" y=\"-194.73\" font-family=\"Times,serif\" font-size=\"14.00\">~</text>\n",
       "<text text-anchor=\"middle\" x=\"87\" y=\"-179.73\" font-family=\"Times,serif\" font-size=\"14.00\">Dirichlet</text>\n",
       "</g>\n",
       "<!-- y -->\n",
       "<g id=\"node2\" class=\"node\">\n",
       "<title>y</title>\n",
       "<ellipse fill=\"lightgrey\" stroke=\"black\" cx=\"87\" cy=\"-76.48\" rx=\"71.34\" ry=\"37.45\"/>\n",
       "<text text-anchor=\"middle\" x=\"87\" y=\"-87.78\" font-family=\"Times,serif\" font-size=\"14.00\">y</text>\n",
       "<text text-anchor=\"middle\" x=\"87\" y=\"-72.78\" font-family=\"Times,serif\" font-size=\"14.00\">~</text>\n",
       "<text text-anchor=\"middle\" x=\"87\" y=\"-57.78\" font-family=\"Times,serif\" font-size=\"14.00\">DensityDist</text>\n",
       "</g>\n",
       "<!-- p&#45;&gt;y -->\n",
       "<g id=\"edge1\" class=\"edge\">\n",
       "<title>p&#45;&gt;y</title>\n",
       "<path fill=\"none\" stroke=\"black\" d=\"M87,-160.79C87,-149.38 87,-136.65 87,-124.63\"/>\n",
       "<polygon fill=\"black\" stroke=\"black\" points=\"90.5,-124.31 87,-114.31 83.5,-124.31 90.5,-124.31\"/>\n",
       "</g>\n",
       "</g>\n",
       "</svg>\n"
      ],
      "text/plain": [
       "<graphviz.dot.Digraph at 0x7f7f1e85eb20>"
      ]
     },
     "execution_count": 7,
     "metadata": {},
     "output_type": "execute_result"
    }
   ],
   "source": [
    "pm.model_to_graphviz(m16_2)"
   ]
  },
  {
   "cell_type": "markdown",
   "metadata": {},
   "source": [
    "#### Code 16.8"
   ]
  },
  {
   "cell_type": "code",
   "execution_count": null,
   "metadata": {},
   "outputs": [
    {
     "name": "stderr",
     "output_type": "stream",
     "text": [
      "Auto-assigning NUTS sampler...\n",
      "Initializing NUTS using jitter+adapt_diag...\n"
     ]
    }
   ],
   "source": [
    "with m16_2:\n",
    "    m16_2_trace = pm.sample()"
   ]
  },
  {
   "cell_type": "code",
   "execution_count": null,
   "metadata": {},
   "outputs": [],
   "source": [
    "az.plot_forest(m16_2_trace, combined=True, colors='black')\n",
    "# for tick in plt.gca().get_yticklabels():\n",
    "#     tick.set_text('aaaa')\n",
    "ax = plt.gca()\n",
    "ax.set_yticklabels([f'5 Follow First', '4 Random', '3 Maverick', '2 Minority', '1 Majority'], ha='left')\n",
    "ax.get_yaxis().set_tick_params(pad=100)\n",
    "plt.xlabel('Value');"
   ]
  },
  {
   "cell_type": "code",
   "execution_count": null,
   "metadata": {},
   "outputs": [],
   "source": [
    "%load_ext watermark\n",
    "%watermark -n -u -v -iv -w"
   ]
  },
  {
   "cell_type": "code",
   "execution_count": null,
   "metadata": {},
   "outputs": [],
   "source": []
  }
 ],
 "metadata": {
  "hide_input": false,
  "kernelspec": {
   "display_name": "Python 3",
   "language": "python",
   "name": "python3"
  },
  "language_info": {
   "codemirror_mode": {
    "name": "ipython",
    "version": 3
   },
   "file_extension": ".py",
   "mimetype": "text/x-python",
   "name": "python",
   "nbconvert_exporter": "python",
   "pygments_lexer": "ipython3",
   "version": "3.8.2"
  },
  "toc": {
   "base_numbering": 1,
   "nav_menu": {},
   "number_sections": true,
   "sideBar": true,
   "skip_h1_title": false,
   "title_cell": "Table of Contents",
   "title_sidebar": "Contents",
   "toc_cell": false,
   "toc_position": {},
   "toc_section_display": true,
   "toc_window_display": true
  }
 },
 "nbformat": 4,
 "nbformat_minor": 4
}

{
 "cells": [
  {
   "cell_type": "code",
   "execution_count": 1,
   "metadata": {},
   "outputs": [
    {
     "name": "stderr",
     "output_type": "stream",
     "text": [
      "/home/osvaldo/anaconda3/lib/python3.6/site-packages/h5py/__init__.py:36: FutureWarning: Conversion of the second argument of issubdtype from `float` to `np.floating` is deprecated. In future, it will be treated as `np.float64 == np.dtype(float).type`.\n",
      "  from ._conv import register_converters as _register_converters\n"
     ]
    }
   ],
   "source": [
    "%matplotlib inline\n",
    "import pymc3 as pm\n",
    "import numpy as np\n",
    "import pandas as pd\n",
    "from scipy import stats\n",
    "from scipy.special import expit as logistic\n",
    "import seaborn as sns\n",
    "import matplotlib.pyplot as plt\n",
    "\n",
    "%config InlineBackend.figure_format = 'retina'\n",
    "plt.style.use(['seaborn-colorblind', 'seaborn-darkgrid'])"
   ]
  },
  {
   "cell_type": "markdown",
   "metadata": {},
   "source": [
    "#### Code 10.1"
   ]
  },
  {
   "cell_type": "code",
   "execution_count": 2,
   "metadata": {},
   "outputs": [],
   "source": [
    "d = pd.read_csv('Data/chimpanzees.csv', sep=\";\")\n",
    "# we change \"actor\" to zero-index\n",
    "d.actor = d.actor - 1"
   ]
  },
  {
   "cell_type": "markdown",
   "metadata": {},
   "source": [
    "#### Code 10.2"
   ]
  },
  {
   "cell_type": "code",
   "execution_count": 3,
   "metadata": {},
   "outputs": [
    {
     "name": "stderr",
     "output_type": "stream",
     "text": [
      "Auto-assigning NUTS sampler...\n",
      "Initializing NUTS using jitter+adapt_diag...\n",
      "Multiprocess sampling (2 chains in 2 jobs)\n",
      "NUTS: [bp, a]\n",
      "100%|██████████| 2000/2000 [00:02<00:00, 767.57it/s]\n"
     ]
    }
   ],
   "source": [
    "with pm.Model() as model_10_1:\n",
    "    a = pm.Normal('a', 0, 10)\n",
    "    bp = pm.Normal('bp', 0, 10)\n",
    "    p = pm.math.invlogit(a)    \n",
    "    pulled_left = pm.Binomial('pulled_left', 1, p, observed=d.pulled_left)\n",
    "\n",
    "    trace_10_1 = pm.sample(1000, tune=1000)"
   ]
  },
  {
   "cell_type": "code",
   "execution_count": 4,
   "metadata": {},
   "outputs": [
    {
     "data": {
      "text/html": [
       "<div>\n",
       "<style scoped>\n",
       "    .dataframe tbody tr th:only-of-type {\n",
       "        vertical-align: middle;\n",
       "    }\n",
       "\n",
       "    .dataframe tbody tr th {\n",
       "        vertical-align: top;\n",
       "    }\n",
       "\n",
       "    .dataframe thead th {\n",
       "        text-align: right;\n",
       "    }\n",
       "</style>\n",
       "<table border=\"1\" class=\"dataframe\">\n",
       "  <thead>\n",
       "    <tr style=\"text-align: right;\">\n",
       "      <th></th>\n",
       "      <th>mean</th>\n",
       "      <th>sd</th>\n",
       "      <th>mc_error</th>\n",
       "      <th>hpd_5.5</th>\n",
       "      <th>hpd_94.5</th>\n",
       "      <th>n_eff</th>\n",
       "      <th>Rhat</th>\n",
       "    </tr>\n",
       "  </thead>\n",
       "  <tbody>\n",
       "    <tr>\n",
       "      <th>a</th>\n",
       "      <td>0.33</td>\n",
       "      <td>0.09</td>\n",
       "      <td>0.00</td>\n",
       "      <td>0.18</td>\n",
       "      <td>0.47</td>\n",
       "      <td>2125.71</td>\n",
       "      <td>1.0</td>\n",
       "    </tr>\n",
       "    <tr>\n",
       "      <th>bp</th>\n",
       "      <td>-0.20</td>\n",
       "      <td>10.05</td>\n",
       "      <td>0.21</td>\n",
       "      <td>-17.31</td>\n",
       "      <td>15.25</td>\n",
       "      <td>2260.01</td>\n",
       "      <td>1.0</td>\n",
       "    </tr>\n",
       "  </tbody>\n",
       "</table>\n",
       "</div>"
      ],
      "text/plain": [
       "    mean     sd  mc_error  hpd_5.5  hpd_94.5    n_eff  Rhat\n",
       "a   0.33   0.09      0.00     0.18      0.47  2125.71   1.0\n",
       "bp -0.20  10.05      0.21   -17.31     15.25  2260.01   1.0"
      ]
     },
     "execution_count": 4,
     "metadata": {},
     "output_type": "execute_result"
    }
   ],
   "source": [
    "df_10_1 = pm.summary(trace_10_1, alpha=.11)\n",
    "df_10_1.round(2)"
   ]
  },
  {
   "cell_type": "markdown",
   "metadata": {},
   "source": [
    "#### Code 10.3"
   ]
  },
  {
   "cell_type": "code",
   "execution_count": 5,
   "metadata": {},
   "outputs": [
    {
     "data": {
      "text/html": [
       "<div>\n",
       "<style scoped>\n",
       "    .dataframe tbody tr th:only-of-type {\n",
       "        vertical-align: middle;\n",
       "    }\n",
       "\n",
       "    .dataframe tbody tr th {\n",
       "        vertical-align: top;\n",
       "    }\n",
       "\n",
       "    .dataframe thead th {\n",
       "        text-align: right;\n",
       "    }\n",
       "</style>\n",
       "<table border=\"1\" class=\"dataframe\">\n",
       "  <thead>\n",
       "    <tr style=\"text-align: right;\">\n",
       "      <th></th>\n",
       "      <th>hpd_5.5</th>\n",
       "      <th>hpd_94.5</th>\n",
       "    </tr>\n",
       "  </thead>\n",
       "  <tbody>\n",
       "    <tr>\n",
       "      <th>a</th>\n",
       "      <td>0.54609</td>\n",
       "      <td>0.61615</td>\n",
       "    </tr>\n",
       "    <tr>\n",
       "      <th>bp</th>\n",
       "      <td>0.00000</td>\n",
       "      <td>1.00000</td>\n",
       "    </tr>\n",
       "  </tbody>\n",
       "</table>\n",
       "</div>"
      ],
      "text/plain": [
       "    hpd_5.5  hpd_94.5\n",
       "a   0.54609   0.61615\n",
       "bp  0.00000   1.00000"
      ]
     },
     "execution_count": 5,
     "metadata": {},
     "output_type": "execute_result"
    }
   ],
   "source": [
    "logistic(df_10_1.iloc[:,3:5]).round(5)"
   ]
  },
  {
   "cell_type": "markdown",
   "metadata": {},
   "source": [
    "#### Code 10.4"
   ]
  },
  {
   "cell_type": "code",
   "execution_count": 6,
   "metadata": {},
   "outputs": [
    {
     "name": "stderr",
     "output_type": "stream",
     "text": [
      "Auto-assigning NUTS sampler...\n",
      "Initializing NUTS using jitter+adapt_diag...\n",
      "Multiprocess sampling (2 chains in 2 jobs)\n",
      "NUTS: [bp, a]\n",
      "100%|██████████| 2000/2000 [00:03<00:00, 552.42it/s]\n",
      "Auto-assigning NUTS sampler...\n",
      "Initializing NUTS using jitter+adapt_diag...\n",
      "Multiprocess sampling (2 chains in 2 jobs)\n",
      "NUTS: [bpC, bp, a]\n",
      "100%|██████████| 2000/2000 [00:05<00:00, 359.68it/s]\n"
     ]
    }
   ],
   "source": [
    "with pm.Model() as model_10_2:\n",
    "    a = pm.Normal('a', 0, 10)\n",
    "    bp = pm.Normal('bp', 0, 10)\n",
    "    p = pm.math.invlogit(a + bp * d.prosoc_left)\n",
    "    pulled_left = pm.Binomial('pulled_left', 1, p, observed=d.pulled_left)\n",
    "\n",
    "    trace_10_2 = pm.sample(1000, tune=1000)\n",
    "\n",
    "with pm.Model() as model_10_3:\n",
    "    a = pm.Normal('a', 0, 10)\n",
    "    bp = pm.Normal('bp', 0, 10)\n",
    "    bpC = pm.Normal('bpC', 0, 10)\n",
    "    p = pm.math.invlogit(a + (bp + bpC * d.condition) * d.prosoc_left)\n",
    "    pulled_left = pm.Binomial('pulled_left', 1, p, observed=d.pulled_left)\n",
    "\n",
    "    trace_10_3 = pm.sample(1000, tune=1000)"
   ]
  },
  {
   "cell_type": "markdown",
   "metadata": {},
   "source": [
    "#### Code 10.5"
   ]
  },
  {
   "cell_type": "code",
   "execution_count": 7,
   "metadata": {},
   "outputs": [
    {
     "data": {
      "text/html": [
       "<div>\n",
       "<style scoped>\n",
       "    .dataframe tbody tr th:only-of-type {\n",
       "        vertical-align: middle;\n",
       "    }\n",
       "\n",
       "    .dataframe tbody tr th {\n",
       "        vertical-align: top;\n",
       "    }\n",
       "\n",
       "    .dataframe thead th {\n",
       "        text-align: right;\n",
       "    }\n",
       "</style>\n",
       "<table border=\"1\" class=\"dataframe\">\n",
       "  <thead>\n",
       "    <tr style=\"text-align: right;\">\n",
       "      <th></th>\n",
       "      <th>WAIC</th>\n",
       "      <th>pWAIC</th>\n",
       "      <th>dWAIC</th>\n",
       "      <th>weight</th>\n",
       "      <th>SE</th>\n",
       "      <th>dSE</th>\n",
       "      <th>var_warn</th>\n",
       "    </tr>\n",
       "    <tr>\n",
       "      <th>model</th>\n",
       "      <th></th>\n",
       "      <th></th>\n",
       "      <th></th>\n",
       "      <th></th>\n",
       "      <th></th>\n",
       "      <th></th>\n",
       "      <th></th>\n",
       "    </tr>\n",
       "  </thead>\n",
       "  <tbody>\n",
       "    <tr>\n",
       "      <th>m10.2</th>\n",
       "      <td>680.57</td>\n",
       "      <td>2.04</td>\n",
       "      <td>0</td>\n",
       "      <td>0.73</td>\n",
       "      <td>9.27</td>\n",
       "      <td>0</td>\n",
       "      <td>0</td>\n",
       "    </tr>\n",
       "    <tr>\n",
       "      <th>m10.3</th>\n",
       "      <td>682.7</td>\n",
       "      <td>3.18</td>\n",
       "      <td>2.13</td>\n",
       "      <td>0.25</td>\n",
       "      <td>9.46</td>\n",
       "      <td>0.83</td>\n",
       "      <td>0</td>\n",
       "    </tr>\n",
       "    <tr>\n",
       "      <th>m10.1</th>\n",
       "      <td>687.94</td>\n",
       "      <td>1</td>\n",
       "      <td>7.37</td>\n",
       "      <td>0.02</td>\n",
       "      <td>7.25</td>\n",
       "      <td>6.13</td>\n",
       "      <td>0</td>\n",
       "    </tr>\n",
       "  </tbody>\n",
       "</table>\n",
       "</div>"
      ],
      "text/plain": [
       "         WAIC pWAIC dWAIC weight    SE   dSE var_warn\n",
       "model                                                \n",
       "m10.2  680.57  2.04     0   0.73  9.27     0        0\n",
       "m10.3   682.7  3.18  2.13   0.25  9.46  0.83        0\n",
       "m10.1  687.94     1  7.37   0.02  7.25  6.13        0"
      ]
     },
     "execution_count": 7,
     "metadata": {},
     "output_type": "execute_result"
    }
   ],
   "source": [
    "comp_df = pm.compare({model_10_1 : trace_10_1,\n",
    "                      model_10_2 : trace_10_2,\n",
    "                      model_10_3 : trace_10_3},\n",
    "                     method='pseudo-BMA')\n",
    "\n",
    "comp_df.loc[:,'model'] = pd.Series(['m10.1', 'm10.2', 'm10.3'])\n",
    "comp_df = comp_df.set_index('model')\n",
    "comp_df"
   ]
  },
  {
   "cell_type": "code",
   "execution_count": 8,
   "metadata": {},
   "outputs": [
    {
     "data": {
      "image/png": "[encoded data removed]",
      "text/plain": [
       "<Figure size 432x288 with 1 Axes>"
      ]
     },
     "metadata": {
      "image/png": {
       "height": 261,
       "width": 380
      }
     },
     "output_type": "display_data"
    }
   ],
   "source": [
    "pm.compareplot(comp_df);"
   ]
  },
  {
   "cell_type": "markdown",
   "metadata": {},
   "source": [
    "#### Code 10.6"
   ]
  },
  {
   "cell_type": "code",
   "execution_count": 9,
   "metadata": {},
   "outputs": [
    {
     "data": {
      "text/html": [
       "<div>\n",
       "<style scoped>\n",
       "    .dataframe tbody tr th:only-of-type {\n",
       "        vertical-align: middle;\n",
       "    }\n",
       "\n",
       "    .dataframe tbody tr th {\n",
       "        vertical-align: top;\n",
       "    }\n",
       "\n",
       "    .dataframe thead th {\n",
       "        text-align: right;\n",
       "    }\n",
       "</style>\n",
       "<table border=\"1\" class=\"dataframe\">\n",
       "  <thead>\n",
       "    <tr style=\"text-align: right;\">\n",
       "      <th></th>\n",
       "      <th>mean</th>\n",
       "      <th>sd</th>\n",
       "      <th>mc_error</th>\n",
       "      <th>hpd_5.5</th>\n",
       "      <th>hpd_94.5</th>\n",
       "      <th>n_eff</th>\n",
       "      <th>Rhat</th>\n",
       "    </tr>\n",
       "  </thead>\n",
       "  <tbody>\n",
       "    <tr>\n",
       "      <th>a</th>\n",
       "      <td>0.05</td>\n",
       "      <td>0.13</td>\n",
       "      <td>0.00</td>\n",
       "      <td>-0.15</td>\n",
       "      <td>0.25</td>\n",
       "      <td>1305.26</td>\n",
       "      <td>1.0</td>\n",
       "    </tr>\n",
       "    <tr>\n",
       "      <th>bp</th>\n",
       "      <td>0.61</td>\n",
       "      <td>0.23</td>\n",
       "      <td>0.01</td>\n",
       "      <td>0.27</td>\n",
       "      <td>0.99</td>\n",
       "      <td>1264.87</td>\n",
       "      <td>1.0</td>\n",
       "    </tr>\n",
       "    <tr>\n",
       "      <th>bpC</th>\n",
       "      <td>-0.11</td>\n",
       "      <td>0.27</td>\n",
       "      <td>0.01</td>\n",
       "      <td>-0.58</td>\n",
       "      <td>0.30</td>\n",
       "      <td>1374.49</td>\n",
       "      <td>1.0</td>\n",
       "    </tr>\n",
       "  </tbody>\n",
       "</table>\n",
       "</div>"
      ],
      "text/plain": [
       "     mean    sd  mc_error  hpd_5.5  hpd_94.5    n_eff  Rhat\n",
       "a    0.05  0.13      0.00    -0.15      0.25  1305.26   1.0\n",
       "bp   0.61  0.23      0.01     0.27      0.99  1264.87   1.0\n",
       "bpC -0.11  0.27      0.01    -0.58      0.30  1374.49   1.0"
      ]
     },
     "execution_count": 9,
     "metadata": {},
     "output_type": "execute_result"
    }
   ],
   "source": [
    "pm.summary(trace_10_3, alpha=.11).round(2)"
   ]
  },
  {
   "cell_type": "markdown",
   "metadata": {},
   "source": [
    "#### Code 10.7"
   ]
  },
  {
   "cell_type": "code",
   "execution_count": 10,
   "metadata": {},
   "outputs": [
    {
     "data": {
      "text/plain": [
       "1.8404313987816374"
      ]
     },
     "execution_count": 10,
     "metadata": {},
     "output_type": "execute_result"
    }
   ],
   "source": [
    "np.exp(0.61)"
   ]
  },
  {
   "cell_type": "markdown",
   "metadata": {},
   "source": [
    "#### Code 10.8"
   ]
  },
  {
   "cell_type": "code",
   "execution_count": 11,
   "metadata": {},
   "outputs": [
    {
     "data": {
      "text/plain": [
       "0.9820137900379085"
      ]
     },
     "execution_count": 11,
     "metadata": {},
     "output_type": "execute_result"
    }
   ],
   "source": [
    "logistic(4)"
   ]
  },
  {
   "cell_type": "markdown",
   "metadata": {},
   "source": [
    "#### Code 10.9"
   ]
  },
  {
   "cell_type": "code",
   "execution_count": 12,
   "metadata": {},
   "outputs": [
    {
     "data": {
      "text/plain": [
       "0.9901462444767687"
      ]
     },
     "execution_count": 12,
     "metadata": {},
     "output_type": "execute_result"
    }
   ],
   "source": [
    "logistic(4 + 0.61)"
   ]
  },
  {
   "cell_type": "markdown",
   "metadata": {},
   "source": [
    "#### Code 10.10 and 10.11"
   ]
  },
  {
   "cell_type": "code",
   "execution_count": 13,
   "metadata": {},
   "outputs": [
    {
     "name": "stderr",
     "output_type": "stream",
     "text": [
      "100%|██████████| 1000/1000 [00:00<00:00, 1674.06it/s]\n"
     ]
    }
   ],
   "source": [
    "d_pred = pd.DataFrame({'prosoc_left' : [0, 1, 0, 1], 'condition' : [0, 0, 1, 1]})\n",
    "traces = [trace_10_1, trace_10_2, trace_10_3]\n",
    "models = [model_10_1, model_10_2, model_10_3]\n",
    "\n",
    "\n",
    "chimp_ensemble = pm.sample_ppc_w(traces=traces, models=models, samples=1000, \n",
    "                                 weights=comp_df.weight.sort_index(ascending=True))"
   ]
  },
  {
   "cell_type": "code",
   "execution_count": 14,
   "metadata": {},
   "outputs": [
    {
     "ename": "IndexError",
     "evalue": "too many indices for array",
     "output_type": "error",
     "traceback": [
      "\u001b[0;31m---------------------------------------------------------------------------\u001b[0m",
      "\u001b[0;31mIndexError\u001b[0m                                Traceback (most recent call last)",
      "\u001b[0;32m<ipython-input-14-5b25d0b9125c>\u001b[0m in \u001b[0;36m<module>\u001b[0;34m()\u001b[0m\n\u001b[1;32m      7\u001b[0m     \u001b[0;32mfor\u001b[0m \u001b[0mcp\u001b[0m \u001b[0;32min\u001b[0m \u001b[0mcond\u001b[0m\u001b[0;34m:\u001b[0m\u001b[0;34m\u001b[0m\u001b[0m\n\u001b[1;32m      8\u001b[0m         \u001b[0;32mfor\u001b[0m \u001b[0mpl\u001b[0m \u001b[0;32min\u001b[0m \u001b[0mprosoc_l\u001b[0m\u001b[0;34m:\u001b[0m\u001b[0;34m\u001b[0m\u001b[0m\n\u001b[0;32m----> 9\u001b[0;31m             \u001b[0mtmp\u001b[0m\u001b[0;34m.\u001b[0m\u001b[0mappend\u001b[0m\u001b[0;34m(\u001b[0m\u001b[0mnp\u001b[0m\u001b[0;34m.\u001b[0m\u001b[0mmean\u001b[0m\u001b[0;34m(\u001b[0m\u001b[0mrt\u001b[0m\u001b[0;34m[\u001b[0m\u001b[0mi\u001b[0m\u001b[0;34m]\u001b[0m\u001b[0;34m[\u001b[0m\u001b[0;34m(\u001b[0m\u001b[0md\u001b[0m\u001b[0;34m.\u001b[0m\u001b[0mprosoc_left\u001b[0m\u001b[0;34m==\u001b[0m\u001b[0mpl\u001b[0m\u001b[0;34m)\u001b[0m \u001b[0;34m&\u001b[0m \u001b[0;34m(\u001b[0m\u001b[0md\u001b[0m\u001b[0;34m.\u001b[0m\u001b[0mchose_prosoc\u001b[0m\u001b[0;34m==\u001b[0m\u001b[0mcp\u001b[0m\u001b[0;34m)\u001b[0m\u001b[0;34m]\u001b[0m\u001b[0;34m)\u001b[0m\u001b[0;34m)\u001b[0m\u001b[0;34m\u001b[0m\u001b[0m\n\u001b[0m\u001b[1;32m     10\u001b[0m     \u001b[0mpred_mean\u001b[0m\u001b[0;34m[\u001b[0m\u001b[0mi\u001b[0m\u001b[0;34m]\u001b[0m \u001b[0;34m=\u001b[0m \u001b[0mtmp\u001b[0m\u001b[0;34m\u001b[0m\u001b[0m\n\u001b[1;32m     11\u001b[0m \u001b[0;34m\u001b[0m\u001b[0m\n",
      "\u001b[0;31mIndexError\u001b[0m: too many indices for array"
     ]
    }
   ],
   "source": [
    "rt = chimp_ensemble['pulled_left']\n",
    "pred_mean = np.zeros((1000, 4))\n",
    "cond = d.condition.unique()\n",
    "prosoc_l = d.prosoc_left.unique()\n",
    "for i in range(len(rt)):\n",
    "    tmp = []\n",
    "    for cp in cond:\n",
    "        for pl in prosoc_l:\n",
    "            tmp.append(np.mean(rt[i][(d.prosoc_left==pl) & (d.chose_prosoc==cp)]))\n",
    "    pred_mean[i] = tmp\n",
    "    \n",
    "ticks = range(4)\n",
    "mp = pred_mean.mean(0)\n",
    "hpd = pm.hpd(pred_mean)\n",
    "plt.fill_between(ticks, hpd[:,1], hpd[:,0], alpha=0.25, color='k')\n",
    "plt.plot(mp, color='k')\n",
    "plt.xticks(ticks, (\"0/0\",\"1/0\",\"0/1\",\"1/1\"))\n",
    "chimps = d.groupby(['actor', 'prosoc_left', 'condition']).agg('mean')['pulled_left'].values.reshape(7, -1)\n",
    "for i in range(7):\n",
    "    plt.plot(chimps[i], 'C0')\n",
    "\n",
    "plt.ylim(0, 1.1);"
   ]
  },
  {
   "cell_type": "markdown",
   "metadata": {},
   "source": [
    "#### Code 10.12 & 10.13\n",
    "This is the same as 10.6, but in the book using MCMC rather than quadratic approximation."
   ]
  },
  {
   "cell_type": "markdown",
   "metadata": {},
   "source": [
    "#### Code 10.14"
   ]
  },
  {
   "cell_type": "code",
   "execution_count": null,
   "metadata": {},
   "outputs": [],
   "source": [
    "with pm.Model() as model_10_4:\n",
    "    a = pm.Normal('alpha', 0, 10, shape=len(d.actor.unique()))\n",
    "    bp = pm.Normal('bp', 0, 10)\n",
    "    bpC = pm.Normal('bpC', 0, 10)\n",
    "    p = pm.math.invlogit(a[d.actor.values] + (bp + bpC * d.condition) * d.prosoc_left)\n",
    "    pulled_left = pm.Binomial('pulled_left', 1, p, observed=d.pulled_left)\n",
    "\n",
    "    trace_10_4 = pm.sample(1000, tune=1000)"
   ]
  },
  {
   "cell_type": "markdown",
   "metadata": {},
   "source": [
    "#### Code 10.15"
   ]
  },
  {
   "cell_type": "code",
   "execution_count": null,
   "metadata": {},
   "outputs": [],
   "source": [
    "# remember we use a zero-index\n",
    "d['actor'].unique()"
   ]
  },
  {
   "cell_type": "markdown",
   "metadata": {},
   "source": [
    "#### Code 10.16"
   ]
  },
  {
   "cell_type": "code",
   "execution_count": null,
   "metadata": {},
   "outputs": [],
   "source": [
    "pm.summary(trace_10_4, alpha=.11).round(2)"
   ]
  },
  {
   "cell_type": "markdown",
   "metadata": {},
   "source": [
    "#### Code 10.17"
   ]
  },
  {
   "cell_type": "code",
   "execution_count": null,
   "metadata": {},
   "outputs": [],
   "source": [
    "post = pm.trace_to_dataframe(trace_10_4)\n",
    "post.head()"
   ]
  },
  {
   "cell_type": "markdown",
   "metadata": {},
   "source": [
    "#### Code 10.18"
   ]
  },
  {
   "cell_type": "code",
   "execution_count": null,
   "metadata": {},
   "outputs": [],
   "source": [
    "pm.kdeplot(post['alpha__1']);"
   ]
  },
  {
   "cell_type": "markdown",
   "metadata": {},
   "source": [
    "#### Code 10.19"
   ]
  },
  {
   "cell_type": "code",
   "execution_count": null,
   "metadata": {},
   "outputs": [],
   "source": [
    "rt = pm.sample_ppc(trace_10_4, 1000, model_10_4)['pulled_left']"
   ]
  },
  {
   "cell_type": "code",
   "execution_count": null,
   "metadata": {},
   "outputs": [],
   "source": [
    "chimp = 2\n",
    "pred_mean = np.zeros((1000, 4))\n",
    "cond = d.condition.unique()\n",
    "prosoc_l = d.prosoc_left.unique()\n",
    "for i in range(len(rt)):\n",
    "    tmp = []\n",
    "    for cp in cond:\n",
    "        for pl in prosoc_l:\n",
    "            tmp.append(np.mean(rt[i][(d.prosoc_left == pl) & (d.chose_prosoc == cp) & (d.actor == chimp)]))\n",
    "    pred_mean[i] = tmp\n",
    "\n",
    "ticks = range(4)\n",
    "mp = pred_mean.mean(0)\n",
    "hpd = pm.hpd(pred_mean, alpha=0.11)\n",
    "plt.fill_between(ticks, hpd[:,1], hpd[:,0], alpha=0.25, color='k')\n",
    "plt.plot(mp, color='k')\n",
    "plt.xticks(ticks, (\"0/0\",\"1/0\",\"0/1\",\"1/1\"))\n",
    "chimps = d[d.actor == chimp].groupby(['condition', 'prosoc_left', ]).agg('mean')['pulled_left'].values\n",
    "plt.plot(chimps, 'C0')\n",
    "\n",
    "plt.ylim(0, 1.1);"
   ]
  },
  {
   "cell_type": "markdown",
   "metadata": {},
   "source": [
    "#### Code 10.20"
   ]
  },
  {
   "cell_type": "code",
   "execution_count": null,
   "metadata": {},
   "outputs": [],
   "source": [
    "d_aggregated = d.groupby(['actor', 'condition', 'prosoc_left',  ])['pulled_left'].sum().reset_index()\n",
    "d_aggregated.head(8)"
   ]
  },
  {
   "cell_type": "markdown",
   "metadata": {},
   "source": [
    "#### Code 10.21"
   ]
  },
  {
   "cell_type": "code",
   "execution_count": null,
   "metadata": {},
   "outputs": [],
   "source": [
    "with pm.Model() as model_10_5:\n",
    "    a = pm.Normal('alpha', 0, 10)\n",
    "    bp = pm.Normal('bp', 0, 10)\n",
    "    bpC = pm.Normal('bpC', 0, 10)\n",
    "    p = pm.math.invlogit(a + (bp + bpC * d_aggregated.condition) * d_aggregated.prosoc_left)\n",
    "    pulled_left = pm.Binomial('pulled_left', 18, p, observed=d_aggregated.pulled_left)\n",
    "\n",
    "    trace_10_5 = pm.sample(1000, tune=1000)"
   ]
  },
  {
   "cell_type": "code",
   "execution_count": null,
   "metadata": {},
   "outputs": [],
   "source": [
    "pm.summary(trace_10_5, alpha=.11).round(2)"
   ]
  },
  {
   "cell_type": "code",
   "execution_count": null,
   "metadata": {},
   "outputs": [],
   "source": [
    "# hacky check of similarity to 10_3, within a hundreth\n",
    "np.isclose(pm.summary(trace_10_5), pm.summary(trace_10_3), atol=0.01)"
   ]
  },
  {
   "cell_type": "markdown",
   "metadata": {},
   "source": [
    "#### Code 10.22"
   ]
  },
  {
   "cell_type": "code",
   "execution_count": null,
   "metadata": {},
   "outputs": [],
   "source": [
    "d_ad = pd.read_csv('./Data/UCBadmit.csv', sep=';')\n",
    "d_ad.head(8)"
   ]
  },
  {
   "cell_type": "markdown",
   "metadata": {},
   "source": [
    "#### Code 10.23"
   ]
  },
  {
   "cell_type": "code",
   "execution_count": null,
   "metadata": {},
   "outputs": [],
   "source": [
    "d_ad['male'] = (d_ad['applicant.gender'] == 'male').astype(int)\n",
    "\n",
    "with pm.Model() as model_10_6:\n",
    "    a = pm.Normal('a', 0, 10)\n",
    "    bm = pm.Normal('bm', 0, 10)\n",
    "    p = pm.math.invlogit(a + bm * d_ad.male)\n",
    "    admit = pm.Binomial('admit', p=p, n=d_ad.applications, observed=d_ad.admit)\n",
    "    \n",
    "    trace_10_6 = pm.sample(1000, tune=1000)\n",
    "    \n",
    "with pm.Model() as model_10_7:\n",
    "    a = pm.Normal('a', 0, 10)\n",
    "    p = pm.math.invlogit(a)\n",
    "    admit = pm.Binomial('admit', p=p, n=d_ad.applications, observed=d_ad.admit)\n",
    "    \n",
    "    trace_10_7 = pm.sample(1000, tune=1000)"
   ]
  },
  {
   "cell_type": "markdown",
   "metadata": {},
   "source": [
    "#### Code 10.24"
   ]
  },
  {
   "cell_type": "code",
   "execution_count": null,
   "metadata": {},
   "outputs": [],
   "source": [
    "# Something goofy here... \n",
    "# not even close to WAIC values, larger standard error\n",
    "\n",
    "comp_df = pm.compare({model_10_6 : trace_10_6\n",
    "                      model_10_7 : trace_10_7})\n",
    "\n",
    "comp_df.loc[:,'model'] = pd.Series(['m10.6', 'm10.7'])\n",
    "comp_df = comp_df.set_index('model')\n",
    "comp_df"
   ]
  },
  {
   "cell_type": "markdown",
   "metadata": {},
   "source": [
    "#### Code 10.25"
   ]
  },
  {
   "cell_type": "code",
   "execution_count": null,
   "metadata": {},
   "outputs": [],
   "source": [
    "pm.summary(trace_10_6, alpha=.11).round(2)"
   ]
  },
  {
   "cell_type": "markdown",
   "metadata": {},
   "source": [
    "#### Code 10.26"
   ]
  },
  {
   "cell_type": "code",
   "execution_count": null,
   "metadata": {},
   "outputs": [],
   "source": [
    "post = pm.trace_to_dataframe(trace_10_6)\n",
    "p_admit_male = logistic(post['a'] + post['bm'])\n",
    "p_admit_female = logistic(post['a'])\n",
    "diff_admit = p_admit_male - p_admit_female\n",
    "diff_admit.describe(percentiles=[.025, .5, .975])[['2.5%', '50%', '97.5%']]"
   ]
  },
  {
   "cell_type": "markdown",
   "metadata": {},
   "source": [
    "#### Code 10.27"
   ]
  },
  {
   "cell_type": "code",
   "execution_count": null,
   "metadata": {},
   "outputs": [],
   "source": [
    "for i in range(6):\n",
    "    x = 1 + 2 * i\n",
    "    y1 = d_ad.admit[x] / d_ad.applications[x]\n",
    "    y2 = d_ad.admit[x+1] / d_ad.applications[x+1]\n",
    "    plt.plot([x, x+1], [y1, y2], '-C0o', lw=2)\n",
    "    plt.text(x + 0.25, (y1+y2)/2 + 0.05, d_ad.dept[x])\n",
    "plt.ylim(0, 1);"
   ]
  },
  {
   "cell_type": "markdown",
   "metadata": {},
   "source": [
    "#### Code 10.28"
   ]
  },
  {
   "cell_type": "code",
   "execution_count": null,
   "metadata": {},
   "outputs": [],
   "source": [
    "d_ad['dept_id'] = pd.Categorical(d_ad['dept']).codes"
   ]
  },
  {
   "cell_type": "code",
   "execution_count": null,
   "metadata": {},
   "outputs": [],
   "source": [
    "with pm.Model() as model_10_8:\n",
    "    a = pm.Normal('a', 0, 10, shape=len(d_ad['dept'].unique()))\n",
    "    p = pm.math.invlogit(a[d_ad['dept_id'].values])\n",
    "    admit = pm.Binomial('admit', p=p, n=d_ad['applications'], observed=d_ad['admit'])\n",
    "    \n",
    "    trace_10_8 = pm.sample(1000, tune=1000)\n",
    "\n",
    "with pm.Model() as model_10_9:\n",
    "    a = pm.Normal('a', 0, 10, shape=len(d_ad['dept'].unique()))\n",
    "    bm = pm.Normal('bm', 0, 10)\n",
    "    p = pm.math.invlogit(a[d_ad['dept_id'].values] + bm * d_ad['male'])\n",
    "    admit = pm.Binomial('admit', p=p, n=d_ad['applications'], observed=d_ad['admit'])\n",
    "    \n",
    "    trace_10_9 = pm.sample(1000, tune=1000)"
   ]
  },
  {
   "cell_type": "markdown",
   "metadata": {},
   "source": [
    "#### Code 10.29"
   ]
  },
  {
   "cell_type": "code",
   "execution_count": null,
   "metadata": {},
   "outputs": [],
   "source": [
    "# WAIC values still off\n",
    "# Plus warning flag\n",
    "\n",
    "comp_df = pm.compare({model_10_6 : trace_10_6,\n",
    "                      model_10_7 : trace_10_7,\n",
    "                      model_10_8 : trace_10_8,\n",
    "                      model_10_9 : trace_10_9},\n",
    "                     method='pseudo-BMA')\n",
    "\n",
    "comp_df.loc[:,'model'] = pd.Series(['m10.6', 'm10.7', 'm10.8', 'm10.9'])\n",
    "comp_df = comp_df.set_index('model')\n",
    "comp_df"
   ]
  },
  {
   "cell_type": "markdown",
   "metadata": {},
   "source": [
    "#### Code 10.30"
   ]
  },
  {
   "cell_type": "code",
   "execution_count": null,
   "metadata": {},
   "outputs": [],
   "source": [
    "pm.summary(trace_10_9, alpha=.11).round(2)"
   ]
  },
  {
   "cell_type": "markdown",
   "metadata": {},
   "source": [
    "#### Code 10.31\n",
    "Replicated model above but with MCMC in book."
   ]
  },
  {
   "cell_type": "markdown",
   "metadata": {},
   "source": [
    "#### Code 10.32"
   ]
  },
  {
   "cell_type": "code",
   "execution_count": null,
   "metadata": {},
   "outputs": [],
   "source": [
    "import statsmodels.api as sm\n",
    "from patsy import dmatrix\n",
    "\n",
    "endog = d_ad.loc[:,['admit', 'reject']].values # cbind(admit,reject)\n",
    "\n",
    "m10_7glm = sm.GLM(endog, dmatrix('~ 1', data=d_ad), \n",
    "                  family=sm.families.Binomial())\n",
    "m10_6glm = sm.GLM(endog, dmatrix('~ male', data=d_ad), \n",
    "                  family=sm.families.Binomial())\n",
    "m10_8glm = sm.GLM(endog, dmatrix('~ dept_id', data=d_ad), \n",
    "                  family=sm.families.Binomial())\n",
    "m10_9glm = sm.GLM(endog, dmatrix('~ male + dept_id', data=d_ad), \n",
    "                  family=sm.families.Binomial())\n",
    "# res = m10_7glm.fit()\n",
    "# res.summary()"
   ]
  },
  {
   "cell_type": "markdown",
   "metadata": {},
   "source": [
    "#### Code 10.33"
   ]
  },
  {
   "cell_type": "code",
   "execution_count": null,
   "metadata": {},
   "outputs": [],
   "source": [
    "import statsmodels.formula.api as smf\n",
    "m10_4glm = smf.glm(formula='pulled_left ~ actor + prosoc_left*condition - condition', data=d, \n",
    "                   family=sm.families.Binomial())"
   ]
  },
  {
   "cell_type": "markdown",
   "metadata": {},
   "source": [
    "#### Code 10.34"
   ]
  },
  {
   "cell_type": "code",
   "execution_count": null,
   "metadata": {},
   "outputs": [],
   "source": [
    "pm.GLM.from_formula('pulled_left ~ actor + prosoc_left*condition - condition', \n",
    "                    family='binomial', data=d)   "
   ]
  },
  {
   "cell_type": "markdown",
   "metadata": {},
   "source": [
    "#### Code 10.35"
   ]
  },
  {
   "cell_type": "code",
   "execution_count": null,
   "metadata": {},
   "outputs": [],
   "source": [
    "# outcome and predictor almost perfectly associated\n",
    "y = np.hstack([np.ones(10,)*0, np.ones(10,)])\n",
    "x = np.hstack([np.ones(9,)*-1, np.ones(11,)])\n",
    "\n",
    "m_bad = smf.glm(formula='y ~ x', \n",
    "                data=pd.DataFrame({'y':y, 'x':x}), \n",
    "                family=sm.families.Binomial()).fit()\n",
    "m_bad.summary()"
   ]
  },
  {
   "cell_type": "markdown",
   "metadata": {},
   "source": [
    "#### Code 10.36"
   ]
  },
  {
   "cell_type": "code",
   "execution_count": null,
   "metadata": {},
   "outputs": [],
   "source": [
    "with pm.Model() as m_good:\n",
    "    ab = pm.Normal('ab', 0, 10, shape=2)\n",
    "    p = pm.math.invlogit(ab[0] + ab[1]*x)\n",
    "    y_ = pm.Binomial('y_', 1, p, observed=y)\n",
    "    \n",
    "    MAP = pm.find_MAP()\n",
    "MAP"
   ]
  },
  {
   "cell_type": "markdown",
   "metadata": {},
   "source": [
    "#### Code 10.37"
   ]
  },
  {
   "cell_type": "code",
   "execution_count": null,
   "metadata": {},
   "outputs": [],
   "source": [
    "trace = pm.sample(1000, tune=1000, model=m_good)\n",
    "tracedf = pm.trace_to_dataframe(trace)\n",
    "grid = (sns.PairGrid(tracedf,\n",
    "                     diag_sharey=False)\n",
    "           .map_diag(sns.kdeplot)\n",
    "           .map_upper(plt.scatter, alpha=0.1))"
   ]
  },
  {
   "cell_type": "markdown",
   "metadata": {},
   "source": [
    "#### Code 10.38"
   ]
  },
  {
   "cell_type": "code",
   "execution_count": null,
   "metadata": {},
   "outputs": [],
   "source": [
    "y = stats.binom.rvs(n=1000, p=1/1000, size=100000)\n",
    "np.mean(y), np.var(y)"
   ]
  },
  {
   "cell_type": "markdown",
   "metadata": {},
   "source": [
    "#### Code 10.39"
   ]
  },
  {
   "cell_type": "code",
   "execution_count": null,
   "metadata": {},
   "outputs": [],
   "source": [
    "dk = pd.read_csv('Data/Kline', sep=';')\n",
    "dk"
   ]
  },
  {
   "cell_type": "markdown",
   "metadata": {},
   "source": [
    "#### Code 10.40"
   ]
  },
  {
   "cell_type": "code",
   "execution_count": null,
   "metadata": {},
   "outputs": [],
   "source": [
    "dk.log_pop = np.log(dk.population)\n",
    "dk.contact_high = (dk.contact == \"high\").astype(int)"
   ]
  },
  {
   "cell_type": "code",
   "execution_count": null,
   "metadata": {},
   "outputs": [],
   "source": [
    "from theano import shared\n",
    "# casting data to theano shared variable. \n",
    "# It is for out of sample prediction from model with sampled trace\n",
    "log_pop = shared(dk.log_pop.values)\n",
    "contact_high = shared(dk.contact_high.values)\n",
    "total_tools = shared(dk.total_tools.values)"
   ]
  },
  {
   "cell_type": "markdown",
   "metadata": {},
   "source": [
    "#### Code 10.41"
   ]
  },
  {
   "cell_type": "code",
   "execution_count": null,
   "metadata": {},
   "outputs": [],
   "source": [
    "with pm.Model() as m_10_10:\n",
    "    a = pm.Normal('a', 0, 100)\n",
    "    b = pm.Normal('b', 0, 1, shape=3)\n",
    "    lam = pm.math.exp(a + b[0] * log_pop + b[1] * contact_high + b[2] * contact_high * log_pop)\n",
    "    obs = pm.Poisson('total_tools', lam, observed=total_tools)\n",
    "    trace_10_10 = pm.sample(1000, tune=1000)"
   ]
  },
  {
   "cell_type": "markdown",
   "metadata": {},
   "source": [
    "#### Code 10.42"
   ]
  },
  {
   "cell_type": "code",
   "execution_count": null,
   "metadata": {},
   "outputs": [],
   "source": [
    "summary = pm.summary(trace_10_10, alpha=.11)[['mean', 'sd', 'hpd_5.5', 'hpd_94.5']]\n",
    "trace_cov = pm.trace_cov(trace_10_10, model=m_10_10)\n",
    "invD = (np.sqrt(np.diag(trace_cov))**-1)[:, None]\n",
    "trace_corr = pd.DataFrame(invD*trace_cov*invD.T, index=summary.index, columns=summary.index)\n",
    "\n",
    "summary.join(trace_corr).round(2)"
   ]
  },
  {
   "cell_type": "code",
   "execution_count": null,
   "metadata": {},
   "outputs": [],
   "source": [
    "pm.forestplot(trace_10_10);"
   ]
  },
  {
   "cell_type": "markdown",
   "metadata": {},
   "source": [
    "#### Code 10.43"
   ]
  },
  {
   "cell_type": "code",
   "execution_count": null,
   "metadata": {},
   "outputs": [],
   "source": [
    "lambda_high = np.exp(trace_10_10['a'] + trace_10_10['b'][:,1] + (trace_10_10['b'][:,0] + trace_10_10['b'][:,2]) * 8)\n",
    "lambda_low = np.exp(trace_10_10['a'] + trace_10_10['b'][:,0] * 8 )"
   ]
  },
  {
   "cell_type": "markdown",
   "metadata": {},
   "source": [
    "#### Code 10.44"
   ]
  },
  {
   "cell_type": "code",
   "execution_count": null,
   "metadata": {},
   "outputs": [],
   "source": [
    "diff = lambda_high - lambda_low\n",
    "np.sum(diff > 0) / len(diff)"
   ]
  },
  {
   "cell_type": "markdown",
   "metadata": {},
   "source": [
    "#### Code 10.45"
   ]
  },
  {
   "cell_type": "code",
   "execution_count": null,
   "metadata": {},
   "outputs": [],
   "source": [
    "with pm.Model() as m_10_11:\n",
    "    a = pm.Normal('a', 0, 100)\n",
    "    b = pm.Normal('b', 0, 1, shape=2)\n",
    "    lam = pm.math.exp(a + b[0] * log_pop + b[1] * contact_high)\n",
    "    obs = pm.Poisson('total_tools', lam, observed=total_tools)\n",
    "    trace_10_11 = pm.sample(1000, tune=1000)"
   ]
  },
  {
   "cell_type": "markdown",
   "metadata": {},
   "source": [
    "#### Code 10.46"
   ]
  },
  {
   "cell_type": "code",
   "execution_count": null,
   "metadata": {},
   "outputs": [],
   "source": [
    "with pm.Model() as m_10_12:\n",
    "    a = pm.Normal('a', 0, 100)\n",
    "    b = pm.Normal('b', 0, 1)\n",
    "    lam = pm.math.exp(a + b * log_pop)\n",
    "    obs = pm.Poisson('total_tools', lam, observed=total_tools)\n",
    "    trace_10_12 = pm.sample(1000, tune=1000)\n",
    "    \n",
    "with pm.Model() as m_10_13:\n",
    "    a = pm.Normal('a', 0, 100)\n",
    "    b = pm.Normal('b', 0, 1)\n",
    "    lam = pm.math.exp(a + b * contact_high)\n",
    "    obs = pm.Poisson('total_tools', lam, observed=total_tools)\n",
    "    trace_10_13 = pm.sample(1000, tune=1000)"
   ]
  },
  {
   "cell_type": "markdown",
   "metadata": {},
   "source": [
    "\n",
    "\n",
    "#### Code 10.47"
   ]
  },
  {
   "cell_type": "code",
   "execution_count": null,
   "metadata": {},
   "outputs": [],
   "source": [
    "with pm.Model() as m_10_14:\n",
    "    a = pm.Normal('a', 0, 100)\n",
    "    lam = pm.math.exp(a)\n",
    "    obs = pm.Poisson('total_tools', lam, observed=total_tools)\n",
    "    trace_10_14 = pm.sample(1000, tune=1000)"
   ]
  },
  {
   "cell_type": "code",
   "execution_count": null,
   "metadata": {},
   "outputs": [],
   "source": [
    "traces = [trace_10_10, trace_10_11, trace_10_12, trace_10_13, trace_10_14]\n",
    "models = [m_10_10, m_10_11, m_10_12, m_10_13, m_10_14]\n",
    "\n",
    "islands_compare = pm.compare(traces, models, method='pseudo-BMA')\n",
    "\n",
    "islands_compare.loc[:,'model'] = pd.Series(['m10.10', 'm10.11', 'm10.12', 'm10.13', 'm10.14'])\n",
    "islands_compare = islands_compare.set_index('model')\n",
    "islands_compare"
   ]
  },
  {
   "cell_type": "code",
   "execution_count": null,
   "metadata": {
    "scrolled": true
   },
   "outputs": [],
   "source": [
    "pm.compareplot(islands_compare);"
   ]
  },
  {
   "cell_type": "markdown",
   "metadata": {},
   "source": [
    "#### Code 10.48"
   ]
  },
  {
   "cell_type": "code",
   "execution_count": null,
   "metadata": {},
   "outputs": [],
   "source": [
    "# set new value for out-of-sample prediction \n",
    "log_pop_seq = np.linspace(6, 13, 30)\n",
    "log_pop.set_value(np.hstack([log_pop_seq, log_pop_seq]))\n",
    "contact_high.set_value(np.hstack([np.repeat(0, 30), np.repeat(1, 30)]))\n",
    "\n",
    "islands_ensemble = pm.sample_ppc_w(traces, 10000, \n",
    "                                   models, weights=islands_compare.weight.sort_index(ascending=True))"
   ]
  },
  {
   "cell_type": "code",
   "execution_count": null,
   "metadata": {},
   "outputs": [],
   "source": [
    "_, axes = plt.subplots(1, 1, figsize=(5, 5))\n",
    "index = dk.contact_high==1\n",
    "axes.scatter(np.log(dk.population)[~index], dk.total_tools[~index],\n",
    "             facecolors='none', edgecolors='k', lw=1)\n",
    "axes.scatter(np.log(dk.population)[index], dk.total_tools[index])\n",
    "\n",
    "mp = islands_ensemble['total_tools'][:, :30]\n",
    "mu_hpd = pm.hpd(mp, alpha=.50)\n",
    "\n",
    "axes.plot(log_pop_seq, np.median(mp, axis=0), '--', color='k')\n",
    "axes.fill_between(log_pop_seq,\n",
    "                  mu_hpd[:,0], mu_hpd[:,1], alpha=0.25, color='k')\n",
    "\n",
    "mp = islands_ensemble['total_tools'][:, 30:]\n",
    "mu_hpd = pm.hpd(mp, alpha=.50)\n",
    "\n",
    "axes.plot(log_pop_seq, np.median(mp, axis=0))\n",
    "axes.fill_between(log_pop_seq,\n",
    "                  mu_hpd[:,0], mu_hpd[:,1], alpha=0.25)\n",
    "axes.set_xlabel('log-population')\n",
    "axes.set_ylabel('total tools')\n",
    "axes.set_xlim(6.8, 12.8)\n",
    "axes.set_ylim(10, 73);"
   ]
  },
  {
   "cell_type": "markdown",
   "metadata": {},
   "source": [
    "#### Code 10.49\n",
    "This is the same as 10.41, but in the book using MCMC rather than MAP."
   ]
  },
  {
   "cell_type": "code",
   "execution_count": null,
   "metadata": {},
   "outputs": [],
   "source": [
    "pm.summary(trace_10_10, alpha=.11).round(2)"
   ]
  },
  {
   "cell_type": "markdown",
   "metadata": {},
   "source": [
    "#### Code 10.50"
   ]
  },
  {
   "cell_type": "code",
   "execution_count": null,
   "metadata": {},
   "outputs": [],
   "source": [
    "log_pop_c = dk.log_pop.values - dk.log_pop.values.mean()\n",
    "log_pop.set_value(log_pop_c)\n",
    "contact_high.set_value(dk.contact_high.values)\n",
    "total_tools.set_value(dk.total_tools.values)\n",
    "\n",
    "with pm.Model() as m_10_10c:\n",
    "    a = pm.Normal('a', 0, 100)\n",
    "    b = pm.Normal('b', 0, 1, shape=3)\n",
    "    lam = pm.math.exp(a + b[0] * log_pop + b[1] * contact_high + b[2] * contact_high * log_pop)\n",
    "    obs = pm.Poisson('total_tools', lam, observed=total_tools)\n",
    "    trace_10_10c = pm.sample(1000, tune=1000)"
   ]
  },
  {
   "cell_type": "code",
   "execution_count": null,
   "metadata": {},
   "outputs": [],
   "source": [
    "pm.summary(trace_10_10c, alpha=.11).round(2)"
   ]
  },
  {
   "cell_type": "code",
   "execution_count": null,
   "metadata": {},
   "outputs": [],
   "source": [
    "for trace in [trace_10_10, trace_10_10c]:\n",
    "    tracedf = pm.trace_to_dataframe(trace)\n",
    "    grid = (sns.PairGrid(tracedf,\n",
    "                         diag_sharey=False)\n",
    "               .map_diag(sns.kdeplot)\n",
    "               .map_upper(plt.scatter, alpha=0.1))"
   ]
  },
  {
   "cell_type": "markdown",
   "metadata": {},
   "source": [
    "#### Code 10.51"
   ]
  },
  {
   "cell_type": "code",
   "execution_count": null,
   "metadata": {},
   "outputs": [],
   "source": [
    "num_days = 30\n",
    "y = np.random.poisson(1.5, num_days)"
   ]
  },
  {
   "cell_type": "markdown",
   "metadata": {},
   "source": [
    "#### Code 10.52"
   ]
  },
  {
   "cell_type": "code",
   "execution_count": null,
   "metadata": {},
   "outputs": [],
   "source": [
    "num_weeks = 4\n",
    "y_new = np.random.poisson(0.5*7, num_weeks)"
   ]
  },
  {
   "cell_type": "markdown",
   "metadata": {},
   "source": [
    "#### Code 10.53"
   ]
  },
  {
   "cell_type": "code",
   "execution_count": null,
   "metadata": {},
   "outputs": [],
   "source": [
    "y_all = np.hstack([y, y_new])\n",
    "exposure = np.hstack([np.repeat(1, 30), np.repeat(7, 4)]).astype('float')\n",
    "monastery = np.hstack([np.repeat(0, 30), np.repeat(1, 4)])"
   ]
  },
  {
   "cell_type": "markdown",
   "metadata": {},
   "source": [
    "#### Code 10.54"
   ]
  },
  {
   "cell_type": "code",
   "execution_count": null,
   "metadata": {},
   "outputs": [],
   "source": [
    "log_days = np.log(exposure)\n",
    "with pm.Model() as m_10_15:\n",
    "    a = pm.Normal('a', 0., 100.)\n",
    "    b = pm.Normal('b', 0., 1.)\n",
    "    lam = pm.math.exp(log_days + a + b*monastery)\n",
    "    obs = pm.Poisson('y', lam, observed=y_all)\n",
    "    trace_10_15 = pm.sample(1000, tune=1000)"
   ]
  },
  {
   "cell_type": "markdown",
   "metadata": {},
   "source": [
    "#### Code 10.55"
   ]
  },
  {
   "cell_type": "code",
   "execution_count": null,
   "metadata": {},
   "outputs": [],
   "source": [
    "trace_10_15.add_values(dict(lambda_old=np.exp(trace_10_15['a']),\n",
    "                            lambda_new=np.exp(trace_10_15['a'] + trace_10_15['b'])))\n",
    "\n",
    "pm.summary(trace_10_15, varnames=['lambda_old', 'lambda_new'], alpha=.11).round(2)"
   ]
  },
  {
   "cell_type": "markdown",
   "metadata": {},
   "source": [
    "#### Code 10.56"
   ]
  },
  {
   "cell_type": "code",
   "execution_count": null,
   "metadata": {},
   "outputs": [],
   "source": [
    "# simulate career choices among 500 individuals\n",
    "N = 500                 # number of individuals\n",
    "income = np.arange(3)+1 # expected income of each career\n",
    "score = 0.5*income      # scores for each career, based on income\n",
    "# next line converts scores to probabilities\n",
    "def softmax(w):\n",
    "    e = np.exp(w)\n",
    "    return e/np.sum(e, axis=0)\n",
    "\n",
    "p = softmax(score)\n",
    "# now simulate choice\n",
    "# outcome career holds event type values, not counts\n",
    "career = np.random.multinomial(1, p, size=N)\n",
    "career = np.where(career==1)[1]"
   ]
  },
  {
   "cell_type": "markdown",
   "metadata": {},
   "source": [
    "#### Code 10.57"
   ]
  },
  {
   "cell_type": "code",
   "execution_count": null,
   "metadata": {},
   "outputs": [],
   "source": [
    "import theano.tensor as tt\n",
    "with pm.Model() as m_10_16:\n",
    "    b = pm.Normal('b', 0., 5.)\n",
    "    s2 = b*2\n",
    "    s3 = b*3\n",
    "    p_ = tt.stack([b, s2, s3])\n",
    "    obs = pm.Categorical('career', p=tt.nnet.softmax(p_), observed=career)\n",
    "    trace_10_16 = pm.sample(1000, tune=1000)\n",
    "pm.summary(trace_10_16, alpha=.11).round(2)"
   ]
  },
  {
   "cell_type": "markdown",
   "metadata": {},
   "source": [
    "#### Code 10.58"
   ]
  },
  {
   "cell_type": "code",
   "execution_count": null,
   "metadata": {},
   "outputs": [],
   "source": [
    "N = 100\n",
    "# simulate family incomes for each individual\n",
    "family_income = np.random.rand(N)\n",
    "# assign a unique coefficient for each type of event\n",
    "b = np.arange(3)-1\n",
    "p = softmax(score[:, None] + np.outer(b, family_income)).T\n",
    "career = np.asarray([np.random.multinomial(1, pp) for pp in p])\n",
    "career = np.where(career==1)[1]"
   ]
  },
  {
   "cell_type": "code",
   "execution_count": null,
   "metadata": {},
   "outputs": [],
   "source": [
    "with pm.Model() as m_10_17:\n",
    "    a23 = pm.Normal('a23', 0, 5, shape=2)\n",
    "    b23 = pm.Normal('b23', 0, 5, shape=2)\n",
    "    s2 = a23[0] + b23[0]*family_income\n",
    "    s3 = a23[1] + b23[1]*family_income\n",
    "    p_ = tt.stack([np.zeros(N), s2, s3]).T\n",
    "    obs = pm.Categorical('career', p=tt.nnet.softmax(p_), observed=career)\n",
    "    trace_10_17 = pm.sample(1000, tune=1000)\n",
    "pm.summary(trace_10_17, alpha=.11).round(2)"
   ]
  },
  {
   "cell_type": "markdown",
   "metadata": {},
   "source": [
    "#### Code 10.59"
   ]
  },
  {
   "cell_type": "code",
   "execution_count": null,
   "metadata": {},
   "outputs": [],
   "source": [
    "d_ad = pd.read_csv('./Data/UCBadmit.csv', sep=';')"
   ]
  },
  {
   "cell_type": "markdown",
   "metadata": {},
   "source": [
    "#### Code 10.60"
   ]
  },
  {
   "cell_type": "code",
   "execution_count": null,
   "metadata": {},
   "outputs": [],
   "source": [
    "# binomial model of overall admission probability\n",
    "with pm.Model() as m_binom:\n",
    "    a = pm.Normal('a', 0, 100)\n",
    "    p = pm.math.invlogit(a)\n",
    "    admit = pm.Binomial('admit', p=p, n=d_ad.applications, observed=d_ad.admit)\n",
    "    trace_binom = pm.sample(1000, tune=1000)\n",
    "    \n",
    "# Poisson model of overall admission rate and rejection rate\n",
    "with pm.Model() as m_pois:\n",
    "    a = pm.Normal('a', 0, 100, shape=2)\n",
    "    lam = pm.math.exp(a)\n",
    "    admit = pm.Poisson('admit', lam[0], observed=d_ad.admit)\n",
    "    rej = pm.Poisson('rej', lam[1], observed=d_ad.reject)\n",
    "    trace_pois = pm.sample(1000, tune=1000)"
   ]
  },
  {
   "cell_type": "markdown",
   "metadata": {},
   "source": [
    "#### Code 10.61"
   ]
  },
  {
   "cell_type": "code",
   "execution_count": null,
   "metadata": {},
   "outputs": [],
   "source": [
    "m_binom = pm.summary(trace_binom, alpha=.11).round(2)\n",
    "logistic(m_binom['mean'])"
   ]
  },
  {
   "cell_type": "markdown",
   "metadata": {},
   "source": [
    "#### Code 10.62"
   ]
  },
  {
   "cell_type": "code",
   "execution_count": null,
   "metadata": {},
   "outputs": [],
   "source": [
    "m_pois = pm.summary(trace_pois, alpha=.11).round(2)\n",
    "m_pois['mean'][0]\n",
    "np.exp(m_pois['mean'][0])/(np.exp(m_pois['mean'][0])+np.exp(m_pois['mean'][1]))"
   ]
  },
  {
   "cell_type": "markdown",
   "metadata": {},
   "source": [
    "#### Code 10.63"
   ]
  },
  {
   "cell_type": "code",
   "execution_count": null,
   "metadata": {},
   "outputs": [],
   "source": [
    "# simulate\n",
    "N = 100\n",
    "x = np.random.rand(N)\n",
    "y = np.random.geometric(logistic(-1 + 2*x), size=N)\n",
    "\n",
    "with pm.Model() as m_10_18:\n",
    "    a = pm.Normal('a', 0, 10)\n",
    "    b = pm.Normal('b', 0, 1)\n",
    "    p = pm.math.invlogit(a + b*x)\n",
    "    obs = pm.Geometric('y', p=p, observed=y)\n",
    "    trace_10_18 = pm.sample(1000, tune=1000)\n",
    "pm.summary(trace_10_18, alpha=.11).round(2)"
   ]
  },
  {
   "cell_type": "code",
   "execution_count": null,
   "metadata": {},
   "outputs": [],
   "source": [
    "import sys, IPython, scipy, matplotlib, platform\n",
    "print(\"This notebook was createad on a computer %s running %s and using:\\nPython %s\\nIPython %s\\nPyMC3 %s\\nNumPy %s\\nPandas %s\\nSciPy %s\\nMatplotlib %s\\n\" % (platform.machine(), ' '.join(platform.linux_distribution()[:2]), sys.version[:5], IPython.__version__, pm.__version__, np.__version__, pd.__version__, scipy.__version__, matplotlib.__version__))"
   ]
  }
 ],
 "metadata": {
  "kernelspec": {
   "display_name": "Python 3",
   "language": "python",
   "name": "python3"
  },
  "language_info": {
   "codemirror_mode": {
    "name": "ipython",
    "version": 3
   },
   "file_extension": ".py",
   "mimetype": "text/x-python",
   "name": "python",
   "nbconvert_exporter": "python",
   "pygments_lexer": "ipython3",
   "version": "3.6.3"
  }
 },
 "nbformat": 4,
 "nbformat_minor": 1
}

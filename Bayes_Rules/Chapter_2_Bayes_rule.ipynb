{
  "cells": [
    {
      "cell_type": "code",
      "execution_count": 2,
      "metadata": {},
      "outputs": [
        {
          "ename": "SyntaxError",
          "evalue": "invalid syntax (1805177719.py, line 1)",
          "output_type": "error",
          "traceback": [
            "\u001b[0;36m  Input \u001b[0;32mIn [2]\u001b[0;36m\u001b[0m\n\u001b[0;31m    (notebook_name)=\u001b[0m\n\u001b[0m                    ^\u001b[0m\n\u001b[0;31mSyntaxError\u001b[0m\u001b[0;31m:\u001b[0m invalid syntax\n"
          ]
        }
      ],
      "source": [
        "(notebook_name)=\n",
        "# 2.1 Building a Bayesian model for events\n",
        "[2.1 Building a Bayesian model for events](https://www.bayesrulesbook.com/chapter-2.html#building-a-bayesian-model-for-events)\n",
        "\n",
        ":::{post} March 22, 2022\n",
        ":tags: python\n",
        ":category: beginner\n",
        ":author: Lode Nachtergaele\n",
        ":::"
      ]
    },
    {
      "cell_type": "markdown",
      "metadata": {
        "colab_type": "text",
        "id": "view-in-github"
      },
      "source": [
        "<a href=\"https://github.com/pymc-devs/resources/blob/main/bayesrules/Section_2_1_Fake_news.ipynb\" target=\"_parent\"><img src=\"https://colab.research.google.com/assets/colab-badge.svg\" alt=\"Open In Colab\"/></a>"
      ]
    },
    {
      "cell_type": "code",
      "execution_count": null,
      "metadata": {
        "colab": {
          "base_uri": "https://localhost:8080/"
        },
        "id": "zc4EM76NbZFS",
        "outputId": "bf900634-5bdb-47a9-a127-c53c9a535ab2"
      },
      "outputs": [],
      "source": [
        "# !pip install pyreadr\n",
        "# !pip install wget\n",
        "# !pip install pymc3\n",
        "# !pip install arviz"
      ]
    },
    {
      "cell_type": "code",
      "execution_count": 7,
      "metadata": {
        "id": "A4LNehG6e76-"
      },
      "outputs": [
        {
          "ename": "ModuleNotFoundError",
          "evalue": "No module named 'wget'",
          "output_type": "error",
          "traceback": [
            "\u001b[0;31m---------------------------------------------------------------------------\u001b[0m",
            "\u001b[0;31mModuleNotFoundError\u001b[0m                       Traceback (most recent call last)",
            "\u001b[1;32m/Users/lode/projects/resources/Bayes_Rules/Section_2_1_Fake_news.ipynb Cell 4'\u001b[0m in \u001b[0;36m<cell line: 6>\u001b[0;34m()\u001b[0m\n\u001b[1;32m      <a href='vscode-notebook-cell:/Users/lode/projects/resources/Bayes_Rules/Section_2_1_Fake_news.ipynb#ch0000003?line=3'>4</a>\u001b[0m \u001b[39mimport\u001b[39;00m \u001b[39mpandas\u001b[39;00m \u001b[39mas\u001b[39;00m \u001b[39mpd\u001b[39;00m\n\u001b[1;32m      <a href='vscode-notebook-cell:/Users/lode/projects/resources/Bayes_Rules/Section_2_1_Fake_news.ipynb#ch0000003?line=4'>5</a>\u001b[0m \u001b[39mimport\u001b[39;00m \u001b[39mpymc3\u001b[39;00m \u001b[39mas\u001b[39;00m \u001b[39mpm\u001b[39;00m\n\u001b[0;32m----> <a href='vscode-notebook-cell:/Users/lode/projects/resources/Bayes_Rules/Section_2_1_Fake_news.ipynb#ch0000003?line=5'>6</a>\u001b[0m \u001b[39mimport\u001b[39;00m \u001b[39mwget\u001b[39;00m\n\u001b[1;32m      <a href='vscode-notebook-cell:/Users/lode/projects/resources/Bayes_Rules/Section_2_1_Fake_news.ipynb#ch0000003?line=6'>7</a>\u001b[0m \u001b[39mimport\u001b[39;00m \u001b[39mpyreadr\u001b[39;00m\n\u001b[1;32m      <a href='vscode-notebook-cell:/Users/lode/projects/resources/Bayes_Rules/Section_2_1_Fake_news.ipynb#ch0000003?line=7'>8</a>\u001b[0m \u001b[39mimport\u001b[39;00m \u001b[39mseaborn\u001b[39;00m \u001b[39mas\u001b[39;00m \u001b[39msns\u001b[39;00m\n",
            "\u001b[0;31mModuleNotFoundError\u001b[0m: No module named 'wget'"
          ]
        }
      ],
      "source": [
        "import arviz as az\n",
        "import matplotlib.pyplot as plt\n",
        "import numpy as np\n",
        "import pandas as pd\n",
        "import pymc3 as pm\n",
        "import wget\n",
        "import pyreadr\n",
        "import seaborn as sns"
      ]
    },
    {
      "cell_type": "code",
      "execution_count": null,
      "metadata": {},
      "outputs": [],
      "source": [
        "%config InlineBackend.figure_format = 'retina'\n",
        "%load_ext watermark\n",
        "RANDOM_SEED = 1301\n",
        "np.random.seed(RANDOM_SEED)\n",
        "az.style.use(\"arviz-darkgrid\")"
      ]
    },
    {
      "cell_type": "code",
      "execution_count": null,
      "metadata": {
        "colab": {
          "base_uri": "https://localhost:8080/"
        },
        "id": "DB4n18uZmUWd",
        "outputId": "41f0fdd2-88ec-4503-8ed9-43983f02a294"
      },
      "outputs": [],
      "source": [
        "# !wget -O fake_news.rda https://github.com/bayes-rules/bayesrules/blob/master/data/fake_news.rda?raw=true"
      ]
    },
    {
      "cell_type": "code",
      "execution_count": null,
      "metadata": {
        "id": "C-Y4aoWTeUG7"
      },
      "outputs": [],
      "source": [
        "fake_news_url = r'https://github.com/bayes-rules/bayesrules/blob/master/data/fake_news.rda?raw=true'  \n",
        "wget.download(fake_news_url, 'fake_news.rda')\n",
        "try:\n",
        "    result = pyreadr.read_r('fake_news.rda')\n",
        "except FileNotFoundError:\n",
        "    print('Could not read R data file fake_news.rda')"
      ]
    },
    {
      "cell_type": "code",
      "execution_count": null,
      "metadata": {
        "id": "JQv_DgLiqW1k"
      },
      "outputs": [],
      "source": [
        "df = result['fake_news']"
      ]
    },
    {
      "cell_type": "code",
      "execution_count": null,
      "metadata": {
        "colab": {
          "base_uri": "https://localhost:8080/",
          "height": 734
        },
        "id": "-062YnYsrdvC",
        "outputId": "c083c5ff-764d-4dc7-a56c-c32cbab75782"
      },
      "outputs": [],
      "source": [
        "df.head()"
      ]
    },
    {
      "cell_type": "code",
      "execution_count": null,
      "metadata": {
        "colab": {
          "base_uri": "https://localhost:8080/",
          "height": 112
        },
        "id": "qFA_-sfzrs9o",
        "outputId": "b16560f5-621d-429a-a1f7-93ce92663686"
      },
      "outputs": [],
      "source": [
        "pd.concat([df['type'].value_counts().rename('n'), df['type'].value_counts(normalize=True).rename('percent')], axis=1)"
      ]
    },
    {
      "cell_type": "code",
      "execution_count": null,
      "metadata": {
        "colab": {
          "base_uri": "https://localhost:8080/",
          "height": 175
        },
        "id": "U_f7EOJSsceo",
        "outputId": "6000c7b2-322d-4041-b266-56b87b010d9a"
      },
      "outputs": [],
      "source": [
        "pd.crosstab(df['title_has_excl'], df['type'], margins=True)"
      ]
    },
    {
      "cell_type": "code",
      "execution_count": null,
      "metadata": {
        "id": "CSD3J_nAtKy_"
      },
      "outputs": [],
      "source": [
        "article = pd.Series([\"real\", \"fake\"], dtype=\"category\")"
      ]
    },
    {
      "cell_type": "code",
      "execution_count": null,
      "metadata": {
        "id": "Fdcm9bzXt5WW"
      },
      "outputs": [],
      "source": [
        "prior = pd.Series([0.6, 0.4])"
      ]
    },
    {
      "cell_type": "code",
      "execution_count": null,
      "metadata": {
        "id": "druWCfh8uw3a"
      },
      "outputs": [],
      "source": [
        "df_sample = pd.DataFrame({'type': article, 'weights' : prior})"
      ]
    },
    {
      "cell_type": "code",
      "execution_count": 4,
      "metadata": {
        "colab": {
          "base_uri": "https://localhost:8080/",
          "height": 143
        },
        "id": "SE2DSMdyuBRB",
        "outputId": "9335f1a6-53f8-4c26-f83c-0f0a910263b1"
      },
      "outputs": [
        {
          "ename": "NameError",
          "evalue": "name 'df_sample' is not defined",
          "output_type": "error",
          "traceback": [
            "\u001b[0;31m---------------------------------------------------------------------------\u001b[0m",
            "\u001b[0;31mNameError\u001b[0m                                 Traceback (most recent call last)",
            "\u001b[1;32m/Users/lode/projects/resources/Bayes_Rules/Section_2_1_Fake_news.ipynb Cell 15'\u001b[0m in \u001b[0;36m<cell line: 1>\u001b[0;34m()\u001b[0m\n\u001b[0;32m----> <a href='vscode-notebook-cell:/Users/lode/projects/resources/Bayes_Rules/Section_2_1_Fake_news.ipynb#ch0000014?line=0'>1</a>\u001b[0m df_sample\u001b[39m.\u001b[39msample(\u001b[39m3\u001b[39m, replace\u001b[39m=\u001b[39m\u001b[39mTrue\u001b[39;00m, random_state\u001b[39m=\u001b[39m\u001b[39m1301\u001b[39m, weights\u001b[39m=\u001b[39m\u001b[39m'\u001b[39m\u001b[39mweights\u001b[39m\u001b[39m'\u001b[39m)\n",
            "\u001b[0;31mNameError\u001b[0m: name 'df_sample' is not defined"
          ]
        }
      ],
      "source": [
        "df_sample.sample(3, replace=True, random_state=1301, weights='weights')"
      ]
    },
    {
      "cell_type": "code",
      "execution_count": null,
      "metadata": {
        "id": "sjay1_dbuHvg"
      },
      "outputs": [],
      "source": [
        "article_sim = df_sample.sample(10_000, replace=True, random_state=84735, weights='weights')"
      ]
    },
    {
      "cell_type": "code",
      "execution_count": null,
      "metadata": {
        "colab": {
          "base_uri": "https://localhost:8080/",
          "height": 295
        },
        "id": "5mn1iRE7vhzZ",
        "outputId": "c57bff56-795d-4e13-acd0-bc2d0be9ba1f"
      },
      "outputs": [],
      "source": [
        "ax = article_sim['type'].value_counts().plot.bar(rot=0);\n",
        "ax.set_xlabel('type');\n",
        "ax.set(title='FIGURE 2.2: A bar plot of the fake vs real status of 10,000 simulated articles.');"
      ]
    },
    {
      "cell_type": "code",
      "execution_count": null,
      "metadata": {
        "colab": {
          "base_uri": "https://localhost:8080/"
        },
        "id": "BblZxGL_vrdZ",
        "outputId": "2be398f7-3977-4df8-f434-77f1ae3f140a"
      },
      "outputs": [],
      "source": [
        "article_sim['type'].value_counts()"
      ]
    },
    {
      "cell_type": "code",
      "execution_count": null,
      "metadata": {
        "colab": {
          "base_uri": "https://localhost:8080/",
          "height": 206
        },
        "id": "J0-OLIKowG5Z",
        "outputId": "6aed8059-7438-4ec8-dfdc-325be0a76a0f"
      },
      "outputs": [],
      "source": [
        "article_sim['data_model'] = article_sim['type'].map({'fake': 0.2667, 'real':0.0222})\n",
        "article_sim.head()"
      ]
    },
    {
      "cell_type": "code",
      "execution_count": null,
      "metadata": {
        "id": "w3Hjyq7TA65m"
      },
      "outputs": [],
      "source": [
        "N_fake = (article_sim['type']=='fake').sum() # The number of artices that are fake\n",
        "N_real = (article_sim['type']=='real').sum() # The number of artices that are real\n",
        "article_sim.loc[article_sim['type']=='fake', 'usage'] = np.random.choice(['no', 'yes'], size=N_fake, replace=True, p=[1-0.2667, 0.2667])\n",
        "article_sim.loc[article_sim['type']=='real', 'usage'] = np.random.choice(['no', 'yes'], size=N_real, replace=True, p=[1-0.0222, 0.0222])"
      ]
    },
    {
      "cell_type": "code",
      "execution_count": null,
      "metadata": {
        "colab": {
          "base_uri": "https://localhost:8080/",
          "height": 175
        },
        "id": "O4csnKnyySAh",
        "outputId": "f6a62234-8a8a-452b-fd09-b983b8b55b3b"
      },
      "outputs": [],
      "source": [
        "pd.crosstab(article_sim['usage'], article_sim['type'], margins=True)"
      ]
    },
    {
      "cell_type": "code",
      "execution_count": null,
      "metadata": {
        "colab": {
          "base_uri": "https://localhost:8080/",
          "height": 324
        },
        "id": "YaXrLDKByeaR",
        "outputId": "3e9ea604-3920-429e-ab2c-0c2eb58ed5c4"
      },
      "outputs": [],
      "source": [
        "fix, ax = plt.subplots(1, 2, figsize=(8, 4.5))\n",
        "pd.crosstab(article_sim['type'], article_sim['usage']).plot(kind='bar', stacked=True, rot=0, ax=ax[0]);\n",
        "sns.countplot(x='usage', data=article_sim, ax=ax[1]);\n",
        "# article_sim['usage'].value_counts().plot.bar(rot=0, ax=ax[1]);\n",
        "plt.suptitle('FIGURE 2.3: Bar plots of exclamation point usage, both within fake vs real news and overall.');\n",
        "plt.subplots_adjust(top=0.15)\n",
        "plt.tight_layout();"
      ]
    },
    {
      "cell_type": "code",
      "execution_count": null,
      "metadata": {
        "id": "HyZ7H4-kz10L"
      },
      "outputs": [],
      "source": [
        "# ax = article_sim['usage'].value_counts().plot.bar(rot=0);\n",
        "# ax.set_xlabel('usage');"
      ]
    },
    {
      "cell_type": "code",
      "execution_count": null,
      "metadata": {
        "id": "sFn6iRUS1mBS"
      },
      "outputs": [],
      "source": [
        "# sns.catplot(x='usage', kind='count', data=article_sim);"
      ]
    },
    {
      "cell_type": "code",
      "execution_count": null,
      "metadata": {
        "colab": {
          "base_uri": "https://localhost:8080/",
          "height": 385
        },
        "id": "dJX10TgL1YSI",
        "outputId": "77ea1b7c-ab2c-4ce4-c7a8-c46cfa5c9db7"
      },
      "outputs": [],
      "source": [
        "sns.catplot(x='usage', hue='type', data=article_sim, kind='count');\n",
        "plt.title('FIGURE 2.4: Bar plots of real vs fake news, broken down by exclamation point usage.');"
      ]
    },
    {
      "cell_type": "code",
      "execution_count": null,
      "metadata": {
        "id": "PYNFr8UN20-N"
      },
      "outputs": [],
      "source": [
        "%load_ext watermark\n",
        "%watermark -n -u -v -iv -w -p wget, pyreadr, pandas, matplotlib, seaborn"
      ]
    },
    {
      "cell_type": "code",
      "execution_count": null,
      "metadata": {},
      "outputs": [],
      "source": [
        ":::{include} ../page_footer.md\n",
        ":::"
      ]
    }
  ],
  "metadata": {
    "colab": {
      "authorship_tag": "ABX9TyNvU0Q+Gjeg/AR+UFWfuAKN",
      "include_colab_link": true,
      "name": "Section_2_1_fake_news.ipynb",
      "provenance": []
    },
    "kernelspec": {
      "display_name": "Python 3",
      "name": "python3"
    },
    "language_info": {
      "codemirror_mode": {
        "name": "ipython",
        "version": 3
      },
      "file_extension": ".py",
      "mimetype": "text/x-python",
      "name": "python",
      "nbconvert_exporter": "python",
      "pygments_lexer": "ipython3",
      "version": "3.9.10"
    }
  },
  "nbformat": 4,
  "nbformat_minor": 0
}

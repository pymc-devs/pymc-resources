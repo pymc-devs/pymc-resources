{
 "cells": [
  {
   "cell_type": "code",
   "execution_count": 1,
   "id": "4408e17b",
   "metadata": {},
   "outputs": [
    {
     "name": "stderr",
     "output_type": "stream",
     "text": [
      "<frozen importlib._bootstrap>:228: RuntimeWarning: numpy.ndarray size changed, may indicate binary incompatibility. Expected 16 from C header, got 88 from PyObject\n",
      "/Users/tomkealy/opt/anaconda3/envs/intuitive_bayes/lib/python3.9/site-packages/pyreadr/_pyreadr_writer.py:24: DeprecationWarning: `np.float` is a deprecated alias for the builtin `float`. To silence this warning, use `float` by itself. Doing this will not modify any behavior and is safe. If you specifically wanted the numpy scalar type, use `np.float64` here.\n",
      "Deprecated in NumPy 1.20; for more details and guidance: https://numpy.org/devdocs/release/1.20.0-notes.html#deprecations\n",
      "  np.int64, np.uint64, np.uint32, np.float, pd.Int64Dtype(), pd.UInt32Dtype(), pd.UInt64Dtype(),\n"
     ]
    }
   ],
   "source": [
    "# 2.1\n",
    "\n",
    "import numpy as np\n",
    "import pandas as pd\n",
    "\n",
    "from dplython import (DplyFrame, X, sample_n, sample, mutate, group_by, summarize, DelayFunction) \n",
    "\n",
    "import pyreadr\n",
    "import seaborn as sns\n",
    "\n",
    "result = pyreadr.read_r('../data/fake_news.rda')\n",
    "\n",
    "df = result['fake_news']\n",
    "df = DplyFrame(df)"
   ]
  },
  {
   "cell_type": "code",
   "execution_count": 2,
   "id": "3f909c25",
   "metadata": {},
   "outputs": [
    {
     "data": {
      "text/plain": [
       "real    0.6\n",
       "fake    0.4\n",
       "Name: type, dtype: float64"
      ]
     },
     "execution_count": 2,
     "metadata": {},
     "output_type": "execute_result"
    }
   ],
   "source": [
    "# 2.2 \n",
    "\n",
    "df['type'].value_counts(normalize=True)"
   ]
  },
  {
   "cell_type": "code",
   "execution_count": 3,
   "id": "2f823ec5",
   "metadata": {},
   "outputs": [
    {
     "data": {
      "text/plain": [
       "real    90\n",
       "fake    60\n",
       "Name: type, dtype: int64"
      ]
     },
     "execution_count": 3,
     "metadata": {},
     "output_type": "execute_result"
    }
   ],
   "source": [
    "# 2.2\n",
    "\n",
    "df['type'].value_counts()"
   ]
  },
  {
   "cell_type": "code",
   "execution_count": 4,
   "id": "53a5fccc",
   "metadata": {},
   "outputs": [
    {
     "data": {
      "text/plain": [
       "title_has_excl  type\n",
       "False           fake    44\n",
       "                real    88\n",
       "True            fake    16\n",
       "                real     2\n",
       "Name: title, dtype: int64"
      ]
     },
     "execution_count": 4,
     "metadata": {},
     "output_type": "execute_result"
    }
   ],
   "source": [
    "# 2.3\n",
    "\n",
    "df.groupby([\"title_has_excl\", \"type\"]).count()[\"title\"]"
   ]
  },
  {
   "cell_type": "markdown",
   "id": "20583061",
   "metadata": {},
   "source": [
    "## Posterior Simulation"
   ]
  },
  {
   "cell_type": "code",
   "execution_count": 5,
   "id": "ae548134",
   "metadata": {},
   "outputs": [],
   "source": [
    "# 2.4\n",
    "\n",
    "data = {\"type\": [\"real\", \"fake\"]}\n",
    "\n",
    "article = pd.DataFrame(data)\n",
    "prior = np.array([0.6, 0.4])"
   ]
  },
  {
   "cell_type": "code",
   "execution_count": 6,
   "id": "970f2085",
   "metadata": {},
   "outputs": [
    {
     "data": {
      "text/html": [
       "<div>\n",
       "<style scoped>\n",
       "    .dataframe tbody tr th:only-of-type {\n",
       "        vertical-align: middle;\n",
       "    }\n",
       "\n",
       "    .dataframe tbody tr th {\n",
       "        vertical-align: top;\n",
       "    }\n",
       "\n",
       "    .dataframe thead th {\n",
       "        text-align: right;\n",
       "    }\n",
       "</style>\n",
       "<table border=\"1\" class=\"dataframe\">\n",
       "  <thead>\n",
       "    <tr style=\"text-align: right;\">\n",
       "      <th></th>\n",
       "      <th>type</th>\n",
       "    </tr>\n",
       "  </thead>\n",
       "  <tbody>\n",
       "    <tr>\n",
       "      <th>1</th>\n",
       "      <td>fake</td>\n",
       "    </tr>\n",
       "    <tr>\n",
       "      <th>1</th>\n",
       "      <td>fake</td>\n",
       "    </tr>\n",
       "    <tr>\n",
       "      <th>0</th>\n",
       "      <td>real</td>\n",
       "    </tr>\n",
       "  </tbody>\n",
       "</table>\n",
       "</div>"
      ],
      "text/plain": [
       "   type\n",
       "1  fake\n",
       "1  fake\n",
       "0  real"
      ]
     },
     "execution_count": 6,
     "metadata": {},
     "output_type": "execute_result"
    }
   ],
   "source": [
    "# 2.5\n",
    "\n",
    "article.sample(n=3, replace=True, weights=prior)"
   ]
  },
  {
   "cell_type": "code",
   "execution_count": 7,
   "id": "31de557a",
   "metadata": {},
   "outputs": [
    {
     "data": {
      "text/html": [
       "<div>\n",
       "<style scoped>\n",
       "    .dataframe tbody tr th:only-of-type {\n",
       "        vertical-align: middle;\n",
       "    }\n",
       "\n",
       "    .dataframe tbody tr th {\n",
       "        vertical-align: top;\n",
       "    }\n",
       "\n",
       "    .dataframe thead th {\n",
       "        text-align: right;\n",
       "    }\n",
       "</style>\n",
       "<table border=\"1\" class=\"dataframe\">\n",
       "  <thead>\n",
       "    <tr style=\"text-align: right;\">\n",
       "      <th></th>\n",
       "      <th>type</th>\n",
       "    </tr>\n",
       "  </thead>\n",
       "  <tbody>\n",
       "    <tr>\n",
       "      <th>0</th>\n",
       "      <td>real</td>\n",
       "    </tr>\n",
       "    <tr>\n",
       "      <th>1</th>\n",
       "      <td>fake</td>\n",
       "    </tr>\n",
       "    <tr>\n",
       "      <th>1</th>\n",
       "      <td>fake</td>\n",
       "    </tr>\n",
       "  </tbody>\n",
       "</table>\n",
       "</div>"
      ],
      "text/plain": [
       "   type\n",
       "0  real\n",
       "1  fake\n",
       "1  fake"
      ]
     },
     "execution_count": 7,
     "metadata": {},
     "output_type": "execute_result"
    }
   ],
   "source": [
    "# 2.6\n",
    "\n",
    "np.random.RandomState(84735)\n",
    "\n",
    "article.sample(n=3, replace=True, weights=prior, random_state=np.random.RandomState(84735))"
   ]
  },
  {
   "cell_type": "code",
   "execution_count": 8,
   "id": "7148c6e0",
   "metadata": {},
   "outputs": [],
   "source": [
    "# 2.7\n",
    "\n",
    "article_sim = article.sample(n=10000, replace=True, weights=prior, random_state=np.random.RandomState(84735))"
   ]
  },
  {
   "cell_type": "code",
   "execution_count": 9,
   "id": "dc40b4b7",
   "metadata": {},
   "outputs": [
    {
     "data": {
      "text/plain": [
       "<AxesSubplot:>"
      ]
     },
     "execution_count": 9,
     "metadata": {},
     "output_type": "execute_result"
    },
    {
     "data": {
      "image/png": "[encoded data removed]",
      "text/plain": [
       "<Figure size 432x288 with 1 Axes>"
      ]
     },
     "metadata": {
      "needs_background": "light"
     },
     "output_type": "display_data"
    }
   ],
   "source": [
    "# 2.8\n",
    "\n",
    "article_sim['type'].value_counts().plot(kind='bar')"
   ]
  },
  {
   "cell_type": "code",
   "execution_count": 10,
   "id": "374a2a64",
   "metadata": {},
   "outputs": [
    {
     "data": {
      "text/plain": [
       "real    6062\n",
       "fake    3938\n",
       "Name: type, dtype: int64"
      ]
     },
     "execution_count": 10,
     "metadata": {},
     "output_type": "execute_result"
    }
   ],
   "source": [
    "# 2.9\n",
    "\n",
    "article_sim['type'].value_counts()"
   ]
  },
  {
   "cell_type": "code",
   "execution_count": 11,
   "id": "84179b6d",
   "metadata": {},
   "outputs": [
    {
     "data": {
      "text/html": [
       "<div>\n",
       "<style scoped>\n",
       "    .dataframe tbody tr th:only-of-type {\n",
       "        vertical-align: middle;\n",
       "    }\n",
       "\n",
       "    .dataframe tbody tr th {\n",
       "        vertical-align: top;\n",
       "    }\n",
       "\n",
       "    .dataframe thead th {\n",
       "        text-align: right;\n",
       "    }\n",
       "</style>\n",
       "<table border=\"1\" class=\"dataframe\">\n",
       "  <thead>\n",
       "    <tr style=\"text-align: right;\">\n",
       "      <th></th>\n",
       "      <th>type</th>\n",
       "      <th>data_model</th>\n",
       "    </tr>\n",
       "  </thead>\n",
       "  <tbody>\n",
       "    <tr>\n",
       "      <th>0</th>\n",
       "      <td>real</td>\n",
       "      <td>0.0222</td>\n",
       "    </tr>\n",
       "    <tr>\n",
       "      <th>1</th>\n",
       "      <td>fake</td>\n",
       "      <td>0.2667</td>\n",
       "    </tr>\n",
       "    <tr>\n",
       "      <th>1</th>\n",
       "      <td>fake</td>\n",
       "      <td>0.2667</td>\n",
       "    </tr>\n",
       "    <tr>\n",
       "      <th>1</th>\n",
       "      <td>fake</td>\n",
       "      <td>0.2667</td>\n",
       "    </tr>\n",
       "    <tr>\n",
       "      <th>1</th>\n",
       "      <td>fake</td>\n",
       "      <td>0.2667</td>\n",
       "    </tr>\n",
       "  </tbody>\n",
       "</table>\n",
       "</div>"
      ],
      "text/plain": [
       "   type  data_model\n",
       "0  real      0.0222\n",
       "1  fake      0.2667\n",
       "1  fake      0.2667\n",
       "1  fake      0.2667\n",
       "1  fake      0.2667"
      ]
     },
     "execution_count": 11,
     "metadata": {},
     "output_type": "execute_result"
    }
   ],
   "source": [
    "# 2.10\n",
    "\n",
    "article_sim[\"data_model\"] = np.where(article_sim['type']==\"real\", 0.0222, 0.2667)\n",
    "article_sim.head()"
   ]
  },
  {
   "cell_type": "code",
   "execution_count": 12,
   "id": "1eaa8068",
   "metadata": {},
   "outputs": [],
   "source": [
    "# 2.11\n",
    "\n",
    "probs = np.array([0.2667, 0.0222])\n",
    "choices = np.array([\"no\", \"yes\"])"
   ]
  },
  {
   "cell_type": "markdown",
   "id": "95ae2d8d",
   "metadata": {},
   "source": [
    "## 2.2 Example: Pop vs soda vs coke"
   ]
  },
  {
   "cell_type": "code",
   "execution_count": 20,
   "id": "eb7a20e2",
   "metadata": {},
   "outputs": [],
   "source": [
    "# 2.12 \n",
    "result = pyreadr.read_r('../data/pop_vs_soda.rda')\n",
    "\n",
    "df = result['pop_vs_soda']"
   ]
  },
  {
   "cell_type": "code",
   "execution_count": 21,
   "id": "7ef83d65",
   "metadata": {},
   "outputs": [
    {
     "data": {
      "text/html": [
       "<div>\n",
       "<style scoped>\n",
       "    .dataframe tbody tr th:only-of-type {\n",
       "        vertical-align: middle;\n",
       "    }\n",
       "\n",
       "    .dataframe tbody tr th {\n",
       "        vertical-align: top;\n",
       "    }\n",
       "\n",
       "    .dataframe thead th {\n",
       "        text-align: right;\n",
       "    }\n",
       "</style>\n",
       "<table border=\"1\" class=\"dataframe\">\n",
       "  <thead>\n",
       "    <tr style=\"text-align: right;\">\n",
       "      <th></th>\n",
       "      <th>state</th>\n",
       "      <th>region</th>\n",
       "      <th>word_for_cola</th>\n",
       "      <th>pop</th>\n",
       "    </tr>\n",
       "  </thead>\n",
       "  <tbody>\n",
       "    <tr>\n",
       "      <th>0</th>\n",
       "      <td>alabama</td>\n",
       "      <td>south</td>\n",
       "      <td>pop</td>\n",
       "      <td>True</td>\n",
       "    </tr>\n",
       "    <tr>\n",
       "      <th>1</th>\n",
       "      <td>alabama</td>\n",
       "      <td>south</td>\n",
       "      <td>pop</td>\n",
       "      <td>True</td>\n",
       "    </tr>\n",
       "    <tr>\n",
       "      <th>2</th>\n",
       "      <td>alabama</td>\n",
       "      <td>south</td>\n",
       "      <td>pop</td>\n",
       "      <td>True</td>\n",
       "    </tr>\n",
       "    <tr>\n",
       "      <th>3</th>\n",
       "      <td>alabama</td>\n",
       "      <td>south</td>\n",
       "      <td>pop</td>\n",
       "      <td>True</td>\n",
       "    </tr>\n",
       "    <tr>\n",
       "      <th>4</th>\n",
       "      <td>alabama</td>\n",
       "      <td>south</td>\n",
       "      <td>pop</td>\n",
       "      <td>True</td>\n",
       "    </tr>\n",
       "    <tr>\n",
       "      <th>...</th>\n",
       "      <td>...</td>\n",
       "      <td>...</td>\n",
       "      <td>...</td>\n",
       "      <td>...</td>\n",
       "    </tr>\n",
       "    <tr>\n",
       "      <th>374245</th>\n",
       "      <td>wyoming</td>\n",
       "      <td>west</td>\n",
       "      <td>other</td>\n",
       "      <td>False</td>\n",
       "    </tr>\n",
       "    <tr>\n",
       "      <th>374246</th>\n",
       "      <td>wyoming</td>\n",
       "      <td>west</td>\n",
       "      <td>other</td>\n",
       "      <td>False</td>\n",
       "    </tr>\n",
       "    <tr>\n",
       "      <th>374247</th>\n",
       "      <td>wyoming</td>\n",
       "      <td>west</td>\n",
       "      <td>other</td>\n",
       "      <td>False</td>\n",
       "    </tr>\n",
       "    <tr>\n",
       "      <th>374248</th>\n",
       "      <td>wyoming</td>\n",
       "      <td>west</td>\n",
       "      <td>other</td>\n",
       "      <td>False</td>\n",
       "    </tr>\n",
       "    <tr>\n",
       "      <th>374249</th>\n",
       "      <td>wyoming</td>\n",
       "      <td>west</td>\n",
       "      <td>other</td>\n",
       "      <td>False</td>\n",
       "    </tr>\n",
       "  </tbody>\n",
       "</table>\n",
       "<p>374250 rows × 4 columns</p>\n",
       "</div>"
      ],
      "text/plain": [
       "          state region word_for_cola    pop\n",
       "0       alabama  south           pop   True\n",
       "1       alabama  south           pop   True\n",
       "2       alabama  south           pop   True\n",
       "3       alabama  south           pop   True\n",
       "4       alabama  south           pop   True\n",
       "...         ...    ...           ...    ...\n",
       "374245  wyoming   west         other  False\n",
       "374246  wyoming   west         other  False\n",
       "374247  wyoming   west         other  False\n",
       "374248  wyoming   west         other  False\n",
       "374249  wyoming   west         other  False\n",
       "\n",
       "[374250 rows x 4 columns]"
      ]
     },
     "execution_count": 21,
     "metadata": {},
     "output_type": "execute_result"
    }
   ],
   "source": [
    "df"
   ]
  },
  {
   "cell_type": "code",
   "execution_count": 24,
   "id": "3421ed28",
   "metadata": {},
   "outputs": [
    {
     "data": {
      "text/plain": [
       "region     pop  \n",
       "midwest    True     0.644704\n",
       "           False    0.355296\n",
       "northeast  False    0.726603\n",
       "           True     0.273397\n",
       "south      False    0.920778\n",
       "           True     0.079222\n",
       "west       False    0.705721\n",
       "           True     0.294279\n",
       "Name: pop, dtype: float64"
      ]
     },
     "execution_count": 24,
     "metadata": {},
     "output_type": "execute_result"
    }
   ],
   "source": [
    "# 2.13\n",
    "df.groupby('region')['pop'].value_counts(normalize=True)"
   ]
  },
  {
   "cell_type": "code",
   "execution_count": 27,
   "id": "dd43e402",
   "metadata": {},
   "outputs": [],
   "source": [
    "# 2.14\n",
    "\n",
    "chess = pd.DataFrame({ \"pi\": [0.2, 0.5, 0.8]})\n",
    "prior = np.array([0.10, 0.25, 0.65])"
   ]
  },
  {
   "cell_type": "code",
   "execution_count": 29,
   "id": "28e9e480",
   "metadata": {},
   "outputs": [],
   "source": [
    "# 2.15\n",
    "\n",
    "# Simulate 10000 values of pi from the prior\n",
    "chess_sim = chess.sample(n=10000, replace=True, weights=prior, random_state=np.random.RandomState(84735))"
   ]
  },
  {
   "cell_type": "code",
   "execution_count": 39,
   "id": "2a519e55",
   "metadata": {},
   "outputs": [],
   "source": [
    "chess_sim['y'] = np.random.binomial(6, chess_sim['pi'])"
   ]
  },
  {
   "cell_type": "code",
   "execution_count": 40,
   "id": "1ef5409a",
   "metadata": {},
   "outputs": [
    {
     "data": {
      "text/html": [
       "<div>\n",
       "<style scoped>\n",
       "    .dataframe tbody tr th:only-of-type {\n",
       "        vertical-align: middle;\n",
       "    }\n",
       "\n",
       "    .dataframe tbody tr th {\n",
       "        vertical-align: top;\n",
       "    }\n",
       "\n",
       "    .dataframe thead th {\n",
       "        text-align: right;\n",
       "    }\n",
       "</style>\n",
       "<table border=\"1\" class=\"dataframe\">\n",
       "  <thead>\n",
       "    <tr style=\"text-align: right;\">\n",
       "      <th></th>\n",
       "      <th>pi</th>\n",
       "      <th>y</th>\n",
       "    </tr>\n",
       "  </thead>\n",
       "  <tbody>\n",
       "    <tr>\n",
       "      <th>1</th>\n",
       "      <td>0.5</td>\n",
       "      <td>4</td>\n",
       "    </tr>\n",
       "    <tr>\n",
       "      <th>2</th>\n",
       "      <td>0.8</td>\n",
       "      <td>6</td>\n",
       "    </tr>\n",
       "    <tr>\n",
       "      <th>2</th>\n",
       "      <td>0.8</td>\n",
       "      <td>5</td>\n",
       "    </tr>\n",
       "    <tr>\n",
       "      <th>2</th>\n",
       "      <td>0.8</td>\n",
       "      <td>6</td>\n",
       "    </tr>\n",
       "    <tr>\n",
       "      <th>2</th>\n",
       "      <td>0.8</td>\n",
       "      <td>6</td>\n",
       "    </tr>\n",
       "  </tbody>\n",
       "</table>\n",
       "</div>"
      ],
      "text/plain": [
       "    pi  y\n",
       "1  0.5  4\n",
       "2  0.8  6\n",
       "2  0.8  5\n",
       "2  0.8  6\n",
       "2  0.8  6"
      ]
     },
     "execution_count": 40,
     "metadata": {},
     "output_type": "execute_result"
    }
   ],
   "source": [
    "chess_sim.head()"
   ]
  },
  {
   "cell_type": "code",
   "execution_count": 52,
   "id": "1e70c82e",
   "metadata": {},
   "outputs": [
    {
     "name": "stderr",
     "output_type": "stream",
     "text": [
      "/Users/tomkealy/opt/anaconda3/envs/intuitive_bayes/lib/python3.9/site-packages/seaborn/distributions.py:2619: FutureWarning: `distplot` is a deprecated function and will be removed in a future version. Please adapt your code to use either `displot` (a figure-level function with similar flexibility) or `histplot` (an axes-level function for histograms).\n",
      "/Users/tomkealy/opt/anaconda3/envs/intuitive_bayes/lib/python3.9/site-packages/seaborn/distributions.py:2619: FutureWarning: `distplot` is a deprecated function and will be removed in a future version. Please adapt your code to use either `displot` (a figure-level function with similar flexibility) or `histplot` (an axes-level function for histograms).\n",
      "/Users/tomkealy/opt/anaconda3/envs/intuitive_bayes/lib/python3.9/site-packages/seaborn/distributions.py:2619: FutureWarning: `distplot` is a deprecated function and will be removed in a future version. Please adapt your code to use either `displot` (a figure-level function with similar flexibility) or `histplot` (an axes-level function for histograms).\n"
     ]
    },
    {
     "data": {
      "text/plain": [
       "<seaborn.axisgrid.FacetGrid at 0x12b00ff40>"
      ]
     },
     "execution_count": 52,
     "metadata": {},
     "output_type": "execute_result"
    },
    {
     "data": {
      "image/png": "[encoded data removed]",
      "text/plain": [
       "<Figure size 648x216 with 3 Axes>"
      ]
     },
     "metadata": {
      "needs_background": "light"
     },
     "output_type": "display_data"
    }
   ],
   "source": [
    "g = sns.FacetGrid(chess_sim, col=\"pi\")\n",
    "g.map(sns.distplot, \"y\")"
   ]
  },
  {
   "cell_type": "code",
   "execution_count": 54,
   "id": "8607100d",
   "metadata": {},
   "outputs": [
    {
     "data": {
      "text/plain": [
       "0.2    0.622926\n",
       "0.5    0.365008\n",
       "0.8    0.012066\n",
       "Name: pi, dtype: float64"
      ]
     },
     "execution_count": 54,
     "metadata": {},
     "output_type": "execute_result"
    }
   ],
   "source": [
    "win_one = chess_sim[chess_sim[\"y\"] == 1]\n",
    "win_one['pi'].value_counts(normalize=True)"
   ]
  },
  {
   "cell_type": "code",
   "execution_count": 58,
   "id": "93e0e04d",
   "metadata": {},
   "outputs": [
    {
     "name": "stderr",
     "output_type": "stream",
     "text": [
      "/Users/tomkealy/opt/anaconda3/envs/intuitive_bayes/lib/python3.9/site-packages/plotnine/geoms/geom_rect.py:62: MatplotlibDeprecationWarning: Passing *transOffset* without *offsets* has no effect. This behavior is deprecated since 3.5 and in 3.6, *transOffset* will begin having an effect regardless of *offsets*. In the meantime, if you wish to set *transOffset*, call collection.set_offset_transform(transOffset) explicitly.\n"
     ]
    },
    {
     "data": {
      "image/png": "[encoded data removed]",
      "text/plain": [
       "<Figure size 640x480 with 1 Axes>"
      ]
     },
     "metadata": {},
     "output_type": "display_data"
    },
    {
     "data": {
      "text/plain": [
       "<ggplot: (314366067)>"
      ]
     },
     "execution_count": 58,
     "metadata": {},
     "output_type": "execute_result"
    }
   ],
   "source": [
    "from plotnine import ggplot, aes, geom_bar\n",
    "\n",
    "ggplot(win_one, aes(x = win_one[\"pi\"])) + geom_bar()"
   ]
  },
  {
   "cell_type": "code",
   "execution_count": null,
   "id": "5265d135",
   "metadata": {},
   "outputs": [],
   "source": []
  }
 ],
 "metadata": {
  "kernelspec": {
   "display_name": "intuitive_bayes",
   "language": "python",
   "name": "intuitive_bayes"
  },
  "language_info": {
   "codemirror_mode": {
    "name": "ipython",
    "version": 3
   },
   "file_extension": ".py",
   "mimetype": "text/x-python",
   "name": "python",
   "nbconvert_exporter": "python",
   "pygments_lexer": "ipython3",
   "version": "3.9.7"
  }
 },
 "nbformat": 4,
 "nbformat_minor": 5
}
